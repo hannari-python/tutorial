{
  "nbformat": 4,
  "nbformat_minor": 0,
  "metadata": {
    "colab": {
      "name": "geodata_exp.ipynb",
      "provenance": [],
      "collapsed_sections": [],
      "toc_visible": true,
      "authorship_tag": "ABX9TyMBoS4hisGMNm6F+gHoglAz",
      "include_colab_link": true
    },
    "kernelspec": {
      "name": "python3",
      "display_name": "Python 3"
    }
  },
  "cells": [
    {
      "cell_type": "markdown",
      "metadata": {
        "id": "view-in-github",
        "colab_type": "text"
      },
      "source": [
        "<a href=\"https://colab.research.google.com/github/hannari-python/tutorial/blob/master/library/geodata_exp.ipynb\" target=\"_parent\"><img src=\"https://colab.research.google.com/assets/colab-badge.svg\" alt=\"Open In Colab\"/></a>"
      ]
    },
    {
      "cell_type": "code",
      "metadata": {
        "id": "xs4odLz8A1GJ",
        "colab_type": "code",
        "colab": {
          "base_uri": "https://localhost:8080/",
          "height": 473
        },
        "outputId": "7c594b56-d8bb-4a22-d0ef-ac87b5d8841b"
      },
      "source": [
        "!pip install geopandas"
      ],
      "execution_count": 3,
      "outputs": [
        {
          "output_type": "stream",
          "text": [
            "Collecting geopandas\n",
            "\u001b[?25l  Downloading https://files.pythonhosted.org/packages/f7/a4/e66aafbefcbb717813bf3a355c8c4fc3ed04ea1dd7feb2920f2f4f868921/geopandas-0.8.1-py2.py3-none-any.whl (962kB)\n",
            "\u001b[K     |████████████████████████████████| 972kB 2.7MB/s \n",
            "\u001b[?25hRequirement already satisfied: shapely in /usr/local/lib/python3.6/dist-packages (from geopandas) (1.7.0)\n",
            "Collecting pyproj>=2.2.0\n",
            "\u001b[?25l  Downloading https://files.pythonhosted.org/packages/e5/c3/071e080230ac4b6c64f1a2e2f9161c9737a2bc7b683d2c90b024825000c0/pyproj-2.6.1.post1-cp36-cp36m-manylinux2010_x86_64.whl (10.9MB)\n",
            "\u001b[K     |████████████████████████████████| 10.9MB 16.6MB/s \n",
            "\u001b[?25hCollecting fiona\n",
            "\u001b[?25l  Downloading https://files.pythonhosted.org/packages/ec/20/4e63bc5c6e62df889297b382c3ccd4a7a488b00946aaaf81a118158c6f09/Fiona-1.8.13.post1-cp36-cp36m-manylinux1_x86_64.whl (14.7MB)\n",
            "\u001b[K     |████████████████████████████████| 14.7MB 309kB/s \n",
            "\u001b[?25hRequirement already satisfied: pandas>=0.23.0 in /usr/local/lib/python3.6/dist-packages (from geopandas) (1.0.5)\n",
            "Collecting click-plugins>=1.0\n",
            "  Downloading https://files.pythonhosted.org/packages/e9/da/824b92d9942f4e472702488857914bdd50f73021efea15b4cad9aca8ecef/click_plugins-1.1.1-py2.py3-none-any.whl\n",
            "Collecting munch\n",
            "  Downloading https://files.pythonhosted.org/packages/cc/ab/85d8da5c9a45e072301beb37ad7f833cd344e04c817d97e0cc75681d248f/munch-2.5.0-py2.py3-none-any.whl\n",
            "Requirement already satisfied: six>=1.7 in /usr/local/lib/python3.6/dist-packages (from fiona->geopandas) (1.15.0)\n",
            "Collecting cligj>=0.5\n",
            "  Downloading https://files.pythonhosted.org/packages/e4/be/30a58b4b0733850280d01f8bd132591b4668ed5c7046761098d665ac2174/cligj-0.5.0-py3-none-any.whl\n",
            "Requirement already satisfied: click<8,>=4.0 in /usr/local/lib/python3.6/dist-packages (from fiona->geopandas) (7.1.2)\n",
            "Requirement already satisfied: attrs>=17 in /usr/local/lib/python3.6/dist-packages (from fiona->geopandas) (19.3.0)\n",
            "Requirement already satisfied: numpy>=1.13.3 in /usr/local/lib/python3.6/dist-packages (from pandas>=0.23.0->geopandas) (1.18.5)\n",
            "Requirement already satisfied: python-dateutil>=2.6.1 in /usr/local/lib/python3.6/dist-packages (from pandas>=0.23.0->geopandas) (2.8.1)\n",
            "Requirement already satisfied: pytz>=2017.2 in /usr/local/lib/python3.6/dist-packages (from pandas>=0.23.0->geopandas) (2018.9)\n",
            "Installing collected packages: pyproj, click-plugins, munch, cligj, fiona, geopandas\n",
            "Successfully installed click-plugins-1.1.1 cligj-0.5.0 fiona-1.8.13.post1 geopandas-0.8.1 munch-2.5.0 pyproj-2.6.1.post1\n"
          ],
          "name": "stdout"
        }
      ]
    },
    {
      "cell_type": "markdown",
      "metadata": {
        "id": "2b_tnvE0BbSO",
        "colab_type": "text"
      },
      "source": [
        "# geodataの読み込みなどの解説\n",
        "- 経度や緯度などの情報はgeojsonファイルや、shpファイルに格納されています。\n",
        "- shpファイルは4つくらいの複数のファイルからなります。shpファイル以外も必須なので注意しましょう。\n",
        "  - cf https://github.com/hannari-python/tutorial/tree/master/data/osaka_geo\n",
        "- これらのファイルの読み込みはgeopandasのread_file関数から行えます。\n",
        "  - https://geopandas.org/\n",
        "- ここでの解説ではファイルの取得、読み込み、座標系の変換、可視化（folium）、geojsonファイルでの保存を解説します。\n",
        "- GeopandasはAnacondaを使ってインストールした方が良いようです。あとWindows環境ではそれでもうまく動作しなかったりします。バージョン1になれば解決される？＞分かりません！\n",
        "- また、Pydeckは今のところGoogle Colabでは動作しません。そのため、本チュートリアルではbinderもしくは、kaggleのノートブックを利用します。"
      ]
    },
    {
      "cell_type": "code",
      "metadata": {
        "id": "HLQVv1bIBHbZ",
        "colab_type": "code",
        "colab": {}
      },
      "source": [
        "import geopandas as gpd"
      ],
      "execution_count": 4,
      "outputs": []
    },
    {
      "cell_type": "code",
      "metadata": {
        "id": "gVvuzxqdDZ7O",
        "colab_type": "code",
        "colab": {
          "base_uri": "https://localhost:8080/",
          "height": 209
        },
        "outputId": "b73dd643-b78b-420c-dece-fcaedaef8e30"
      },
      "source": [
        "# メッシュ地図データの取得　https://data.city.osaka.lg.jp/data/dataset/data-00000065/resource/572897cc-46b7-4f3c-9262-3911cfd9a33c\n",
        "!wget https://data.city.osaka.lg.jp/upload/data-00000065/tikatyousa_2018_500m_souzokurosenka.zip"
      ],
      "execution_count": 8,
      "outputs": [
        {
          "output_type": "stream",
          "text": [
            "--2020-08-22 02:50:52--  https://data.city.osaka.lg.jp/upload/data-00000065/tikatyousa_2018_500m_souzokurosenka.zip\n",
            "Resolving data.city.osaka.lg.jp (data.city.osaka.lg.jp)... 40.74.143.152\n",
            "Connecting to data.city.osaka.lg.jp (data.city.osaka.lg.jp)|40.74.143.152|:443... connected.\n",
            "HTTP request sent, awaiting response... 200 OK\n",
            "Length: 100997 (99K) [application/zip]\n",
            "Saving to: ‘tikatyousa_2018_500m_souzokurosenka.zip.1’\n",
            "\n",
            "\r          tikatyous   0%[                    ]       0  --.-KB/s               \rtikatyousa_2018_500 100%[===================>]  98.63K  --.-KB/s    in 0.1s    \n",
            "\n",
            "2020-08-22 02:50:53 (1021 KB/s) - ‘tikatyousa_2018_500m_souzokurosenka.zip.1’ saved [100997/100997]\n",
            "\n"
          ],
          "name": "stdout"
        }
      ]
    },
    {
      "cell_type": "code",
      "metadata": {
        "id": "Ui_3JUX0DgTv",
        "colab_type": "code",
        "colab": {
          "base_uri": "https://localhost:8080/",
          "height": 139
        },
        "outputId": "e0fbb2d1-31da-4458-9469-cfce2050c0ff"
      },
      "source": [
        "# zipファイルを開く\n",
        "!unzip /content/tikatyousa_2018_500m_souzokurosenka.zip"
      ],
      "execution_count": 9,
      "outputs": [
        {
          "output_type": "stream",
          "text": [
            "Archive:  /content/tikatyousa_2018_500m_souzokurosenka.zip\n",
            "replace tikatyousa_2018_500m_souzokurosenka/tikatyousa_2018_500m_souzokurosenka.dbf? [y]es, [n]o, [A]ll, [N]one, [r]ename: n\n",
            "replace tikatyousa_2018_500m_souzokurosenka/tikatyousa_2018_500m_souzokurosenka.prj? [y]es, [n]o, [A]ll, [N]one, [r]ename: n\n",
            "replace tikatyousa_2018_500m_souzokurosenka/tikatyousa_2018_500m_souzokurosenka.sbn? [y]es, [n]o, [A]ll, [N]one, [r]ename: n\n",
            "replace tikatyousa_2018_500m_souzokurosenka/tikatyousa_2018_500m_souzokurosenka.sbx? [y]es, [n]o, [A]ll, [N]one, [r]ename: n\n",
            "replace tikatyousa_2018_500m_souzokurosenka/tikatyousa_2018_500m_souzokurosenka.shp? [y]es, [n]o, [A]ll, [N]one, [r]ename: n\n",
            "replace tikatyousa_2018_500m_souzokurosenka/tikatyousa_2018_500m_souzokurosenka.shx? [y]es, [n]o, [A]ll, [N]one, [r]ename: n\n"
          ],
          "name": "stdout"
        }
      ]
    },
    {
      "cell_type": "code",
      "metadata": {
        "id": "qbkGCeNCEqVz",
        "colab_type": "code",
        "colab": {
          "base_uri": "https://localhost:8080/",
          "height": 34
        },
        "outputId": "36e446cd-40b1-41dc-8691-7f6712047d2c"
      },
      "source": [
        "!pwd"
      ],
      "execution_count": 10,
      "outputs": [
        {
          "output_type": "stream",
          "text": [
            "/content\n"
          ],
          "name": "stdout"
        }
      ]
    },
    {
      "cell_type": "code",
      "metadata": {
        "id": "UUnV_bfaFFOg",
        "colab_type": "code",
        "colab": {
          "base_uri": "https://localhost:8080/",
          "height": 121
        },
        "outputId": "9eb1cb08-7aa2-4449-a62a-73ac6b7744cb"
      },
      "source": [
        "!ls /content/tikatyousa_2018_500m_souzokurosenka"
      ],
      "execution_count": 12,
      "outputs": [
        {
          "output_type": "stream",
          "text": [
            "tikatyousa_2018_500m_souzokurosenka.dbf\n",
            "tikatyousa_2018_500m_souzokurosenka.prj\n",
            "tikatyousa_2018_500m_souzokurosenka.sbn\n",
            "tikatyousa_2018_500m_souzokurosenka.sbx\n",
            "tikatyousa_2018_500m_souzokurosenka.shp\n",
            "tikatyousa_2018_500m_souzokurosenka.shx\n"
          ],
          "name": "stdout"
        }
      ]
    },
    {
      "cell_type": "code",
      "metadata": {
        "id": "2lxn25jqFMYJ",
        "colab_type": "code",
        "colab": {}
      },
      "source": [
        "data = gpd.read_file('/content/tikatyousa_2018_500m_souzokurosenka/tikatyousa_2018_500m_souzokurosenka.shp')"
      ],
      "execution_count": 13,
      "outputs": []
    },
    {
      "cell_type": "code",
      "metadata": {
        "id": "102CtPjQFbL_",
        "colab_type": "code",
        "colab": {
          "base_uri": "https://localhost:8080/",
          "height": 297
        },
        "outputId": "425c2880-ad16-41e7-ef96-8fdf053a6f4d"
      },
      "source": [
        "data.head()"
      ],
      "execution_count": 15,
      "outputs": [
        {
          "output_type": "execute_result",
          "data": {
            "text/html": [
              "<div>\n",
              "<style scoped>\n",
              "    .dataframe tbody tr th:only-of-type {\n",
              "        vertical-align: middle;\n",
              "    }\n",
              "\n",
              "    .dataframe tbody tr th {\n",
              "        vertical-align: top;\n",
              "    }\n",
              "\n",
              "    .dataframe thead th {\n",
              "        text-align: right;\n",
              "    }\n",
              "</style>\n",
              "<table border=\"1\" class=\"dataframe\">\n",
              "  <thead>\n",
              "    <tr style=\"text-align: right;\">\n",
              "      <th></th>\n",
              "      <th>MESH_CODE</th>\n",
              "      <th>最高路線価</th>\n",
              "      <th>最低路線価</th>\n",
              "      <th>平均路線価</th>\n",
              "      <th>平均最高路</th>\n",
              "      <th>平均最低路</th>\n",
              "      <th>全平均路線</th>\n",
              "      <th>geometry</th>\n",
              "    </tr>\n",
              "  </thead>\n",
              "  <tbody>\n",
              "    <tr>\n",
              "      <th>0</th>\n",
              "      <td>N095E040</td>\n",
              "      <td>107.0</td>\n",
              "      <td>59.0</td>\n",
              "      <td>83.0</td>\n",
              "      <td>104.0</td>\n",
              "      <td>71.0</td>\n",
              "      <td>88.0</td>\n",
              "      <td>POLYGON ((-41761.008 -136153.297, -41261.017 -...</td>\n",
              "    </tr>\n",
              "    <tr>\n",
              "      <th>1</th>\n",
              "      <td>N095E045</td>\n",
              "      <td>105.0</td>\n",
              "      <td>59.0</td>\n",
              "      <td>82.0</td>\n",
              "      <td>105.0</td>\n",
              "      <td>59.0</td>\n",
              "      <td>82.0</td>\n",
              "      <td>POLYGON ((-41261.017 -136153.290, -40761.023 -...</td>\n",
              "    </tr>\n",
              "    <tr>\n",
              "      <th>2</th>\n",
              "      <td>N090E035</td>\n",
              "      <td>108.0</td>\n",
              "      <td>61.0</td>\n",
              "      <td>85.0</td>\n",
              "      <td>103.0</td>\n",
              "      <td>66.0</td>\n",
              "      <td>84.0</td>\n",
              "      <td>POLYGON ((-42261.011 -136653.294, -41761.023 -...</td>\n",
              "    </tr>\n",
              "    <tr>\n",
              "      <th>3</th>\n",
              "      <td>N090E040</td>\n",
              "      <td>121.0</td>\n",
              "      <td>46.0</td>\n",
              "      <td>84.0</td>\n",
              "      <td>112.0</td>\n",
              "      <td>74.0</td>\n",
              "      <td>93.0</td>\n",
              "      <td>POLYGON ((-41761.023 -136653.292, -41261.031 -...</td>\n",
              "    </tr>\n",
              "    <tr>\n",
              "      <th>4</th>\n",
              "      <td>N090E045</td>\n",
              "      <td>120.0</td>\n",
              "      <td>46.0</td>\n",
              "      <td>83.0</td>\n",
              "      <td>97.0</td>\n",
              "      <td>68.0</td>\n",
              "      <td>83.0</td>\n",
              "      <td>POLYGON ((-41261.031 -136653.286, -40761.035 -...</td>\n",
              "    </tr>\n",
              "  </tbody>\n",
              "</table>\n",
              "</div>"
            ],
            "text/plain": [
              "  MESH_CODE  最高路線価  ...  全平均路線                                           geometry\n",
              "0  N095E040  107.0  ...   88.0  POLYGON ((-41761.008 -136153.297, -41261.017 -...\n",
              "1  N095E045  105.0  ...   82.0  POLYGON ((-41261.017 -136153.290, -40761.023 -...\n",
              "2  N090E035  108.0  ...   84.0  POLYGON ((-42261.011 -136653.294, -41761.023 -...\n",
              "3  N090E040  121.0  ...   93.0  POLYGON ((-41761.023 -136653.292, -41261.031 -...\n",
              "4  N090E045  120.0  ...   83.0  POLYGON ((-41261.031 -136653.286, -40761.035 -...\n",
              "\n",
              "[5 rows x 8 columns]"
            ]
          },
          "metadata": {
            "tags": []
          },
          "execution_count": 15
        }
      ]
    },
    {
      "cell_type": "markdown",
      "metadata": {
        "id": "45mMxV3fFiIG",
        "colab_type": "text"
      },
      "source": [
        "## データ解説\n",
        "- geometryのところに位置データが入っている\n",
        "- Polygonというのは複数の経度緯度により囲まれた位置データ\n",
        "- Shapelyというライブラリのオブジェクトが使われている\n",
        "  - https://shapely.readthedocs.io/en/latest/\n",
        "- Pythonで位置データを扱う場合Shapelyがよく使われているように思われます。"
      ]
    },
    {
      "cell_type": "code",
      "metadata": {
        "id": "0egp-mfLFc11",
        "colab_type": "code",
        "colab": {
          "base_uri": "https://localhost:8080/",
          "height": 321
        },
        "outputId": "2e3d3a46-684e-4772-bc6a-6b3fc89bea9a"
      },
      "source": [
        "# 500メートル四方で囲まれた位置データなので、このようにきれいな正方形になっています。\n",
        "data.loc[1, 'geometry']\n"
      ],
      "execution_count": 17,
      "outputs": [
        {
          "output_type": "execute_result",
          "data": {
            "text/plain": [
              "<shapely.geometry.polygon.Polygon at 0x7fa4075af828>"
            ],
            "image/svg+xml": "<svg xmlns=\"http://www.w3.org/2000/svg\" xmlns:xlink=\"http://www.w3.org/1999/xlink\" width=\"300\" height=\"300\" viewBox=\"-41281.03133781161 -136673.28594613165 540.0084525157436 540.0100015792123\" preserveAspectRatio=\"xMinYMin meet\"><g transform=\"matrix(1,0,0,-1,0,-272806.56189068407)\"><path fill-rule=\"evenodd\" fill=\"#66cc99\" stroke=\"#555555\" stroke-width=\"3.6000666771947483\" opacity=\"0.6\" d=\"M -41261.016855612914,-136153.2895493884 L -40761.02325572473,-136153.2763149813 L -40761.03456268809,-136653.27335438898 L -41261.03096738275,-136653.2855757028 L -41261.016855612914,-136153.2895493884 z\" /></g></svg>"
          },
          "metadata": {
            "tags": []
          },
          "execution_count": 17
        }
      ]
    },
    {
      "cell_type": "code",
      "metadata": {
        "id": "PH8yhtLOGR9c",
        "colab_type": "code",
        "colab": {
          "base_uri": "https://localhost:8080/",
          "height": 53
        },
        "outputId": "c67d3833-d0cb-45ec-adc7-32d12fc2f916"
      },
      "source": [
        "# 形でなく、データを見たい場合、strで見れます\n",
        "str(data.loc[1, 'geometry'])"
      ],
      "execution_count": 19,
      "outputs": [
        {
          "output_type": "execute_result",
          "data": {
            "application/vnd.google.colaboratory.intrinsic+json": {
              "type": "string"
            },
            "text/plain": [
              "'POLYGON ((-41261.01685561291 -136153.2895493884, -40761.02325572473 -136153.2763149813, -40761.03456268809 -136653.273354389, -41261.03096738275 -136653.2855757028, -41261.01685561291 -136153.2895493884))'"
            ]
          },
          "metadata": {
            "tags": []
          },
          "execution_count": 19
        }
      ]
    },
    {
      "cell_type": "code",
      "metadata": {
        "id": "Vmc1BlOcGghm",
        "colab_type": "code",
        "colab": {
          "base_uri": "https://localhost:8080/",
          "height": 601
        },
        "outputId": "b7407e71-0a0a-41ac-e916-270d70558b52"
      },
      "source": [
        "import folium \n",
        "\n",
        "data_fc = data.loc[1, 'geometry'].centroid # 指定の場所の中央のデータを取得\n",
        "m = folium.Map([data_fc.y, data_fc.x], zoom_start=5)\n",
        "folium.GeoJson(data.loc[1, 'geometry']).add_to(m)\n",
        "m"
      ],
      "execution_count": 35,
      "outputs": [
        {
          "output_type": "execute_result",
          "data": {
            "text/html": [
              "<div style=\"width:100%;\"><div style=\"position:relative;width:100%;height:0;padding-bottom:60%;\"><span style=\"color:#565656\">Make this Notebook Trusted to load map: File -> Trust Notebook</span><iframe src=\"about:blank\" style=\"position:absolute;width:100%;height:100%;left:0;top:0;border:none !important;\" data-html=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 onload=\"this.contentDocument.open();this.contentDocument.write(atob(this.getAttribute('data-html')));this.contentDocument.close();\" allowfullscreen webkitallowfullscreen mozallowfullscreen></iframe></div></div>"
            ],
            "text/plain": [
              "<folium.folium.Map at 0x7fa406420f98>"
            ]
          },
          "metadata": {
            "tags": []
          },
          "execution_count": 35
        }
      ]
    },
    {
      "cell_type": "markdown",
      "metadata": {
        "id": "ui0K9T3uGwqN",
        "colab_type": "text"
      },
      "source": [
        "## これってよく見る経度緯度ではないので地図が出ない！！！\n",
        "- そうです。その通りです。違うのです"
      ]
    },
    {
      "cell_type": "code",
      "metadata": {
        "id": "OyC_Q_8mG30W",
        "colab_type": "code",
        "colab": {
          "base_uri": "https://localhost:8080/",
          "height": 261
        },
        "outputId": "d3f147c9-2997-4b3c-e2cd-a00ea69fd739"
      },
      "source": [
        "# crs属性で確認できる\n",
        "data.crs"
      ],
      "execution_count": 21,
      "outputs": [
        {
          "output_type": "execute_result",
          "data": {
            "text/plain": [
              "<Projected CRS: EPSG:2448>\n",
              "Name: JGD2000 / Japan Plane Rectangular CS VI\n",
              "Axis Info [cartesian]:\n",
              "- X[north]: Northing (metre)\n",
              "- Y[east]: Easting (metre)\n",
              "Area of Use:\n",
              "- name: Japan - zone VI\n",
              "- bounds: (134.86, 33.4, 136.99, 36.33)\n",
              "Coordinate Operation:\n",
              "- name: Japan Plane Rectangular CS zone VI\n",
              "- method: Transverse Mercator\n",
              "Datum: Japanese Geodetic Datum 2000\n",
              "- Ellipsoid: GRS 1980\n",
              "- Prime Meridian: Greenwich"
            ]
          },
          "metadata": {
            "tags": []
          },
          "execution_count": 21
        }
      ]
    },
    {
      "cell_type": "markdown",
      "metadata": {
        "id": "PXFGVmjxG93b",
        "colab_type": "text"
      },
      "source": [
        "# 我々が良く知るやつはEPSG:4326ってやつです\n",
        "- 座標系は to_crsメソッド変更できるのでやってみます。\n",
        "- pyprojというやつがいろいろこの辺をやってくれるようです\n",
        "   - https://pyproj4.github.io/pyproj/stable/"
      ]
    },
    {
      "cell_type": "code",
      "metadata": {
        "id": "1tw4EMRQG4-n",
        "colab_type": "code",
        "colab": {
          "base_uri": "https://localhost:8080/",
          "height": 588
        },
        "outputId": "1ec7302d-017a-4048-c885-a11be27011e4"
      },
      "source": [
        "data.to_crs('epsg:4326')"
      ],
      "execution_count": 24,
      "outputs": [
        {
          "output_type": "execute_result",
          "data": {
            "text/html": [
              "<div>\n",
              "<style scoped>\n",
              "    .dataframe tbody tr th:only-of-type {\n",
              "        vertical-align: middle;\n",
              "    }\n",
              "\n",
              "    .dataframe tbody tr th {\n",
              "        vertical-align: top;\n",
              "    }\n",
              "\n",
              "    .dataframe thead th {\n",
              "        text-align: right;\n",
              "    }\n",
              "</style>\n",
              "<table border=\"1\" class=\"dataframe\">\n",
              "  <thead>\n",
              "    <tr style=\"text-align: right;\">\n",
              "      <th></th>\n",
              "      <th>MESH_CODE</th>\n",
              "      <th>最高路線価</th>\n",
              "      <th>最低路線価</th>\n",
              "      <th>平均路線価</th>\n",
              "      <th>平均最高路</th>\n",
              "      <th>平均最低路</th>\n",
              "      <th>全平均路線</th>\n",
              "      <th>geometry</th>\n",
              "    </tr>\n",
              "  </thead>\n",
              "  <tbody>\n",
              "    <tr>\n",
              "      <th>0</th>\n",
              "      <td>N095E040</td>\n",
              "      <td>107.0</td>\n",
              "      <td>59.0</td>\n",
              "      <td>83.0</td>\n",
              "      <td>104.0</td>\n",
              "      <td>71.0</td>\n",
              "      <td>88.0</td>\n",
              "      <td>POLYGON ((135.54376 34.77184, 135.54922 34.771...</td>\n",
              "    </tr>\n",
              "    <tr>\n",
              "      <th>1</th>\n",
              "      <td>N095E045</td>\n",
              "      <td>105.0</td>\n",
              "      <td>59.0</td>\n",
              "      <td>82.0</td>\n",
              "      <td>105.0</td>\n",
              "      <td>59.0</td>\n",
              "      <td>82.0</td>\n",
              "      <td>POLYGON ((135.54922 34.77186, 135.55468 34.771...</td>\n",
              "    </tr>\n",
              "    <tr>\n",
              "      <th>2</th>\n",
              "      <td>N090E035</td>\n",
              "      <td>108.0</td>\n",
              "      <td>61.0</td>\n",
              "      <td>85.0</td>\n",
              "      <td>103.0</td>\n",
              "      <td>66.0</td>\n",
              "      <td>84.0</td>\n",
              "      <td>POLYGON ((135.53832 34.76731, 135.54378 34.767...</td>\n",
              "    </tr>\n",
              "    <tr>\n",
              "      <th>3</th>\n",
              "      <td>N090E040</td>\n",
              "      <td>121.0</td>\n",
              "      <td>46.0</td>\n",
              "      <td>84.0</td>\n",
              "      <td>112.0</td>\n",
              "      <td>74.0</td>\n",
              "      <td>93.0</td>\n",
              "      <td>POLYGON ((135.54378 34.76733, 135.54924 34.767...</td>\n",
              "    </tr>\n",
              "    <tr>\n",
              "      <th>4</th>\n",
              "      <td>N090E045</td>\n",
              "      <td>120.0</td>\n",
              "      <td>46.0</td>\n",
              "      <td>83.0</td>\n",
              "      <td>97.0</td>\n",
              "      <td>68.0</td>\n",
              "      <td>83.0</td>\n",
              "      <td>POLYGON ((135.54924 34.76735, 135.55470 34.767...</td>\n",
              "    </tr>\n",
              "    <tr>\n",
              "      <th>...</th>\n",
              "      <td>...</td>\n",
              "      <td>...</td>\n",
              "      <td>...</td>\n",
              "      <td>...</td>\n",
              "      <td>...</td>\n",
              "      <td>...</td>\n",
              "      <td>...</td>\n",
              "      <td>...</td>\n",
              "    </tr>\n",
              "    <tr>\n",
              "      <th>1931</th>\n",
              "      <td>S120E070</td>\n",
              "      <td>0.0</td>\n",
              "      <td>0.0</td>\n",
              "      <td>0.0</td>\n",
              "      <td>0.0</td>\n",
              "      <td>0.0</td>\n",
              "      <td>0.0</td>\n",
              "      <td>POLYGON ((135.57749 34.58264, 135.58294 34.582...</td>\n",
              "    </tr>\n",
              "    <tr>\n",
              "      <th>1932</th>\n",
              "      <td>S120E075</td>\n",
              "      <td>0.0</td>\n",
              "      <td>0.0</td>\n",
              "      <td>0.0</td>\n",
              "      <td>0.0</td>\n",
              "      <td>0.0</td>\n",
              "      <td>0.0</td>\n",
              "      <td>POLYGON ((135.58294 34.58266, 135.58839 34.582...</td>\n",
              "    </tr>\n",
              "    <tr>\n",
              "      <th>1933</th>\n",
              "      <td>S120E080</td>\n",
              "      <td>0.0</td>\n",
              "      <td>0.0</td>\n",
              "      <td>0.0</td>\n",
              "      <td>0.0</td>\n",
              "      <td>0.0</td>\n",
              "      <td>0.0</td>\n",
              "      <td>POLYGON ((135.58839 34.58268, 135.59384 34.582...</td>\n",
              "    </tr>\n",
              "    <tr>\n",
              "      <th>1934</th>\n",
              "      <td>S120E085</td>\n",
              "      <td>0.0</td>\n",
              "      <td>0.0</td>\n",
              "      <td>0.0</td>\n",
              "      <td>0.0</td>\n",
              "      <td>0.0</td>\n",
              "      <td>0.0</td>\n",
              "      <td>POLYGON ((135.59384 34.58270, 135.59929 34.582...</td>\n",
              "    </tr>\n",
              "    <tr>\n",
              "      <th>1935</th>\n",
              "      <td>S120E090</td>\n",
              "      <td>0.0</td>\n",
              "      <td>0.0</td>\n",
              "      <td>0.0</td>\n",
              "      <td>0.0</td>\n",
              "      <td>0.0</td>\n",
              "      <td>0.0</td>\n",
              "      <td>POLYGON ((135.59929 34.58272, 135.60474 34.582...</td>\n",
              "    </tr>\n",
              "  </tbody>\n",
              "</table>\n",
              "<p>1936 rows × 8 columns</p>\n",
              "</div>"
            ],
            "text/plain": [
              "     MESH_CODE  最高路線価  ...  全平均路線                                           geometry\n",
              "0     N095E040  107.0  ...   88.0  POLYGON ((135.54376 34.77184, 135.54922 34.771...\n",
              "1     N095E045  105.0  ...   82.0  POLYGON ((135.54922 34.77186, 135.55468 34.771...\n",
              "2     N090E035  108.0  ...   84.0  POLYGON ((135.53832 34.76731, 135.54378 34.767...\n",
              "3     N090E040  121.0  ...   93.0  POLYGON ((135.54378 34.76733, 135.54924 34.767...\n",
              "4     N090E045  120.0  ...   83.0  POLYGON ((135.54924 34.76735, 135.55470 34.767...\n",
              "...        ...    ...  ...    ...                                                ...\n",
              "1931  S120E070    0.0  ...    0.0  POLYGON ((135.57749 34.58264, 135.58294 34.582...\n",
              "1932  S120E075    0.0  ...    0.0  POLYGON ((135.58294 34.58266, 135.58839 34.582...\n",
              "1933  S120E080    0.0  ...    0.0  POLYGON ((135.58839 34.58268, 135.59384 34.582...\n",
              "1934  S120E085    0.0  ...    0.0  POLYGON ((135.59384 34.58270, 135.59929 34.582...\n",
              "1935  S120E090    0.0  ...    0.0  POLYGON ((135.59929 34.58272, 135.60474 34.582...\n",
              "\n",
              "[1936 rows x 8 columns]"
            ]
          },
          "metadata": {
            "tags": []
          },
          "execution_count": 24
        }
      ]
    },
    {
      "cell_type": "code",
      "metadata": {
        "id": "R-Lcmd_GH-H_",
        "colab_type": "code",
        "colab": {}
      },
      "source": [
        "import folium"
      ],
      "execution_count": 25,
      "outputs": []
    },
    {
      "cell_type": "code",
      "metadata": {
        "id": "PmdtsMJaIooF",
        "colab_type": "code",
        "colab": {
          "base_uri": "https://localhost:8080/",
          "height": 601
        },
        "outputId": "46a7f627-6414-4f84-95d4-46c1bd62fb0d"
      },
      "source": [
        "data_changed = data.to_crs('epsg:4326')\n",
        "data_changed_fc = data_changed.loc[1, 'geometry'].centroid\n",
        "m = folium.Map([data_changed_fc.y, data_changed_fc.x], zoom_start=15)\n",
        "folium.GeoJson(data_changed.loc[1, 'geometry']).add_to(m)\n",
        "m"
      ],
      "execution_count": 31,
      "outputs": [
        {
          "output_type": "execute_result",
          "data": {
            "text/html": [
              "<div style=\"width:100%;\"><div style=\"position:relative;width:100%;height:0;padding-bottom:60%;\"><span style=\"color:#565656\">Make this Notebook Trusted to load map: File -> Trust Notebook</span><iframe src=\"about:blank\" style=\"position:absolute;width:100%;height:100%;left:0;top:0;border:none !important;\" data-html=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 onload=\"this.contentDocument.open();this.contentDocument.write(atob(this.getAttribute('data-html')));this.contentDocument.close();\" allowfullscreen webkitallowfullscreen mozallowfullscreen></iframe></div></div>"
            ],
            "text/plain": [
              "<folium.folium.Map at 0x7fa4063d7b00>"
            ]
          },
          "metadata": {
            "tags": []
          },
          "execution_count": 31
        }
      ]
    },
    {
      "cell_type": "code",
      "metadata": {
        "id": "WI6KsiawM15b",
        "colab_type": "code",
        "colab": {
          "base_uri": "https://localhost:8080/",
          "height": 282
        },
        "outputId": "97a49f29-4c7c-4fcb-fa60-d1f63d9604f0"
      },
      "source": [
        "# データをそのままmatplotlibで可視化することも\n",
        "\n",
        "data_changed.plot()"
      ],
      "execution_count": 41,
      "outputs": [
        {
          "output_type": "execute_result",
          "data": {
            "text/plain": [
              "<matplotlib.axes._subplots.AxesSubplot at 0x7fa406357e48>"
            ]
          },
          "metadata": {
            "tags": []
          },
          "execution_count": 41
        },
        {
          "output_type": "display_data",
          "data": {
            "image/png": "[encoded data removed]",
            "text/plain": [
              "<Figure size 432x288 with 1 Axes>"
            ]
          },
          "metadata": {
            "tags": [],
            "needs_background": "light"
          }
        }
      ]
    },
    {
      "cell_type": "markdown",
      "metadata": {
        "id": "IZydaS5pRXme",
        "colab_type": "text"
      },
      "source": [
        "## ファイルをgeojsonで保存します\n",
        "- 4つもファイル抱えるの嫌・・・"
      ]
    },
    {
      "cell_type": "code",
      "metadata": {
        "id": "dZb2ev0gN1_d",
        "colab_type": "code",
        "colab": {}
      },
      "source": [
        "osaka_json = data_changed.to_json()\n",
        "with open('osaka_geo.json', 'w') as j:\n",
        "  j.write(osaka_json)"
      ],
      "execution_count": 44,
      "outputs": []
    },
    {
      "cell_type": "code",
      "metadata": {
        "id": "Uc6f1lpkPaDF",
        "colab_type": "code",
        "colab": {
          "base_uri": "https://localhost:8080/",
          "height": 588
        },
        "outputId": "28793f4a-02db-4b9a-b1e5-e35acbb8b069"
      },
      "source": [
        "gpd.read_file('/content/osaka_geo.json')"
      ],
      "execution_count": 45,
      "outputs": [
        {
          "output_type": "execute_result",
          "data": {
            "text/html": [
              "<div>\n",
              "<style scoped>\n",
              "    .dataframe tbody tr th:only-of-type {\n",
              "        vertical-align: middle;\n",
              "    }\n",
              "\n",
              "    .dataframe tbody tr th {\n",
              "        vertical-align: top;\n",
              "    }\n",
              "\n",
              "    .dataframe thead th {\n",
              "        text-align: right;\n",
              "    }\n",
              "</style>\n",
              "<table border=\"1\" class=\"dataframe\">\n",
              "  <thead>\n",
              "    <tr style=\"text-align: right;\">\n",
              "      <th></th>\n",
              "      <th>id</th>\n",
              "      <th>MESH_CODE</th>\n",
              "      <th>全平均路線</th>\n",
              "      <th>平均最低路</th>\n",
              "      <th>平均最高路</th>\n",
              "      <th>平均路線価</th>\n",
              "      <th>最低路線価</th>\n",
              "      <th>最高路線価</th>\n",
              "      <th>geometry</th>\n",
              "    </tr>\n",
              "  </thead>\n",
              "  <tbody>\n",
              "    <tr>\n",
              "      <th>0</th>\n",
              "      <td>0</td>\n",
              "      <td>N095E040</td>\n",
              "      <td>88.0</td>\n",
              "      <td>71.0</td>\n",
              "      <td>104.0</td>\n",
              "      <td>83.0</td>\n",
              "      <td>59.0</td>\n",
              "      <td>107.0</td>\n",
              "      <td>POLYGON ((135.54376 34.77184, 135.54922 34.771...</td>\n",
              "    </tr>\n",
              "    <tr>\n",
              "      <th>1</th>\n",
              "      <td>1</td>\n",
              "      <td>N095E045</td>\n",
              "      <td>82.0</td>\n",
              "      <td>59.0</td>\n",
              "      <td>105.0</td>\n",
              "      <td>82.0</td>\n",
              "      <td>59.0</td>\n",
              "      <td>105.0</td>\n",
              "      <td>POLYGON ((135.54922 34.77186, 135.55468 34.771...</td>\n",
              "    </tr>\n",
              "    <tr>\n",
              "      <th>2</th>\n",
              "      <td>2</td>\n",
              "      <td>N090E035</td>\n",
              "      <td>84.0</td>\n",
              "      <td>66.0</td>\n",
              "      <td>103.0</td>\n",
              "      <td>85.0</td>\n",
              "      <td>61.0</td>\n",
              "      <td>108.0</td>\n",
              "      <td>POLYGON ((135.53832 34.76731, 135.54378 34.767...</td>\n",
              "    </tr>\n",
              "    <tr>\n",
              "      <th>3</th>\n",
              "      <td>3</td>\n",
              "      <td>N090E040</td>\n",
              "      <td>93.0</td>\n",
              "      <td>74.0</td>\n",
              "      <td>112.0</td>\n",
              "      <td>84.0</td>\n",
              "      <td>46.0</td>\n",
              "      <td>121.0</td>\n",
              "      <td>POLYGON ((135.54378 34.76733, 135.54924 34.767...</td>\n",
              "    </tr>\n",
              "    <tr>\n",
              "      <th>4</th>\n",
              "      <td>4</td>\n",
              "      <td>N090E045</td>\n",
              "      <td>83.0</td>\n",
              "      <td>68.0</td>\n",
              "      <td>97.0</td>\n",
              "      <td>83.0</td>\n",
              "      <td>46.0</td>\n",
              "      <td>120.0</td>\n",
              "      <td>POLYGON ((135.54924 34.76735, 135.55470 34.767...</td>\n",
              "    </tr>\n",
              "    <tr>\n",
              "      <th>...</th>\n",
              "      <td>...</td>\n",
              "      <td>...</td>\n",
              "      <td>...</td>\n",
              "      <td>...</td>\n",
              "      <td>...</td>\n",
              "      <td>...</td>\n",
              "      <td>...</td>\n",
              "      <td>...</td>\n",
              "      <td>...</td>\n",
              "    </tr>\n",
              "    <tr>\n",
              "      <th>1931</th>\n",
              "      <td>1931</td>\n",
              "      <td>S120E070</td>\n",
              "      <td>0.0</td>\n",
              "      <td>0.0</td>\n",
              "      <td>0.0</td>\n",
              "      <td>0.0</td>\n",
              "      <td>0.0</td>\n",
              "      <td>0.0</td>\n",
              "      <td>POLYGON ((135.57749 34.58264, 135.58294 34.582...</td>\n",
              "    </tr>\n",
              "    <tr>\n",
              "      <th>1932</th>\n",
              "      <td>1932</td>\n",
              "      <td>S120E075</td>\n",
              "      <td>0.0</td>\n",
              "      <td>0.0</td>\n",
              "      <td>0.0</td>\n",
              "      <td>0.0</td>\n",
              "      <td>0.0</td>\n",
              "      <td>0.0</td>\n",
              "      <td>POLYGON ((135.58294 34.58266, 135.58839 34.582...</td>\n",
              "    </tr>\n",
              "    <tr>\n",
              "      <th>1933</th>\n",
              "      <td>1933</td>\n",
              "      <td>S120E080</td>\n",
              "      <td>0.0</td>\n",
              "      <td>0.0</td>\n",
              "      <td>0.0</td>\n",
              "      <td>0.0</td>\n",
              "      <td>0.0</td>\n",
              "      <td>0.0</td>\n",
              "      <td>POLYGON ((135.58839 34.58268, 135.59384 34.582...</td>\n",
              "    </tr>\n",
              "    <tr>\n",
              "      <th>1934</th>\n",
              "      <td>1934</td>\n",
              "      <td>S120E085</td>\n",
              "      <td>0.0</td>\n",
              "      <td>0.0</td>\n",
              "      <td>0.0</td>\n",
              "      <td>0.0</td>\n",
              "      <td>0.0</td>\n",
              "      <td>0.0</td>\n",
              "      <td>POLYGON ((135.59384 34.58270, 135.59929 34.582...</td>\n",
              "    </tr>\n",
              "    <tr>\n",
              "      <th>1935</th>\n",
              "      <td>1935</td>\n",
              "      <td>S120E090</td>\n",
              "      <td>0.0</td>\n",
              "      <td>0.0</td>\n",
              "      <td>0.0</td>\n",
              "      <td>0.0</td>\n",
              "      <td>0.0</td>\n",
              "      <td>0.0</td>\n",
              "      <td>POLYGON ((135.59929 34.58272, 135.60474 34.582...</td>\n",
              "    </tr>\n",
              "  </tbody>\n",
              "</table>\n",
              "<p>1936 rows × 9 columns</p>\n",
              "</div>"
            ],
            "text/plain": [
              "        id MESH_CODE  ...  最高路線価                                           geometry\n",
              "0        0  N095E040  ...  107.0  POLYGON ((135.54376 34.77184, 135.54922 34.771...\n",
              "1        1  N095E045  ...  105.0  POLYGON ((135.54922 34.77186, 135.55468 34.771...\n",
              "2        2  N090E035  ...  108.0  POLYGON ((135.53832 34.76731, 135.54378 34.767...\n",
              "3        3  N090E040  ...  121.0  POLYGON ((135.54378 34.76733, 135.54924 34.767...\n",
              "4        4  N090E045  ...  120.0  POLYGON ((135.54924 34.76735, 135.55470 34.767...\n",
              "...    ...       ...  ...    ...                                                ...\n",
              "1931  1931  S120E070  ...    0.0  POLYGON ((135.57749 34.58264, 135.58294 34.582...\n",
              "1932  1932  S120E075  ...    0.0  POLYGON ((135.58294 34.58266, 135.58839 34.582...\n",
              "1933  1933  S120E080  ...    0.0  POLYGON ((135.58839 34.58268, 135.59384 34.582...\n",
              "1934  1934  S120E085  ...    0.0  POLYGON ((135.59384 34.58270, 135.59929 34.582...\n",
              "1935  1935  S120E090  ...    0.0  POLYGON ((135.59929 34.58272, 135.60474 34.582...\n",
              "\n",
              "[1936 rows x 9 columns]"
            ]
          },
          "metadata": {
            "tags": []
          },
          "execution_count": 45
        }
      ]
    },
    {
      "cell_type": "code",
      "metadata": {
        "id": "jWmmTp5IRTeu",
        "colab_type": "code",
        "colab": {}
      },
      "source": [
        ""
      ],
      "execution_count": null,
      "outputs": []
    }
  ]
}