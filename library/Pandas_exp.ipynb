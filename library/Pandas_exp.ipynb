{
  "nbformat": 4,
  "nbformat_minor": 0,
  "metadata": {
    "colab": {
      "name": "Pandas_exp.ipynb のコピー",
      "provenance": [],
      "collapsed_sections": [],
      "authorship_tag": "ABX9TyOCm2DnkIO4y5vZSG7mb2sR",
      "include_colab_link": true
    },
    "kernelspec": {
      "name": "python3",
      "display_name": "Python 3"
    }
  },
  "cells": [
    {
      "cell_type": "markdown",
      "metadata": {
        "id": "view-in-github",
        "colab_type": "text"
      },
      "source": [
        "<a href=\"https://colab.research.google.com/github/hannari-python/tutorial/blob/master/library/Pandas_exp.ipynb\" target=\"_parent\"><img src=\"https://colab.research.google.com/assets/colab-badge.svg\" alt=\"Open In Colab\"/></a>"
      ]
    },
    {
      "cell_type": "markdown",
      "metadata": {
        "id": "fgkZ-V0FzrAw",
        "colab_type": "text"
      },
      "source": [
        "## Pandas \n",
        "\n",
        "- Pandasは表データの読み込み・書き込み・加工を行うパッケージです。\n",
        "- このノートでは次の順番でPandasの基本的な使い方を解説します。\n",
        "  - データ構造    \n",
        "    - Series\n",
        "    - DataFrame\n",
        "  - データ操作\n",
        "    - loc属性\n",
        "    - iloc属性\n",
        "    - 名称\n",
        "  - データの更新追加    \n",
        "    - 更新\n",
        "    - 追加"
      ]
    },
    {
      "cell_type": "code",
      "metadata": {
        "id": "ZokvYWkQ1L76",
        "colab_type": "code",
        "colab": {}
      },
      "source": [
        "import pandas as pd"
      ],
      "execution_count": null,
      "outputs": []
    },
    {
      "cell_type": "markdown",
      "metadata": {
        "id": "6IaLXzxU1d0t",
        "colab_type": "text"
      },
      "source": [
        "# データ構造\n",
        "## Series\n",
        "- Seriesは行ラベル付きの1次元のデータです。行ラベルはデータの左横に表示されます。行ラベルはindex属性、値はvalues属性となります。"
      ]
    },
    {
      "cell_type": "code",
      "metadata": {
        "id": "7JjPuGq21TTq",
        "colab_type": "code",
        "colab": {}
      },
      "source": [
        "label = ['a', 'b', 'c', 'd', 'e']\n",
        "data = [1, 2, 3, 4, 5]\n",
        "s = pd.Series(data, index=label)"
      ],
      "execution_count": null,
      "outputs": []
    },
    {
      "cell_type": "code",
      "metadata": {
        "id": "t_-6NSRW1WbR",
        "colab_type": "code",
        "colab": {
          "base_uri": "https://localhost:8080/",
          "height": 122
        },
        "outputId": "160b2e29-9b54-4b72-9468-22b0da576ae6"
      },
      "source": [
        "s"
      ],
      "execution_count": null,
      "outputs": [
        {
          "output_type": "execute_result",
          "data": {
            "text/plain": [
              "a    1\n",
              "b    2\n",
              "c    3\n",
              "d    4\n",
              "e    5\n",
              "dtype: int64"
            ]
          },
          "metadata": {
            "tags": []
          },
          "execution_count": 3
        }
      ]
    },
    {
      "cell_type": "code",
      "metadata": {
        "id": "XKF--apY1XF5",
        "colab_type": "code",
        "colab": {
          "base_uri": "https://localhost:8080/",
          "height": 34
        },
        "outputId": "6c3a1338-7898-4031-a281-9342ca3c7804"
      },
      "source": [
        "s.index"
      ],
      "execution_count": null,
      "outputs": [
        {
          "output_type": "execute_result",
          "data": {
            "text/plain": [
              "Index(['a', 'b', 'c', 'd', 'e'], dtype='object')"
            ]
          },
          "metadata": {
            "tags": []
          },
          "execution_count": 4
        }
      ]
    },
    {
      "cell_type": "code",
      "metadata": {
        "id": "WkWfayEU1koq",
        "colab_type": "code",
        "colab": {
          "base_uri": "https://localhost:8080/",
          "height": 34
        },
        "outputId": "87575753-442c-49ad-922d-e46591e6f7e2"
      },
      "source": [
        "s.values"
      ],
      "execution_count": null,
      "outputs": [
        {
          "output_type": "execute_result",
          "data": {
            "text/plain": [
              "array([1, 2, 3, 4, 5])"
            ]
          },
          "metadata": {
            "tags": []
          },
          "execution_count": 5
        }
      ]
    },
    {
      "cell_type": "markdown",
      "metadata": {
        "id": "k2AOlXhn1qri",
        "colab_type": "text"
      },
      "source": [
        "## DataFrame\n",
        "- DataFrameはラベル付きの2次元のデータです。表示するとデータフレームの左横に行ラベル、上側に列ラベルが付きます。左横の行ラベルはindex属性、上側の列ラベルはcolumns属性、値はvalues属性となります。"
      ]
    },
    {
      "cell_type": "code",
      "metadata": {
        "id": "mPOmznFb1lxD",
        "colab_type": "code",
        "colab": {}
      },
      "source": [
        "data = {\n",
        "'col1': [1,2,3,4,5],\n",
        "'col2': [2,3,4,5,6],\n",
        "'col3': [3,4,5,6,7]\n",
        "}\n",
        "index_name = ['zero', 'one', 'two', 'three', 'four']\n",
        "df = pd.DataFrame(data, index=index_name)"
      ],
      "execution_count": null,
      "outputs": []
    },
    {
      "cell_type": "code",
      "metadata": {
        "id": "dL0DOQOM1urg",
        "colab_type": "code",
        "colab": {
          "base_uri": "https://localhost:8080/",
          "height": 195
        },
        "outputId": "7d7acee6-bfb2-47d8-a94a-1997a74e6fa0"
      },
      "source": [
        "df"
      ],
      "execution_count": null,
      "outputs": [
        {
          "output_type": "execute_result",
          "data": {
            "text/html": [
              "<div>\n",
              "<style scoped>\n",
              "    .dataframe tbody tr th:only-of-type {\n",
              "        vertical-align: middle;\n",
              "    }\n",
              "\n",
              "    .dataframe tbody tr th {\n",
              "        vertical-align: top;\n",
              "    }\n",
              "\n",
              "    .dataframe thead th {\n",
              "        text-align: right;\n",
              "    }\n",
              "</style>\n",
              "<table border=\"1\" class=\"dataframe\">\n",
              "  <thead>\n",
              "    <tr style=\"text-align: right;\">\n",
              "      <th></th>\n",
              "      <th>col1</th>\n",
              "      <th>col2</th>\n",
              "      <th>col3</th>\n",
              "    </tr>\n",
              "  </thead>\n",
              "  <tbody>\n",
              "    <tr>\n",
              "      <th>zero</th>\n",
              "      <td>1</td>\n",
              "      <td>2</td>\n",
              "      <td>3</td>\n",
              "    </tr>\n",
              "    <tr>\n",
              "      <th>one</th>\n",
              "      <td>2</td>\n",
              "      <td>3</td>\n",
              "      <td>4</td>\n",
              "    </tr>\n",
              "    <tr>\n",
              "      <th>two</th>\n",
              "      <td>3</td>\n",
              "      <td>4</td>\n",
              "      <td>5</td>\n",
              "    </tr>\n",
              "    <tr>\n",
              "      <th>three</th>\n",
              "      <td>4</td>\n",
              "      <td>5</td>\n",
              "      <td>6</td>\n",
              "    </tr>\n",
              "    <tr>\n",
              "      <th>four</th>\n",
              "      <td>5</td>\n",
              "      <td>6</td>\n",
              "      <td>7</td>\n",
              "    </tr>\n",
              "  </tbody>\n",
              "</table>\n",
              "</div>"
            ],
            "text/plain": [
              "       col1  col2  col3\n",
              "zero      1     2     3\n",
              "one       2     3     4\n",
              "two       3     4     5\n",
              "three     4     5     6\n",
              "four      5     6     7"
            ]
          },
          "metadata": {
            "tags": []
          },
          "execution_count": 7
        }
      ]
    },
    {
      "cell_type": "code",
      "metadata": {
        "id": "r6Xtolcj1vUJ",
        "colab_type": "code",
        "colab": {
          "base_uri": "https://localhost:8080/",
          "height": 34
        },
        "outputId": "b8385619-f0a9-4a3f-8a23-38ca4cac63bd"
      },
      "source": [
        "df.index"
      ],
      "execution_count": null,
      "outputs": [
        {
          "output_type": "execute_result",
          "data": {
            "text/plain": [
              "Index(['zero', 'one', 'two', 'three', 'four'], dtype='object')"
            ]
          },
          "metadata": {
            "tags": []
          },
          "execution_count": 8
        }
      ]
    },
    {
      "cell_type": "code",
      "metadata": {
        "id": "U01yJ2YT1wzJ",
        "colab_type": "code",
        "colab": {
          "base_uri": "https://localhost:8080/",
          "height": 34
        },
        "outputId": "62797fde-bd46-408f-f576-53504084a457"
      },
      "source": [
        "df.columns"
      ],
      "execution_count": null,
      "outputs": [
        {
          "output_type": "execute_result",
          "data": {
            "text/plain": [
              "Index(['col1', 'col2', 'col3'], dtype='object')"
            ]
          },
          "metadata": {
            "tags": []
          },
          "execution_count": 9
        }
      ]
    },
    {
      "cell_type": "code",
      "metadata": {
        "id": "y_XsYRP_1xwI",
        "colab_type": "code",
        "colab": {
          "base_uri": "https://localhost:8080/",
          "height": 105
        },
        "outputId": "afbfe9ea-e1bd-4c83-df2c-03f52d4fa882"
      },
      "source": [
        "df.values"
      ],
      "execution_count": null,
      "outputs": [
        {
          "output_type": "execute_result",
          "data": {
            "text/plain": [
              "array([[1, 2, 3],\n",
              "       [2, 3, 4],\n",
              "       [3, 4, 5],\n",
              "       [4, 5, 6],\n",
              "       [5, 6, 7]])"
            ]
          },
          "metadata": {
            "tags": []
          },
          "execution_count": 10
        }
      ]
    },
    {
      "cell_type": "markdown",
      "metadata": {
        "id": "6cPs9ECX2RJC",
        "colab_type": "text"
      },
      "source": [
        "# データ操作\n",
        "## loc属性\n",
        "- loc属性を用いると、ラベル名でデータを選択できます。"
      ]
    },
    {
      "cell_type": "code",
      "metadata": {
        "id": "yXCV-7Zf1ypO",
        "colab_type": "code",
        "colab": {
          "base_uri": "https://localhost:8080/",
          "height": 35
        },
        "outputId": "b4093d7b-f725-4fb2-81b4-6645fb1d27b7"
      },
      "source": [
        "# 1つのセルの選択\n",
        "df.loc['one', 'col1']"
      ],
      "execution_count": null,
      "outputs": [
        {
          "output_type": "execute_result",
          "data": {
            "text/plain": [
              "2"
            ]
          },
          "metadata": {
            "tags": []
          },
          "execution_count": 11
        }
      ]
    },
    {
      "cell_type": "code",
      "metadata": {
        "id": "sbVmgOoq2PA9",
        "colab_type": "code",
        "colab": {
          "base_uri": "https://localhost:8080/",
          "height": 136
        },
        "outputId": "20171097-c584-4ea0-ad02-224c5228f015"
      },
      "source": [
        "# 連続したセルの選択\n",
        "df.loc['one': 'three', :]"
      ],
      "execution_count": null,
      "outputs": [
        {
          "output_type": "execute_result",
          "data": {
            "text/html": [
              "<div>\n",
              "<style scoped>\n",
              "    .dataframe tbody tr th:only-of-type {\n",
              "        vertical-align: middle;\n",
              "    }\n",
              "\n",
              "    .dataframe tbody tr th {\n",
              "        vertical-align: top;\n",
              "    }\n",
              "\n",
              "    .dataframe thead th {\n",
              "        text-align: right;\n",
              "    }\n",
              "</style>\n",
              "<table border=\"1\" class=\"dataframe\">\n",
              "  <thead>\n",
              "    <tr style=\"text-align: right;\">\n",
              "      <th></th>\n",
              "      <th>col1</th>\n",
              "      <th>col2</th>\n",
              "      <th>col3</th>\n",
              "    </tr>\n",
              "  </thead>\n",
              "  <tbody>\n",
              "    <tr>\n",
              "      <th>one</th>\n",
              "      <td>2</td>\n",
              "      <td>3</td>\n",
              "      <td>4</td>\n",
              "    </tr>\n",
              "    <tr>\n",
              "      <th>two</th>\n",
              "      <td>3</td>\n",
              "      <td>4</td>\n",
              "      <td>5</td>\n",
              "    </tr>\n",
              "    <tr>\n",
              "      <th>three</th>\n",
              "      <td>4</td>\n",
              "      <td>5</td>\n",
              "      <td>6</td>\n",
              "    </tr>\n",
              "  </tbody>\n",
              "</table>\n",
              "</div>"
            ],
            "text/plain": [
              "       col1  col2  col3\n",
              "one       2     3     4\n",
              "two       3     4     5\n",
              "three     4     5     6"
            ]
          },
          "metadata": {
            "tags": []
          },
          "execution_count": 12
        }
      ]
    },
    {
      "cell_type": "code",
      "metadata": {
        "id": "O1BQxpZk2uXk",
        "colab_type": "code",
        "colab": {
          "base_uri": "https://localhost:8080/",
          "height": 106
        },
        "outputId": "2abf315f-2a52-48f7-ae09-d8c508529fd4"
      },
      "source": [
        "# 離れたセルの選択\n",
        "df.loc[['one', 'four'], ['col1', 'col3']] "
      ],
      "execution_count": null,
      "outputs": [
        {
          "output_type": "execute_result",
          "data": {
            "text/html": [
              "<div>\n",
              "<style scoped>\n",
              "    .dataframe tbody tr th:only-of-type {\n",
              "        vertical-align: middle;\n",
              "    }\n",
              "\n",
              "    .dataframe tbody tr th {\n",
              "        vertical-align: top;\n",
              "    }\n",
              "\n",
              "    .dataframe thead th {\n",
              "        text-align: right;\n",
              "    }\n",
              "</style>\n",
              "<table border=\"1\" class=\"dataframe\">\n",
              "  <thead>\n",
              "    <tr style=\"text-align: right;\">\n",
              "      <th></th>\n",
              "      <th>col1</th>\n",
              "      <th>col3</th>\n",
              "    </tr>\n",
              "  </thead>\n",
              "  <tbody>\n",
              "    <tr>\n",
              "      <th>one</th>\n",
              "      <td>2</td>\n",
              "      <td>4</td>\n",
              "    </tr>\n",
              "    <tr>\n",
              "      <th>four</th>\n",
              "      <td>5</td>\n",
              "      <td>7</td>\n",
              "    </tr>\n",
              "  </tbody>\n",
              "</table>\n",
              "</div>"
            ],
            "text/plain": [
              "      col1  col3\n",
              "one      2     4\n",
              "four     5     7"
            ]
          },
          "metadata": {
            "tags": []
          },
          "execution_count": 13
        }
      ]
    },
    {
      "cell_type": "code",
      "metadata": {
        "id": "ZWmOy_w84K4q",
        "colab_type": "code",
        "colab": {
          "base_uri": "https://localhost:8080/",
          "height": 87
        },
        "outputId": "b6b009bf-df47-4e71-e7f3-1407d8bd9fae"
      },
      "source": [
        "# 行名のみの指定で行すべてのデータを取得できます\n",
        "df.loc['one']"
      ],
      "execution_count": null,
      "outputs": [
        {
          "output_type": "execute_result",
          "data": {
            "text/plain": [
              "col1    2\n",
              "col2    3\n",
              "col3    4\n",
              "Name: one, dtype: int64"
            ]
          },
          "metadata": {
            "tags": []
          },
          "execution_count": 14
        }
      ]
    },
    {
      "cell_type": "code",
      "metadata": {
        "id": "5BY3zQhR4Y8j",
        "colab_type": "code",
        "colab": {
          "base_uri": "https://localhost:8080/",
          "height": 106
        },
        "outputId": "9dbeb8f4-c969-401a-c546-eca2e7691eb2"
      },
      "source": [
        "# 複数行を指定する場合、リストに格納します\n",
        "df.loc[['one', 'three']]"
      ],
      "execution_count": null,
      "outputs": [
        {
          "output_type": "execute_result",
          "data": {
            "text/html": [
              "<div>\n",
              "<style scoped>\n",
              "    .dataframe tbody tr th:only-of-type {\n",
              "        vertical-align: middle;\n",
              "    }\n",
              "\n",
              "    .dataframe tbody tr th {\n",
              "        vertical-align: top;\n",
              "    }\n",
              "\n",
              "    .dataframe thead th {\n",
              "        text-align: right;\n",
              "    }\n",
              "</style>\n",
              "<table border=\"1\" class=\"dataframe\">\n",
              "  <thead>\n",
              "    <tr style=\"text-align: right;\">\n",
              "      <th></th>\n",
              "      <th>col1</th>\n",
              "      <th>col2</th>\n",
              "      <th>col3</th>\n",
              "    </tr>\n",
              "  </thead>\n",
              "  <tbody>\n",
              "    <tr>\n",
              "      <th>one</th>\n",
              "      <td>2</td>\n",
              "      <td>3</td>\n",
              "      <td>4</td>\n",
              "    </tr>\n",
              "    <tr>\n",
              "      <th>three</th>\n",
              "      <td>4</td>\n",
              "      <td>5</td>\n",
              "      <td>6</td>\n",
              "    </tr>\n",
              "  </tbody>\n",
              "</table>\n",
              "</div>"
            ],
            "text/plain": [
              "       col1  col2  col3\n",
              "one       2     3     4\n",
              "three     4     5     6"
            ]
          },
          "metadata": {
            "tags": []
          },
          "execution_count": 15
        }
      ]
    },
    {
      "cell_type": "code",
      "metadata": {
        "id": "NoIfH2U323ub",
        "colab_type": "code",
        "colab": {
          "base_uri": "https://localhost:8080/",
          "height": 34
        },
        "outputId": "7bc6db7c-0212-4b60-83ff-c06622552681"
      },
      "source": [
        "# Seriesの場合\n",
        "s.loc['b']"
      ],
      "execution_count": null,
      "outputs": [
        {
          "output_type": "execute_result",
          "data": {
            "text/plain": [
              "2"
            ]
          },
          "metadata": {
            "tags": []
          },
          "execution_count": 16
        }
      ]
    },
    {
      "cell_type": "markdown",
      "metadata": {
        "id": "T7gNSN7l3eXL",
        "colab_type": "text"
      },
      "source": [
        "## iloc属性\n",
        "- iloc属性を用いると、インデックスとコラムの位置番号を使ってデータを選択できます。0から行列番号を数えること、また終了を指定する場合、終了したい番号より1つ大きい数値で指定することに注意してください。"
      ]
    },
    {
      "cell_type": "code",
      "metadata": {
        "id": "ubjek-TN3agz",
        "colab_type": "code",
        "colab": {
          "base_uri": "https://localhost:8080/",
          "height": 34
        },
        "outputId": "e3323628-8791-4615-96fa-43f56cec00f9"
      },
      "source": [
        "# 1つのセルの選択\n",
        "df.iloc[1, 1] "
      ],
      "execution_count": null,
      "outputs": [
        {
          "output_type": "execute_result",
          "data": {
            "text/plain": [
              "3"
            ]
          },
          "metadata": {
            "tags": []
          },
          "execution_count": 17
        }
      ]
    },
    {
      "cell_type": "code",
      "metadata": {
        "id": "ODKj-Rjb3oHf",
        "colab_type": "code",
        "colab": {
          "base_uri": "https://localhost:8080/",
          "height": 136
        },
        "outputId": "f96a177e-ee2f-451a-ec46-b92900aaac84"
      },
      "source": [
        "# 連続したセルの選択\n",
        "df.iloc[1:4, :] "
      ],
      "execution_count": null,
      "outputs": [
        {
          "output_type": "execute_result",
          "data": {
            "text/html": [
              "<div>\n",
              "<style scoped>\n",
              "    .dataframe tbody tr th:only-of-type {\n",
              "        vertical-align: middle;\n",
              "    }\n",
              "\n",
              "    .dataframe tbody tr th {\n",
              "        vertical-align: top;\n",
              "    }\n",
              "\n",
              "    .dataframe thead th {\n",
              "        text-align: right;\n",
              "    }\n",
              "</style>\n",
              "<table border=\"1\" class=\"dataframe\">\n",
              "  <thead>\n",
              "    <tr style=\"text-align: right;\">\n",
              "      <th></th>\n",
              "      <th>col1</th>\n",
              "      <th>col2</th>\n",
              "      <th>col3</th>\n",
              "    </tr>\n",
              "  </thead>\n",
              "  <tbody>\n",
              "    <tr>\n",
              "      <th>one</th>\n",
              "      <td>2</td>\n",
              "      <td>3</td>\n",
              "      <td>4</td>\n",
              "    </tr>\n",
              "    <tr>\n",
              "      <th>two</th>\n",
              "      <td>3</td>\n",
              "      <td>4</td>\n",
              "      <td>5</td>\n",
              "    </tr>\n",
              "    <tr>\n",
              "      <th>three</th>\n",
              "      <td>4</td>\n",
              "      <td>5</td>\n",
              "      <td>6</td>\n",
              "    </tr>\n",
              "  </tbody>\n",
              "</table>\n",
              "</div>"
            ],
            "text/plain": [
              "       col1  col2  col3\n",
              "one       2     3     4\n",
              "two       3     4     5\n",
              "three     4     5     6"
            ]
          },
          "metadata": {
            "tags": []
          },
          "execution_count": 18
        }
      ]
    },
    {
      "cell_type": "code",
      "metadata": {
        "id": "nryQ17Oz3ucw",
        "colab_type": "code",
        "colab": {
          "base_uri": "https://localhost:8080/",
          "height": 106
        },
        "outputId": "43970839-bfd0-4501-8469-5e18b6b026ca"
      },
      "source": [
        "# 離れたセルの選択\n",
        "df.iloc[[1, 4], [0, 2]]"
      ],
      "execution_count": null,
      "outputs": [
        {
          "output_type": "execute_result",
          "data": {
            "text/html": [
              "<div>\n",
              "<style scoped>\n",
              "    .dataframe tbody tr th:only-of-type {\n",
              "        vertical-align: middle;\n",
              "    }\n",
              "\n",
              "    .dataframe tbody tr th {\n",
              "        vertical-align: top;\n",
              "    }\n",
              "\n",
              "    .dataframe thead th {\n",
              "        text-align: right;\n",
              "    }\n",
              "</style>\n",
              "<table border=\"1\" class=\"dataframe\">\n",
              "  <thead>\n",
              "    <tr style=\"text-align: right;\">\n",
              "      <th></th>\n",
              "      <th>col1</th>\n",
              "      <th>col3</th>\n",
              "    </tr>\n",
              "  </thead>\n",
              "  <tbody>\n",
              "    <tr>\n",
              "      <th>one</th>\n",
              "      <td>2</td>\n",
              "      <td>4</td>\n",
              "    </tr>\n",
              "    <tr>\n",
              "      <th>four</th>\n",
              "      <td>5</td>\n",
              "      <td>7</td>\n",
              "    </tr>\n",
              "  </tbody>\n",
              "</table>\n",
              "</div>"
            ],
            "text/plain": [
              "      col1  col3\n",
              "one      2     4\n",
              "four     5     7"
            ]
          },
          "metadata": {
            "tags": []
          },
          "execution_count": 19
        }
      ]
    },
    {
      "cell_type": "code",
      "metadata": {
        "id": "XTOjxLrP3zBt",
        "colab_type": "code",
        "colab": {
          "base_uri": "https://localhost:8080/",
          "height": 34
        },
        "outputId": "303d96e2-e1eb-4ad9-9954-4d70b92e4b96"
      },
      "source": [
        "# Seriesの場合\n",
        "s.iloc[1]"
      ],
      "execution_count": null,
      "outputs": [
        {
          "output_type": "execute_result",
          "data": {
            "text/plain": [
              "2"
            ]
          },
          "metadata": {
            "tags": []
          },
          "execution_count": 20
        }
      ]
    },
    {
      "cell_type": "markdown",
      "metadata": {
        "id": "I6LulpU439Lh",
        "colab_type": "text"
      },
      "source": [
        "## 列名によるデータ選択\n",
        "- 列名を指定することにより、列全体を取得できます。\n"
      ]
    },
    {
      "cell_type": "code",
      "metadata": {
        "id": "E4h2rfYg33fm",
        "colab_type": "code",
        "colab": {
          "base_uri": "https://localhost:8080/",
          "height": 122
        },
        "outputId": "e641b83a-205a-4a58-c8a6-2449332df6ca"
      },
      "source": [
        "df['col2']"
      ],
      "execution_count": null,
      "outputs": [
        {
          "output_type": "execute_result",
          "data": {
            "text/plain": [
              "zero     2\n",
              "one      3\n",
              "two      4\n",
              "three    5\n",
              "four     6\n",
              "Name: col2, dtype: int64"
            ]
          },
          "metadata": {
            "tags": []
          },
          "execution_count": 21
        }
      ]
    },
    {
      "cell_type": "code",
      "metadata": {
        "id": "hNJfrwOZ4v-I",
        "colab_type": "code",
        "colab": {
          "base_uri": "https://localhost:8080/",
          "height": 195
        },
        "outputId": "83e796ff-800d-4a60-de5c-e2fb622e4064"
      },
      "source": [
        "df[['col1', 'col3']]"
      ],
      "execution_count": null,
      "outputs": [
        {
          "output_type": "execute_result",
          "data": {
            "text/html": [
              "<div>\n",
              "<style scoped>\n",
              "    .dataframe tbody tr th:only-of-type {\n",
              "        vertical-align: middle;\n",
              "    }\n",
              "\n",
              "    .dataframe tbody tr th {\n",
              "        vertical-align: top;\n",
              "    }\n",
              "\n",
              "    .dataframe thead th {\n",
              "        text-align: right;\n",
              "    }\n",
              "</style>\n",
              "<table border=\"1\" class=\"dataframe\">\n",
              "  <thead>\n",
              "    <tr style=\"text-align: right;\">\n",
              "      <th></th>\n",
              "      <th>col1</th>\n",
              "      <th>col3</th>\n",
              "    </tr>\n",
              "  </thead>\n",
              "  <tbody>\n",
              "    <tr>\n",
              "      <th>zero</th>\n",
              "      <td>1</td>\n",
              "      <td>3</td>\n",
              "    </tr>\n",
              "    <tr>\n",
              "      <th>one</th>\n",
              "      <td>2</td>\n",
              "      <td>4</td>\n",
              "    </tr>\n",
              "    <tr>\n",
              "      <th>two</th>\n",
              "      <td>3</td>\n",
              "      <td>5</td>\n",
              "    </tr>\n",
              "    <tr>\n",
              "      <th>three</th>\n",
              "      <td>4</td>\n",
              "      <td>6</td>\n",
              "    </tr>\n",
              "    <tr>\n",
              "      <th>four</th>\n",
              "      <td>5</td>\n",
              "      <td>7</td>\n",
              "    </tr>\n",
              "  </tbody>\n",
              "</table>\n",
              "</div>"
            ],
            "text/plain": [
              "       col1  col3\n",
              "zero      1     3\n",
              "one       2     4\n",
              "two       3     5\n",
              "three     4     6\n",
              "four      5     7"
            ]
          },
          "metadata": {
            "tags": []
          },
          "execution_count": 22
        }
      ]
    },
    {
      "cell_type": "code",
      "metadata": {
        "id": "LL6N-Lj14yZc",
        "colab_type": "code",
        "colab": {
          "base_uri": "https://localhost:8080/",
          "height": 34
        },
        "outputId": "b5789392-fc87-44e6-a0b3-2fd610b1fea3"
      },
      "source": [
        "s['b']"
      ],
      "execution_count": null,
      "outputs": [
        {
          "output_type": "execute_result",
          "data": {
            "text/plain": [
              "2"
            ]
          },
          "metadata": {
            "tags": []
          },
          "execution_count": 23
        }
      ]
    },
    {
      "cell_type": "markdown",
      "metadata": {
        "id": "GXeRzEBu5V-v",
        "colab_type": "text"
      },
      "source": [
        "# データの更新・追加\n",
        "## データの更新\n",
        "- 範囲の選択と共に、テーブルのデータ更新・追加ができます。"
      ]
    },
    {
      "cell_type": "code",
      "metadata": {
        "id": "5gpTLYBg40Ve",
        "colab_type": "code",
        "colab": {}
      },
      "source": [
        "# １マスのデータの更新\n",
        "df.iloc[1, 1] = 111"
      ],
      "execution_count": null,
      "outputs": []
    },
    {
      "cell_type": "code",
      "metadata": {
        "id": "WNcsaDtv5Trv",
        "colab_type": "code",
        "colab": {
          "base_uri": "https://localhost:8080/",
          "height": 195
        },
        "outputId": "4d9ced69-4abc-44a8-961d-7faabb2865ff"
      },
      "source": [
        "df"
      ],
      "execution_count": null,
      "outputs": [
        {
          "output_type": "execute_result",
          "data": {
            "text/html": [
              "<div>\n",
              "<style scoped>\n",
              "    .dataframe tbody tr th:only-of-type {\n",
              "        vertical-align: middle;\n",
              "    }\n",
              "\n",
              "    .dataframe tbody tr th {\n",
              "        vertical-align: top;\n",
              "    }\n",
              "\n",
              "    .dataframe thead th {\n",
              "        text-align: right;\n",
              "    }\n",
              "</style>\n",
              "<table border=\"1\" class=\"dataframe\">\n",
              "  <thead>\n",
              "    <tr style=\"text-align: right;\">\n",
              "      <th></th>\n",
              "      <th>col1</th>\n",
              "      <th>col2</th>\n",
              "      <th>col3</th>\n",
              "    </tr>\n",
              "  </thead>\n",
              "  <tbody>\n",
              "    <tr>\n",
              "      <th>zero</th>\n",
              "      <td>1</td>\n",
              "      <td>2</td>\n",
              "      <td>3</td>\n",
              "    </tr>\n",
              "    <tr>\n",
              "      <th>one</th>\n",
              "      <td>2</td>\n",
              "      <td>111</td>\n",
              "      <td>4</td>\n",
              "    </tr>\n",
              "    <tr>\n",
              "      <th>two</th>\n",
              "      <td>3</td>\n",
              "      <td>4</td>\n",
              "      <td>5</td>\n",
              "    </tr>\n",
              "    <tr>\n",
              "      <th>three</th>\n",
              "      <td>4</td>\n",
              "      <td>5</td>\n",
              "      <td>6</td>\n",
              "    </tr>\n",
              "    <tr>\n",
              "      <th>four</th>\n",
              "      <td>5</td>\n",
              "      <td>6</td>\n",
              "      <td>7</td>\n",
              "    </tr>\n",
              "  </tbody>\n",
              "</table>\n",
              "</div>"
            ],
            "text/plain": [
              "       col1  col2  col3\n",
              "zero      1     2     3\n",
              "one       2   111     4\n",
              "two       3     4     5\n",
              "three     4     5     6\n",
              "four      5     6     7"
            ]
          },
          "metadata": {
            "tags": []
          },
          "execution_count": 25
        }
      ]
    },
    {
      "cell_type": "code",
      "metadata": {
        "id": "QLUyXoL85gib",
        "colab_type": "code",
        "colab": {}
      },
      "source": [
        "# 複数範囲のデータの更新\n",
        "df.iloc[1:4, 0] = [13, 14, 15]"
      ],
      "execution_count": null,
      "outputs": []
    },
    {
      "cell_type": "code",
      "metadata": {
        "id": "jTZIWW3u5l-e",
        "colab_type": "code",
        "colab": {
          "base_uri": "https://localhost:8080/",
          "height": 195
        },
        "outputId": "18331079-640d-403e-a02d-963f1aaf149e"
      },
      "source": [
        "df"
      ],
      "execution_count": null,
      "outputs": [
        {
          "output_type": "execute_result",
          "data": {
            "text/html": [
              "<div>\n",
              "<style scoped>\n",
              "    .dataframe tbody tr th:only-of-type {\n",
              "        vertical-align: middle;\n",
              "    }\n",
              "\n",
              "    .dataframe tbody tr th {\n",
              "        vertical-align: top;\n",
              "    }\n",
              "\n",
              "    .dataframe thead th {\n",
              "        text-align: right;\n",
              "    }\n",
              "</style>\n",
              "<table border=\"1\" class=\"dataframe\">\n",
              "  <thead>\n",
              "    <tr style=\"text-align: right;\">\n",
              "      <th></th>\n",
              "      <th>col1</th>\n",
              "      <th>col2</th>\n",
              "      <th>col3</th>\n",
              "    </tr>\n",
              "  </thead>\n",
              "  <tbody>\n",
              "    <tr>\n",
              "      <th>zero</th>\n",
              "      <td>1</td>\n",
              "      <td>2</td>\n",
              "      <td>3</td>\n",
              "    </tr>\n",
              "    <tr>\n",
              "      <th>one</th>\n",
              "      <td>13</td>\n",
              "      <td>111</td>\n",
              "      <td>4</td>\n",
              "    </tr>\n",
              "    <tr>\n",
              "      <th>two</th>\n",
              "      <td>14</td>\n",
              "      <td>4</td>\n",
              "      <td>5</td>\n",
              "    </tr>\n",
              "    <tr>\n",
              "      <th>three</th>\n",
              "      <td>15</td>\n",
              "      <td>5</td>\n",
              "      <td>6</td>\n",
              "    </tr>\n",
              "    <tr>\n",
              "      <th>four</th>\n",
              "      <td>5</td>\n",
              "      <td>6</td>\n",
              "      <td>7</td>\n",
              "    </tr>\n",
              "  </tbody>\n",
              "</table>\n",
              "</div>"
            ],
            "text/plain": [
              "       col1  col2  col3\n",
              "zero      1     2     3\n",
              "one      13   111     4\n",
              "two      14     4     5\n",
              "three    15     5     6\n",
              "four      5     6     7"
            ]
          },
          "metadata": {
            "tags": []
          },
          "execution_count": 28
        }
      ]
    },
    {
      "cell_type": "code",
      "metadata": {
        "id": "TFoj6UbX5mjF",
        "colab_type": "code",
        "colab": {}
      },
      "source": [
        "# 複数範囲に同じデータを格納する\n",
        "df.iloc[:, 2] = 0"
      ],
      "execution_count": null,
      "outputs": []
    },
    {
      "cell_type": "code",
      "metadata": {
        "id": "KnzCTXGf5siJ",
        "colab_type": "code",
        "colab": {
          "base_uri": "https://localhost:8080/",
          "height": 195
        },
        "outputId": "53898ebd-9783-4198-a8c8-c8965b488b75"
      },
      "source": [
        "df"
      ],
      "execution_count": null,
      "outputs": [
        {
          "output_type": "execute_result",
          "data": {
            "text/html": [
              "<div>\n",
              "<style scoped>\n",
              "    .dataframe tbody tr th:only-of-type {\n",
              "        vertical-align: middle;\n",
              "    }\n",
              "\n",
              "    .dataframe tbody tr th {\n",
              "        vertical-align: top;\n",
              "    }\n",
              "\n",
              "    .dataframe thead th {\n",
              "        text-align: right;\n",
              "    }\n",
              "</style>\n",
              "<table border=\"1\" class=\"dataframe\">\n",
              "  <thead>\n",
              "    <tr style=\"text-align: right;\">\n",
              "      <th></th>\n",
              "      <th>col1</th>\n",
              "      <th>col2</th>\n",
              "      <th>col3</th>\n",
              "    </tr>\n",
              "  </thead>\n",
              "  <tbody>\n",
              "    <tr>\n",
              "      <th>zero</th>\n",
              "      <td>1</td>\n",
              "      <td>2</td>\n",
              "      <td>0</td>\n",
              "    </tr>\n",
              "    <tr>\n",
              "      <th>one</th>\n",
              "      <td>13</td>\n",
              "      <td>111</td>\n",
              "      <td>0</td>\n",
              "    </tr>\n",
              "    <tr>\n",
              "      <th>two</th>\n",
              "      <td>14</td>\n",
              "      <td>4</td>\n",
              "      <td>0</td>\n",
              "    </tr>\n",
              "    <tr>\n",
              "      <th>three</th>\n",
              "      <td>15</td>\n",
              "      <td>5</td>\n",
              "      <td>0</td>\n",
              "    </tr>\n",
              "    <tr>\n",
              "      <th>four</th>\n",
              "      <td>5</td>\n",
              "      <td>6</td>\n",
              "      <td>0</td>\n",
              "    </tr>\n",
              "  </tbody>\n",
              "</table>\n",
              "</div>"
            ],
            "text/plain": [
              "       col1  col2  col3\n",
              "zero      1     2     0\n",
              "one      13   111     0\n",
              "two      14     4     0\n",
              "three    15     5     0\n",
              "four      5     6     0"
            ]
          },
          "metadata": {
            "tags": []
          },
          "execution_count": 30
        }
      ]
    },
    {
      "cell_type": "markdown",
      "metadata": {
        "id": "p2n_fgX753hq",
        "colab_type": "text"
      },
      "source": [
        "# 行列の追加\n",
        "## 行の追加\n",
        "- 行の追加は、loc属性を用いて対応する値をデータフレームに渡します。"
      ]
    },
    {
      "cell_type": "code",
      "metadata": {
        "id": "CbRzaKZD5szO",
        "colab_type": "code",
        "colab": {}
      },
      "source": [
        "df.loc[5] = 42\n"
      ],
      "execution_count": null,
      "outputs": []
    },
    {
      "cell_type": "code",
      "metadata": {
        "id": "V7aNBHoR6FCw",
        "colab_type": "code",
        "colab": {
          "base_uri": "https://localhost:8080/",
          "height": 225
        },
        "outputId": "40da0a84-7604-4098-e65a-62730fe853a8"
      },
      "source": [
        "df"
      ],
      "execution_count": null,
      "outputs": [
        {
          "output_type": "execute_result",
          "data": {
            "text/html": [
              "<div>\n",
              "<style scoped>\n",
              "    .dataframe tbody tr th:only-of-type {\n",
              "        vertical-align: middle;\n",
              "    }\n",
              "\n",
              "    .dataframe tbody tr th {\n",
              "        vertical-align: top;\n",
              "    }\n",
              "\n",
              "    .dataframe thead th {\n",
              "        text-align: right;\n",
              "    }\n",
              "</style>\n",
              "<table border=\"1\" class=\"dataframe\">\n",
              "  <thead>\n",
              "    <tr style=\"text-align: right;\">\n",
              "      <th></th>\n",
              "      <th>col1</th>\n",
              "      <th>col2</th>\n",
              "      <th>col3</th>\n",
              "    </tr>\n",
              "  </thead>\n",
              "  <tbody>\n",
              "    <tr>\n",
              "      <th>zero</th>\n",
              "      <td>1</td>\n",
              "      <td>2</td>\n",
              "      <td>0</td>\n",
              "    </tr>\n",
              "    <tr>\n",
              "      <th>one</th>\n",
              "      <td>13</td>\n",
              "      <td>111</td>\n",
              "      <td>0</td>\n",
              "    </tr>\n",
              "    <tr>\n",
              "      <th>two</th>\n",
              "      <td>14</td>\n",
              "      <td>4</td>\n",
              "      <td>0</td>\n",
              "    </tr>\n",
              "    <tr>\n",
              "      <th>three</th>\n",
              "      <td>15</td>\n",
              "      <td>5</td>\n",
              "      <td>0</td>\n",
              "    </tr>\n",
              "    <tr>\n",
              "      <th>four</th>\n",
              "      <td>5</td>\n",
              "      <td>6</td>\n",
              "      <td>0</td>\n",
              "    </tr>\n",
              "    <tr>\n",
              "      <th>5</th>\n",
              "      <td>42</td>\n",
              "      <td>42</td>\n",
              "      <td>42</td>\n",
              "    </tr>\n",
              "  </tbody>\n",
              "</table>\n",
              "</div>"
            ],
            "text/plain": [
              "       col1  col2  col3\n",
              "zero      1     2     0\n",
              "one      13   111     0\n",
              "two      14     4     0\n",
              "three    15     5     0\n",
              "four      5     6     0\n",
              "5        42    42    42"
            ]
          },
          "metadata": {
            "tags": []
          },
          "execution_count": 32
        }
      ]
    },
    {
      "cell_type": "markdown",
      "metadata": {
        "id": "QLxCxlzh6Hyx",
        "colab_type": "text"
      },
      "source": [
        "## 列の追加\n",
        "- 列の追加は、列名と対応する値をデータフレームに渡します。"
      ]
    },
    {
      "cell_type": "code",
      "metadata": {
        "id": "ogtD1hsM6FXS",
        "colab_type": "code",
        "colab": {}
      },
      "source": [
        "df[4] = 4"
      ],
      "execution_count": null,
      "outputs": []
    },
    {
      "cell_type": "code",
      "metadata": {
        "id": "DTb49KPq6kbo",
        "colab_type": "code",
        "colab": {
          "base_uri": "https://localhost:8080/",
          "height": 225
        },
        "outputId": "8910cdf2-0f95-488d-9d5a-56fecd746793"
      },
      "source": [
        "df"
      ],
      "execution_count": null,
      "outputs": [
        {
          "output_type": "execute_result",
          "data": {
            "text/html": [
              "<div>\n",
              "<style scoped>\n",
              "    .dataframe tbody tr th:only-of-type {\n",
              "        vertical-align: middle;\n",
              "    }\n",
              "\n",
              "    .dataframe tbody tr th {\n",
              "        vertical-align: top;\n",
              "    }\n",
              "\n",
              "    .dataframe thead th {\n",
              "        text-align: right;\n",
              "    }\n",
              "</style>\n",
              "<table border=\"1\" class=\"dataframe\">\n",
              "  <thead>\n",
              "    <tr style=\"text-align: right;\">\n",
              "      <th></th>\n",
              "      <th>col1</th>\n",
              "      <th>col2</th>\n",
              "      <th>col3</th>\n",
              "      <th>4</th>\n",
              "    </tr>\n",
              "  </thead>\n",
              "  <tbody>\n",
              "    <tr>\n",
              "      <th>zero</th>\n",
              "      <td>1</td>\n",
              "      <td>2</td>\n",
              "      <td>0</td>\n",
              "      <td>4</td>\n",
              "    </tr>\n",
              "    <tr>\n",
              "      <th>one</th>\n",
              "      <td>13</td>\n",
              "      <td>111</td>\n",
              "      <td>0</td>\n",
              "      <td>4</td>\n",
              "    </tr>\n",
              "    <tr>\n",
              "      <th>two</th>\n",
              "      <td>14</td>\n",
              "      <td>4</td>\n",
              "      <td>0</td>\n",
              "      <td>4</td>\n",
              "    </tr>\n",
              "    <tr>\n",
              "      <th>three</th>\n",
              "      <td>15</td>\n",
              "      <td>5</td>\n",
              "      <td>0</td>\n",
              "      <td>4</td>\n",
              "    </tr>\n",
              "    <tr>\n",
              "      <th>four</th>\n",
              "      <td>5</td>\n",
              "      <td>6</td>\n",
              "      <td>0</td>\n",
              "      <td>4</td>\n",
              "    </tr>\n",
              "    <tr>\n",
              "      <th>5</th>\n",
              "      <td>42</td>\n",
              "      <td>42</td>\n",
              "      <td>42</td>\n",
              "      <td>4</td>\n",
              "    </tr>\n",
              "  </tbody>\n",
              "</table>\n",
              "</div>"
            ],
            "text/plain": [
              "       col1  col2  col3  4\n",
              "zero      1     2     0  4\n",
              "one      13   111     0  4\n",
              "two      14     4     0  4\n",
              "three    15     5     0  4\n",
              "four      5     6     0  4\n",
              "5        42    42    42  4"
            ]
          },
          "metadata": {
            "tags": []
          },
          "execution_count": 34
        }
      ]
    },
    {
      "cell_type": "markdown",
      "metadata": {
        "id": "xXocU9bV6yiR",
        "colab_type": "text"
      },
      "source": [
        "# データを読み込む\n",
        "## csvファイルを読み込む\n",
        "  - read_csv関数を用います"
      ]
    },
    {
      "cell_type": "code",
      "metadata": {
        "id": "p0_34KWI6k3l",
        "colab_type": "code",
        "colab": {}
      },
      "source": [
        "# データは福岡市の新型コロナウィルス感染　https://ckan.open-governmentdata.org/dataset/401307_covid19_patients\n",
        "df_fukuoka_covid = pd.read_csv('https://ckan.open-governmentdata.org/dataset/6c9fc569-b523-4c56-828d-2ab3047df5a3/resource/c97a0ef7-8be9-4902-bf49-3fe5daf6d34c/download/401307_city_fukuoka_covid19_patients.csv')"
      ],
      "execution_count": null,
      "outputs": []
    },
    {
      "cell_type": "code",
      "metadata": {
        "id": "rXVcqAbX6-Fp",
        "colab_type": "code",
        "colab": {
          "base_uri": "https://localhost:8080/",
          "height": 1000
        },
        "outputId": "f7de11c5-a769-4e0b-bfef-dd937485b07e"
      },
      "source": [
        "df_fukuoka_covid"
      ],
      "execution_count": null,
      "outputs": [
        {
          "output_type": "execute_result",
          "data": {
            "text/html": [
              "<div>\n",
              "<style scoped>\n",
              "    .dataframe tbody tr th:only-of-type {\n",
              "        vertical-align: middle;\n",
              "    }\n",
              "\n",
              "    .dataframe tbody tr th {\n",
              "        vertical-align: top;\n",
              "    }\n",
              "\n",
              "    .dataframe thead th {\n",
              "        text-align: right;\n",
              "    }\n",
              "</style>\n",
              "<table border=\"1\" class=\"dataframe\">\n",
              "  <thead>\n",
              "    <tr style=\"text-align: right;\">\n",
              "      <th></th>\n",
              "      <th>No</th>\n",
              "      <th>全国地方公共団体コード</th>\n",
              "      <th>都道府県名</th>\n",
              "      <th>市区町村名</th>\n",
              "      <th>公表_年月日</th>\n",
              "      <th>曜日</th>\n",
              "      <th>発症_年月日</th>\n",
              "      <th>居住地</th>\n",
              "      <th>年代</th>\n",
              "      <th>性別</th>\n",
              "      <th>患者_属性</th>\n",
              "      <th>患者_状態</th>\n",
              "      <th>患者_症状</th>\n",
              "      <th>患者_渡航歴の有無フラグ</th>\n",
              "      <th>備考</th>\n",
              "      <th>退院済フラグ</th>\n",
              "    </tr>\n",
              "  </thead>\n",
              "  <tbody>\n",
              "    <tr>\n",
              "      <th>0</th>\n",
              "      <td>1</td>\n",
              "      <td>401307</td>\n",
              "      <td>福岡県</td>\n",
              "      <td>福岡市</td>\n",
              "      <td>2020/2/20</td>\n",
              "      <td>木</td>\n",
              "      <td>NaN</td>\n",
              "      <td>福岡市中央区</td>\n",
              "      <td>60代</td>\n",
              "      <td>男性</td>\n",
              "      <td>NaN</td>\n",
              "      <td>NaN</td>\n",
              "      <td>NaN</td>\n",
              "      <td>NaN</td>\n",
              "      <td>NaN</td>\n",
              "      <td>NaN</td>\n",
              "    </tr>\n",
              "    <tr>\n",
              "      <th>1</th>\n",
              "      <td>2</td>\n",
              "      <td>401307</td>\n",
              "      <td>福岡県</td>\n",
              "      <td>福岡市</td>\n",
              "      <td>2020/2/20</td>\n",
              "      <td>木</td>\n",
              "      <td>NaN</td>\n",
              "      <td>福岡市中央区</td>\n",
              "      <td>60代</td>\n",
              "      <td>女性</td>\n",
              "      <td>NaN</td>\n",
              "      <td>NaN</td>\n",
              "      <td>NaN</td>\n",
              "      <td>NaN</td>\n",
              "      <td>NaN</td>\n",
              "      <td>NaN</td>\n",
              "    </tr>\n",
              "    <tr>\n",
              "      <th>2</th>\n",
              "      <td>3</td>\n",
              "      <td>401307</td>\n",
              "      <td>福岡県</td>\n",
              "      <td>福岡市</td>\n",
              "      <td>2020/3/17</td>\n",
              "      <td>火</td>\n",
              "      <td>NaN</td>\n",
              "      <td>福岡市南区</td>\n",
              "      <td>30代</td>\n",
              "      <td>女性</td>\n",
              "      <td>NaN</td>\n",
              "      <td>NaN</td>\n",
              "      <td>NaN</td>\n",
              "      <td>1.0</td>\n",
              "      <td>NaN</td>\n",
              "      <td>NaN</td>\n",
              "    </tr>\n",
              "    <tr>\n",
              "      <th>3</th>\n",
              "      <td>4</td>\n",
              "      <td>401307</td>\n",
              "      <td>福岡県</td>\n",
              "      <td>福岡市</td>\n",
              "      <td>2020/3/24</td>\n",
              "      <td>火</td>\n",
              "      <td>NaN</td>\n",
              "      <td>福岡市早良区</td>\n",
              "      <td>40代</td>\n",
              "      <td>男性</td>\n",
              "      <td>NaN</td>\n",
              "      <td>NaN</td>\n",
              "      <td>NaN</td>\n",
              "      <td>NaN</td>\n",
              "      <td>NaN</td>\n",
              "      <td>NaN</td>\n",
              "    </tr>\n",
              "    <tr>\n",
              "      <th>4</th>\n",
              "      <td>5</td>\n",
              "      <td>401307</td>\n",
              "      <td>福岡県</td>\n",
              "      <td>福岡市</td>\n",
              "      <td>2020/3/26</td>\n",
              "      <td>木</td>\n",
              "      <td>NaN</td>\n",
              "      <td>福岡市東区</td>\n",
              "      <td>50代</td>\n",
              "      <td>男性</td>\n",
              "      <td>NaN</td>\n",
              "      <td>NaN</td>\n",
              "      <td>NaN</td>\n",
              "      <td>NaN</td>\n",
              "      <td>NaN</td>\n",
              "      <td>NaN</td>\n",
              "    </tr>\n",
              "    <tr>\n",
              "      <th>...</th>\n",
              "      <td>...</td>\n",
              "      <td>...</td>\n",
              "      <td>...</td>\n",
              "      <td>...</td>\n",
              "      <td>...</td>\n",
              "      <td>...</td>\n",
              "      <td>...</td>\n",
              "      <td>...</td>\n",
              "      <td>...</td>\n",
              "      <td>...</td>\n",
              "      <td>...</td>\n",
              "      <td>...</td>\n",
              "      <td>...</td>\n",
              "      <td>...</td>\n",
              "      <td>...</td>\n",
              "      <td>...</td>\n",
              "    </tr>\n",
              "    <tr>\n",
              "      <th>2593</th>\n",
              "      <td>2600</td>\n",
              "      <td>401307</td>\n",
              "      <td>福岡県</td>\n",
              "      <td>福岡市</td>\n",
              "      <td>2020/8/28</td>\n",
              "      <td>金</td>\n",
              "      <td>NaN</td>\n",
              "      <td>福岡市城南区</td>\n",
              "      <td>30代</td>\n",
              "      <td>女性</td>\n",
              "      <td>NaN</td>\n",
              "      <td>NaN</td>\n",
              "      <td>NaN</td>\n",
              "      <td>NaN</td>\n",
              "      <td>NaN</td>\n",
              "      <td>NaN</td>\n",
              "    </tr>\n",
              "    <tr>\n",
              "      <th>2594</th>\n",
              "      <td>2601</td>\n",
              "      <td>401307</td>\n",
              "      <td>福岡県</td>\n",
              "      <td>福岡市</td>\n",
              "      <td>2020/8/28</td>\n",
              "      <td>金</td>\n",
              "      <td>NaN</td>\n",
              "      <td>福岡市博多区</td>\n",
              "      <td>10代</td>\n",
              "      <td>女性</td>\n",
              "      <td>NaN</td>\n",
              "      <td>NaN</td>\n",
              "      <td>NaN</td>\n",
              "      <td>NaN</td>\n",
              "      <td>NaN</td>\n",
              "      <td>NaN</td>\n",
              "    </tr>\n",
              "    <tr>\n",
              "      <th>2595</th>\n",
              "      <td>2602</td>\n",
              "      <td>401307</td>\n",
              "      <td>福岡県</td>\n",
              "      <td>福岡市</td>\n",
              "      <td>2020/8/28</td>\n",
              "      <td>金</td>\n",
              "      <td>NaN</td>\n",
              "      <td>福岡市東区</td>\n",
              "      <td>60代</td>\n",
              "      <td>男性</td>\n",
              "      <td>NaN</td>\n",
              "      <td>NaN</td>\n",
              "      <td>NaN</td>\n",
              "      <td>NaN</td>\n",
              "      <td>NaN</td>\n",
              "      <td>NaN</td>\n",
              "    </tr>\n",
              "    <tr>\n",
              "      <th>2596</th>\n",
              "      <td>2603</td>\n",
              "      <td>401307</td>\n",
              "      <td>福岡県</td>\n",
              "      <td>福岡市</td>\n",
              "      <td>2020/8/28</td>\n",
              "      <td>金</td>\n",
              "      <td>NaN</td>\n",
              "      <td>福岡市東区</td>\n",
              "      <td>60代</td>\n",
              "      <td>女性</td>\n",
              "      <td>NaN</td>\n",
              "      <td>NaN</td>\n",
              "      <td>NaN</td>\n",
              "      <td>NaN</td>\n",
              "      <td>NaN</td>\n",
              "      <td>NaN</td>\n",
              "    </tr>\n",
              "    <tr>\n",
              "      <th>2597</th>\n",
              "      <td>2604</td>\n",
              "      <td>401307</td>\n",
              "      <td>福岡県</td>\n",
              "      <td>福岡市</td>\n",
              "      <td>2020/8/28</td>\n",
              "      <td>金</td>\n",
              "      <td>NaN</td>\n",
              "      <td>福岡市中央区</td>\n",
              "      <td>70代</td>\n",
              "      <td>女性</td>\n",
              "      <td>NaN</td>\n",
              "      <td>NaN</td>\n",
              "      <td>NaN</td>\n",
              "      <td>NaN</td>\n",
              "      <td>NaN</td>\n",
              "      <td>NaN</td>\n",
              "    </tr>\n",
              "  </tbody>\n",
              "</table>\n",
              "<p>2598 rows × 16 columns</p>\n",
              "</div>"
            ],
            "text/plain": [
              "        No  全国地方公共団体コード 都道府県名 市区町村名  ... 患者_症状 患者_渡航歴の有無フラグ  備考 退院済フラグ\n",
              "0        1       401307   福岡県   福岡市  ...   NaN          NaN NaN    NaN\n",
              "1        2       401307   福岡県   福岡市  ...   NaN          NaN NaN    NaN\n",
              "2        3       401307   福岡県   福岡市  ...   NaN          1.0 NaN    NaN\n",
              "3        4       401307   福岡県   福岡市  ...   NaN          NaN NaN    NaN\n",
              "4        5       401307   福岡県   福岡市  ...   NaN          NaN NaN    NaN\n",
              "...    ...          ...   ...   ...  ...   ...          ...  ..    ...\n",
              "2593  2600       401307   福岡県   福岡市  ...   NaN          NaN NaN    NaN\n",
              "2594  2601       401307   福岡県   福岡市  ...   NaN          NaN NaN    NaN\n",
              "2595  2602       401307   福岡県   福岡市  ...   NaN          NaN NaN    NaN\n",
              "2596  2603       401307   福岡県   福岡市  ...   NaN          NaN NaN    NaN\n",
              "2597  2604       401307   福岡県   福岡市  ...   NaN          NaN NaN    NaN\n",
              "\n",
              "[2598 rows x 16 columns]"
            ]
          },
          "metadata": {
            "tags": []
          },
          "execution_count": 36
        }
      ]
    },
    {
      "cell_type": "markdown",
      "metadata": {
        "id": "ad9NvoRS9Faa",
        "colab_type": "text"
      },
      "source": [
        "## Excelファイルを読み込む\n",
        "- read_excel関数を用いる"
      ]
    },
    {
      "cell_type": "code",
      "metadata": {
        "id": "J-ijozok9Lbv",
        "colab_type": "code",
        "colab": {}
      },
      "source": [
        "# 福岡市給食献立　https://ckan.open-governmentdata.org/dataset/401307_syousaikonndate\n",
        "df_fukuoka_kyushoku = pd.read_excel('https://ckan.open-governmentdata.org/dataset/8354be81-da59-42eb-b291-7cfdad3db9b6/resource/eb18252f-c00a-4219-b30f-b3986b0125f5/download/201912.xls')"
      ],
      "execution_count": null,
      "outputs": []
    },
    {
      "cell_type": "code",
      "metadata": {
        "id": "6GGnJkVR9byI",
        "colab_type": "code",
        "colab": {
          "base_uri": "https://localhost:8080/",
          "height": 1000
        },
        "outputId": "7f98642c-2c0d-4b59-fe93-d32bc3232a69"
      },
      "source": [
        "df_fukuoka_kyushoku"
      ],
      "execution_count": null,
      "outputs": [
        {
          "output_type": "execute_result",
          "data": {
            "text/html": [
              "<div>\n",
              "<style scoped>\n",
              "    .dataframe tbody tr th:only-of-type {\n",
              "        vertical-align: middle;\n",
              "    }\n",
              "\n",
              "    .dataframe tbody tr th {\n",
              "        vertical-align: top;\n",
              "    }\n",
              "\n",
              "    .dataframe thead th {\n",
              "        text-align: right;\n",
              "    }\n",
              "</style>\n",
              "<table border=\"1\" class=\"dataframe\">\n",
              "  <thead>\n",
              "    <tr style=\"text-align: right;\">\n",
              "      <th></th>\n",
              "      <th>Unnamed: 0</th>\n",
              "      <th>Unnamed: 1</th>\n",
              "      <th>Unnamed: 2</th>\n",
              "      <th>Unnamed: 3</th>\n",
              "      <th>Unnamed: 4</th>\n",
              "      <th>2019-12-01 00:00:00</th>\n",
              "      <th>福岡市学校給食詳細献立表(小学校：イ)　１／２ﾍﾟｰｼﾞ</th>\n",
              "      <th>Unnamed: 7</th>\n",
              "      <th>Unnamed: 8</th>\n",
              "    </tr>\n",
              "  </thead>\n",
              "  <tbody>\n",
              "    <tr>\n",
              "      <th>0</th>\n",
              "      <td>NaN</td>\n",
              "      <td>NaN</td>\n",
              "      <td>NaN</td>\n",
              "      <td>NaN</td>\n",
              "      <td>NaN</td>\n",
              "      <td>NaN</td>\n",
              "      <td>NaN</td>\n",
              "      <td>NaN</td>\n",
              "      <td>福岡市教育委員会</td>\n",
              "    </tr>\n",
              "    <tr>\n",
              "      <th>1</th>\n",
              "      <td>NaN</td>\n",
              "      <td>NaN</td>\n",
              "      <td>NaN</td>\n",
              "      <td>NaN</td>\n",
              "      <td>NaN</td>\n",
              "      <td>NaN</td>\n",
              "      <td>NaN</td>\n",
              "      <td>NaN</td>\n",
              "      <td>NaN</td>\n",
              "    </tr>\n",
              "    <tr>\n",
              "      <th>2</th>\n",
              "      <td>記号</td>\n",
              "      <td>日</td>\n",
              "      <td>曜</td>\n",
              "      <td>献立名</td>\n",
              "      <td>NaN</td>\n",
              "      <td>NaN</td>\n",
              "      <td>NaN</td>\n",
              "      <td>お　も　な　材　料</td>\n",
              "      <td>調　味　料</td>\n",
              "    </tr>\n",
              "    <tr>\n",
              "      <th>3</th>\n",
              "      <td>NaN</td>\n",
              "      <td>NaN</td>\n",
              "      <td>NaN</td>\n",
              "      <td>パン\\n又は\\nごはん</td>\n",
              "      <td>牛乳</td>\n",
              "      <td>おかず</td>\n",
              "      <td>NaN</td>\n",
              "      <td>NaN</td>\n",
              "      <td>NaN</td>\n",
              "    </tr>\n",
              "    <tr>\n",
              "      <th>4</th>\n",
              "      <td>NaN</td>\n",
              "      <td>NaN</td>\n",
              "      <td>NaN</td>\n",
              "      <td>NaN</td>\n",
              "      <td>NaN</td>\n",
              "      <td>除去食対象献立</td>\n",
              "      <td>食品</td>\n",
              "      <td>NaN</td>\n",
              "      <td>NaN</td>\n",
              "    </tr>\n",
              "    <tr>\n",
              "      <th>...</th>\n",
              "      <td>...</td>\n",
              "      <td>...</td>\n",
              "      <td>...</td>\n",
              "      <td>...</td>\n",
              "      <td>...</td>\n",
              "      <td>...</td>\n",
              "      <td>...</td>\n",
              "      <td>...</td>\n",
              "      <td>...</td>\n",
              "    </tr>\n",
              "    <tr>\n",
              "      <th>61</th>\n",
              "      <td>NaN</td>\n",
              "      <td>NaN</td>\n",
              "      <td>NaN</td>\n",
              "      <td>＊麦ご飯・パンにつきましては，「2019年４月～2020年３月分食材料名『主食』」一覧表を</td>\n",
              "      <td>NaN</td>\n",
              "      <td>NaN</td>\n",
              "      <td>NaN</td>\n",
              "      <td>NaN</td>\n",
              "      <td>NaN</td>\n",
              "    </tr>\n",
              "    <tr>\n",
              "      <th>62</th>\n",
              "      <td>NaN</td>\n",
              "      <td>NaN</td>\n",
              "      <td>NaN</td>\n",
              "      <td>参照してください。下線のパンは鶏卵を使用しています。</td>\n",
              "      <td>NaN</td>\n",
              "      <td>NaN</td>\n",
              "      <td>NaN</td>\n",
              "      <td>NaN</td>\n",
              "      <td>NaN</td>\n",
              "    </tr>\n",
              "    <tr>\n",
              "      <th>63</th>\n",
              "      <td>NaN</td>\n",
              "      <td>NaN</td>\n",
              "      <td>NaN</td>\n",
              "      <td>◎マークの物資につきましては，「2019年４月～2020年３月分食材料名」一覧表を参照してく...</td>\n",
              "      <td>NaN</td>\n",
              "      <td>NaN</td>\n",
              "      <td>NaN</td>\n",
              "      <td>NaN</td>\n",
              "      <td>NaN</td>\n",
              "    </tr>\n",
              "    <tr>\n",
              "      <th>64</th>\n",
              "      <td>NaN</td>\n",
              "      <td>NaN</td>\n",
              "      <td>NaN</td>\n",
              "      <td>※マークの物資につきましては，「2019年８月～１２月分食材料名」一覧表を参照してください。</td>\n",
              "      <td>NaN</td>\n",
              "      <td>NaN</td>\n",
              "      <td>NaN</td>\n",
              "      <td>NaN</td>\n",
              "      <td>NaN</td>\n",
              "    </tr>\n",
              "    <tr>\n",
              "      <th>65</th>\n",
              "      <td>NaN</td>\n",
              "      <td>NaN</td>\n",
              "      <td>NaN</td>\n",
              "      <td>★マークの物資につきましては，「2019年１２月分食材料名」一覧表を参照してください。</td>\n",
              "      <td>NaN</td>\n",
              "      <td>NaN</td>\n",
              "      <td>NaN</td>\n",
              "      <td>NaN</td>\n",
              "      <td>NaN</td>\n",
              "    </tr>\n",
              "  </tbody>\n",
              "</table>\n",
              "<p>66 rows × 9 columns</p>\n",
              "</div>"
            ],
            "text/plain": [
              "   Unnamed: 0 Unnamed: 1  ... Unnamed: 7 Unnamed: 8\n",
              "0         NaN        NaN  ...        NaN   福岡市教育委員会\n",
              "1         NaN        NaN  ...        NaN        NaN\n",
              "2          記号          日  ...  お　も　な　材　料      調　味　料\n",
              "3         NaN        NaN  ...        NaN        NaN\n",
              "4         NaN        NaN  ...        NaN        NaN\n",
              "..        ...        ...  ...        ...        ...\n",
              "61        NaN        NaN  ...        NaN        NaN\n",
              "62        NaN        NaN  ...        NaN        NaN\n",
              "63        NaN        NaN  ...        NaN        NaN\n",
              "64        NaN        NaN  ...        NaN        NaN\n",
              "65        NaN        NaN  ...        NaN        NaN\n",
              "\n",
              "[66 rows x 9 columns]"
            ]
          },
          "metadata": {
            "tags": []
          },
          "execution_count": 38
        }
      ]
    },
    {
      "cell_type": "markdown",
      "metadata": {
        "id": "mCf0gGCZ-J8w",
        "colab_type": "text"
      },
      "source": [
        "## HTMLのテーブルを読み込む\n",
        "- read_html関数を使う"
      ]
    },
    {
      "cell_type": "code",
      "metadata": {
        "id": "PNk0FuyH9c-d",
        "colab_type": "code",
        "colab": {}
      },
      "source": [
        "# yahoo_financeより \n",
        "year_high = pd.read_html(\"https://info.finance.yahoo.co.jp/ranking/?kd=29&tm=d&mk=1\", parse_dates=[5])[0]"
      ],
      "execution_count": null,
      "outputs": []
    },
    {
      "cell_type": "code",
      "metadata": {
        "id": "ja8MvCda-ddv",
        "colab_type": "code",
        "colab": {
          "base_uri": "https://localhost:8080/",
          "height": 1000
        },
        "outputId": "44e5d697-1cb1-4e39-d93c-00c9e677be60"
      },
      "source": [
        "year_high"
      ],
      "execution_count": null,
      "outputs": [
        {
          "output_type": "execute_result",
          "data": {
            "text/html": [
              "<div>\n",
              "<style scoped>\n",
              "    .dataframe tbody tr th:only-of-type {\n",
              "        vertical-align: middle;\n",
              "    }\n",
              "\n",
              "    .dataframe tbody tr th {\n",
              "        vertical-align: top;\n",
              "    }\n",
              "\n",
              "    .dataframe thead th {\n",
              "        text-align: right;\n",
              "    }\n",
              "</style>\n",
              "<table border=\"1\" class=\"dataframe\">\n",
              "  <thead>\n",
              "    <tr style=\"text-align: right;\">\n",
              "      <th></th>\n",
              "      <th>コード</th>\n",
              "      <th>市場</th>\n",
              "      <th>名称</th>\n",
              "      <th>取引値</th>\n",
              "      <th>取引値.1</th>\n",
              "      <th>前営業日までの年初来高値</th>\n",
              "      <th>前営業日までの年初来高値.1</th>\n",
              "      <th>高値</th>\n",
              "      <th>掲示板</th>\n",
              "    </tr>\n",
              "  </thead>\n",
              "  <tbody>\n",
              "    <tr>\n",
              "      <th>0</th>\n",
              "      <td>1322</td>\n",
              "      <td>東証ETF</td>\n",
              "      <td>上場インデックス中国A株 E FUND CSI300</td>\n",
              "      <td>08/28</td>\n",
              "      <td>7160</td>\n",
              "      <td>2020/08/25</td>\n",
              "      <td>7070</td>\n",
              "      <td>7160</td>\n",
              "      <td>掲示板</td>\n",
              "    </tr>\n",
              "    <tr>\n",
              "      <th>1</th>\n",
              "      <td>1545</td>\n",
              "      <td>東証ETF</td>\n",
              "      <td>(NEXT FUNDS)NASDAQ-100(R)連動型上場投信</td>\n",
              "      <td>08/28</td>\n",
              "      <td>12920</td>\n",
              "      <td>2020/08/27</td>\n",
              "      <td>12860</td>\n",
              "      <td>13000</td>\n",
              "      <td>掲示板</td>\n",
              "    </tr>\n",
              "    <tr>\n",
              "      <th>2</th>\n",
              "      <td>1870</td>\n",
              "      <td>東証1部</td>\n",
              "      <td>矢作建設工業(株)</td>\n",
              "      <td>08/28</td>\n",
              "      <td>871</td>\n",
              "      <td>2020/08/17</td>\n",
              "      <td>879</td>\n",
              "      <td>890</td>\n",
              "      <td>掲示板</td>\n",
              "    </tr>\n",
              "    <tr>\n",
              "      <th>3</th>\n",
              "      <td>1926</td>\n",
              "      <td>東証1部</td>\n",
              "      <td>ライト工業(株)</td>\n",
              "      <td>08/28</td>\n",
              "      <td>1582</td>\n",
              "      <td>2020/01/23</td>\n",
              "      <td>1634</td>\n",
              "      <td>1644</td>\n",
              "      <td>掲示板</td>\n",
              "    </tr>\n",
              "    <tr>\n",
              "      <th>4</th>\n",
              "      <td>2487</td>\n",
              "      <td>東証1部</td>\n",
              "      <td>(株)ＣＤＧ</td>\n",
              "      <td>08/28</td>\n",
              "      <td>1700</td>\n",
              "      <td>2020/08/27</td>\n",
              "      <td>1705</td>\n",
              "      <td>1713</td>\n",
              "      <td>掲示板</td>\n",
              "    </tr>\n",
              "    <tr>\n",
              "      <th>5</th>\n",
              "      <td>2521</td>\n",
              "      <td>東証ETF</td>\n",
              "      <td>上場インデックスファンド米国株式(S&amp;P500)H有</td>\n",
              "      <td>08/28</td>\n",
              "      <td>1229</td>\n",
              "      <td>2020/08/27</td>\n",
              "      <td>1220</td>\n",
              "      <td>1230</td>\n",
              "      <td>掲示板</td>\n",
              "    </tr>\n",
              "    <tr>\n",
              "      <th>6</th>\n",
              "      <td>2522</td>\n",
              "      <td>東証ETF</td>\n",
              "      <td>iシェアーズ オートメーション&amp;ロボット ETF</td>\n",
              "      <td>08/28</td>\n",
              "      <td>2728</td>\n",
              "      <td>2020/08/27</td>\n",
              "      <td>2732</td>\n",
              "      <td>2761</td>\n",
              "      <td>掲示板</td>\n",
              "    </tr>\n",
              "    <tr>\n",
              "      <th>7</th>\n",
              "      <td>2562</td>\n",
              "      <td>東証ETF</td>\n",
              "      <td>上場インデックスファンド米国株式(ダウ平均)H有</td>\n",
              "      <td>08/28</td>\n",
              "      <td>2475</td>\n",
              "      <td>2020/08/25</td>\n",
              "      <td>2456</td>\n",
              "      <td>2480</td>\n",
              "      <td>掲示板</td>\n",
              "    </tr>\n",
              "    <tr>\n",
              "      <th>8</th>\n",
              "      <td>2563</td>\n",
              "      <td>東証ETF</td>\n",
              "      <td>iシェアーズ S&amp;P500 米国株 ETF(H有)</td>\n",
              "      <td>08/28</td>\n",
              "      <td>2269</td>\n",
              "      <td>2020/08/27</td>\n",
              "      <td>2253</td>\n",
              "      <td>2272</td>\n",
              "      <td>掲示板</td>\n",
              "    </tr>\n",
              "    <tr>\n",
              "      <th>9</th>\n",
              "      <td>2564</td>\n",
              "      <td>東証ETF</td>\n",
              "      <td>グローバルX MSCIスーパーディビィデンド-日本株式</td>\n",
              "      <td>08/28</td>\n",
              "      <td>1546</td>\n",
              "      <td>2020/08/27</td>\n",
              "      <td>1552</td>\n",
              "      <td>1584</td>\n",
              "      <td>掲示板</td>\n",
              "    </tr>\n",
              "    <tr>\n",
              "      <th>10</th>\n",
              "      <td>2607</td>\n",
              "      <td>東証1部</td>\n",
              "      <td>不二製油グループ本社(株)</td>\n",
              "      <td>08/28</td>\n",
              "      <td>3075</td>\n",
              "      <td>2020/08/18</td>\n",
              "      <td>3100</td>\n",
              "      <td>3120</td>\n",
              "      <td>掲示板</td>\n",
              "    </tr>\n",
              "    <tr>\n",
              "      <th>11</th>\n",
              "      <td>2681</td>\n",
              "      <td>東証1部</td>\n",
              "      <td>(株)ゲオホールディングス</td>\n",
              "      <td>08/28</td>\n",
              "      <td>1684</td>\n",
              "      <td>2020/08/24</td>\n",
              "      <td>1713</td>\n",
              "      <td>1719</td>\n",
              "      <td>掲示板</td>\n",
              "    </tr>\n",
              "    <tr>\n",
              "      <th>12</th>\n",
              "      <td>2818</td>\n",
              "      <td>東証1部</td>\n",
              "      <td>(株)ピエトロ</td>\n",
              "      <td>08/28</td>\n",
              "      <td>1665</td>\n",
              "      <td>2020/03/27</td>\n",
              "      <td>1671</td>\n",
              "      <td>1675</td>\n",
              "      <td>掲示板</td>\n",
              "    </tr>\n",
              "    <tr>\n",
              "      <th>13</th>\n",
              "      <td>3172</td>\n",
              "      <td>東証1部</td>\n",
              "      <td>ティーライフ(株)</td>\n",
              "      <td>08/28</td>\n",
              "      <td>1337</td>\n",
              "      <td>2020/08/24</td>\n",
              "      <td>1318</td>\n",
              "      <td>1434</td>\n",
              "      <td>掲示板</td>\n",
              "    </tr>\n",
              "    <tr>\n",
              "      <th>14</th>\n",
              "      <td>3199</td>\n",
              "      <td>東証1部</td>\n",
              "      <td>綿半ホールディングス(株)</td>\n",
              "      <td>08/28</td>\n",
              "      <td>2424</td>\n",
              "      <td>2020/08/19</td>\n",
              "      <td>2500</td>\n",
              "      <td>2528</td>\n",
              "      <td>掲示板</td>\n",
              "    </tr>\n",
              "    <tr>\n",
              "      <th>15</th>\n",
              "      <td>3254</td>\n",
              "      <td>東証1部</td>\n",
              "      <td>(株)プレサンスコーポレーション</td>\n",
              "      <td>08/28</td>\n",
              "      <td>1377</td>\n",
              "      <td>2020/08/13</td>\n",
              "      <td>1387</td>\n",
              "      <td>1406</td>\n",
              "      <td>掲示板</td>\n",
              "    </tr>\n",
              "    <tr>\n",
              "      <th>16</th>\n",
              "      <td>3326</td>\n",
              "      <td>東証JQS</td>\n",
              "      <td>(株)ランシステム</td>\n",
              "      <td>08/28</td>\n",
              "      <td>890</td>\n",
              "      <td>2020/01/29</td>\n",
              "      <td>1000</td>\n",
              "      <td>1078</td>\n",
              "      <td>掲示板</td>\n",
              "    </tr>\n",
              "    <tr>\n",
              "      <th>17</th>\n",
              "      <td>3465</td>\n",
              "      <td>東証1部</td>\n",
              "      <td>ケイアイスター不動産(株)</td>\n",
              "      <td>08/28</td>\n",
              "      <td>2137</td>\n",
              "      <td>2020/08/27</td>\n",
              "      <td>2136</td>\n",
              "      <td>2215</td>\n",
              "      <td>掲示板</td>\n",
              "    </tr>\n",
              "    <tr>\n",
              "      <th>18</th>\n",
              "      <td>3689</td>\n",
              "      <td>マザーズ</td>\n",
              "      <td>(株)イグニス</td>\n",
              "      <td>08/28</td>\n",
              "      <td>2850</td>\n",
              "      <td>2020/08/25</td>\n",
              "      <td>2890</td>\n",
              "      <td>2964</td>\n",
              "      <td>掲示板</td>\n",
              "    </tr>\n",
              "    <tr>\n",
              "      <th>19</th>\n",
              "      <td>3712</td>\n",
              "      <td>東証2部</td>\n",
              "      <td>(株)情報企画</td>\n",
              "      <td>08/28</td>\n",
              "      <td>2806</td>\n",
              "      <td>2020/01/20</td>\n",
              "      <td>2799</td>\n",
              "      <td>2900</td>\n",
              "      <td>掲示板</td>\n",
              "    </tr>\n",
              "    <tr>\n",
              "      <th>20</th>\n",
              "      <td>3915</td>\n",
              "      <td>東証1部</td>\n",
              "      <td>(株)テラスカイ</td>\n",
              "      <td>08/28</td>\n",
              "      <td>4620</td>\n",
              "      <td>2020/08/27</td>\n",
              "      <td>5340</td>\n",
              "      <td>5420</td>\n",
              "      <td>掲示板</td>\n",
              "    </tr>\n",
              "    <tr>\n",
              "      <th>21</th>\n",
              "      <td>3955</td>\n",
              "      <td>東証2部</td>\n",
              "      <td>(株)イムラ封筒</td>\n",
              "      <td>08/28</td>\n",
              "      <td>989</td>\n",
              "      <td>2020/08/20</td>\n",
              "      <td>864</td>\n",
              "      <td>994</td>\n",
              "      <td>掲示板</td>\n",
              "    </tr>\n",
              "    <tr>\n",
              "      <th>22</th>\n",
              "      <td>3966</td>\n",
              "      <td>マザーズ</td>\n",
              "      <td>(株)ユーザベース</td>\n",
              "      <td>08/28</td>\n",
              "      <td>2638</td>\n",
              "      <td>2020/08/27</td>\n",
              "      <td>2704</td>\n",
              "      <td>2745</td>\n",
              "      <td>掲示板</td>\n",
              "    </tr>\n",
              "    <tr>\n",
              "      <th>23</th>\n",
              "      <td>4051</td>\n",
              "      <td>マザーズ</td>\n",
              "      <td>ＧＭＯフィナンシャルゲート(株)</td>\n",
              "      <td>08/28</td>\n",
              "      <td>11970</td>\n",
              "      <td>2020/08/27</td>\n",
              "      <td>12180</td>\n",
              "      <td>13290</td>\n",
              "      <td>掲示板</td>\n",
              "    </tr>\n",
              "    <tr>\n",
              "      <th>24</th>\n",
              "      <td>4057</td>\n",
              "      <td>マザーズ</td>\n",
              "      <td>(株)インターファクトリー</td>\n",
              "      <td>08/28</td>\n",
              "      <td>5550</td>\n",
              "      <td>2020/08/27</td>\n",
              "      <td>6080</td>\n",
              "      <td>6990</td>\n",
              "      <td>掲示板</td>\n",
              "    </tr>\n",
              "    <tr>\n",
              "      <th>25</th>\n",
              "      <td>4100</td>\n",
              "      <td>東証1部</td>\n",
              "      <td>戸田工業(株)</td>\n",
              "      <td>08/28</td>\n",
              "      <td>2538</td>\n",
              "      <td>2020/08/27</td>\n",
              "      <td>2525</td>\n",
              "      <td>2622</td>\n",
              "      <td>掲示板</td>\n",
              "    </tr>\n",
              "    <tr>\n",
              "      <th>26</th>\n",
              "      <td>4182</td>\n",
              "      <td>東証1部</td>\n",
              "      <td>三菱ガス化学(株)</td>\n",
              "      <td>08/28</td>\n",
              "      <td>1914</td>\n",
              "      <td>2020/08/06</td>\n",
              "      <td>1938</td>\n",
              "      <td>1972</td>\n",
              "      <td>掲示板</td>\n",
              "    </tr>\n",
              "    <tr>\n",
              "      <th>27</th>\n",
              "      <td>4299</td>\n",
              "      <td>東証1部</td>\n",
              "      <td>(株)ハイマックス</td>\n",
              "      <td>08/28</td>\n",
              "      <td>2414</td>\n",
              "      <td>2020/08/27</td>\n",
              "      <td>2500</td>\n",
              "      <td>3000</td>\n",
              "      <td>掲示板</td>\n",
              "    </tr>\n",
              "    <tr>\n",
              "      <th>28</th>\n",
              "      <td>4304</td>\n",
              "      <td>東証JQS</td>\n",
              "      <td>(株)Ｅストアー</td>\n",
              "      <td>08/28</td>\n",
              "      <td>1257</td>\n",
              "      <td>2020/08/27</td>\n",
              "      <td>1364</td>\n",
              "      <td>1371</td>\n",
              "      <td>掲示板</td>\n",
              "    </tr>\n",
              "    <tr>\n",
              "      <th>29</th>\n",
              "      <td>4327</td>\n",
              "      <td>東証JQS</td>\n",
              "      <td>日本エス・エイチ・エル(株)</td>\n",
              "      <td>08/28</td>\n",
              "      <td>2356</td>\n",
              "      <td>2020/08/25</td>\n",
              "      <td>2383</td>\n",
              "      <td>2440</td>\n",
              "      <td>掲示板</td>\n",
              "    </tr>\n",
              "    <tr>\n",
              "      <th>30</th>\n",
              "      <td>4427</td>\n",
              "      <td>マザーズ</td>\n",
              "      <td>(株)ＥｄｕＬａｂ</td>\n",
              "      <td>08/28</td>\n",
              "      <td>7460</td>\n",
              "      <td>2020/08/27</td>\n",
              "      <td>7330</td>\n",
              "      <td>7980</td>\n",
              "      <td>掲示板</td>\n",
              "    </tr>\n",
              "    <tr>\n",
              "      <th>31</th>\n",
              "      <td>4481</td>\n",
              "      <td>東証2部</td>\n",
              "      <td>ベース(株)</td>\n",
              "      <td>08/28</td>\n",
              "      <td>5290</td>\n",
              "      <td>2020/08/27</td>\n",
              "      <td>5760</td>\n",
              "      <td>5890</td>\n",
              "      <td>掲示板</td>\n",
              "    </tr>\n",
              "    <tr>\n",
              "      <th>32</th>\n",
              "      <td>4825</td>\n",
              "      <td>東証1部</td>\n",
              "      <td>(株)ウェザーニューズ</td>\n",
              "      <td>08/28</td>\n",
              "      <td>4595</td>\n",
              "      <td>2020/08/26</td>\n",
              "      <td>4665</td>\n",
              "      <td>4760</td>\n",
              "      <td>掲示板</td>\n",
              "    </tr>\n",
              "    <tr>\n",
              "      <th>33</th>\n",
              "      <td>4921</td>\n",
              "      <td>東証1部</td>\n",
              "      <td>(株)ファンケル</td>\n",
              "      <td>08/28</td>\n",
              "      <td>3425</td>\n",
              "      <td>2020/08/27</td>\n",
              "      <td>3455</td>\n",
              "      <td>3520</td>\n",
              "      <td>掲示板</td>\n",
              "    </tr>\n",
              "    <tr>\n",
              "      <th>34</th>\n",
              "      <td>4931</td>\n",
              "      <td>マザーズ</td>\n",
              "      <td>新日本製薬(株)</td>\n",
              "      <td>08/28</td>\n",
              "      <td>2505</td>\n",
              "      <td>2020/08/27</td>\n",
              "      <td>2515</td>\n",
              "      <td>2962</td>\n",
              "      <td>掲示板</td>\n",
              "    </tr>\n",
              "    <tr>\n",
              "      <th>35</th>\n",
              "      <td>4975</td>\n",
              "      <td>東証1部</td>\n",
              "      <td>(株)ＪＣＵ</td>\n",
              "      <td>08/28</td>\n",
              "      <td>3545</td>\n",
              "      <td>2020/08/27</td>\n",
              "      <td>3665</td>\n",
              "      <td>3675</td>\n",
              "      <td>掲示板</td>\n",
              "    </tr>\n",
              "    <tr>\n",
              "      <th>36</th>\n",
              "      <td>5105</td>\n",
              "      <td>東証1部</td>\n",
              "      <td>ＴＯＹＯ　ＴＩＲＥ(株)</td>\n",
              "      <td>08/28</td>\n",
              "      <td>1729</td>\n",
              "      <td>2020/08/27</td>\n",
              "      <td>1786</td>\n",
              "      <td>1799</td>\n",
              "      <td>掲示板</td>\n",
              "    </tr>\n",
              "    <tr>\n",
              "      <th>37</th>\n",
              "      <td>5212</td>\n",
              "      <td>東証JQS</td>\n",
              "      <td>不二硝子(株)</td>\n",
              "      <td>08/28</td>\n",
              "      <td>1740</td>\n",
              "      <td>2020/08/27</td>\n",
              "      <td>2218</td>\n",
              "      <td>2290</td>\n",
              "      <td>掲示板</td>\n",
              "    </tr>\n",
              "    <tr>\n",
              "      <th>38</th>\n",
              "      <td>5947</td>\n",
              "      <td>名証1部</td>\n",
              "      <td>リンナイ(株)</td>\n",
              "      <td>08/28</td>\n",
              "      <td>9850</td>\n",
              "      <td>2020/05/29</td>\n",
              "      <td>9180</td>\n",
              "      <td>9850</td>\n",
              "      <td>掲示板</td>\n",
              "    </tr>\n",
              "    <tr>\n",
              "      <th>39</th>\n",
              "      <td>5947</td>\n",
              "      <td>東証1部</td>\n",
              "      <td>リンナイ(株)</td>\n",
              "      <td>08/28</td>\n",
              "      <td>9670</td>\n",
              "      <td>2020/08/24</td>\n",
              "      <td>9830</td>\n",
              "      <td>9890</td>\n",
              "      <td>掲示板</td>\n",
              "    </tr>\n",
              "    <tr>\n",
              "      <th>40</th>\n",
              "      <td>5974</td>\n",
              "      <td>東証2部</td>\n",
              "      <td>中国工業(株)</td>\n",
              "      <td>08/28</td>\n",
              "      <td>590</td>\n",
              "      <td>2020/08/25</td>\n",
              "      <td>615</td>\n",
              "      <td>626</td>\n",
              "      <td>掲示板</td>\n",
              "    </tr>\n",
              "    <tr>\n",
              "      <th>41</th>\n",
              "      <td>6036</td>\n",
              "      <td>東証1部</td>\n",
              "      <td>ＫｅｅＰｅｒ技研(株)</td>\n",
              "      <td>08/28</td>\n",
              "      <td>2362</td>\n",
              "      <td>2020/08/24</td>\n",
              "      <td>2388</td>\n",
              "      <td>2439</td>\n",
              "      <td>掲示板</td>\n",
              "    </tr>\n",
              "    <tr>\n",
              "      <th>42</th>\n",
              "      <td>6062</td>\n",
              "      <td>東証1部</td>\n",
              "      <td>(株)チャーム・ケア・コーポレーション</td>\n",
              "      <td>08/28</td>\n",
              "      <td>968</td>\n",
              "      <td>2020/01/14</td>\n",
              "      <td>1006</td>\n",
              "      <td>1008</td>\n",
              "      <td>掲示板</td>\n",
              "    </tr>\n",
              "    <tr>\n",
              "      <th>43</th>\n",
              "      <td>6087</td>\n",
              "      <td>東証1部</td>\n",
              "      <td>(株)アビスト</td>\n",
              "      <td>08/28</td>\n",
              "      <td>2877</td>\n",
              "      <td>2020/08/27</td>\n",
              "      <td>2860</td>\n",
              "      <td>2940</td>\n",
              "      <td>掲示板</td>\n",
              "    </tr>\n",
              "    <tr>\n",
              "      <th>44</th>\n",
              "      <td>6199</td>\n",
              "      <td>東証1部</td>\n",
              "      <td>(株)セラク</td>\n",
              "      <td>08/28</td>\n",
              "      <td>1483</td>\n",
              "      <td>2020/08/27</td>\n",
              "      <td>1480</td>\n",
              "      <td>1560</td>\n",
              "      <td>掲示板</td>\n",
              "    </tr>\n",
              "    <tr>\n",
              "      <th>45</th>\n",
              "      <td>6305</td>\n",
              "      <td>東証1部</td>\n",
              "      <td>日立建機(株)</td>\n",
              "      <td>08/28</td>\n",
              "      <td>3665</td>\n",
              "      <td>2020/08/25</td>\n",
              "      <td>3720</td>\n",
              "      <td>3750</td>\n",
              "      <td>掲示板</td>\n",
              "    </tr>\n",
              "    <tr>\n",
              "      <th>46</th>\n",
              "      <td>6326</td>\n",
              "      <td>東証1部</td>\n",
              "      <td>(株)クボタ</td>\n",
              "      <td>08/28</td>\n",
              "      <td>1878</td>\n",
              "      <td>2020/08/27</td>\n",
              "      <td>1888</td>\n",
              "      <td>1921</td>\n",
              "      <td>掲示板</td>\n",
              "    </tr>\n",
              "    <tr>\n",
              "      <th>47</th>\n",
              "      <td>6406</td>\n",
              "      <td>東証1部</td>\n",
              "      <td>フジテック(株)</td>\n",
              "      <td>08/28</td>\n",
              "      <td>2170</td>\n",
              "      <td>2020/08/25</td>\n",
              "      <td>2215</td>\n",
              "      <td>2257</td>\n",
              "      <td>掲示板</td>\n",
              "    </tr>\n",
              "    <tr>\n",
              "      <th>48</th>\n",
              "      <td>6432</td>\n",
              "      <td>東証1部</td>\n",
              "      <td>(株)竹内製作所</td>\n",
              "      <td>08/28</td>\n",
              "      <td>2169</td>\n",
              "      <td>2020/08/25</td>\n",
              "      <td>2218</td>\n",
              "      <td>2231</td>\n",
              "      <td>掲示板</td>\n",
              "    </tr>\n",
              "    <tr>\n",
              "      <th>49</th>\n",
              "      <td>6455</td>\n",
              "      <td>東証1部</td>\n",
              "      <td>(株)モリタホールディングス</td>\n",
              "      <td>08/28</td>\n",
              "      <td>2001</td>\n",
              "      <td>2020/08/18</td>\n",
              "      <td>1997</td>\n",
              "      <td>2030</td>\n",
              "      <td>掲示板</td>\n",
              "    </tr>\n",
              "    <tr>\n",
              "      <th>50</th>\n",
              "      <td>コード</td>\n",
              "      <td>市場</td>\n",
              "      <td>名称</td>\n",
              "      <td>取引値</td>\n",
              "      <td>取引値</td>\n",
              "      <td>前営業日までの年初来高値</td>\n",
              "      <td>前営業日までの年初来高値</td>\n",
              "      <td>高値</td>\n",
              "      <td>掲示板</td>\n",
              "    </tr>\n",
              "  </tbody>\n",
              "</table>\n",
              "</div>"
            ],
            "text/plain": [
              "     コード     市場                                名称  ... 前営業日までの年初来高値.1     高値  掲示板\n",
              "0   1322  東証ETF        上場インデックス中国A株 E FUND CSI300  ...           7070   7160  掲示板\n",
              "1   1545  東証ETF  (NEXT FUNDS)NASDAQ-100(R)連動型上場投信  ...          12860  13000  掲示板\n",
              "2   1870   東証1部                         矢作建設工業(株)  ...            879    890  掲示板\n",
              "3   1926   東証1部                          ライト工業(株)  ...           1634   1644  掲示板\n",
              "4   2487   東証1部                            (株)ＣＤＧ  ...           1705   1713  掲示板\n",
              "5   2521  東証ETF        上場インデックスファンド米国株式(S&P500)H有  ...           1220   1230  掲示板\n",
              "6   2522  東証ETF          iシェアーズ オートメーション&ロボット ETF  ...           2732   2761  掲示板\n",
              "7   2562  東証ETF          上場インデックスファンド米国株式(ダウ平均)H有  ...           2456   2480  掲示板\n",
              "8   2563  東証ETF         iシェアーズ S&P500 米国株 ETF(H有)  ...           2253   2272  掲示板\n",
              "9   2564  東証ETF       グローバルX MSCIスーパーディビィデンド-日本株式  ...           1552   1584  掲示板\n",
              "10  2607   東証1部                     不二製油グループ本社(株)  ...           3100   3120  掲示板\n",
              "11  2681   東証1部                     (株)ゲオホールディングス  ...           1713   1719  掲示板\n",
              "12  2818   東証1部                           (株)ピエトロ  ...           1671   1675  掲示板\n",
              "13  3172   東証1部                         ティーライフ(株)  ...           1318   1434  掲示板\n",
              "14  3199   東証1部                     綿半ホールディングス(株)  ...           2500   2528  掲示板\n",
              "15  3254   東証1部                  (株)プレサンスコーポレーション  ...           1387   1406  掲示板\n",
              "16  3326  東証JQS                         (株)ランシステム  ...           1000   1078  掲示板\n",
              "17  3465   東証1部                     ケイアイスター不動産(株)  ...           2136   2215  掲示板\n",
              "18  3689   マザーズ                           (株)イグニス  ...           2890   2964  掲示板\n",
              "19  3712   東証2部                           (株)情報企画  ...           2799   2900  掲示板\n",
              "20  3915   東証1部                          (株)テラスカイ  ...           5340   5420  掲示板\n",
              "21  3955   東証2部                          (株)イムラ封筒  ...            864    994  掲示板\n",
              "22  3966   マザーズ                         (株)ユーザベース  ...           2704   2745  掲示板\n",
              "23  4051   マザーズ                  ＧＭＯフィナンシャルゲート(株)  ...          12180  13290  掲示板\n",
              "24  4057   マザーズ                     (株)インターファクトリー  ...           6080   6990  掲示板\n",
              "25  4100   東証1部                           戸田工業(株)  ...           2525   2622  掲示板\n",
              "26  4182   東証1部                         三菱ガス化学(株)  ...           1938   1972  掲示板\n",
              "27  4299   東証1部                         (株)ハイマックス  ...           2500   3000  掲示板\n",
              "28  4304  東証JQS                          (株)Ｅストアー  ...           1364   1371  掲示板\n",
              "29  4327  東証JQS                    日本エス・エイチ・エル(株)  ...           2383   2440  掲示板\n",
              "30  4427   マザーズ                         (株)ＥｄｕＬａｂ  ...           7330   7980  掲示板\n",
              "31  4481   東証2部                            ベース(株)  ...           5760   5890  掲示板\n",
              "32  4825   東証1部                       (株)ウェザーニューズ  ...           4665   4760  掲示板\n",
              "33  4921   東証1部                          (株)ファンケル  ...           3455   3520  掲示板\n",
              "34  4931   マザーズ                          新日本製薬(株)  ...           2515   2962  掲示板\n",
              "35  4975   東証1部                            (株)ＪＣＵ  ...           3665   3675  掲示板\n",
              "36  5105   東証1部                      ＴＯＹＯ　ＴＩＲＥ(株)  ...           1786   1799  掲示板\n",
              "37  5212  東証JQS                           不二硝子(株)  ...           2218   2290  掲示板\n",
              "38  5947   名証1部                           リンナイ(株)  ...           9180   9850  掲示板\n",
              "39  5947   東証1部                           リンナイ(株)  ...           9830   9890  掲示板\n",
              "40  5974   東証2部                           中国工業(株)  ...            615    626  掲示板\n",
              "41  6036   東証1部                       ＫｅｅＰｅｒ技研(株)  ...           2388   2439  掲示板\n",
              "42  6062   東証1部               (株)チャーム・ケア・コーポレーション  ...           1006   1008  掲示板\n",
              "43  6087   東証1部                           (株)アビスト  ...           2860   2940  掲示板\n",
              "44  6199   東証1部                            (株)セラク  ...           1480   1560  掲示板\n",
              "45  6305   東証1部                           日立建機(株)  ...           3720   3750  掲示板\n",
              "46  6326   東証1部                            (株)クボタ  ...           1888   1921  掲示板\n",
              "47  6406   東証1部                          フジテック(株)  ...           2215   2257  掲示板\n",
              "48  6432   東証1部                          (株)竹内製作所  ...           2218   2231  掲示板\n",
              "49  6455   東証1部                    (株)モリタホールディングス  ...           1997   2030  掲示板\n",
              "50   コード     市場                                名称  ...   前営業日までの年初来高値     高値  掲示板\n",
              "\n",
              "[51 rows x 9 columns]"
            ]
          },
          "metadata": {
            "tags": []
          },
          "execution_count": 40
        }
      ]
    },
    {
      "cell_type": "markdown",
      "metadata": {
        "id": "aj5GmwOE_-eU",
        "colab_type": "text"
      },
      "source": [
        "# データを観察する"
      ]
    },
    {
      "cell_type": "markdown",
      "metadata": {
        "id": "NafgCjKXAWKT",
        "colab_type": "text"
      },
      "source": [
        "## 概要を観察する\n",
        "- 先頭行を観察するheadメソッド\n",
        "- 最終行を観察するtailメソッド\n",
        "- データの大まかな統計値を観察するdescribeメソッド\n",
        "- データのインデックスやコラムのデータ型や数値でないデータの情報を得られるinfoメソッド\n",
        "- データの行列数を確認するshape属性"
      ]
    },
    {
      "cell_type": "code",
      "metadata": {
        "id": "FZCVakeb-pcK",
        "colab_type": "code",
        "colab": {
          "base_uri": "https://localhost:8080/",
          "height": 686
        },
        "outputId": "0f48b747-b66d-418e-9d42-fa3cfd36d718"
      },
      "source": [
        "df_fukuoka_covid.head()"
      ],
      "execution_count": null,
      "outputs": [
        {
          "output_type": "execute_result",
          "data": {
            "text/html": [
              "<div>\n",
              "<style scoped>\n",
              "    .dataframe tbody tr th:only-of-type {\n",
              "        vertical-align: middle;\n",
              "    }\n",
              "\n",
              "    .dataframe tbody tr th {\n",
              "        vertical-align: top;\n",
              "    }\n",
              "\n",
              "    .dataframe thead th {\n",
              "        text-align: right;\n",
              "    }\n",
              "</style>\n",
              "<table border=\"1\" class=\"dataframe\">\n",
              "  <thead>\n",
              "    <tr style=\"text-align: right;\">\n",
              "      <th></th>\n",
              "      <th>No</th>\n",
              "      <th>全国地方公共団体コード</th>\n",
              "      <th>都道府県名</th>\n",
              "      <th>市区町村名</th>\n",
              "      <th>公表_年月日</th>\n",
              "      <th>曜日</th>\n",
              "      <th>発症_年月日</th>\n",
              "      <th>居住地</th>\n",
              "      <th>年代</th>\n",
              "      <th>性別</th>\n",
              "      <th>患者_属性</th>\n",
              "      <th>患者_状態</th>\n",
              "      <th>患者_症状</th>\n",
              "      <th>患者_渡航歴の有無フラグ</th>\n",
              "      <th>備考</th>\n",
              "      <th>退院済フラグ</th>\n",
              "    </tr>\n",
              "  </thead>\n",
              "  <tbody>\n",
              "    <tr>\n",
              "      <th>0</th>\n",
              "      <td>1</td>\n",
              "      <td>401307</td>\n",
              "      <td>福岡県</td>\n",
              "      <td>福岡市</td>\n",
              "      <td>2020/2/20</td>\n",
              "      <td>木</td>\n",
              "      <td>NaN</td>\n",
              "      <td>福岡市中央区</td>\n",
              "      <td>60代</td>\n",
              "      <td>男性</td>\n",
              "      <td>NaN</td>\n",
              "      <td>NaN</td>\n",
              "      <td>NaN</td>\n",
              "      <td>NaN</td>\n",
              "      <td>NaN</td>\n",
              "      <td>NaN</td>\n",
              "    </tr>\n",
              "    <tr>\n",
              "      <th>1</th>\n",
              "      <td>2</td>\n",
              "      <td>401307</td>\n",
              "      <td>福岡県</td>\n",
              "      <td>福岡市</td>\n",
              "      <td>2020/2/20</td>\n",
              "      <td>木</td>\n",
              "      <td>NaN</td>\n",
              "      <td>福岡市中央区</td>\n",
              "      <td>60代</td>\n",
              "      <td>女性</td>\n",
              "      <td>NaN</td>\n",
              "      <td>NaN</td>\n",
              "      <td>NaN</td>\n",
              "      <td>NaN</td>\n",
              "      <td>NaN</td>\n",
              "      <td>NaN</td>\n",
              "    </tr>\n",
              "    <tr>\n",
              "      <th>2</th>\n",
              "      <td>3</td>\n",
              "      <td>401307</td>\n",
              "      <td>福岡県</td>\n",
              "      <td>福岡市</td>\n",
              "      <td>2020/3/17</td>\n",
              "      <td>火</td>\n",
              "      <td>NaN</td>\n",
              "      <td>福岡市南区</td>\n",
              "      <td>30代</td>\n",
              "      <td>女性</td>\n",
              "      <td>NaN</td>\n",
              "      <td>NaN</td>\n",
              "      <td>NaN</td>\n",
              "      <td>1.0</td>\n",
              "      <td>NaN</td>\n",
              "      <td>NaN</td>\n",
              "    </tr>\n",
              "    <tr>\n",
              "      <th>3</th>\n",
              "      <td>4</td>\n",
              "      <td>401307</td>\n",
              "      <td>福岡県</td>\n",
              "      <td>福岡市</td>\n",
              "      <td>2020/3/24</td>\n",
              "      <td>火</td>\n",
              "      <td>NaN</td>\n",
              "      <td>福岡市早良区</td>\n",
              "      <td>40代</td>\n",
              "      <td>男性</td>\n",
              "      <td>NaN</td>\n",
              "      <td>NaN</td>\n",
              "      <td>NaN</td>\n",
              "      <td>NaN</td>\n",
              "      <td>NaN</td>\n",
              "      <td>NaN</td>\n",
              "    </tr>\n",
              "    <tr>\n",
              "      <th>4</th>\n",
              "      <td>5</td>\n",
              "      <td>401307</td>\n",
              "      <td>福岡県</td>\n",
              "      <td>福岡市</td>\n",
              "      <td>2020/3/26</td>\n",
              "      <td>木</td>\n",
              "      <td>NaN</td>\n",
              "      <td>福岡市東区</td>\n",
              "      <td>50代</td>\n",
              "      <td>男性</td>\n",
              "      <td>NaN</td>\n",
              "      <td>NaN</td>\n",
              "      <td>NaN</td>\n",
              "      <td>NaN</td>\n",
              "      <td>NaN</td>\n",
              "      <td>NaN</td>\n",
              "    </tr>\n",
              "  </tbody>\n",
              "</table>\n",
              "</div>"
            ],
            "text/plain": [
              "   No  全国地方公共団体コード 都道府県名 市区町村名  ... 患者_症状 患者_渡航歴の有無フラグ  備考 退院済フラグ\n",
              "0   1       401307   福岡県   福岡市  ...   NaN          NaN NaN    NaN\n",
              "1   2       401307   福岡県   福岡市  ...   NaN          NaN NaN    NaN\n",
              "2   3       401307   福岡県   福岡市  ...   NaN          1.0 NaN    NaN\n",
              "3   4       401307   福岡県   福岡市  ...   NaN          NaN NaN    NaN\n",
              "4   5       401307   福岡県   福岡市  ...   NaN          NaN NaN    NaN\n",
              "\n",
              "[5 rows x 16 columns]"
            ]
          },
          "metadata": {
            "tags": []
          },
          "execution_count": 41
        }
      ]
    },
    {
      "cell_type": "code",
      "metadata": {
        "id": "QuRrpvk2ATYZ",
        "colab_type": "code",
        "colab": {
          "base_uri": "https://localhost:8080/",
          "height": 686
        },
        "outputId": "09c74a17-0fb4-4419-8b50-f156fd3cf841"
      },
      "source": [
        "df_fukuoka_covid.tail()"
      ],
      "execution_count": null,
      "outputs": [
        {
          "output_type": "execute_result",
          "data": {
            "text/html": [
              "<div>\n",
              "<style scoped>\n",
              "    .dataframe tbody tr th:only-of-type {\n",
              "        vertical-align: middle;\n",
              "    }\n",
              "\n",
              "    .dataframe tbody tr th {\n",
              "        vertical-align: top;\n",
              "    }\n",
              "\n",
              "    .dataframe thead th {\n",
              "        text-align: right;\n",
              "    }\n",
              "</style>\n",
              "<table border=\"1\" class=\"dataframe\">\n",
              "  <thead>\n",
              "    <tr style=\"text-align: right;\">\n",
              "      <th></th>\n",
              "      <th>No</th>\n",
              "      <th>全国地方公共団体コード</th>\n",
              "      <th>都道府県名</th>\n",
              "      <th>市区町村名</th>\n",
              "      <th>公表_年月日</th>\n",
              "      <th>曜日</th>\n",
              "      <th>発症_年月日</th>\n",
              "      <th>居住地</th>\n",
              "      <th>年代</th>\n",
              "      <th>性別</th>\n",
              "      <th>患者_属性</th>\n",
              "      <th>患者_状態</th>\n",
              "      <th>患者_症状</th>\n",
              "      <th>患者_渡航歴の有無フラグ</th>\n",
              "      <th>備考</th>\n",
              "      <th>退院済フラグ</th>\n",
              "    </tr>\n",
              "  </thead>\n",
              "  <tbody>\n",
              "    <tr>\n",
              "      <th>2593</th>\n",
              "      <td>2600</td>\n",
              "      <td>401307</td>\n",
              "      <td>福岡県</td>\n",
              "      <td>福岡市</td>\n",
              "      <td>2020/8/28</td>\n",
              "      <td>金</td>\n",
              "      <td>NaN</td>\n",
              "      <td>福岡市城南区</td>\n",
              "      <td>30代</td>\n",
              "      <td>女性</td>\n",
              "      <td>NaN</td>\n",
              "      <td>NaN</td>\n",
              "      <td>NaN</td>\n",
              "      <td>NaN</td>\n",
              "      <td>NaN</td>\n",
              "      <td>NaN</td>\n",
              "    </tr>\n",
              "    <tr>\n",
              "      <th>2594</th>\n",
              "      <td>2601</td>\n",
              "      <td>401307</td>\n",
              "      <td>福岡県</td>\n",
              "      <td>福岡市</td>\n",
              "      <td>2020/8/28</td>\n",
              "      <td>金</td>\n",
              "      <td>NaN</td>\n",
              "      <td>福岡市博多区</td>\n",
              "      <td>10代</td>\n",
              "      <td>女性</td>\n",
              "      <td>NaN</td>\n",
              "      <td>NaN</td>\n",
              "      <td>NaN</td>\n",
              "      <td>NaN</td>\n",
              "      <td>NaN</td>\n",
              "      <td>NaN</td>\n",
              "    </tr>\n",
              "    <tr>\n",
              "      <th>2595</th>\n",
              "      <td>2602</td>\n",
              "      <td>401307</td>\n",
              "      <td>福岡県</td>\n",
              "      <td>福岡市</td>\n",
              "      <td>2020/8/28</td>\n",
              "      <td>金</td>\n",
              "      <td>NaN</td>\n",
              "      <td>福岡市東区</td>\n",
              "      <td>60代</td>\n",
              "      <td>男性</td>\n",
              "      <td>NaN</td>\n",
              "      <td>NaN</td>\n",
              "      <td>NaN</td>\n",
              "      <td>NaN</td>\n",
              "      <td>NaN</td>\n",
              "      <td>NaN</td>\n",
              "    </tr>\n",
              "    <tr>\n",
              "      <th>2596</th>\n",
              "      <td>2603</td>\n",
              "      <td>401307</td>\n",
              "      <td>福岡県</td>\n",
              "      <td>福岡市</td>\n",
              "      <td>2020/8/28</td>\n",
              "      <td>金</td>\n",
              "      <td>NaN</td>\n",
              "      <td>福岡市東区</td>\n",
              "      <td>60代</td>\n",
              "      <td>女性</td>\n",
              "      <td>NaN</td>\n",
              "      <td>NaN</td>\n",
              "      <td>NaN</td>\n",
              "      <td>NaN</td>\n",
              "      <td>NaN</td>\n",
              "      <td>NaN</td>\n",
              "    </tr>\n",
              "    <tr>\n",
              "      <th>2597</th>\n",
              "      <td>2604</td>\n",
              "      <td>401307</td>\n",
              "      <td>福岡県</td>\n",
              "      <td>福岡市</td>\n",
              "      <td>2020/8/28</td>\n",
              "      <td>金</td>\n",
              "      <td>NaN</td>\n",
              "      <td>福岡市中央区</td>\n",
              "      <td>70代</td>\n",
              "      <td>女性</td>\n",
              "      <td>NaN</td>\n",
              "      <td>NaN</td>\n",
              "      <td>NaN</td>\n",
              "      <td>NaN</td>\n",
              "      <td>NaN</td>\n",
              "      <td>NaN</td>\n",
              "    </tr>\n",
              "  </tbody>\n",
              "</table>\n",
              "</div>"
            ],
            "text/plain": [
              "        No  全国地方公共団体コード 都道府県名 市区町村名  ... 患者_症状 患者_渡航歴の有無フラグ  備考 退院済フラグ\n",
              "2593  2600       401307   福岡県   福岡市  ...   NaN          NaN NaN    NaN\n",
              "2594  2601       401307   福岡県   福岡市  ...   NaN          NaN NaN    NaN\n",
              "2595  2602       401307   福岡県   福岡市  ...   NaN          NaN NaN    NaN\n",
              "2596  2603       401307   福岡県   福岡市  ...   NaN          NaN NaN    NaN\n",
              "2597  2604       401307   福岡県   福岡市  ...   NaN          NaN NaN    NaN\n",
              "\n",
              "[5 rows x 16 columns]"
            ]
          },
          "metadata": {
            "tags": []
          },
          "execution_count": 43
        }
      ]
    },
    {
      "cell_type": "code",
      "metadata": {
        "id": "s29enTSkAeyC",
        "colab_type": "code",
        "colab": {
          "base_uri": "https://localhost:8080/",
          "height": 1000
        },
        "outputId": "fa862f68-3d7a-45d3-e1f3-870199084b01"
      },
      "source": [
        "# 行数を変える場合引数nに値を渡す（初期値は5）\n",
        "df_fukuoka_covid.head(15)"
      ],
      "execution_count": null,
      "outputs": [
        {
          "output_type": "execute_result",
          "data": {
            "text/html": [
              "<div>\n",
              "<style scoped>\n",
              "    .dataframe tbody tr th:only-of-type {\n",
              "        vertical-align: middle;\n",
              "    }\n",
              "\n",
              "    .dataframe tbody tr th {\n",
              "        vertical-align: top;\n",
              "    }\n",
              "\n",
              "    .dataframe thead th {\n",
              "        text-align: right;\n",
              "    }\n",
              "</style>\n",
              "<table border=\"1\" class=\"dataframe\">\n",
              "  <thead>\n",
              "    <tr style=\"text-align: right;\">\n",
              "      <th></th>\n",
              "      <th>No</th>\n",
              "      <th>全国地方公共団体コード</th>\n",
              "      <th>都道府県名</th>\n",
              "      <th>市区町村名</th>\n",
              "      <th>公表_年月日</th>\n",
              "      <th>曜日</th>\n",
              "      <th>発症_年月日</th>\n",
              "      <th>居住地</th>\n",
              "      <th>年代</th>\n",
              "      <th>性別</th>\n",
              "      <th>患者_属性</th>\n",
              "      <th>患者_状態</th>\n",
              "      <th>患者_症状</th>\n",
              "      <th>患者_渡航歴の有無フラグ</th>\n",
              "      <th>備考</th>\n",
              "      <th>退院済フラグ</th>\n",
              "    </tr>\n",
              "  </thead>\n",
              "  <tbody>\n",
              "    <tr>\n",
              "      <th>0</th>\n",
              "      <td>1</td>\n",
              "      <td>401307</td>\n",
              "      <td>福岡県</td>\n",
              "      <td>福岡市</td>\n",
              "      <td>2020/2/20</td>\n",
              "      <td>木</td>\n",
              "      <td>NaN</td>\n",
              "      <td>福岡市中央区</td>\n",
              "      <td>60代</td>\n",
              "      <td>男性</td>\n",
              "      <td>NaN</td>\n",
              "      <td>NaN</td>\n",
              "      <td>NaN</td>\n",
              "      <td>NaN</td>\n",
              "      <td>NaN</td>\n",
              "      <td>NaN</td>\n",
              "    </tr>\n",
              "    <tr>\n",
              "      <th>1</th>\n",
              "      <td>2</td>\n",
              "      <td>401307</td>\n",
              "      <td>福岡県</td>\n",
              "      <td>福岡市</td>\n",
              "      <td>2020/2/20</td>\n",
              "      <td>木</td>\n",
              "      <td>NaN</td>\n",
              "      <td>福岡市中央区</td>\n",
              "      <td>60代</td>\n",
              "      <td>女性</td>\n",
              "      <td>NaN</td>\n",
              "      <td>NaN</td>\n",
              "      <td>NaN</td>\n",
              "      <td>NaN</td>\n",
              "      <td>NaN</td>\n",
              "      <td>NaN</td>\n",
              "    </tr>\n",
              "    <tr>\n",
              "      <th>2</th>\n",
              "      <td>3</td>\n",
              "      <td>401307</td>\n",
              "      <td>福岡県</td>\n",
              "      <td>福岡市</td>\n",
              "      <td>2020/3/17</td>\n",
              "      <td>火</td>\n",
              "      <td>NaN</td>\n",
              "      <td>福岡市南区</td>\n",
              "      <td>30代</td>\n",
              "      <td>女性</td>\n",
              "      <td>NaN</td>\n",
              "      <td>NaN</td>\n",
              "      <td>NaN</td>\n",
              "      <td>1.0</td>\n",
              "      <td>NaN</td>\n",
              "      <td>NaN</td>\n",
              "    </tr>\n",
              "    <tr>\n",
              "      <th>3</th>\n",
              "      <td>4</td>\n",
              "      <td>401307</td>\n",
              "      <td>福岡県</td>\n",
              "      <td>福岡市</td>\n",
              "      <td>2020/3/24</td>\n",
              "      <td>火</td>\n",
              "      <td>NaN</td>\n",
              "      <td>福岡市早良区</td>\n",
              "      <td>40代</td>\n",
              "      <td>男性</td>\n",
              "      <td>NaN</td>\n",
              "      <td>NaN</td>\n",
              "      <td>NaN</td>\n",
              "      <td>NaN</td>\n",
              "      <td>NaN</td>\n",
              "      <td>NaN</td>\n",
              "    </tr>\n",
              "    <tr>\n",
              "      <th>4</th>\n",
              "      <td>5</td>\n",
              "      <td>401307</td>\n",
              "      <td>福岡県</td>\n",
              "      <td>福岡市</td>\n",
              "      <td>2020/3/26</td>\n",
              "      <td>木</td>\n",
              "      <td>NaN</td>\n",
              "      <td>福岡市東区</td>\n",
              "      <td>50代</td>\n",
              "      <td>男性</td>\n",
              "      <td>NaN</td>\n",
              "      <td>NaN</td>\n",
              "      <td>NaN</td>\n",
              "      <td>NaN</td>\n",
              "      <td>NaN</td>\n",
              "      <td>NaN</td>\n",
              "    </tr>\n",
              "    <tr>\n",
              "      <th>5</th>\n",
              "      <td>6</td>\n",
              "      <td>401307</td>\n",
              "      <td>福岡県</td>\n",
              "      <td>福岡市</td>\n",
              "      <td>2020/3/26</td>\n",
              "      <td>木</td>\n",
              "      <td>NaN</td>\n",
              "      <td>福岡市城南区</td>\n",
              "      <td>20代</td>\n",
              "      <td>男性</td>\n",
              "      <td>NaN</td>\n",
              "      <td>NaN</td>\n",
              "      <td>NaN</td>\n",
              "      <td>NaN</td>\n",
              "      <td>NaN</td>\n",
              "      <td>NaN</td>\n",
              "    </tr>\n",
              "    <tr>\n",
              "      <th>6</th>\n",
              "      <td>7</td>\n",
              "      <td>401307</td>\n",
              "      <td>福岡県</td>\n",
              "      <td>福岡市</td>\n",
              "      <td>2020/3/27</td>\n",
              "      <td>金</td>\n",
              "      <td>NaN</td>\n",
              "      <td>福岡市博多区</td>\n",
              "      <td>20代</td>\n",
              "      <td>男性</td>\n",
              "      <td>NaN</td>\n",
              "      <td>NaN</td>\n",
              "      <td>NaN</td>\n",
              "      <td>1.0</td>\n",
              "      <td>NaN</td>\n",
              "      <td>NaN</td>\n",
              "    </tr>\n",
              "    <tr>\n",
              "      <th>7</th>\n",
              "      <td>8</td>\n",
              "      <td>401307</td>\n",
              "      <td>福岡県</td>\n",
              "      <td>福岡市</td>\n",
              "      <td>2020/3/27</td>\n",
              "      <td>金</td>\n",
              "      <td>NaN</td>\n",
              "      <td>福岡市南区</td>\n",
              "      <td>40代</td>\n",
              "      <td>男性</td>\n",
              "      <td>NaN</td>\n",
              "      <td>NaN</td>\n",
              "      <td>NaN</td>\n",
              "      <td>NaN</td>\n",
              "      <td>NaN</td>\n",
              "      <td>NaN</td>\n",
              "    </tr>\n",
              "    <tr>\n",
              "      <th>8</th>\n",
              "      <td>9</td>\n",
              "      <td>401307</td>\n",
              "      <td>福岡県</td>\n",
              "      <td>福岡市</td>\n",
              "      <td>2020/3/27</td>\n",
              "      <td>金</td>\n",
              "      <td>NaN</td>\n",
              "      <td>福岡市城南区</td>\n",
              "      <td>20代</td>\n",
              "      <td>男性</td>\n",
              "      <td>NaN</td>\n",
              "      <td>NaN</td>\n",
              "      <td>NaN</td>\n",
              "      <td>NaN</td>\n",
              "      <td>NaN</td>\n",
              "      <td>NaN</td>\n",
              "    </tr>\n",
              "    <tr>\n",
              "      <th>9</th>\n",
              "      <td>10</td>\n",
              "      <td>401307</td>\n",
              "      <td>福岡県</td>\n",
              "      <td>福岡市</td>\n",
              "      <td>2020/3/28</td>\n",
              "      <td>土</td>\n",
              "      <td>NaN</td>\n",
              "      <td>福岡市博多区</td>\n",
              "      <td>30代</td>\n",
              "      <td>男性</td>\n",
              "      <td>NaN</td>\n",
              "      <td>NaN</td>\n",
              "      <td>NaN</td>\n",
              "      <td>NaN</td>\n",
              "      <td>NaN</td>\n",
              "      <td>NaN</td>\n",
              "    </tr>\n",
              "    <tr>\n",
              "      <th>10</th>\n",
              "      <td>11</td>\n",
              "      <td>401307</td>\n",
              "      <td>福岡県</td>\n",
              "      <td>福岡市</td>\n",
              "      <td>2020/3/28</td>\n",
              "      <td>土</td>\n",
              "      <td>NaN</td>\n",
              "      <td>福岡市中央区</td>\n",
              "      <td>30代</td>\n",
              "      <td>男性</td>\n",
              "      <td>NaN</td>\n",
              "      <td>NaN</td>\n",
              "      <td>NaN</td>\n",
              "      <td>NaN</td>\n",
              "      <td>NaN</td>\n",
              "      <td>NaN</td>\n",
              "    </tr>\n",
              "    <tr>\n",
              "      <th>11</th>\n",
              "      <td>12</td>\n",
              "      <td>401307</td>\n",
              "      <td>福岡県</td>\n",
              "      <td>福岡市</td>\n",
              "      <td>2020/3/28</td>\n",
              "      <td>土</td>\n",
              "      <td>NaN</td>\n",
              "      <td>福岡市南区</td>\n",
              "      <td>60代</td>\n",
              "      <td>男性</td>\n",
              "      <td>NaN</td>\n",
              "      <td>NaN</td>\n",
              "      <td>NaN</td>\n",
              "      <td>NaN</td>\n",
              "      <td>NaN</td>\n",
              "      <td>NaN</td>\n",
              "    </tr>\n",
              "    <tr>\n",
              "      <th>12</th>\n",
              "      <td>13</td>\n",
              "      <td>401307</td>\n",
              "      <td>福岡県</td>\n",
              "      <td>福岡市</td>\n",
              "      <td>2020/3/28</td>\n",
              "      <td>土</td>\n",
              "      <td>NaN</td>\n",
              "      <td>福岡市西区</td>\n",
              "      <td>70代</td>\n",
              "      <td>男性</td>\n",
              "      <td>NaN</td>\n",
              "      <td>NaN</td>\n",
              "      <td>NaN</td>\n",
              "      <td>NaN</td>\n",
              "      <td>NaN</td>\n",
              "      <td>NaN</td>\n",
              "    </tr>\n",
              "    <tr>\n",
              "      <th>13</th>\n",
              "      <td>14</td>\n",
              "      <td>401307</td>\n",
              "      <td>福岡県</td>\n",
              "      <td>福岡市</td>\n",
              "      <td>2020/3/29</td>\n",
              "      <td>日</td>\n",
              "      <td>NaN</td>\n",
              "      <td>福岡市中央区</td>\n",
              "      <td>50代</td>\n",
              "      <td>女性</td>\n",
              "      <td>NaN</td>\n",
              "      <td>NaN</td>\n",
              "      <td>NaN</td>\n",
              "      <td>NaN</td>\n",
              "      <td>NaN</td>\n",
              "      <td>NaN</td>\n",
              "    </tr>\n",
              "    <tr>\n",
              "      <th>14</th>\n",
              "      <td>15</td>\n",
              "      <td>401307</td>\n",
              "      <td>福岡県</td>\n",
              "      <td>福岡市</td>\n",
              "      <td>2020/3/29</td>\n",
              "      <td>日</td>\n",
              "      <td>NaN</td>\n",
              "      <td>福岡市博多区</td>\n",
              "      <td>60代</td>\n",
              "      <td>男性</td>\n",
              "      <td>NaN</td>\n",
              "      <td>NaN</td>\n",
              "      <td>NaN</td>\n",
              "      <td>1.0</td>\n",
              "      <td>NaN</td>\n",
              "      <td>NaN</td>\n",
              "    </tr>\n",
              "  </tbody>\n",
              "</table>\n",
              "</div>"
            ],
            "text/plain": [
              "    No  全国地方公共団体コード 都道府県名 市区町村名  ... 患者_症状 患者_渡航歴の有無フラグ  備考 退院済フラグ\n",
              "0    1       401307   福岡県   福岡市  ...   NaN          NaN NaN    NaN\n",
              "1    2       401307   福岡県   福岡市  ...   NaN          NaN NaN    NaN\n",
              "2    3       401307   福岡県   福岡市  ...   NaN          1.0 NaN    NaN\n",
              "3    4       401307   福岡県   福岡市  ...   NaN          NaN NaN    NaN\n",
              "4    5       401307   福岡県   福岡市  ...   NaN          NaN NaN    NaN\n",
              "5    6       401307   福岡県   福岡市  ...   NaN          NaN NaN    NaN\n",
              "6    7       401307   福岡県   福岡市  ...   NaN          1.0 NaN    NaN\n",
              "7    8       401307   福岡県   福岡市  ...   NaN          NaN NaN    NaN\n",
              "8    9       401307   福岡県   福岡市  ...   NaN          NaN NaN    NaN\n",
              "9   10       401307   福岡県   福岡市  ...   NaN          NaN NaN    NaN\n",
              "10  11       401307   福岡県   福岡市  ...   NaN          NaN NaN    NaN\n",
              "11  12       401307   福岡県   福岡市  ...   NaN          NaN NaN    NaN\n",
              "12  13       401307   福岡県   福岡市  ...   NaN          NaN NaN    NaN\n",
              "13  14       401307   福岡県   福岡市  ...   NaN          NaN NaN    NaN\n",
              "14  15       401307   福岡県   福岡市  ...   NaN          1.0 NaN    NaN\n",
              "\n",
              "[15 rows x 16 columns]"
            ]
          },
          "metadata": {
            "tags": []
          },
          "execution_count": 44
        }
      ]
    },
    {
      "cell_type": "code",
      "metadata": {
        "id": "B3U4mX63ArGd",
        "colab_type": "code",
        "colab": {
          "base_uri": "https://localhost:8080/",
          "height": 318
        },
        "outputId": "787d1f1a-cbae-4352-b46d-8401c6ae2df4"
      },
      "source": [
        "df_fukuoka_covid.describe()"
      ],
      "execution_count": null,
      "outputs": [
        {
          "output_type": "execute_result",
          "data": {
            "text/html": [
              "<div>\n",
              "<style scoped>\n",
              "    .dataframe tbody tr th:only-of-type {\n",
              "        vertical-align: middle;\n",
              "    }\n",
              "\n",
              "    .dataframe tbody tr th {\n",
              "        vertical-align: top;\n",
              "    }\n",
              "\n",
              "    .dataframe thead th {\n",
              "        text-align: right;\n",
              "    }\n",
              "</style>\n",
              "<table border=\"1\" class=\"dataframe\">\n",
              "  <thead>\n",
              "    <tr style=\"text-align: right;\">\n",
              "      <th></th>\n",
              "      <th>No</th>\n",
              "      <th>全国地方公共団体コード</th>\n",
              "      <th>発症_年月日</th>\n",
              "      <th>患者_属性</th>\n",
              "      <th>患者_状態</th>\n",
              "      <th>患者_症状</th>\n",
              "      <th>患者_渡航歴の有無フラグ</th>\n",
              "      <th>備考</th>\n",
              "      <th>退院済フラグ</th>\n",
              "    </tr>\n",
              "  </thead>\n",
              "  <tbody>\n",
              "    <tr>\n",
              "      <th>count</th>\n",
              "      <td>2598.000000</td>\n",
              "      <td>2598.0</td>\n",
              "      <td>0.0</td>\n",
              "      <td>0.0</td>\n",
              "      <td>0.0</td>\n",
              "      <td>0.0</td>\n",
              "      <td>3.0</td>\n",
              "      <td>0.0</td>\n",
              "      <td>0.0</td>\n",
              "    </tr>\n",
              "    <tr>\n",
              "      <th>mean</th>\n",
              "      <td>1302.827945</td>\n",
              "      <td>401307.0</td>\n",
              "      <td>NaN</td>\n",
              "      <td>NaN</td>\n",
              "      <td>NaN</td>\n",
              "      <td>NaN</td>\n",
              "      <td>1.0</td>\n",
              "      <td>NaN</td>\n",
              "      <td>NaN</td>\n",
              "    </tr>\n",
              "    <tr>\n",
              "      <th>std</th>\n",
              "      <td>752.611926</td>\n",
              "      <td>0.0</td>\n",
              "      <td>NaN</td>\n",
              "      <td>NaN</td>\n",
              "      <td>NaN</td>\n",
              "      <td>NaN</td>\n",
              "      <td>0.0</td>\n",
              "      <td>NaN</td>\n",
              "      <td>NaN</td>\n",
              "    </tr>\n",
              "    <tr>\n",
              "      <th>min</th>\n",
              "      <td>1.000000</td>\n",
              "      <td>401307.0</td>\n",
              "      <td>NaN</td>\n",
              "      <td>NaN</td>\n",
              "      <td>NaN</td>\n",
              "      <td>NaN</td>\n",
              "      <td>1.0</td>\n",
              "      <td>NaN</td>\n",
              "      <td>NaN</td>\n",
              "    </tr>\n",
              "    <tr>\n",
              "      <th>25%</th>\n",
              "      <td>650.250000</td>\n",
              "      <td>401307.0</td>\n",
              "      <td>NaN</td>\n",
              "      <td>NaN</td>\n",
              "      <td>NaN</td>\n",
              "      <td>NaN</td>\n",
              "      <td>1.0</td>\n",
              "      <td>NaN</td>\n",
              "      <td>NaN</td>\n",
              "    </tr>\n",
              "    <tr>\n",
              "      <th>50%</th>\n",
              "      <td>1303.500000</td>\n",
              "      <td>401307.0</td>\n",
              "      <td>NaN</td>\n",
              "      <td>NaN</td>\n",
              "      <td>NaN</td>\n",
              "      <td>NaN</td>\n",
              "      <td>1.0</td>\n",
              "      <td>NaN</td>\n",
              "      <td>NaN</td>\n",
              "    </tr>\n",
              "    <tr>\n",
              "      <th>75%</th>\n",
              "      <td>1954.750000</td>\n",
              "      <td>401307.0</td>\n",
              "      <td>NaN</td>\n",
              "      <td>NaN</td>\n",
              "      <td>NaN</td>\n",
              "      <td>NaN</td>\n",
              "      <td>1.0</td>\n",
              "      <td>NaN</td>\n",
              "      <td>NaN</td>\n",
              "    </tr>\n",
              "    <tr>\n",
              "      <th>max</th>\n",
              "      <td>2604.000000</td>\n",
              "      <td>401307.0</td>\n",
              "      <td>NaN</td>\n",
              "      <td>NaN</td>\n",
              "      <td>NaN</td>\n",
              "      <td>NaN</td>\n",
              "      <td>1.0</td>\n",
              "      <td>NaN</td>\n",
              "      <td>NaN</td>\n",
              "    </tr>\n",
              "  </tbody>\n",
              "</table>\n",
              "</div>"
            ],
            "text/plain": [
              "                No  全国地方公共団体コード  発症_年月日  ...  患者_渡航歴の有無フラグ   備考  退院済フラグ\n",
              "count  2598.000000       2598.0     0.0  ...           3.0  0.0     0.0\n",
              "mean   1302.827945     401307.0     NaN  ...           1.0  NaN     NaN\n",
              "std     752.611926          0.0     NaN  ...           0.0  NaN     NaN\n",
              "min       1.000000     401307.0     NaN  ...           1.0  NaN     NaN\n",
              "25%     650.250000     401307.0     NaN  ...           1.0  NaN     NaN\n",
              "50%    1303.500000     401307.0     NaN  ...           1.0  NaN     NaN\n",
              "75%    1954.750000     401307.0     NaN  ...           1.0  NaN     NaN\n",
              "max    2604.000000     401307.0     NaN  ...           1.0  NaN     NaN\n",
              "\n",
              "[8 rows x 9 columns]"
            ]
          },
          "metadata": {
            "tags": []
          },
          "execution_count": 45
        }
      ]
    },
    {
      "cell_type": "code",
      "metadata": {
        "id": "JRnXf8nZAvFc",
        "colab_type": "code",
        "colab": {
          "base_uri": "https://localhost:8080/",
          "height": 422
        },
        "outputId": "0b26b0b5-2f78-4ef7-c90d-10a67d9e7dca"
      },
      "source": [
        "df_fukuoka_covid.info()"
      ],
      "execution_count": null,
      "outputs": [
        {
          "output_type": "stream",
          "text": [
            "<class 'pandas.core.frame.DataFrame'>\n",
            "RangeIndex: 2598 entries, 0 to 2597\n",
            "Data columns (total 16 columns):\n",
            " #   Column        Non-Null Count  Dtype  \n",
            "---  ------        --------------  -----  \n",
            " 0   No            2598 non-null   int64  \n",
            " 1   全国地方公共団体コード   2598 non-null   int64  \n",
            " 2   都道府県名         2598 non-null   object \n",
            " 3   市区町村名         2598 non-null   object \n",
            " 4   公表_年月日        2598 non-null   object \n",
            " 5   曜日            2598 non-null   object \n",
            " 6   発症_年月日        0 non-null      float64\n",
            " 7   居住地           2598 non-null   object \n",
            " 8   年代            2598 non-null   object \n",
            " 9   性別            2598 non-null   object \n",
            " 10  患者_属性         0 non-null      float64\n",
            " 11  患者_状態         0 non-null      float64\n",
            " 12  患者_症状         0 non-null      float64\n",
            " 13  患者_渡航歴の有無フラグ  3 non-null      float64\n",
            " 14  備考            0 non-null      float64\n",
            " 15  退院済フラグ        0 non-null      float64\n",
            "dtypes: float64(7), int64(2), object(7)\n",
            "memory usage: 324.9+ KB\n"
          ],
          "name": "stdout"
        }
      ]
    },
    {
      "cell_type": "code",
      "metadata": {
        "id": "zJMeUk_bCFUW",
        "colab_type": "code",
        "colab": {
          "base_uri": "https://localhost:8080/",
          "height": 34
        },
        "outputId": "626f0101-5bf3-4f29-cea0-2b3403911337"
      },
      "source": [
        "df_fukuoka_covid.shape"
      ],
      "execution_count": null,
      "outputs": [
        {
          "output_type": "execute_result",
          "data": {
            "text/plain": [
              "(2598, 16)"
            ]
          },
          "metadata": {
            "tags": []
          },
          "execution_count": 47
        }
      ]
    },
    {
      "cell_type": "markdown",
      "metadata": {
        "id": "oH5CHaMqCwmQ",
        "colab_type": "text"
      },
      "source": [
        "# 便利なメソッドなど\n",
        "  - NaNを含む行列を削除するdropnaメソッド\n",
        "  - 不要な行列を削除するdropメソッド\n",
        "  - グループをまとめるgroupbyメソッド\n",
        "  - indexを数値にするreset_indexメソッド\n",
        "  - 文字列を置き換えるreplaceメソッド\n",
        "  - map, applyメソッド"
      ]
    },
    {
      "cell_type": "code",
      "metadata": {
        "id": "pIz12WxvD3MS",
        "colab_type": "code",
        "colab": {
          "base_uri": "https://localhost:8080/",
          "height": 686
        },
        "outputId": "e7cef4d1-bcb9-4e20-c2a2-8f558b3aa14d"
      },
      "source": [
        "df_fukuoka_covid.head()"
      ],
      "execution_count": null,
      "outputs": [
        {
          "output_type": "execute_result",
          "data": {
            "text/html": [
              "<div>\n",
              "<style scoped>\n",
              "    .dataframe tbody tr th:only-of-type {\n",
              "        vertical-align: middle;\n",
              "    }\n",
              "\n",
              "    .dataframe tbody tr th {\n",
              "        vertical-align: top;\n",
              "    }\n",
              "\n",
              "    .dataframe thead th {\n",
              "        text-align: right;\n",
              "    }\n",
              "</style>\n",
              "<table border=\"1\" class=\"dataframe\">\n",
              "  <thead>\n",
              "    <tr style=\"text-align: right;\">\n",
              "      <th></th>\n",
              "      <th>No</th>\n",
              "      <th>全国地方公共団体コード</th>\n",
              "      <th>都道府県名</th>\n",
              "      <th>市区町村名</th>\n",
              "      <th>公表_年月日</th>\n",
              "      <th>曜日</th>\n",
              "      <th>発症_年月日</th>\n",
              "      <th>居住地</th>\n",
              "      <th>年代</th>\n",
              "      <th>性別</th>\n",
              "      <th>患者_属性</th>\n",
              "      <th>患者_状態</th>\n",
              "      <th>患者_症状</th>\n",
              "      <th>患者_渡航歴の有無フラグ</th>\n",
              "      <th>備考</th>\n",
              "      <th>退院済フラグ</th>\n",
              "    </tr>\n",
              "  </thead>\n",
              "  <tbody>\n",
              "    <tr>\n",
              "      <th>0</th>\n",
              "      <td>1</td>\n",
              "      <td>401307</td>\n",
              "      <td>福岡県</td>\n",
              "      <td>福岡市</td>\n",
              "      <td>2020/2/20</td>\n",
              "      <td>木</td>\n",
              "      <td>NaN</td>\n",
              "      <td>福岡市中央区</td>\n",
              "      <td>60代</td>\n",
              "      <td>男性</td>\n",
              "      <td>NaN</td>\n",
              "      <td>NaN</td>\n",
              "      <td>NaN</td>\n",
              "      <td>NaN</td>\n",
              "      <td>NaN</td>\n",
              "      <td>NaN</td>\n",
              "    </tr>\n",
              "    <tr>\n",
              "      <th>1</th>\n",
              "      <td>2</td>\n",
              "      <td>401307</td>\n",
              "      <td>福岡県</td>\n",
              "      <td>福岡市</td>\n",
              "      <td>2020/2/20</td>\n",
              "      <td>木</td>\n",
              "      <td>NaN</td>\n",
              "      <td>福岡市中央区</td>\n",
              "      <td>60代</td>\n",
              "      <td>女性</td>\n",
              "      <td>NaN</td>\n",
              "      <td>NaN</td>\n",
              "      <td>NaN</td>\n",
              "      <td>NaN</td>\n",
              "      <td>NaN</td>\n",
              "      <td>NaN</td>\n",
              "    </tr>\n",
              "    <tr>\n",
              "      <th>2</th>\n",
              "      <td>3</td>\n",
              "      <td>401307</td>\n",
              "      <td>福岡県</td>\n",
              "      <td>福岡市</td>\n",
              "      <td>2020/3/17</td>\n",
              "      <td>火</td>\n",
              "      <td>NaN</td>\n",
              "      <td>福岡市南区</td>\n",
              "      <td>30代</td>\n",
              "      <td>女性</td>\n",
              "      <td>NaN</td>\n",
              "      <td>NaN</td>\n",
              "      <td>NaN</td>\n",
              "      <td>1.0</td>\n",
              "      <td>NaN</td>\n",
              "      <td>NaN</td>\n",
              "    </tr>\n",
              "    <tr>\n",
              "      <th>3</th>\n",
              "      <td>4</td>\n",
              "      <td>401307</td>\n",
              "      <td>福岡県</td>\n",
              "      <td>福岡市</td>\n",
              "      <td>2020/3/24</td>\n",
              "      <td>火</td>\n",
              "      <td>NaN</td>\n",
              "      <td>福岡市早良区</td>\n",
              "      <td>40代</td>\n",
              "      <td>男性</td>\n",
              "      <td>NaN</td>\n",
              "      <td>NaN</td>\n",
              "      <td>NaN</td>\n",
              "      <td>NaN</td>\n",
              "      <td>NaN</td>\n",
              "      <td>NaN</td>\n",
              "    </tr>\n",
              "    <tr>\n",
              "      <th>4</th>\n",
              "      <td>5</td>\n",
              "      <td>401307</td>\n",
              "      <td>福岡県</td>\n",
              "      <td>福岡市</td>\n",
              "      <td>2020/3/26</td>\n",
              "      <td>木</td>\n",
              "      <td>NaN</td>\n",
              "      <td>福岡市東区</td>\n",
              "      <td>50代</td>\n",
              "      <td>男性</td>\n",
              "      <td>NaN</td>\n",
              "      <td>NaN</td>\n",
              "      <td>NaN</td>\n",
              "      <td>NaN</td>\n",
              "      <td>NaN</td>\n",
              "      <td>NaN</td>\n",
              "    </tr>\n",
              "  </tbody>\n",
              "</table>\n",
              "</div>"
            ],
            "text/plain": [
              "   No  全国地方公共団体コード 都道府県名 市区町村名  ... 患者_症状 患者_渡航歴の有無フラグ  備考 退院済フラグ\n",
              "0   1       401307   福岡県   福岡市  ...   NaN          NaN NaN    NaN\n",
              "1   2       401307   福岡県   福岡市  ...   NaN          NaN NaN    NaN\n",
              "2   3       401307   福岡県   福岡市  ...   NaN          1.0 NaN    NaN\n",
              "3   4       401307   福岡県   福岡市  ...   NaN          NaN NaN    NaN\n",
              "4   5       401307   福岡県   福岡市  ...   NaN          NaN NaN    NaN\n",
              "\n",
              "[5 rows x 16 columns]"
            ]
          },
          "metadata": {
            "tags": []
          },
          "execution_count": 48
        }
      ]
    },
    {
      "cell_type": "code",
      "metadata": {
        "id": "iTarmNPjCJvv",
        "colab_type": "code",
        "colab": {
          "base_uri": "https://localhost:8080/",
          "height": 296
        },
        "outputId": "20a0c606-773f-4667-ee0b-93d506b5cfa5"
      },
      "source": [
        "# NaNを含む列を削除する\n",
        "df_fukuoka_covid_dropna = df_fukuoka_covid.dropna(1)\n",
        "df_fukuoka_covid_dropna.head()"
      ],
      "execution_count": null,
      "outputs": [
        {
          "output_type": "execute_result",
          "data": {
            "text/html": [
              "<div>\n",
              "<style scoped>\n",
              "    .dataframe tbody tr th:only-of-type {\n",
              "        vertical-align: middle;\n",
              "    }\n",
              "\n",
              "    .dataframe tbody tr th {\n",
              "        vertical-align: top;\n",
              "    }\n",
              "\n",
              "    .dataframe thead th {\n",
              "        text-align: right;\n",
              "    }\n",
              "</style>\n",
              "<table border=\"1\" class=\"dataframe\">\n",
              "  <thead>\n",
              "    <tr style=\"text-align: right;\">\n",
              "      <th></th>\n",
              "      <th>No</th>\n",
              "      <th>全国地方公共団体コード</th>\n",
              "      <th>都道府県名</th>\n",
              "      <th>市区町村名</th>\n",
              "      <th>公表_年月日</th>\n",
              "      <th>曜日</th>\n",
              "      <th>居住地</th>\n",
              "      <th>年代</th>\n",
              "      <th>性別</th>\n",
              "    </tr>\n",
              "  </thead>\n",
              "  <tbody>\n",
              "    <tr>\n",
              "      <th>0</th>\n",
              "      <td>1</td>\n",
              "      <td>401307</td>\n",
              "      <td>福岡県</td>\n",
              "      <td>福岡市</td>\n",
              "      <td>2020/2/20</td>\n",
              "      <td>木</td>\n",
              "      <td>福岡市中央区</td>\n",
              "      <td>60代</td>\n",
              "      <td>男性</td>\n",
              "    </tr>\n",
              "    <tr>\n",
              "      <th>1</th>\n",
              "      <td>2</td>\n",
              "      <td>401307</td>\n",
              "      <td>福岡県</td>\n",
              "      <td>福岡市</td>\n",
              "      <td>2020/2/20</td>\n",
              "      <td>木</td>\n",
              "      <td>福岡市中央区</td>\n",
              "      <td>60代</td>\n",
              "      <td>女性</td>\n",
              "    </tr>\n",
              "    <tr>\n",
              "      <th>2</th>\n",
              "      <td>3</td>\n",
              "      <td>401307</td>\n",
              "      <td>福岡県</td>\n",
              "      <td>福岡市</td>\n",
              "      <td>2020/3/17</td>\n",
              "      <td>火</td>\n",
              "      <td>福岡市南区</td>\n",
              "      <td>30代</td>\n",
              "      <td>女性</td>\n",
              "    </tr>\n",
              "    <tr>\n",
              "      <th>3</th>\n",
              "      <td>4</td>\n",
              "      <td>401307</td>\n",
              "      <td>福岡県</td>\n",
              "      <td>福岡市</td>\n",
              "      <td>2020/3/24</td>\n",
              "      <td>火</td>\n",
              "      <td>福岡市早良区</td>\n",
              "      <td>40代</td>\n",
              "      <td>男性</td>\n",
              "    </tr>\n",
              "    <tr>\n",
              "      <th>4</th>\n",
              "      <td>5</td>\n",
              "      <td>401307</td>\n",
              "      <td>福岡県</td>\n",
              "      <td>福岡市</td>\n",
              "      <td>2020/3/26</td>\n",
              "      <td>木</td>\n",
              "      <td>福岡市東区</td>\n",
              "      <td>50代</td>\n",
              "      <td>男性</td>\n",
              "    </tr>\n",
              "  </tbody>\n",
              "</table>\n",
              "</div>"
            ],
            "text/plain": [
              "   No  全国地方公共団体コード 都道府県名 市区町村名     公表_年月日 曜日     居住地   年代  性別\n",
              "0   1       401307   福岡県   福岡市  2020/2/20  木  福岡市中央区  60代  男性\n",
              "1   2       401307   福岡県   福岡市  2020/2/20  木  福岡市中央区  60代  女性\n",
              "2   3       401307   福岡県   福岡市  2020/3/17  火   福岡市南区  30代  女性\n",
              "3   4       401307   福岡県   福岡市  2020/3/24  火  福岡市早良区  40代  男性\n",
              "4   5       401307   福岡県   福岡市  2020/3/26  木   福岡市東区  50代  男性"
            ]
          },
          "metadata": {
            "tags": []
          },
          "execution_count": 49
        }
      ]
    },
    {
      "cell_type": "code",
      "metadata": {
        "id": "oB7x-JKCCU10",
        "colab_type": "code",
        "colab": {
          "base_uri": "https://localhost:8080/",
          "height": 296
        },
        "outputId": "440aea5a-8a2e-495b-fdae-53f92113a406"
      },
      "source": [
        "df_fukuoka_covid_dropna_num = df_fukuoka_covid_dropna.drop({\"No\"}, axis=1)\n",
        "df_fukuoka_covid_dropna_num.head()"
      ],
      "execution_count": null,
      "outputs": [
        {
          "output_type": "execute_result",
          "data": {
            "text/html": [
              "<div>\n",
              "<style scoped>\n",
              "    .dataframe tbody tr th:only-of-type {\n",
              "        vertical-align: middle;\n",
              "    }\n",
              "\n",
              "    .dataframe tbody tr th {\n",
              "        vertical-align: top;\n",
              "    }\n",
              "\n",
              "    .dataframe thead th {\n",
              "        text-align: right;\n",
              "    }\n",
              "</style>\n",
              "<table border=\"1\" class=\"dataframe\">\n",
              "  <thead>\n",
              "    <tr style=\"text-align: right;\">\n",
              "      <th></th>\n",
              "      <th>全国地方公共団体コード</th>\n",
              "      <th>都道府県名</th>\n",
              "      <th>市区町村名</th>\n",
              "      <th>公表_年月日</th>\n",
              "      <th>曜日</th>\n",
              "      <th>居住地</th>\n",
              "      <th>年代</th>\n",
              "      <th>性別</th>\n",
              "    </tr>\n",
              "  </thead>\n",
              "  <tbody>\n",
              "    <tr>\n",
              "      <th>0</th>\n",
              "      <td>401307</td>\n",
              "      <td>福岡県</td>\n",
              "      <td>福岡市</td>\n",
              "      <td>2020/2/20</td>\n",
              "      <td>木</td>\n",
              "      <td>福岡市中央区</td>\n",
              "      <td>60代</td>\n",
              "      <td>男性</td>\n",
              "    </tr>\n",
              "    <tr>\n",
              "      <th>1</th>\n",
              "      <td>401307</td>\n",
              "      <td>福岡県</td>\n",
              "      <td>福岡市</td>\n",
              "      <td>2020/2/20</td>\n",
              "      <td>木</td>\n",
              "      <td>福岡市中央区</td>\n",
              "      <td>60代</td>\n",
              "      <td>女性</td>\n",
              "    </tr>\n",
              "    <tr>\n",
              "      <th>2</th>\n",
              "      <td>401307</td>\n",
              "      <td>福岡県</td>\n",
              "      <td>福岡市</td>\n",
              "      <td>2020/3/17</td>\n",
              "      <td>火</td>\n",
              "      <td>福岡市南区</td>\n",
              "      <td>30代</td>\n",
              "      <td>女性</td>\n",
              "    </tr>\n",
              "    <tr>\n",
              "      <th>3</th>\n",
              "      <td>401307</td>\n",
              "      <td>福岡県</td>\n",
              "      <td>福岡市</td>\n",
              "      <td>2020/3/24</td>\n",
              "      <td>火</td>\n",
              "      <td>福岡市早良区</td>\n",
              "      <td>40代</td>\n",
              "      <td>男性</td>\n",
              "    </tr>\n",
              "    <tr>\n",
              "      <th>4</th>\n",
              "      <td>401307</td>\n",
              "      <td>福岡県</td>\n",
              "      <td>福岡市</td>\n",
              "      <td>2020/3/26</td>\n",
              "      <td>木</td>\n",
              "      <td>福岡市東区</td>\n",
              "      <td>50代</td>\n",
              "      <td>男性</td>\n",
              "    </tr>\n",
              "  </tbody>\n",
              "</table>\n",
              "</div>"
            ],
            "text/plain": [
              "   全国地方公共団体コード 都道府県名 市区町村名     公表_年月日 曜日     居住地   年代  性別\n",
              "0       401307   福岡県   福岡市  2020/2/20  木  福岡市中央区  60代  男性\n",
              "1       401307   福岡県   福岡市  2020/2/20  木  福岡市中央区  60代  女性\n",
              "2       401307   福岡県   福岡市  2020/3/17  火   福岡市南区  30代  女性\n",
              "3       401307   福岡県   福岡市  2020/3/24  火  福岡市早良区  40代  男性\n",
              "4       401307   福岡県   福岡市  2020/3/26  木   福岡市東区  50代  男性"
            ]
          },
          "metadata": {
            "tags": []
          },
          "execution_count": 50
        }
      ]
    },
    {
      "cell_type": "code",
      "metadata": {
        "id": "k5kAV6ZbEeRi",
        "colab_type": "code",
        "colab": {}
      },
      "source": [
        "fukuoka_dow = df_fukuoka_covid_dropna_num.groupby('曜日')"
      ],
      "execution_count": null,
      "outputs": []
    },
    {
      "cell_type": "code",
      "metadata": {
        "id": "2OllAAAIE5kY",
        "colab_type": "code",
        "colab": {
          "base_uri": "https://localhost:8080/",
          "height": 284
        },
        "outputId": "4082d4c1-8f99-48d8-8ad1-17f888d1330d"
      },
      "source": [
        "fukuoka_dow.count()"
      ],
      "execution_count": null,
      "outputs": [
        {
          "output_type": "execute_result",
          "data": {
            "text/html": [
              "<div>\n",
              "<style scoped>\n",
              "    .dataframe tbody tr th:only-of-type {\n",
              "        vertical-align: middle;\n",
              "    }\n",
              "\n",
              "    .dataframe tbody tr th {\n",
              "        vertical-align: top;\n",
              "    }\n",
              "\n",
              "    .dataframe thead th {\n",
              "        text-align: right;\n",
              "    }\n",
              "</style>\n",
              "<table border=\"1\" class=\"dataframe\">\n",
              "  <thead>\n",
              "    <tr style=\"text-align: right;\">\n",
              "      <th></th>\n",
              "      <th>全国地方公共団体コード</th>\n",
              "      <th>都道府県名</th>\n",
              "      <th>市区町村名</th>\n",
              "      <th>公表_年月日</th>\n",
              "      <th>居住地</th>\n",
              "      <th>年代</th>\n",
              "      <th>性別</th>\n",
              "    </tr>\n",
              "    <tr>\n",
              "      <th>曜日</th>\n",
              "      <th></th>\n",
              "      <th></th>\n",
              "      <th></th>\n",
              "      <th></th>\n",
              "      <th></th>\n",
              "      <th></th>\n",
              "      <th></th>\n",
              "    </tr>\n",
              "  </thead>\n",
              "  <tbody>\n",
              "    <tr>\n",
              "      <th>土</th>\n",
              "      <td>374</td>\n",
              "      <td>374</td>\n",
              "      <td>374</td>\n",
              "      <td>374</td>\n",
              "      <td>374</td>\n",
              "      <td>374</td>\n",
              "      <td>374</td>\n",
              "    </tr>\n",
              "    <tr>\n",
              "      <th>日</th>\n",
              "      <td>375</td>\n",
              "      <td>375</td>\n",
              "      <td>375</td>\n",
              "      <td>375</td>\n",
              "      <td>375</td>\n",
              "      <td>375</td>\n",
              "      <td>375</td>\n",
              "    </tr>\n",
              "    <tr>\n",
              "      <th>月</th>\n",
              "      <td>241</td>\n",
              "      <td>241</td>\n",
              "      <td>241</td>\n",
              "      <td>241</td>\n",
              "      <td>241</td>\n",
              "      <td>241</td>\n",
              "      <td>241</td>\n",
              "    </tr>\n",
              "    <tr>\n",
              "      <th>木</th>\n",
              "      <td>445</td>\n",
              "      <td>445</td>\n",
              "      <td>445</td>\n",
              "      <td>445</td>\n",
              "      <td>445</td>\n",
              "      <td>445</td>\n",
              "      <td>445</td>\n",
              "    </tr>\n",
              "    <tr>\n",
              "      <th>水</th>\n",
              "      <td>414</td>\n",
              "      <td>414</td>\n",
              "      <td>414</td>\n",
              "      <td>414</td>\n",
              "      <td>414</td>\n",
              "      <td>414</td>\n",
              "      <td>414</td>\n",
              "    </tr>\n",
              "    <tr>\n",
              "      <th>火</th>\n",
              "      <td>269</td>\n",
              "      <td>269</td>\n",
              "      <td>269</td>\n",
              "      <td>269</td>\n",
              "      <td>269</td>\n",
              "      <td>269</td>\n",
              "      <td>269</td>\n",
              "    </tr>\n",
              "    <tr>\n",
              "      <th>金</th>\n",
              "      <td>480</td>\n",
              "      <td>480</td>\n",
              "      <td>480</td>\n",
              "      <td>480</td>\n",
              "      <td>480</td>\n",
              "      <td>480</td>\n",
              "      <td>480</td>\n",
              "    </tr>\n",
              "  </tbody>\n",
              "</table>\n",
              "</div>"
            ],
            "text/plain": [
              "    全国地方公共団体コード  都道府県名  市区町村名  公表_年月日  居住地   年代   性別\n",
              "曜日                                                  \n",
              "土           374    374    374     374  374  374  374\n",
              "日           375    375    375     375  375  375  375\n",
              "月           241    241    241     241  241  241  241\n",
              "木           445    445    445     445  445  445  445\n",
              "水           414    414    414     414  414  414  414\n",
              "火           269    269    269     269  269  269  269\n",
              "金           480    480    480     480  480  480  480"
            ]
          },
          "metadata": {
            "tags": []
          },
          "execution_count": 52
        }
      ]
    },
    {
      "cell_type": "code",
      "metadata": {
        "id": "KUO_LXKzE65j",
        "colab_type": "code",
        "colab": {
          "base_uri": "https://localhost:8080/",
          "height": 254
        },
        "outputId": "0bc9a531-65dc-4e8c-99ae-d6063940e0ee"
      },
      "source": [
        "dow_fukuoka = fukuoka_dow.count()\n",
        "dow_fukuoka = dow_fukuoka.reset_index()\n",
        "dow_fukuoka"
      ],
      "execution_count": null,
      "outputs": [
        {
          "output_type": "execute_result",
          "data": {
            "text/html": [
              "<div>\n",
              "<style scoped>\n",
              "    .dataframe tbody tr th:only-of-type {\n",
              "        vertical-align: middle;\n",
              "    }\n",
              "\n",
              "    .dataframe tbody tr th {\n",
              "        vertical-align: top;\n",
              "    }\n",
              "\n",
              "    .dataframe thead th {\n",
              "        text-align: right;\n",
              "    }\n",
              "</style>\n",
              "<table border=\"1\" class=\"dataframe\">\n",
              "  <thead>\n",
              "    <tr style=\"text-align: right;\">\n",
              "      <th></th>\n",
              "      <th>曜日</th>\n",
              "      <th>全国地方公共団体コード</th>\n",
              "      <th>都道府県名</th>\n",
              "      <th>市区町村名</th>\n",
              "      <th>公表_年月日</th>\n",
              "      <th>居住地</th>\n",
              "      <th>年代</th>\n",
              "      <th>性別</th>\n",
              "    </tr>\n",
              "  </thead>\n",
              "  <tbody>\n",
              "    <tr>\n",
              "      <th>0</th>\n",
              "      <td>土</td>\n",
              "      <td>374</td>\n",
              "      <td>374</td>\n",
              "      <td>374</td>\n",
              "      <td>374</td>\n",
              "      <td>374</td>\n",
              "      <td>374</td>\n",
              "      <td>374</td>\n",
              "    </tr>\n",
              "    <tr>\n",
              "      <th>1</th>\n",
              "      <td>日</td>\n",
              "      <td>375</td>\n",
              "      <td>375</td>\n",
              "      <td>375</td>\n",
              "      <td>375</td>\n",
              "      <td>375</td>\n",
              "      <td>375</td>\n",
              "      <td>375</td>\n",
              "    </tr>\n",
              "    <tr>\n",
              "      <th>2</th>\n",
              "      <td>月</td>\n",
              "      <td>241</td>\n",
              "      <td>241</td>\n",
              "      <td>241</td>\n",
              "      <td>241</td>\n",
              "      <td>241</td>\n",
              "      <td>241</td>\n",
              "      <td>241</td>\n",
              "    </tr>\n",
              "    <tr>\n",
              "      <th>3</th>\n",
              "      <td>木</td>\n",
              "      <td>445</td>\n",
              "      <td>445</td>\n",
              "      <td>445</td>\n",
              "      <td>445</td>\n",
              "      <td>445</td>\n",
              "      <td>445</td>\n",
              "      <td>445</td>\n",
              "    </tr>\n",
              "    <tr>\n",
              "      <th>4</th>\n",
              "      <td>水</td>\n",
              "      <td>414</td>\n",
              "      <td>414</td>\n",
              "      <td>414</td>\n",
              "      <td>414</td>\n",
              "      <td>414</td>\n",
              "      <td>414</td>\n",
              "      <td>414</td>\n",
              "    </tr>\n",
              "    <tr>\n",
              "      <th>5</th>\n",
              "      <td>火</td>\n",
              "      <td>269</td>\n",
              "      <td>269</td>\n",
              "      <td>269</td>\n",
              "      <td>269</td>\n",
              "      <td>269</td>\n",
              "      <td>269</td>\n",
              "      <td>269</td>\n",
              "    </tr>\n",
              "    <tr>\n",
              "      <th>6</th>\n",
              "      <td>金</td>\n",
              "      <td>480</td>\n",
              "      <td>480</td>\n",
              "      <td>480</td>\n",
              "      <td>480</td>\n",
              "      <td>480</td>\n",
              "      <td>480</td>\n",
              "      <td>480</td>\n",
              "    </tr>\n",
              "  </tbody>\n",
              "</table>\n",
              "</div>"
            ],
            "text/plain": [
              "  曜日  全国地方公共団体コード  都道府県名  市区町村名  公表_年月日  居住地   年代   性別\n",
              "0  土          374    374    374     374  374  374  374\n",
              "1  日          375    375    375     375  375  375  375\n",
              "2  月          241    241    241     241  241  241  241\n",
              "3  木          445    445    445     445  445  445  445\n",
              "4  水          414    414    414     414  414  414  414\n",
              "5  火          269    269    269     269  269  269  269\n",
              "6  金          480    480    480     480  480  480  480"
            ]
          },
          "metadata": {
            "tags": []
          },
          "execution_count": 53
        }
      ]
    },
    {
      "cell_type": "code",
      "metadata": {
        "id": "KvM8vc1qF5Uo",
        "colab_type": "code",
        "colab": {
          "base_uri": "https://localhost:8080/",
          "height": 586
        },
        "outputId": "86a3a2bb-6646-4604-eeac-5ce4923e716f"
      },
      "source": [
        "# 感染の全体的な平均年齢を出すために年代を数値にする\n",
        "covid_fukuoka = df_fukuoka_covid_dropna_num.copy()\n",
        "covid_fukuoka"
      ],
      "execution_count": null,
      "outputs": [
        {
          "output_type": "execute_result",
          "data": {
            "text/html": [
              "<div>\n",
              "<style scoped>\n",
              "    .dataframe tbody tr th:only-of-type {\n",
              "        vertical-align: middle;\n",
              "    }\n",
              "\n",
              "    .dataframe tbody tr th {\n",
              "        vertical-align: top;\n",
              "    }\n",
              "\n",
              "    .dataframe thead th {\n",
              "        text-align: right;\n",
              "    }\n",
              "</style>\n",
              "<table border=\"1\" class=\"dataframe\">\n",
              "  <thead>\n",
              "    <tr style=\"text-align: right;\">\n",
              "      <th></th>\n",
              "      <th>全国地方公共団体コード</th>\n",
              "      <th>都道府県名</th>\n",
              "      <th>市区町村名</th>\n",
              "      <th>公表_年月日</th>\n",
              "      <th>曜日</th>\n",
              "      <th>居住地</th>\n",
              "      <th>年代</th>\n",
              "      <th>性別</th>\n",
              "    </tr>\n",
              "  </thead>\n",
              "  <tbody>\n",
              "    <tr>\n",
              "      <th>0</th>\n",
              "      <td>401307</td>\n",
              "      <td>福岡県</td>\n",
              "      <td>福岡市</td>\n",
              "      <td>2020/2/20</td>\n",
              "      <td>木</td>\n",
              "      <td>福岡市中央区</td>\n",
              "      <td>60代</td>\n",
              "      <td>男性</td>\n",
              "    </tr>\n",
              "    <tr>\n",
              "      <th>1</th>\n",
              "      <td>401307</td>\n",
              "      <td>福岡県</td>\n",
              "      <td>福岡市</td>\n",
              "      <td>2020/2/20</td>\n",
              "      <td>木</td>\n",
              "      <td>福岡市中央区</td>\n",
              "      <td>60代</td>\n",
              "      <td>女性</td>\n",
              "    </tr>\n",
              "    <tr>\n",
              "      <th>2</th>\n",
              "      <td>401307</td>\n",
              "      <td>福岡県</td>\n",
              "      <td>福岡市</td>\n",
              "      <td>2020/3/17</td>\n",
              "      <td>火</td>\n",
              "      <td>福岡市南区</td>\n",
              "      <td>30代</td>\n",
              "      <td>女性</td>\n",
              "    </tr>\n",
              "    <tr>\n",
              "      <th>3</th>\n",
              "      <td>401307</td>\n",
              "      <td>福岡県</td>\n",
              "      <td>福岡市</td>\n",
              "      <td>2020/3/24</td>\n",
              "      <td>火</td>\n",
              "      <td>福岡市早良区</td>\n",
              "      <td>40代</td>\n",
              "      <td>男性</td>\n",
              "    </tr>\n",
              "    <tr>\n",
              "      <th>4</th>\n",
              "      <td>401307</td>\n",
              "      <td>福岡県</td>\n",
              "      <td>福岡市</td>\n",
              "      <td>2020/3/26</td>\n",
              "      <td>木</td>\n",
              "      <td>福岡市東区</td>\n",
              "      <td>50代</td>\n",
              "      <td>男性</td>\n",
              "    </tr>\n",
              "    <tr>\n",
              "      <th>...</th>\n",
              "      <td>...</td>\n",
              "      <td>...</td>\n",
              "      <td>...</td>\n",
              "      <td>...</td>\n",
              "      <td>...</td>\n",
              "      <td>...</td>\n",
              "      <td>...</td>\n",
              "      <td>...</td>\n",
              "    </tr>\n",
              "    <tr>\n",
              "      <th>2593</th>\n",
              "      <td>401307</td>\n",
              "      <td>福岡県</td>\n",
              "      <td>福岡市</td>\n",
              "      <td>2020/8/28</td>\n",
              "      <td>金</td>\n",
              "      <td>福岡市城南区</td>\n",
              "      <td>30代</td>\n",
              "      <td>女性</td>\n",
              "    </tr>\n",
              "    <tr>\n",
              "      <th>2594</th>\n",
              "      <td>401307</td>\n",
              "      <td>福岡県</td>\n",
              "      <td>福岡市</td>\n",
              "      <td>2020/8/28</td>\n",
              "      <td>金</td>\n",
              "      <td>福岡市博多区</td>\n",
              "      <td>10代</td>\n",
              "      <td>女性</td>\n",
              "    </tr>\n",
              "    <tr>\n",
              "      <th>2595</th>\n",
              "      <td>401307</td>\n",
              "      <td>福岡県</td>\n",
              "      <td>福岡市</td>\n",
              "      <td>2020/8/28</td>\n",
              "      <td>金</td>\n",
              "      <td>福岡市東区</td>\n",
              "      <td>60代</td>\n",
              "      <td>男性</td>\n",
              "    </tr>\n",
              "    <tr>\n",
              "      <th>2596</th>\n",
              "      <td>401307</td>\n",
              "      <td>福岡県</td>\n",
              "      <td>福岡市</td>\n",
              "      <td>2020/8/28</td>\n",
              "      <td>金</td>\n",
              "      <td>福岡市東区</td>\n",
              "      <td>60代</td>\n",
              "      <td>女性</td>\n",
              "    </tr>\n",
              "    <tr>\n",
              "      <th>2597</th>\n",
              "      <td>401307</td>\n",
              "      <td>福岡県</td>\n",
              "      <td>福岡市</td>\n",
              "      <td>2020/8/28</td>\n",
              "      <td>金</td>\n",
              "      <td>福岡市中央区</td>\n",
              "      <td>70代</td>\n",
              "      <td>女性</td>\n",
              "    </tr>\n",
              "  </tbody>\n",
              "</table>\n",
              "<p>2598 rows × 8 columns</p>\n",
              "</div>"
            ],
            "text/plain": [
              "      全国地方公共団体コード 都道府県名 市区町村名     公表_年月日 曜日     居住地   年代  性別\n",
              "0          401307   福岡県   福岡市  2020/2/20  木  福岡市中央区  60代  男性\n",
              "1          401307   福岡県   福岡市  2020/2/20  木  福岡市中央区  60代  女性\n",
              "2          401307   福岡県   福岡市  2020/3/17  火   福岡市南区  30代  女性\n",
              "3          401307   福岡県   福岡市  2020/3/24  火  福岡市早良区  40代  男性\n",
              "4          401307   福岡県   福岡市  2020/3/26  木   福岡市東区  50代  男性\n",
              "...           ...   ...   ...        ... ..     ...  ...  ..\n",
              "2593       401307   福岡県   福岡市  2020/8/28  金  福岡市城南区  30代  女性\n",
              "2594       401307   福岡県   福岡市  2020/8/28  金  福岡市博多区  10代  女性\n",
              "2595       401307   福岡県   福岡市  2020/8/28  金   福岡市東区  60代  男性\n",
              "2596       401307   福岡県   福岡市  2020/8/28  金   福岡市東区  60代  女性\n",
              "2597       401307   福岡県   福岡市  2020/8/28  金  福岡市中央区  70代  女性\n",
              "\n",
              "[2598 rows x 8 columns]"
            ]
          },
          "metadata": {
            "tags": []
          },
          "execution_count": 54
        }
      ]
    },
    {
      "cell_type": "code",
      "metadata": {
        "id": "Ow6j7LCCGsLQ",
        "colab_type": "code",
        "colab": {
          "base_uri": "https://localhost:8080/",
          "height": 52
        },
        "outputId": "5ce174c2-0ffa-4dc7-902c-be97c416b578"
      },
      "source": [
        "covid_fukuoka['年代'].unique()"
      ],
      "execution_count": null,
      "outputs": [
        {
          "output_type": "execute_result",
          "data": {
            "text/plain": [
              "array(['60代', '30代', '40代', '50代', '20代', '70代', '1歳未満', '90歳以上', '80代',\n",
              "       '10歳未満', '10代', '調査中'], dtype=object)"
            ]
          },
          "metadata": {
            "tags": []
          },
          "execution_count": 55
        }
      ]
    },
    {
      "cell_type": "code",
      "metadata": {
        "id": "dG-vs3OPHESX",
        "colab_type": "code",
        "colab": {}
      },
      "source": [
        "# 1歳未満は0,90歳以上は90,10歳未満は1、調査中は50に置き換える\n",
        "age_replace = {'1歳未満': '0', '90歳以上': '90', '10歳未満':'1', '調査中': '50'}\n",
        "for b, a in age_replace.items(): \n",
        "\n",
        "  covid_fukuoka['年代'] = covid_fukuoka['年代'].replace(b, a)"
      ],
      "execution_count": null,
      "outputs": []
    },
    {
      "cell_type": "code",
      "metadata": {
        "id": "xLOnrAcXIp1g",
        "colab_type": "code",
        "colab": {
          "base_uri": "https://localhost:8080/",
          "height": 52
        },
        "outputId": "36a3bcf2-6916-45e2-d45b-943e9460c308"
      },
      "source": [
        "covid_fukuoka['年代'].unique()"
      ],
      "execution_count": null,
      "outputs": [
        {
          "output_type": "execute_result",
          "data": {
            "text/plain": [
              "array(['60代', '30代', '40代', '50代', '20代', '70代', '0', '90', '80代', '1',\n",
              "       '10代', '50'], dtype=object)"
            ]
          },
          "metadata": {
            "tags": []
          },
          "execution_count": 58
        }
      ]
    },
    {
      "cell_type": "code",
      "metadata": {
        "id": "SPwYqorwGXVl",
        "colab_type": "code",
        "colab": {}
      },
      "source": [
        "# 例えば年代を数値にしたい場合、Seriesの値を用いて関数で処理するmapメソッドを使う\n",
        "covid_fukuoka['年代'] = covid_fukuoka['年代'].map(lambda x: int(x.replace('代', '')))"
      ],
      "execution_count": null,
      "outputs": []
    },
    {
      "cell_type": "code",
      "metadata": {
        "id": "kk1MkmFqGpA5",
        "colab_type": "code",
        "colab": {
          "base_uri": "https://localhost:8080/",
          "height": 34
        },
        "outputId": "d2245779-c06d-4e1d-b2f3-cc57d41713cb"
      },
      "source": [
        "covid_fukuoka['年代'].unique()"
      ],
      "execution_count": null,
      "outputs": [
        {
          "output_type": "execute_result",
          "data": {
            "text/plain": [
              "array([60, 30, 40, 50, 20, 70,  0, 90, 80,  1, 10])"
            ]
          },
          "metadata": {
            "tags": []
          },
          "execution_count": 60
        }
      ]
    },
    {
      "cell_type": "code",
      "metadata": {
        "id": "udUXsImOJDC7",
        "colab_type": "code",
        "colab": {
          "base_uri": "https://localhost:8080/",
          "height": 34
        },
        "outputId": "ded38982-fcfa-451b-8b2c-27dd933d0905"
      },
      "source": [
        "covid_fukuoka['年代'].mean()"
      ],
      "execution_count": null,
      "outputs": [
        {
          "output_type": "execute_result",
          "data": {
            "text/plain": [
              "35.297536566589685"
            ]
          },
          "metadata": {
            "tags": []
          },
          "execution_count": 61
        }
      ]
    },
    {
      "cell_type": "code",
      "metadata": {
        "id": "X6nJ6T6wJoAx",
        "colab_type": "code",
        "colab": {}
      },
      "source": [
        "# 行全体のデータを使ってデータを作る際にはapplyメソッドを用いる\n",
        "# 例えば日付、場所、年代、性別をすべて文字列で持つ列を作成する場合"
      ],
      "execution_count": null,
      "outputs": []
    },
    {
      "cell_type": "markdown",
      "metadata": {
        "id": "Tv48UvcRMJ5b",
        "colab_type": "text"
      },
      "source": [
        "# apply\n",
        "\n"
      ]
    },
    {
      "cell_type": "code",
      "metadata": {
        "id": "ZCZFh0uKJ_N_",
        "colab_type": "code",
        "colab": {
          "base_uri": "https://localhost:8080/",
          "height": 175
        },
        "outputId": "bc965418-9f56-45c8-ed29-66afa7b51994"
      },
      "source": [
        "# 初期設定は列で関数を適用する\n",
        "\n",
        "covid_fukuoka.apply(lambda x: x[2] + x[3])"
      ],
      "execution_count": null,
      "outputs": [
        {
          "output_type": "execute_result",
          "data": {
            "text/plain": [
              "全国地方公共団体コード                802614\n",
              "都道府県名                      福岡県福岡県\n",
              "市区町村名                      福岡市福岡市\n",
              "公表_年月日         2020/3/172020/3/24\n",
              "曜日                             火火\n",
              "居住地                   福岡市南区福岡市早良区\n",
              "年代                             70\n",
              "性別                           女性男性\n",
              "dtype: object"
            ]
          },
          "metadata": {
            "tags": []
          },
          "execution_count": 68
        }
      ]
    },
    {
      "cell_type": "code",
      "metadata": {
        "id": "FMzQ04ApKg3U",
        "colab_type": "code",
        "colab": {
          "base_uri": "https://localhost:8080/",
          "height": 228
        },
        "outputId": "39037312-4cbe-4c91-dfb8-0c9ce9416266"
      },
      "source": [
        "covid_fukuoka.apply(lambda x: str(x[3]) + x[5] + str(x[6]) + '歳' + x[7], axis=1)"
      ],
      "execution_count": null,
      "outputs": [
        {
          "output_type": "execute_result",
          "data": {
            "text/plain": [
              "0       2020/2/20福岡市中央区60歳男性\n",
              "1       2020/2/20福岡市中央区60歳女性\n",
              "2        2020/3/17福岡市南区30歳女性\n",
              "3       2020/3/24福岡市早良区40歳男性\n",
              "4        2020/3/26福岡市東区50歳男性\n",
              "                ...         \n",
              "2593    2020/8/28福岡市城南区30歳女性\n",
              "2594    2020/8/28福岡市博多区10歳女性\n",
              "2595     2020/8/28福岡市東区60歳男性\n",
              "2596     2020/8/28福岡市東区60歳女性\n",
              "2597    2020/8/28福岡市中央区70歳女性\n",
              "Length: 2598, dtype: object"
            ]
          },
          "metadata": {
            "tags": []
          },
          "execution_count": 73
        }
      ]
    },
    {
      "cell_type": "code",
      "metadata": {
        "id": "bHzVdAigKpti",
        "colab_type": "code",
        "colab": {}
      },
      "source": [
        ""
      ],
      "execution_count": null,
      "outputs": []
    }
  ]
}