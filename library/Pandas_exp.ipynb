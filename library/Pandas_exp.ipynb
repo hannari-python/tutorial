{
  "nbformat": 4,
  "nbformat_minor": 0,
  "metadata": {
    "colab": {
      "name": "Pandas_exp.ipynb",
      "provenance": [],
      "collapsed_sections": [],
      "toc_visible": true,
      "authorship_tag": "ABX9TyMhsUt6Lv6zQHzO/GkRcaqL",
      "include_colab_link": true
    },
    "kernelspec": {
      "name": "python3",
      "display_name": "Python 3"
    }
  },
  "cells": [
    {
      "cell_type": "markdown",
      "metadata": {
        "id": "view-in-github",
        "colab_type": "text"
      },
      "source": [
        "<a href=\"https://colab.research.google.com/github/hannari-python/tutorial/blob/master/library/Pandas_exp.ipynb\" target=\"_parent\"><img src=\"https://colab.research.google.com/assets/colab-badge.svg\" alt=\"Open In Colab\"/></a>"
      ]
    },
    {
      "cell_type": "markdown",
      "metadata": {
        "id": "fgkZ-V0FzrAw",
        "colab_type": "text"
      },
      "source": [
        "## Pandas \n",
        "\n",
        "- Pandasは表データの読み込み・書き込み・加工を行うパッケージです。\n",
        "- このノートでは次の順番でPandasの基本的な使い方を解説します。\n",
        "  - データ構造    \n",
        "    - Series\n",
        "    - DataFrame\n",
        "  - データ操作\n",
        "    - loc属性\n",
        "    - iloc属性\n",
        "    - 名称\n",
        "  - データの更新追加    \n",
        "    - 更新\n",
        "    - 追加"
      ]
    },
    {
      "cell_type": "code",
      "metadata": {
        "id": "ZokvYWkQ1L76",
        "colab_type": "code",
        "colab": {}
      },
      "source": [
        "import pandas as pd"
      ],
      "execution_count": null,
      "outputs": []
    },
    {
      "cell_type": "markdown",
      "metadata": {
        "id": "6IaLXzxU1d0t",
        "colab_type": "text"
      },
      "source": [
        "# データ構造\n",
        "## Series\n",
        "- Seriesは行ラベル付きの1次元のデータです。行ラベルはデータの左横に表示されます。行ラベルはindex属性、値はvalues属性となります。"
      ]
    },
    {
      "cell_type": "code",
      "metadata": {
        "id": "7JjPuGq21TTq",
        "colab_type": "code",
        "colab": {}
      },
      "source": [
        "label = ['a', 'b', 'c', 'd', 'e']\n",
        "data = [1, 2, 3, 4, 5]\n",
        "s = pd.Series(data, index=label)"
      ],
      "execution_count": null,
      "outputs": []
    },
    {
      "cell_type": "code",
      "metadata": {
        "id": "t_-6NSRW1WbR",
        "colab_type": "code",
        "colab": {
          "base_uri": "https://localhost:8080/",
          "height": 126
        },
        "outputId": "ecfdb5d0-5b1e-4061-dff8-54bd2f4bb585"
      },
      "source": [
        "s"
      ],
      "execution_count": null,
      "outputs": [
        {
          "output_type": "execute_result",
          "data": {
            "text/plain": [
              "a    1\n",
              "b    2\n",
              "c    3\n",
              "d    4\n",
              "e    5\n",
              "dtype: int64"
            ]
          },
          "metadata": {
            "tags": []
          },
          "execution_count": 3
        }
      ]
    },
    {
      "cell_type": "code",
      "metadata": {
        "id": "XKF--apY1XF5",
        "colab_type": "code",
        "colab": {
          "base_uri": "https://localhost:8080/",
          "height": 35
        },
        "outputId": "f8cd4ad0-026d-4f8d-abf9-66490dbe15ee"
      },
      "source": [
        "s.index"
      ],
      "execution_count": null,
      "outputs": [
        {
          "output_type": "execute_result",
          "data": {
            "text/plain": [
              "Index(['a', 'b', 'c', 'd', 'e'], dtype='object')"
            ]
          },
          "metadata": {
            "tags": []
          },
          "execution_count": 4
        }
      ]
    },
    {
      "cell_type": "code",
      "metadata": {
        "id": "WkWfayEU1koq",
        "colab_type": "code",
        "colab": {
          "base_uri": "https://localhost:8080/",
          "height": 35
        },
        "outputId": "de67ac24-fc62-473a-81e9-4a23a5d377ef"
      },
      "source": [
        "s.values"
      ],
      "execution_count": null,
      "outputs": [
        {
          "output_type": "execute_result",
          "data": {
            "text/plain": [
              "array([1, 2, 3, 4, 5])"
            ]
          },
          "metadata": {
            "tags": []
          },
          "execution_count": 5
        }
      ]
    },
    {
      "cell_type": "markdown",
      "metadata": {
        "id": "k2AOlXhn1qri",
        "colab_type": "text"
      },
      "source": [
        "## DataFrame\n",
        "- DataFrameはラベル付きの2次元のデータです。表示するとデータフレームの左横に行ラベル、上側に列ラベルが付きます。左横の行ラベルはindex属性、上側の列ラベルはcolumns属性、値はvalues属性となります。"
      ]
    },
    {
      "cell_type": "code",
      "metadata": {
        "id": "mPOmznFb1lxD",
        "colab_type": "code",
        "colab": {}
      },
      "source": [
        "data = {\n",
        "'col1': [1,2,3,4,5],\n",
        "'col2': [2,3,4,5,6],\n",
        "'col3': [3,4,5,6,7]\n",
        "}\n",
        "index_name = ['zero', 'one', 'two', 'three', 'four']\n",
        "df = pd.DataFrame(data, index=index_name)"
      ],
      "execution_count": null,
      "outputs": []
    },
    {
      "cell_type": "code",
      "metadata": {
        "id": "dL0DOQOM1urg",
        "colab_type": "code",
        "colab": {
          "base_uri": "https://localhost:8080/",
          "height": 198
        },
        "outputId": "49b464b8-7be3-42b6-df08-ed356069907a"
      },
      "source": [
        "df"
      ],
      "execution_count": null,
      "outputs": [
        {
          "output_type": "execute_result",
          "data": {
            "text/html": [
              "<div>\n",
              "<style scoped>\n",
              "    .dataframe tbody tr th:only-of-type {\n",
              "        vertical-align: middle;\n",
              "    }\n",
              "\n",
              "    .dataframe tbody tr th {\n",
              "        vertical-align: top;\n",
              "    }\n",
              "\n",
              "    .dataframe thead th {\n",
              "        text-align: right;\n",
              "    }\n",
              "</style>\n",
              "<table border=\"1\" class=\"dataframe\">\n",
              "  <thead>\n",
              "    <tr style=\"text-align: right;\">\n",
              "      <th></th>\n",
              "      <th>col1</th>\n",
              "      <th>col2</th>\n",
              "      <th>col3</th>\n",
              "    </tr>\n",
              "  </thead>\n",
              "  <tbody>\n",
              "    <tr>\n",
              "      <th>zero</th>\n",
              "      <td>1</td>\n",
              "      <td>2</td>\n",
              "      <td>3</td>\n",
              "    </tr>\n",
              "    <tr>\n",
              "      <th>one</th>\n",
              "      <td>2</td>\n",
              "      <td>3</td>\n",
              "      <td>4</td>\n",
              "    </tr>\n",
              "    <tr>\n",
              "      <th>two</th>\n",
              "      <td>3</td>\n",
              "      <td>4</td>\n",
              "      <td>5</td>\n",
              "    </tr>\n",
              "    <tr>\n",
              "      <th>three</th>\n",
              "      <td>4</td>\n",
              "      <td>5</td>\n",
              "      <td>6</td>\n",
              "    </tr>\n",
              "    <tr>\n",
              "      <th>four</th>\n",
              "      <td>5</td>\n",
              "      <td>6</td>\n",
              "      <td>7</td>\n",
              "    </tr>\n",
              "  </tbody>\n",
              "</table>\n",
              "</div>"
            ],
            "text/plain": [
              "       col1  col2  col3\n",
              "zero      1     2     3\n",
              "one       2     3     4\n",
              "two       3     4     5\n",
              "three     4     5     6\n",
              "four      5     6     7"
            ]
          },
          "metadata": {
            "tags": []
          },
          "execution_count": 7
        }
      ]
    },
    {
      "cell_type": "code",
      "metadata": {
        "id": "r6Xtolcj1vUJ",
        "colab_type": "code",
        "colab": {
          "base_uri": "https://localhost:8080/",
          "height": 35
        },
        "outputId": "4b01148d-e0a9-4e00-c288-6242cd377746"
      },
      "source": [
        "df.index"
      ],
      "execution_count": null,
      "outputs": [
        {
          "output_type": "execute_result",
          "data": {
            "text/plain": [
              "Index(['zero', 'one', 'two', 'three', 'four'], dtype='object')"
            ]
          },
          "metadata": {
            "tags": []
          },
          "execution_count": 8
        }
      ]
    },
    {
      "cell_type": "code",
      "metadata": {
        "id": "U01yJ2YT1wzJ",
        "colab_type": "code",
        "colab": {
          "base_uri": "https://localhost:8080/",
          "height": 35
        },
        "outputId": "105a9956-b883-4726-b5a8-c61701b811c1"
      },
      "source": [
        "df.columns"
      ],
      "execution_count": null,
      "outputs": [
        {
          "output_type": "execute_result",
          "data": {
            "text/plain": [
              "Index(['col1', 'col2', 'col3'], dtype='object')"
            ]
          },
          "metadata": {
            "tags": []
          },
          "execution_count": 9
        }
      ]
    },
    {
      "cell_type": "code",
      "metadata": {
        "id": "y_XsYRP_1xwI",
        "colab_type": "code",
        "colab": {
          "base_uri": "https://localhost:8080/",
          "height": 108
        },
        "outputId": "79deb241-32a9-4a14-bb0d-f510a7ba6ea3"
      },
      "source": [
        "df.values"
      ],
      "execution_count": null,
      "outputs": [
        {
          "output_type": "execute_result",
          "data": {
            "text/plain": [
              "array([[1, 2, 3],\n",
              "       [2, 3, 4],\n",
              "       [3, 4, 5],\n",
              "       [4, 5, 6],\n",
              "       [5, 6, 7]])"
            ]
          },
          "metadata": {
            "tags": []
          },
          "execution_count": 10
        }
      ]
    },
    {
      "cell_type": "markdown",
      "metadata": {
        "id": "6cPs9ECX2RJC",
        "colab_type": "text"
      },
      "source": [
        "# データ操作\n",
        "## loc属性\n",
        "- loc属性を用いると、ラベル名でデータを選択できます。"
      ]
    },
    {
      "cell_type": "code",
      "metadata": {
        "id": "yXCV-7Zf1ypO",
        "colab_type": "code",
        "colab": {
          "base_uri": "https://localhost:8080/",
          "height": 35
        },
        "outputId": "e6572f5d-99ce-4692-a1b9-c29de1e9bc7b"
      },
      "source": [
        "# 1つのセルの選択\n",
        "df.loc['one', 'col1']"
      ],
      "execution_count": null,
      "outputs": [
        {
          "output_type": "execute_result",
          "data": {
            "text/plain": [
              "2"
            ]
          },
          "metadata": {
            "tags": []
          },
          "execution_count": 20
        }
      ]
    },
    {
      "cell_type": "code",
      "metadata": {
        "id": "sbVmgOoq2PA9",
        "colab_type": "code",
        "colab": {
          "base_uri": "https://localhost:8080/",
          "height": 138
        },
        "outputId": "9debf40b-e7d9-4454-f311-a3ab6ea89441"
      },
      "source": [
        "# 連続したセルの選択\n",
        "df.loc['one': 'three', :]"
      ],
      "execution_count": null,
      "outputs": [
        {
          "output_type": "execute_result",
          "data": {
            "text/html": [
              "<div>\n",
              "<style scoped>\n",
              "    .dataframe tbody tr th:only-of-type {\n",
              "        vertical-align: middle;\n",
              "    }\n",
              "\n",
              "    .dataframe tbody tr th {\n",
              "        vertical-align: top;\n",
              "    }\n",
              "\n",
              "    .dataframe thead th {\n",
              "        text-align: right;\n",
              "    }\n",
              "</style>\n",
              "<table border=\"1\" class=\"dataframe\">\n",
              "  <thead>\n",
              "    <tr style=\"text-align: right;\">\n",
              "      <th></th>\n",
              "      <th>col1</th>\n",
              "      <th>col2</th>\n",
              "      <th>col3</th>\n",
              "    </tr>\n",
              "  </thead>\n",
              "  <tbody>\n",
              "    <tr>\n",
              "      <th>one</th>\n",
              "      <td>2</td>\n",
              "      <td>3</td>\n",
              "      <td>4</td>\n",
              "    </tr>\n",
              "    <tr>\n",
              "      <th>two</th>\n",
              "      <td>3</td>\n",
              "      <td>4</td>\n",
              "      <td>5</td>\n",
              "    </tr>\n",
              "    <tr>\n",
              "      <th>three</th>\n",
              "      <td>4</td>\n",
              "      <td>5</td>\n",
              "      <td>6</td>\n",
              "    </tr>\n",
              "  </tbody>\n",
              "</table>\n",
              "</div>"
            ],
            "text/plain": [
              "       col1  col2  col3\n",
              "one       2     3     4\n",
              "two       3     4     5\n",
              "three     4     5     6"
            ]
          },
          "metadata": {
            "tags": []
          },
          "execution_count": 19
        }
      ]
    },
    {
      "cell_type": "code",
      "metadata": {
        "id": "O1BQxpZk2uXk",
        "colab_type": "code",
        "colab": {
          "base_uri": "https://localhost:8080/",
          "height": 108
        },
        "outputId": "8324e658-cf09-4885-be8f-8b32be00b4ee"
      },
      "source": [
        "# 離れたセルの選択\n",
        "df.loc[['one', 'four'], ['col1', 'col3']] "
      ],
      "execution_count": null,
      "outputs": [
        {
          "output_type": "execute_result",
          "data": {
            "text/html": [
              "<div>\n",
              "<style scoped>\n",
              "    .dataframe tbody tr th:only-of-type {\n",
              "        vertical-align: middle;\n",
              "    }\n",
              "\n",
              "    .dataframe tbody tr th {\n",
              "        vertical-align: top;\n",
              "    }\n",
              "\n",
              "    .dataframe thead th {\n",
              "        text-align: right;\n",
              "    }\n",
              "</style>\n",
              "<table border=\"1\" class=\"dataframe\">\n",
              "  <thead>\n",
              "    <tr style=\"text-align: right;\">\n",
              "      <th></th>\n",
              "      <th>col1</th>\n",
              "      <th>col3</th>\n",
              "    </tr>\n",
              "  </thead>\n",
              "  <tbody>\n",
              "    <tr>\n",
              "      <th>one</th>\n",
              "      <td>2</td>\n",
              "      <td>4</td>\n",
              "    </tr>\n",
              "    <tr>\n",
              "      <th>four</th>\n",
              "      <td>5</td>\n",
              "      <td>7</td>\n",
              "    </tr>\n",
              "  </tbody>\n",
              "</table>\n",
              "</div>"
            ],
            "text/plain": [
              "      col1  col3\n",
              "one      2     4\n",
              "four     5     7"
            ]
          },
          "metadata": {
            "tags": []
          },
          "execution_count": 18
        }
      ]
    },
    {
      "cell_type": "code",
      "metadata": {
        "id": "ZWmOy_w84K4q",
        "colab_type": "code",
        "colab": {
          "base_uri": "https://localhost:8080/",
          "height": 90
        },
        "outputId": "52ae9921-fdce-469a-f095-8e97c6ceb87d"
      },
      "source": [
        "# 行名のみの指定で行すべてのデータを取得できます\n",
        "df.loc['one']"
      ],
      "execution_count": null,
      "outputs": [
        {
          "output_type": "execute_result",
          "data": {
            "text/plain": [
              "col1    2\n",
              "col2    3\n",
              "col3    4\n",
              "Name: one, dtype: int64"
            ]
          },
          "metadata": {
            "tags": []
          },
          "execution_count": 29
        }
      ]
    },
    {
      "cell_type": "code",
      "metadata": {
        "id": "5BY3zQhR4Y8j",
        "colab_type": "code",
        "colab": {
          "base_uri": "https://localhost:8080/",
          "height": 108
        },
        "outputId": "8ef3977b-ad46-410a-af98-8ec9b0c1057b"
      },
      "source": [
        "# 複数行を指定する場合、リストに格納します\n",
        "df.loc[['one', 'three']]"
      ],
      "execution_count": null,
      "outputs": [
        {
          "output_type": "execute_result",
          "data": {
            "text/html": [
              "<div>\n",
              "<style scoped>\n",
              "    .dataframe tbody tr th:only-of-type {\n",
              "        vertical-align: middle;\n",
              "    }\n",
              "\n",
              "    .dataframe tbody tr th {\n",
              "        vertical-align: top;\n",
              "    }\n",
              "\n",
              "    .dataframe thead th {\n",
              "        text-align: right;\n",
              "    }\n",
              "</style>\n",
              "<table border=\"1\" class=\"dataframe\">\n",
              "  <thead>\n",
              "    <tr style=\"text-align: right;\">\n",
              "      <th></th>\n",
              "      <th>col1</th>\n",
              "      <th>col2</th>\n",
              "      <th>col3</th>\n",
              "    </tr>\n",
              "  </thead>\n",
              "  <tbody>\n",
              "    <tr>\n",
              "      <th>one</th>\n",
              "      <td>2</td>\n",
              "      <td>3</td>\n",
              "      <td>4</td>\n",
              "    </tr>\n",
              "    <tr>\n",
              "      <th>three</th>\n",
              "      <td>4</td>\n",
              "      <td>5</td>\n",
              "      <td>6</td>\n",
              "    </tr>\n",
              "  </tbody>\n",
              "</table>\n",
              "</div>"
            ],
            "text/plain": [
              "       col1  col2  col3\n",
              "one       2     3     4\n",
              "three     4     5     6"
            ]
          },
          "metadata": {
            "tags": []
          },
          "execution_count": 32
        }
      ]
    },
    {
      "cell_type": "code",
      "metadata": {
        "id": "NoIfH2U323ub",
        "colab_type": "code",
        "colab": {
          "base_uri": "https://localhost:8080/",
          "height": 35
        },
        "outputId": "738ea7fc-3a52-439a-d710-ec2f51836399"
      },
      "source": [
        "# Seriesの場合\n",
        "s.loc['b']"
      ],
      "execution_count": null,
      "outputs": [
        {
          "output_type": "execute_result",
          "data": {
            "text/plain": [
              "2"
            ]
          },
          "metadata": {
            "tags": []
          },
          "execution_count": 21
        }
      ]
    },
    {
      "cell_type": "markdown",
      "metadata": {
        "id": "T7gNSN7l3eXL",
        "colab_type": "text"
      },
      "source": [
        "## iloc属性\n",
        "- iloc属性を用いると、インデックスとコラムの位置番号を使ってデータを選択できます。0から行列番号を数えること、また終了を指定する場合、終了したい番号より1つ大きい数値で指定することに注意してください。"
      ]
    },
    {
      "cell_type": "code",
      "metadata": {
        "id": "ubjek-TN3agz",
        "colab_type": "code",
        "colab": {
          "base_uri": "https://localhost:8080/",
          "height": 35
        },
        "outputId": "6780d6fe-2286-452f-c2bb-592edfdfc46e"
      },
      "source": [
        "# 1つのセルの選択\n",
        "df.iloc[1, 1] "
      ],
      "execution_count": null,
      "outputs": [
        {
          "output_type": "execute_result",
          "data": {
            "text/plain": [
              "3"
            ]
          },
          "metadata": {
            "tags": []
          },
          "execution_count": 23
        }
      ]
    },
    {
      "cell_type": "code",
      "metadata": {
        "id": "ODKj-Rjb3oHf",
        "colab_type": "code",
        "colab": {
          "base_uri": "https://localhost:8080/",
          "height": 138
        },
        "outputId": "acf203fd-1e93-408b-f63c-5f57d9b13fd2"
      },
      "source": [
        "# 連続したセルの選択\n",
        "df.iloc[1:4, :] "
      ],
      "execution_count": null,
      "outputs": [
        {
          "output_type": "execute_result",
          "data": {
            "text/html": [
              "<div>\n",
              "<style scoped>\n",
              "    .dataframe tbody tr th:only-of-type {\n",
              "        vertical-align: middle;\n",
              "    }\n",
              "\n",
              "    .dataframe tbody tr th {\n",
              "        vertical-align: top;\n",
              "    }\n",
              "\n",
              "    .dataframe thead th {\n",
              "        text-align: right;\n",
              "    }\n",
              "</style>\n",
              "<table border=\"1\" class=\"dataframe\">\n",
              "  <thead>\n",
              "    <tr style=\"text-align: right;\">\n",
              "      <th></th>\n",
              "      <th>col1</th>\n",
              "      <th>col2</th>\n",
              "      <th>col3</th>\n",
              "    </tr>\n",
              "  </thead>\n",
              "  <tbody>\n",
              "    <tr>\n",
              "      <th>one</th>\n",
              "      <td>2</td>\n",
              "      <td>3</td>\n",
              "      <td>4</td>\n",
              "    </tr>\n",
              "    <tr>\n",
              "      <th>two</th>\n",
              "      <td>3</td>\n",
              "      <td>4</td>\n",
              "      <td>5</td>\n",
              "    </tr>\n",
              "    <tr>\n",
              "      <th>three</th>\n",
              "      <td>4</td>\n",
              "      <td>5</td>\n",
              "      <td>6</td>\n",
              "    </tr>\n",
              "  </tbody>\n",
              "</table>\n",
              "</div>"
            ],
            "text/plain": [
              "       col1  col2  col3\n",
              "one       2     3     4\n",
              "two       3     4     5\n",
              "three     4     5     6"
            ]
          },
          "metadata": {
            "tags": []
          },
          "execution_count": 24
        }
      ]
    },
    {
      "cell_type": "code",
      "metadata": {
        "id": "nryQ17Oz3ucw",
        "colab_type": "code",
        "colab": {
          "base_uri": "https://localhost:8080/",
          "height": 108
        },
        "outputId": "1b817f7e-d859-417d-c621-35793378366b"
      },
      "source": [
        "# 離れたセルの選択\n",
        "df.iloc[[1, 4], [0, 2]]"
      ],
      "execution_count": null,
      "outputs": [
        {
          "output_type": "execute_result",
          "data": {
            "text/html": [
              "<div>\n",
              "<style scoped>\n",
              "    .dataframe tbody tr th:only-of-type {\n",
              "        vertical-align: middle;\n",
              "    }\n",
              "\n",
              "    .dataframe tbody tr th {\n",
              "        vertical-align: top;\n",
              "    }\n",
              "\n",
              "    .dataframe thead th {\n",
              "        text-align: right;\n",
              "    }\n",
              "</style>\n",
              "<table border=\"1\" class=\"dataframe\">\n",
              "  <thead>\n",
              "    <tr style=\"text-align: right;\">\n",
              "      <th></th>\n",
              "      <th>col1</th>\n",
              "      <th>col3</th>\n",
              "    </tr>\n",
              "  </thead>\n",
              "  <tbody>\n",
              "    <tr>\n",
              "      <th>one</th>\n",
              "      <td>2</td>\n",
              "      <td>4</td>\n",
              "    </tr>\n",
              "    <tr>\n",
              "      <th>four</th>\n",
              "      <td>5</td>\n",
              "      <td>7</td>\n",
              "    </tr>\n",
              "  </tbody>\n",
              "</table>\n",
              "</div>"
            ],
            "text/plain": [
              "      col1  col3\n",
              "one      2     4\n",
              "four     5     7"
            ]
          },
          "metadata": {
            "tags": []
          },
          "execution_count": 25
        }
      ]
    },
    {
      "cell_type": "code",
      "metadata": {
        "id": "XTOjxLrP3zBt",
        "colab_type": "code",
        "colab": {
          "base_uri": "https://localhost:8080/",
          "height": 35
        },
        "outputId": "d6ae72ea-0f7c-493d-cca4-d2b6b8a22154"
      },
      "source": [
        "# Seriesの場合\n",
        "s.iloc[1]"
      ],
      "execution_count": null,
      "outputs": [
        {
          "output_type": "execute_result",
          "data": {
            "text/plain": [
              "2"
            ]
          },
          "metadata": {
            "tags": []
          },
          "execution_count": 26
        }
      ]
    },
    {
      "cell_type": "markdown",
      "metadata": {
        "id": "I6LulpU439Lh",
        "colab_type": "text"
      },
      "source": [
        "## 列名によるデータ選択\n",
        "- 列名を指定することにより、列全体を取得できます。\n"
      ]
    },
    {
      "cell_type": "code",
      "metadata": {
        "id": "E4h2rfYg33fm",
        "colab_type": "code",
        "colab": {
          "base_uri": "https://localhost:8080/",
          "height": 126
        },
        "outputId": "03d40953-8712-49c8-ef53-2fb141f3626b"
      },
      "source": [
        "df['col2']"
      ],
      "execution_count": null,
      "outputs": [
        {
          "output_type": "execute_result",
          "data": {
            "text/plain": [
              "zero     2\n",
              "one      3\n",
              "two      4\n",
              "three    5\n",
              "four     6\n",
              "Name: col2, dtype: int64"
            ]
          },
          "metadata": {
            "tags": []
          },
          "execution_count": 33
        }
      ]
    },
    {
      "cell_type": "code",
      "metadata": {
        "id": "hNJfrwOZ4v-I",
        "colab_type": "code",
        "colab": {
          "base_uri": "https://localhost:8080/",
          "height": 198
        },
        "outputId": "a2e37e06-d71d-423b-8db3-a9a0dc867c23"
      },
      "source": [
        "df[['col1', 'col3']]"
      ],
      "execution_count": null,
      "outputs": [
        {
          "output_type": "execute_result",
          "data": {
            "text/html": [
              "<div>\n",
              "<style scoped>\n",
              "    .dataframe tbody tr th:only-of-type {\n",
              "        vertical-align: middle;\n",
              "    }\n",
              "\n",
              "    .dataframe tbody tr th {\n",
              "        vertical-align: top;\n",
              "    }\n",
              "\n",
              "    .dataframe thead th {\n",
              "        text-align: right;\n",
              "    }\n",
              "</style>\n",
              "<table border=\"1\" class=\"dataframe\">\n",
              "  <thead>\n",
              "    <tr style=\"text-align: right;\">\n",
              "      <th></th>\n",
              "      <th>col1</th>\n",
              "      <th>col3</th>\n",
              "    </tr>\n",
              "  </thead>\n",
              "  <tbody>\n",
              "    <tr>\n",
              "      <th>zero</th>\n",
              "      <td>1</td>\n",
              "      <td>3</td>\n",
              "    </tr>\n",
              "    <tr>\n",
              "      <th>one</th>\n",
              "      <td>2</td>\n",
              "      <td>4</td>\n",
              "    </tr>\n",
              "    <tr>\n",
              "      <th>two</th>\n",
              "      <td>3</td>\n",
              "      <td>5</td>\n",
              "    </tr>\n",
              "    <tr>\n",
              "      <th>three</th>\n",
              "      <td>4</td>\n",
              "      <td>6</td>\n",
              "    </tr>\n",
              "    <tr>\n",
              "      <th>four</th>\n",
              "      <td>5</td>\n",
              "      <td>7</td>\n",
              "    </tr>\n",
              "  </tbody>\n",
              "</table>\n",
              "</div>"
            ],
            "text/plain": [
              "       col1  col3\n",
              "zero      1     3\n",
              "one       2     4\n",
              "two       3     5\n",
              "three     4     6\n",
              "four      5     7"
            ]
          },
          "metadata": {
            "tags": []
          },
          "execution_count": 34
        }
      ]
    },
    {
      "cell_type": "code",
      "metadata": {
        "id": "LL6N-Lj14yZc",
        "colab_type": "code",
        "colab": {
          "base_uri": "https://localhost:8080/",
          "height": 35
        },
        "outputId": "cd47dc70-f87a-4ac1-dd81-fe22fe46e1b5"
      },
      "source": [
        "s['b']"
      ],
      "execution_count": null,
      "outputs": [
        {
          "output_type": "execute_result",
          "data": {
            "text/plain": [
              "2"
            ]
          },
          "metadata": {
            "tags": []
          },
          "execution_count": 35
        }
      ]
    },
    {
      "cell_type": "markdown",
      "metadata": {
        "id": "GXeRzEBu5V-v",
        "colab_type": "text"
      },
      "source": [
        "# データの更新・追加\n",
        "## データの更新\n",
        "- 範囲の選択と共に、テーブルのデータ更新・追加ができます。"
      ]
    },
    {
      "cell_type": "code",
      "metadata": {
        "id": "5gpTLYBg40Ve",
        "colab_type": "code",
        "colab": {}
      },
      "source": [
        "# １マスのデータの更新\n",
        "df.iloc[1, 1] = 111"
      ],
      "execution_count": null,
      "outputs": []
    },
    {
      "cell_type": "code",
      "metadata": {
        "id": "WNcsaDtv5Trv",
        "colab_type": "code",
        "colab": {
          "base_uri": "https://localhost:8080/",
          "height": 198
        },
        "outputId": "2dd7e718-573e-465a-8a2e-36ed4c155665"
      },
      "source": [
        "df"
      ],
      "execution_count": null,
      "outputs": [
        {
          "output_type": "execute_result",
          "data": {
            "text/html": [
              "<div>\n",
              "<style scoped>\n",
              "    .dataframe tbody tr th:only-of-type {\n",
              "        vertical-align: middle;\n",
              "    }\n",
              "\n",
              "    .dataframe tbody tr th {\n",
              "        vertical-align: top;\n",
              "    }\n",
              "\n",
              "    .dataframe thead th {\n",
              "        text-align: right;\n",
              "    }\n",
              "</style>\n",
              "<table border=\"1\" class=\"dataframe\">\n",
              "  <thead>\n",
              "    <tr style=\"text-align: right;\">\n",
              "      <th></th>\n",
              "      <th>col1</th>\n",
              "      <th>col2</th>\n",
              "      <th>col3</th>\n",
              "    </tr>\n",
              "  </thead>\n",
              "  <tbody>\n",
              "    <tr>\n",
              "      <th>zero</th>\n",
              "      <td>1</td>\n",
              "      <td>2</td>\n",
              "      <td>3</td>\n",
              "    </tr>\n",
              "    <tr>\n",
              "      <th>one</th>\n",
              "      <td>2</td>\n",
              "      <td>111</td>\n",
              "      <td>4</td>\n",
              "    </tr>\n",
              "    <tr>\n",
              "      <th>two</th>\n",
              "      <td>3</td>\n",
              "      <td>4</td>\n",
              "      <td>5</td>\n",
              "    </tr>\n",
              "    <tr>\n",
              "      <th>three</th>\n",
              "      <td>4</td>\n",
              "      <td>5</td>\n",
              "      <td>6</td>\n",
              "    </tr>\n",
              "    <tr>\n",
              "      <th>four</th>\n",
              "      <td>5</td>\n",
              "      <td>6</td>\n",
              "      <td>7</td>\n",
              "    </tr>\n",
              "  </tbody>\n",
              "</table>\n",
              "</div>"
            ],
            "text/plain": [
              "       col1  col2  col3\n",
              "zero      1     2     3\n",
              "one       2   111     4\n",
              "two       3     4     5\n",
              "three     4     5     6\n",
              "four      5     6     7"
            ]
          },
          "metadata": {
            "tags": []
          },
          "execution_count": 38
        }
      ]
    },
    {
      "cell_type": "code",
      "metadata": {
        "id": "QLUyXoL85gib",
        "colab_type": "code",
        "colab": {}
      },
      "source": [
        "# 複数範囲のデータの更新\n",
        "df.iloc[1:4, 0] = [13, 14, 15]"
      ],
      "execution_count": null,
      "outputs": []
    },
    {
      "cell_type": "code",
      "metadata": {
        "id": "jTZIWW3u5l-e",
        "colab_type": "code",
        "colab": {
          "base_uri": "https://localhost:8080/",
          "height": 198
        },
        "outputId": "0c453d1c-396a-4936-8a11-faf8b608a2e3"
      },
      "source": [
        "df"
      ],
      "execution_count": null,
      "outputs": [
        {
          "output_type": "execute_result",
          "data": {
            "text/html": [
              "<div>\n",
              "<style scoped>\n",
              "    .dataframe tbody tr th:only-of-type {\n",
              "        vertical-align: middle;\n",
              "    }\n",
              "\n",
              "    .dataframe tbody tr th {\n",
              "        vertical-align: top;\n",
              "    }\n",
              "\n",
              "    .dataframe thead th {\n",
              "        text-align: right;\n",
              "    }\n",
              "</style>\n",
              "<table border=\"1\" class=\"dataframe\">\n",
              "  <thead>\n",
              "    <tr style=\"text-align: right;\">\n",
              "      <th></th>\n",
              "      <th>col1</th>\n",
              "      <th>col2</th>\n",
              "      <th>col3</th>\n",
              "    </tr>\n",
              "  </thead>\n",
              "  <tbody>\n",
              "    <tr>\n",
              "      <th>zero</th>\n",
              "      <td>1</td>\n",
              "      <td>2</td>\n",
              "      <td>3</td>\n",
              "    </tr>\n",
              "    <tr>\n",
              "      <th>one</th>\n",
              "      <td>13</td>\n",
              "      <td>111</td>\n",
              "      <td>4</td>\n",
              "    </tr>\n",
              "    <tr>\n",
              "      <th>two</th>\n",
              "      <td>14</td>\n",
              "      <td>4</td>\n",
              "      <td>5</td>\n",
              "    </tr>\n",
              "    <tr>\n",
              "      <th>three</th>\n",
              "      <td>15</td>\n",
              "      <td>5</td>\n",
              "      <td>6</td>\n",
              "    </tr>\n",
              "    <tr>\n",
              "      <th>four</th>\n",
              "      <td>5</td>\n",
              "      <td>6</td>\n",
              "      <td>7</td>\n",
              "    </tr>\n",
              "  </tbody>\n",
              "</table>\n",
              "</div>"
            ],
            "text/plain": [
              "       col1  col2  col3\n",
              "zero      1     2     3\n",
              "one      13   111     4\n",
              "two      14     4     5\n",
              "three    15     5     6\n",
              "four      5     6     7"
            ]
          },
          "metadata": {
            "tags": []
          },
          "execution_count": 40
        }
      ]
    },
    {
      "cell_type": "code",
      "metadata": {
        "id": "TFoj6UbX5mjF",
        "colab_type": "code",
        "colab": {}
      },
      "source": [
        "# 複数範囲に同じデータを格納する\n",
        "df.iloc[:, 2] = 0"
      ],
      "execution_count": null,
      "outputs": []
    },
    {
      "cell_type": "code",
      "metadata": {
        "id": "KnzCTXGf5siJ",
        "colab_type": "code",
        "colab": {
          "base_uri": "https://localhost:8080/",
          "height": 198
        },
        "outputId": "8d8950bb-3de3-4bad-f688-325ecbb15db8"
      },
      "source": [
        "df"
      ],
      "execution_count": null,
      "outputs": [
        {
          "output_type": "execute_result",
          "data": {
            "text/html": [
              "<div>\n",
              "<style scoped>\n",
              "    .dataframe tbody tr th:only-of-type {\n",
              "        vertical-align: middle;\n",
              "    }\n",
              "\n",
              "    .dataframe tbody tr th {\n",
              "        vertical-align: top;\n",
              "    }\n",
              "\n",
              "    .dataframe thead th {\n",
              "        text-align: right;\n",
              "    }\n",
              "</style>\n",
              "<table border=\"1\" class=\"dataframe\">\n",
              "  <thead>\n",
              "    <tr style=\"text-align: right;\">\n",
              "      <th></th>\n",
              "      <th>col1</th>\n",
              "      <th>col2</th>\n",
              "      <th>col3</th>\n",
              "    </tr>\n",
              "  </thead>\n",
              "  <tbody>\n",
              "    <tr>\n",
              "      <th>zero</th>\n",
              "      <td>1</td>\n",
              "      <td>2</td>\n",
              "      <td>0</td>\n",
              "    </tr>\n",
              "    <tr>\n",
              "      <th>one</th>\n",
              "      <td>13</td>\n",
              "      <td>111</td>\n",
              "      <td>0</td>\n",
              "    </tr>\n",
              "    <tr>\n",
              "      <th>two</th>\n",
              "      <td>14</td>\n",
              "      <td>4</td>\n",
              "      <td>0</td>\n",
              "    </tr>\n",
              "    <tr>\n",
              "      <th>three</th>\n",
              "      <td>15</td>\n",
              "      <td>5</td>\n",
              "      <td>0</td>\n",
              "    </tr>\n",
              "    <tr>\n",
              "      <th>four</th>\n",
              "      <td>5</td>\n",
              "      <td>6</td>\n",
              "      <td>0</td>\n",
              "    </tr>\n",
              "  </tbody>\n",
              "</table>\n",
              "</div>"
            ],
            "text/plain": [
              "       col1  col2  col3\n",
              "zero      1     2     0\n",
              "one      13   111     0\n",
              "two      14     4     0\n",
              "three    15     5     0\n",
              "four      5     6     0"
            ]
          },
          "metadata": {
            "tags": []
          },
          "execution_count": 42
        }
      ]
    },
    {
      "cell_type": "markdown",
      "metadata": {
        "id": "p2n_fgX753hq",
        "colab_type": "text"
      },
      "source": [
        "# 行列の追加\n",
        "## 行の追加\n",
        "- 行の追加は、loc属性を用いて対応する値をデータフレームに渡します。"
      ]
    },
    {
      "cell_type": "code",
      "metadata": {
        "id": "CbRzaKZD5szO",
        "colab_type": "code",
        "colab": {}
      },
      "source": [
        "df.loc[5] = 42\n"
      ],
      "execution_count": null,
      "outputs": []
    },
    {
      "cell_type": "code",
      "metadata": {
        "id": "V7aNBHoR6FCw",
        "colab_type": "code",
        "colab": {
          "base_uri": "https://localhost:8080/",
          "height": 228
        },
        "outputId": "56bbdfdc-ccb9-4fd0-bedd-038f0dd568de"
      },
      "source": [
        "df"
      ],
      "execution_count": null,
      "outputs": [
        {
          "output_type": "execute_result",
          "data": {
            "text/html": [
              "<div>\n",
              "<style scoped>\n",
              "    .dataframe tbody tr th:only-of-type {\n",
              "        vertical-align: middle;\n",
              "    }\n",
              "\n",
              "    .dataframe tbody tr th {\n",
              "        vertical-align: top;\n",
              "    }\n",
              "\n",
              "    .dataframe thead th {\n",
              "        text-align: right;\n",
              "    }\n",
              "</style>\n",
              "<table border=\"1\" class=\"dataframe\">\n",
              "  <thead>\n",
              "    <tr style=\"text-align: right;\">\n",
              "      <th></th>\n",
              "      <th>col1</th>\n",
              "      <th>col2</th>\n",
              "      <th>col3</th>\n",
              "    </tr>\n",
              "  </thead>\n",
              "  <tbody>\n",
              "    <tr>\n",
              "      <th>zero</th>\n",
              "      <td>1</td>\n",
              "      <td>2</td>\n",
              "      <td>0</td>\n",
              "    </tr>\n",
              "    <tr>\n",
              "      <th>one</th>\n",
              "      <td>13</td>\n",
              "      <td>111</td>\n",
              "      <td>0</td>\n",
              "    </tr>\n",
              "    <tr>\n",
              "      <th>two</th>\n",
              "      <td>14</td>\n",
              "      <td>4</td>\n",
              "      <td>0</td>\n",
              "    </tr>\n",
              "    <tr>\n",
              "      <th>three</th>\n",
              "      <td>15</td>\n",
              "      <td>5</td>\n",
              "      <td>0</td>\n",
              "    </tr>\n",
              "    <tr>\n",
              "      <th>four</th>\n",
              "      <td>5</td>\n",
              "      <td>6</td>\n",
              "      <td>0</td>\n",
              "    </tr>\n",
              "    <tr>\n",
              "      <th>5</th>\n",
              "      <td>42</td>\n",
              "      <td>42</td>\n",
              "      <td>42</td>\n",
              "    </tr>\n",
              "  </tbody>\n",
              "</table>\n",
              "</div>"
            ],
            "text/plain": [
              "       col1  col2  col3\n",
              "zero      1     2     0\n",
              "one      13   111     0\n",
              "two      14     4     0\n",
              "three    15     5     0\n",
              "four      5     6     0\n",
              "5        42    42    42"
            ]
          },
          "metadata": {
            "tags": []
          },
          "execution_count": 47
        }
      ]
    },
    {
      "cell_type": "markdown",
      "metadata": {
        "id": "QLxCxlzh6Hyx",
        "colab_type": "text"
      },
      "source": [
        "## 列の追加\n",
        "- 列の追加は、列名と対応する値をデータフレームに渡します。"
      ]
    },
    {
      "cell_type": "code",
      "metadata": {
        "id": "ogtD1hsM6FXS",
        "colab_type": "code",
        "colab": {}
      },
      "source": [
        "df[4] = 4"
      ],
      "execution_count": null,
      "outputs": []
    },
    {
      "cell_type": "code",
      "metadata": {
        "id": "DTb49KPq6kbo",
        "colab_type": "code",
        "colab": {
          "base_uri": "https://localhost:8080/",
          "height": 228
        },
        "outputId": "c1a73416-1966-4e3e-9b94-636b3692c456"
      },
      "source": [
        "df"
      ],
      "execution_count": null,
      "outputs": [
        {
          "output_type": "execute_result",
          "data": {
            "text/html": [
              "<div>\n",
              "<style scoped>\n",
              "    .dataframe tbody tr th:only-of-type {\n",
              "        vertical-align: middle;\n",
              "    }\n",
              "\n",
              "    .dataframe tbody tr th {\n",
              "        vertical-align: top;\n",
              "    }\n",
              "\n",
              "    .dataframe thead th {\n",
              "        text-align: right;\n",
              "    }\n",
              "</style>\n",
              "<table border=\"1\" class=\"dataframe\">\n",
              "  <thead>\n",
              "    <tr style=\"text-align: right;\">\n",
              "      <th></th>\n",
              "      <th>col1</th>\n",
              "      <th>col2</th>\n",
              "      <th>col3</th>\n",
              "      <th>4</th>\n",
              "    </tr>\n",
              "  </thead>\n",
              "  <tbody>\n",
              "    <tr>\n",
              "      <th>zero</th>\n",
              "      <td>1</td>\n",
              "      <td>2</td>\n",
              "      <td>0</td>\n",
              "      <td>4</td>\n",
              "    </tr>\n",
              "    <tr>\n",
              "      <th>one</th>\n",
              "      <td>13</td>\n",
              "      <td>111</td>\n",
              "      <td>0</td>\n",
              "      <td>4</td>\n",
              "    </tr>\n",
              "    <tr>\n",
              "      <th>two</th>\n",
              "      <td>14</td>\n",
              "      <td>4</td>\n",
              "      <td>0</td>\n",
              "      <td>4</td>\n",
              "    </tr>\n",
              "    <tr>\n",
              "      <th>three</th>\n",
              "      <td>15</td>\n",
              "      <td>5</td>\n",
              "      <td>0</td>\n",
              "      <td>4</td>\n",
              "    </tr>\n",
              "    <tr>\n",
              "      <th>four</th>\n",
              "      <td>5</td>\n",
              "      <td>6</td>\n",
              "      <td>0</td>\n",
              "      <td>4</td>\n",
              "    </tr>\n",
              "    <tr>\n",
              "      <th>5</th>\n",
              "      <td>42</td>\n",
              "      <td>42</td>\n",
              "      <td>42</td>\n",
              "      <td>4</td>\n",
              "    </tr>\n",
              "  </tbody>\n",
              "</table>\n",
              "</div>"
            ],
            "text/plain": [
              "       col1  col2  col3  4\n",
              "zero      1     2     0  4\n",
              "one      13   111     0  4\n",
              "two      14     4     0  4\n",
              "three    15     5     0  4\n",
              "four      5     6     0  4\n",
              "5        42    42    42  4"
            ]
          },
          "metadata": {
            "tags": []
          },
          "execution_count": 49
        }
      ]
    },
    {
      "cell_type": "markdown",
      "metadata": {
        "id": "xXocU9bV6yiR",
        "colab_type": "text"
      },
      "source": [
        "# データを読み込む\n",
        "## csvファイルを読み込む\n",
        "  - read_csv関数を用います"
      ]
    },
    {
      "cell_type": "code",
      "metadata": {
        "id": "p0_34KWI6k3l",
        "colab_type": "code",
        "colab": {}
      },
      "source": [
        "# データは福岡市の新型コロナウィルス感染　https://ckan.open-governmentdata.org/dataset/401307_covid19_patients\n",
        "df_fukuoka_covid = pd.read_csv('https://ckan.open-governmentdata.org/dataset/6c9fc569-b523-4c56-828d-2ab3047df5a3/resource/c97a0ef7-8be9-4902-bf49-3fe5daf6d34c/download/401307_city_fukuoka_covid19_patients.csv')"
      ],
      "execution_count": null,
      "outputs": []
    },
    {
      "cell_type": "code",
      "metadata": {
        "id": "rXVcqAbX6-Fp",
        "colab_type": "code",
        "colab": {
          "base_uri": "https://localhost:8080/",
          "height": 615
        },
        "outputId": "1a620b3f-60a9-494f-eeca-377e882835a4"
      },
      "source": [
        "df_fukuoka_covid"
      ],
      "execution_count": null,
      "outputs": [
        {
          "output_type": "execute_result",
          "data": {
            "text/html": [
              "<div>\n",
              "<style scoped>\n",
              "    .dataframe tbody tr th:only-of-type {\n",
              "        vertical-align: middle;\n",
              "    }\n",
              "\n",
              "    .dataframe tbody tr th {\n",
              "        vertical-align: top;\n",
              "    }\n",
              "\n",
              "    .dataframe thead th {\n",
              "        text-align: right;\n",
              "    }\n",
              "</style>\n",
              "<table border=\"1\" class=\"dataframe\">\n",
              "  <thead>\n",
              "    <tr style=\"text-align: right;\">\n",
              "      <th></th>\n",
              "      <th>No</th>\n",
              "      <th>全国地方公共団体コード</th>\n",
              "      <th>都道府県名</th>\n",
              "      <th>市区町村名</th>\n",
              "      <th>公表_年月日</th>\n",
              "      <th>曜日</th>\n",
              "      <th>発症_年月日</th>\n",
              "      <th>居住地</th>\n",
              "      <th>年代</th>\n",
              "      <th>性別</th>\n",
              "      <th>患者_属性</th>\n",
              "      <th>患者_状態</th>\n",
              "      <th>患者_症状</th>\n",
              "      <th>患者_渡航歴の有無フラグ</th>\n",
              "      <th>備考</th>\n",
              "      <th>退院済フラグ</th>\n",
              "    </tr>\n",
              "  </thead>\n",
              "  <tbody>\n",
              "    <tr>\n",
              "      <th>0</th>\n",
              "      <td>1</td>\n",
              "      <td>401307</td>\n",
              "      <td>福岡県</td>\n",
              "      <td>福岡市</td>\n",
              "      <td>2020/2/20</td>\n",
              "      <td>木</td>\n",
              "      <td>NaN</td>\n",
              "      <td>福岡市中央区</td>\n",
              "      <td>60代</td>\n",
              "      <td>男性</td>\n",
              "      <td>NaN</td>\n",
              "      <td>NaN</td>\n",
              "      <td>NaN</td>\n",
              "      <td>NaN</td>\n",
              "      <td>NaN</td>\n",
              "      <td>NaN</td>\n",
              "    </tr>\n",
              "    <tr>\n",
              "      <th>1</th>\n",
              "      <td>2</td>\n",
              "      <td>401307</td>\n",
              "      <td>福岡県</td>\n",
              "      <td>福岡市</td>\n",
              "      <td>2020/2/20</td>\n",
              "      <td>木</td>\n",
              "      <td>NaN</td>\n",
              "      <td>福岡市中央区</td>\n",
              "      <td>60代</td>\n",
              "      <td>女性</td>\n",
              "      <td>NaN</td>\n",
              "      <td>NaN</td>\n",
              "      <td>NaN</td>\n",
              "      <td>NaN</td>\n",
              "      <td>NaN</td>\n",
              "      <td>NaN</td>\n",
              "    </tr>\n",
              "    <tr>\n",
              "      <th>2</th>\n",
              "      <td>3</td>\n",
              "      <td>401307</td>\n",
              "      <td>福岡県</td>\n",
              "      <td>福岡市</td>\n",
              "      <td>2020/3/17</td>\n",
              "      <td>火</td>\n",
              "      <td>NaN</td>\n",
              "      <td>福岡市南区</td>\n",
              "      <td>30代</td>\n",
              "      <td>女性</td>\n",
              "      <td>NaN</td>\n",
              "      <td>NaN</td>\n",
              "      <td>NaN</td>\n",
              "      <td>1.0</td>\n",
              "      <td>NaN</td>\n",
              "      <td>NaN</td>\n",
              "    </tr>\n",
              "    <tr>\n",
              "      <th>3</th>\n",
              "      <td>4</td>\n",
              "      <td>401307</td>\n",
              "      <td>福岡県</td>\n",
              "      <td>福岡市</td>\n",
              "      <td>2020/3/24</td>\n",
              "      <td>火</td>\n",
              "      <td>NaN</td>\n",
              "      <td>福岡市早良区</td>\n",
              "      <td>40代</td>\n",
              "      <td>男性</td>\n",
              "      <td>NaN</td>\n",
              "      <td>NaN</td>\n",
              "      <td>NaN</td>\n",
              "      <td>NaN</td>\n",
              "      <td>NaN</td>\n",
              "      <td>NaN</td>\n",
              "    </tr>\n",
              "    <tr>\n",
              "      <th>4</th>\n",
              "      <td>5</td>\n",
              "      <td>401307</td>\n",
              "      <td>福岡県</td>\n",
              "      <td>福岡市</td>\n",
              "      <td>2020/3/26</td>\n",
              "      <td>木</td>\n",
              "      <td>NaN</td>\n",
              "      <td>福岡市東区</td>\n",
              "      <td>50代</td>\n",
              "      <td>男性</td>\n",
              "      <td>NaN</td>\n",
              "      <td>NaN</td>\n",
              "      <td>NaN</td>\n",
              "      <td>NaN</td>\n",
              "      <td>NaN</td>\n",
              "      <td>NaN</td>\n",
              "    </tr>\n",
              "    <tr>\n",
              "      <th>...</th>\n",
              "      <td>...</td>\n",
              "      <td>...</td>\n",
              "      <td>...</td>\n",
              "      <td>...</td>\n",
              "      <td>...</td>\n",
              "      <td>...</td>\n",
              "      <td>...</td>\n",
              "      <td>...</td>\n",
              "      <td>...</td>\n",
              "      <td>...</td>\n",
              "      <td>...</td>\n",
              "      <td>...</td>\n",
              "      <td>...</td>\n",
              "      <td>...</td>\n",
              "      <td>...</td>\n",
              "      <td>...</td>\n",
              "    </tr>\n",
              "    <tr>\n",
              "      <th>1975</th>\n",
              "      <td>1981</td>\n",
              "      <td>401307</td>\n",
              "      <td>福岡県</td>\n",
              "      <td>福岡市</td>\n",
              "      <td>2020/8/14</td>\n",
              "      <td>金</td>\n",
              "      <td>NaN</td>\n",
              "      <td>福岡市中央区</td>\n",
              "      <td>50代</td>\n",
              "      <td>女性</td>\n",
              "      <td>NaN</td>\n",
              "      <td>NaN</td>\n",
              "      <td>NaN</td>\n",
              "      <td>NaN</td>\n",
              "      <td>NaN</td>\n",
              "      <td>NaN</td>\n",
              "    </tr>\n",
              "    <tr>\n",
              "      <th>1976</th>\n",
              "      <td>1982</td>\n",
              "      <td>401307</td>\n",
              "      <td>福岡県</td>\n",
              "      <td>福岡市</td>\n",
              "      <td>2020/8/14</td>\n",
              "      <td>金</td>\n",
              "      <td>NaN</td>\n",
              "      <td>調査中</td>\n",
              "      <td>50代</td>\n",
              "      <td>男性</td>\n",
              "      <td>NaN</td>\n",
              "      <td>NaN</td>\n",
              "      <td>NaN</td>\n",
              "      <td>NaN</td>\n",
              "      <td>NaN</td>\n",
              "      <td>NaN</td>\n",
              "    </tr>\n",
              "    <tr>\n",
              "      <th>1977</th>\n",
              "      <td>1983</td>\n",
              "      <td>401307</td>\n",
              "      <td>福岡県</td>\n",
              "      <td>福岡市</td>\n",
              "      <td>2020/8/14</td>\n",
              "      <td>金</td>\n",
              "      <td>NaN</td>\n",
              "      <td>調査中</td>\n",
              "      <td>30代</td>\n",
              "      <td>男性</td>\n",
              "      <td>NaN</td>\n",
              "      <td>NaN</td>\n",
              "      <td>NaN</td>\n",
              "      <td>NaN</td>\n",
              "      <td>NaN</td>\n",
              "      <td>NaN</td>\n",
              "    </tr>\n",
              "    <tr>\n",
              "      <th>1978</th>\n",
              "      <td>1984</td>\n",
              "      <td>401307</td>\n",
              "      <td>福岡県</td>\n",
              "      <td>福岡市</td>\n",
              "      <td>2020/8/14</td>\n",
              "      <td>金</td>\n",
              "      <td>NaN</td>\n",
              "      <td>福岡市中央区</td>\n",
              "      <td>20代</td>\n",
              "      <td>女性</td>\n",
              "      <td>NaN</td>\n",
              "      <td>NaN</td>\n",
              "      <td>NaN</td>\n",
              "      <td>NaN</td>\n",
              "      <td>NaN</td>\n",
              "      <td>NaN</td>\n",
              "    </tr>\n",
              "    <tr>\n",
              "      <th>1979</th>\n",
              "      <td>1985</td>\n",
              "      <td>401307</td>\n",
              "      <td>福岡県</td>\n",
              "      <td>福岡市</td>\n",
              "      <td>2020/8/14</td>\n",
              "      <td>金</td>\n",
              "      <td>NaN</td>\n",
              "      <td>福岡市中央区</td>\n",
              "      <td>40代</td>\n",
              "      <td>女性</td>\n",
              "      <td>NaN</td>\n",
              "      <td>NaN</td>\n",
              "      <td>NaN</td>\n",
              "      <td>NaN</td>\n",
              "      <td>NaN</td>\n",
              "      <td>NaN</td>\n",
              "    </tr>\n",
              "  </tbody>\n",
              "</table>\n",
              "<p>1980 rows × 16 columns</p>\n",
              "</div>"
            ],
            "text/plain": [
              "        No  全国地方公共団体コード 都道府県名 市区町村名  ... 患者_症状 患者_渡航歴の有無フラグ  備考 退院済フラグ\n",
              "0        1       401307   福岡県   福岡市  ...   NaN          NaN NaN    NaN\n",
              "1        2       401307   福岡県   福岡市  ...   NaN          NaN NaN    NaN\n",
              "2        3       401307   福岡県   福岡市  ...   NaN          1.0 NaN    NaN\n",
              "3        4       401307   福岡県   福岡市  ...   NaN          NaN NaN    NaN\n",
              "4        5       401307   福岡県   福岡市  ...   NaN          NaN NaN    NaN\n",
              "...    ...          ...   ...   ...  ...   ...          ...  ..    ...\n",
              "1975  1981       401307   福岡県   福岡市  ...   NaN          NaN NaN    NaN\n",
              "1976  1982       401307   福岡県   福岡市  ...   NaN          NaN NaN    NaN\n",
              "1977  1983       401307   福岡県   福岡市  ...   NaN          NaN NaN    NaN\n",
              "1978  1984       401307   福岡県   福岡市  ...   NaN          NaN NaN    NaN\n",
              "1979  1985       401307   福岡県   福岡市  ...   NaN          NaN NaN    NaN\n",
              "\n",
              "[1980 rows x 16 columns]"
            ]
          },
          "metadata": {
            "tags": []
          },
          "execution_count": 56
        }
      ]
    },
    {
      "cell_type": "markdown",
      "metadata": {
        "id": "ad9NvoRS9Faa",
        "colab_type": "text"
      },
      "source": [
        "## Excelファイルを読み込む\n",
        "- read_excel関数を用いる"
      ]
    },
    {
      "cell_type": "code",
      "metadata": {
        "id": "J-ijozok9Lbv",
        "colab_type": "code",
        "colab": {}
      },
      "source": [
        "# 福岡市給食献立　https://ckan.open-governmentdata.org/dataset/401307_syousaikonndate\n",
        "df_fukuoka_kyushoku = pd.read_excel('https://ckan.open-governmentdata.org/dataset/8354be81-da59-42eb-b291-7cfdad3db9b6/resource/eb18252f-c00a-4219-b30f-b3986b0125f5/download/201912.xls')"
      ],
      "execution_count": null,
      "outputs": []
    },
    {
      "cell_type": "code",
      "metadata": {
        "id": "6GGnJkVR9byI",
        "colab_type": "code",
        "colab": {
          "base_uri": "https://localhost:8080/",
          "height": 684
        },
        "outputId": "ebd14d4e-0966-489b-b150-12565673390d"
      },
      "source": [
        "df_fukuoka_kyushoku"
      ],
      "execution_count": null,
      "outputs": [
        {
          "output_type": "execute_result",
          "data": {
            "text/html": [
              "<div>\n",
              "<style scoped>\n",
              "    .dataframe tbody tr th:only-of-type {\n",
              "        vertical-align: middle;\n",
              "    }\n",
              "\n",
              "    .dataframe tbody tr th {\n",
              "        vertical-align: top;\n",
              "    }\n",
              "\n",
              "    .dataframe thead th {\n",
              "        text-align: right;\n",
              "    }\n",
              "</style>\n",
              "<table border=\"1\" class=\"dataframe\">\n",
              "  <thead>\n",
              "    <tr style=\"text-align: right;\">\n",
              "      <th></th>\n",
              "      <th>Unnamed: 0</th>\n",
              "      <th>Unnamed: 1</th>\n",
              "      <th>Unnamed: 2</th>\n",
              "      <th>Unnamed: 3</th>\n",
              "      <th>Unnamed: 4</th>\n",
              "      <th>2019-12-01 00:00:00</th>\n",
              "      <th>福岡市学校給食詳細献立表(小学校：イ)　１／２ﾍﾟｰｼﾞ</th>\n",
              "      <th>Unnamed: 7</th>\n",
              "      <th>Unnamed: 8</th>\n",
              "    </tr>\n",
              "  </thead>\n",
              "  <tbody>\n",
              "    <tr>\n",
              "      <th>0</th>\n",
              "      <td>NaN</td>\n",
              "      <td>NaN</td>\n",
              "      <td>NaN</td>\n",
              "      <td>NaN</td>\n",
              "      <td>NaN</td>\n",
              "      <td>NaN</td>\n",
              "      <td>NaN</td>\n",
              "      <td>NaN</td>\n",
              "      <td>福岡市教育委員会</td>\n",
              "    </tr>\n",
              "    <tr>\n",
              "      <th>1</th>\n",
              "      <td>NaN</td>\n",
              "      <td>NaN</td>\n",
              "      <td>NaN</td>\n",
              "      <td>NaN</td>\n",
              "      <td>NaN</td>\n",
              "      <td>NaN</td>\n",
              "      <td>NaN</td>\n",
              "      <td>NaN</td>\n",
              "      <td>NaN</td>\n",
              "    </tr>\n",
              "    <tr>\n",
              "      <th>2</th>\n",
              "      <td>記号</td>\n",
              "      <td>日</td>\n",
              "      <td>曜</td>\n",
              "      <td>献立名</td>\n",
              "      <td>NaN</td>\n",
              "      <td>NaN</td>\n",
              "      <td>NaN</td>\n",
              "      <td>お　も　な　材　料</td>\n",
              "      <td>調　味　料</td>\n",
              "    </tr>\n",
              "    <tr>\n",
              "      <th>3</th>\n",
              "      <td>NaN</td>\n",
              "      <td>NaN</td>\n",
              "      <td>NaN</td>\n",
              "      <td>パン\\n又は\\nごはん</td>\n",
              "      <td>牛乳</td>\n",
              "      <td>おかず</td>\n",
              "      <td>NaN</td>\n",
              "      <td>NaN</td>\n",
              "      <td>NaN</td>\n",
              "    </tr>\n",
              "    <tr>\n",
              "      <th>4</th>\n",
              "      <td>NaN</td>\n",
              "      <td>NaN</td>\n",
              "      <td>NaN</td>\n",
              "      <td>NaN</td>\n",
              "      <td>NaN</td>\n",
              "      <td>除去食対象献立</td>\n",
              "      <td>食品</td>\n",
              "      <td>NaN</td>\n",
              "      <td>NaN</td>\n",
              "    </tr>\n",
              "    <tr>\n",
              "      <th>...</th>\n",
              "      <td>...</td>\n",
              "      <td>...</td>\n",
              "      <td>...</td>\n",
              "      <td>...</td>\n",
              "      <td>...</td>\n",
              "      <td>...</td>\n",
              "      <td>...</td>\n",
              "      <td>...</td>\n",
              "      <td>...</td>\n",
              "    </tr>\n",
              "    <tr>\n",
              "      <th>61</th>\n",
              "      <td>NaN</td>\n",
              "      <td>NaN</td>\n",
              "      <td>NaN</td>\n",
              "      <td>＊麦ご飯・パンにつきましては，「2019年４月～2020年３月分食材料名『主食』」一覧表を</td>\n",
              "      <td>NaN</td>\n",
              "      <td>NaN</td>\n",
              "      <td>NaN</td>\n",
              "      <td>NaN</td>\n",
              "      <td>NaN</td>\n",
              "    </tr>\n",
              "    <tr>\n",
              "      <th>62</th>\n",
              "      <td>NaN</td>\n",
              "      <td>NaN</td>\n",
              "      <td>NaN</td>\n",
              "      <td>参照してください。下線のパンは鶏卵を使用しています。</td>\n",
              "      <td>NaN</td>\n",
              "      <td>NaN</td>\n",
              "      <td>NaN</td>\n",
              "      <td>NaN</td>\n",
              "      <td>NaN</td>\n",
              "    </tr>\n",
              "    <tr>\n",
              "      <th>63</th>\n",
              "      <td>NaN</td>\n",
              "      <td>NaN</td>\n",
              "      <td>NaN</td>\n",
              "      <td>◎マークの物資につきましては，「2019年４月～2020年３月分食材料名」一覧表を参照してく...</td>\n",
              "      <td>NaN</td>\n",
              "      <td>NaN</td>\n",
              "      <td>NaN</td>\n",
              "      <td>NaN</td>\n",
              "      <td>NaN</td>\n",
              "    </tr>\n",
              "    <tr>\n",
              "      <th>64</th>\n",
              "      <td>NaN</td>\n",
              "      <td>NaN</td>\n",
              "      <td>NaN</td>\n",
              "      <td>※マークの物資につきましては，「2019年８月～１２月分食材料名」一覧表を参照してください。</td>\n",
              "      <td>NaN</td>\n",
              "      <td>NaN</td>\n",
              "      <td>NaN</td>\n",
              "      <td>NaN</td>\n",
              "      <td>NaN</td>\n",
              "    </tr>\n",
              "    <tr>\n",
              "      <th>65</th>\n",
              "      <td>NaN</td>\n",
              "      <td>NaN</td>\n",
              "      <td>NaN</td>\n",
              "      <td>★マークの物資につきましては，「2019年１２月分食材料名」一覧表を参照してください。</td>\n",
              "      <td>NaN</td>\n",
              "      <td>NaN</td>\n",
              "      <td>NaN</td>\n",
              "      <td>NaN</td>\n",
              "      <td>NaN</td>\n",
              "    </tr>\n",
              "  </tbody>\n",
              "</table>\n",
              "<p>66 rows × 9 columns</p>\n",
              "</div>"
            ],
            "text/plain": [
              "   Unnamed: 0 Unnamed: 1  ... Unnamed: 7 Unnamed: 8\n",
              "0         NaN        NaN  ...        NaN   福岡市教育委員会\n",
              "1         NaN        NaN  ...        NaN        NaN\n",
              "2          記号          日  ...  お　も　な　材　料      調　味　料\n",
              "3         NaN        NaN  ...        NaN        NaN\n",
              "4         NaN        NaN  ...        NaN        NaN\n",
              "..        ...        ...  ...        ...        ...\n",
              "61        NaN        NaN  ...        NaN        NaN\n",
              "62        NaN        NaN  ...        NaN        NaN\n",
              "63        NaN        NaN  ...        NaN        NaN\n",
              "64        NaN        NaN  ...        NaN        NaN\n",
              "65        NaN        NaN  ...        NaN        NaN\n",
              "\n",
              "[66 rows x 9 columns]"
            ]
          },
          "metadata": {
            "tags": []
          },
          "execution_count": 65
        }
      ]
    },
    {
      "cell_type": "markdown",
      "metadata": {
        "id": "mCf0gGCZ-J8w",
        "colab_type": "text"
      },
      "source": [
        "## HTMLのテーブルを読み込む\n",
        "- read_html関数を使う"
      ]
    },
    {
      "cell_type": "code",
      "metadata": {
        "id": "PNk0FuyH9c-d",
        "colab_type": "code",
        "colab": {}
      },
      "source": [
        "# yahoo_financeより \n",
        "year_high = pd.read_html(\"https://info.finance.yahoo.co.jp/ranking/?kd=29&tm=d&mk=1\", parse_dates=[5])[0]"
      ],
      "execution_count": null,
      "outputs": []
    },
    {
      "cell_type": "code",
      "metadata": {
        "id": "ja8MvCda-ddv",
        "colab_type": "code",
        "colab": {
          "base_uri": "https://localhost:8080/",
          "height": 1000
        },
        "outputId": "4994fb78-9f12-4c04-e432-d44a7dcf1105"
      },
      "source": [
        "year_high"
      ],
      "execution_count": null,
      "outputs": [
        {
          "output_type": "execute_result",
          "data": {
            "text/html": [
              "<div>\n",
              "<style scoped>\n",
              "    .dataframe tbody tr th:only-of-type {\n",
              "        vertical-align: middle;\n",
              "    }\n",
              "\n",
              "    .dataframe tbody tr th {\n",
              "        vertical-align: top;\n",
              "    }\n",
              "\n",
              "    .dataframe thead th {\n",
              "        text-align: right;\n",
              "    }\n",
              "</style>\n",
              "<table border=\"1\" class=\"dataframe\">\n",
              "  <thead>\n",
              "    <tr style=\"text-align: right;\">\n",
              "      <th></th>\n",
              "      <th>コード</th>\n",
              "      <th>市場</th>\n",
              "      <th>名称</th>\n",
              "      <th>取引値</th>\n",
              "      <th>取引値.1</th>\n",
              "      <th>前営業日までの年初来高値</th>\n",
              "      <th>前営業日までの年初来高値.1</th>\n",
              "      <th>高値</th>\n",
              "      <th>掲示板</th>\n",
              "    </tr>\n",
              "  </thead>\n",
              "  <tbody>\n",
              "    <tr>\n",
              "      <th>0</th>\n",
              "      <td>1407</td>\n",
              "      <td>東証JQS</td>\n",
              "      <td>(株)ウエストホールディングス</td>\n",
              "      <td>08/14</td>\n",
              "      <td>2598</td>\n",
              "      <td>2020/08/04</td>\n",
              "      <td>2582</td>\n",
              "      <td>2611</td>\n",
              "      <td>掲示板</td>\n",
              "    </tr>\n",
              "    <tr>\n",
              "      <th>1</th>\n",
              "      <td>1414</td>\n",
              "      <td>東証1部</td>\n",
              "      <td>ショーボンドホールディングス(株)</td>\n",
              "      <td>08/14</td>\n",
              "      <td>5060</td>\n",
              "      <td>2020/06/01</td>\n",
              "      <td>5040</td>\n",
              "      <td>5130</td>\n",
              "      <td>掲示板</td>\n",
              "    </tr>\n",
              "    <tr>\n",
              "      <th>2</th>\n",
              "      <td>1545</td>\n",
              "      <td>東証ETF</td>\n",
              "      <td>(NEXT FUNDS)NASDAQ-100(R)連動型上場投信</td>\n",
              "      <td>08/14</td>\n",
              "      <td>12140</td>\n",
              "      <td>2020/08/07</td>\n",
              "      <td>12070</td>\n",
              "      <td>12160</td>\n",
              "      <td>掲示板</td>\n",
              "    </tr>\n",
              "    <tr>\n",
              "      <th>3</th>\n",
              "      <td>1726</td>\n",
              "      <td>東証1部</td>\n",
              "      <td>(株)ビーアールホールディングス</td>\n",
              "      <td>08/14</td>\n",
              "      <td>686</td>\n",
              "      <td>2020/08/12</td>\n",
              "      <td>687</td>\n",
              "      <td>696</td>\n",
              "      <td>掲示板</td>\n",
              "    </tr>\n",
              "    <tr>\n",
              "      <th>4</th>\n",
              "      <td>2121</td>\n",
              "      <td>東証1部</td>\n",
              "      <td>(株)ミクシィ</td>\n",
              "      <td>08/14</td>\n",
              "      <td>2335</td>\n",
              "      <td>2020/08/13</td>\n",
              "      <td>2367</td>\n",
              "      <td>2394</td>\n",
              "      <td>掲示板</td>\n",
              "    </tr>\n",
              "    <tr>\n",
              "      <th>5</th>\n",
              "      <td>2150</td>\n",
              "      <td>マザーズ</td>\n",
              "      <td>(株)ケアネット</td>\n",
              "      <td>08/14</td>\n",
              "      <td>2294</td>\n",
              "      <td>2020/08/13</td>\n",
              "      <td>2138</td>\n",
              "      <td>2327</td>\n",
              "      <td>掲示板</td>\n",
              "    </tr>\n",
              "    <tr>\n",
              "      <th>6</th>\n",
              "      <td>2178</td>\n",
              "      <td>マザーズ</td>\n",
              "      <td>(株)トライステージ</td>\n",
              "      <td>08/14</td>\n",
              "      <td>426</td>\n",
              "      <td>2020/07/21</td>\n",
              "      <td>417</td>\n",
              "      <td>427</td>\n",
              "      <td>掲示板</td>\n",
              "    </tr>\n",
              "    <tr>\n",
              "      <th>7</th>\n",
              "      <td>2281</td>\n",
              "      <td>東証1部</td>\n",
              "      <td>プリマハム(株)</td>\n",
              "      <td>08/14</td>\n",
              "      <td>3050</td>\n",
              "      <td>2020/08/13</td>\n",
              "      <td>3020</td>\n",
              "      <td>3065</td>\n",
              "      <td>掲示板</td>\n",
              "    </tr>\n",
              "    <tr>\n",
              "      <th>8</th>\n",
              "      <td>2412</td>\n",
              "      <td>東証1部</td>\n",
              "      <td>(株)ベネフィット・ワン</td>\n",
              "      <td>08/14</td>\n",
              "      <td>2633</td>\n",
              "      <td>2020/08/06</td>\n",
              "      <td>2623</td>\n",
              "      <td>2657</td>\n",
              "      <td>掲示板</td>\n",
              "    </tr>\n",
              "    <tr>\n",
              "      <th>9</th>\n",
              "      <td>2413</td>\n",
              "      <td>東証1部</td>\n",
              "      <td>エムスリー(株)</td>\n",
              "      <td>08/14</td>\n",
              "      <td>5950</td>\n",
              "      <td>2020/08/06</td>\n",
              "      <td>5920</td>\n",
              "      <td>6000</td>\n",
              "      <td>掲示板</td>\n",
              "    </tr>\n",
              "    <tr>\n",
              "      <th>10</th>\n",
              "      <td>2484</td>\n",
              "      <td>東証JQS</td>\n",
              "      <td>(株)出前館</td>\n",
              "      <td>08/14</td>\n",
              "      <td>2092</td>\n",
              "      <td>2020/08/11</td>\n",
              "      <td>1992</td>\n",
              "      <td>2136</td>\n",
              "      <td>掲示板</td>\n",
              "    </tr>\n",
              "    <tr>\n",
              "      <th>11</th>\n",
              "      <td>2521</td>\n",
              "      <td>東証ETF</td>\n",
              "      <td>上場インデックスファンド米国株式(S&amp;P500)H有</td>\n",
              "      <td>08/14</td>\n",
              "      <td>1184</td>\n",
              "      <td>2020/08/13</td>\n",
              "      <td>1184</td>\n",
              "      <td>1185</td>\n",
              "      <td>掲示板</td>\n",
              "    </tr>\n",
              "    <tr>\n",
              "      <th>12</th>\n",
              "      <td>2522</td>\n",
              "      <td>東証ETF</td>\n",
              "      <td>iシェアーズ オートメーション&amp;ロボット ETF</td>\n",
              "      <td>08/14</td>\n",
              "      <td>2697</td>\n",
              "      <td>2020/08/13</td>\n",
              "      <td>2677</td>\n",
              "      <td>2699</td>\n",
              "      <td>掲示板</td>\n",
              "    </tr>\n",
              "    <tr>\n",
              "      <th>13</th>\n",
              "      <td>2563</td>\n",
              "      <td>東証ETF</td>\n",
              "      <td>iシェアーズ S&amp;P500 米国株 ETF(H有)</td>\n",
              "      <td>08/14</td>\n",
              "      <td>2188</td>\n",
              "      <td>2020/08/13</td>\n",
              "      <td>2186</td>\n",
              "      <td>2189</td>\n",
              "      <td>掲示板</td>\n",
              "    </tr>\n",
              "    <tr>\n",
              "      <th>14</th>\n",
              "      <td>2669</td>\n",
              "      <td>東証JQS</td>\n",
              "      <td>カネ美食品(株)</td>\n",
              "      <td>08/14</td>\n",
              "      <td>3245</td>\n",
              "      <td>2020/08/06</td>\n",
              "      <td>3240</td>\n",
              "      <td>3245</td>\n",
              "      <td>掲示板</td>\n",
              "    </tr>\n",
              "    <tr>\n",
              "      <th>15</th>\n",
              "      <td>2782</td>\n",
              "      <td>東証JQS</td>\n",
              "      <td>(株)セリア</td>\n",
              "      <td>08/14</td>\n",
              "      <td>4710</td>\n",
              "      <td>2020/08/13</td>\n",
              "      <td>4640</td>\n",
              "      <td>4730</td>\n",
              "      <td>掲示板</td>\n",
              "    </tr>\n",
              "    <tr>\n",
              "      <th>16</th>\n",
              "      <td>2811</td>\n",
              "      <td>東証1部</td>\n",
              "      <td>カゴメ(株)</td>\n",
              "      <td>08/14</td>\n",
              "      <td>3300</td>\n",
              "      <td>2020/07/08</td>\n",
              "      <td>3325</td>\n",
              "      <td>3330</td>\n",
              "      <td>掲示板</td>\n",
              "    </tr>\n",
              "    <tr>\n",
              "      <th>17</th>\n",
              "      <td>2883</td>\n",
              "      <td>東証1部</td>\n",
              "      <td>(株)大冷</td>\n",
              "      <td>08/14</td>\n",
              "      <td>2112</td>\n",
              "      <td>2020/08/12</td>\n",
              "      <td>2108</td>\n",
              "      <td>2119</td>\n",
              "      <td>掲示板</td>\n",
              "    </tr>\n",
              "    <tr>\n",
              "      <th>18</th>\n",
              "      <td>3182</td>\n",
              "      <td>東証1部</td>\n",
              "      <td>オイシックス・ラ・大地(株)</td>\n",
              "      <td>08/14</td>\n",
              "      <td>2564</td>\n",
              "      <td>2020/06/02</td>\n",
              "      <td>2410</td>\n",
              "      <td>2649</td>\n",
              "      <td>掲示板</td>\n",
              "    </tr>\n",
              "    <tr>\n",
              "      <th>19</th>\n",
              "      <td>3199</td>\n",
              "      <td>東証1部</td>\n",
              "      <td>綿半ホールディングス(株)</td>\n",
              "      <td>08/14</td>\n",
              "      <td>2332</td>\n",
              "      <td>2020/08/13</td>\n",
              "      <td>2301</td>\n",
              "      <td>2346</td>\n",
              "      <td>掲示板</td>\n",
              "    </tr>\n",
              "    <tr>\n",
              "      <th>20</th>\n",
              "      <td>3302</td>\n",
              "      <td>東証1部</td>\n",
              "      <td>帝国繊維(株)</td>\n",
              "      <td>08/14</td>\n",
              "      <td>2579</td>\n",
              "      <td>2020/02/06</td>\n",
              "      <td>2576</td>\n",
              "      <td>2631</td>\n",
              "      <td>掲示板</td>\n",
              "    </tr>\n",
              "    <tr>\n",
              "      <th>21</th>\n",
              "      <td>3333</td>\n",
              "      <td>東証1部</td>\n",
              "      <td>(株)あさひ</td>\n",
              "      <td>08/14</td>\n",
              "      <td>1820</td>\n",
              "      <td>2020/08/12</td>\n",
              "      <td>1798</td>\n",
              "      <td>1829</td>\n",
              "      <td>掲示板</td>\n",
              "    </tr>\n",
              "    <tr>\n",
              "      <th>22</th>\n",
              "      <td>3536</td>\n",
              "      <td>東証JQS</td>\n",
              "      <td>アクサスホールディングス(株)</td>\n",
              "      <td>08/14</td>\n",
              "      <td>170</td>\n",
              "      <td>2020/08/13</td>\n",
              "      <td>166</td>\n",
              "      <td>214</td>\n",
              "      <td>掲示板</td>\n",
              "    </tr>\n",
              "    <tr>\n",
              "      <th>23</th>\n",
              "      <td>3663</td>\n",
              "      <td>東証2部</td>\n",
              "      <td>アートスパークホールディングス(株)</td>\n",
              "      <td>08/14</td>\n",
              "      <td>1395</td>\n",
              "      <td>2020/08/13</td>\n",
              "      <td>1366</td>\n",
              "      <td>1395</td>\n",
              "      <td>掲示板</td>\n",
              "    </tr>\n",
              "    <tr>\n",
              "      <th>24</th>\n",
              "      <td>3665</td>\n",
              "      <td>東証1部</td>\n",
              "      <td>(株)エニグモ</td>\n",
              "      <td>08/14</td>\n",
              "      <td>1457</td>\n",
              "      <td>2020/08/04</td>\n",
              "      <td>1440</td>\n",
              "      <td>1463</td>\n",
              "      <td>掲示板</td>\n",
              "    </tr>\n",
              "    <tr>\n",
              "      <th>25</th>\n",
              "      <td>3689</td>\n",
              "      <td>マザーズ</td>\n",
              "      <td>(株)イグニス</td>\n",
              "      <td>08/14</td>\n",
              "      <td>2534</td>\n",
              "      <td>2020/08/13</td>\n",
              "      <td>2449</td>\n",
              "      <td>2561</td>\n",
              "      <td>掲示板</td>\n",
              "    </tr>\n",
              "    <tr>\n",
              "      <th>26</th>\n",
              "      <td>3694</td>\n",
              "      <td>東証1部</td>\n",
              "      <td>(株)オプティム</td>\n",
              "      <td>08/14</td>\n",
              "      <td>3790</td>\n",
              "      <td>2020/07/13</td>\n",
              "      <td>3775</td>\n",
              "      <td>3840</td>\n",
              "      <td>掲示板</td>\n",
              "    </tr>\n",
              "    <tr>\n",
              "      <th>27</th>\n",
              "      <td>3727</td>\n",
              "      <td>マザーズ</td>\n",
              "      <td>(株)アプリックス</td>\n",
              "      <td>08/14</td>\n",
              "      <td>323</td>\n",
              "      <td>2020/07/08</td>\n",
              "      <td>338</td>\n",
              "      <td>357</td>\n",
              "      <td>掲示板</td>\n",
              "    </tr>\n",
              "    <tr>\n",
              "      <th>28</th>\n",
              "      <td>3760</td>\n",
              "      <td>東証JQS</td>\n",
              "      <td>(株)ケイブ</td>\n",
              "      <td>08/14</td>\n",
              "      <td>2698</td>\n",
              "      <td>2020/08/13</td>\n",
              "      <td>2717</td>\n",
              "      <td>2757</td>\n",
              "      <td>掲示板</td>\n",
              "    </tr>\n",
              "    <tr>\n",
              "      <th>29</th>\n",
              "      <td>3774</td>\n",
              "      <td>東証1部</td>\n",
              "      <td>(株)インターネットイニシアティブ</td>\n",
              "      <td>08/14</td>\n",
              "      <td>4200</td>\n",
              "      <td>2020/06/04</td>\n",
              "      <td>4195</td>\n",
              "      <td>4235</td>\n",
              "      <td>掲示板</td>\n",
              "    </tr>\n",
              "    <tr>\n",
              "      <th>30</th>\n",
              "      <td>3837</td>\n",
              "      <td>東証1部</td>\n",
              "      <td>アドソル日進(株)</td>\n",
              "      <td>08/14</td>\n",
              "      <td>2715</td>\n",
              "      <td>2020/05/20</td>\n",
              "      <td>2694</td>\n",
              "      <td>2735</td>\n",
              "      <td>掲示板</td>\n",
              "    </tr>\n",
              "    <tr>\n",
              "      <th>31</th>\n",
              "      <td>3902</td>\n",
              "      <td>東証1部</td>\n",
              "      <td>メディカル・データ・ビジョン(株)</td>\n",
              "      <td>08/14</td>\n",
              "      <td>1580</td>\n",
              "      <td>2020/08/06</td>\n",
              "      <td>1557</td>\n",
              "      <td>1595</td>\n",
              "      <td>掲示板</td>\n",
              "    </tr>\n",
              "    <tr>\n",
              "      <th>32</th>\n",
              "      <td>3904</td>\n",
              "      <td>マザーズ</td>\n",
              "      <td>(株)カヤック</td>\n",
              "      <td>08/14</td>\n",
              "      <td>980</td>\n",
              "      <td>2020/08/11</td>\n",
              "      <td>938</td>\n",
              "      <td>1030</td>\n",
              "      <td>掲示板</td>\n",
              "    </tr>\n",
              "    <tr>\n",
              "      <th>33</th>\n",
              "      <td>3928</td>\n",
              "      <td>東証1部</td>\n",
              "      <td>(株)マイネット</td>\n",
              "      <td>08/14</td>\n",
              "      <td>1658</td>\n",
              "      <td>2020/08/07</td>\n",
              "      <td>1507</td>\n",
              "      <td>1679</td>\n",
              "      <td>掲示板</td>\n",
              "    </tr>\n",
              "    <tr>\n",
              "      <th>34</th>\n",
              "      <td>3962</td>\n",
              "      <td>東証1部</td>\n",
              "      <td>(株)チェンジ</td>\n",
              "      <td>08/14</td>\n",
              "      <td>11290</td>\n",
              "      <td>2020/08/13</td>\n",
              "      <td>10400</td>\n",
              "      <td>11760</td>\n",
              "      <td>掲示板</td>\n",
              "    </tr>\n",
              "    <tr>\n",
              "      <th>35</th>\n",
              "      <td>3985</td>\n",
              "      <td>東証1部</td>\n",
              "      <td>テモナ(株)</td>\n",
              "      <td>08/14</td>\n",
              "      <td>1041</td>\n",
              "      <td>2020/06/18</td>\n",
              "      <td>1071</td>\n",
              "      <td>1091</td>\n",
              "      <td>掲示板</td>\n",
              "    </tr>\n",
              "    <tr>\n",
              "      <th>36</th>\n",
              "      <td>4022</td>\n",
              "      <td>東証1部</td>\n",
              "      <td>ラサ工業(株)</td>\n",
              "      <td>08/14</td>\n",
              "      <td>1682</td>\n",
              "      <td>2020/08/13</td>\n",
              "      <td>1670</td>\n",
              "      <td>1725</td>\n",
              "      <td>掲示板</td>\n",
              "    </tr>\n",
              "    <tr>\n",
              "      <th>37</th>\n",
              "      <td>4055</td>\n",
              "      <td>マザーズ</td>\n",
              "      <td>ティアンドエス(株)</td>\n",
              "      <td>08/14</td>\n",
              "      <td>11700</td>\n",
              "      <td>2020/08/13</td>\n",
              "      <td>10850</td>\n",
              "      <td>13120</td>\n",
              "      <td>掲示板</td>\n",
              "    </tr>\n",
              "    <tr>\n",
              "      <th>38</th>\n",
              "      <td>4062</td>\n",
              "      <td>東証1部</td>\n",
              "      <td>イビデン(株)</td>\n",
              "      <td>08/14</td>\n",
              "      <td>3670</td>\n",
              "      <td>2020/08/12</td>\n",
              "      <td>3670</td>\n",
              "      <td>3700</td>\n",
              "      <td>掲示板</td>\n",
              "    </tr>\n",
              "    <tr>\n",
              "      <th>39</th>\n",
              "      <td>4206</td>\n",
              "      <td>東証1部</td>\n",
              "      <td>アイカ工業(株)</td>\n",
              "      <td>08/14</td>\n",
              "      <td>3725</td>\n",
              "      <td>2020/08/13</td>\n",
              "      <td>3750</td>\n",
              "      <td>3760</td>\n",
              "      <td>掲示板</td>\n",
              "    </tr>\n",
              "    <tr>\n",
              "      <th>40</th>\n",
              "      <td>4351</td>\n",
              "      <td>東証JQS</td>\n",
              "      <td>(株)山田債権回収管理総合事務所</td>\n",
              "      <td>08/14</td>\n",
              "      <td>566</td>\n",
              "      <td>2020/08/13</td>\n",
              "      <td>606</td>\n",
              "      <td>639</td>\n",
              "      <td>掲示板</td>\n",
              "    </tr>\n",
              "    <tr>\n",
              "      <th>41</th>\n",
              "      <td>4393</td>\n",
              "      <td>マザーズ</td>\n",
              "      <td>(株)バンク・オブ・イノベーション</td>\n",
              "      <td>08/14</td>\n",
              "      <td>3075</td>\n",
              "      <td>2020/01/06</td>\n",
              "      <td>2780</td>\n",
              "      <td>3100</td>\n",
              "      <td>掲示板</td>\n",
              "    </tr>\n",
              "    <tr>\n",
              "      <th>42</th>\n",
              "      <td>4403</td>\n",
              "      <td>東証1部</td>\n",
              "      <td>日油(株)</td>\n",
              "      <td>08/14</td>\n",
              "      <td>4280</td>\n",
              "      <td>2020/08/13</td>\n",
              "      <td>4295</td>\n",
              "      <td>4310</td>\n",
              "      <td>掲示板</td>\n",
              "    </tr>\n",
              "    <tr>\n",
              "      <th>43</th>\n",
              "      <td>4483</td>\n",
              "      <td>マザーズ</td>\n",
              "      <td>(株)ＪＭＤＣ</td>\n",
              "      <td>08/14</td>\n",
              "      <td>7770</td>\n",
              "      <td>2020/06/03</td>\n",
              "      <td>8240</td>\n",
              "      <td>8400</td>\n",
              "      <td>掲示板</td>\n",
              "    </tr>\n",
              "    <tr>\n",
              "      <th>44</th>\n",
              "      <td>4488</td>\n",
              "      <td>マザーズ</td>\n",
              "      <td>ＡＩ　ｉｎｓｉｄｅ(株)</td>\n",
              "      <td>08/14</td>\n",
              "      <td>40550</td>\n",
              "      <td>2020/06/23</td>\n",
              "      <td>41300</td>\n",
              "      <td>41450</td>\n",
              "      <td>掲示板</td>\n",
              "    </tr>\n",
              "    <tr>\n",
              "      <th>45</th>\n",
              "      <td>4490</td>\n",
              "      <td>マザーズ</td>\n",
              "      <td>(株)ビザスク</td>\n",
              "      <td>08/14</td>\n",
              "      <td>3020</td>\n",
              "      <td>2020/08/13</td>\n",
              "      <td>3165</td>\n",
              "      <td>3190</td>\n",
              "      <td>掲示板</td>\n",
              "    </tr>\n",
              "    <tr>\n",
              "      <th>46</th>\n",
              "      <td>4528</td>\n",
              "      <td>東証1部</td>\n",
              "      <td>小野薬品工業(株)</td>\n",
              "      <td>08/14</td>\n",
              "      <td>3270</td>\n",
              "      <td>2020/08/13</td>\n",
              "      <td>3270</td>\n",
              "      <td>3290</td>\n",
              "      <td>掲示板</td>\n",
              "    </tr>\n",
              "    <tr>\n",
              "      <th>47</th>\n",
              "      <td>4612</td>\n",
              "      <td>東証1部</td>\n",
              "      <td>日本ペイントホールディングス(株)</td>\n",
              "      <td>08/14</td>\n",
              "      <td>8430</td>\n",
              "      <td>2020/08/13</td>\n",
              "      <td>8330</td>\n",
              "      <td>8570</td>\n",
              "      <td>掲示板</td>\n",
              "    </tr>\n",
              "    <tr>\n",
              "      <th>48</th>\n",
              "      <td>4812</td>\n",
              "      <td>東証1部</td>\n",
              "      <td>ＩＳＩＤ</td>\n",
              "      <td>08/14</td>\n",
              "      <td>5820</td>\n",
              "      <td>2020/07/22</td>\n",
              "      <td>5850</td>\n",
              "      <td>5930</td>\n",
              "      <td>掲示板</td>\n",
              "    </tr>\n",
              "    <tr>\n",
              "      <th>49</th>\n",
              "      <td>4975</td>\n",
              "      <td>東証1部</td>\n",
              "      <td>(株)ＪＣＵ</td>\n",
              "      <td>08/14</td>\n",
              "      <td>3555</td>\n",
              "      <td>2020/08/13</td>\n",
              "      <td>3590</td>\n",
              "      <td>3630</td>\n",
              "      <td>掲示板</td>\n",
              "    </tr>\n",
              "    <tr>\n",
              "      <th>50</th>\n",
              "      <td>コード</td>\n",
              "      <td>市場</td>\n",
              "      <td>名称</td>\n",
              "      <td>取引値</td>\n",
              "      <td>取引値</td>\n",
              "      <td>前営業日までの年初来高値</td>\n",
              "      <td>前営業日までの年初来高値</td>\n",
              "      <td>高値</td>\n",
              "      <td>掲示板</td>\n",
              "    </tr>\n",
              "  </tbody>\n",
              "</table>\n",
              "</div>"
            ],
            "text/plain": [
              "     コード     市場                                名称  ... 前営業日までの年初来高値.1     高値  掲示板\n",
              "0   1407  東証JQS                   (株)ウエストホールディングス  ...           2582   2611  掲示板\n",
              "1   1414   東証1部                 ショーボンドホールディングス(株)  ...           5040   5130  掲示板\n",
              "2   1545  東証ETF  (NEXT FUNDS)NASDAQ-100(R)連動型上場投信  ...          12070  12160  掲示板\n",
              "3   1726   東証1部                  (株)ビーアールホールディングス  ...            687    696  掲示板\n",
              "4   2121   東証1部                           (株)ミクシィ  ...           2367   2394  掲示板\n",
              "5   2150   マザーズ                          (株)ケアネット  ...           2138   2327  掲示板\n",
              "6   2178   マザーズ                        (株)トライステージ  ...            417    427  掲示板\n",
              "7   2281   東証1部                          プリマハム(株)  ...           3020   3065  掲示板\n",
              "8   2412   東証1部                      (株)ベネフィット・ワン  ...           2623   2657  掲示板\n",
              "9   2413   東証1部                          エムスリー(株)  ...           5920   6000  掲示板\n",
              "10  2484  東証JQS                            (株)出前館  ...           1992   2136  掲示板\n",
              "11  2521  東証ETF        上場インデックスファンド米国株式(S&P500)H有  ...           1184   1185  掲示板\n",
              "12  2522  東証ETF          iシェアーズ オートメーション&ロボット ETF  ...           2677   2699  掲示板\n",
              "13  2563  東証ETF         iシェアーズ S&P500 米国株 ETF(H有)  ...           2186   2189  掲示板\n",
              "14  2669  東証JQS                          カネ美食品(株)  ...           3240   3245  掲示板\n",
              "15  2782  東証JQS                            (株)セリア  ...           4640   4730  掲示板\n",
              "16  2811   東証1部                            カゴメ(株)  ...           3325   3330  掲示板\n",
              "17  2883   東証1部                             (株)大冷  ...           2108   2119  掲示板\n",
              "18  3182   東証1部                    オイシックス・ラ・大地(株)  ...           2410   2649  掲示板\n",
              "19  3199   東証1部                     綿半ホールディングス(株)  ...           2301   2346  掲示板\n",
              "20  3302   東証1部                           帝国繊維(株)  ...           2576   2631  掲示板\n",
              "21  3333   東証1部                            (株)あさひ  ...           1798   1829  掲示板\n",
              "22  3536  東証JQS                   アクサスホールディングス(株)  ...            166    214  掲示板\n",
              "23  3663   東証2部                アートスパークホールディングス(株)  ...           1366   1395  掲示板\n",
              "24  3665   東証1部                           (株)エニグモ  ...           1440   1463  掲示板\n",
              "25  3689   マザーズ                           (株)イグニス  ...           2449   2561  掲示板\n",
              "26  3694   東証1部                          (株)オプティム  ...           3775   3840  掲示板\n",
              "27  3727   マザーズ                         (株)アプリックス  ...            338    357  掲示板\n",
              "28  3760  東証JQS                            (株)ケイブ  ...           2717   2757  掲示板\n",
              "29  3774   東証1部                 (株)インターネットイニシアティブ  ...           4195   4235  掲示板\n",
              "30  3837   東証1部                         アドソル日進(株)  ...           2694   2735  掲示板\n",
              "31  3902   東証1部                 メディカル・データ・ビジョン(株)  ...           1557   1595  掲示板\n",
              "32  3904   マザーズ                           (株)カヤック  ...            938   1030  掲示板\n",
              "33  3928   東証1部                          (株)マイネット  ...           1507   1679  掲示板\n",
              "34  3962   東証1部                           (株)チェンジ  ...          10400  11760  掲示板\n",
              "35  3985   東証1部                            テモナ(株)  ...           1071   1091  掲示板\n",
              "36  4022   東証1部                           ラサ工業(株)  ...           1670   1725  掲示板\n",
              "37  4055   マザーズ                        ティアンドエス(株)  ...          10850  13120  掲示板\n",
              "38  4062   東証1部                           イビデン(株)  ...           3670   3700  掲示板\n",
              "39  4206   東証1部                          アイカ工業(株)  ...           3750   3760  掲示板\n",
              "40  4351  東証JQS                  (株)山田債権回収管理総合事務所  ...            606    639  掲示板\n",
              "41  4393   マザーズ                 (株)バンク・オブ・イノベーション  ...           2780   3100  掲示板\n",
              "42  4403   東証1部                             日油(株)  ...           4295   4310  掲示板\n",
              "43  4483   マザーズ                           (株)ＪＭＤＣ  ...           8240   8400  掲示板\n",
              "44  4488   マザーズ                      ＡＩ　ｉｎｓｉｄｅ(株)  ...          41300  41450  掲示板\n",
              "45  4490   マザーズ                           (株)ビザスク  ...           3165   3190  掲示板\n",
              "46  4528   東証1部                         小野薬品工業(株)  ...           3270   3290  掲示板\n",
              "47  4612   東証1部                 日本ペイントホールディングス(株)  ...           8330   8570  掲示板\n",
              "48  4812   東証1部                              ＩＳＩＤ  ...           5850   5930  掲示板\n",
              "49  4975   東証1部                            (株)ＪＣＵ  ...           3590   3630  掲示板\n",
              "50   コード     市場                                名称  ...   前営業日までの年初来高値     高値  掲示板\n",
              "\n",
              "[51 rows x 9 columns]"
            ]
          },
          "metadata": {
            "tags": []
          },
          "execution_count": 114
        }
      ]
    },
    {
      "cell_type": "markdown",
      "metadata": {
        "id": "aj5GmwOE_-eU",
        "colab_type": "text"
      },
      "source": [
        "# データを観察する"
      ]
    },
    {
      "cell_type": "markdown",
      "metadata": {
        "id": "NafgCjKXAWKT",
        "colab_type": "text"
      },
      "source": [
        "## 概要を観察する\n",
        "- 先頭行を観察するheadメソッド\n",
        "- 最終行を観察するtailメソッド\n",
        "- データの大まかな統計値を観察するdescribeメソッド\n",
        "- データのインデックスやコラムのデータ型や数値でないデータの情報を得られるinfoメソッド\n",
        "- データの行列数を確認するshape属性"
      ]
    },
    {
      "cell_type": "code",
      "metadata": {
        "id": "FZCVakeb-pcK",
        "colab_type": "code",
        "colab": {
          "base_uri": "https://localhost:8080/",
          "height": 319
        },
        "outputId": "baa33ba8-d3bc-4509-d52c-763f7b36fc6d"
      },
      "source": [
        "df_fukuoka_covid.head()"
      ],
      "execution_count": null,
      "outputs": [
        {
          "output_type": "execute_result",
          "data": {
            "text/html": [
              "<div>\n",
              "<style scoped>\n",
              "    .dataframe tbody tr th:only-of-type {\n",
              "        vertical-align: middle;\n",
              "    }\n",
              "\n",
              "    .dataframe tbody tr th {\n",
              "        vertical-align: top;\n",
              "    }\n",
              "\n",
              "    .dataframe thead th {\n",
              "        text-align: right;\n",
              "    }\n",
              "</style>\n",
              "<table border=\"1\" class=\"dataframe\">\n",
              "  <thead>\n",
              "    <tr style=\"text-align: right;\">\n",
              "      <th></th>\n",
              "      <th>No</th>\n",
              "      <th>全国地方公共団体コード</th>\n",
              "      <th>都道府県名</th>\n",
              "      <th>市区町村名</th>\n",
              "      <th>公表_年月日</th>\n",
              "      <th>曜日</th>\n",
              "      <th>発症_年月日</th>\n",
              "      <th>居住地</th>\n",
              "      <th>年代</th>\n",
              "      <th>性別</th>\n",
              "      <th>患者_属性</th>\n",
              "      <th>患者_状態</th>\n",
              "      <th>患者_症状</th>\n",
              "      <th>患者_渡航歴の有無フラグ</th>\n",
              "      <th>備考</th>\n",
              "      <th>退院済フラグ</th>\n",
              "    </tr>\n",
              "  </thead>\n",
              "  <tbody>\n",
              "    <tr>\n",
              "      <th>0</th>\n",
              "      <td>1</td>\n",
              "      <td>401307</td>\n",
              "      <td>福岡県</td>\n",
              "      <td>福岡市</td>\n",
              "      <td>2020/2/20</td>\n",
              "      <td>木</td>\n",
              "      <td>NaN</td>\n",
              "      <td>福岡市中央区</td>\n",
              "      <td>60代</td>\n",
              "      <td>男性</td>\n",
              "      <td>NaN</td>\n",
              "      <td>NaN</td>\n",
              "      <td>NaN</td>\n",
              "      <td>NaN</td>\n",
              "      <td>NaN</td>\n",
              "      <td>NaN</td>\n",
              "    </tr>\n",
              "    <tr>\n",
              "      <th>1</th>\n",
              "      <td>2</td>\n",
              "      <td>401307</td>\n",
              "      <td>福岡県</td>\n",
              "      <td>福岡市</td>\n",
              "      <td>2020/2/20</td>\n",
              "      <td>木</td>\n",
              "      <td>NaN</td>\n",
              "      <td>福岡市中央区</td>\n",
              "      <td>60代</td>\n",
              "      <td>女性</td>\n",
              "      <td>NaN</td>\n",
              "      <td>NaN</td>\n",
              "      <td>NaN</td>\n",
              "      <td>NaN</td>\n",
              "      <td>NaN</td>\n",
              "      <td>NaN</td>\n",
              "    </tr>\n",
              "    <tr>\n",
              "      <th>2</th>\n",
              "      <td>3</td>\n",
              "      <td>401307</td>\n",
              "      <td>福岡県</td>\n",
              "      <td>福岡市</td>\n",
              "      <td>2020/3/17</td>\n",
              "      <td>火</td>\n",
              "      <td>NaN</td>\n",
              "      <td>福岡市南区</td>\n",
              "      <td>30代</td>\n",
              "      <td>女性</td>\n",
              "      <td>NaN</td>\n",
              "      <td>NaN</td>\n",
              "      <td>NaN</td>\n",
              "      <td>1.0</td>\n",
              "      <td>NaN</td>\n",
              "      <td>NaN</td>\n",
              "    </tr>\n",
              "    <tr>\n",
              "      <th>3</th>\n",
              "      <td>4</td>\n",
              "      <td>401307</td>\n",
              "      <td>福岡県</td>\n",
              "      <td>福岡市</td>\n",
              "      <td>2020/3/24</td>\n",
              "      <td>火</td>\n",
              "      <td>NaN</td>\n",
              "      <td>福岡市早良区</td>\n",
              "      <td>40代</td>\n",
              "      <td>男性</td>\n",
              "      <td>NaN</td>\n",
              "      <td>NaN</td>\n",
              "      <td>NaN</td>\n",
              "      <td>NaN</td>\n",
              "      <td>NaN</td>\n",
              "      <td>NaN</td>\n",
              "    </tr>\n",
              "    <tr>\n",
              "      <th>4</th>\n",
              "      <td>5</td>\n",
              "      <td>401307</td>\n",
              "      <td>福岡県</td>\n",
              "      <td>福岡市</td>\n",
              "      <td>2020/3/26</td>\n",
              "      <td>木</td>\n",
              "      <td>NaN</td>\n",
              "      <td>福岡市東区</td>\n",
              "      <td>50代</td>\n",
              "      <td>男性</td>\n",
              "      <td>NaN</td>\n",
              "      <td>NaN</td>\n",
              "      <td>NaN</td>\n",
              "      <td>NaN</td>\n",
              "      <td>NaN</td>\n",
              "      <td>NaN</td>\n",
              "    </tr>\n",
              "  </tbody>\n",
              "</table>\n",
              "</div>"
            ],
            "text/plain": [
              "   No  全国地方公共団体コード 都道府県名 市区町村名  ... 患者_症状 患者_渡航歴の有無フラグ  備考 退院済フラグ\n",
              "0   1       401307   福岡県   福岡市  ...   NaN          NaN NaN    NaN\n",
              "1   2       401307   福岡県   福岡市  ...   NaN          NaN NaN    NaN\n",
              "2   3       401307   福岡県   福岡市  ...   NaN          1.0 NaN    NaN\n",
              "3   4       401307   福岡県   福岡市  ...   NaN          NaN NaN    NaN\n",
              "4   5       401307   福岡県   福岡市  ...   NaN          NaN NaN    NaN\n",
              "\n",
              "[5 rows x 16 columns]"
            ]
          },
          "metadata": {
            "tags": []
          },
          "execution_count": 96
        }
      ]
    },
    {
      "cell_type": "code",
      "metadata": {
        "id": "QuRrpvk2ATYZ",
        "colab_type": "code",
        "colab": {
          "base_uri": "https://localhost:8080/",
          "height": 319
        },
        "outputId": "a268a344-c45b-421f-f73a-f524e27e710b"
      },
      "source": [
        "df_fukuoka_covid.tail()"
      ],
      "execution_count": null,
      "outputs": [
        {
          "output_type": "execute_result",
          "data": {
            "text/html": [
              "<div>\n",
              "<style scoped>\n",
              "    .dataframe tbody tr th:only-of-type {\n",
              "        vertical-align: middle;\n",
              "    }\n",
              "\n",
              "    .dataframe tbody tr th {\n",
              "        vertical-align: top;\n",
              "    }\n",
              "\n",
              "    .dataframe thead th {\n",
              "        text-align: right;\n",
              "    }\n",
              "</style>\n",
              "<table border=\"1\" class=\"dataframe\">\n",
              "  <thead>\n",
              "    <tr style=\"text-align: right;\">\n",
              "      <th></th>\n",
              "      <th>No</th>\n",
              "      <th>全国地方公共団体コード</th>\n",
              "      <th>都道府県名</th>\n",
              "      <th>市区町村名</th>\n",
              "      <th>公表_年月日</th>\n",
              "      <th>曜日</th>\n",
              "      <th>発症_年月日</th>\n",
              "      <th>居住地</th>\n",
              "      <th>年代</th>\n",
              "      <th>性別</th>\n",
              "      <th>患者_属性</th>\n",
              "      <th>患者_状態</th>\n",
              "      <th>患者_症状</th>\n",
              "      <th>患者_渡航歴の有無フラグ</th>\n",
              "      <th>備考</th>\n",
              "      <th>退院済フラグ</th>\n",
              "    </tr>\n",
              "  </thead>\n",
              "  <tbody>\n",
              "    <tr>\n",
              "      <th>1975</th>\n",
              "      <td>1981</td>\n",
              "      <td>401307</td>\n",
              "      <td>福岡県</td>\n",
              "      <td>福岡市</td>\n",
              "      <td>2020/8/14</td>\n",
              "      <td>金</td>\n",
              "      <td>NaN</td>\n",
              "      <td>福岡市中央区</td>\n",
              "      <td>50代</td>\n",
              "      <td>女性</td>\n",
              "      <td>NaN</td>\n",
              "      <td>NaN</td>\n",
              "      <td>NaN</td>\n",
              "      <td>NaN</td>\n",
              "      <td>NaN</td>\n",
              "      <td>NaN</td>\n",
              "    </tr>\n",
              "    <tr>\n",
              "      <th>1976</th>\n",
              "      <td>1982</td>\n",
              "      <td>401307</td>\n",
              "      <td>福岡県</td>\n",
              "      <td>福岡市</td>\n",
              "      <td>2020/8/14</td>\n",
              "      <td>金</td>\n",
              "      <td>NaN</td>\n",
              "      <td>調査中</td>\n",
              "      <td>50代</td>\n",
              "      <td>男性</td>\n",
              "      <td>NaN</td>\n",
              "      <td>NaN</td>\n",
              "      <td>NaN</td>\n",
              "      <td>NaN</td>\n",
              "      <td>NaN</td>\n",
              "      <td>NaN</td>\n",
              "    </tr>\n",
              "    <tr>\n",
              "      <th>1977</th>\n",
              "      <td>1983</td>\n",
              "      <td>401307</td>\n",
              "      <td>福岡県</td>\n",
              "      <td>福岡市</td>\n",
              "      <td>2020/8/14</td>\n",
              "      <td>金</td>\n",
              "      <td>NaN</td>\n",
              "      <td>調査中</td>\n",
              "      <td>30代</td>\n",
              "      <td>男性</td>\n",
              "      <td>NaN</td>\n",
              "      <td>NaN</td>\n",
              "      <td>NaN</td>\n",
              "      <td>NaN</td>\n",
              "      <td>NaN</td>\n",
              "      <td>NaN</td>\n",
              "    </tr>\n",
              "    <tr>\n",
              "      <th>1978</th>\n",
              "      <td>1984</td>\n",
              "      <td>401307</td>\n",
              "      <td>福岡県</td>\n",
              "      <td>福岡市</td>\n",
              "      <td>2020/8/14</td>\n",
              "      <td>金</td>\n",
              "      <td>NaN</td>\n",
              "      <td>福岡市中央区</td>\n",
              "      <td>20代</td>\n",
              "      <td>女性</td>\n",
              "      <td>NaN</td>\n",
              "      <td>NaN</td>\n",
              "      <td>NaN</td>\n",
              "      <td>NaN</td>\n",
              "      <td>NaN</td>\n",
              "      <td>NaN</td>\n",
              "    </tr>\n",
              "    <tr>\n",
              "      <th>1979</th>\n",
              "      <td>1985</td>\n",
              "      <td>401307</td>\n",
              "      <td>福岡県</td>\n",
              "      <td>福岡市</td>\n",
              "      <td>2020/8/14</td>\n",
              "      <td>金</td>\n",
              "      <td>NaN</td>\n",
              "      <td>福岡市中央区</td>\n",
              "      <td>40代</td>\n",
              "      <td>女性</td>\n",
              "      <td>NaN</td>\n",
              "      <td>NaN</td>\n",
              "      <td>NaN</td>\n",
              "      <td>NaN</td>\n",
              "      <td>NaN</td>\n",
              "      <td>NaN</td>\n",
              "    </tr>\n",
              "  </tbody>\n",
              "</table>\n",
              "</div>"
            ],
            "text/plain": [
              "        No  全国地方公共団体コード 都道府県名 市区町村名  ... 患者_症状 患者_渡航歴の有無フラグ  備考 退院済フラグ\n",
              "1975  1981       401307   福岡県   福岡市  ...   NaN          NaN NaN    NaN\n",
              "1976  1982       401307   福岡県   福岡市  ...   NaN          NaN NaN    NaN\n",
              "1977  1983       401307   福岡県   福岡市  ...   NaN          NaN NaN    NaN\n",
              "1978  1984       401307   福岡県   福岡市  ...   NaN          NaN NaN    NaN\n",
              "1979  1985       401307   福岡県   福岡市  ...   NaN          NaN NaN    NaN\n",
              "\n",
              "[5 rows x 16 columns]"
            ]
          },
          "metadata": {
            "tags": []
          },
          "execution_count": 97
        }
      ]
    },
    {
      "cell_type": "code",
      "metadata": {
        "id": "s29enTSkAeyC",
        "colab_type": "code",
        "colab": {
          "base_uri": "https://localhost:8080/",
          "height": 792
        },
        "outputId": "e929fac2-cf99-41af-d014-5c5230c8daa8"
      },
      "source": [
        "# 行数を変える場合引数nに値を渡す（初期値は5）\n",
        "df_fukuoka_covid.head(15)"
      ],
      "execution_count": null,
      "outputs": [
        {
          "output_type": "execute_result",
          "data": {
            "text/html": [
              "<div>\n",
              "<style scoped>\n",
              "    .dataframe tbody tr th:only-of-type {\n",
              "        vertical-align: middle;\n",
              "    }\n",
              "\n",
              "    .dataframe tbody tr th {\n",
              "        vertical-align: top;\n",
              "    }\n",
              "\n",
              "    .dataframe thead th {\n",
              "        text-align: right;\n",
              "    }\n",
              "</style>\n",
              "<table border=\"1\" class=\"dataframe\">\n",
              "  <thead>\n",
              "    <tr style=\"text-align: right;\">\n",
              "      <th></th>\n",
              "      <th>No</th>\n",
              "      <th>全国地方公共団体コード</th>\n",
              "      <th>都道府県名</th>\n",
              "      <th>市区町村名</th>\n",
              "      <th>公表_年月日</th>\n",
              "      <th>曜日</th>\n",
              "      <th>発症_年月日</th>\n",
              "      <th>居住地</th>\n",
              "      <th>年代</th>\n",
              "      <th>性別</th>\n",
              "      <th>患者_属性</th>\n",
              "      <th>患者_状態</th>\n",
              "      <th>患者_症状</th>\n",
              "      <th>患者_渡航歴の有無フラグ</th>\n",
              "      <th>備考</th>\n",
              "      <th>退院済フラグ</th>\n",
              "    </tr>\n",
              "  </thead>\n",
              "  <tbody>\n",
              "    <tr>\n",
              "      <th>0</th>\n",
              "      <td>1</td>\n",
              "      <td>401307</td>\n",
              "      <td>福岡県</td>\n",
              "      <td>福岡市</td>\n",
              "      <td>2020/2/20</td>\n",
              "      <td>木</td>\n",
              "      <td>NaN</td>\n",
              "      <td>福岡市中央区</td>\n",
              "      <td>60代</td>\n",
              "      <td>男性</td>\n",
              "      <td>NaN</td>\n",
              "      <td>NaN</td>\n",
              "      <td>NaN</td>\n",
              "      <td>NaN</td>\n",
              "      <td>NaN</td>\n",
              "      <td>NaN</td>\n",
              "    </tr>\n",
              "    <tr>\n",
              "      <th>1</th>\n",
              "      <td>2</td>\n",
              "      <td>401307</td>\n",
              "      <td>福岡県</td>\n",
              "      <td>福岡市</td>\n",
              "      <td>2020/2/20</td>\n",
              "      <td>木</td>\n",
              "      <td>NaN</td>\n",
              "      <td>福岡市中央区</td>\n",
              "      <td>60代</td>\n",
              "      <td>女性</td>\n",
              "      <td>NaN</td>\n",
              "      <td>NaN</td>\n",
              "      <td>NaN</td>\n",
              "      <td>NaN</td>\n",
              "      <td>NaN</td>\n",
              "      <td>NaN</td>\n",
              "    </tr>\n",
              "    <tr>\n",
              "      <th>2</th>\n",
              "      <td>3</td>\n",
              "      <td>401307</td>\n",
              "      <td>福岡県</td>\n",
              "      <td>福岡市</td>\n",
              "      <td>2020/3/17</td>\n",
              "      <td>火</td>\n",
              "      <td>NaN</td>\n",
              "      <td>福岡市南区</td>\n",
              "      <td>30代</td>\n",
              "      <td>女性</td>\n",
              "      <td>NaN</td>\n",
              "      <td>NaN</td>\n",
              "      <td>NaN</td>\n",
              "      <td>1.0</td>\n",
              "      <td>NaN</td>\n",
              "      <td>NaN</td>\n",
              "    </tr>\n",
              "    <tr>\n",
              "      <th>3</th>\n",
              "      <td>4</td>\n",
              "      <td>401307</td>\n",
              "      <td>福岡県</td>\n",
              "      <td>福岡市</td>\n",
              "      <td>2020/3/24</td>\n",
              "      <td>火</td>\n",
              "      <td>NaN</td>\n",
              "      <td>福岡市早良区</td>\n",
              "      <td>40代</td>\n",
              "      <td>男性</td>\n",
              "      <td>NaN</td>\n",
              "      <td>NaN</td>\n",
              "      <td>NaN</td>\n",
              "      <td>NaN</td>\n",
              "      <td>NaN</td>\n",
              "      <td>NaN</td>\n",
              "    </tr>\n",
              "    <tr>\n",
              "      <th>4</th>\n",
              "      <td>5</td>\n",
              "      <td>401307</td>\n",
              "      <td>福岡県</td>\n",
              "      <td>福岡市</td>\n",
              "      <td>2020/3/26</td>\n",
              "      <td>木</td>\n",
              "      <td>NaN</td>\n",
              "      <td>福岡市東区</td>\n",
              "      <td>50代</td>\n",
              "      <td>男性</td>\n",
              "      <td>NaN</td>\n",
              "      <td>NaN</td>\n",
              "      <td>NaN</td>\n",
              "      <td>NaN</td>\n",
              "      <td>NaN</td>\n",
              "      <td>NaN</td>\n",
              "    </tr>\n",
              "    <tr>\n",
              "      <th>5</th>\n",
              "      <td>6</td>\n",
              "      <td>401307</td>\n",
              "      <td>福岡県</td>\n",
              "      <td>福岡市</td>\n",
              "      <td>2020/3/26</td>\n",
              "      <td>木</td>\n",
              "      <td>NaN</td>\n",
              "      <td>福岡市城南区</td>\n",
              "      <td>20代</td>\n",
              "      <td>男性</td>\n",
              "      <td>NaN</td>\n",
              "      <td>NaN</td>\n",
              "      <td>NaN</td>\n",
              "      <td>NaN</td>\n",
              "      <td>NaN</td>\n",
              "      <td>NaN</td>\n",
              "    </tr>\n",
              "    <tr>\n",
              "      <th>6</th>\n",
              "      <td>7</td>\n",
              "      <td>401307</td>\n",
              "      <td>福岡県</td>\n",
              "      <td>福岡市</td>\n",
              "      <td>2020/3/27</td>\n",
              "      <td>金</td>\n",
              "      <td>NaN</td>\n",
              "      <td>福岡市博多区</td>\n",
              "      <td>20代</td>\n",
              "      <td>男性</td>\n",
              "      <td>NaN</td>\n",
              "      <td>NaN</td>\n",
              "      <td>NaN</td>\n",
              "      <td>1.0</td>\n",
              "      <td>NaN</td>\n",
              "      <td>NaN</td>\n",
              "    </tr>\n",
              "    <tr>\n",
              "      <th>7</th>\n",
              "      <td>8</td>\n",
              "      <td>401307</td>\n",
              "      <td>福岡県</td>\n",
              "      <td>福岡市</td>\n",
              "      <td>2020/3/27</td>\n",
              "      <td>金</td>\n",
              "      <td>NaN</td>\n",
              "      <td>福岡市南区</td>\n",
              "      <td>40代</td>\n",
              "      <td>男性</td>\n",
              "      <td>NaN</td>\n",
              "      <td>NaN</td>\n",
              "      <td>NaN</td>\n",
              "      <td>NaN</td>\n",
              "      <td>NaN</td>\n",
              "      <td>NaN</td>\n",
              "    </tr>\n",
              "    <tr>\n",
              "      <th>8</th>\n",
              "      <td>9</td>\n",
              "      <td>401307</td>\n",
              "      <td>福岡県</td>\n",
              "      <td>福岡市</td>\n",
              "      <td>2020/3/27</td>\n",
              "      <td>金</td>\n",
              "      <td>NaN</td>\n",
              "      <td>福岡市城南区</td>\n",
              "      <td>20代</td>\n",
              "      <td>男性</td>\n",
              "      <td>NaN</td>\n",
              "      <td>NaN</td>\n",
              "      <td>NaN</td>\n",
              "      <td>NaN</td>\n",
              "      <td>NaN</td>\n",
              "      <td>NaN</td>\n",
              "    </tr>\n",
              "    <tr>\n",
              "      <th>9</th>\n",
              "      <td>10</td>\n",
              "      <td>401307</td>\n",
              "      <td>福岡県</td>\n",
              "      <td>福岡市</td>\n",
              "      <td>2020/3/28</td>\n",
              "      <td>土</td>\n",
              "      <td>NaN</td>\n",
              "      <td>福岡市博多区</td>\n",
              "      <td>30代</td>\n",
              "      <td>男性</td>\n",
              "      <td>NaN</td>\n",
              "      <td>NaN</td>\n",
              "      <td>NaN</td>\n",
              "      <td>NaN</td>\n",
              "      <td>NaN</td>\n",
              "      <td>NaN</td>\n",
              "    </tr>\n",
              "    <tr>\n",
              "      <th>10</th>\n",
              "      <td>11</td>\n",
              "      <td>401307</td>\n",
              "      <td>福岡県</td>\n",
              "      <td>福岡市</td>\n",
              "      <td>2020/3/28</td>\n",
              "      <td>土</td>\n",
              "      <td>NaN</td>\n",
              "      <td>福岡市中央区</td>\n",
              "      <td>30代</td>\n",
              "      <td>男性</td>\n",
              "      <td>NaN</td>\n",
              "      <td>NaN</td>\n",
              "      <td>NaN</td>\n",
              "      <td>NaN</td>\n",
              "      <td>NaN</td>\n",
              "      <td>NaN</td>\n",
              "    </tr>\n",
              "    <tr>\n",
              "      <th>11</th>\n",
              "      <td>12</td>\n",
              "      <td>401307</td>\n",
              "      <td>福岡県</td>\n",
              "      <td>福岡市</td>\n",
              "      <td>2020/3/28</td>\n",
              "      <td>土</td>\n",
              "      <td>NaN</td>\n",
              "      <td>福岡市南区</td>\n",
              "      <td>60代</td>\n",
              "      <td>男性</td>\n",
              "      <td>NaN</td>\n",
              "      <td>NaN</td>\n",
              "      <td>NaN</td>\n",
              "      <td>NaN</td>\n",
              "      <td>NaN</td>\n",
              "      <td>NaN</td>\n",
              "    </tr>\n",
              "    <tr>\n",
              "      <th>12</th>\n",
              "      <td>13</td>\n",
              "      <td>401307</td>\n",
              "      <td>福岡県</td>\n",
              "      <td>福岡市</td>\n",
              "      <td>2020/3/28</td>\n",
              "      <td>土</td>\n",
              "      <td>NaN</td>\n",
              "      <td>福岡市西区</td>\n",
              "      <td>70代</td>\n",
              "      <td>男性</td>\n",
              "      <td>NaN</td>\n",
              "      <td>NaN</td>\n",
              "      <td>NaN</td>\n",
              "      <td>NaN</td>\n",
              "      <td>NaN</td>\n",
              "      <td>NaN</td>\n",
              "    </tr>\n",
              "    <tr>\n",
              "      <th>13</th>\n",
              "      <td>14</td>\n",
              "      <td>401307</td>\n",
              "      <td>福岡県</td>\n",
              "      <td>福岡市</td>\n",
              "      <td>2020/3/29</td>\n",
              "      <td>日</td>\n",
              "      <td>NaN</td>\n",
              "      <td>福岡市中央区</td>\n",
              "      <td>50代</td>\n",
              "      <td>女性</td>\n",
              "      <td>NaN</td>\n",
              "      <td>NaN</td>\n",
              "      <td>NaN</td>\n",
              "      <td>NaN</td>\n",
              "      <td>NaN</td>\n",
              "      <td>NaN</td>\n",
              "    </tr>\n",
              "    <tr>\n",
              "      <th>14</th>\n",
              "      <td>15</td>\n",
              "      <td>401307</td>\n",
              "      <td>福岡県</td>\n",
              "      <td>福岡市</td>\n",
              "      <td>2020/3/29</td>\n",
              "      <td>日</td>\n",
              "      <td>NaN</td>\n",
              "      <td>福岡市博多区</td>\n",
              "      <td>60代</td>\n",
              "      <td>男性</td>\n",
              "      <td>NaN</td>\n",
              "      <td>NaN</td>\n",
              "      <td>NaN</td>\n",
              "      <td>1.0</td>\n",
              "      <td>NaN</td>\n",
              "      <td>NaN</td>\n",
              "    </tr>\n",
              "  </tbody>\n",
              "</table>\n",
              "</div>"
            ],
            "text/plain": [
              "    No  全国地方公共団体コード 都道府県名 市区町村名  ... 患者_症状 患者_渡航歴の有無フラグ  備考 退院済フラグ\n",
              "0    1       401307   福岡県   福岡市  ...   NaN          NaN NaN    NaN\n",
              "1    2       401307   福岡県   福岡市  ...   NaN          NaN NaN    NaN\n",
              "2    3       401307   福岡県   福岡市  ...   NaN          1.0 NaN    NaN\n",
              "3    4       401307   福岡県   福岡市  ...   NaN          NaN NaN    NaN\n",
              "4    5       401307   福岡県   福岡市  ...   NaN          NaN NaN    NaN\n",
              "5    6       401307   福岡県   福岡市  ...   NaN          NaN NaN    NaN\n",
              "6    7       401307   福岡県   福岡市  ...   NaN          1.0 NaN    NaN\n",
              "7    8       401307   福岡県   福岡市  ...   NaN          NaN NaN    NaN\n",
              "8    9       401307   福岡県   福岡市  ...   NaN          NaN NaN    NaN\n",
              "9   10       401307   福岡県   福岡市  ...   NaN          NaN NaN    NaN\n",
              "10  11       401307   福岡県   福岡市  ...   NaN          NaN NaN    NaN\n",
              "11  12       401307   福岡県   福岡市  ...   NaN          NaN NaN    NaN\n",
              "12  13       401307   福岡県   福岡市  ...   NaN          NaN NaN    NaN\n",
              "13  14       401307   福岡県   福岡市  ...   NaN          NaN NaN    NaN\n",
              "14  15       401307   福岡県   福岡市  ...   NaN          1.0 NaN    NaN\n",
              "\n",
              "[15 rows x 16 columns]"
            ]
          },
          "metadata": {
            "tags": []
          },
          "execution_count": 98
        }
      ]
    },
    {
      "cell_type": "code",
      "metadata": {
        "id": "B3U4mX63ArGd",
        "colab_type": "code",
        "colab": {
          "base_uri": "https://localhost:8080/",
          "height": 305
        },
        "outputId": "f40c0499-e111-4a0a-999d-bfc5e95475e0"
      },
      "source": [
        "df_fukuoka_covid.describe()"
      ],
      "execution_count": null,
      "outputs": [
        {
          "output_type": "execute_result",
          "data": {
            "text/html": [
              "<div>\n",
              "<style scoped>\n",
              "    .dataframe tbody tr th:only-of-type {\n",
              "        vertical-align: middle;\n",
              "    }\n",
              "\n",
              "    .dataframe tbody tr th {\n",
              "        vertical-align: top;\n",
              "    }\n",
              "\n",
              "    .dataframe thead th {\n",
              "        text-align: right;\n",
              "    }\n",
              "</style>\n",
              "<table border=\"1\" class=\"dataframe\">\n",
              "  <thead>\n",
              "    <tr style=\"text-align: right;\">\n",
              "      <th></th>\n",
              "      <th>No</th>\n",
              "      <th>全国地方公共団体コード</th>\n",
              "      <th>発症_年月日</th>\n",
              "      <th>患者_属性</th>\n",
              "      <th>患者_状態</th>\n",
              "      <th>患者_症状</th>\n",
              "      <th>患者_渡航歴の有無フラグ</th>\n",
              "      <th>備考</th>\n",
              "      <th>退院済フラグ</th>\n",
              "    </tr>\n",
              "  </thead>\n",
              "  <tbody>\n",
              "    <tr>\n",
              "      <th>count</th>\n",
              "      <td>1980.000000</td>\n",
              "      <td>1980.0</td>\n",
              "      <td>0.0</td>\n",
              "      <td>0.0</td>\n",
              "      <td>0.0</td>\n",
              "      <td>0.0</td>\n",
              "      <td>3.0</td>\n",
              "      <td>0.0</td>\n",
              "      <td>0.0</td>\n",
              "    </tr>\n",
              "    <tr>\n",
              "      <th>mean</th>\n",
              "      <td>992.657071</td>\n",
              "      <td>401307.0</td>\n",
              "      <td>NaN</td>\n",
              "      <td>NaN</td>\n",
              "      <td>NaN</td>\n",
              "      <td>NaN</td>\n",
              "      <td>1.0</td>\n",
              "      <td>NaN</td>\n",
              "      <td>NaN</td>\n",
              "    </tr>\n",
              "    <tr>\n",
              "      <th>std</th>\n",
              "      <td>573.723866</td>\n",
              "      <td>0.0</td>\n",
              "      <td>NaN</td>\n",
              "      <td>NaN</td>\n",
              "      <td>NaN</td>\n",
              "      <td>NaN</td>\n",
              "      <td>0.0</td>\n",
              "      <td>NaN</td>\n",
              "      <td>NaN</td>\n",
              "    </tr>\n",
              "    <tr>\n",
              "      <th>min</th>\n",
              "      <td>1.000000</td>\n",
              "      <td>401307.0</td>\n",
              "      <td>NaN</td>\n",
              "      <td>NaN</td>\n",
              "      <td>NaN</td>\n",
              "      <td>NaN</td>\n",
              "      <td>1.0</td>\n",
              "      <td>NaN</td>\n",
              "      <td>NaN</td>\n",
              "    </tr>\n",
              "    <tr>\n",
              "      <th>25%</th>\n",
              "      <td>495.750000</td>\n",
              "      <td>401307.0</td>\n",
              "      <td>NaN</td>\n",
              "      <td>NaN</td>\n",
              "      <td>NaN</td>\n",
              "      <td>NaN</td>\n",
              "      <td>1.0</td>\n",
              "      <td>NaN</td>\n",
              "      <td>NaN</td>\n",
              "    </tr>\n",
              "    <tr>\n",
              "      <th>50%</th>\n",
              "      <td>991.500000</td>\n",
              "      <td>401307.0</td>\n",
              "      <td>NaN</td>\n",
              "      <td>NaN</td>\n",
              "      <td>NaN</td>\n",
              "      <td>NaN</td>\n",
              "      <td>1.0</td>\n",
              "      <td>NaN</td>\n",
              "      <td>NaN</td>\n",
              "    </tr>\n",
              "    <tr>\n",
              "      <th>75%</th>\n",
              "      <td>1490.250000</td>\n",
              "      <td>401307.0</td>\n",
              "      <td>NaN</td>\n",
              "      <td>NaN</td>\n",
              "      <td>NaN</td>\n",
              "      <td>NaN</td>\n",
              "      <td>1.0</td>\n",
              "      <td>NaN</td>\n",
              "      <td>NaN</td>\n",
              "    </tr>\n",
              "    <tr>\n",
              "      <th>max</th>\n",
              "      <td>1985.000000</td>\n",
              "      <td>401307.0</td>\n",
              "      <td>NaN</td>\n",
              "      <td>NaN</td>\n",
              "      <td>NaN</td>\n",
              "      <td>NaN</td>\n",
              "      <td>1.0</td>\n",
              "      <td>NaN</td>\n",
              "      <td>NaN</td>\n",
              "    </tr>\n",
              "  </tbody>\n",
              "</table>\n",
              "</div>"
            ],
            "text/plain": [
              "                No  全国地方公共団体コード  発症_年月日  ...  患者_渡航歴の有無フラグ   備考  退院済フラグ\n",
              "count  1980.000000       1980.0     0.0  ...           3.0  0.0     0.0\n",
              "mean    992.657071     401307.0     NaN  ...           1.0  NaN     NaN\n",
              "std     573.723866          0.0     NaN  ...           0.0  NaN     NaN\n",
              "min       1.000000     401307.0     NaN  ...           1.0  NaN     NaN\n",
              "25%     495.750000     401307.0     NaN  ...           1.0  NaN     NaN\n",
              "50%     991.500000     401307.0     NaN  ...           1.0  NaN     NaN\n",
              "75%    1490.250000     401307.0     NaN  ...           1.0  NaN     NaN\n",
              "max    1985.000000     401307.0     NaN  ...           1.0  NaN     NaN\n",
              "\n",
              "[8 rows x 9 columns]"
            ]
          },
          "metadata": {
            "tags": []
          },
          "execution_count": 103
        }
      ]
    },
    {
      "cell_type": "code",
      "metadata": {
        "id": "JRnXf8nZAvFc",
        "colab_type": "code",
        "colab": {
          "base_uri": "https://localhost:8080/",
          "height": 435
        },
        "outputId": "649a27b8-dd22-4cd0-f406-6f95d16b56be"
      },
      "source": [
        "df_fukuoka_covid.info()"
      ],
      "execution_count": null,
      "outputs": [
        {
          "output_type": "stream",
          "text": [
            "<class 'pandas.core.frame.DataFrame'>\n",
            "RangeIndex: 1980 entries, 0 to 1979\n",
            "Data columns (total 16 columns):\n",
            " #   Column        Non-Null Count  Dtype  \n",
            "---  ------        --------------  -----  \n",
            " 0   No            1980 non-null   int64  \n",
            " 1   全国地方公共団体コード   1980 non-null   int64  \n",
            " 2   都道府県名         1980 non-null   object \n",
            " 3   市区町村名         1980 non-null   object \n",
            " 4   公表_年月日        1980 non-null   object \n",
            " 5   曜日            1980 non-null   object \n",
            " 6   発症_年月日        0 non-null      float64\n",
            " 7   居住地           1980 non-null   object \n",
            " 8   年代            1980 non-null   object \n",
            " 9   性別            1980 non-null   object \n",
            " 10  患者_属性         0 non-null      float64\n",
            " 11  患者_状態         0 non-null      float64\n",
            " 12  患者_症状         0 non-null      float64\n",
            " 13  患者_渡航歴の有無フラグ  3 non-null      float64\n",
            " 14  備考            0 non-null      float64\n",
            " 15  退院済フラグ        0 non-null      float64\n",
            "dtypes: float64(7), int64(2), object(7)\n",
            "memory usage: 247.6+ KB\n"
          ],
          "name": "stdout"
        }
      ]
    },
    {
      "cell_type": "code",
      "metadata": {
        "id": "zJMeUk_bCFUW",
        "colab_type": "code",
        "colab": {
          "base_uri": "https://localhost:8080/",
          "height": 35
        },
        "outputId": "17d63059-dce0-416a-c3ec-8f6f3346553a"
      },
      "source": [
        "df_fukuoka_covid.shape"
      ],
      "execution_count": null,
      "outputs": [
        {
          "output_type": "execute_result",
          "data": {
            "text/plain": [
              "(1980, 16)"
            ]
          },
          "metadata": {
            "tags": []
          },
          "execution_count": 105
        }
      ]
    },
    {
      "cell_type": "markdown",
      "metadata": {
        "id": "oH5CHaMqCwmQ",
        "colab_type": "text"
      },
      "source": [
        "# 便利なメソッドなど\n",
        "  - NaNを含む行列を削除するdropnaメソッド\n",
        "  - 不要な行列を削除するdropメソッド\n",
        "  - グループをまとめるgroupbyメソッド\n",
        "  - indexを数値にするreset_indexメソッド\n",
        "  - 文字列を置き換えるreplaceメソッド\n",
        "  - map, applyメソッド"
      ]
    },
    {
      "cell_type": "code",
      "metadata": {
        "id": "pIz12WxvD3MS",
        "colab_type": "code",
        "colab": {
          "base_uri": "https://localhost:8080/",
          "height": 319
        },
        "outputId": "06801b7a-0ff3-4922-e0aa-b438483aa320"
      },
      "source": [
        "df_fukuoka_covid.head()"
      ],
      "execution_count": null,
      "outputs": [
        {
          "output_type": "execute_result",
          "data": {
            "text/html": [
              "<div>\n",
              "<style scoped>\n",
              "    .dataframe tbody tr th:only-of-type {\n",
              "        vertical-align: middle;\n",
              "    }\n",
              "\n",
              "    .dataframe tbody tr th {\n",
              "        vertical-align: top;\n",
              "    }\n",
              "\n",
              "    .dataframe thead th {\n",
              "        text-align: right;\n",
              "    }\n",
              "</style>\n",
              "<table border=\"1\" class=\"dataframe\">\n",
              "  <thead>\n",
              "    <tr style=\"text-align: right;\">\n",
              "      <th></th>\n",
              "      <th>No</th>\n",
              "      <th>全国地方公共団体コード</th>\n",
              "      <th>都道府県名</th>\n",
              "      <th>市区町村名</th>\n",
              "      <th>公表_年月日</th>\n",
              "      <th>曜日</th>\n",
              "      <th>発症_年月日</th>\n",
              "      <th>居住地</th>\n",
              "      <th>年代</th>\n",
              "      <th>性別</th>\n",
              "      <th>患者_属性</th>\n",
              "      <th>患者_状態</th>\n",
              "      <th>患者_症状</th>\n",
              "      <th>患者_渡航歴の有無フラグ</th>\n",
              "      <th>備考</th>\n",
              "      <th>退院済フラグ</th>\n",
              "    </tr>\n",
              "  </thead>\n",
              "  <tbody>\n",
              "    <tr>\n",
              "      <th>0</th>\n",
              "      <td>1</td>\n",
              "      <td>401307</td>\n",
              "      <td>福岡県</td>\n",
              "      <td>福岡市</td>\n",
              "      <td>2020/2/20</td>\n",
              "      <td>木</td>\n",
              "      <td>NaN</td>\n",
              "      <td>福岡市中央区</td>\n",
              "      <td>60代</td>\n",
              "      <td>男性</td>\n",
              "      <td>NaN</td>\n",
              "      <td>NaN</td>\n",
              "      <td>NaN</td>\n",
              "      <td>NaN</td>\n",
              "      <td>NaN</td>\n",
              "      <td>NaN</td>\n",
              "    </tr>\n",
              "    <tr>\n",
              "      <th>1</th>\n",
              "      <td>2</td>\n",
              "      <td>401307</td>\n",
              "      <td>福岡県</td>\n",
              "      <td>福岡市</td>\n",
              "      <td>2020/2/20</td>\n",
              "      <td>木</td>\n",
              "      <td>NaN</td>\n",
              "      <td>福岡市中央区</td>\n",
              "      <td>60代</td>\n",
              "      <td>女性</td>\n",
              "      <td>NaN</td>\n",
              "      <td>NaN</td>\n",
              "      <td>NaN</td>\n",
              "      <td>NaN</td>\n",
              "      <td>NaN</td>\n",
              "      <td>NaN</td>\n",
              "    </tr>\n",
              "    <tr>\n",
              "      <th>2</th>\n",
              "      <td>3</td>\n",
              "      <td>401307</td>\n",
              "      <td>福岡県</td>\n",
              "      <td>福岡市</td>\n",
              "      <td>2020/3/17</td>\n",
              "      <td>火</td>\n",
              "      <td>NaN</td>\n",
              "      <td>福岡市南区</td>\n",
              "      <td>30代</td>\n",
              "      <td>女性</td>\n",
              "      <td>NaN</td>\n",
              "      <td>NaN</td>\n",
              "      <td>NaN</td>\n",
              "      <td>1.0</td>\n",
              "      <td>NaN</td>\n",
              "      <td>NaN</td>\n",
              "    </tr>\n",
              "    <tr>\n",
              "      <th>3</th>\n",
              "      <td>4</td>\n",
              "      <td>401307</td>\n",
              "      <td>福岡県</td>\n",
              "      <td>福岡市</td>\n",
              "      <td>2020/3/24</td>\n",
              "      <td>火</td>\n",
              "      <td>NaN</td>\n",
              "      <td>福岡市早良区</td>\n",
              "      <td>40代</td>\n",
              "      <td>男性</td>\n",
              "      <td>NaN</td>\n",
              "      <td>NaN</td>\n",
              "      <td>NaN</td>\n",
              "      <td>NaN</td>\n",
              "      <td>NaN</td>\n",
              "      <td>NaN</td>\n",
              "    </tr>\n",
              "    <tr>\n",
              "      <th>4</th>\n",
              "      <td>5</td>\n",
              "      <td>401307</td>\n",
              "      <td>福岡県</td>\n",
              "      <td>福岡市</td>\n",
              "      <td>2020/3/26</td>\n",
              "      <td>木</td>\n",
              "      <td>NaN</td>\n",
              "      <td>福岡市東区</td>\n",
              "      <td>50代</td>\n",
              "      <td>男性</td>\n",
              "      <td>NaN</td>\n",
              "      <td>NaN</td>\n",
              "      <td>NaN</td>\n",
              "      <td>NaN</td>\n",
              "      <td>NaN</td>\n",
              "      <td>NaN</td>\n",
              "    </tr>\n",
              "  </tbody>\n",
              "</table>\n",
              "</div>"
            ],
            "text/plain": [
              "   No  全国地方公共団体コード 都道府県名 市区町村名  ... 患者_症状 患者_渡航歴の有無フラグ  備考 退院済フラグ\n",
              "0   1       401307   福岡県   福岡市  ...   NaN          NaN NaN    NaN\n",
              "1   2       401307   福岡県   福岡市  ...   NaN          NaN NaN    NaN\n",
              "2   3       401307   福岡県   福岡市  ...   NaN          1.0 NaN    NaN\n",
              "3   4       401307   福岡県   福岡市  ...   NaN          NaN NaN    NaN\n",
              "4   5       401307   福岡県   福岡市  ...   NaN          NaN NaN    NaN\n",
              "\n",
              "[5 rows x 16 columns]"
            ]
          },
          "metadata": {
            "tags": []
          },
          "execution_count": 118
        }
      ]
    },
    {
      "cell_type": "code",
      "metadata": {
        "id": "iTarmNPjCJvv",
        "colab_type": "code",
        "colab": {
          "base_uri": "https://localhost:8080/",
          "height": 198
        },
        "outputId": "2924d3cb-1e96-46e0-a47e-a08b66010749"
      },
      "source": [
        "# NaNを含む列を削除する\n",
        "df_fukuoka_covid_dropna = df_fukuoka_covid.dropna(1)\n",
        "df_fukuoka_covid_dropna.head()"
      ],
      "execution_count": null,
      "outputs": [
        {
          "output_type": "execute_result",
          "data": {
            "text/html": [
              "<div>\n",
              "<style scoped>\n",
              "    .dataframe tbody tr th:only-of-type {\n",
              "        vertical-align: middle;\n",
              "    }\n",
              "\n",
              "    .dataframe tbody tr th {\n",
              "        vertical-align: top;\n",
              "    }\n",
              "\n",
              "    .dataframe thead th {\n",
              "        text-align: right;\n",
              "    }\n",
              "</style>\n",
              "<table border=\"1\" class=\"dataframe\">\n",
              "  <thead>\n",
              "    <tr style=\"text-align: right;\">\n",
              "      <th></th>\n",
              "      <th>No</th>\n",
              "      <th>全国地方公共団体コード</th>\n",
              "      <th>都道府県名</th>\n",
              "      <th>市区町村名</th>\n",
              "      <th>公表_年月日</th>\n",
              "      <th>曜日</th>\n",
              "      <th>居住地</th>\n",
              "      <th>年代</th>\n",
              "      <th>性別</th>\n",
              "    </tr>\n",
              "  </thead>\n",
              "  <tbody>\n",
              "    <tr>\n",
              "      <th>0</th>\n",
              "      <td>1</td>\n",
              "      <td>401307</td>\n",
              "      <td>福岡県</td>\n",
              "      <td>福岡市</td>\n",
              "      <td>2020/2/20</td>\n",
              "      <td>木</td>\n",
              "      <td>福岡市中央区</td>\n",
              "      <td>60代</td>\n",
              "      <td>男性</td>\n",
              "    </tr>\n",
              "    <tr>\n",
              "      <th>1</th>\n",
              "      <td>2</td>\n",
              "      <td>401307</td>\n",
              "      <td>福岡県</td>\n",
              "      <td>福岡市</td>\n",
              "      <td>2020/2/20</td>\n",
              "      <td>木</td>\n",
              "      <td>福岡市中央区</td>\n",
              "      <td>60代</td>\n",
              "      <td>女性</td>\n",
              "    </tr>\n",
              "    <tr>\n",
              "      <th>2</th>\n",
              "      <td>3</td>\n",
              "      <td>401307</td>\n",
              "      <td>福岡県</td>\n",
              "      <td>福岡市</td>\n",
              "      <td>2020/3/17</td>\n",
              "      <td>火</td>\n",
              "      <td>福岡市南区</td>\n",
              "      <td>30代</td>\n",
              "      <td>女性</td>\n",
              "    </tr>\n",
              "    <tr>\n",
              "      <th>3</th>\n",
              "      <td>4</td>\n",
              "      <td>401307</td>\n",
              "      <td>福岡県</td>\n",
              "      <td>福岡市</td>\n",
              "      <td>2020/3/24</td>\n",
              "      <td>火</td>\n",
              "      <td>福岡市早良区</td>\n",
              "      <td>40代</td>\n",
              "      <td>男性</td>\n",
              "    </tr>\n",
              "    <tr>\n",
              "      <th>4</th>\n",
              "      <td>5</td>\n",
              "      <td>401307</td>\n",
              "      <td>福岡県</td>\n",
              "      <td>福岡市</td>\n",
              "      <td>2020/3/26</td>\n",
              "      <td>木</td>\n",
              "      <td>福岡市東区</td>\n",
              "      <td>50代</td>\n",
              "      <td>男性</td>\n",
              "    </tr>\n",
              "  </tbody>\n",
              "</table>\n",
              "</div>"
            ],
            "text/plain": [
              "   No  全国地方公共団体コード 都道府県名 市区町村名     公表_年月日 曜日     居住地   年代  性別\n",
              "0   1       401307   福岡県   福岡市  2020/2/20  木  福岡市中央区  60代  男性\n",
              "1   2       401307   福岡県   福岡市  2020/2/20  木  福岡市中央区  60代  女性\n",
              "2   3       401307   福岡県   福岡市  2020/3/17  火   福岡市南区  30代  女性\n",
              "3   4       401307   福岡県   福岡市  2020/3/24  火  福岡市早良区  40代  男性\n",
              "4   5       401307   福岡県   福岡市  2020/3/26  木   福岡市東区  50代  男性"
            ]
          },
          "metadata": {
            "tags": []
          },
          "execution_count": 123
        }
      ]
    },
    {
      "cell_type": "code",
      "metadata": {
        "id": "oB7x-JKCCU10",
        "colab_type": "code",
        "colab": {
          "base_uri": "https://localhost:8080/",
          "height": 198
        },
        "outputId": "dab57ae8-392d-46ce-f6f3-e7e493ef05ec"
      },
      "source": [
        "df_fukuoka_covid_dropna_num = df_fukuoka_covid_dropna.drop({\"No\"}, axis=1)\n",
        "df_fukuoka_covid_dropna_num.head()"
      ],
      "execution_count": null,
      "outputs": [
        {
          "output_type": "execute_result",
          "data": {
            "text/html": [
              "<div>\n",
              "<style scoped>\n",
              "    .dataframe tbody tr th:only-of-type {\n",
              "        vertical-align: middle;\n",
              "    }\n",
              "\n",
              "    .dataframe tbody tr th {\n",
              "        vertical-align: top;\n",
              "    }\n",
              "\n",
              "    .dataframe thead th {\n",
              "        text-align: right;\n",
              "    }\n",
              "</style>\n",
              "<table border=\"1\" class=\"dataframe\">\n",
              "  <thead>\n",
              "    <tr style=\"text-align: right;\">\n",
              "      <th></th>\n",
              "      <th>全国地方公共団体コード</th>\n",
              "      <th>都道府県名</th>\n",
              "      <th>市区町村名</th>\n",
              "      <th>公表_年月日</th>\n",
              "      <th>曜日</th>\n",
              "      <th>居住地</th>\n",
              "      <th>年代</th>\n",
              "      <th>性別</th>\n",
              "    </tr>\n",
              "  </thead>\n",
              "  <tbody>\n",
              "    <tr>\n",
              "      <th>0</th>\n",
              "      <td>401307</td>\n",
              "      <td>福岡県</td>\n",
              "      <td>福岡市</td>\n",
              "      <td>2020/2/20</td>\n",
              "      <td>木</td>\n",
              "      <td>福岡市中央区</td>\n",
              "      <td>60代</td>\n",
              "      <td>男性</td>\n",
              "    </tr>\n",
              "    <tr>\n",
              "      <th>1</th>\n",
              "      <td>401307</td>\n",
              "      <td>福岡県</td>\n",
              "      <td>福岡市</td>\n",
              "      <td>2020/2/20</td>\n",
              "      <td>木</td>\n",
              "      <td>福岡市中央区</td>\n",
              "      <td>60代</td>\n",
              "      <td>女性</td>\n",
              "    </tr>\n",
              "    <tr>\n",
              "      <th>2</th>\n",
              "      <td>401307</td>\n",
              "      <td>福岡県</td>\n",
              "      <td>福岡市</td>\n",
              "      <td>2020/3/17</td>\n",
              "      <td>火</td>\n",
              "      <td>福岡市南区</td>\n",
              "      <td>30代</td>\n",
              "      <td>女性</td>\n",
              "    </tr>\n",
              "    <tr>\n",
              "      <th>3</th>\n",
              "      <td>401307</td>\n",
              "      <td>福岡県</td>\n",
              "      <td>福岡市</td>\n",
              "      <td>2020/3/24</td>\n",
              "      <td>火</td>\n",
              "      <td>福岡市早良区</td>\n",
              "      <td>40代</td>\n",
              "      <td>男性</td>\n",
              "    </tr>\n",
              "    <tr>\n",
              "      <th>4</th>\n",
              "      <td>401307</td>\n",
              "      <td>福岡県</td>\n",
              "      <td>福岡市</td>\n",
              "      <td>2020/3/26</td>\n",
              "      <td>木</td>\n",
              "      <td>福岡市東区</td>\n",
              "      <td>50代</td>\n",
              "      <td>男性</td>\n",
              "    </tr>\n",
              "  </tbody>\n",
              "</table>\n",
              "</div>"
            ],
            "text/plain": [
              "   全国地方公共団体コード 都道府県名 市区町村名     公表_年月日 曜日     居住地   年代  性別\n",
              "0       401307   福岡県   福岡市  2020/2/20  木  福岡市中央区  60代  男性\n",
              "1       401307   福岡県   福岡市  2020/2/20  木  福岡市中央区  60代  女性\n",
              "2       401307   福岡県   福岡市  2020/3/17  火   福岡市南区  30代  女性\n",
              "3       401307   福岡県   福岡市  2020/3/24  火  福岡市早良区  40代  男性\n",
              "4       401307   福岡県   福岡市  2020/3/26  木   福岡市東区  50代  男性"
            ]
          },
          "metadata": {
            "tags": []
          },
          "execution_count": 128
        }
      ]
    },
    {
      "cell_type": "code",
      "metadata": {
        "id": "k5kAV6ZbEeRi",
        "colab_type": "code",
        "colab": {}
      },
      "source": [
        "fukuoka_dow = df_fukuoka_covid_dropna_num.groupby('曜日')"
      ],
      "execution_count": null,
      "outputs": []
    },
    {
      "cell_type": "code",
      "metadata": {
        "id": "2OllAAAIE5kY",
        "colab_type": "code",
        "colab": {
          "base_uri": "https://localhost:8080/",
          "height": 288
        },
        "outputId": "bd6768cc-2291-4867-9f1c-d3696f87f949"
      },
      "source": [
        "fukuoka_dow.count()"
      ],
      "execution_count": null,
      "outputs": [
        {
          "output_type": "execute_result",
          "data": {
            "text/html": [
              "<div>\n",
              "<style scoped>\n",
              "    .dataframe tbody tr th:only-of-type {\n",
              "        vertical-align: middle;\n",
              "    }\n",
              "\n",
              "    .dataframe tbody tr th {\n",
              "        vertical-align: top;\n",
              "    }\n",
              "\n",
              "    .dataframe thead th {\n",
              "        text-align: right;\n",
              "    }\n",
              "</style>\n",
              "<table border=\"1\" class=\"dataframe\">\n",
              "  <thead>\n",
              "    <tr style=\"text-align: right;\">\n",
              "      <th></th>\n",
              "      <th>全国地方公共団体コード</th>\n",
              "      <th>都道府県名</th>\n",
              "      <th>市区町村名</th>\n",
              "      <th>公表_年月日</th>\n",
              "      <th>居住地</th>\n",
              "      <th>年代</th>\n",
              "      <th>性別</th>\n",
              "    </tr>\n",
              "    <tr>\n",
              "      <th>曜日</th>\n",
              "      <th></th>\n",
              "      <th></th>\n",
              "      <th></th>\n",
              "      <th></th>\n",
              "      <th></th>\n",
              "      <th></th>\n",
              "      <th></th>\n",
              "    </tr>\n",
              "  </thead>\n",
              "  <tbody>\n",
              "    <tr>\n",
              "      <th>土</th>\n",
              "      <td>289</td>\n",
              "      <td>289</td>\n",
              "      <td>289</td>\n",
              "      <td>289</td>\n",
              "      <td>289</td>\n",
              "      <td>289</td>\n",
              "      <td>289</td>\n",
              "    </tr>\n",
              "    <tr>\n",
              "      <th>日</th>\n",
              "      <td>293</td>\n",
              "      <td>293</td>\n",
              "      <td>293</td>\n",
              "      <td>293</td>\n",
              "      <td>293</td>\n",
              "      <td>293</td>\n",
              "      <td>293</td>\n",
              "    </tr>\n",
              "    <tr>\n",
              "      <th>月</th>\n",
              "      <td>158</td>\n",
              "      <td>158</td>\n",
              "      <td>158</td>\n",
              "      <td>158</td>\n",
              "      <td>158</td>\n",
              "      <td>158</td>\n",
              "      <td>158</td>\n",
              "    </tr>\n",
              "    <tr>\n",
              "      <th>木</th>\n",
              "      <td>356</td>\n",
              "      <td>356</td>\n",
              "      <td>356</td>\n",
              "      <td>356</td>\n",
              "      <td>356</td>\n",
              "      <td>356</td>\n",
              "      <td>356</td>\n",
              "    </tr>\n",
              "    <tr>\n",
              "      <th>水</th>\n",
              "      <td>297</td>\n",
              "      <td>297</td>\n",
              "      <td>297</td>\n",
              "      <td>297</td>\n",
              "      <td>297</td>\n",
              "      <td>297</td>\n",
              "      <td>297</td>\n",
              "    </tr>\n",
              "    <tr>\n",
              "      <th>火</th>\n",
              "      <td>201</td>\n",
              "      <td>201</td>\n",
              "      <td>201</td>\n",
              "      <td>201</td>\n",
              "      <td>201</td>\n",
              "      <td>201</td>\n",
              "      <td>201</td>\n",
              "    </tr>\n",
              "    <tr>\n",
              "      <th>金</th>\n",
              "      <td>386</td>\n",
              "      <td>386</td>\n",
              "      <td>386</td>\n",
              "      <td>386</td>\n",
              "      <td>386</td>\n",
              "      <td>386</td>\n",
              "      <td>386</td>\n",
              "    </tr>\n",
              "  </tbody>\n",
              "</table>\n",
              "</div>"
            ],
            "text/plain": [
              "    全国地方公共団体コード  都道府県名  市区町村名  公表_年月日  居住地   年代   性別\n",
              "曜日                                                  \n",
              "土           289    289    289     289  289  289  289\n",
              "日           293    293    293     293  293  293  293\n",
              "月           158    158    158     158  158  158  158\n",
              "木           356    356    356     356  356  356  356\n",
              "水           297    297    297     297  297  297  297\n",
              "火           201    201    201     201  201  201  201\n",
              "金           386    386    386     386  386  386  386"
            ]
          },
          "metadata": {
            "tags": []
          },
          "execution_count": 137
        }
      ]
    },
    {
      "cell_type": "code",
      "metadata": {
        "id": "KUO_LXKzE65j",
        "colab_type": "code",
        "colab": {
          "base_uri": "https://localhost:8080/",
          "height": 258
        },
        "outputId": "fb498e64-047e-477b-ae77-14fc1373d9f0"
      },
      "source": [
        "dow_fukuoka = fukuoka_dow.count()\n",
        "dow_fukuoka = dow_fukuoka.reset_index()\n",
        "dow_fukuoka"
      ],
      "execution_count": null,
      "outputs": [
        {
          "output_type": "execute_result",
          "data": {
            "text/html": [
              "<div>\n",
              "<style scoped>\n",
              "    .dataframe tbody tr th:only-of-type {\n",
              "        vertical-align: middle;\n",
              "    }\n",
              "\n",
              "    .dataframe tbody tr th {\n",
              "        vertical-align: top;\n",
              "    }\n",
              "\n",
              "    .dataframe thead th {\n",
              "        text-align: right;\n",
              "    }\n",
              "</style>\n",
              "<table border=\"1\" class=\"dataframe\">\n",
              "  <thead>\n",
              "    <tr style=\"text-align: right;\">\n",
              "      <th></th>\n",
              "      <th>曜日</th>\n",
              "      <th>全国地方公共団体コード</th>\n",
              "      <th>都道府県名</th>\n",
              "      <th>市区町村名</th>\n",
              "      <th>公表_年月日</th>\n",
              "      <th>居住地</th>\n",
              "      <th>年代</th>\n",
              "      <th>性別</th>\n",
              "    </tr>\n",
              "  </thead>\n",
              "  <tbody>\n",
              "    <tr>\n",
              "      <th>0</th>\n",
              "      <td>土</td>\n",
              "      <td>289</td>\n",
              "      <td>289</td>\n",
              "      <td>289</td>\n",
              "      <td>289</td>\n",
              "      <td>289</td>\n",
              "      <td>289</td>\n",
              "      <td>289</td>\n",
              "    </tr>\n",
              "    <tr>\n",
              "      <th>1</th>\n",
              "      <td>日</td>\n",
              "      <td>293</td>\n",
              "      <td>293</td>\n",
              "      <td>293</td>\n",
              "      <td>293</td>\n",
              "      <td>293</td>\n",
              "      <td>293</td>\n",
              "      <td>293</td>\n",
              "    </tr>\n",
              "    <tr>\n",
              "      <th>2</th>\n",
              "      <td>月</td>\n",
              "      <td>158</td>\n",
              "      <td>158</td>\n",
              "      <td>158</td>\n",
              "      <td>158</td>\n",
              "      <td>158</td>\n",
              "      <td>158</td>\n",
              "      <td>158</td>\n",
              "    </tr>\n",
              "    <tr>\n",
              "      <th>3</th>\n",
              "      <td>木</td>\n",
              "      <td>356</td>\n",
              "      <td>356</td>\n",
              "      <td>356</td>\n",
              "      <td>356</td>\n",
              "      <td>356</td>\n",
              "      <td>356</td>\n",
              "      <td>356</td>\n",
              "    </tr>\n",
              "    <tr>\n",
              "      <th>4</th>\n",
              "      <td>水</td>\n",
              "      <td>297</td>\n",
              "      <td>297</td>\n",
              "      <td>297</td>\n",
              "      <td>297</td>\n",
              "      <td>297</td>\n",
              "      <td>297</td>\n",
              "      <td>297</td>\n",
              "    </tr>\n",
              "    <tr>\n",
              "      <th>5</th>\n",
              "      <td>火</td>\n",
              "      <td>201</td>\n",
              "      <td>201</td>\n",
              "      <td>201</td>\n",
              "      <td>201</td>\n",
              "      <td>201</td>\n",
              "      <td>201</td>\n",
              "      <td>201</td>\n",
              "    </tr>\n",
              "    <tr>\n",
              "      <th>6</th>\n",
              "      <td>金</td>\n",
              "      <td>386</td>\n",
              "      <td>386</td>\n",
              "      <td>386</td>\n",
              "      <td>386</td>\n",
              "      <td>386</td>\n",
              "      <td>386</td>\n",
              "      <td>386</td>\n",
              "    </tr>\n",
              "  </tbody>\n",
              "</table>\n",
              "</div>"
            ],
            "text/plain": [
              "  曜日  全国地方公共団体コード  都道府県名  市区町村名  公表_年月日  居住地   年代   性別\n",
              "0  土          289    289    289     289  289  289  289\n",
              "1  日          293    293    293     293  293  293  293\n",
              "2  月          158    158    158     158  158  158  158\n",
              "3  木          356    356    356     356  356  356  356\n",
              "4  水          297    297    297     297  297  297  297\n",
              "5  火          201    201    201     201  201  201  201\n",
              "6  金          386    386    386     386  386  386  386"
            ]
          },
          "metadata": {
            "tags": []
          },
          "execution_count": 138
        }
      ]
    },
    {
      "cell_type": "code",
      "metadata": {
        "id": "KvM8vc1qF5Uo",
        "colab_type": "code",
        "colab": {
          "base_uri": "https://localhost:8080/",
          "height": 407
        },
        "outputId": "b563dde2-69f9-4ed6-c1ce-c8070a07430a"
      },
      "source": [
        "# 感染の全体的な平均年齢を出すために年代を数値にする\n",
        "covid_fukuoka = df_fukuoka_covid_dropna_num.copy()\n",
        "covid_fukuoka"
      ],
      "execution_count": null,
      "outputs": [
        {
          "output_type": "execute_result",
          "data": {
            "text/html": [
              "<div>\n",
              "<style scoped>\n",
              "    .dataframe tbody tr th:only-of-type {\n",
              "        vertical-align: middle;\n",
              "    }\n",
              "\n",
              "    .dataframe tbody tr th {\n",
              "        vertical-align: top;\n",
              "    }\n",
              "\n",
              "    .dataframe thead th {\n",
              "        text-align: right;\n",
              "    }\n",
              "</style>\n",
              "<table border=\"1\" class=\"dataframe\">\n",
              "  <thead>\n",
              "    <tr style=\"text-align: right;\">\n",
              "      <th></th>\n",
              "      <th>全国地方公共団体コード</th>\n",
              "      <th>都道府県名</th>\n",
              "      <th>市区町村名</th>\n",
              "      <th>公表_年月日</th>\n",
              "      <th>曜日</th>\n",
              "      <th>居住地</th>\n",
              "      <th>年代</th>\n",
              "      <th>性別</th>\n",
              "    </tr>\n",
              "  </thead>\n",
              "  <tbody>\n",
              "    <tr>\n",
              "      <th>0</th>\n",
              "      <td>401307</td>\n",
              "      <td>福岡県</td>\n",
              "      <td>福岡市</td>\n",
              "      <td>2020/2/20</td>\n",
              "      <td>木</td>\n",
              "      <td>福岡市中央区</td>\n",
              "      <td>60代</td>\n",
              "      <td>男性</td>\n",
              "    </tr>\n",
              "    <tr>\n",
              "      <th>1</th>\n",
              "      <td>401307</td>\n",
              "      <td>福岡県</td>\n",
              "      <td>福岡市</td>\n",
              "      <td>2020/2/20</td>\n",
              "      <td>木</td>\n",
              "      <td>福岡市中央区</td>\n",
              "      <td>60代</td>\n",
              "      <td>女性</td>\n",
              "    </tr>\n",
              "    <tr>\n",
              "      <th>2</th>\n",
              "      <td>401307</td>\n",
              "      <td>福岡県</td>\n",
              "      <td>福岡市</td>\n",
              "      <td>2020/3/17</td>\n",
              "      <td>火</td>\n",
              "      <td>福岡市南区</td>\n",
              "      <td>30代</td>\n",
              "      <td>女性</td>\n",
              "    </tr>\n",
              "    <tr>\n",
              "      <th>3</th>\n",
              "      <td>401307</td>\n",
              "      <td>福岡県</td>\n",
              "      <td>福岡市</td>\n",
              "      <td>2020/3/24</td>\n",
              "      <td>火</td>\n",
              "      <td>福岡市早良区</td>\n",
              "      <td>40代</td>\n",
              "      <td>男性</td>\n",
              "    </tr>\n",
              "    <tr>\n",
              "      <th>4</th>\n",
              "      <td>401307</td>\n",
              "      <td>福岡県</td>\n",
              "      <td>福岡市</td>\n",
              "      <td>2020/3/26</td>\n",
              "      <td>木</td>\n",
              "      <td>福岡市東区</td>\n",
              "      <td>50代</td>\n",
              "      <td>男性</td>\n",
              "    </tr>\n",
              "    <tr>\n",
              "      <th>...</th>\n",
              "      <td>...</td>\n",
              "      <td>...</td>\n",
              "      <td>...</td>\n",
              "      <td>...</td>\n",
              "      <td>...</td>\n",
              "      <td>...</td>\n",
              "      <td>...</td>\n",
              "      <td>...</td>\n",
              "    </tr>\n",
              "    <tr>\n",
              "      <th>1975</th>\n",
              "      <td>401307</td>\n",
              "      <td>福岡県</td>\n",
              "      <td>福岡市</td>\n",
              "      <td>2020/8/14</td>\n",
              "      <td>金</td>\n",
              "      <td>福岡市中央区</td>\n",
              "      <td>50代</td>\n",
              "      <td>女性</td>\n",
              "    </tr>\n",
              "    <tr>\n",
              "      <th>1976</th>\n",
              "      <td>401307</td>\n",
              "      <td>福岡県</td>\n",
              "      <td>福岡市</td>\n",
              "      <td>2020/8/14</td>\n",
              "      <td>金</td>\n",
              "      <td>調査中</td>\n",
              "      <td>50代</td>\n",
              "      <td>男性</td>\n",
              "    </tr>\n",
              "    <tr>\n",
              "      <th>1977</th>\n",
              "      <td>401307</td>\n",
              "      <td>福岡県</td>\n",
              "      <td>福岡市</td>\n",
              "      <td>2020/8/14</td>\n",
              "      <td>金</td>\n",
              "      <td>調査中</td>\n",
              "      <td>30代</td>\n",
              "      <td>男性</td>\n",
              "    </tr>\n",
              "    <tr>\n",
              "      <th>1978</th>\n",
              "      <td>401307</td>\n",
              "      <td>福岡県</td>\n",
              "      <td>福岡市</td>\n",
              "      <td>2020/8/14</td>\n",
              "      <td>金</td>\n",
              "      <td>福岡市中央区</td>\n",
              "      <td>20代</td>\n",
              "      <td>女性</td>\n",
              "    </tr>\n",
              "    <tr>\n",
              "      <th>1979</th>\n",
              "      <td>401307</td>\n",
              "      <td>福岡県</td>\n",
              "      <td>福岡市</td>\n",
              "      <td>2020/8/14</td>\n",
              "      <td>金</td>\n",
              "      <td>福岡市中央区</td>\n",
              "      <td>40代</td>\n",
              "      <td>女性</td>\n",
              "    </tr>\n",
              "  </tbody>\n",
              "</table>\n",
              "<p>1980 rows × 8 columns</p>\n",
              "</div>"
            ],
            "text/plain": [
              "      全国地方公共団体コード 都道府県名 市区町村名     公表_年月日 曜日     居住地   年代  性別\n",
              "0          401307   福岡県   福岡市  2020/2/20  木  福岡市中央区  60代  男性\n",
              "1          401307   福岡県   福岡市  2020/2/20  木  福岡市中央区  60代  女性\n",
              "2          401307   福岡県   福岡市  2020/3/17  火   福岡市南区  30代  女性\n",
              "3          401307   福岡県   福岡市  2020/3/24  火  福岡市早良区  40代  男性\n",
              "4          401307   福岡県   福岡市  2020/3/26  木   福岡市東区  50代  男性\n",
              "...           ...   ...   ...        ... ..     ...  ...  ..\n",
              "1975       401307   福岡県   福岡市  2020/8/14  金  福岡市中央区  50代  女性\n",
              "1976       401307   福岡県   福岡市  2020/8/14  金     調査中  50代  男性\n",
              "1977       401307   福岡県   福岡市  2020/8/14  金     調査中  30代  男性\n",
              "1978       401307   福岡県   福岡市  2020/8/14  金  福岡市中央区  20代  女性\n",
              "1979       401307   福岡県   福岡市  2020/8/14  金  福岡市中央区  40代  女性\n",
              "\n",
              "[1980 rows x 8 columns]"
            ]
          },
          "metadata": {
            "tags": []
          },
          "execution_count": 167
        }
      ]
    },
    {
      "cell_type": "code",
      "metadata": {
        "id": "Ow6j7LCCGsLQ",
        "colab_type": "code",
        "colab": {
          "base_uri": "https://localhost:8080/",
          "height": 54
        },
        "outputId": "e045bf80-cd8d-47a3-c0ff-bfba07a0d05b"
      },
      "source": [
        "covid_fukuoka['年代'].unique()"
      ],
      "execution_count": null,
      "outputs": [
        {
          "output_type": "execute_result",
          "data": {
            "text/plain": [
              "array(['60代', '30代', '40代', '50代', '20代', '70代', '1歳未満', '90歳以上', '80代',\n",
              "       '10歳未満', '10代', '調査中'], dtype=object)"
            ]
          },
          "metadata": {
            "tags": []
          },
          "execution_count": 168
        }
      ]
    },
    {
      "cell_type": "code",
      "metadata": {
        "id": "dG-vs3OPHESX",
        "colab_type": "code",
        "colab": {}
      },
      "source": [
        "# 1歳未満は0,90歳以上は90,10歳未満は1、調査中は50に置き換える\n",
        "age_replace = {'1歳未満': '0', '90歳以上': '90', '10歳未満':'1', '調査中': '50'}\n",
        "for b, a in age_replace.items(): \n",
        "\n",
        "  covid_fukuoka['年代'] = covid_fukuoka['年代'].replace(b, a)"
      ],
      "execution_count": null,
      "outputs": []
    },
    {
      "cell_type": "code",
      "metadata": {
        "id": "xLOnrAcXIp1g",
        "colab_type": "code",
        "colab": {
          "base_uri": "https://localhost:8080/",
          "height": 54
        },
        "outputId": "82c62776-4532-4528-9433-291980ed1397"
      },
      "source": [
        "covid_fukuoka['年代'].unique()"
      ],
      "execution_count": null,
      "outputs": [
        {
          "output_type": "execute_result",
          "data": {
            "text/plain": [
              "array(['60代', '30代', '40代', '50代', '20代', '70代', '0', '90', '80代', '1',\n",
              "       '10代', '50'], dtype=object)"
            ]
          },
          "metadata": {
            "tags": []
          },
          "execution_count": 170
        }
      ]
    },
    {
      "cell_type": "code",
      "metadata": {
        "id": "SPwYqorwGXVl",
        "colab_type": "code",
        "colab": {}
      },
      "source": [
        "# 例えば年代を数値にしたい場合、Seriesの値を用いて関数で処理するmapメソッドを使う\n",
        "covid_fukuoka['年代'] = covid_fukuoka['年代'].map(lambda x: int(x.replace('代', '')))"
      ],
      "execution_count": null,
      "outputs": []
    },
    {
      "cell_type": "code",
      "metadata": {
        "id": "kk1MkmFqGpA5",
        "colab_type": "code",
        "colab": {
          "base_uri": "https://localhost:8080/",
          "height": 35
        },
        "outputId": "4b354e96-e150-47ee-dcc1-c0ab86d251d9"
      },
      "source": [
        "covid_fukuoka['年代'].unique()"
      ],
      "execution_count": null,
      "outputs": [
        {
          "output_type": "execute_result",
          "data": {
            "text/plain": [
              "array([60, 30, 40, 50, 20, 70,  0, 90, 80,  1, 10])"
            ]
          },
          "metadata": {
            "tags": []
          },
          "execution_count": 172
        }
      ]
    },
    {
      "cell_type": "code",
      "metadata": {
        "id": "udUXsImOJDC7",
        "colab_type": "code",
        "colab": {
          "base_uri": "https://localhost:8080/",
          "height": 35
        },
        "outputId": "4b633b53-fd89-455d-c65f-520acfae8acb"
      },
      "source": [
        "covid_fukuoka['年代'].mean()"
      ],
      "execution_count": null,
      "outputs": [
        {
          "output_type": "execute_result",
          "data": {
            "text/plain": [
              "34.63636363636363"
            ]
          },
          "metadata": {
            "tags": []
          },
          "execution_count": 173
        }
      ]
    },
    {
      "cell_type": "code",
      "metadata": {
        "id": "X6nJ6T6wJoAx",
        "colab_type": "code",
        "colab": {}
      },
      "source": [
        "# 行全体のデータを使ってデータを作る際にはapplyメソッドを用いる\n",
        "# 例えば日付、場所、年代、性別をすべて文字列で持つ列を作成する場合"
      ],
      "execution_count": null,
      "outputs": []
    },
    {
      "cell_type": "markdown",
      "metadata": {
        "id": "Tv48UvcRMJ5b",
        "colab_type": "text"
      },
      "source": [
        "# applyの事例を考える"
      ]
    },
    {
      "cell_type": "code",
      "metadata": {
        "id": "ZCZFh0uKJ_N_",
        "colab_type": "code",
        "colab": {
          "base_uri": "https://localhost:8080/",
          "height": 138
        },
        "outputId": "63ff5283-5660-46ec-ee9c-2729b440af76"
      },
      "source": [
        ""
      ],
      "execution_count": null,
      "outputs": [
        {
          "output_type": "error",
          "ename": "SyntaxError",
          "evalue": "ignored",
          "traceback": [
            "\u001b[0;36m  File \u001b[0;32m\"<ipython-input-189-31043a8a5c1f>\"\u001b[0;36m, line \u001b[0;32m1\u001b[0m\n\u001b[0;31m    covid_fukuoka.apply(lambda x: f'{x['公表_年月日']}に{x['居住地']}', axis=1)\u001b[0m\n\u001b[0m                                             ^\u001b[0m\n\u001b[0;31mSyntaxError\u001b[0m\u001b[0;31m:\u001b[0m invalid syntax\n"
          ]
        }
      ]
    },
    {
      "cell_type": "code",
      "metadata": {
        "id": "FMzQ04ApKg3U",
        "colab_type": "code",
        "colab": {
          "base_uri": "https://localhost:8080/",
          "height": 235
        },
        "outputId": "9ab54fe2-d565-4ff3-c6e5-22a2ed3d3030"
      },
      "source": [
        "。ぉｃcovid_fukuoka['公表_年月日']"
      ],
      "execution_count": null,
      "outputs": [
        {
          "output_type": "execute_result",
          "data": {
            "text/plain": [
              "0       2020/2/20\n",
              "1       2020/2/20\n",
              "2       2020/3/17\n",
              "3       2020/3/24\n",
              "4       2020/3/26\n",
              "          ...    \n",
              "1975    2020/8/14\n",
              "1976    2020/8/14\n",
              "1977    2020/8/14\n",
              "1978    2020/8/14\n",
              "1979    2020/8/14\n",
              "Name: 公表_年月日, Length: 1980, dtype: object"
            ]
          },
          "metadata": {
            "tags": []
          },
          "execution_count": 176
        }
      ]
    },
    {
      "cell_type": "code",
      "metadata": {
        "id": "bHzVdAigKpti",
        "colab_type": "code",
        "colab": {}
      },
      "source": [
        ""
      ],
      "execution_count": null,
      "outputs": []
    }
  ]
}