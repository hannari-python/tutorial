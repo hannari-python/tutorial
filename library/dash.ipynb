{
  "nbformat": 4,
  "nbformat_minor": 0,
  "metadata": {
    "colab": {
      "name": "dash.ipynb",
      "provenance": [],
      "collapsed_sections": [],
      "authorship_tag": "ABX9TyMBCAa5eQwyXnxEhktxi2W6",
      "include_colab_link": true
    },
    "kernelspec": {
      "name": "python3",
      "display_name": "Python 3"
    }
  },
  "cells": [
    {
      "cell_type": "markdown",
      "metadata": {
        "id": "view-in-github",
        "colab_type": "text"
      },
      "source": [
        "<a href=\"https://colab.research.google.com/github/hannari-python/tutorial/blob/master/library/dash.ipynb\" target=\"_parent\"><img src=\"https://colab.research.google.com/assets/colab-badge.svg\" alt=\"Open In Colab\"/></a>"
      ]
    },
    {
      "cell_type": "code",
      "metadata": {
        "id": "ELfBb82Z27j7",
        "colab_type": "code",
        "colab": {
          "base_uri": "https://localhost:8080/",
          "height": 1000
        },
        "outputId": "88de7d7f-9ea3-4e2a-a295-031b7691a668"
      },
      "source": [
        "!pip install dash jupyter_dash\n",
        "!pip install --upgrade plotly"
      ],
      "execution_count": 4,
      "outputs": [
        {
          "output_type": "stream",
          "text": [
            "Collecting dash\n",
            "  Using cached https://files.pythonhosted.org/packages/1d/d1/191ad32bd9e6d10b2fc0f5d31e9e6a85fdb2642088658f75817d67bdeaea/dash-1.14.0.tar.gz\n",
            "Collecting jupyter_dash\n",
            "\u001b[?25l  Downloading https://files.pythonhosted.org/packages/b9/b9/5f9499a0154124a262c85e3a99033b9b3a20dc3d2707b587f52b32b60d76/jupyter_dash-0.3.1-py3-none-any.whl (49kB)\n",
            "\u001b[K     |████████████████████████████████| 51kB 2.6MB/s \n",
            "\u001b[?25hRequirement already satisfied: Flask>=1.0.2 in /usr/local/lib/python3.6/dist-packages (from dash) (1.1.2)\n",
            "Collecting flask-compress\n",
            "  Downloading https://files.pythonhosted.org/packages/a0/96/cd684c1ffe97b513303b5bfd4bbfb4114c5f4a5ea8a737af6fd813273df8/Flask-Compress-1.5.0.tar.gz\n",
            "Requirement already satisfied: plotly in /usr/local/lib/python3.6/dist-packages (from dash) (4.9.0)\n",
            "Collecting dash_renderer==1.6.0\n",
            "\u001b[?25l  Downloading https://files.pythonhosted.org/packages/da/a6/ddbcd01c638a2c235bfe13fd75155b344c7b7ab1c6466fe6d46b159897ad/dash_renderer-1.6.0.tar.gz (1.2MB)\n",
            "\u001b[K     |████████████████████████████████| 1.2MB 12.6MB/s \n",
            "\u001b[?25hCollecting dash-core-components==1.10.2\n",
            "\u001b[?25l  Downloading https://files.pythonhosted.org/packages/ee/74/f961bb01aa015b76c60045cf8ad5d9eb2279656f4483b42750ec3b925c9c/dash_core_components-1.10.2.tar.gz (3.4MB)\n",
            "\u001b[K     |████████████████████████████████| 3.4MB 42.1MB/s \n",
            "\u001b[?25hCollecting dash-html-components==1.0.3\n",
            "\u001b[?25l  Downloading https://files.pythonhosted.org/packages/da/20/46714ae501ccf16e5e37ca160c06e27347d19889687454168730e6744cdc/dash_html_components-1.0.3.tar.gz (187kB)\n",
            "\u001b[K     |████████████████████████████████| 194kB 43.0MB/s \n",
            "\u001b[?25hCollecting dash-table==4.9.0\n",
            "\u001b[?25l  Downloading https://files.pythonhosted.org/packages/54/9f/11347b397b840b67481f6ecadefb64de0b57d199752d5e182161a4217f1d/dash_table-4.9.0.tar.gz (1.8MB)\n",
            "\u001b[K     |████████████████████████████████| 1.8MB 40.6MB/s \n",
            "\u001b[?25hRequirement already satisfied: future in /usr/local/lib/python3.6/dist-packages (from dash) (0.16.0)\n",
            "Requirement already satisfied: retrying in /usr/local/lib/python3.6/dist-packages (from jupyter_dash) (1.3.3)\n",
            "Requirement already satisfied: requests in /usr/local/lib/python3.6/dist-packages (from jupyter_dash) (2.23.0)\n",
            "Requirement already satisfied: ipython in /usr/local/lib/python3.6/dist-packages (from jupyter_dash) (5.5.0)\n",
            "Requirement already satisfied: ipykernel in /usr/local/lib/python3.6/dist-packages (from jupyter_dash) (4.10.1)\n",
            "Collecting ansi2html\n",
            "  Downloading https://files.pythonhosted.org/packages/b7/f5/0d658908d70cb902609fbb39b9ce891b99e060fa06e98071d369056e346f/ansi2html-1.5.2.tar.gz\n",
            "Requirement already satisfied: click>=5.1 in /usr/local/lib/python3.6/dist-packages (from Flask>=1.0.2->dash) (7.1.2)\n",
            "Requirement already satisfied: itsdangerous>=0.24 in /usr/local/lib/python3.6/dist-packages (from Flask>=1.0.2->dash) (1.1.0)\n",
            "Requirement already satisfied: Jinja2>=2.10.1 in /usr/local/lib/python3.6/dist-packages (from Flask>=1.0.2->dash) (2.11.2)\n",
            "Requirement already satisfied: Werkzeug>=0.15 in /usr/local/lib/python3.6/dist-packages (from Flask>=1.0.2->dash) (1.0.1)\n",
            "Collecting brotli\n",
            "\u001b[?25l  Downloading https://files.pythonhosted.org/packages/f4/68/60a220454dc5083c6d59b41aa90bb1c96fad62a0abf3a33e0ef64b38638a/Brotli-1.0.7-cp36-cp36m-manylinux1_x86_64.whl (352kB)\n",
            "\u001b[K     |████████████████████████████████| 358kB 37.5MB/s \n",
            "\u001b[?25hRequirement already satisfied: six in /usr/local/lib/python3.6/dist-packages (from plotly->dash) (1.15.0)\n",
            "Requirement already satisfied: certifi>=2017.4.17 in /usr/local/lib/python3.6/dist-packages (from requests->jupyter_dash) (2020.6.20)\n",
            "Requirement already satisfied: idna<3,>=2.5 in /usr/local/lib/python3.6/dist-packages (from requests->jupyter_dash) (2.10)\n",
            "Requirement already satisfied: urllib3!=1.25.0,!=1.25.1,<1.26,>=1.21.1 in /usr/local/lib/python3.6/dist-packages (from requests->jupyter_dash) (1.24.3)\n",
            "Requirement already satisfied: chardet<4,>=3.0.2 in /usr/local/lib/python3.6/dist-packages (from requests->jupyter_dash) (3.0.4)\n",
            "Requirement already satisfied: pexpect; sys_platform != \"win32\" in /usr/local/lib/python3.6/dist-packages (from ipython->jupyter_dash) (4.8.0)\n",
            "Requirement already satisfied: decorator in /usr/local/lib/python3.6/dist-packages (from ipython->jupyter_dash) (4.4.2)\n",
            "Requirement already satisfied: pickleshare in /usr/local/lib/python3.6/dist-packages (from ipython->jupyter_dash) (0.7.5)\n",
            "Requirement already satisfied: traitlets>=4.2 in /usr/local/lib/python3.6/dist-packages (from ipython->jupyter_dash) (4.3.3)\n",
            "Requirement already satisfied: simplegeneric>0.8 in /usr/local/lib/python3.6/dist-packages (from ipython->jupyter_dash) (0.8.1)\n",
            "Requirement already satisfied: prompt-toolkit<2.0.0,>=1.0.4 in /usr/local/lib/python3.6/dist-packages (from ipython->jupyter_dash) (1.0.18)\n",
            "Requirement already satisfied: pygments in /usr/local/lib/python3.6/dist-packages (from ipython->jupyter_dash) (2.1.3)\n",
            "Requirement already satisfied: setuptools>=18.5 in /usr/local/lib/python3.6/dist-packages (from ipython->jupyter_dash) (49.2.0)\n",
            "Requirement already satisfied: jupyter-client in /usr/local/lib/python3.6/dist-packages (from ipykernel->jupyter_dash) (5.3.5)\n",
            "Requirement already satisfied: tornado>=4.0 in /usr/local/lib/python3.6/dist-packages (from ipykernel->jupyter_dash) (5.1.1)\n",
            "Requirement already satisfied: MarkupSafe>=0.23 in /usr/local/lib/python3.6/dist-packages (from Jinja2>=2.10.1->Flask>=1.0.2->dash) (1.1.1)\n",
            "Requirement already satisfied: ptyprocess>=0.5 in /usr/local/lib/python3.6/dist-packages (from pexpect; sys_platform != \"win32\"->ipython->jupyter_dash) (0.6.0)\n",
            "Requirement already satisfied: ipython-genutils in /usr/local/lib/python3.6/dist-packages (from traitlets>=4.2->ipython->jupyter_dash) (0.2.0)\n",
            "Requirement already satisfied: wcwidth in /usr/local/lib/python3.6/dist-packages (from prompt-toolkit<2.0.0,>=1.0.4->ipython->jupyter_dash) (0.2.5)\n",
            "Requirement already satisfied: pyzmq>=13 in /usr/local/lib/python3.6/dist-packages (from jupyter-client->ipykernel->jupyter_dash) (19.0.2)\n",
            "Requirement already satisfied: python-dateutil>=2.1 in /usr/local/lib/python3.6/dist-packages (from jupyter-client->ipykernel->jupyter_dash) (2.8.1)\n",
            "Requirement already satisfied: jupyter-core>=4.6.0 in /usr/local/lib/python3.6/dist-packages (from jupyter-client->ipykernel->jupyter_dash) (4.6.3)\n",
            "Building wheels for collected packages: dash, flask-compress, dash-renderer, dash-core-components, dash-html-components, dash-table, ansi2html\n",
            "  Building wheel for dash (setup.py) ... \u001b[?25l\u001b[?25hdone\n",
            "  Created wheel for dash: filename=dash-1.14.0-cp36-none-any.whl size=80129 sha256=15be141956a0235ed62748019b6b972320f73061876837f22c14707121f4c341\n",
            "  Stored in directory: /root/.cache/pip/wheels/1d/54/0b/e846f762d47e8abc9234419822d013dfb2ccf957b48e411dc6\n",
            "  Building wheel for flask-compress (setup.py) ... \u001b[?25l\u001b[?25hdone\n",
            "  Created wheel for flask-compress: filename=Flask_Compress-1.5.0-cp36-none-any.whl size=5273 sha256=20e91d3b2f086ee26c01053b862b31de6fb08faaaef1cc07f3f861c1d8f2bd3a\n",
            "  Stored in directory: /root/.cache/pip/wheels/f7/e9/e4/5afc286be7c87461375e33152558415dfeb0c8f5af3b50e742\n",
            "  Building wheel for dash-renderer (setup.py) ... \u001b[?25l\u001b[?25hdone\n",
            "  Created wheel for dash-renderer: filename=dash_renderer-1.6.0-cp36-none-any.whl size=1182221 sha256=2d2eaef4e26b41b649df740be8bc34321175018d681cc0ab511e29ad5ea47eaa\n",
            "  Stored in directory: /root/.cache/pip/wheels/2a/de/21/8774fe1ae2271c4747c55c5bcd3e914302a7a6e55a77d866f2\n",
            "  Building wheel for dash-core-components (setup.py) ... \u001b[?25l\u001b[?25hdone\n",
            "  Created wheel for dash-core-components: filename=dash_core_components-1.10.2-cp36-none-any.whl size=3457324 sha256=7c9289ed5df11e632fa031a6adf9b71dd856cb624f86c95be63c89f16bc9a149\n",
            "  Stored in directory: /root/.cache/pip/wheels/2a/38/71/0c7e350a8280f6c94a2024a4d16ba905dd2a86ed2aa4a093e3\n",
            "  Building wheel for dash-html-components (setup.py) ... \u001b[?25l\u001b[?25hdone\n",
            "  Created wheel for dash-html-components: filename=dash_html_components-1.0.3-cp36-none-any.whl size=427303 sha256=9e0b453eb00d08340165f37cc3c3997846024d6e52f0e7d83b275f38e4cde20b\n",
            "  Stored in directory: /root/.cache/pip/wheels/22/c0/79/ef4c2b20a23dc8457ae75c3da5f63163db213d86e13e00fe26\n",
            "  Building wheel for dash-table (setup.py) ... \u001b[?25l\u001b[?25hdone\n",
            "  Created wheel for dash-table: filename=dash_table-4.9.0-cp36-none-any.whl size=1780769 sha256=831cf623db80acf26b4236fa3f4847aac09693adf3a9db70aa333d77c9a47885\n",
            "  Stored in directory: /root/.cache/pip/wheels/f6/99/e4/a3af0a6f2d07ace02dd25984c08294d2749818c38f44d55338\n",
            "  Building wheel for ansi2html (setup.py) ... \u001b[?25l\u001b[?25hdone\n",
            "  Created wheel for ansi2html: filename=ansi2html-1.5.2-cp36-none-any.whl size=13863 sha256=b70d9303d64d49cc9bf0b201c807e2c3918096f7440f288489a8950cd7660d6a\n",
            "  Stored in directory: /root/.cache/pip/wheels/f9/ea/e0/1ed3c3945ce073f930f3e5aa2b9bbadb03cd2efc8f8695cd61\n",
            "Successfully built dash flask-compress dash-renderer dash-core-components dash-html-components dash-table ansi2html\n",
            "Installing collected packages: brotli, flask-compress, dash-renderer, dash-core-components, dash-html-components, dash-table, dash, ansi2html, jupyter-dash\n",
            "Successfully installed ansi2html-1.5.2 brotli-1.0.7 dash-1.14.0 dash-core-components-1.10.2 dash-html-components-1.0.3 dash-renderer-1.6.0 dash-table-4.9.0 flask-compress-1.5.0 jupyter-dash-0.3.1\n",
            "Requirement already up-to-date: plotly in /usr/local/lib/python3.6/dist-packages (4.9.0)\n",
            "Requirement already satisfied, skipping upgrade: retrying>=1.3.3 in /usr/local/lib/python3.6/dist-packages (from plotly) (1.3.3)\n",
            "Requirement already satisfied, skipping upgrade: six in /usr/local/lib/python3.6/dist-packages (from plotly) (1.15.0)\n"
          ],
          "name": "stdout"
        }
      ]
    },
    {
      "cell_type": "markdown",
      "metadata": {
        "id": "7DA2KRjW3NC2",
        "colab_type": "text"
      },
      "source": [
        "# Dash\n",
        "- Dashはウェブフレームワークです https://dash.plotly.com/\n",
        "- plotly社が作成しており、plotlyで作成したグラフをインタラクティブに動作させ、よりデータを深く見ることを可能にしてくれます。(plotly以外のグラフを使えるようにしてくれるdash alternative vizもあります　https://github.com/plotly/dash-alternative-viz)\n",
        "- このノートではjupyterでdashを動かせるjupyterdashを使ってdashを解説します。"
      ]
    },
    {
      "cell_type": "markdown",
      "metadata": {
        "id": "zNQ-BvYI4OgL",
        "colab_type": "text"
      },
      "source": [
        "## レイアウトの作成\n",
        "- レイアウトはコンポーネントを組み合わせて作成します。\n",
        "- コンポーネントは次の7つが提供されています。\n",
        "  - dash html components htmlの作成 https://dash.plotly.com/dash-html-components\n",
        "  - dash core components 様々なツールの作成 https://dash.plotly.com/dash-core-components\n",
        "  - dash datatable テーブルの作成 https://dash.plotly.com/datatable\n",
        "  - dash bio バイオインフォマティクスツールの作成 https://dash.plotly.com/dash-bio\n",
        "  - dash daq IOT向けツールの作成 https://dash.plotly.com/dash-daq\n",
        "  - dash canvas 画像の編集など用ツール https://dash.plotly.com/canvas\n",
        "  - dash cytoscape グラフ作成用ツール https://dash.plotly.com/cytoscape\n",
        "- 今回のノートではdash html componentsとdash core componentsのコンポーネントを用いて解説します。\n",
        "- コンポーネントは引数にデータを渡し作成します。\n"
      ]
    },
    {
      "cell_type": "code",
      "metadata": {
        "id": "SKEN7p1x3LL1",
        "colab_type": "code",
        "colab": {}
      },
      "source": [
        "from jupyter_dash import JupyterDash \n",
        "import dash_html_components as html \n",
        "import dash_core_components as dcc \n",
        "import plotly.express as px"
      ],
      "execution_count": 6,
      "outputs": []
    },
    {
      "cell_type": "code",
      "metadata": {
        "id": "hVa3BO536RyN",
        "colab_type": "code",
        "colab": {}
      },
      "source": [
        "# まずJupyterDashインスタンスを作成し、\n",
        "\n",
        "app = JupyterDash(__name__)\n",
        "\n",
        "# レイアウト属性にレイアウトを渡します。\n",
        "# まずは一つのコンポーネントだけを渡します。\n",
        "\n",
        "app.layout = html.H1('HELLO Dash!')\n",
        "\n",
        "# run_serverメソッドでローカルにサーバを起動します\n",
        "# 引数modeにinlineを指定し、ノートブック上でアプリケーションを起動します\n",
        "app.run_server(mode='inline')"
      ],
      "execution_count": null,
      "outputs": []
    },
    {
      "cell_type": "markdown",
      "metadata": {
        "id": "u2s0_qCL7QFI",
        "colab_type": "text"
      },
      "source": [
        "### 複数のコンポーネントを使ってレイアウトを組み立てる\n",
        "- dash_html_componentsではHTMLタグがすべて提供されており、普通にウェブサイトを作成することもできます\n",
        "- 次に複数のコンポーネントを渡します。\n",
        "- 複数のコンポーネントを扱う場合、html.Div()の引数children（第1引数）にリストに格納してコンポーネントを渡します。\n",
        "- グラフを表示する場合、dcc.Graph()の引数figureに作成したグラフを渡します。\n"
      ]
    },
    {
      "cell_type": "code",
      "metadata": {
        "id": "kxWIKXRa7LOo",
        "colab_type": "code",
        "colab": {
          "base_uri": "https://localhost:8080/",
          "height": 672
        },
        "outputId": "33d6d03b-23b4-4a92-d54c-243729bfeaa2"
      },
      "source": [
        "app = JupyterDash(__name__)\n",
        "\n",
        "app.layout = html.Div([\n",
        "                       html.H1(\"PyConJP Tutorial\"),\n",
        "                       dcc.Dropdown(options=[{'label': i, 'value':i} for i in ['hokkaido', 'okinawa', 'tokyo', 'saitama', 'nagano']], value='tokyo'),\n",
        "                       dcc.Graph(figure=px.line(x=[1,2,3,4,5], y=[3,2,4,3,1], title='Testing JupyterDash'))\n",
        "])\n",
        "\n",
        "app.run_server(mode='inline')"
      ],
      "execution_count": 11,
      "outputs": [
        {
          "output_type": "display_data",
          "data": {
            "application/javascript": [
              "(async (port, path, width, height, cache, element) => {\n",
              "    if (!google.colab.kernel.accessAllowed && !cache) {\n",
              "      return;\n",
              "    }\n",
              "    element.appendChild(document.createTextNode(''));\n",
              "    const url = await google.colab.kernel.proxyPort(port, {cache});\n",
              "    const iframe = document.createElement('iframe');\n",
              "    iframe.src = url + path;\n",
              "    iframe.height = height;\n",
              "    iframe.width = width;\n",
              "    iframe.style.border = 0;\n",
              "    element.appendChild(iframe);\n",
              "  })(8050, \"/\", \"100%\", 650, false, window.element)"
            ],
            "text/plain": [
              "<IPython.core.display.Javascript object>"
            ]
          },
          "metadata": {
            "tags": []
          }
        }
      ]
    },
    {
      "cell_type": "code",
      "metadata": {
        "id": "WnV6q8oM8auK",
        "colab_type": "code",
        "colab": {}
      },
      "source": [
        ""
      ],
      "execution_count": null,
      "outputs": []
    },
    {
      "cell_type": "markdown",
      "metadata": {
        "id": "KiDDb3dm9DkN",
        "colab_type": "text"
      },
      "source": [
        "### 引数Styleを用いてレイアウトなどを整える\n",
        "- 引数StyleにCSSを設定することにより、コンポーネントの見た目を整えられます。\n",
        "- CSSは辞書に格納して渡します。\n",
        "- プロパティはキャメルケースとして辞書のキーに設定、値は普通に渡します\n",
        "- 覚えて帰ってほしい設定\n",
        "  - 'display' : 'inline-block' / 指定したコンポーネントを横並びに\n",
        "  - 'margin' : 'auto' / コンポーネントの要素を中央に寄せる\n",
        "- CSSの詳細はMDNのページに https://developer.mozilla.org/ja/docs/Web/CSS\n"
      ]
    },
    {
      "cell_type": "code",
      "metadata": {
        "id": "NEKb2GUF_gjA",
        "colab_type": "code",
        "colab": {
          "base_uri": "https://localhost:8080/",
          "height": 672
        },
        "outputId": "97b40149-1912-488c-8ea5-ad175211fd22"
      },
      "source": [
        "app = JupyterDash(__name__)\n",
        "\n",
        "app.layout = html.Div([\n",
        "                       html.H1(\"PyConJP Tutorial\", \n",
        "                               style={'width': '50%', 'display': 'inline-block', 'margin': 'auto'}),\n",
        "                       dcc.Dropdown(options=[{'label': i, 'value':i} for i in ['hokkaido', 'okinawa', 'tokyo', 'saitama', 'nagano']], \n",
        "                                    value='tokyo', \n",
        "                                    style={'width': '50%', 'display': 'inline-block', 'margin': 'auto'}),\n",
        "                       dcc.Graph(figure=px.line(x=[1,2,3,4,5], y=[3,2,4,3,1], title='Testing JupyterDash'))\n",
        "], style={'backgroundColor': 'pink', 'padding': '5%'})\n",
        "\n",
        "app.run_server(mode='inline')"
      ],
      "execution_count": 25,
      "outputs": [
        {
          "output_type": "display_data",
          "data": {
            "application/javascript": [
              "(async (port, path, width, height, cache, element) => {\n",
              "    if (!google.colab.kernel.accessAllowed && !cache) {\n",
              "      return;\n",
              "    }\n",
              "    element.appendChild(document.createTextNode(''));\n",
              "    const url = await google.colab.kernel.proxyPort(port, {cache});\n",
              "    const iframe = document.createElement('iframe');\n",
              "    iframe.src = url + path;\n",
              "    iframe.height = height;\n",
              "    iframe.width = width;\n",
              "    iframe.style.border = 0;\n",
              "    element.appendChild(iframe);\n",
              "  })(8050, \"/\", \"100%\", 650, false, window.element)"
            ],
            "text/plain": [
              "<IPython.core.display.Javascript object>"
            ]
          },
          "metadata": {
            "tags": []
          }
        }
      ]
    },
    {
      "cell_type": "markdown",
      "metadata": {
        "id": "OxzHyHAJBizS",
        "colab_type": "text"
      },
      "source": [
        "## コールバック\n",
        "- コールバックはDashアプリケーションをインタラクティブ要素を与えます\n",
        "- 短いコードでかなりインタラクティブなアプリケーションが作成できます\n",
        "- これがないと正直、plotlyを使っているのと変わらない\n",
        "- なので、少しややこしいですが、ここを使いこなしましょう！"
      ]
    },
    {
      "cell_type": "code",
      "metadata": {
        "id": "wUcy1QB9-wQ4",
        "colab_type": "code",
        "colab": {}
      },
      "source": [
        "from dash.dependencies import Input, Output, State"
      ],
      "execution_count": 26,
      "outputs": []
    },
    {
      "cell_type": "code",
      "metadata": {
        "id": "Nm5Zc1CiCTrF",
        "colab_type": "code",
        "colab": {
          "base_uri": "https://localhost:8080/",
          "height": 672
        },
        "outputId": "adb61e71-10c7-4d65-f5b2-7262e6d67595"
      },
      "source": [
        "# グラフの種類をドロップダウンで選択し、ボタンを押すとグラフの種類が切り替わるアプリケーションを作成します。\n",
        "\n",
        "app = JupyterDash(__name__)\n",
        "\n",
        "# グラフの種類を選択するのに用いるリストを作成します。\n",
        "graph_type_list = [px.line, px.scatter, px.bar]\n",
        "\n",
        "app.layout = html.Div([\n",
        "    # ドロップダウンコンポーネントの作成。id名を設定します。\n",
        "    dcc.Dropdown(\n",
        "        id = 'my_dropdown',\n",
        "        options = [{'label': type_.__name__, 'value': num} for num, type_ in enumerate(graph_type_list)],\n",
        "        value = 0\n",
        "    ),\n",
        "    html.Button(\n",
        "        id='my_button',\n",
        "        children='Update Graph'\n",
        "    ),\n",
        "    dcc.Graph(\n",
        "        # グラフはコールバックで作成するので、id名のみを渡します。\n",
        "        id='my_graph',\n",
        "    ),\n",
        "])\n",
        "\n",
        "# コールバックはapp.callbackデコレータを持つ関数です。\n",
        "# デコレータではそれぞれに用いるコンポーネントの属性を指定します。\n",
        "\n",
        "# Outputはコールバックで処理したデータの出力先の属性を指定します。この場合、関数内でグラフを作成し、それをid名my_graphのfigure属性に返します。\n",
        "# Inputはコールバックを呼び出すのに用いる属性を指定します。この場合、ボタンのn_clicks属性を指定します。n_clicks属性はボタンの押された回数を数えており、\n",
        "# その値が変化するとコールバックが呼び出されます。\n",
        "# Stateはコールバックで状態を用いる属性を指定します。この場合、ドロップダウンの値を用います。\n",
        "\n",
        "# 関数\n",
        "# 関数の名前、引数名は任意で付けられます。\n",
        "# 関数の引数には、Input, Stateで指定した属性が割り当てられます。この場合はボタンのn_clicks属性、ドロップダウンのvalue属性です。\n",
        "\n",
        "\n",
        "@app.callback(Output('my_graph', 'figure'),\n",
        "             [Input('my_button', 'n_clicks')],\n",
        "            [State('my_dropdown', 'value')]\n",
        "            )\n",
        "def update_graph(n_clicks, selected_value):\n",
        "    return graph_type_list[selected_value](x=[1,2,3,4,5], y=[1,2,3,4,5])\n",
        "\n",
        "app.run_server(mode='inline')"
      ],
      "execution_count": 39,
      "outputs": [
        {
          "output_type": "display_data",
          "data": {
            "application/javascript": [
              "(async (port, path, width, height, cache, element) => {\n",
              "    if (!google.colab.kernel.accessAllowed && !cache) {\n",
              "      return;\n",
              "    }\n",
              "    element.appendChild(document.createTextNode(''));\n",
              "    const url = await google.colab.kernel.proxyPort(port, {cache});\n",
              "    const iframe = document.createElement('iframe');\n",
              "    iframe.src = url + path;\n",
              "    iframe.height = height;\n",
              "    iframe.width = width;\n",
              "    iframe.style.border = 0;\n",
              "    element.appendChild(iframe);\n",
              "  })(8050, \"/\", \"100%\", 650, false, window.element)"
            ],
            "text/plain": [
              "<IPython.core.display.Javascript object>"
            ]
          },
          "metadata": {
            "tags": []
          }
        }
      ]
    },
    {
      "cell_type": "markdown",
      "metadata": {
        "id": "Q50glsi5FSPC",
        "colab_type": "text"
      },
      "source": [
        "### コールバックのポイント\n",
        "- 利用するコンポーネントのid名と属性を指定して作成する\n",
        "- それらの属性の役割をapp.callbackデコレータで設定する\n",
        "- Outputは関数で作成したデータの出力先の属性を設定する\n",
        "- Inputは関数を呼び出す属性を設定する\n",
        "- Stateは関数で用いる属性を設定する\n",
        "- 関数の引数にはInputとStateに指定した属性が割り当てられる\n",
        "- 関数名、引数名は任意"
      ]
    },
    {
      "cell_type": "code",
      "metadata": {
        "id": "wtzduThkCUke",
        "colab_type": "code",
        "colab": {
          "base_uri": "https://localhost:8080/",
          "height": 672
        },
        "outputId": "de961fb4-4157-4584-928b-bb6f3266fbc8"
      },
      "source": [
        "# gapminderデータの国名、見たい属性をドロップダウンで指定して、線グラフで表示するアプリケーション\n",
        "\n",
        "gapminder = px.data.gapminder()\n",
        "\n",
        "app = JupyterDash(__name__)\n",
        "\n",
        "app.layout = html.Div([\n",
        "                       html.Div([\n",
        "                                 dcc.Dropdown(\n",
        "                                     id='country_selector',\n",
        "                                     options=[{'value': cnt, 'label': cnt} for cnt in gapminder.country.unique()],\n",
        "                                     value=['Japan'],\n",
        "                                     multi=True,\n",
        "                                     style={'width': '50%', 'display': 'inline-block'}\n",
        "                                 ),\n",
        "                                 dcc.Dropdown(\n",
        "                                     id='factor_selector',\n",
        "                                     options=[{'value': fac, 'label': fac} for fac in ['pop', 'gdpPercap', 'lifeExp']],\n",
        "                                     value='pop',\n",
        "                                     style={'width': '50%', 'display': 'inline-block'}\n",
        "                                 )\n",
        "                       ]),\n",
        "                       dcc.Graph(id='gap_graph')\n",
        "])\n",
        "\n",
        "@app.callback(Output('gap_graph', 'figure'), [Input('country_selector', 'value'), Input('factor_selector', 'value')])\n",
        "def gapminder_graph(selected_countries, selected_factor):\n",
        "  selected_gap = gapminder[gapminder['country'].isin(selected_countries)]\n",
        "  return px.line(selected_gap, x='year', y=selected_factor, color='country', log_y=True)\n",
        "\n",
        "\n",
        "\n",
        "app.run_server(mode='inline')"
      ],
      "execution_count": 42,
      "outputs": [
        {
          "output_type": "display_data",
          "data": {
            "application/javascript": [
              "(async (port, path, width, height, cache, element) => {\n",
              "    if (!google.colab.kernel.accessAllowed && !cache) {\n",
              "      return;\n",
              "    }\n",
              "    element.appendChild(document.createTextNode(''));\n",
              "    const url = await google.colab.kernel.proxyPort(port, {cache});\n",
              "    const iframe = document.createElement('iframe');\n",
              "    iframe.src = url + path;\n",
              "    iframe.height = height;\n",
              "    iframe.width = width;\n",
              "    iframe.style.border = 0;\n",
              "    element.appendChild(iframe);\n",
              "  })(8050, \"/\", \"100%\", 650, false, window.element)"
            ],
            "text/plain": [
              "<IPython.core.display.Javascript object>"
            ]
          },
          "metadata": {
            "tags": []
          }
        }
      ]
    },
    {
      "cell_type": "markdown",
      "metadata": {
        "id": "5QMDFp-QMO6f",
        "colab_type": "text"
      },
      "source": [
        "### パターンマッチングコールバック\n",
        "- コンポーネントを追加しながら、それをコールバックで利用する\n",
        "- ID名を辞書で付け、パターンに当てはまるコンポーネントをコールバックに用いる\n",
        "- セレクターにはALL, MATCH, ALLSMALLERがある"
      ]
    },
    {
      "cell_type": "code",
      "metadata": {
        "id": "5Aix1Wo6Necd",
        "colab_type": "code",
        "colab": {}
      },
      "source": [
        "from dash.dependencies import ALL, ALLSMALLER, MATCH"
      ],
      "execution_count": 44,
      "outputs": []
    },
    {
      "cell_type": "code",
      "metadata": {
        "id": "PxnNClAgN0xN",
        "colab_type": "code",
        "colab": {
          "base_uri": "https://localhost:8080/",
          "height": 672
        },
        "outputId": "d95197b0-22a5-4d5d-cf6e-3642f6f78825"
      },
      "source": [
        "# ALLを用いる\n",
        "\n",
        "app = JupyterDash(__name__)\n",
        "\n",
        "# レイアウト\n",
        "app.layout = html.Div([\n",
        "    html.Button(\"Add Filter\", id=\"add-filter\", n_clicks=0),\n",
        "    html.Div(id='dropdown-container', children=[]),\n",
        "    html.Div(id='dropdown-container-output')\n",
        "])\n",
        "\n",
        "# コールバック\n",
        "# dropdown-containerにドロップダウンを返す\n",
        "# childrenにドロップダウンをどんどん加える\n",
        "# ドロップダウンのidを辞書で作成。\"index\"の値にボタンのクリック数を渡す\n",
        "@app.callback(\n",
        "    Output('dropdown-container', 'children'),\n",
        "    [Input('add-filter', 'n_clicks')],\n",
        "    [State('dropdown-container', 'children')])\n",
        "def display_dropdowns(n_clicks, children):\n",
        "    new_dropdown = dcc.Dropdown(\n",
        "        id={\n",
        "            'type': 'filter-dropdown',\n",
        "            'index': n_clicks\n",
        "        },\n",
        "        options=[{'label': i, 'value': i} for i in ['NYC', 'MTL', 'LA', 'TOKYO']]\n",
        "    )\n",
        "    children.append(new_dropdown)\n",
        "    return children\n",
        "\n",
        "# インプットにドロップダウン \n",
        "# クリックして作られる全てのドロップダウンをALLを用いて指定する\n",
        "# 全てのドロップダウンの値を使う\n",
        "# ドロップダウンの全ての値を返すコールバック\n",
        "@app.callback(\n",
        "    Output('dropdown-container-output', 'children'),\n",
        "    [Input({'type': 'filter-dropdown', 'index': ALL}, 'value')]\n",
        ")\n",
        "def display_output(values):\n",
        "    return html.Div([\n",
        "        html.Div('Dropdown {} = {}'.format(i + 1, value))\n",
        "        for (i, value) in enumerate(values)\n",
        "    ])\n",
        "\n",
        "app.run_server(mode='inline')"
      ],
      "execution_count": 46,
      "outputs": [
        {
          "output_type": "display_data",
          "data": {
            "application/javascript": [
              "(async (port, path, width, height, cache, element) => {\n",
              "    if (!google.colab.kernel.accessAllowed && !cache) {\n",
              "      return;\n",
              "    }\n",
              "    element.appendChild(document.createTextNode(''));\n",
              "    const url = await google.colab.kernel.proxyPort(port, {cache});\n",
              "    const iframe = document.createElement('iframe');\n",
              "    iframe.src = url + path;\n",
              "    iframe.height = height;\n",
              "    iframe.width = width;\n",
              "    iframe.style.border = 0;\n",
              "    element.appendChild(iframe);\n",
              "  })(8050, \"/\", \"100%\", 650, false, window.element)"
            ],
            "text/plain": [
              "<IPython.core.display.Javascript object>"
            ]
          },
          "metadata": {
            "tags": []
          }
        }
      ]
    },
    {
      "cell_type": "code",
      "metadata": {
        "id": "YB1opwniMqcw",
        "colab_type": "code",
        "colab": {
          "base_uri": "https://localhost:8080/",
          "height": 672
        },
        "outputId": "ab8972d0-2d13-4d76-b16d-01f48557c2f7"
      },
      "source": [
        "\n",
        "app = JupyterDash(__name__, suppress_callback_exceptions=True)\n",
        "\n",
        "app.layout = html.Div([\n",
        "    html.Button(\"Add Filter\", id=\"dynamic-add-filter\", n_clicks=0),\n",
        "    html.Div(id=\"dynamic-dropdown-container\", children=[])\n",
        "])\n",
        "\n",
        "@app.callback(Output(\"dynamic-dropdown-container\", \"children\"),\n",
        "            [Input(\"dynamic-add-filter\", \"n_clicks\")],\n",
        "            [State(\"dynamic-dropdown-container\", \"children\")]\n",
        "            )\n",
        "def display_dropdown(n_clicks, children):\n",
        "    new_element = html.Div([\n",
        "        dcc.Dropdown(\n",
        "            id={\"type\": \"dynamic-dropdown\", \"index\": n_clicks},\n",
        "            options=[{\"label\": i, \"value\": i} for i in [\"京都\", \"東京\", \"大阪\"]]\n",
        "        ),\n",
        "        html.Div(\n",
        "            id={\"type\":\"dynamic-output\", \"index\": n_clicks}\n",
        "        )\n",
        "    ])\n",
        "    children.append(new_element)\n",
        "    return children\n",
        "\n",
        "@app.callback(\n",
        "    Output({\"type\": \"dynamic-output\", \"index\": MATCH}, \"children\"),\n",
        "    [Input({\"type\": \"dynamic-dropdown\", \"index\": MATCH}, \"value\")],\n",
        "    [State({\"type\": \"dynamic-dropdown\", \"index\": MATCH}, \"id\")]\n",
        ")\n",
        "def display_value(value, id):\n",
        "    return html.Div(f\"Dropdown {id['index']}= {value}\")\n",
        "\n",
        "app.run_server(mode='inline')"
      ],
      "execution_count": 45,
      "outputs": [
        {
          "output_type": "display_data",
          "data": {
            "application/javascript": [
              "(async (port, path, width, height, cache, element) => {\n",
              "    if (!google.colab.kernel.accessAllowed && !cache) {\n",
              "      return;\n",
              "    }\n",
              "    element.appendChild(document.createTextNode(''));\n",
              "    const url = await google.colab.kernel.proxyPort(port, {cache});\n",
              "    const iframe = document.createElement('iframe');\n",
              "    iframe.src = url + path;\n",
              "    iframe.height = height;\n",
              "    iframe.width = width;\n",
              "    iframe.style.border = 0;\n",
              "    element.appendChild(iframe);\n",
              "  })(8050, \"/\", \"100%\", 650, false, window.element)"
            ],
            "text/plain": [
              "<IPython.core.display.Javascript object>"
            ]
          },
          "metadata": {
            "tags": []
          }
        }
      ]
    },
    {
      "cell_type": "code",
      "metadata": {
        "id": "47B6TlJ1Ncsq",
        "colab_type": "code",
        "colab": {}
      },
      "source": [
        ""
      ],
      "execution_count": null,
      "outputs": []
    }
  ]
}