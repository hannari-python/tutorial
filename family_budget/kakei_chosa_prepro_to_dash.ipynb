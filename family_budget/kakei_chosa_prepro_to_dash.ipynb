{
  "nbformat": 4,
  "nbformat_minor": 0,
  "metadata": {
    "colab": {
      "name": "kakei_chosa_prepro_to_dash.ipynb",
      "provenance": [],
      "collapsed_sections": [],
      "include_colab_link": true
    },
    "kernelspec": {
      "name": "python3",
      "display_name": "Python 3"
    }
  },
  "cells": [
    {
      "cell_type": "markdown",
      "metadata": {
        "id": "view-in-github",
        "colab_type": "text"
      },
      "source": [
        "<a href=\"https://colab.research.google.com/github/hannari-python/tutorial/blob/kakei/family_budget/kakei_chosa_prepro_to_dash.ipynb\" target=\"_parent\"><img src=\"https://colab.research.google.com/assets/colab-badge.svg\" alt=\"Open In Colab\"/></a>"
      ]
    },
    {
      "cell_type": "markdown",
      "metadata": {
        "id": "uewWBvZeQEuV",
        "colab_type": "text"
      },
      "source": [
        "# 家計調査データの分析\n",
        "\n",
        "## データの紹介\n",
        "\n",
        "- [独立行政法人 統計センター 一般用ミクロデータ 平成21年全国消費実態調査 （十大費目）](https://github.com/hannari-python/tutorial/raw/master/data/ippan-microdata/ippan_2009zensho.zip) https://www.nstac.go.jp/services/ippan-microdata.html\n",
        "- [独立行政法人 統計センター 一般用ミクロデータ 平成21年全国消費実態調査 （詳細品目）](https://github.com/hannari-python/tutorial/raw/master/data/ippan-microdata/ippan_2009zensho_s.zip) https://www.nstac.go.jp/services/ippan-microdata.html\n",
        "- [独立行政法人 統計センター 一般用ミクロデータ 就業構造基本調査 （平成４年～24年）](https://github.com/hannari-python/tutorial/raw/master/data/ippan-microdata/ippan_shugyou.zip) https://www.nstac.go.jp/services/ippan-microdata.html\n",
        "\n",
        "## 課題1\n",
        "\n",
        "https://www.nstac.go.jp/services/ippan-microdata.html\n",
        "\n",
        "をクリックし、ippan_2009zensho.zip と ippan_2009zensho_s.zip がどのように異なるか見てみましょう。\n",
        "\n",
        "## データの取得と解凍\n",
        "\n",
        "!の後にLinuxコマンドを書くとそのセルの命令はPythonプログラムではなくLinuxのコマンドとして実行されます。\n",
        "\n",
        "wget はデータをダウンロードするのに使うことができるLinuxのコマンドです。"
      ]
    },
    {
      "cell_type": "code",
      "metadata": {
        "id": "w5QVPuKRVOJ1",
        "colab_type": "code",
        "colab": {
          "base_uri": "https://localhost:8080/",
          "height": 289
        },
        "outputId": "f000f085-6f7b-4d27-a482-38fde9753713"
      },
      "source": [
        "!wget https://github.com/hannari-python/tutorial/raw/master/data/ippan-microdata/ippan_2009zensho_s.zip"
      ],
      "execution_count": 1,
      "outputs": [
        {
          "output_type": "stream",
          "text": [
            "--2020-08-22 05:11:09--  https://github.com/hannari-python/tutorial/raw/master/data/ippan-microdata/ippan_2009zensho_s.zip\n",
            "Resolving github.com (github.com)... 140.82.113.4\n",
            "Connecting to github.com (github.com)|140.82.113.4|:443... connected.\n",
            "HTTP request sent, awaiting response... 302 Found\n",
            "Location: https://raw.githubusercontent.com/hannari-python/tutorial/master/data/ippan-microdata/ippan_2009zensho_s.zip [following]\n",
            "--2020-08-22 05:11:10--  https://raw.githubusercontent.com/hannari-python/tutorial/master/data/ippan-microdata/ippan_2009zensho_s.zip\n",
            "Resolving raw.githubusercontent.com (raw.githubusercontent.com)... 151.101.0.133, 151.101.64.133, 151.101.128.133, ...\n",
            "Connecting to raw.githubusercontent.com (raw.githubusercontent.com)|151.101.0.133|:443... connected.\n",
            "HTTP request sent, awaiting response... 200 OK\n",
            "Length: 33090889 (32M) [application/zip]\n",
            "Saving to: ‘ippan_2009zensho_s.zip’\n",
            "\n",
            "ippan_2009zensho_s. 100%[===================>]  31.56M  39.7MB/s    in 0.8s    \n",
            "\n",
            "2020-08-22 05:11:15 (39.7 MB/s) - ‘ippan_2009zensho_s.zip’ saved [33090889/33090889]\n",
            "\n"
          ],
          "name": "stdout"
        }
      ]
    },
    {
      "cell_type": "markdown",
      "metadata": {
        "id": "A5sEpVXJdYaC",
        "colab_type": "text"
      },
      "source": [
        "unzip を zip ファイルを解凍する Linux コマンドです。"
      ]
    },
    {
      "cell_type": "code",
      "metadata": {
        "id": "2QFuEfMhVONS",
        "colab_type": "code",
        "colab": {
          "base_uri": "https://localhost:8080/",
          "height": 68
        },
        "outputId": "2483ac5a-52f4-4ad4-8447-fac8be961908"
      },
      "source": [
        "!unzip /content/ippan_2009zensho_s.zip"
      ],
      "execution_count": 2,
      "outputs": [
        {
          "output_type": "stream",
          "text": [
            "Archive:  /content/ippan_2009zensho_s.zip\n",
            "  inflating: ippan_2009zensho_s/ippan_2009zensho_s.xls  \n",
            "  inflating: ippan_2009zensho_s/ippan_2009zensho_s_dataset.csv  \n"
          ],
          "name": "stdout"
        }
      ]
    },
    {
      "cell_type": "markdown",
      "metadata": {
        "id": "OtGTQ3bsSyGv",
        "colab_type": "text"
      },
      "source": [
        "## 課題2\n",
        "\n",
        "- `ippan_2009zensho_s_dataset.csv` の何行目からが表データのスタートか見てみましょう\n",
        "- `ippan_2009zensho_s.xls` をGoogle Sheetsにインポートしてデータの定義を見てみましょう\n",
        "- データの内どの部分が必要なデータか考えてみましょう\n"
      ]
    },
    {
      "cell_type": "markdown",
      "metadata": {
        "id": "DRLEWYJ2TSyE",
        "colab_type": "text"
      },
      "source": [
        "## 分析に必要なPythonパッケージのインストール\n",
        "\n",
        "pip はPythonのパッケージをインストールするためのコマンドです。\n",
        "空白を間にはさみ複数のパッケージを連続して書くとそれらがすべてインストールされます。\n",
        "\n",
        "dashはダッシュボードのWebアプリケーションを構築するためのフレームワークタイプのPythonパッケージです。\n",
        "\n",
        "jupyter_dashはJupyter Notebookでdashを使うためのPythonパッケージです。\n",
        "\n",
        "plotlyはオープンソースのインタラクティブなグラフライブラリのPythonパッケージです。\n",
        "\n",
        "colabには最初からplotlyがインストールされていますが最新版を使うために下記では`--upgrade`オプションをつけインストールし直しています。"
      ]
    },
    {
      "cell_type": "code",
      "metadata": {
        "id": "ymx_xkwEnIVl",
        "colab_type": "code",
        "colab": {
          "base_uri": "https://localhost:8080/",
          "height": 1000
        },
        "outputId": "755a3ddb-380c-47ce-af6f-cb3807bf1e75"
      },
      "source": [
        "!pip install dash jupyter_dash \n",
        "!pip install --upgrade plotly"
      ],
      "execution_count": 3,
      "outputs": [
        {
          "output_type": "stream",
          "text": [
            "Collecting dash\n",
            "\u001b[?25l  Downloading https://files.pythonhosted.org/packages/1d/d1/191ad32bd9e6d10b2fc0f5d31e9e6a85fdb2642088658f75817d67bdeaea/dash-1.14.0.tar.gz (70kB)\n",
            "\u001b[K     |████████████████████████████████| 71kB 2.1MB/s \n",
            "\u001b[?25hCollecting jupyter_dash\n",
            "\u001b[?25l  Downloading https://files.pythonhosted.org/packages/b9/b9/5f9499a0154124a262c85e3a99033b9b3a20dc3d2707b587f52b32b60d76/jupyter_dash-0.3.1-py3-none-any.whl (49kB)\n",
            "\u001b[K     |████████████████████████████████| 51kB 5.4MB/s \n",
            "\u001b[?25hRequirement already satisfied: Flask>=1.0.2 in /usr/local/lib/python3.6/dist-packages (from dash) (1.1.2)\n",
            "Collecting flask-compress\n",
            "  Downloading https://files.pythonhosted.org/packages/a0/96/cd684c1ffe97b513303b5bfd4bbfb4114c5f4a5ea8a737af6fd813273df8/Flask-Compress-1.5.0.tar.gz\n",
            "Requirement already satisfied: plotly in /usr/local/lib/python3.6/dist-packages (from dash) (4.4.1)\n",
            "Collecting dash_renderer==1.6.0\n",
            "\u001b[?25l  Downloading https://files.pythonhosted.org/packages/da/a6/ddbcd01c638a2c235bfe13fd75155b344c7b7ab1c6466fe6d46b159897ad/dash_renderer-1.6.0.tar.gz (1.2MB)\n",
            "\u001b[K     |████████████████████████████████| 1.2MB 8.9MB/s \n",
            "\u001b[?25hCollecting dash-core-components==1.10.2\n",
            "\u001b[?25l  Downloading https://files.pythonhosted.org/packages/ee/74/f961bb01aa015b76c60045cf8ad5d9eb2279656f4483b42750ec3b925c9c/dash_core_components-1.10.2.tar.gz (3.4MB)\n",
            "\u001b[K     |████████████████████████████████| 3.4MB 25.5MB/s \n",
            "\u001b[?25hCollecting dash-html-components==1.0.3\n",
            "\u001b[?25l  Downloading https://files.pythonhosted.org/packages/da/20/46714ae501ccf16e5e37ca160c06e27347d19889687454168730e6744cdc/dash_html_components-1.0.3.tar.gz (187kB)\n",
            "\u001b[K     |████████████████████████████████| 194kB 42.7MB/s \n",
            "\u001b[?25hCollecting dash-table==4.9.0\n",
            "\u001b[?25l  Downloading https://files.pythonhosted.org/packages/54/9f/11347b397b840b67481f6ecadefb64de0b57d199752d5e182161a4217f1d/dash_table-4.9.0.tar.gz (1.8MB)\n",
            "\u001b[K     |████████████████████████████████| 1.8MB 36.8MB/s \n",
            "\u001b[?25hRequirement already satisfied: future in /usr/local/lib/python3.6/dist-packages (from dash) (0.16.0)\n",
            "Requirement already satisfied: ipykernel in /usr/local/lib/python3.6/dist-packages (from jupyter_dash) (4.10.1)\n",
            "Requirement already satisfied: retrying in /usr/local/lib/python3.6/dist-packages (from jupyter_dash) (1.3.3)\n",
            "Requirement already satisfied: ipython in /usr/local/lib/python3.6/dist-packages (from jupyter_dash) (5.5.0)\n",
            "Requirement already satisfied: requests in /usr/local/lib/python3.6/dist-packages (from jupyter_dash) (2.23.0)\n",
            "Collecting ansi2html\n",
            "  Downloading https://files.pythonhosted.org/packages/b7/f5/0d658908d70cb902609fbb39b9ce891b99e060fa06e98071d369056e346f/ansi2html-1.5.2.tar.gz\n",
            "Requirement already satisfied: Jinja2>=2.10.1 in /usr/local/lib/python3.6/dist-packages (from Flask>=1.0.2->dash) (2.11.2)\n",
            "Requirement already satisfied: itsdangerous>=0.24 in /usr/local/lib/python3.6/dist-packages (from Flask>=1.0.2->dash) (1.1.0)\n",
            "Requirement already satisfied: click>=5.1 in /usr/local/lib/python3.6/dist-packages (from Flask>=1.0.2->dash) (7.1.2)\n",
            "Requirement already satisfied: Werkzeug>=0.15 in /usr/local/lib/python3.6/dist-packages (from Flask>=1.0.2->dash) (1.0.1)\n",
            "Collecting brotli\n",
            "\u001b[?25l  Downloading https://files.pythonhosted.org/packages/f4/68/60a220454dc5083c6d59b41aa90bb1c96fad62a0abf3a33e0ef64b38638a/Brotli-1.0.7-cp36-cp36m-manylinux1_x86_64.whl (352kB)\n",
            "\u001b[K     |████████████████████████████████| 358kB 45.7MB/s \n",
            "\u001b[?25hRequirement already satisfied: six in /usr/local/lib/python3.6/dist-packages (from plotly->dash) (1.15.0)\n",
            "Requirement already satisfied: traitlets>=4.1.0 in /usr/local/lib/python3.6/dist-packages (from ipykernel->jupyter_dash) (4.3.3)\n",
            "Requirement already satisfied: jupyter-client in /usr/local/lib/python3.6/dist-packages (from ipykernel->jupyter_dash) (5.3.5)\n",
            "Requirement already satisfied: tornado>=4.0 in /usr/local/lib/python3.6/dist-packages (from ipykernel->jupyter_dash) (5.1.1)\n",
            "Requirement already satisfied: pexpect; sys_platform != \"win32\" in /usr/local/lib/python3.6/dist-packages (from ipython->jupyter_dash) (4.8.0)\n",
            "Requirement already satisfied: pygments in /usr/local/lib/python3.6/dist-packages (from ipython->jupyter_dash) (2.1.3)\n",
            "Requirement already satisfied: simplegeneric>0.8 in /usr/local/lib/python3.6/dist-packages (from ipython->jupyter_dash) (0.8.1)\n",
            "Requirement already satisfied: pickleshare in /usr/local/lib/python3.6/dist-packages (from ipython->jupyter_dash) (0.7.5)\n",
            "Requirement already satisfied: setuptools>=18.5 in /usr/local/lib/python3.6/dist-packages (from ipython->jupyter_dash) (49.2.0)\n",
            "Requirement already satisfied: decorator in /usr/local/lib/python3.6/dist-packages (from ipython->jupyter_dash) (4.4.2)\n",
            "Requirement already satisfied: prompt-toolkit<2.0.0,>=1.0.4 in /usr/local/lib/python3.6/dist-packages (from ipython->jupyter_dash) (1.0.18)\n",
            "Requirement already satisfied: certifi>=2017.4.17 in /usr/local/lib/python3.6/dist-packages (from requests->jupyter_dash) (2020.6.20)\n",
            "Requirement already satisfied: idna<3,>=2.5 in /usr/local/lib/python3.6/dist-packages (from requests->jupyter_dash) (2.10)\n",
            "Requirement already satisfied: urllib3!=1.25.0,!=1.25.1,<1.26,>=1.21.1 in /usr/local/lib/python3.6/dist-packages (from requests->jupyter_dash) (1.24.3)\n",
            "Requirement already satisfied: chardet<4,>=3.0.2 in /usr/local/lib/python3.6/dist-packages (from requests->jupyter_dash) (3.0.4)\n",
            "Requirement already satisfied: MarkupSafe>=0.23 in /usr/local/lib/python3.6/dist-packages (from Jinja2>=2.10.1->Flask>=1.0.2->dash) (1.1.1)\n",
            "Requirement already satisfied: ipython-genutils in /usr/local/lib/python3.6/dist-packages (from traitlets>=4.1.0->ipykernel->jupyter_dash) (0.2.0)\n",
            "Requirement already satisfied: python-dateutil>=2.1 in /usr/local/lib/python3.6/dist-packages (from jupyter-client->ipykernel->jupyter_dash) (2.8.1)\n",
            "Requirement already satisfied: pyzmq>=13 in /usr/local/lib/python3.6/dist-packages (from jupyter-client->ipykernel->jupyter_dash) (19.0.2)\n",
            "Requirement already satisfied: jupyter-core>=4.6.0 in /usr/local/lib/python3.6/dist-packages (from jupyter-client->ipykernel->jupyter_dash) (4.6.3)\n",
            "Requirement already satisfied: ptyprocess>=0.5 in /usr/local/lib/python3.6/dist-packages (from pexpect; sys_platform != \"win32\"->ipython->jupyter_dash) (0.6.0)\n",
            "Requirement already satisfied: wcwidth in /usr/local/lib/python3.6/dist-packages (from prompt-toolkit<2.0.0,>=1.0.4->ipython->jupyter_dash) (0.2.5)\n",
            "Building wheels for collected packages: dash, flask-compress, dash-renderer, dash-core-components, dash-html-components, dash-table, ansi2html\n",
            "  Building wheel for dash (setup.py) ... \u001b[?25l\u001b[?25hdone\n",
            "  Created wheel for dash: filename=dash-1.14.0-cp36-none-any.whl size=80129 sha256=3cbe8d9b95d34c4954baf76b4740f83d3c1837af8a3d1033db2a46bba8b0feaa\n",
            "  Stored in directory: /root/.cache/pip/wheels/1d/54/0b/e846f762d47e8abc9234419822d013dfb2ccf957b48e411dc6\n",
            "  Building wheel for flask-compress (setup.py) ... \u001b[?25l\u001b[?25hdone\n",
            "  Created wheel for flask-compress: filename=Flask_Compress-1.5.0-cp36-none-any.whl size=5273 sha256=3a18efa29a55eaeba24533d0b8af35861c085743949f9aa28a4c4715897d1e1b\n",
            "  Stored in directory: /root/.cache/pip/wheels/f7/e9/e4/5afc286be7c87461375e33152558415dfeb0c8f5af3b50e742\n",
            "  Building wheel for dash-renderer (setup.py) ... \u001b[?25l\u001b[?25hdone\n",
            "  Created wheel for dash-renderer: filename=dash_renderer-1.6.0-cp36-none-any.whl size=1182221 sha256=4b72ade61058b3fc67735080af23538ad4e580411dd55113b8f4a47bb2575b91\n",
            "  Stored in directory: /root/.cache/pip/wheels/2a/de/21/8774fe1ae2271c4747c55c5bcd3e914302a7a6e55a77d866f2\n",
            "  Building wheel for dash-core-components (setup.py) ... \u001b[?25l\u001b[?25hdone\n",
            "  Created wheel for dash-core-components: filename=dash_core_components-1.10.2-cp36-none-any.whl size=3457324 sha256=e426035d00343bfa5a8ec303eb2907717ccca0a224cc6f78cefa7a25c60496ac\n",
            "  Stored in directory: /root/.cache/pip/wheels/2a/38/71/0c7e350a8280f6c94a2024a4d16ba905dd2a86ed2aa4a093e3\n",
            "  Building wheel for dash-html-components (setup.py) ... \u001b[?25l\u001b[?25hdone\n",
            "  Created wheel for dash-html-components: filename=dash_html_components-1.0.3-cp36-none-any.whl size=427303 sha256=856efc391abebf71de2df14ac6bfc7fb04adad51492ba7383ecfe8ca75798db0\n",
            "  Stored in directory: /root/.cache/pip/wheels/22/c0/79/ef4c2b20a23dc8457ae75c3da5f63163db213d86e13e00fe26\n",
            "  Building wheel for dash-table (setup.py) ... \u001b[?25l\u001b[?25hdone\n",
            "  Created wheel for dash-table: filename=dash_table-4.9.0-cp36-none-any.whl size=1780769 sha256=76e54575f58f6a236ce03e77a9e24a4897be81fd7ea7f03f8353bca70f78886a\n",
            "  Stored in directory: /root/.cache/pip/wheels/f6/99/e4/a3af0a6f2d07ace02dd25984c08294d2749818c38f44d55338\n",
            "  Building wheel for ansi2html (setup.py) ... \u001b[?25l\u001b[?25hdone\n",
            "  Created wheel for ansi2html: filename=ansi2html-1.5.2-cp36-none-any.whl size=13863 sha256=462d148f80e149e0184c00ff1f5ebc1ec629c5178f248281b35c1b15d9c97100\n",
            "  Stored in directory: /root/.cache/pip/wheels/f9/ea/e0/1ed3c3945ce073f930f3e5aa2b9bbadb03cd2efc8f8695cd61\n",
            "Successfully built dash flask-compress dash-renderer dash-core-components dash-html-components dash-table ansi2html\n",
            "Installing collected packages: brotli, flask-compress, dash-renderer, dash-core-components, dash-html-components, dash-table, dash, ansi2html, jupyter-dash\n",
            "Successfully installed ansi2html-1.5.2 brotli-1.0.7 dash-1.14.0 dash-core-components-1.10.2 dash-html-components-1.0.3 dash-renderer-1.6.0 dash-table-4.9.0 flask-compress-1.5.0 jupyter-dash-0.3.1\n",
            "Collecting plotly\n",
            "\u001b[?25l  Downloading https://files.pythonhosted.org/packages/bf/5f/47ab0d9d843c5be0f5c5bd891736a4c84fa45c3b0a0ddb6b6df7c098c66f/plotly-4.9.0-py2.py3-none-any.whl (12.9MB)\n",
            "\u001b[K     |████████████████████████████████| 12.9MB 321kB/s \n",
            "\u001b[?25hRequirement already satisfied, skipping upgrade: retrying>=1.3.3 in /usr/local/lib/python3.6/dist-packages (from plotly) (1.3.3)\n",
            "Requirement already satisfied, skipping upgrade: six in /usr/local/lib/python3.6/dist-packages (from plotly) (1.15.0)\n",
            "Installing collected packages: plotly\n",
            "  Found existing installation: plotly 4.4.1\n",
            "    Uninstalling plotly-4.4.1:\n",
            "      Successfully uninstalled plotly-4.4.1\n",
            "Successfully installed plotly-4.9.0\n"
          ],
          "name": "stdout"
        }
      ]
    },
    {
      "cell_type": "markdown",
      "metadata": {
        "id": "cpYZkUXg44g0",
        "colab_type": "text"
      },
      "source": [
        "pandasはテーブル形式のデータを簡単かつ直感的に操作できるように「データフレーム」というデータ構造を提供してくれるPythonパッケージです。\n",
        "\n",
        "下記では `s` がその「データフレーム」になります。"
      ]
    },
    {
      "cell_type": "code",
      "metadata": {
        "id": "UXdGhMLqUKRM",
        "colab_type": "code",
        "colab": {}
      },
      "source": [
        "import pandas as pd"
      ],
      "execution_count": 4,
      "outputs": []
    },
    {
      "cell_type": "code",
      "metadata": {
        "id": "irnQy76UVAQG",
        "colab_type": "code",
        "colab": {}
      },
      "source": [
        "s = pd.read_csv('/content/ippan_2009zensho_s/ippan_2009zensho_s_dataset.csv', encoding='shift_jis', header=8)"
      ],
      "execution_count": 5,
      "outputs": []
    },
    {
      "cell_type": "markdown",
      "metadata": {
        "id": "ZW6mlPWfXzWD",
        "colab_type": "text"
      },
      "source": [
        "## 課題3\n",
        "- `encoding` オプションを付けないと`s`がどうなるか確認しましょう\n",
        "- `header` オプションを付けないと`s`がどうなるか確認しましょう\n",
        "- `header` オプションの数値を変えると`s`がどうなるか確認しましょう\n",
        "- `skiprows` というオプションの効果も試してみましょう"
      ]
    },
    {
      "cell_type": "markdown",
      "metadata": {
        "id": "Ft6SfrYWSKlC",
        "colab_type": "text"
      },
      "source": [
        "## データフレームとは\n",
        "\n",
        "ここで `s` のデータ構造はデータフレームと呼ばれます。\n",
        "データフレームとはとりあえずテーブルデータを保持するためのデータ構造と考えていただけばOKです。\n",
        "`s`とだけ書いたセルをそのまま実行するとデータの内容を見ることができます。\n",
        "\n",
        "## 課題4\n",
        "\n",
        "- `ippan_2009zensho_s.xls` を Google Sheets で開いて、データ行列の定義を確認しましょう。"
      ]
    },
    {
      "cell_type": "code",
      "metadata": {
        "id": "MfNzhOd1VZsn",
        "colab_type": "code",
        "colab": {
          "base_uri": "https://localhost:8080/",
          "height": 439
        },
        "outputId": "060d6ea3-8345-4250-f6ac-93667c93301f"
      },
      "source": [
        "s"
      ],
      "execution_count": 6,
      "outputs": [
        {
          "output_type": "execute_result",
          "data": {
            "text/html": [
              "<div>\n",
              "<style scoped>\n",
              "    .dataframe tbody tr th:only-of-type {\n",
              "        vertical-align: middle;\n",
              "    }\n",
              "\n",
              "    .dataframe tbody tr th {\n",
              "        vertical-align: top;\n",
              "    }\n",
              "\n",
              "    .dataframe thead th {\n",
              "        text-align: right;\n",
              "    }\n",
              "</style>\n",
              "<table border=\"1\" class=\"dataframe\">\n",
              "  <thead>\n",
              "    <tr style=\"text-align: right;\">\n",
              "      <th></th>\n",
              "      <th>3City</th>\n",
              "      <th>T_SeJinin</th>\n",
              "      <th>T_SyuJinin</th>\n",
              "      <th>T_JuSyoyu</th>\n",
              "      <th>T_Syuhi</th>\n",
              "      <th>T_Age_5s</th>\n",
              "      <th>T_Age_65</th>\n",
              "      <th>Weight</th>\n",
              "      <th>Y_Income</th>\n",
              "      <th>L_Expenditure</th>\n",
              "      <th>Food</th>\n",
              "      <th>Housing</th>\n",
              "      <th>LFW</th>\n",
              "      <th>Furniture</th>\n",
              "      <th>Clothes</th>\n",
              "      <th>Health</th>\n",
              "      <th>Transport</th>\n",
              "      <th>Education</th>\n",
              "      <th>Recreation</th>\n",
              "      <th>OL_Expenditure</th>\n",
              "      <th>E001</th>\n",
              "      <th>E002</th>\n",
              "      <th>E003</th>\n",
              "      <th>E004</th>\n",
              "      <th>E005</th>\n",
              "      <th>E006</th>\n",
              "      <th>E007</th>\n",
              "      <th>E008</th>\n",
              "      <th>E009</th>\n",
              "      <th>E010</th>\n",
              "      <th>E011</th>\n",
              "      <th>E012</th>\n",
              "      <th>E013</th>\n",
              "      <th>E014</th>\n",
              "      <th>E015</th>\n",
              "      <th>E016</th>\n",
              "      <th>E017</th>\n",
              "      <th>E018</th>\n",
              "      <th>E019</th>\n",
              "      <th>E020</th>\n",
              "      <th>...</th>\n",
              "      <th>E371</th>\n",
              "      <th>E372</th>\n",
              "      <th>E373</th>\n",
              "      <th>E374</th>\n",
              "      <th>E375</th>\n",
              "      <th>E376</th>\n",
              "      <th>E377</th>\n",
              "      <th>E378</th>\n",
              "      <th>E379</th>\n",
              "      <th>E380</th>\n",
              "      <th>E381</th>\n",
              "      <th>E382</th>\n",
              "      <th>E383</th>\n",
              "      <th>E384</th>\n",
              "      <th>E385</th>\n",
              "      <th>E386</th>\n",
              "      <th>E387</th>\n",
              "      <th>E388</th>\n",
              "      <th>E389</th>\n",
              "      <th>E390</th>\n",
              "      <th>E391</th>\n",
              "      <th>E392</th>\n",
              "      <th>E393</th>\n",
              "      <th>E394</th>\n",
              "      <th>E395</th>\n",
              "      <th>E396</th>\n",
              "      <th>E397</th>\n",
              "      <th>E398</th>\n",
              "      <th>E399</th>\n",
              "      <th>E400</th>\n",
              "      <th>E401</th>\n",
              "      <th>E402</th>\n",
              "      <th>E403</th>\n",
              "      <th>E404</th>\n",
              "      <th>E405</th>\n",
              "      <th>E406</th>\n",
              "      <th>E407</th>\n",
              "      <th>E408</th>\n",
              "      <th>E409</th>\n",
              "      <th>E410</th>\n",
              "    </tr>\n",
              "  </thead>\n",
              "  <tbody>\n",
              "    <tr>\n",
              "      <th>0</th>\n",
              "      <td>1</td>\n",
              "      <td>2</td>\n",
              "      <td>1</td>\n",
              "      <td>1</td>\n",
              "      <td>1</td>\n",
              "      <td>1</td>\n",
              "      <td>1</td>\n",
              "      <td>895.266667</td>\n",
              "      <td>3917</td>\n",
              "      <td>201649</td>\n",
              "      <td>47756</td>\n",
              "      <td>16028</td>\n",
              "      <td>9652</td>\n",
              "      <td>6702</td>\n",
              "      <td>8088</td>\n",
              "      <td>726</td>\n",
              "      <td>21546</td>\n",
              "      <td>0</td>\n",
              "      <td>14433</td>\n",
              "      <td>76719</td>\n",
              "      <td>47756</td>\n",
              "      <td>4574</td>\n",
              "      <td>1728</td>\n",
              "      <td>1557</td>\n",
              "      <td>1027</td>\n",
              "      <td>262</td>\n",
              "      <td>3450</td>\n",
              "      <td>2070</td>\n",
              "      <td>555</td>\n",
              "      <td>393</td>\n",
              "      <td>432</td>\n",
              "      <td>3722</td>\n",
              "      <td>2882</td>\n",
              "      <td>785</td>\n",
              "      <td>1286</td>\n",
              "      <td>621</td>\n",
              "      <td>64</td>\n",
              "      <td>126</td>\n",
              "      <td>840</td>\n",
              "      <td>636</td>\n",
              "      <td>...</td>\n",
              "      <td>1320</td>\n",
              "      <td>2186</td>\n",
              "      <td>6448</td>\n",
              "      <td>138</td>\n",
              "      <td>512</td>\n",
              "      <td>535</td>\n",
              "      <td>582</td>\n",
              "      <td>277</td>\n",
              "      <td>4404</td>\n",
              "      <td>2885</td>\n",
              "      <td>65</td>\n",
              "      <td>939</td>\n",
              "      <td>1089</td>\n",
              "      <td>224</td>\n",
              "      <td>538</td>\n",
              "      <td>31</td>\n",
              "      <td>2240</td>\n",
              "      <td>18347</td>\n",
              "      <td>1185</td>\n",
              "      <td>57</td>\n",
              "      <td>5425</td>\n",
              "      <td>244</td>\n",
              "      <td>284</td>\n",
              "      <td>9490</td>\n",
              "      <td>231</td>\n",
              "      <td>95</td>\n",
              "      <td>182</td>\n",
              "      <td>1154</td>\n",
              "      <td>17820</td>\n",
              "      <td>15248</td>\n",
              "      <td>2572</td>\n",
              "      <td>24149</td>\n",
              "      <td>19000</td>\n",
              "      <td>5149</td>\n",
              "      <td>417</td>\n",
              "      <td>3591</td>\n",
              "      <td>1141</td>\n",
              "      <td>576</td>\n",
              "      <td>186</td>\n",
              "      <td>390</td>\n",
              "    </tr>\n",
              "    <tr>\n",
              "      <th>1</th>\n",
              "      <td>1</td>\n",
              "      <td>2</td>\n",
              "      <td>1</td>\n",
              "      <td>1</td>\n",
              "      <td>1</td>\n",
              "      <td>1</td>\n",
              "      <td>1</td>\n",
              "      <td>895.266667</td>\n",
              "      <td>6675</td>\n",
              "      <td>166381</td>\n",
              "      <td>34054</td>\n",
              "      <td>7416</td>\n",
              "      <td>26313</td>\n",
              "      <td>17062</td>\n",
              "      <td>6989</td>\n",
              "      <td>7637</td>\n",
              "      <td>20773</td>\n",
              "      <td>0</td>\n",
              "      <td>19048</td>\n",
              "      <td>27089</td>\n",
              "      <td>34054</td>\n",
              "      <td>2813</td>\n",
              "      <td>1019</td>\n",
              "      <td>1050</td>\n",
              "      <td>489</td>\n",
              "      <td>254</td>\n",
              "      <td>1863</td>\n",
              "      <td>905</td>\n",
              "      <td>564</td>\n",
              "      <td>132</td>\n",
              "      <td>261</td>\n",
              "      <td>2432</td>\n",
              "      <td>2112</td>\n",
              "      <td>632</td>\n",
              "      <td>621</td>\n",
              "      <td>697</td>\n",
              "      <td>23</td>\n",
              "      <td>139</td>\n",
              "      <td>320</td>\n",
              "      <td>203</td>\n",
              "      <td>...</td>\n",
              "      <td>231</td>\n",
              "      <td>668</td>\n",
              "      <td>1677</td>\n",
              "      <td>21</td>\n",
              "      <td>258</td>\n",
              "      <td>100</td>\n",
              "      <td>78</td>\n",
              "      <td>38</td>\n",
              "      <td>1182</td>\n",
              "      <td>1581</td>\n",
              "      <td>26</td>\n",
              "      <td>899</td>\n",
              "      <td>189</td>\n",
              "      <td>161</td>\n",
              "      <td>291</td>\n",
              "      <td>14</td>\n",
              "      <td>656</td>\n",
              "      <td>5794</td>\n",
              "      <td>229</td>\n",
              "      <td>10</td>\n",
              "      <td>3980</td>\n",
              "      <td>49</td>\n",
              "      <td>96</td>\n",
              "      <td>804</td>\n",
              "      <td>96</td>\n",
              "      <td>32</td>\n",
              "      <td>95</td>\n",
              "      <td>404</td>\n",
              "      <td>7335</td>\n",
              "      <td>6811</td>\n",
              "      <td>523</td>\n",
              "      <td>8710</td>\n",
              "      <td>7687</td>\n",
              "      <td>1023</td>\n",
              "      <td>239</td>\n",
              "      <td>437</td>\n",
              "      <td>348</td>\n",
              "      <td>282</td>\n",
              "      <td>94</td>\n",
              "      <td>188</td>\n",
              "    </tr>\n",
              "    <tr>\n",
              "      <th>2</th>\n",
              "      <td>1</td>\n",
              "      <td>2</td>\n",
              "      <td>1</td>\n",
              "      <td>1</td>\n",
              "      <td>1</td>\n",
              "      <td>1</td>\n",
              "      <td>1</td>\n",
              "      <td>895.266667</td>\n",
              "      <td>6706</td>\n",
              "      <td>259736</td>\n",
              "      <td>84501</td>\n",
              "      <td>1927</td>\n",
              "      <td>10082</td>\n",
              "      <td>6741</td>\n",
              "      <td>5090</td>\n",
              "      <td>11015</td>\n",
              "      <td>53372</td>\n",
              "      <td>0</td>\n",
              "      <td>17289</td>\n",
              "      <td>69719</td>\n",
              "      <td>84501</td>\n",
              "      <td>5004</td>\n",
              "      <td>657</td>\n",
              "      <td>1122</td>\n",
              "      <td>3067</td>\n",
              "      <td>158</td>\n",
              "      <td>7010</td>\n",
              "      <td>4216</td>\n",
              "      <td>718</td>\n",
              "      <td>836</td>\n",
              "      <td>1239</td>\n",
              "      <td>7742</td>\n",
              "      <td>5284</td>\n",
              "      <td>3382</td>\n",
              "      <td>1136</td>\n",
              "      <td>628</td>\n",
              "      <td>43</td>\n",
              "      <td>95</td>\n",
              "      <td>2458</td>\n",
              "      <td>2248</td>\n",
              "      <td>...</td>\n",
              "      <td>4942</td>\n",
              "      <td>3637</td>\n",
              "      <td>8037</td>\n",
              "      <td>190</td>\n",
              "      <td>1210</td>\n",
              "      <td>1606</td>\n",
              "      <td>423</td>\n",
              "      <td>557</td>\n",
              "      <td>4050</td>\n",
              "      <td>8032</td>\n",
              "      <td>124</td>\n",
              "      <td>3204</td>\n",
              "      <td>3350</td>\n",
              "      <td>316</td>\n",
              "      <td>1007</td>\n",
              "      <td>30</td>\n",
              "      <td>1096</td>\n",
              "      <td>20994</td>\n",
              "      <td>1447</td>\n",
              "      <td>40</td>\n",
              "      <td>4398</td>\n",
              "      <td>497</td>\n",
              "      <td>258</td>\n",
              "      <td>9418</td>\n",
              "      <td>295</td>\n",
              "      <td>75</td>\n",
              "      <td>121</td>\n",
              "      <td>4445</td>\n",
              "      <td>9115</td>\n",
              "      <td>8095</td>\n",
              "      <td>1021</td>\n",
              "      <td>11933</td>\n",
              "      <td>7405</td>\n",
              "      <td>4529</td>\n",
              "      <td>1166</td>\n",
              "      <td>2705</td>\n",
              "      <td>658</td>\n",
              "      <td>429</td>\n",
              "      <td>183</td>\n",
              "      <td>246</td>\n",
              "    </tr>\n",
              "    <tr>\n",
              "      <th>3</th>\n",
              "      <td>1</td>\n",
              "      <td>2</td>\n",
              "      <td>1</td>\n",
              "      <td>1</td>\n",
              "      <td>1</td>\n",
              "      <td>1</td>\n",
              "      <td>1</td>\n",
              "      <td>895.266667</td>\n",
              "      <td>2790</td>\n",
              "      <td>114511</td>\n",
              "      <td>41664</td>\n",
              "      <td>730</td>\n",
              "      <td>22358</td>\n",
              "      <td>5413</td>\n",
              "      <td>1205</td>\n",
              "      <td>5049</td>\n",
              "      <td>17411</td>\n",
              "      <td>0</td>\n",
              "      <td>8605</td>\n",
              "      <td>12077</td>\n",
              "      <td>41664</td>\n",
              "      <td>4372</td>\n",
              "      <td>1785</td>\n",
              "      <td>1474</td>\n",
              "      <td>910</td>\n",
              "      <td>202</td>\n",
              "      <td>3680</td>\n",
              "      <td>2713</td>\n",
              "      <td>363</td>\n",
              "      <td>255</td>\n",
              "      <td>349</td>\n",
              "      <td>3093</td>\n",
              "      <td>2512</td>\n",
              "      <td>925</td>\n",
              "      <td>828</td>\n",
              "      <td>565</td>\n",
              "      <td>45</td>\n",
              "      <td>149</td>\n",
              "      <td>581</td>\n",
              "      <td>383</td>\n",
              "      <td>...</td>\n",
              "      <td>306</td>\n",
              "      <td>113</td>\n",
              "      <td>2073</td>\n",
              "      <td>36</td>\n",
              "      <td>116</td>\n",
              "      <td>202</td>\n",
              "      <td>109</td>\n",
              "      <td>56</td>\n",
              "      <td>1554</td>\n",
              "      <td>487</td>\n",
              "      <td>18</td>\n",
              "      <td>116</td>\n",
              "      <td>147</td>\n",
              "      <td>45</td>\n",
              "      <td>146</td>\n",
              "      <td>14</td>\n",
              "      <td>182</td>\n",
              "      <td>1661</td>\n",
              "      <td>45</td>\n",
              "      <td>3</td>\n",
              "      <td>157</td>\n",
              "      <td>349</td>\n",
              "      <td>63</td>\n",
              "      <td>667</td>\n",
              "      <td>34</td>\n",
              "      <td>6</td>\n",
              "      <td>24</td>\n",
              "      <td>314</td>\n",
              "      <td>2692</td>\n",
              "      <td>2291</td>\n",
              "      <td>401</td>\n",
              "      <td>4136</td>\n",
              "      <td>2644</td>\n",
              "      <td>1492</td>\n",
              "      <td>69</td>\n",
              "      <td>977</td>\n",
              "      <td>445</td>\n",
              "      <td>205</td>\n",
              "      <td>55</td>\n",
              "      <td>151</td>\n",
              "    </tr>\n",
              "    <tr>\n",
              "      <th>4</th>\n",
              "      <td>1</td>\n",
              "      <td>2</td>\n",
              "      <td>1</td>\n",
              "      <td>1</td>\n",
              "      <td>1</td>\n",
              "      <td>1</td>\n",
              "      <td>1</td>\n",
              "      <td>895.266667</td>\n",
              "      <td>2577</td>\n",
              "      <td>193505</td>\n",
              "      <td>56981</td>\n",
              "      <td>3779</td>\n",
              "      <td>28747</td>\n",
              "      <td>4812</td>\n",
              "      <td>4243</td>\n",
              "      <td>751</td>\n",
              "      <td>16435</td>\n",
              "      <td>0</td>\n",
              "      <td>38231</td>\n",
              "      <td>39527</td>\n",
              "      <td>56981</td>\n",
              "      <td>4957</td>\n",
              "      <td>1463</td>\n",
              "      <td>1463</td>\n",
              "      <td>1763</td>\n",
              "      <td>268</td>\n",
              "      <td>4712</td>\n",
              "      <td>3181</td>\n",
              "      <td>558</td>\n",
              "      <td>413</td>\n",
              "      <td>560</td>\n",
              "      <td>4644</td>\n",
              "      <td>3726</td>\n",
              "      <td>1310</td>\n",
              "      <td>1682</td>\n",
              "      <td>518</td>\n",
              "      <td>87</td>\n",
              "      <td>129</td>\n",
              "      <td>919</td>\n",
              "      <td>637</td>\n",
              "      <td>...</td>\n",
              "      <td>842</td>\n",
              "      <td>699</td>\n",
              "      <td>7654</td>\n",
              "      <td>46</td>\n",
              "      <td>160</td>\n",
              "      <td>131</td>\n",
              "      <td>612</td>\n",
              "      <td>93</td>\n",
              "      <td>6613</td>\n",
              "      <td>1780</td>\n",
              "      <td>7</td>\n",
              "      <td>643</td>\n",
              "      <td>870</td>\n",
              "      <td>170</td>\n",
              "      <td>82</td>\n",
              "      <td>8</td>\n",
              "      <td>1116</td>\n",
              "      <td>4768</td>\n",
              "      <td>280</td>\n",
              "      <td>22</td>\n",
              "      <td>2000</td>\n",
              "      <td>164</td>\n",
              "      <td>50</td>\n",
              "      <td>1347</td>\n",
              "      <td>17</td>\n",
              "      <td>96</td>\n",
              "      <td>133</td>\n",
              "      <td>660</td>\n",
              "      <td>5131</td>\n",
              "      <td>3859</td>\n",
              "      <td>1272</td>\n",
              "      <td>16907</td>\n",
              "      <td>4840</td>\n",
              "      <td>12068</td>\n",
              "      <td>699</td>\n",
              "      <td>10940</td>\n",
              "      <td>428</td>\n",
              "      <td>445</td>\n",
              "      <td>138</td>\n",
              "      <td>307</td>\n",
              "    </tr>\n",
              "    <tr>\n",
              "      <th>...</th>\n",
              "      <td>...</td>\n",
              "      <td>...</td>\n",
              "      <td>...</td>\n",
              "      <td>...</td>\n",
              "      <td>...</td>\n",
              "      <td>...</td>\n",
              "      <td>...</td>\n",
              "      <td>...</td>\n",
              "      <td>...</td>\n",
              "      <td>...</td>\n",
              "      <td>...</td>\n",
              "      <td>...</td>\n",
              "      <td>...</td>\n",
              "      <td>...</td>\n",
              "      <td>...</td>\n",
              "      <td>...</td>\n",
              "      <td>...</td>\n",
              "      <td>...</td>\n",
              "      <td>...</td>\n",
              "      <td>...</td>\n",
              "      <td>...</td>\n",
              "      <td>...</td>\n",
              "      <td>...</td>\n",
              "      <td>...</td>\n",
              "      <td>...</td>\n",
              "      <td>...</td>\n",
              "      <td>...</td>\n",
              "      <td>...</td>\n",
              "      <td>...</td>\n",
              "      <td>...</td>\n",
              "      <td>...</td>\n",
              "      <td>...</td>\n",
              "      <td>...</td>\n",
              "      <td>...</td>\n",
              "      <td>...</td>\n",
              "      <td>...</td>\n",
              "      <td>...</td>\n",
              "      <td>...</td>\n",
              "      <td>...</td>\n",
              "      <td>...</td>\n",
              "      <td>...</td>\n",
              "      <td>...</td>\n",
              "      <td>...</td>\n",
              "      <td>...</td>\n",
              "      <td>...</td>\n",
              "      <td>...</td>\n",
              "      <td>...</td>\n",
              "      <td>...</td>\n",
              "      <td>...</td>\n",
              "      <td>...</td>\n",
              "      <td>...</td>\n",
              "      <td>...</td>\n",
              "      <td>...</td>\n",
              "      <td>...</td>\n",
              "      <td>...</td>\n",
              "      <td>...</td>\n",
              "      <td>...</td>\n",
              "      <td>...</td>\n",
              "      <td>...</td>\n",
              "      <td>...</td>\n",
              "      <td>...</td>\n",
              "      <td>...</td>\n",
              "      <td>...</td>\n",
              "      <td>...</td>\n",
              "      <td>...</td>\n",
              "      <td>...</td>\n",
              "      <td>...</td>\n",
              "      <td>...</td>\n",
              "      <td>...</td>\n",
              "      <td>...</td>\n",
              "      <td>...</td>\n",
              "      <td>...</td>\n",
              "      <td>...</td>\n",
              "      <td>...</td>\n",
              "      <td>...</td>\n",
              "      <td>...</td>\n",
              "      <td>...</td>\n",
              "      <td>...</td>\n",
              "      <td>...</td>\n",
              "      <td>...</td>\n",
              "      <td>...</td>\n",
              "    </tr>\n",
              "    <tr>\n",
              "      <th>45806</th>\n",
              "      <td>0</td>\n",
              "      <td>3</td>\n",
              "      <td>2</td>\n",
              "      <td>2</td>\n",
              "      <td>2</td>\n",
              "      <td>0</td>\n",
              "      <td>2</td>\n",
              "      <td>552.266667</td>\n",
              "      <td>4398</td>\n",
              "      <td>216774</td>\n",
              "      <td>46169</td>\n",
              "      <td>39809</td>\n",
              "      <td>32508</td>\n",
              "      <td>2896</td>\n",
              "      <td>4203</td>\n",
              "      <td>18778</td>\n",
              "      <td>21739</td>\n",
              "      <td>30</td>\n",
              "      <td>4315</td>\n",
              "      <td>46326</td>\n",
              "      <td>46169</td>\n",
              "      <td>5207</td>\n",
              "      <td>2668</td>\n",
              "      <td>1391</td>\n",
              "      <td>913</td>\n",
              "      <td>235</td>\n",
              "      <td>4929</td>\n",
              "      <td>3086</td>\n",
              "      <td>810</td>\n",
              "      <td>515</td>\n",
              "      <td>518</td>\n",
              "      <td>3851</td>\n",
              "      <td>3055</td>\n",
              "      <td>1001</td>\n",
              "      <td>1263</td>\n",
              "      <td>607</td>\n",
              "      <td>64</td>\n",
              "      <td>119</td>\n",
              "      <td>797</td>\n",
              "      <td>604</td>\n",
              "      <td>...</td>\n",
              "      <td>1022</td>\n",
              "      <td>1163</td>\n",
              "      <td>3508</td>\n",
              "      <td>82</td>\n",
              "      <td>243</td>\n",
              "      <td>280</td>\n",
              "      <td>362</td>\n",
              "      <td>165</td>\n",
              "      <td>2376</td>\n",
              "      <td>1196</td>\n",
              "      <td>40</td>\n",
              "      <td>576</td>\n",
              "      <td>276</td>\n",
              "      <td>67</td>\n",
              "      <td>193</td>\n",
              "      <td>45</td>\n",
              "      <td>1122</td>\n",
              "      <td>12331</td>\n",
              "      <td>1560</td>\n",
              "      <td>291</td>\n",
              "      <td>728</td>\n",
              "      <td>1149</td>\n",
              "      <td>292</td>\n",
              "      <td>6481</td>\n",
              "      <td>243</td>\n",
              "      <td>48</td>\n",
              "      <td>904</td>\n",
              "      <td>634</td>\n",
              "      <td>10563</td>\n",
              "      <td>7368</td>\n",
              "      <td>3194</td>\n",
              "      <td>12858</td>\n",
              "      <td>10883</td>\n",
              "      <td>1975</td>\n",
              "      <td>175</td>\n",
              "      <td>1076</td>\n",
              "      <td>724</td>\n",
              "      <td>1817</td>\n",
              "      <td>957</td>\n",
              "      <td>860</td>\n",
              "    </tr>\n",
              "    <tr>\n",
              "      <th>45807</th>\n",
              "      <td>0</td>\n",
              "      <td>3</td>\n",
              "      <td>2</td>\n",
              "      <td>2</td>\n",
              "      <td>2</td>\n",
              "      <td>0</td>\n",
              "      <td>2</td>\n",
              "      <td>552.266667</td>\n",
              "      <td>4844</td>\n",
              "      <td>165978</td>\n",
              "      <td>52670</td>\n",
              "      <td>37839</td>\n",
              "      <td>25403</td>\n",
              "      <td>3532</td>\n",
              "      <td>2293</td>\n",
              "      <td>7016</td>\n",
              "      <td>5022</td>\n",
              "      <td>8</td>\n",
              "      <td>12656</td>\n",
              "      <td>19540</td>\n",
              "      <td>52670</td>\n",
              "      <td>5932</td>\n",
              "      <td>3008</td>\n",
              "      <td>1602</td>\n",
              "      <td>1051</td>\n",
              "      <td>271</td>\n",
              "      <td>5653</td>\n",
              "      <td>3556</td>\n",
              "      <td>927</td>\n",
              "      <td>578</td>\n",
              "      <td>593</td>\n",
              "      <td>4410</td>\n",
              "      <td>3527</td>\n",
              "      <td>1164</td>\n",
              "      <td>1477</td>\n",
              "      <td>680</td>\n",
              "      <td>71</td>\n",
              "      <td>134</td>\n",
              "      <td>883</td>\n",
              "      <td>669</td>\n",
              "      <td>...</td>\n",
              "      <td>408</td>\n",
              "      <td>335</td>\n",
              "      <td>1003</td>\n",
              "      <td>43</td>\n",
              "      <td>200</td>\n",
              "      <td>128</td>\n",
              "      <td>150</td>\n",
              "      <td>76</td>\n",
              "      <td>406</td>\n",
              "      <td>527</td>\n",
              "      <td>19</td>\n",
              "      <td>231</td>\n",
              "      <td>172</td>\n",
              "      <td>20</td>\n",
              "      <td>68</td>\n",
              "      <td>16</td>\n",
              "      <td>516</td>\n",
              "      <td>3927</td>\n",
              "      <td>727</td>\n",
              "      <td>82</td>\n",
              "      <td>125</td>\n",
              "      <td>888</td>\n",
              "      <td>81</td>\n",
              "      <td>1493</td>\n",
              "      <td>115</td>\n",
              "      <td>18</td>\n",
              "      <td>191</td>\n",
              "      <td>208</td>\n",
              "      <td>6634</td>\n",
              "      <td>5082</td>\n",
              "      <td>1552</td>\n",
              "      <td>5104</td>\n",
              "      <td>4120</td>\n",
              "      <td>984</td>\n",
              "      <td>89</td>\n",
              "      <td>523</td>\n",
              "      <td>372</td>\n",
              "      <td>769</td>\n",
              "      <td>363</td>\n",
              "      <td>406</td>\n",
              "    </tr>\n",
              "    <tr>\n",
              "      <th>45808</th>\n",
              "      <td>0</td>\n",
              "      <td>3</td>\n",
              "      <td>2</td>\n",
              "      <td>2</td>\n",
              "      <td>2</td>\n",
              "      <td>0</td>\n",
              "      <td>2</td>\n",
              "      <td>552.266667</td>\n",
              "      <td>4630</td>\n",
              "      <td>244064</td>\n",
              "      <td>53784</td>\n",
              "      <td>76871</td>\n",
              "      <td>18196</td>\n",
              "      <td>17747</td>\n",
              "      <td>3308</td>\n",
              "      <td>13499</td>\n",
              "      <td>27705</td>\n",
              "      <td>25</td>\n",
              "      <td>4309</td>\n",
              "      <td>28619</td>\n",
              "      <td>53784</td>\n",
              "      <td>6033</td>\n",
              "      <td>3086</td>\n",
              "      <td>1614</td>\n",
              "      <td>1052</td>\n",
              "      <td>280</td>\n",
              "      <td>5761</td>\n",
              "      <td>3633</td>\n",
              "      <td>932</td>\n",
              "      <td>596</td>\n",
              "      <td>599</td>\n",
              "      <td>4503</td>\n",
              "      <td>3581</td>\n",
              "      <td>1184</td>\n",
              "      <td>1485</td>\n",
              "      <td>700</td>\n",
              "      <td>75</td>\n",
              "      <td>138</td>\n",
              "      <td>922</td>\n",
              "      <td>707</td>\n",
              "      <td>...</td>\n",
              "      <td>626</td>\n",
              "      <td>757</td>\n",
              "      <td>2547</td>\n",
              "      <td>41</td>\n",
              "      <td>121</td>\n",
              "      <td>227</td>\n",
              "      <td>423</td>\n",
              "      <td>104</td>\n",
              "      <td>1630</td>\n",
              "      <td>936</td>\n",
              "      <td>26</td>\n",
              "      <td>282</td>\n",
              "      <td>295</td>\n",
              "      <td>38</td>\n",
              "      <td>266</td>\n",
              "      <td>29</td>\n",
              "      <td>402</td>\n",
              "      <td>6524</td>\n",
              "      <td>847</td>\n",
              "      <td>117</td>\n",
              "      <td>300</td>\n",
              "      <td>812</td>\n",
              "      <td>186</td>\n",
              "      <td>3022</td>\n",
              "      <td>187</td>\n",
              "      <td>38</td>\n",
              "      <td>608</td>\n",
              "      <td>408</td>\n",
              "      <td>6198</td>\n",
              "      <td>3433</td>\n",
              "      <td>2765</td>\n",
              "      <td>8804</td>\n",
              "      <td>7553</td>\n",
              "      <td>1251</td>\n",
              "      <td>190</td>\n",
              "      <td>699</td>\n",
              "      <td>362</td>\n",
              "      <td>1431</td>\n",
              "      <td>973</td>\n",
              "      <td>457</td>\n",
              "    </tr>\n",
              "    <tr>\n",
              "      <th>45809</th>\n",
              "      <td>0</td>\n",
              "      <td>3</td>\n",
              "      <td>2</td>\n",
              "      <td>2</td>\n",
              "      <td>2</td>\n",
              "      <td>0</td>\n",
              "      <td>2</td>\n",
              "      <td>552.266667</td>\n",
              "      <td>6738</td>\n",
              "      <td>399003</td>\n",
              "      <td>123080</td>\n",
              "      <td>38810</td>\n",
              "      <td>19711</td>\n",
              "      <td>2816</td>\n",
              "      <td>5666</td>\n",
              "      <td>21831</td>\n",
              "      <td>23914</td>\n",
              "      <td>28</td>\n",
              "      <td>58844</td>\n",
              "      <td>104302</td>\n",
              "      <td>123080</td>\n",
              "      <td>13423</td>\n",
              "      <td>6772</td>\n",
              "      <td>3770</td>\n",
              "      <td>2247</td>\n",
              "      <td>634</td>\n",
              "      <td>13315</td>\n",
              "      <td>8362</td>\n",
              "      <td>2196</td>\n",
              "      <td>1353</td>\n",
              "      <td>1405</td>\n",
              "      <td>10379</td>\n",
              "      <td>8271</td>\n",
              "      <td>2713</td>\n",
              "      <td>3424</td>\n",
              "      <td>1644</td>\n",
              "      <td>174</td>\n",
              "      <td>316</td>\n",
              "      <td>2108</td>\n",
              "      <td>1603</td>\n",
              "      <td>...</td>\n",
              "      <td>2179</td>\n",
              "      <td>2480</td>\n",
              "      <td>7502</td>\n",
              "      <td>198</td>\n",
              "      <td>515</td>\n",
              "      <td>597</td>\n",
              "      <td>772</td>\n",
              "      <td>353</td>\n",
              "      <td>5066</td>\n",
              "      <td>2641</td>\n",
              "      <td>85</td>\n",
              "      <td>1228</td>\n",
              "      <td>606</td>\n",
              "      <td>119</td>\n",
              "      <td>508</td>\n",
              "      <td>95</td>\n",
              "      <td>2025</td>\n",
              "      <td>26762</td>\n",
              "      <td>3328</td>\n",
              "      <td>817</td>\n",
              "      <td>1364</td>\n",
              "      <td>3160</td>\n",
              "      <td>624</td>\n",
              "      <td>13367</td>\n",
              "      <td>517</td>\n",
              "      <td>102</td>\n",
              "      <td>1928</td>\n",
              "      <td>1554</td>\n",
              "      <td>27466</td>\n",
              "      <td>16321</td>\n",
              "      <td>11145</td>\n",
              "      <td>27540</td>\n",
              "      <td>23209</td>\n",
              "      <td>4331</td>\n",
              "      <td>373</td>\n",
              "      <td>2395</td>\n",
              "      <td>1562</td>\n",
              "      <td>4129</td>\n",
              "      <td>2041</td>\n",
              "      <td>2088</td>\n",
              "    </tr>\n",
              "    <tr>\n",
              "      <th>45810</th>\n",
              "      <td>0</td>\n",
              "      <td>3</td>\n",
              "      <td>2</td>\n",
              "      <td>2</td>\n",
              "      <td>2</td>\n",
              "      <td>0</td>\n",
              "      <td>2</td>\n",
              "      <td>552.266667</td>\n",
              "      <td>2408</td>\n",
              "      <td>190991</td>\n",
              "      <td>35920</td>\n",
              "      <td>63986</td>\n",
              "      <td>12907</td>\n",
              "      <td>4212</td>\n",
              "      <td>4035</td>\n",
              "      <td>14035</td>\n",
              "      <td>10221</td>\n",
              "      <td>3</td>\n",
              "      <td>14536</td>\n",
              "      <td>31135</td>\n",
              "      <td>35920</td>\n",
              "      <td>4172</td>\n",
              "      <td>2034</td>\n",
              "      <td>1145</td>\n",
              "      <td>810</td>\n",
              "      <td>184</td>\n",
              "      <td>3737</td>\n",
              "      <td>2339</td>\n",
              "      <td>614</td>\n",
              "      <td>390</td>\n",
              "      <td>393</td>\n",
              "      <td>2953</td>\n",
              "      <td>2355</td>\n",
              "      <td>759</td>\n",
              "      <td>963</td>\n",
              "      <td>470</td>\n",
              "      <td>49</td>\n",
              "      <td>115</td>\n",
              "      <td>598</td>\n",
              "      <td>448</td>\n",
              "      <td>...</td>\n",
              "      <td>731</td>\n",
              "      <td>832</td>\n",
              "      <td>2407</td>\n",
              "      <td>54</td>\n",
              "      <td>165</td>\n",
              "      <td>200</td>\n",
              "      <td>265</td>\n",
              "      <td>118</td>\n",
              "      <td>1604</td>\n",
              "      <td>699</td>\n",
              "      <td>28</td>\n",
              "      <td>262</td>\n",
              "      <td>202</td>\n",
              "      <td>43</td>\n",
              "      <td>138</td>\n",
              "      <td>25</td>\n",
              "      <td>1381</td>\n",
              "      <td>8568</td>\n",
              "      <td>1232</td>\n",
              "      <td>140</td>\n",
              "      <td>483</td>\n",
              "      <td>927</td>\n",
              "      <td>227</td>\n",
              "      <td>4155</td>\n",
              "      <td>174</td>\n",
              "      <td>34</td>\n",
              "      <td>647</td>\n",
              "      <td>550</td>\n",
              "      <td>5390</td>\n",
              "      <td>3452</td>\n",
              "      <td>1937</td>\n",
              "      <td>9198</td>\n",
              "      <td>7785</td>\n",
              "      <td>1413</td>\n",
              "      <td>125</td>\n",
              "      <td>769</td>\n",
              "      <td>518</td>\n",
              "      <td>1395</td>\n",
              "      <td>685</td>\n",
              "      <td>710</td>\n",
              "    </tr>\n",
              "  </tbody>\n",
              "</table>\n",
              "<p>45811 rows × 430 columns</p>\n",
              "</div>"
            ],
            "text/plain": [
              "       3City  T_SeJinin  T_SyuJinin  T_JuSyoyu  ...  E407  E408  E409  E410\n",
              "0          1          2           1          1  ...  1141   576   186   390\n",
              "1          1          2           1          1  ...   348   282    94   188\n",
              "2          1          2           1          1  ...   658   429   183   246\n",
              "3          1          2           1          1  ...   445   205    55   151\n",
              "4          1          2           1          1  ...   428   445   138   307\n",
              "...      ...        ...         ...        ...  ...   ...   ...   ...   ...\n",
              "45806      0          3           2          2  ...   724  1817   957   860\n",
              "45807      0          3           2          2  ...   372   769   363   406\n",
              "45808      0          3           2          2  ...   362  1431   973   457\n",
              "45809      0          3           2          2  ...  1562  4129  2041  2088\n",
              "45810      0          3           2          2  ...   518  1395   685   710\n",
              "\n",
              "[45811 rows x 430 columns]"
            ]
          },
          "metadata": {
            "tags": []
          },
          "execution_count": 6
        }
      ]
    },
    {
      "cell_type": "markdown",
      "metadata": {
        "id": "aZ1VWlNoT3wY",
        "colab_type": "text"
      },
      "source": [
        "## データフレームの列の選択\n",
        "\n",
        "`s` のうち `OL_Expenditure`までの列を選択し、細かい分類の支出情報の列を取り除いてみましょう。\n",
        "そのためにはデータフレームの `loc` メソッドを使います。"
      ]
    },
    {
      "cell_type": "code",
      "metadata": {
        "id": "ZNi7Qib_VfLs",
        "colab_type": "code",
        "colab": {
          "base_uri": "https://localhost:8080/",
          "height": 419
        },
        "outputId": "e4991432-0fa2-4d53-a0d0-b65e870204e0"
      },
      "source": [
        "data = s.loc[:, :'OL_Expenditure']\n",
        "data"
      ],
      "execution_count": 7,
      "outputs": [
        {
          "output_type": "execute_result",
          "data": {
            "text/html": [
              "<div>\n",
              "<style scoped>\n",
              "    .dataframe tbody tr th:only-of-type {\n",
              "        vertical-align: middle;\n",
              "    }\n",
              "\n",
              "    .dataframe tbody tr th {\n",
              "        vertical-align: top;\n",
              "    }\n",
              "\n",
              "    .dataframe thead th {\n",
              "        text-align: right;\n",
              "    }\n",
              "</style>\n",
              "<table border=\"1\" class=\"dataframe\">\n",
              "  <thead>\n",
              "    <tr style=\"text-align: right;\">\n",
              "      <th></th>\n",
              "      <th>3City</th>\n",
              "      <th>T_SeJinin</th>\n",
              "      <th>T_SyuJinin</th>\n",
              "      <th>T_JuSyoyu</th>\n",
              "      <th>T_Syuhi</th>\n",
              "      <th>T_Age_5s</th>\n",
              "      <th>T_Age_65</th>\n",
              "      <th>Weight</th>\n",
              "      <th>Y_Income</th>\n",
              "      <th>L_Expenditure</th>\n",
              "      <th>Food</th>\n",
              "      <th>Housing</th>\n",
              "      <th>LFW</th>\n",
              "      <th>Furniture</th>\n",
              "      <th>Clothes</th>\n",
              "      <th>Health</th>\n",
              "      <th>Transport</th>\n",
              "      <th>Education</th>\n",
              "      <th>Recreation</th>\n",
              "      <th>OL_Expenditure</th>\n",
              "    </tr>\n",
              "  </thead>\n",
              "  <tbody>\n",
              "    <tr>\n",
              "      <th>0</th>\n",
              "      <td>1</td>\n",
              "      <td>2</td>\n",
              "      <td>1</td>\n",
              "      <td>1</td>\n",
              "      <td>1</td>\n",
              "      <td>1</td>\n",
              "      <td>1</td>\n",
              "      <td>895.266667</td>\n",
              "      <td>3917</td>\n",
              "      <td>201649</td>\n",
              "      <td>47756</td>\n",
              "      <td>16028</td>\n",
              "      <td>9652</td>\n",
              "      <td>6702</td>\n",
              "      <td>8088</td>\n",
              "      <td>726</td>\n",
              "      <td>21546</td>\n",
              "      <td>0</td>\n",
              "      <td>14433</td>\n",
              "      <td>76719</td>\n",
              "    </tr>\n",
              "    <tr>\n",
              "      <th>1</th>\n",
              "      <td>1</td>\n",
              "      <td>2</td>\n",
              "      <td>1</td>\n",
              "      <td>1</td>\n",
              "      <td>1</td>\n",
              "      <td>1</td>\n",
              "      <td>1</td>\n",
              "      <td>895.266667</td>\n",
              "      <td>6675</td>\n",
              "      <td>166381</td>\n",
              "      <td>34054</td>\n",
              "      <td>7416</td>\n",
              "      <td>26313</td>\n",
              "      <td>17062</td>\n",
              "      <td>6989</td>\n",
              "      <td>7637</td>\n",
              "      <td>20773</td>\n",
              "      <td>0</td>\n",
              "      <td>19048</td>\n",
              "      <td>27089</td>\n",
              "    </tr>\n",
              "    <tr>\n",
              "      <th>2</th>\n",
              "      <td>1</td>\n",
              "      <td>2</td>\n",
              "      <td>1</td>\n",
              "      <td>1</td>\n",
              "      <td>1</td>\n",
              "      <td>1</td>\n",
              "      <td>1</td>\n",
              "      <td>895.266667</td>\n",
              "      <td>6706</td>\n",
              "      <td>259736</td>\n",
              "      <td>84501</td>\n",
              "      <td>1927</td>\n",
              "      <td>10082</td>\n",
              "      <td>6741</td>\n",
              "      <td>5090</td>\n",
              "      <td>11015</td>\n",
              "      <td>53372</td>\n",
              "      <td>0</td>\n",
              "      <td>17289</td>\n",
              "      <td>69719</td>\n",
              "    </tr>\n",
              "    <tr>\n",
              "      <th>3</th>\n",
              "      <td>1</td>\n",
              "      <td>2</td>\n",
              "      <td>1</td>\n",
              "      <td>1</td>\n",
              "      <td>1</td>\n",
              "      <td>1</td>\n",
              "      <td>1</td>\n",
              "      <td>895.266667</td>\n",
              "      <td>2790</td>\n",
              "      <td>114511</td>\n",
              "      <td>41664</td>\n",
              "      <td>730</td>\n",
              "      <td>22358</td>\n",
              "      <td>5413</td>\n",
              "      <td>1205</td>\n",
              "      <td>5049</td>\n",
              "      <td>17411</td>\n",
              "      <td>0</td>\n",
              "      <td>8605</td>\n",
              "      <td>12077</td>\n",
              "    </tr>\n",
              "    <tr>\n",
              "      <th>4</th>\n",
              "      <td>1</td>\n",
              "      <td>2</td>\n",
              "      <td>1</td>\n",
              "      <td>1</td>\n",
              "      <td>1</td>\n",
              "      <td>1</td>\n",
              "      <td>1</td>\n",
              "      <td>895.266667</td>\n",
              "      <td>2577</td>\n",
              "      <td>193505</td>\n",
              "      <td>56981</td>\n",
              "      <td>3779</td>\n",
              "      <td>28747</td>\n",
              "      <td>4812</td>\n",
              "      <td>4243</td>\n",
              "      <td>751</td>\n",
              "      <td>16435</td>\n",
              "      <td>0</td>\n",
              "      <td>38231</td>\n",
              "      <td>39527</td>\n",
              "    </tr>\n",
              "    <tr>\n",
              "      <th>...</th>\n",
              "      <td>...</td>\n",
              "      <td>...</td>\n",
              "      <td>...</td>\n",
              "      <td>...</td>\n",
              "      <td>...</td>\n",
              "      <td>...</td>\n",
              "      <td>...</td>\n",
              "      <td>...</td>\n",
              "      <td>...</td>\n",
              "      <td>...</td>\n",
              "      <td>...</td>\n",
              "      <td>...</td>\n",
              "      <td>...</td>\n",
              "      <td>...</td>\n",
              "      <td>...</td>\n",
              "      <td>...</td>\n",
              "      <td>...</td>\n",
              "      <td>...</td>\n",
              "      <td>...</td>\n",
              "      <td>...</td>\n",
              "    </tr>\n",
              "    <tr>\n",
              "      <th>45806</th>\n",
              "      <td>0</td>\n",
              "      <td>3</td>\n",
              "      <td>2</td>\n",
              "      <td>2</td>\n",
              "      <td>2</td>\n",
              "      <td>0</td>\n",
              "      <td>2</td>\n",
              "      <td>552.266667</td>\n",
              "      <td>4398</td>\n",
              "      <td>216774</td>\n",
              "      <td>46169</td>\n",
              "      <td>39809</td>\n",
              "      <td>32508</td>\n",
              "      <td>2896</td>\n",
              "      <td>4203</td>\n",
              "      <td>18778</td>\n",
              "      <td>21739</td>\n",
              "      <td>30</td>\n",
              "      <td>4315</td>\n",
              "      <td>46326</td>\n",
              "    </tr>\n",
              "    <tr>\n",
              "      <th>45807</th>\n",
              "      <td>0</td>\n",
              "      <td>3</td>\n",
              "      <td>2</td>\n",
              "      <td>2</td>\n",
              "      <td>2</td>\n",
              "      <td>0</td>\n",
              "      <td>2</td>\n",
              "      <td>552.266667</td>\n",
              "      <td>4844</td>\n",
              "      <td>165978</td>\n",
              "      <td>52670</td>\n",
              "      <td>37839</td>\n",
              "      <td>25403</td>\n",
              "      <td>3532</td>\n",
              "      <td>2293</td>\n",
              "      <td>7016</td>\n",
              "      <td>5022</td>\n",
              "      <td>8</td>\n",
              "      <td>12656</td>\n",
              "      <td>19540</td>\n",
              "    </tr>\n",
              "    <tr>\n",
              "      <th>45808</th>\n",
              "      <td>0</td>\n",
              "      <td>3</td>\n",
              "      <td>2</td>\n",
              "      <td>2</td>\n",
              "      <td>2</td>\n",
              "      <td>0</td>\n",
              "      <td>2</td>\n",
              "      <td>552.266667</td>\n",
              "      <td>4630</td>\n",
              "      <td>244064</td>\n",
              "      <td>53784</td>\n",
              "      <td>76871</td>\n",
              "      <td>18196</td>\n",
              "      <td>17747</td>\n",
              "      <td>3308</td>\n",
              "      <td>13499</td>\n",
              "      <td>27705</td>\n",
              "      <td>25</td>\n",
              "      <td>4309</td>\n",
              "      <td>28619</td>\n",
              "    </tr>\n",
              "    <tr>\n",
              "      <th>45809</th>\n",
              "      <td>0</td>\n",
              "      <td>3</td>\n",
              "      <td>2</td>\n",
              "      <td>2</td>\n",
              "      <td>2</td>\n",
              "      <td>0</td>\n",
              "      <td>2</td>\n",
              "      <td>552.266667</td>\n",
              "      <td>6738</td>\n",
              "      <td>399003</td>\n",
              "      <td>123080</td>\n",
              "      <td>38810</td>\n",
              "      <td>19711</td>\n",
              "      <td>2816</td>\n",
              "      <td>5666</td>\n",
              "      <td>21831</td>\n",
              "      <td>23914</td>\n",
              "      <td>28</td>\n",
              "      <td>58844</td>\n",
              "      <td>104302</td>\n",
              "    </tr>\n",
              "    <tr>\n",
              "      <th>45810</th>\n",
              "      <td>0</td>\n",
              "      <td>3</td>\n",
              "      <td>2</td>\n",
              "      <td>2</td>\n",
              "      <td>2</td>\n",
              "      <td>0</td>\n",
              "      <td>2</td>\n",
              "      <td>552.266667</td>\n",
              "      <td>2408</td>\n",
              "      <td>190991</td>\n",
              "      <td>35920</td>\n",
              "      <td>63986</td>\n",
              "      <td>12907</td>\n",
              "      <td>4212</td>\n",
              "      <td>4035</td>\n",
              "      <td>14035</td>\n",
              "      <td>10221</td>\n",
              "      <td>3</td>\n",
              "      <td>14536</td>\n",
              "      <td>31135</td>\n",
              "    </tr>\n",
              "  </tbody>\n",
              "</table>\n",
              "<p>45811 rows × 20 columns</p>\n",
              "</div>"
            ],
            "text/plain": [
              "       3City  T_SeJinin  T_SyuJinin  ...  Education  Recreation  OL_Expenditure\n",
              "0          1          2           1  ...          0       14433           76719\n",
              "1          1          2           1  ...          0       19048           27089\n",
              "2          1          2           1  ...          0       17289           69719\n",
              "3          1          2           1  ...          0        8605           12077\n",
              "4          1          2           1  ...          0       38231           39527\n",
              "...      ...        ...         ...  ...        ...         ...             ...\n",
              "45806      0          3           2  ...         30        4315           46326\n",
              "45807      0          3           2  ...          8       12656           19540\n",
              "45808      0          3           2  ...         25        4309           28619\n",
              "45809      0          3           2  ...         28       58844          104302\n",
              "45810      0          3           2  ...          3       14536           31135\n",
              "\n",
              "[45811 rows x 20 columns]"
            ]
          },
          "metadata": {
            "tags": []
          },
          "execution_count": 7
        }
      ]
    },
    {
      "cell_type": "markdown",
      "metadata": {
        "id": "T2QyvMscVBYM",
        "colab_type": "text"
      },
      "source": [
        "## [記述統計量(英: descriptive statistics value)](https://ja.wikipedia.org/wiki/%E8%A6%81%E7%B4%84%E7%B5%B1%E8%A8%88%E9%87%8F) の確認\n",
        "\n",
        "記述統計量を確認しデータの範囲や代表的な値がどの程度か確認しましょう。\n",
        "そのためにはデータフレームの `describe` メソッドを使います。\n"
      ]
    },
    {
      "cell_type": "code",
      "metadata": {
        "id": "ddNt6tnfVzty",
        "colab_type": "code",
        "colab": {
          "base_uri": "https://localhost:8080/",
          "height": 317
        },
        "outputId": "adf0c165-fc91-4cd7-de8a-0c16a5688376"
      },
      "source": [
        "data.describe()"
      ],
      "execution_count": 8,
      "outputs": [
        {
          "output_type": "execute_result",
          "data": {
            "text/html": [
              "<div>\n",
              "<style scoped>\n",
              "    .dataframe tbody tr th:only-of-type {\n",
              "        vertical-align: middle;\n",
              "    }\n",
              "\n",
              "    .dataframe tbody tr th {\n",
              "        vertical-align: top;\n",
              "    }\n",
              "\n",
              "    .dataframe thead th {\n",
              "        text-align: right;\n",
              "    }\n",
              "</style>\n",
              "<table border=\"1\" class=\"dataframe\">\n",
              "  <thead>\n",
              "    <tr style=\"text-align: right;\">\n",
              "      <th></th>\n",
              "      <th>3City</th>\n",
              "      <th>T_SeJinin</th>\n",
              "      <th>T_SyuJinin</th>\n",
              "      <th>T_JuSyoyu</th>\n",
              "      <th>T_Syuhi</th>\n",
              "      <th>T_Age_5s</th>\n",
              "      <th>T_Age_65</th>\n",
              "      <th>Weight</th>\n",
              "      <th>Y_Income</th>\n",
              "      <th>L_Expenditure</th>\n",
              "      <th>Food</th>\n",
              "      <th>Housing</th>\n",
              "      <th>LFW</th>\n",
              "      <th>Furniture</th>\n",
              "      <th>Clothes</th>\n",
              "      <th>Health</th>\n",
              "      <th>Transport</th>\n",
              "      <th>Education</th>\n",
              "      <th>Recreation</th>\n",
              "      <th>OL_Expenditure</th>\n",
              "    </tr>\n",
              "  </thead>\n",
              "  <tbody>\n",
              "    <tr>\n",
              "      <th>count</th>\n",
              "      <td>45811.000000</td>\n",
              "      <td>45811.00000</td>\n",
              "      <td>45811.000000</td>\n",
              "      <td>45811.000000</td>\n",
              "      <td>45811.000000</td>\n",
              "      <td>45811.000000</td>\n",
              "      <td>45811.000000</td>\n",
              "      <td>45811.000000</td>\n",
              "      <td>45811.000000</td>\n",
              "      <td>4.581100e+04</td>\n",
              "      <td>45811.000000</td>\n",
              "      <td>4.581100e+04</td>\n",
              "      <td>45811.000000</td>\n",
              "      <td>45811.000000</td>\n",
              "      <td>45811.000000</td>\n",
              "      <td>45811.000000</td>\n",
              "      <td>4.581100e+04</td>\n",
              "      <td>4.581100e+04</td>\n",
              "      <td>4.581100e+04</td>\n",
              "      <td>4.581100e+04</td>\n",
              "    </tr>\n",
              "    <tr>\n",
              "      <th>mean</th>\n",
              "      <td>0.400559</td>\n",
              "      <td>2.61291</td>\n",
              "      <td>1.489904</td>\n",
              "      <td>1.176966</td>\n",
              "      <td>1.250289</td>\n",
              "      <td>4.200214</td>\n",
              "      <td>1.291480</td>\n",
              "      <td>693.326887</td>\n",
              "      <td>6401.920652</td>\n",
              "      <td>2.983737e+05</td>\n",
              "      <td>68740.210364</td>\n",
              "      <td>1.612791e+04</td>\n",
              "      <td>19420.995569</td>\n",
              "      <td>9373.956342</td>\n",
              "      <td>12054.818668</td>\n",
              "      <td>13280.968850</td>\n",
              "      <td>4.469237e+04</td>\n",
              "      <td>1.501489e+04</td>\n",
              "      <td>3.109929e+04</td>\n",
              "      <td>6.856828e+04</td>\n",
              "    </tr>\n",
              "    <tr>\n",
              "      <th>std</th>\n",
              "      <td>0.490017</td>\n",
              "      <td>0.48709</td>\n",
              "      <td>0.499904</td>\n",
              "      <td>0.381644</td>\n",
              "      <td>0.433184</td>\n",
              "      <td>3.137751</td>\n",
              "      <td>0.454449</td>\n",
              "      <td>161.527843</td>\n",
              "      <td>3810.787269</td>\n",
              "      <td>1.649328e+05</td>\n",
              "      <td>29209.813101</td>\n",
              "      <td>3.878798e+04</td>\n",
              "      <td>8246.369457</td>\n",
              "      <td>12941.144209</td>\n",
              "      <td>15069.659817</td>\n",
              "      <td>18928.182013</td>\n",
              "      <td>7.738839e+04</td>\n",
              "      <td>4.417047e+04</td>\n",
              "      <td>3.289503e+04</td>\n",
              "      <td>8.456648e+04</td>\n",
              "    </tr>\n",
              "    <tr>\n",
              "      <th>min</th>\n",
              "      <td>0.000000</td>\n",
              "      <td>2.00000</td>\n",
              "      <td>1.000000</td>\n",
              "      <td>1.000000</td>\n",
              "      <td>1.000000</td>\n",
              "      <td>0.000000</td>\n",
              "      <td>1.000000</td>\n",
              "      <td>510.050847</td>\n",
              "      <td>366.000000</td>\n",
              "      <td>4.208400e+04</td>\n",
              "      <td>9737.000000</td>\n",
              "      <td>0.000000e+00</td>\n",
              "      <td>1632.000000</td>\n",
              "      <td>27.000000</td>\n",
              "      <td>64.000000</td>\n",
              "      <td>45.000000</td>\n",
              "      <td>7.800000e+01</td>\n",
              "      <td>0.000000e+00</td>\n",
              "      <td>3.720000e+02</td>\n",
              "      <td>3.450000e+02</td>\n",
              "    </tr>\n",
              "    <tr>\n",
              "      <th>25%</th>\n",
              "      <td>0.000000</td>\n",
              "      <td>2.00000</td>\n",
              "      <td>1.000000</td>\n",
              "      <td>1.000000</td>\n",
              "      <td>1.000000</td>\n",
              "      <td>0.000000</td>\n",
              "      <td>1.000000</td>\n",
              "      <td>566.503597</td>\n",
              "      <td>3805.000000</td>\n",
              "      <td>1.942165e+05</td>\n",
              "      <td>48104.500000</td>\n",
              "      <td>6.590000e+02</td>\n",
              "      <td>13589.500000</td>\n",
              "      <td>2877.500000</td>\n",
              "      <td>3893.500000</td>\n",
              "      <td>3849.000000</td>\n",
              "      <td>1.037250e+04</td>\n",
              "      <td>0.000000e+00</td>\n",
              "      <td>1.218200e+04</td>\n",
              "      <td>2.479300e+04</td>\n",
              "    </tr>\n",
              "    <tr>\n",
              "      <th>50%</th>\n",
              "      <td>0.000000</td>\n",
              "      <td>3.00000</td>\n",
              "      <td>1.000000</td>\n",
              "      <td>1.000000</td>\n",
              "      <td>1.000000</td>\n",
              "      <td>4.000000</td>\n",
              "      <td>1.000000</td>\n",
              "      <td>594.246377</td>\n",
              "      <td>5504.000000</td>\n",
              "      <td>2.602560e+05</td>\n",
              "      <td>63498.000000</td>\n",
              "      <td>2.877000e+03</td>\n",
              "      <td>17905.000000</td>\n",
              "      <td>5614.000000</td>\n",
              "      <td>7686.000000</td>\n",
              "      <td>7687.000000</td>\n",
              "      <td>2.346500e+04</td>\n",
              "      <td>1.761000e+03</td>\n",
              "      <td>2.170800e+04</td>\n",
              "      <td>4.463400e+04</td>\n",
              "    </tr>\n",
              "    <tr>\n",
              "      <th>75%</th>\n",
              "      <td>1.000000</td>\n",
              "      <td>3.00000</td>\n",
              "      <td>2.000000</td>\n",
              "      <td>1.000000</td>\n",
              "      <td>2.000000</td>\n",
              "      <td>7.000000</td>\n",
              "      <td>2.000000</td>\n",
              "      <td>811.616592</td>\n",
              "      <td>7983.500000</td>\n",
              "      <td>3.549910e+05</td>\n",
              "      <td>83502.000000</td>\n",
              "      <td>1.746200e+04</td>\n",
              "      <td>23544.500000</td>\n",
              "      <td>11058.000000</td>\n",
              "      <td>14515.500000</td>\n",
              "      <td>15434.500000</td>\n",
              "      <td>4.876050e+04</td>\n",
              "      <td>1.353500e+04</td>\n",
              "      <td>3.831100e+04</td>\n",
              "      <td>8.090950e+04</td>\n",
              "    </tr>\n",
              "    <tr>\n",
              "      <th>max</th>\n",
              "      <td>1.000000</td>\n",
              "      <td>3.00000</td>\n",
              "      <td>2.000000</td>\n",
              "      <td>2.000000</td>\n",
              "      <td>2.000000</td>\n",
              "      <td>9.000000</td>\n",
              "      <td>2.000000</td>\n",
              "      <td>1365.894737</td>\n",
              "      <td>67394.000000</td>\n",
              "      <td>3.161852e+06</td>\n",
              "      <td>394347.000000</td>\n",
              "      <td>1.702352e+06</td>\n",
              "      <td>128725.000000</td>\n",
              "      <td>584980.000000</td>\n",
              "      <td>569141.000000</td>\n",
              "      <td>715039.000000</td>\n",
              "      <td>2.306300e+06</td>\n",
              "      <td>2.711758e+06</td>\n",
              "      <td>1.019545e+06</td>\n",
              "      <td>2.133987e+06</td>\n",
              "    </tr>\n",
              "  </tbody>\n",
              "</table>\n",
              "</div>"
            ],
            "text/plain": [
              "              3City    T_SeJinin  ...    Recreation  OL_Expenditure\n",
              "count  45811.000000  45811.00000  ...  4.581100e+04    4.581100e+04\n",
              "mean       0.400559      2.61291  ...  3.109929e+04    6.856828e+04\n",
              "std        0.490017      0.48709  ...  3.289503e+04    8.456648e+04\n",
              "min        0.000000      2.00000  ...  3.720000e+02    3.450000e+02\n",
              "25%        0.000000      2.00000  ...  1.218200e+04    2.479300e+04\n",
              "50%        0.000000      3.00000  ...  2.170800e+04    4.463400e+04\n",
              "75%        1.000000      3.00000  ...  3.831100e+04    8.090950e+04\n",
              "max        1.000000      3.00000  ...  1.019545e+06    2.133987e+06\n",
              "\n",
              "[8 rows x 20 columns]"
            ]
          },
          "metadata": {
            "tags": []
          },
          "execution_count": 8
        }
      ]
    },
    {
      "cell_type": "markdown",
      "metadata": {
        "id": "8QlUW-scS162",
        "colab_type": "text"
      },
      "source": [
        "## 支出カテゴリ毎の支出金額の分布の比較"
      ]
    },
    {
      "cell_type": "code",
      "metadata": {
        "id": "wswQpOvgS0sr",
        "colab_type": "code",
        "colab": {}
      },
      "source": [
        "!pip install joypy"
      ],
      "execution_count": null,
      "outputs": []
    },
    {
      "cell_type": "markdown",
      "metadata": {
        "id": "oDrT0HIETsi3",
        "colab_type": "text"
      },
      "source": [
        "## ニクラス分類\n",
        "\n",
        "家計の情報から三大都市圏に住んでいるかどうかを予測する問題を考えます。"
      ]
    },
    {
      "cell_type": "code",
      "metadata": {
        "id": "ogdxzEfujjRp",
        "colab_type": "code",
        "colab": {}
      },
      "source": [
        "import numpy as np\n",
        "import matplotlib.pyplot as plt\n",
        "import sklearn\n",
        "from sklearn import preprocessing\n",
        "from sklearn.model_selection import train_test_split\n",
        "from sklearn.svm import SVC, LinearSVC\n",
        "from sklearn.ensemble import RandomForestClassifier, GradientBoostingClassifier\n",
        "from sklearn.metrics import plot_confusion_matrix"
      ],
      "execution_count": 10,
      "outputs": []
    },
    {
      "cell_type": "markdown",
      "metadata": {
        "id": "8-ODPQAJlKg9",
        "colab_type": "text"
      },
      "source": [
        "### 前処理"
      ]
    },
    {
      "cell_type": "markdown",
      "metadata": {
        "id": "Kp1Cf-RchOHS",
        "colab_type": "text"
      },
      "source": [
        "#### 目的変数と説明変数の取得"
      ]
    },
    {
      "cell_type": "code",
      "metadata": {
        "id": "XrXwCP5ggsuj",
        "colab_type": "code",
        "colab": {
          "base_uri": "https://localhost:8080/",
          "height": 0
        },
        "outputId": "2413e27b-251d-4646-81de-612e40057b91"
      },
      "source": [
        "y = s[\"3City\"].values\n",
        "print(type(y), y.shape)\n",
        "print(np.unique(y))"
      ],
      "execution_count": 15,
      "outputs": [
        {
          "output_type": "stream",
          "text": [
            "<class 'numpy.ndarray'> (45811,)\n",
            "[0 1]\n"
          ],
          "name": "stdout"
        }
      ]
    },
    {
      "cell_type": "markdown",
      "metadata": {
        "id": "NTOtQSjGrxOh",
        "colab_type": "text"
      },
      "source": [
        "三大都市圏のサンプル数の比率は40%です。今はニクラス分類問題を考えているので、ランダムに予測をしても40%の確率で正解します。"
      ]
    },
    {
      "cell_type": "code",
      "metadata": {
        "id": "Fttll-b4sKOO",
        "colab_type": "code",
        "colab": {
          "base_uri": "https://localhost:8080/",
          "height": 0
        },
        "outputId": "b84210b6-0ea6-4ca0-fb37-1cab21b641d0"
      },
      "source": [
        "np.sum(y == 1) / len(y)"
      ],
      "execution_count": 16,
      "outputs": [
        {
          "output_type": "execute_result",
          "data": {
            "text/plain": [
              "0.4005588177511951"
            ]
          },
          "metadata": {
            "tags": []
          },
          "execution_count": 16
        }
      ]
    },
    {
      "cell_type": "markdown",
      "metadata": {
        "id": "Pe_8vYR5gwd9",
        "colab_type": "text"
      },
      "source": [
        "説明変数として収入と支出を"
      ]
    },
    {
      "cell_type": "code",
      "metadata": {
        "id": "dl4-n_0EhyNv",
        "colab_type": "code",
        "colab": {
          "base_uri": "https://localhost:8080/",
          "height": 0
        },
        "outputId": "d110301e-74d4-4b79-80e8-f06870334042"
      },
      "source": [
        "X = s.loc[:, \"Y_Income\":\"OL_Expenditure\"]\n",
        "type(X), X.shape"
      ],
      "execution_count": 17,
      "outputs": [
        {
          "output_type": "execute_result",
          "data": {
            "text/plain": [
              "(pandas.core.frame.DataFrame, (45811, 12))"
            ]
          },
          "metadata": {
            "tags": []
          },
          "execution_count": 17
        }
      ]
    },
    {
      "cell_type": "markdown",
      "metadata": {
        "id": "9BydFsbPkAfw",
        "colab_type": "text"
      },
      "source": [
        "#### データを訓練用とテスト用に分割"
      ]
    },
    {
      "cell_type": "code",
      "metadata": {
        "id": "y9Gk7gJ5i-Sf",
        "colab_type": "code",
        "colab": {}
      },
      "source": [
        "X_train, X_test, y_train, y_test = train_test_split(X, y, test_size=0.33, random_state=42)"
      ],
      "execution_count": 18,
      "outputs": []
    },
    {
      "cell_type": "markdown",
      "metadata": {
        "id": "kofvBdKhkwJ5",
        "colab_type": "text"
      },
      "source": [
        "### 予測モデルの訓練と評価\n",
        "\n",
        "* Linear SVM\n",
        "  * Y_Incomeを説明変数とする\n"
      ]
    },
    {
      "cell_type": "markdown",
      "metadata": {
        "id": "lmhcCF2QrcL3",
        "colab_type": "text"
      },
      "source": [
        "#### 線形SVM"
      ]
    },
    {
      "cell_type": "code",
      "metadata": {
        "id": "mNxoS7GYlHK5",
        "colab_type": "code",
        "colab": {
          "base_uri": "https://localhost:8080/",
          "height": 119
        },
        "outputId": "d3d0a3ed-5ca9-4737-82d8-6767657f09c2"
      },
      "source": [
        "clf = LinearSVC()\n",
        "clf.fit(X_train.to_numpy(), y_train)"
      ],
      "execution_count": 19,
      "outputs": [
        {
          "output_type": "stream",
          "text": [
            "/usr/local/lib/python3.6/dist-packages/sklearn/svm/_base.py:947: ConvergenceWarning: Liblinear failed to converge, increase the number of iterations.\n",
            "  \"the number of iterations.\", ConvergenceWarning)\n"
          ],
          "name": "stderr"
        },
        {
          "output_type": "execute_result",
          "data": {
            "text/plain": [
              "LinearSVC(C=1.0, class_weight=None, dual=True, fit_intercept=True,\n",
              "          intercept_scaling=1, loss='squared_hinge', max_iter=1000,\n",
              "          multi_class='ovr', penalty='l2', random_state=None, tol=0.0001,\n",
              "          verbose=0)"
            ]
          },
          "metadata": {
            "tags": []
          },
          "execution_count": 19
        }
      ]
    },
    {
      "cell_type": "code",
      "metadata": {
        "id": "Rkqdlq58mVri",
        "colab_type": "code",
        "colab": {
          "base_uri": "https://localhost:8080/",
          "height": 34
        },
        "outputId": "289de758-9a0e-4336-ffc7-e3cd5a6e3c81"
      },
      "source": [
        "clf.score(X_train.to_numpy(), y_train)"
      ],
      "execution_count": 20,
      "outputs": [
        {
          "output_type": "execute_result",
          "data": {
            "text/plain": [
              "0.4239728928420161"
            ]
          },
          "metadata": {
            "tags": []
          },
          "execution_count": 20
        }
      ]
    },
    {
      "cell_type": "code",
      "metadata": {
        "id": "B1XY27xinYpz",
        "colab_type": "code",
        "colab": {
          "base_uri": "https://localhost:8080/",
          "height": 34
        },
        "outputId": "8bb6dbd1-e043-4486-f2b8-8cc348965851"
      },
      "source": [
        "clf.score(X_test.to_numpy(), y_test)"
      ],
      "execution_count": 21,
      "outputs": [
        {
          "output_type": "execute_result",
          "data": {
            "text/plain": [
              "0.42783436962561183"
            ]
          },
          "metadata": {
            "tags": []
          },
          "execution_count": 21
        }
      ]
    },
    {
      "cell_type": "markdown",
      "metadata": {
        "id": "cNfkGtwgqa2p",
        "colab_type": "text"
      },
      "source": [
        "#### 非線形SVM（ガウスカーネル）\n",
        "\n",
        "線形SVMと比べて少し時間がかかります。"
      ]
    },
    {
      "cell_type": "code",
      "metadata": {
        "id": "_22-gtRIusah",
        "colab_type": "code",
        "colab": {
          "base_uri": "https://localhost:8080/",
          "height": 85
        },
        "outputId": "58613550-dbca-49b6-e509-07bef8f23700"
      },
      "source": [
        "clf = SVC()\n",
        "clf.fit(X_train.to_numpy(), y_train)"
      ],
      "execution_count": 22,
      "outputs": [
        {
          "output_type": "execute_result",
          "data": {
            "text/plain": [
              "SVC(C=1.0, break_ties=False, cache_size=200, class_weight=None, coef0=0.0,\n",
              "    decision_function_shape='ovr', degree=3, gamma='scale', kernel='rbf',\n",
              "    max_iter=-1, probability=False, random_state=None, shrinking=True,\n",
              "    tol=0.001, verbose=False)"
            ]
          },
          "metadata": {
            "tags": []
          },
          "execution_count": 22
        }
      ]
    },
    {
      "cell_type": "code",
      "metadata": {
        "id": "t2ujfu5dvtV_",
        "colab_type": "code",
        "colab": {
          "base_uri": "https://localhost:8080/",
          "height": 51
        },
        "outputId": "4e98dc81-a3c6-4b31-a0b6-5867822bf0d8"
      },
      "source": [
        "print(\"Score (train): {}\".format(clf.score(X_train.to_numpy(), y_train)))\n",
        "print(\"Score (test): {}\".format(clf.score(X_test.to_numpy(), y_test)))"
      ],
      "execution_count": 23,
      "outputs": [
        {
          "output_type": "stream",
          "text": [
            "Score (train): 0.6255497996285798\n",
            "Score (test): 0.6158883450191824\n"
          ],
          "name": "stdout"
        }
      ]
    },
    {
      "cell_type": "code",
      "metadata": {
        "id": "S2EexyRjwFU6",
        "colab_type": "code",
        "colab": {
          "base_uri": "https://localhost:8080/",
          "height": 34
        },
        "outputId": "d95ddb4b-c90f-4fec-f8f9-ebf24230f9c6"
      },
      "source": [
        "print(clf.score(X_test.to_numpy(), y_test))"
      ],
      "execution_count": 24,
      "outputs": [
        {
          "output_type": "stream",
          "text": [
            "0.6158883450191824\n"
          ],
          "name": "stdout"
        }
      ]
    },
    {
      "cell_type": "markdown",
      "metadata": {
        "id": "wmOMNYz1wTuh",
        "colab_type": "text"
      },
      "source": [
        "##### ハイパーパラメータ\n",
        "\n",
        "* C: float, default=1.0 \n",
        "  * Regularization parameter. The strength of the regularization is inversely proportional to C. Must be strictly positive. The penalty is a squared l2 penalty.\n",
        "* kernel{‘linear’, ‘poly’, ‘rbf’, ‘sigmoid’, ‘precomputed’}, default=’rbf’\n",
        "  * Specifies the kernel type to be used in the algorithm. It must be one of ‘linear’, ‘poly’, ‘rbf’, ‘sigmoid’, ‘precomputed’ or a callable. If none is given, ‘rbf’ will be used. If a callable is given it is used to pre-compute the kernel matrix from data matrices; that matrix should be an array of shape (n_samples, n_samples).\n"
      ]
    },
    {
      "cell_type": "code",
      "metadata": {
        "id": "uUDC4FQpweNH",
        "colab_type": "code",
        "colab": {
          "base_uri": "https://localhost:8080/",
          "height": 51
        },
        "outputId": "5ef83c2d-776d-469c-df73-499db4b4f27c"
      },
      "source": [
        "clf = SVC(C=0.1)\n",
        "clf.fit(X_train.to_numpy(), y_train)\n",
        "print(\"Score (train): {}\".format(clf.score(X_train.to_numpy(), y_train)))\n",
        "print(\"Score (test): {}\".format(clf.score(X_test.to_numpy(), y_test)))"
      ],
      "execution_count": 25,
      "outputs": [
        {
          "output_type": "stream",
          "text": [
            "Score (train): 0.6187730101326036\n",
            "Score (test): 0.6111258102923667\n"
          ],
          "name": "stdout"
        }
      ]
    },
    {
      "cell_type": "code",
      "metadata": {
        "id": "PR24chdpxRBZ",
        "colab_type": "code",
        "colab": {
          "base_uri": "https://localhost:8080/",
          "height": 51
        },
        "outputId": "d9013ffc-00b1-4a69-a397-68a075e69b97"
      },
      "source": [
        "clf = SVC(C=10.0)\n",
        "clf.fit(X_train.to_numpy(), y_train)\n",
        "print(\"Score (train): {}\".format(clf.score(X_train.to_numpy(), y_train)))\n",
        "print(\"Score (test): {}\".format(clf.score(X_test.to_numpy(), y_test)))"
      ],
      "execution_count": 26,
      "outputs": [
        {
          "output_type": "stream",
          "text": [
            "Score (train): 0.6340859479360115\n",
            "Score (test): 0.6208493186929488\n"
          ],
          "name": "stdout"
        }
      ]
    },
    {
      "cell_type": "markdown",
      "metadata": {
        "id": "whu3GfEryKuV",
        "colab_type": "text"
      },
      "source": [
        "### ランダムフォレスト"
      ]
    },
    {
      "cell_type": "code",
      "metadata": {
        "id": "PSQMKdxS0IkL",
        "colab_type": "code",
        "colab": {
          "base_uri": "https://localhost:8080/",
          "height": 55
        },
        "outputId": "ba7da2e7-602b-405d-9fe4-64190306dd5b"
      },
      "source": [
        "clf = RandomForestClassifier()\n",
        "clf.fit(X_train.to_numpy(), y_train)\n",
        "print(\"Score (train): {}\".format(clf.score(X_train.to_numpy(), y_train)))\n",
        "print(\"Score (test): {}\".format(clf.score(X_test.to_numpy(), y_test)))"
      ],
      "execution_count": null,
      "outputs": [
        {
          "output_type": "stream",
          "text": [
            "Score (train): 1.0\n",
            "Score (test): 0.6336817039290912\n"
          ],
          "name": "stdout"
        }
      ]
    },
    {
      "cell_type": "markdown",
      "metadata": {
        "id": "_4Msyd-e1kSy",
        "colab_type": "text"
      },
      "source": [
        "### 勾配ブースティング"
      ]
    },
    {
      "cell_type": "code",
      "metadata": {
        "id": "9dhdK9S116FS",
        "colab_type": "code",
        "colab": {
          "base_uri": "https://localhost:8080/",
          "height": 55
        },
        "outputId": "81e034f9-1f87-4a4f-8a92-42afa5121a85"
      },
      "source": [
        "clf = GradientBoostingClassifier()\n",
        "clf.fit(X_train.to_numpy(), y_train)\n",
        "print(\"Score (train): {}\".format(clf.score(X_train.to_numpy(), y_train)))\n",
        "print(\"Score (test): {}\".format(clf.score(X_test.to_numpy(), y_test)))"
      ],
      "execution_count": null,
      "outputs": [
        {
          "output_type": "stream",
          "text": [
            "Score (train): 0.6660476330107842\n",
            "Score (test): 0.6434713586453235\n"
          ],
          "name": "stdout"
        }
      ]
    },
    {
      "cell_type": "markdown",
      "metadata": {
        "id": "8NIdsYTL4hi5",
        "colab_type": "text"
      },
      "source": [
        "### スケーリング"
      ]
    },
    {
      "cell_type": "code",
      "metadata": {
        "id": "ujZKX-Ag28cb",
        "colab_type": "code",
        "colab": {}
      },
      "source": [
        "scaler = preprocessing.StandardScaler().fit(X_train)\n",
        "X_train_scaled = scaler.transform(X_train)\n",
        "X_test_scaled = scaler.transform(X_test)"
      ],
      "execution_count": null,
      "outputs": []
    },
    {
      "cell_type": "code",
      "metadata": {
        "id": "EQQZOA013egK",
        "colab_type": "code",
        "colab": {
          "base_uri": "https://localhost:8080/",
          "height": 55
        },
        "outputId": "5ac805ad-03ed-4319-f594-87dfe2f51876"
      },
      "source": [
        "clf = GradientBoostingClassifier()\n",
        "clf.fit(X_train_scaled, y_train)\n",
        "print(\"Score (train): {}\".format(clf.score(X_train_scaled, y_train)))\n",
        "print(\"Score (test): {}\".format(clf.score(X_test_scaled, y_test)))"
      ],
      "execution_count": null,
      "outputs": [
        {
          "output_type": "stream",
          "text": [
            "Score (train): 0.6660476330107842\n",
            "Score (test): 0.6434713586453235\n"
          ],
          "name": "stdout"
        }
      ]
    },
    {
      "cell_type": "code",
      "metadata": {
        "id": "DGOm-wAQ3sPh",
        "colab_type": "code",
        "colab": {}
      },
      "source": [
        ""
      ],
      "execution_count": null,
      "outputs": []
    },
    {
      "cell_type": "markdown",
      "metadata": {
        "id": "fa7F0ROD8MvW",
        "colab_type": "text"
      },
      "source": [
        "## 多クラス分類"
      ]
    },
    {
      "cell_type": "markdown",
      "metadata": {
        "id": "4HWdfduQ8Pv_",
        "colab_type": "text"
      },
      "source": [
        "### 前処理"
      ]
    },
    {
      "cell_type": "markdown",
      "metadata": {
        "id": "M8f5HJKP9LlF",
        "colab_type": "text"
      },
      "source": [
        "#### 目的変数の取得"
      ]
    },
    {
      "cell_type": "code",
      "metadata": {
        "id": "1xfOAOWN8Sji",
        "colab_type": "code",
        "colab": {
          "base_uri": "https://localhost:8080/",
          "height": 51
        },
        "outputId": "87c1a5a0-5ee4-4922-b71b-49e800501459"
      },
      "source": [
        "y = s[\"T_Age_5s\"].values\n",
        "print(type(y), y.shape)\n",
        "print(np.unique(y))"
      ],
      "execution_count": 27,
      "outputs": [
        {
          "output_type": "stream",
          "text": [
            "<class 'numpy.ndarray'> (45811,)\n",
            "[0 1 2 3 4 5 6 7 8 9]\n"
          ],
          "name": "stdout"
        }
      ]
    },
    {
      "cell_type": "markdown",
      "metadata": {
        "id": "DdU3kaVx-rBN",
        "colab_type": "text"
      },
      "source": [
        "各クラスのサンプル数を確認します。"
      ]
    },
    {
      "cell_type": "code",
      "metadata": {
        "id": "Bg8_7bcC9h_J",
        "colab_type": "code",
        "colab": {
          "base_uri": "https://localhost:8080/",
          "height": 51
        },
        "outputId": "f94832ce-f7b0-4f2e-d590-b1f6cd37431a"
      },
      "source": [
        "np.histogram(y, bins=np.arange(10))"
      ],
      "execution_count": 28,
      "outputs": [
        {
          "output_type": "execute_result",
          "data": {
            "text/plain": [
              "(array([11466,  1068,  2602,  4008,  4209,  4168,  4523,  5156,  8611]),\n",
              " array([0, 1, 2, 3, 4, 5, 6, 7, 8, 9]))"
            ]
          },
          "metadata": {
            "tags": []
          },
          "execution_count": 28
        }
      ]
    },
    {
      "cell_type": "markdown",
      "metadata": {
        "id": "z3femUFA-wgS",
        "colab_type": "text"
      },
      "source": [
        "比率に直すと次のようになります。"
      ]
    },
    {
      "cell_type": "code",
      "metadata": {
        "id": "vSIWTOXi9rF2",
        "colab_type": "code",
        "colab": {
          "base_uri": "https://localhost:8080/",
          "height": 34
        },
        "outputId": "f92288ca-c8e6-44a9-84d7-d262a2880ba8"
      },
      "source": [
        "np.set_printoptions(precision=3)\n",
        "np.histogram(y, bins=np.arange(10))[0] / len(y)"
      ],
      "execution_count": 29,
      "outputs": [
        {
          "output_type": "execute_result",
          "data": {
            "text/plain": [
              "array([0.25 , 0.023, 0.057, 0.087, 0.092, 0.091, 0.099, 0.113, 0.188])"
            ]
          },
          "metadata": {
            "tags": []
          },
          "execution_count": 29
        }
      ]
    },
    {
      "cell_type": "markdown",
      "metadata": {
        "id": "9-ELwtLX9_ia",
        "colab_type": "text"
      },
      "source": [
        "#### データを訓練用とテスト用に分割"
      ]
    },
    {
      "cell_type": "code",
      "metadata": {
        "id": "R0dVpqWI-7LE",
        "colab_type": "code",
        "colab": {}
      },
      "source": [
        "X_train, X_test, y_train, y_test = train_test_split(X, y, test_size=0.33, random_state=42)"
      ],
      "execution_count": 30,
      "outputs": []
    },
    {
      "cell_type": "markdown",
      "metadata": {
        "id": "6AS6leux_B0L",
        "colab_type": "text"
      },
      "source": [
        "### 予測モデルの訓練と評価"
      ]
    },
    {
      "cell_type": "markdown",
      "metadata": {
        "id": "XN04pkFa_F84",
        "colab_type": "text"
      },
      "source": [
        "#### 勾配ブースティング"
      ]
    },
    {
      "cell_type": "code",
      "metadata": {
        "id": "SABEkJI0_KJE",
        "colab_type": "code",
        "colab": {
          "base_uri": "https://localhost:8080/",
          "height": 55
        },
        "outputId": "3e7d69ae-ad2a-4174-bba1-3d2912dedda4"
      },
      "source": [
        "clf = GradientBoostingClassifier()\n",
        "clf.fit(X_train.to_numpy(), y_train)\n",
        "print(\"Score (train): {}\".format(clf.score(X_train.to_numpy(), y_train)))\n",
        "print(\"Score (test): {}\".format(clf.score(X_test.to_numpy(), y_test)))"
      ],
      "execution_count": null,
      "outputs": [
        {
          "output_type": "stream",
          "text": [
            "Score (train): 0.47027009415827714\n",
            "Score (test): 0.3987299907395158\n"
          ],
          "name": "stdout"
        }
      ]
    },
    {
      "cell_type": "markdown",
      "metadata": {
        "id": "d8nWRHWL_OvA",
        "colab_type": "text"
      },
      "source": [
        "#### 混同行列"
      ]
    },
    {
      "cell_type": "code",
      "metadata": {
        "id": "OffFYF4UANKl",
        "colab_type": "code",
        "colab": {
          "base_uri": "https://localhost:8080/",
          "height": 574
        },
        "outputId": "8ee6b174-03ce-4f7a-8f79-28de8b70cd49"
      },
      "source": [
        "fig = plt.figure(figsize=(10, 10))\n",
        "disp = plot_confusion_matrix(clf, X_test.to_numpy(), y_test,\n",
        "                                #  display_labels=class_names,\n",
        "                                #  cmap=plt.cm.Blues)\n",
        "                                normalize=\"true\", ax=plt.gca())\n",
        "plt.show()"
      ],
      "execution_count": null,
      "outputs": [
        {
          "output_type": "display_data",
          "data": {
            "image/png": "[encoded data removed]",
            "text/plain": [
              "<Figure size 720x720 with 2 Axes>"
            ]
          },
          "metadata": {
            "tags": [],
            "needs_background": "light"
          }
        }
      ]
    },
    {
      "cell_type": "markdown",
      "metadata": {
        "id": "TBR64WiLFYr_",
        "colab_type": "text"
      },
      "source": [
        "#### サンプルバランス補正"
      ]
    },
    {
      "cell_type": "code",
      "metadata": {
        "id": "Ecpm8i4ZDanQ",
        "colab_type": "code",
        "colab": {
          "base_uri": "https://localhost:8080/",
          "height": 55
        },
        "outputId": "75134580-6d20-4a20-90be-9d897733283d"
      },
      "source": [
        "clf = SVC(C=10.0, class_weight=\"balanced\")\n",
        "clf.fit(X_train.to_numpy(), y_train)\n",
        "print(\"Score (train): {}\".format(clf.score(X_train.to_numpy(), y_train)))\n",
        "print(\"Score (test): {}\".format(clf.score(X_test.to_numpy(), y_test)))"
      ],
      "execution_count": null,
      "outputs": [
        {
          "output_type": "stream",
          "text": [
            "Score (train): 0.3474733652624377\n",
            "Score (test): 0.3270935308903294\n"
          ],
          "name": "stdout"
        }
      ]
    },
    {
      "cell_type": "code",
      "metadata": {
        "id": "1qq66ORJAn_Y",
        "colab_type": "code",
        "colab": {
          "base_uri": "https://localhost:8080/",
          "height": 574
        },
        "outputId": "6565f364-921d-473d-93e2-93b333b3f140"
      },
      "source": [
        "fig = plt.figure(figsize=(10, 10))\n",
        "disp = plot_confusion_matrix(clf, X_test.to_numpy(), y_test,\n",
        "                                #  display_labels=class_names,\n",
        "                                #  cmap=plt.cm.Blues)\n",
        "                                normalize=\"true\", ax=plt.gca())\n",
        "plt.show()"
      ],
      "execution_count": null,
      "outputs": [
        {
          "output_type": "display_data",
          "data": {
            "image/png": "[encoded data removed]",
            "text/plain": [
              "<Figure size 720x720 with 2 Axes>"
            ]
          },
          "metadata": {
            "tags": [],
            "needs_background": "light"
          }
        }
      ]
    },
    {
      "cell_type": "markdown",
      "metadata": {
        "id": "Y_o5hJxDEv0E",
        "colab_type": "text"
      },
      "source": [
        "### 特徴量の工夫（うまく行ったら本番でも使用）"
      ]
    },
    {
      "cell_type": "code",
      "metadata": {
        "id": "o0nte1AzGS2L",
        "colab_type": "code",
        "colab": {}
      },
      "source": [
        "X2 = X.to_numpy()\n",
        "X2 = X2 / X2.sum(axis=1).reshape((-1, 1))"
      ],
      "execution_count": null,
      "outputs": []
    },
    {
      "cell_type": "code",
      "metadata": {
        "id": "Sd-HZ_cXGlMH",
        "colab_type": "code",
        "colab": {}
      },
      "source": [
        "X2_train, X2_test, y_train, y_test = train_test_split(X2, y, test_size=0.33, random_state=42)"
      ],
      "execution_count": null,
      "outputs": []
    },
    {
      "cell_type": "code",
      "metadata": {
        "id": "OiWrB1AoG8GL",
        "colab_type": "code",
        "colab": {
          "base_uri": "https://localhost:8080/",
          "height": 55
        },
        "outputId": "d7074fdb-574d-4be9-c830-d87a220f0c9f"
      },
      "source": [
        "clf = SVC(C=10.0, class_weight=\"balanced\")\n",
        "clf.fit(X2_train, y_train)\n",
        "print(\"Score (train): {}\".format(clf.score(X2_train, y_train)))\n",
        "print(\"Score (test): {}\".format(clf.score(X2_test, y_test)))"
      ],
      "execution_count": null,
      "outputs": [
        {
          "output_type": "stream",
          "text": [
            "Score (train): 0.32235363112110255\n",
            "Score (test): 0.31994972880010586\n"
          ],
          "name": "stdout"
        }
      ]
    },
    {
      "cell_type": "code",
      "metadata": {
        "id": "C3Z1ciVFHB5b",
        "colab_type": "code",
        "colab": {
          "base_uri": "https://localhost:8080/",
          "height": 574
        },
        "outputId": "7c0b631b-86ac-48fd-b6f9-38fcc73ff08c"
      },
      "source": [
        "fig = plt.figure(figsize=(10, 10))\n",
        "disp = plot_confusion_matrix(clf, X2_test, y_test,\n",
        "                                #  display_labels=class_names,\n",
        "                                #  cmap=plt.cm.Blues)\n",
        "                                normalize=\"true\", ax=plt.gca())\n",
        "plt.show()"
      ],
      "execution_count": null,
      "outputs": [
        {
          "output_type": "display_data",
          "data": {
            "image/png": "[encoded data removed]",
            "text/plain": [
              "<Figure size 720x720 with 2 Axes>"
            ]
          },
          "metadata": {
            "tags": [],
            "needs_background": "light"
          }
        }
      ]
    },
    {
      "cell_type": "code",
      "metadata": {
        "id": "7B5bO2a6HFOO",
        "colab_type": "code",
        "colab": {}
      },
      "source": [
        ""
      ],
      "execution_count": null,
      "outputs": []
    },
    {
      "cell_type": "code",
      "metadata": {
        "id": "FwaOeG-rS0Zk",
        "colab_type": "code",
        "colab": {}
      },
      "source": [
        ""
      ],
      "execution_count": null,
      "outputs": []
    },
    {
      "cell_type": "markdown",
      "metadata": {
        "id": "NW7VtmyTZO9L",
        "colab_type": "text"
      },
      "source": [
        "## plotly (express) を用いた可視化\n",
        "\n",
        "ここでは ... を可視化してみましょう。"
      ]
    },
    {
      "cell_type": "code",
      "metadata": {
        "id": "OaD6KdUhWZ_K",
        "colab_type": "code",
        "colab": {}
      },
      "source": [
        "import plotly.express as px"
      ],
      "execution_count": null,
      "outputs": []
    },
    {
      "cell_type": "code",
      "metadata": {
        "id": "eQDgcnkY2twC",
        "colab_type": "code",
        "colab": {}
      },
      "source": [
        "px.violin(data, y=data.columns)"
      ],
      "execution_count": null,
      "outputs": []
    },
    {
      "cell_type": "code",
      "metadata": {
        "id": "stOlxAbqXGtV",
        "colab_type": "code",
        "colab": {}
      },
      "source": [
        "px.histogram(data, x='Y_Income', histnorm='percent', nbins=100)"
      ],
      "execution_count": null,
      "outputs": []
    },
    {
      "cell_type": "code",
      "metadata": {
        "id": "cY08D9VUXUtR",
        "colab_type": "code",
        "colab": {}
      },
      "source": [
        "data_bins = pd.cut(data['Y_Income'].values, bins=10)"
      ],
      "execution_count": null,
      "outputs": []
    },
    {
      "cell_type": "code",
      "metadata": {
        "id": "7-HyMJapXku0",
        "colab_type": "code",
        "colab": {}
      },
      "source": [
        "data_bins"
      ],
      "execution_count": null,
      "outputs": []
    },
    {
      "cell_type": "markdown",
      "metadata": {
        "id": "R1AJEZDXaU2p",
        "colab_type": "text"
      },
      "source": [
        "# ↑いまいちなビン作り・・・\n",
        "# ↓自作bin作成"
      ]
    },
    {
      "cell_type": "code",
      "metadata": {
        "id": "q-7TueRTXwxZ",
        "colab_type": "code",
        "colab": {}
      },
      "source": [
        "bin_image = [0, 2000, 4000, 6000, 8000, 12000, 20000]"
      ],
      "execution_count": null,
      "outputs": []
    },
    {
      "cell_type": "code",
      "metadata": {
        "id": "jPSVkwnHakXM",
        "colab_type": "code",
        "colab": {}
      },
      "source": [
        "bin_image"
      ],
      "execution_count": null,
      "outputs": []
    },
    {
      "cell_type": "code",
      "metadata": {
        "id": "bi2-gSCpalbB",
        "colab_type": "code",
        "colab": {}
      },
      "source": [
        "import numpy as np"
      ],
      "execution_count": null,
      "outputs": []
    },
    {
      "cell_type": "code",
      "metadata": {
        "id": "aDVnoMiUa82O",
        "colab_type": "code",
        "colab": {}
      },
      "source": [
        "bin_image = [0, 2000, 4000, 6000, 8000, 12000, 20000]\n",
        "bin_array = np.digitize(data['Y_Income'], bin_image)"
      ],
      "execution_count": null,
      "outputs": []
    },
    {
      "cell_type": "code",
      "metadata": {
        "id": "1LDUHcpubEhB",
        "colab_type": "code",
        "colab": {}
      },
      "source": [
        ""
      ],
      "execution_count": null,
      "outputs": []
    },
    {
      "cell_type": "code",
      "metadata": {
        "id": "fiY8dbVfbYVt",
        "colab_type": "code",
        "colab": {}
      },
      "source": [
        ""
      ],
      "execution_count": null,
      "outputs": []
    },
    {
      "cell_type": "code",
      "metadata": {
        "id": "OCzgvj1Ic7gq",
        "colab_type": "code",
        "colab": {}
      },
      "source": [
        "cont = pd.read_excel(\"/content/ippan_2009zensho_s/ippan_2009zensho_s.xls\")"
      ],
      "execution_count": null,
      "outputs": []
    },
    {
      "cell_type": "code",
      "metadata": {
        "id": "gdAnAbjydNAs",
        "colab_type": "code",
        "colab": {}
      },
      "source": [
        "cont[:50]"
      ],
      "execution_count": null,
      "outputs": []
    },
    {
      "cell_type": "markdown",
      "metadata": {
        "id": "yvC1veFTKqYL",
        "colab_type": "text"
      },
      "source": [
        "## 各消費分類の消費支出に対する割合を作成する"
      ]
    },
    {
      "cell_type": "code",
      "metadata": {
        "id": "Q1mJlVoidNqW",
        "colab_type": "code",
        "colab": {}
      },
      "source": [
        "data_test = data.loc[: ,'L_Expenditure':'OL_Expenditure']"
      ],
      "execution_count": null,
      "outputs": []
    },
    {
      "cell_type": "code",
      "metadata": {
        "id": "9NrMjml1dxoE",
        "colab_type": "code",
        "colab": {}
      },
      "source": [
        "data_test"
      ],
      "execution_count": null,
      "outputs": []
    },
    {
      "cell_type": "code",
      "metadata": {
        "id": "4Zn1KNLeej5a",
        "colab_type": "code",
        "colab": {}
      },
      "source": [
        "data_test.apply(lambda x: x/ data_test['L_Expenditure'])"
      ],
      "execution_count": null,
      "outputs": []
    },
    {
      "cell_type": "code",
      "metadata": {
        "id": "J_3AT3QThpvb",
        "colab_type": "code",
        "colab": {}
      },
      "source": [
        "data_expenditure_ratio = data_test.apply(lambda x: x / data_test['L_Expenditure'])\n",
        "data_front = data.loc[:, :'Y_Income']"
      ],
      "execution_count": null,
      "outputs": []
    },
    {
      "cell_type": "code",
      "metadata": {
        "id": "RfWdDPjq3zTN",
        "colab_type": "code",
        "colab": {}
      },
      "source": [
        "px.violin(data_expenditure_ratio, x=data_expenditure_ratio.columns[1:])"
      ],
      "execution_count": null,
      "outputs": []
    },
    {
      "cell_type": "code",
      "metadata": {
        "id": "pWCjjTeIiKdj",
        "colab_type": "code",
        "colab": {}
      },
      "source": [
        "data_front = data_front.drop('Weight',axis=1)"
      ],
      "execution_count": null,
      "outputs": []
    },
    {
      "cell_type": "code",
      "metadata": {
        "id": "NadANZSaiLdj",
        "colab_type": "code",
        "colab": {}
      },
      "source": [
        "data_preped = pd.concat([data_front, data_expenditure_ratio], axis=1)"
      ],
      "execution_count": null,
      "outputs": []
    },
    {
      "cell_type": "code",
      "metadata": {
        "id": "jv6NXH1lioXf",
        "colab_type": "code",
        "colab": {}
      },
      "source": [
        "data_preped"
      ],
      "execution_count": null,
      "outputs": []
    },
    {
      "cell_type": "code",
      "metadata": {
        "id": "Tczfv3qHipVS",
        "colab_type": "code",
        "colab": {}
      },
      "source": [
        "bin_image = [0, 2000, 4000, 6000, 8000, 12000, 20000]\n",
        "bin_array = np.digitize(data['Y_Income'], bin_image)\n",
        "data_preped['bins'] = bin_array"
      ],
      "execution_count": null,
      "outputs": []
    },
    {
      "cell_type": "code",
      "metadata": {
        "id": "_o00j0_Ri1eJ",
        "colab_type": "code",
        "colab": {}
      },
      "source": [
        "data_preped"
      ],
      "execution_count": null,
      "outputs": []
    },
    {
      "cell_type": "code",
      "metadata": {
        "id": "aWbzNXMoi9Fh",
        "colab_type": "code",
        "colab": {}
      },
      "source": [
        "import plotly.graph_objects as go"
      ],
      "execution_count": null,
      "outputs": []
    },
    {
      "cell_type": "code",
      "metadata": {
        "id": "3q7zO7abjFBu",
        "colab_type": "code",
        "colab": {}
      },
      "source": [
        "fig = go.Figure()\n",
        "\n",
        "for num in data_preped.bins.unique():\n",
        "  data_preped_num = data_preped[data_preped['bins'] == num]\n",
        "  fig.add_trace(go.Histogram(x=data_preped_num['Food'], name=f'{num}', histnorm='probability', nbinsx=20))\n",
        "\n",
        "fig.show()"
      ],
      "execution_count": null,
      "outputs": []
    },
    {
      "cell_type": "markdown",
      "metadata": {
        "id": "4U-gXGFtmHF6",
        "colab_type": "text"
      },
      "source": [
        "## どんな可視化をするか？\n",
        "\n",
        "- ビンの個数を動かせる\n",
        "- ビンの数値を変更できる\n",
        "- それをヒストグラムで描画できる"
      ]
    },
    {
      "cell_type": "code",
      "metadata": {
        "id": "ljiSW4i_ujO4",
        "colab_type": "code",
        "colab": {}
      },
      "source": [
        "data_for_dash = data_preped.drop('bins', axis=1)"
      ],
      "execution_count": null,
      "outputs": []
    },
    {
      "cell_type": "code",
      "metadata": {
        "id": "R1TNGkLzmpl-",
        "colab_type": "code",
        "colab": {}
      },
      "source": [
        "from jupyter_dash import JupyterDash \n",
        "import dash_core_components as dcc \n",
        "import dash_html_components as html \n",
        "\n",
        "from dash.dependencies import Input, Output, State, ALL"
      ],
      "execution_count": null,
      "outputs": []
    },
    {
      "cell_type": "code",
      "metadata": {
        "id": "EIvfWFbonD1c",
        "colab_type": "code",
        "colab": {}
      },
      "source": [
        "external_stylesheets = ['https://codepen.io/chriddyp/pen/bWLwgP.css']\n",
        "\n",
        "app = JupyterDash(__name__, external_stylesheets=external_stylesheets)\n",
        "\n",
        "app.layout = html.Div([\n",
        "                       \n",
        "\n",
        "                       html.Button(id='my_button', children='Add Input'),\n",
        "                      \n",
        "                      html.Div([\n",
        "                       html.Div([\n",
        "                       html.Div(id='input_zone', children=[]),\n",
        "                      ], style={'width': '25%', 'display': 'inline-block', 'verticalAlign': 'top'}),\n",
        "                       \n",
        "\n",
        "\n",
        "                       html.Div([\n",
        "                                 dcc.Dropdown(id='my_dropdown',\n",
        "                                              options=[{'label': col, 'value': col} for col in data_for_dash.columns],\n",
        "                                              value='Food'\n",
        "                                              ),\n",
        "                                 dcc.Graph(id='my_graph'),\n",
        "                                \n",
        "                                html.Div([\n",
        "                                 html.H3('Histogram Bin Num: '),\n",
        "                                 dcc.Input(id='bin_num', value=10, type='number'),\n",
        "                                ]),\n",
        "                       ], style={'width': '70%', 'display': 'inline-block'}),\n",
        "                      ]),\n",
        "                       \n",
        "                       html.Div([\n",
        "                       dcc.RangeSlider(id='my_range_slider',\n",
        "                                       min=0,\n",
        "                                       max=data_for_dash['Y_Income'].max()\n",
        "                                       \n",
        "                                       ),\n",
        "                        html.Button(id='slider_button', children='graph update'),\n",
        "                       ], style={'width': '90%', 'height': 100, 'margin': 'auto'}),\n",
        "\n",
        "])\n",
        "\n",
        "@app.callback(Output('input_zone', 'children'), [Input('my_button', 'n_clicks')], [State('input_zone', 'children')], prevent_initial_call=True)\n",
        "def update_input_zone(n_clicks, existing_children):\n",
        "  my_inputs = html.Div([\n",
        "                        dcc.Input(id={'type': 'my_inputs', 'index': n_clicks}, value=0)\n",
        "  ])\n",
        "  existing_children.append(my_inputs)\n",
        "  return existing_children\n",
        "\n",
        "@app.callback(Output('my_range_slider', 'value'), [Input({'type': 'my_inputs', 'index': ALL}, 'value')])\n",
        "def update_slider(enter_values):\n",
        "  if len(enter_values) > 1:\n",
        "    enter_values = [int(i) for i in enter_values]\n",
        "  return enter_values\n",
        "\n",
        "@app.callback(Output('my_graph', 'figure'), [Input('slider_button', 'n_clicks'), Input('my_dropdown', 'value'), Input('bin_num', 'value')], [State('my_range_slider','value')], prevent_initial_call=True)\n",
        "def update_graph(n_clicks, slider_values, bin_num, selected_values):\n",
        "\n",
        "  if len(selected_values) > 1 and sum(selected_values) > 1:\n",
        "    bin_array = np.digitize(data_for_dash['Y_Income'], selected_values)\n",
        "    data_for_dash['bins'] = bin_array  \n",
        "    fig = go.Figure()\n",
        "    for num in data_for_dash['bins'].unique():\n",
        "      update_df = data_for_dash[data_for_dash['bins'] == num]\n",
        "      fig.add_trace(go.Histogram(x=update_df[slider_values], histnorm='probability', nbinsx=bin_num))\n",
        "  \n",
        "    return fig\n",
        "  return dash.no_update\n",
        "\n",
        "\n",
        "app.run_server(mode='inline')"
      ],
      "execution_count": null,
      "outputs": []
    },
    {
      "cell_type": "code",
      "metadata": {
        "id": "FTwcpD6rqDxD",
        "colab_type": "code",
        "colab": {}
      },
      "source": [
        "data_for_dash"
      ],
      "execution_count": null,
      "outputs": []
    },
    {
      "cell_type": "code",
      "metadata": {
        "id": "j7g0nlHX0FIr",
        "colab_type": "code",
        "colab": {}
      },
      "source": [
        "from google.colab import drive\n",
        "drive.mount('/content/drive')"
      ],
      "execution_count": null,
      "outputs": []
    },
    {
      "cell_type": "code",
      "metadata": {
        "id": "Wht2ralT0Qjf",
        "colab_type": "code",
        "colab": {}
      },
      "source": [
        "!mkdir '/content/drive/My Drive/pycon-tutorial'"
      ],
      "execution_count": null,
      "outputs": []
    },
    {
      "cell_type": "code",
      "metadata": {
        "id": "PyAVYZ9r0guX",
        "colab_type": "code",
        "colab": {}
      },
      "source": [
        "data_for_dash.to_csv('/content/drive/My Drive/pycon-tutorial/data_for_dash.csv')"
      ],
      "execution_count": null,
      "outputs": []
    },
    {
      "cell_type": "code",
      "metadata": {
        "id": "pHqj7egW1ESb",
        "colab_type": "code",
        "colab": {}
      },
      "source": [
        "test = dcc.RangeSlider(min=0, max=100, value=[0,100,200,300,400])"
      ],
      "execution_count": null,
      "outputs": []
    },
    {
      "cell_type": "code",
      "metadata": {
        "id": "2EnKKoZdX6_6",
        "colab_type": "code",
        "colab": {}
      },
      "source": [
        "test.value"
      ],
      "execution_count": null,
      "outputs": []
    },
    {
      "cell_type": "code",
      "metadata": {
        "id": "9uzxLkfpX8S2",
        "colab_type": "code",
        "colab": {}
      },
      "source": [
        "sum(test.value)"
      ],
      "execution_count": null,
      "outputs": []
    },
    {
      "cell_type": "code",
      "metadata": {
        "id": "fnjfh2h6X_b7",
        "colab_type": "code",
        "colab": {}
      },
      "source": [
        "len(test.value)"
      ],
      "execution_count": null,
      "outputs": []
    },
    {
      "cell_type": "code",
      "metadata": {
        "id": "PtH59-MbYQx5",
        "colab_type": "code",
        "colab": {}
      },
      "source": [
        "if (len(test.value) > 4) & (sum(test.value) > 1):\n",
        "  print(\"yeah\")\n",
        "else:\n",
        "  print('nooo')"
      ],
      "execution_count": null,
      "outputs": []
    },
    {
      "cell_type": "code",
      "metadata": {
        "id": "WJVDxNR4YWlh",
        "colab_type": "code",
        "colab": {}
      },
      "source": [
        ""
      ],
      "execution_count": null,
      "outputs": []
    }
  ]
}