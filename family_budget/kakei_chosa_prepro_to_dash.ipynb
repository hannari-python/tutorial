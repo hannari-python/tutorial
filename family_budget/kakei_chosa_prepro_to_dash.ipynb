{
  "nbformat": 4,
  "nbformat_minor": 0,
  "metadata": {
    "colab": {
      "name": "kakei_chosa_prepro_to_dash.ipynb",
      "provenance": [],
      "collapsed_sections": [],
      "include_colab_link": true
    },
    "kernelspec": {
      "name": "python3",
      "display_name": "Python 3"
    }
  },
  "cells": [
    {
      "cell_type": "markdown",
      "metadata": {
        "id": "view-in-github",
        "colab_type": "text"
      },
      "source": [
        "<a href=\"https://colab.research.google.com/github/hannari-python/tutorial/blob/master/household/kakei_chosa_prepro_to_dash.ipynb\" target=\"_parent\"><img src=\"https://colab.research.google.com/assets/colab-badge.svg\" alt=\"Open In Colab\"/></a>"
      ]
    },
    {
      "cell_type": "markdown",
      "metadata": {
        "id": "uewWBvZeQEuV",
        "colab_type": "text"
      },
      "source": [
        "# 家計調査データの分析\n",
        "\n",
        "## データの紹介\n",
        "\n",
        "- [独立行政法人 統計センター 一般用ミクロデータ 平成21年全国消費実態調査 （十大費目）](https://github.com/hannari-python/tutorial/raw/master/data/ippan-microdata/ippan_2009zensho.zip) https://www.nstac.go.jp/services/ippan-microdata.html\n",
        "- [独立行政法人 統計センター 一般用ミクロデータ 平成21年全国消費実態調査 （詳細品目）](https://github.com/hannari-python/tutorial/raw/master/data/ippan-microdata/ippan_2009zensho_s.zip) https://www.nstac.go.jp/services/ippan-microdata.html\n",
        "- [独立行政法人 統計センター 一般用ミクロデータ 就業構造基本調査 （平成４年～24年）](https://github.com/hannari-python/tutorial/raw/master/data/ippan-microdata/ippan_shugyou.zip) https://www.nstac.go.jp/services/ippan-microdata.html\n",
        "\n",
        "## 課題1\n",
        "\n",
        "https://www.nstac.go.jp/services/ippan-microdata.html\n",
        "\n",
        "をクリックし、ippan_2009zensho.zip と ippan_2009zensho_s.zip がどのように異なるか見てみましょう。\n",
        "\n",
        "## データの取得と解凍\n",
        "\n",
        "! は ...と呼ばれます。\n",
        "!の後にLinuxコマンドを書くとそのセルの命令はPythonプログラムではなくLinuxのコマンドとして実行されます。\n",
        "\n",
        "wget はデータをダウンロードするのに使うことができるLinuxのコマンドです。"
      ]
    },
    {
      "cell_type": "code",
      "metadata": {
        "id": "w5QVPuKRVOJ1",
        "colab_type": "code",
        "colab": {}
      },
      "source": [
        "!wget https://github.com/hannari-python/tutorial/raw/master/data/ippan-microdata/ippan_2009zensho_s.zip"
      ],
      "execution_count": null,
      "outputs": []
    },
    {
      "cell_type": "markdown",
      "metadata": {
        "id": "A5sEpVXJdYaC",
        "colab_type": "text"
      },
      "source": [
        "unzip を zip ファイルを解凍する Linux コマンドです。"
      ]
    },
    {
      "cell_type": "code",
      "metadata": {
        "id": "2QFuEfMhVONS",
        "colab_type": "code",
        "colab": {}
      },
      "source": [
        "!unzip /content/ippan_2009zensho_s.zip"
      ],
      "execution_count": null,
      "outputs": []
    },
    {
      "cell_type": "markdown",
      "metadata": {
        "id": "OtGTQ3bsSyGv",
        "colab_type": "text"
      },
      "source": [
        "## 課題2\n",
        "\n",
        "- `ippan_2009zensho_s_dataset.csv` の何行目からが表データのスタートか見てみましょう\n"
      ]
    },
    {
      "cell_type": "markdown",
      "metadata": {
        "id": "DRLEWYJ2TSyE",
        "colab_type": "text"
      },
      "source": [
        "## 分析に必要なPythonパッケージのインストール\n",
        "\n",
        "pip はPythonのパッケージをインストールするためのコマンドです。\n",
        "空白を間にはさみ複数のパッケージを連続して書くとそれらがすべてインストールされます。\n",
        "`-U` オプションは ... を意味します。\n",
        "\n",
        "dashは...\n",
        "\n",
        "jupyter_dashは...\n",
        "\n",
        "plotlyは\n",
        "\n",
        "を行うPythonパッケージです。"
      ]
    },
    {
      "cell_type": "code",
      "metadata": {
        "id": "ymx_xkwEnIVl",
        "colab_type": "code",
        "colab": {}
      },
      "source": [
        "!pip install dash jupyter_dash \n",
        "!pip install -U plotly"
      ],
      "execution_count": null,
      "outputs": []
    },
    {
      "cell_type": "code",
      "metadata": {
        "id": "UXdGhMLqUKRM",
        "colab_type": "code",
        "colab": {}
      },
      "source": [
        "import pandas as pd"
      ],
      "execution_count": null,
      "outputs": []
    },
    {
      "cell_type": "code",
      "metadata": {
        "id": "irnQy76UVAQG",
        "colab_type": "code",
        "colab": {}
      },
      "source": [
        "s = pd.read_csv('/content/ippan_2009zensho_s/ippan_2009zensho_s_dataset.csv', encoding='shift_jis', header=8)"
      ],
      "execution_count": null,
      "outputs": []
    },
    {
      "cell_type": "markdown",
      "metadata": {
        "id": "ZW6mlPWfXzWD",
        "colab_type": "text"
      },
      "source": [
        "## 課題3\n",
        "- `encoding` オプションを付けないと`s`がどうなるか確認しましょう\n",
        "- `header` オプションを付けないと`s`がどうなるか確認しましょう\n",
        "- `header` オプションの数値を変えると`s`がどうなるか確認しましょう"
      ]
    },
    {
      "cell_type": "code",
      "metadata": {
        "id": "MfNzhOd1VZsn",
        "colab_type": "code",
        "colab": {}
      },
      "source": [
        "s.shape"
      ],
      "execution_count": null,
      "outputs": []
    },
    {
      "cell_type": "markdown",
      "metadata": {
        "id": "Ft6SfrYWSKlC",
        "colab_type": "text"
      },
      "source": [
        "## データフレームとは\n",
        "\n",
        "ここで `s` のデータ構造はデータフレームと呼ばれます。\n",
        "データフレームとは...\n",
        "\n",
        "## 課題4\n",
        "\n",
        "- `ippan_2009zensho_s.xls` を Google Sheets で開いて、データ行列の定義を確認しましょう。"
      ]
    },
    {
      "cell_type": "markdown",
      "metadata": {
        "id": "aZ1VWlNoT3wY",
        "colab_type": "text"
      },
      "source": [
        "## データフレームの列の選択\n",
        "\n",
        "`s` のうち ... の列を選択し ... だけを取得してみましょう\n",
        "そのためにはデータフレームの `loc` メソッドを使います。"
      ]
    },
    {
      "cell_type": "code",
      "metadata": {
        "id": "ZNi7Qib_VfLs",
        "colab_type": "code",
        "colab": {}
      },
      "source": [
        "data = s.loc[:, :'OL_Expenditure']\n",
        "data"
      ],
      "execution_count": null,
      "outputs": []
    },
    {
      "cell_type": "markdown",
      "metadata": {
        "id": "T2QyvMscVBYM",
        "colab_type": "text"
      },
      "source": [
        "## [記述統計量(英: descriptive statistics value)](https://ja.wikipedia.org/wiki/%E8%A6%81%E7%B4%84%E7%B5%B1%E8%A8%88%E9%87%8F) の確認\n",
        "\n",
        "記述統計量を確認しデータの範囲や代表的な値がどの程度か確認しましょう。\n",
        "そのためにはデータフレームの `describe` メソッドを使います。\n"
      ]
    },
    {
      "cell_type": "code",
      "metadata": {
        "id": "ddNt6tnfVzty",
        "colab_type": "code",
        "colab": {}
      },
      "source": [
        "data.describe()"
      ],
      "execution_count": null,
      "outputs": []
    },
    {
      "cell_type": "markdown",
      "metadata": {
        "id": "NW7VtmyTZO9L",
        "colab_type": "text"
      },
      "source": [
        "## plotly (express) を用いた可視化\n",
        "\n",
        "plotlyとは ... です。\n",
        "ここでは ... を可視化してみましょう。"
      ]
    },
    {
      "cell_type": "code",
      "metadata": {
        "id": "OaD6KdUhWZ_K",
        "colab_type": "code",
        "colab": {}
      },
      "source": [
        "import plotly.express as px"
      ],
      "execution_count": null,
      "outputs": []
    },
    {
      "cell_type": "code",
      "metadata": {
        "id": "eQDgcnkY2twC",
        "colab_type": "code",
        "colab": {}
      },
      "source": [
        "px.violin(data, y=data.columns)"
      ],
      "execution_count": null,
      "outputs": []
    },
    {
      "cell_type": "code",
      "metadata": {
        "id": "stOlxAbqXGtV",
        "colab_type": "code",
        "colab": {}
      },
      "source": [
        "px.histogram(data, x='Y_Income', histnorm='percent', nbins=100)"
      ],
      "execution_count": null,
      "outputs": []
    },
    {
      "cell_type": "code",
      "metadata": {
        "id": "cY08D9VUXUtR",
        "colab_type": "code",
        "colab": {}
      },
      "source": [
        "data_bins = pd.cut(data['Y_Income'].values, bins=10)"
      ],
      "execution_count": null,
      "outputs": []
    },
    {
      "cell_type": "code",
      "metadata": {
        "id": "7-HyMJapXku0",
        "colab_type": "code",
        "colab": {}
      },
      "source": [
        "data_bins"
      ],
      "execution_count": null,
      "outputs": []
    },
    {
      "cell_type": "markdown",
      "metadata": {
        "id": "R1AJEZDXaU2p",
        "colab_type": "text"
      },
      "source": [
        "# ↑いまいちなビン作り・・・\n",
        "# ↓自作bin作成"
      ]
    },
    {
      "cell_type": "code",
      "metadata": {
        "id": "q-7TueRTXwxZ",
        "colab_type": "code",
        "colab": {}
      },
      "source": [
        "bin_image = [0, 2000, 4000, 6000, 8000, 12000, 20000]"
      ],
      "execution_count": null,
      "outputs": []
    },
    {
      "cell_type": "code",
      "metadata": {
        "id": "jPSVkwnHakXM",
        "colab_type": "code",
        "colab": {}
      },
      "source": [
        "bin_image"
      ],
      "execution_count": null,
      "outputs": []
    },
    {
      "cell_type": "code",
      "metadata": {
        "id": "bi2-gSCpalbB",
        "colab_type": "code",
        "colab": {}
      },
      "source": [
        "import numpy as np"
      ],
      "execution_count": null,
      "outputs": []
    },
    {
      "cell_type": "code",
      "metadata": {
        "id": "aDVnoMiUa82O",
        "colab_type": "code",
        "colab": {}
      },
      "source": [
        "bin_image = [0, 2000, 4000, 6000, 8000, 12000, 20000]\n",
        "bin_array = np.digitize(data['Y_Income'], bin_image)"
      ],
      "execution_count": null,
      "outputs": []
    },
    {
      "cell_type": "code",
      "metadata": {
        "id": "1LDUHcpubEhB",
        "colab_type": "code",
        "colab": {}
      },
      "source": [
        ""
      ],
      "execution_count": null,
      "outputs": []
    },
    {
      "cell_type": "code",
      "metadata": {
        "id": "fiY8dbVfbYVt",
        "colab_type": "code",
        "colab": {}
      },
      "source": [
        ""
      ],
      "execution_count": null,
      "outputs": []
    },
    {
      "cell_type": "code",
      "metadata": {
        "id": "OCzgvj1Ic7gq",
        "colab_type": "code",
        "colab": {}
      },
      "source": [
        "cont = pd.read_excel(\"/content/ippan_2009zensho_s/ippan_2009zensho_s.xls\")"
      ],
      "execution_count": null,
      "outputs": []
    },
    {
      "cell_type": "code",
      "metadata": {
        "id": "gdAnAbjydNAs",
        "colab_type": "code",
        "colab": {}
      },
      "source": [
        "cont[:50]"
      ],
      "execution_count": null,
      "outputs": []
    },
    {
      "cell_type": "markdown",
      "metadata": {
        "id": "yvC1veFTKqYL",
        "colab_type": "text"
      },
      "source": [
        "## 各消費分類の消費支出に対する割合を作成する"
      ]
    },
    {
      "cell_type": "code",
      "metadata": {
        "id": "Q1mJlVoidNqW",
        "colab_type": "code",
        "colab": {}
      },
      "source": [
        "data_test = data.loc[: ,'L_Expenditure':'OL_Expenditure']"
      ],
      "execution_count": null,
      "outputs": []
    },
    {
      "cell_type": "code",
      "metadata": {
        "id": "9NrMjml1dxoE",
        "colab_type": "code",
        "colab": {}
      },
      "source": [
        "data_test"
      ],
      "execution_count": null,
      "outputs": []
    },
    {
      "cell_type": "code",
      "metadata": {
        "id": "4Zn1KNLeej5a",
        "colab_type": "code",
        "colab": {}
      },
      "source": [
        "data_test.apply(lambda x: x/ data_test['L_Expenditure'])"
      ],
      "execution_count": null,
      "outputs": []
    },
    {
      "cell_type": "code",
      "metadata": {
        "id": "J_3AT3QThpvb",
        "colab_type": "code",
        "colab": {}
      },
      "source": [
        "data_expenditure_ratio = data_test.apply(lambda x: x / data_test['L_Expenditure'])\n",
        "data_front = data.loc[:, :'Y_Income']"
      ],
      "execution_count": null,
      "outputs": []
    },
    {
      "cell_type": "code",
      "metadata": {
        "id": "RfWdDPjq3zTN",
        "colab_type": "code",
        "colab": {}
      },
      "source": [
        "px.violin(data_expenditure_ratio, x=data_expenditure_ratio.columns[1:])"
      ],
      "execution_count": null,
      "outputs": []
    },
    {
      "cell_type": "code",
      "metadata": {
        "id": "pWCjjTeIiKdj",
        "colab_type": "code",
        "colab": {}
      },
      "source": [
        "data_front = data_front.drop('Weight',axis=1)"
      ],
      "execution_count": null,
      "outputs": []
    },
    {
      "cell_type": "code",
      "metadata": {
        "id": "NadANZSaiLdj",
        "colab_type": "code",
        "colab": {}
      },
      "source": [
        "data_preped = pd.concat([data_front, data_expenditure_ratio], axis=1)"
      ],
      "execution_count": null,
      "outputs": []
    },
    {
      "cell_type": "code",
      "metadata": {
        "id": "jv6NXH1lioXf",
        "colab_type": "code",
        "colab": {}
      },
      "source": [
        "data_preped"
      ],
      "execution_count": null,
      "outputs": []
    },
    {
      "cell_type": "code",
      "metadata": {
        "id": "Tczfv3qHipVS",
        "colab_type": "code",
        "colab": {}
      },
      "source": [
        "bin_image = [0, 2000, 4000, 6000, 8000, 12000, 20000]\n",
        "bin_array = np.digitize(data['Y_Income'], bin_image)\n",
        "data_preped['bins'] = bin_array"
      ],
      "execution_count": null,
      "outputs": []
    },
    {
      "cell_type": "code",
      "metadata": {
        "id": "_o00j0_Ri1eJ",
        "colab_type": "code",
        "colab": {}
      },
      "source": [
        "data_preped"
      ],
      "execution_count": null,
      "outputs": []
    },
    {
      "cell_type": "code",
      "metadata": {
        "id": "aWbzNXMoi9Fh",
        "colab_type": "code",
        "colab": {}
      },
      "source": [
        "import plotly.graph_objects as go"
      ],
      "execution_count": null,
      "outputs": []
    },
    {
      "cell_type": "code",
      "metadata": {
        "id": "3q7zO7abjFBu",
        "colab_type": "code",
        "colab": {}
      },
      "source": [
        "fig = go.Figure()\n",
        "\n",
        "for num in data_preped.bins.unique():\n",
        "  data_preped_num = data_preped[data_preped['bins'] == num]\n",
        "  fig.add_trace(go.Histogram(x=data_preped_num['Food'], name=f'{num}', histnorm='probability', nbinsx=20))\n",
        "\n",
        "fig.show()"
      ],
      "execution_count": null,
      "outputs": []
    },
    {
      "cell_type": "markdown",
      "metadata": {
        "id": "4U-gXGFtmHF6",
        "colab_type": "text"
      },
      "source": [
        "## どんな可視化をするか？\n",
        "\n",
        "- ビンの個数を動かせる\n",
        "- ビンの数値を変更できる\n",
        "- それをヒストグラムで描画できる"
      ]
    },
    {
      "cell_type": "code",
      "metadata": {
        "id": "ljiSW4i_ujO4",
        "colab_type": "code",
        "colab": {}
      },
      "source": [
        "data_for_dash = data_preped.drop('bins', axis=1)"
      ],
      "execution_count": null,
      "outputs": []
    },
    {
      "cell_type": "code",
      "metadata": {
        "id": "R1TNGkLzmpl-",
        "colab_type": "code",
        "colab": {}
      },
      "source": [
        "from jupyter_dash import JupyterDash \n",
        "import dash_core_components as dcc \n",
        "import dash_html_components as html \n",
        "\n",
        "from dash.dependencies import Input, Output, State, ALL"
      ],
      "execution_count": null,
      "outputs": []
    },
    {
      "cell_type": "code",
      "metadata": {
        "id": "EIvfWFbonD1c",
        "colab_type": "code",
        "colab": {}
      },
      "source": [
        "external_stylesheets = ['https://codepen.io/chriddyp/pen/bWLwgP.css']\n",
        "\n",
        "app = JupyterDash(__name__, external_stylesheets=external_stylesheets)\n",
        "\n",
        "app.layout = html.Div([\n",
        "                       \n",
        "\n",
        "                       html.Button(id='my_button', children='Add Input'),\n",
        "                      \n",
        "                      html.Div([\n",
        "                       html.Div([\n",
        "                       html.Div(id='input_zone', children=[]),\n",
        "                      ], style={'width': '25%', 'display': 'inline-block', 'verticalAlign': 'top'}),\n",
        "                       \n",
        "\n",
        "\n",
        "                       html.Div([\n",
        "                                 dcc.Dropdown(id='my_dropdown',\n",
        "                                              options=[{'label': col, 'value': col} for col in data_for_dash.columns],\n",
        "                                              value='Food'\n",
        "                                              ),\n",
        "                                 dcc.Graph(id='my_graph'),\n",
        "                                \n",
        "                                html.Div([\n",
        "                                 html.H3('Histogram Bin Num: '),\n",
        "                                 dcc.Input(id='bin_num', value=10, type='number'),\n",
        "                                ]),\n",
        "                       ], style={'width': '70%', 'display': 'inline-block'}),\n",
        "                      ]),\n",
        "                       \n",
        "                       html.Div([\n",
        "                       dcc.RangeSlider(id='my_range_slider',\n",
        "                                       min=0,\n",
        "                                       max=data_for_dash['Y_Income'].max()\n",
        "                                       \n",
        "                                       ),\n",
        "                        html.Button(id='slider_button', children='graph update'),\n",
        "                       ], style={'width': '90%', 'height': 100, 'margin': 'auto'}),\n",
        "\n",
        "])\n",
        "\n",
        "@app.callback(Output('input_zone', 'children'), [Input('my_button', 'n_clicks')], [State('input_zone', 'children')], prevent_initial_call=True)\n",
        "def update_input_zone(n_clicks, existing_children):\n",
        "  my_inputs = html.Div([\n",
        "                        dcc.Input(id={'type': 'my_inputs', 'index': n_clicks}, value=0)\n",
        "  ])\n",
        "  existing_children.append(my_inputs)\n",
        "  return existing_children\n",
        "\n",
        "@app.callback(Output('my_range_slider', 'value'), [Input({'type': 'my_inputs', 'index': ALL}, 'value')])\n",
        "def update_slider(enter_values):\n",
        "  if len(enter_values) > 1:\n",
        "    enter_values = [int(i) for i in enter_values]\n",
        "  return enter_values\n",
        "\n",
        "@app.callback(Output('my_graph', 'figure'), [Input('slider_button', 'n_clicks'), Input('my_dropdown', 'value'), Input('bin_num', 'value')], [State('my_range_slider','value')], prevent_initial_call=True)\n",
        "def update_graph(n_clicks, slider_values, bin_num, selected_values):\n",
        "\n",
        "  if len(selected_values) > 1 and sum(selected_values) > 1:\n",
        "    bin_array = np.digitize(data_for_dash['Y_Income'], selected_values)\n",
        "    data_for_dash['bins'] = bin_array  \n",
        "    fig = go.Figure()\n",
        "    for num in data_for_dash['bins'].unique():\n",
        "      update_df = data_for_dash[data_for_dash['bins'] == num]\n",
        "      fig.add_trace(go.Histogram(x=update_df[slider_values], histnorm='probability', nbinsx=bin_num))\n",
        "  \n",
        "    return fig\n",
        "  return dash.no_update\n",
        "\n",
        "\n",
        "app.run_server(mode='inline')"
      ],
      "execution_count": null,
      "outputs": []
    },
    {
      "cell_type": "code",
      "metadata": {
        "id": "FTwcpD6rqDxD",
        "colab_type": "code",
        "colab": {}
      },
      "source": [
        "data_for_dash"
      ],
      "execution_count": null,
      "outputs": []
    },
    {
      "cell_type": "code",
      "metadata": {
        "id": "j7g0nlHX0FIr",
        "colab_type": "code",
        "colab": {}
      },
      "source": [
        "from google.colab import drive\n",
        "drive.mount('/content/drive')"
      ],
      "execution_count": null,
      "outputs": []
    },
    {
      "cell_type": "code",
      "metadata": {
        "id": "Wht2ralT0Qjf",
        "colab_type": "code",
        "colab": {}
      },
      "source": [
        "!mkdir '/content/drive/My Drive/pycon-tutorial'"
      ],
      "execution_count": null,
      "outputs": []
    },
    {
      "cell_type": "code",
      "metadata": {
        "id": "PyAVYZ9r0guX",
        "colab_type": "code",
        "colab": {}
      },
      "source": [
        "data_for_dash.to_csv('/content/drive/My Drive/pycon-tutorial/data_for_dash.csv')"
      ],
      "execution_count": null,
      "outputs": []
    },
    {
      "cell_type": "code",
      "metadata": {
        "id": "pHqj7egW1ESb",
        "colab_type": "code",
        "colab": {}
      },
      "source": [
        "test = dcc.RangeSlider(min=0, max=100, value=[0,100,200,300,400])"
      ],
      "execution_count": null,
      "outputs": []
    },
    {
      "cell_type": "code",
      "metadata": {
        "id": "2EnKKoZdX6_6",
        "colab_type": "code",
        "colab": {}
      },
      "source": [
        "test.value"
      ],
      "execution_count": null,
      "outputs": []
    },
    {
      "cell_type": "code",
      "metadata": {
        "id": "9uzxLkfpX8S2",
        "colab_type": "code",
        "colab": {}
      },
      "source": [
        "sum(test.value)"
      ],
      "execution_count": null,
      "outputs": []
    },
    {
      "cell_type": "code",
      "metadata": {
        "id": "fnjfh2h6X_b7",
        "colab_type": "code",
        "colab": {}
      },
      "source": [
        "len(test.value)"
      ],
      "execution_count": null,
      "outputs": []
    },
    {
      "cell_type": "code",
      "metadata": {
        "id": "PtH59-MbYQx5",
        "colab_type": "code",
        "colab": {}
      },
      "source": [
        "if (len(test.value) > 4) & (sum(test.value) > 1):\n",
        "  print(\"yeah\")\n",
        "else:\n",
        "  print('nooo')"
      ],
      "execution_count": null,
      "outputs": []
    },
    {
      "cell_type": "code",
      "metadata": {
        "id": "WJVDxNR4YWlh",
        "colab_type": "code",
        "colab": {}
      },
      "source": [
        ""
      ],
      "execution_count": null,
      "outputs": []
    }
  ]
}