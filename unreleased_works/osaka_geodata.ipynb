{
  "nbformat": 4,
  "nbformat_minor": 0,
  "metadata": {
    "colab": {
      "name": "osaka_geodata.ipynb",
      "provenance": [],
      "collapsed_sections": [],
      "toc_visible": true,
      "authorship_tag": "ABX9TyP8co2bfATza5GMJ1RsYPB6",
      "include_colab_link": true
    },
    "kernelspec": {
      "name": "python3",
      "display_name": "Python 3"
    }
  },
  "cells": [
    {
      "cell_type": "markdown",
      "metadata": {
        "id": "view-in-github",
        "colab_type": "text"
      },
      "source": [
        "<a href=\"https://colab.research.google.com/github/hannari-python/tutorial/blob/master/osaka_geodata.ipynb\" target=\"_parent\"><img src=\"https://colab.research.google.com/assets/colab-badge.svg\" alt=\"Open In Colab\"/></a>"
      ]
    },
    {
      "cell_type": "code",
      "metadata": {
        "id": "EAC3DtvD5J85",
        "colab_type": "code",
        "colab": {
          "base_uri": "https://localhost:8080/",
          "height": 492
        },
        "outputId": "3c7e8262-4b00-4b84-a080-3b9a0d167fa2"
      },
      "source": [
        "!pip install geopandas "
      ],
      "execution_count": 1,
      "outputs": [
        {
          "output_type": "stream",
          "text": [
            "Collecting geopandas\n",
            "\u001b[?25l  Downloading https://files.pythonhosted.org/packages/f7/a4/e66aafbefcbb717813bf3a355c8c4fc3ed04ea1dd7feb2920f2f4f868921/geopandas-0.8.1-py2.py3-none-any.whl (962kB)\n",
            "\u001b[K     |████████████████████████████████| 972kB 2.7MB/s \n",
            "\u001b[?25hCollecting fiona\n",
            "\u001b[?25l  Downloading https://files.pythonhosted.org/packages/ec/20/4e63bc5c6e62df889297b382c3ccd4a7a488b00946aaaf81a118158c6f09/Fiona-1.8.13.post1-cp36-cp36m-manylinux1_x86_64.whl (14.7MB)\n",
            "\u001b[K     |████████████████████████████████| 14.7MB 300kB/s \n",
            "\u001b[?25hRequirement already satisfied: shapely in /usr/local/lib/python3.6/dist-packages (from geopandas) (1.7.0)\n",
            "Requirement already satisfied: pandas>=0.23.0 in /usr/local/lib/python3.6/dist-packages (from geopandas) (1.0.5)\n",
            "Collecting pyproj>=2.2.0\n",
            "\u001b[?25l  Downloading https://files.pythonhosted.org/packages/e5/c3/071e080230ac4b6c64f1a2e2f9161c9737a2bc7b683d2c90b024825000c0/pyproj-2.6.1.post1-cp36-cp36m-manylinux2010_x86_64.whl (10.9MB)\n",
            "\u001b[K     |████████████████████████████████| 10.9MB 38.0MB/s \n",
            "\u001b[?25hCollecting munch\n",
            "  Downloading https://files.pythonhosted.org/packages/cc/ab/85d8da5c9a45e072301beb37ad7f833cd344e04c817d97e0cc75681d248f/munch-2.5.0-py2.py3-none-any.whl\n",
            "Collecting click-plugins>=1.0\n",
            "  Downloading https://files.pythonhosted.org/packages/e9/da/824b92d9942f4e472702488857914bdd50f73021efea15b4cad9aca8ecef/click_plugins-1.1.1-py2.py3-none-any.whl\n",
            "Requirement already satisfied: click<8,>=4.0 in /usr/local/lib/python3.6/dist-packages (from fiona->geopandas) (7.1.2)\n",
            "Collecting cligj>=0.5\n",
            "  Downloading https://files.pythonhosted.org/packages/e4/be/30a58b4b0733850280d01f8bd132591b4668ed5c7046761098d665ac2174/cligj-0.5.0-py3-none-any.whl\n",
            "Requirement already satisfied: attrs>=17 in /usr/local/lib/python3.6/dist-packages (from fiona->geopandas) (19.3.0)\n",
            "Requirement already satisfied: six>=1.7 in /usr/local/lib/python3.6/dist-packages (from fiona->geopandas) (1.15.0)\n",
            "Requirement already satisfied: pytz>=2017.2 in /usr/local/lib/python3.6/dist-packages (from pandas>=0.23.0->geopandas) (2018.9)\n",
            "Requirement already satisfied: python-dateutil>=2.6.1 in /usr/local/lib/python3.6/dist-packages (from pandas>=0.23.0->geopandas) (2.8.1)\n",
            "Requirement already satisfied: numpy>=1.13.3 in /usr/local/lib/python3.6/dist-packages (from pandas>=0.23.0->geopandas) (1.18.5)\n",
            "Installing collected packages: munch, click-plugins, cligj, fiona, pyproj, geopandas\n",
            "Successfully installed click-plugins-1.1.1 cligj-0.5.0 fiona-1.8.13.post1 geopandas-0.8.1 munch-2.5.0 pyproj-2.6.1.post1\n"
          ],
          "name": "stdout"
        }
      ]
    },
    {
      "cell_type": "code",
      "metadata": {
        "id": "LHo3HkNG5XXe",
        "colab_type": "code",
        "colab": {}
      },
      "source": [
        "import geopandas as gpd"
      ],
      "execution_count": 3,
      "outputs": []
    },
    {
      "cell_type": "code",
      "metadata": {
        "id": "jQ3eeg5Z8OnK",
        "colab_type": "code",
        "colab": {}
      },
      "source": [
        "import pandas as pd"
      ],
      "execution_count": 7,
      "outputs": []
    },
    {
      "cell_type": "code",
      "metadata": {
        "id": "raP_xT6K_ULu",
        "colab_type": "code",
        "colab": {}
      },
      "source": [
        "df = pd.read_html('http://note.omarukun.com/notes/4/')[0]"
      ],
      "execution_count": 8,
      "outputs": []
    },
    {
      "cell_type": "code",
      "metadata": {
        "id": "-VHA4ZTi_WBW",
        "colab_type": "code",
        "colab": {
          "base_uri": "https://localhost:8080/",
          "height": 407
        },
        "outputId": "a25f9edd-0bbf-4f0a-ec1d-4618b1cae39d"
      },
      "source": [
        "df[df['都道府県'] == '大阪府']"
      ],
      "execution_count": 9,
      "outputs": [
        {
          "output_type": "execute_result",
          "data": {
            "text/html": [
              "<div>\n",
              "<style scoped>\n",
              "    .dataframe tbody tr th:only-of-type {\n",
              "        vertical-align: middle;\n",
              "    }\n",
              "\n",
              "    .dataframe tbody tr th {\n",
              "        vertical-align: top;\n",
              "    }\n",
              "\n",
              "    .dataframe thead th {\n",
              "        text-align: right;\n",
              "    }\n",
              "</style>\n",
              "<table border=\"1\" class=\"dataframe\">\n",
              "  <thead>\n",
              "    <tr style=\"text-align: right;\">\n",
              "      <th></th>\n",
              "      <th>コード</th>\n",
              "      <th>都道府県</th>\n",
              "      <th>市区町村</th>\n",
              "      <th>市区町村.1</th>\n",
              "      <th>緯度</th>\n",
              "      <th>経度</th>\n",
              "    </tr>\n",
              "  </thead>\n",
              "  <tbody>\n",
              "    <tr>\n",
              "      <th>1204</th>\n",
              "      <td>271021</td>\n",
              "      <td>大阪府</td>\n",
              "      <td>大阪市</td>\n",
              "      <td>都島区</td>\n",
              "      <td>34.701279</td>\n",
              "      <td>135.528090</td>\n",
              "    </tr>\n",
              "    <tr>\n",
              "      <th>1205</th>\n",
              "      <td>271039</td>\n",
              "      <td>大阪府</td>\n",
              "      <td>大阪市</td>\n",
              "      <td>福島区</td>\n",
              "      <td>34.692337</td>\n",
              "      <td>135.472229</td>\n",
              "    </tr>\n",
              "    <tr>\n",
              "      <th>1206</th>\n",
              "      <td>271047</td>\n",
              "      <td>大阪府</td>\n",
              "      <td>大阪市</td>\n",
              "      <td>此花区</td>\n",
              "      <td>34.683049</td>\n",
              "      <td>135.452328</td>\n",
              "    </tr>\n",
              "    <tr>\n",
              "      <th>1207</th>\n",
              "      <td>271063</td>\n",
              "      <td>大阪府</td>\n",
              "      <td>大阪市</td>\n",
              "      <td>西区</td>\n",
              "      <td>34.676231</td>\n",
              "      <td>135.486059</td>\n",
              "    </tr>\n",
              "    <tr>\n",
              "      <th>1208</th>\n",
              "      <td>271071</td>\n",
              "      <td>大阪府</td>\n",
              "      <td>大阪市</td>\n",
              "      <td>港区</td>\n",
              "      <td>34.663918</td>\n",
              "      <td>135.460681</td>\n",
              "    </tr>\n",
              "    <tr>\n",
              "      <th>...</th>\n",
              "      <td>...</td>\n",
              "      <td>...</td>\n",
              "      <td>...</td>\n",
              "      <td>...</td>\n",
              "      <td>...</td>\n",
              "      <td>...</td>\n",
              "    </tr>\n",
              "    <tr>\n",
              "      <th>1271</th>\n",
              "      <td>273627</td>\n",
              "      <td>大阪府</td>\n",
              "      <td>泉南郡</td>\n",
              "      <td>田尻町</td>\n",
              "      <td>34.393774</td>\n",
              "      <td>135.291174</td>\n",
              "    </tr>\n",
              "    <tr>\n",
              "      <th>1272</th>\n",
              "      <td>273660</td>\n",
              "      <td>大阪府</td>\n",
              "      <td>泉南郡</td>\n",
              "      <td>岬町</td>\n",
              "      <td>34.316978</td>\n",
              "      <td>135.142139</td>\n",
              "    </tr>\n",
              "    <tr>\n",
              "      <th>1273</th>\n",
              "      <td>273813</td>\n",
              "      <td>大阪府</td>\n",
              "      <td>南河内郡</td>\n",
              "      <td>太子町</td>\n",
              "      <td>34.518682</td>\n",
              "      <td>135.647661</td>\n",
              "    </tr>\n",
              "    <tr>\n",
              "      <th>1274</th>\n",
              "      <td>273821</td>\n",
              "      <td>大阪府</td>\n",
              "      <td>南河内郡</td>\n",
              "      <td>河南町</td>\n",
              "      <td>34.491637</td>\n",
              "      <td>135.629699</td>\n",
              "    </tr>\n",
              "    <tr>\n",
              "      <th>1275</th>\n",
              "      <td>273830</td>\n",
              "      <td>大阪府</td>\n",
              "      <td>南河内郡</td>\n",
              "      <td>千早赤阪村</td>\n",
              "      <td>34.464587</td>\n",
              "      <td>135.622537</td>\n",
              "    </tr>\n",
              "  </tbody>\n",
              "</table>\n",
              "<p>72 rows × 6 columns</p>\n",
              "</div>"
            ],
            "text/plain": [
              "         コード 都道府県  市区町村 市区町村.1         緯度          経度\n",
              "1204  271021  大阪府   大阪市    都島区  34.701279  135.528090\n",
              "1205  271039  大阪府   大阪市    福島区  34.692337  135.472229\n",
              "1206  271047  大阪府   大阪市    此花区  34.683049  135.452328\n",
              "1207  271063  大阪府   大阪市     西区  34.676231  135.486059\n",
              "1208  271071  大阪府   大阪市     港区  34.663918  135.460681\n",
              "...      ...  ...   ...    ...        ...         ...\n",
              "1271  273627  大阪府   泉南郡    田尻町  34.393774  135.291174\n",
              "1272  273660  大阪府   泉南郡     岬町  34.316978  135.142139\n",
              "1273  273813  大阪府  南河内郡    太子町  34.518682  135.647661\n",
              "1274  273821  大阪府  南河内郡    河南町  34.491637  135.629699\n",
              "1275  273830  大阪府  南河内郡  千早赤阪村  34.464587  135.622537\n",
              "\n",
              "[72 rows x 6 columns]"
            ]
          },
          "metadata": {
            "tags": []
          },
          "execution_count": 9
        }
      ]
    },
    {
      "cell_type": "code",
      "metadata": {
        "id": "3iaOG2i1_Zaa",
        "colab_type": "code",
        "colab": {}
      },
      "source": [
        "data = gpd.read_file('/content/drive/My Drive/pyconjp-tutorial/tikatyousa_2018_500m_souzokurosenka/tikatyousa_2018_500m_souzokurosenka/tikatyousa_2018_500m_souzokurosenka.shp', encoding='shift-jis')\n",
        "df = pd.read_csv('/content/drive/My Drive/pyconjp-tutorial/tikatyousa_2018_500m_souzokurosenka.csv', encoding='shift-jis')"
      ],
      "execution_count": 10,
      "outputs": []
    },
    {
      "cell_type": "code",
      "metadata": {
        "id": "E4wbBDbaDAHW",
        "colab_type": "code",
        "colab": {
          "base_uri": "https://localhost:8080/",
          "height": 597
        },
        "outputId": "cafe726c-a9d3-474c-9fa0-e885c2542731"
      },
      "source": [
        "data"
      ],
      "execution_count": 11,
      "outputs": [
        {
          "output_type": "execute_result",
          "data": {
            "text/html": [
              "<div>\n",
              "<style scoped>\n",
              "    .dataframe tbody tr th:only-of-type {\n",
              "        vertical-align: middle;\n",
              "    }\n",
              "\n",
              "    .dataframe tbody tr th {\n",
              "        vertical-align: top;\n",
              "    }\n",
              "\n",
              "    .dataframe thead th {\n",
              "        text-align: right;\n",
              "    }\n",
              "</style>\n",
              "<table border=\"1\" class=\"dataframe\">\n",
              "  <thead>\n",
              "    <tr style=\"text-align: right;\">\n",
              "      <th></th>\n",
              "      <th>MESH_CODE</th>\n",
              "      <th>最高路線価</th>\n",
              "      <th>最低路線価</th>\n",
              "      <th>平均路線価</th>\n",
              "      <th>平均最高路</th>\n",
              "      <th>平均最低路</th>\n",
              "      <th>全平均路線</th>\n",
              "      <th>geometry</th>\n",
              "    </tr>\n",
              "  </thead>\n",
              "  <tbody>\n",
              "    <tr>\n",
              "      <th>0</th>\n",
              "      <td>N095E040</td>\n",
              "      <td>107.0</td>\n",
              "      <td>59.0</td>\n",
              "      <td>83.0</td>\n",
              "      <td>104.0</td>\n",
              "      <td>71.0</td>\n",
              "      <td>88.0</td>\n",
              "      <td>POLYGON ((-41761.008 -136153.297, -41261.017 -...</td>\n",
              "    </tr>\n",
              "    <tr>\n",
              "      <th>1</th>\n",
              "      <td>N095E045</td>\n",
              "      <td>105.0</td>\n",
              "      <td>59.0</td>\n",
              "      <td>82.0</td>\n",
              "      <td>105.0</td>\n",
              "      <td>59.0</td>\n",
              "      <td>82.0</td>\n",
              "      <td>POLYGON ((-41261.017 -136153.290, -40761.023 -...</td>\n",
              "    </tr>\n",
              "    <tr>\n",
              "      <th>2</th>\n",
              "      <td>N090E035</td>\n",
              "      <td>108.0</td>\n",
              "      <td>61.0</td>\n",
              "      <td>85.0</td>\n",
              "      <td>103.0</td>\n",
              "      <td>66.0</td>\n",
              "      <td>84.0</td>\n",
              "      <td>POLYGON ((-42261.011 -136653.294, -41761.023 -...</td>\n",
              "    </tr>\n",
              "    <tr>\n",
              "      <th>3</th>\n",
              "      <td>N090E040</td>\n",
              "      <td>121.0</td>\n",
              "      <td>46.0</td>\n",
              "      <td>84.0</td>\n",
              "      <td>112.0</td>\n",
              "      <td>74.0</td>\n",
              "      <td>93.0</td>\n",
              "      <td>POLYGON ((-41761.023 -136653.292, -41261.031 -...</td>\n",
              "    </tr>\n",
              "    <tr>\n",
              "      <th>4</th>\n",
              "      <td>N090E045</td>\n",
              "      <td>120.0</td>\n",
              "      <td>46.0</td>\n",
              "      <td>83.0</td>\n",
              "      <td>97.0</td>\n",
              "      <td>68.0</td>\n",
              "      <td>83.0</td>\n",
              "      <td>POLYGON ((-41261.031 -136653.286, -40761.035 -...</td>\n",
              "    </tr>\n",
              "    <tr>\n",
              "      <th>...</th>\n",
              "      <td>...</td>\n",
              "      <td>...</td>\n",
              "      <td>...</td>\n",
              "      <td>...</td>\n",
              "      <td>...</td>\n",
              "      <td>...</td>\n",
              "      <td>...</td>\n",
              "      <td>...</td>\n",
              "    </tr>\n",
              "    <tr>\n",
              "      <th>1931</th>\n",
              "      <td>S120E070</td>\n",
              "      <td>0.0</td>\n",
              "      <td>0.0</td>\n",
              "      <td>0.0</td>\n",
              "      <td>0.0</td>\n",
              "      <td>0.0</td>\n",
              "      <td>0.0</td>\n",
              "      <td>POLYGON ((-38761.245 -157153.171, -38261.250 -...</td>\n",
              "    </tr>\n",
              "    <tr>\n",
              "      <th>1932</th>\n",
              "      <td>S120E075</td>\n",
              "      <td>0.0</td>\n",
              "      <td>0.0</td>\n",
              "      <td>0.0</td>\n",
              "      <td>0.0</td>\n",
              "      <td>0.0</td>\n",
              "      <td>0.0</td>\n",
              "      <td>POLYGON ((-38261.250 -157153.172, -37761.256 -...</td>\n",
              "    </tr>\n",
              "    <tr>\n",
              "      <th>1933</th>\n",
              "      <td>S120E080</td>\n",
              "      <td>0.0</td>\n",
              "      <td>0.0</td>\n",
              "      <td>0.0</td>\n",
              "      <td>0.0</td>\n",
              "      <td>0.0</td>\n",
              "      <td>0.0</td>\n",
              "      <td>POLYGON ((-37761.256 -157153.172, -37261.261 -...</td>\n",
              "    </tr>\n",
              "    <tr>\n",
              "      <th>1934</th>\n",
              "      <td>S120E085</td>\n",
              "      <td>0.0</td>\n",
              "      <td>0.0</td>\n",
              "      <td>0.0</td>\n",
              "      <td>0.0</td>\n",
              "      <td>0.0</td>\n",
              "      <td>0.0</td>\n",
              "      <td>POLYGON ((-37261.261 -157153.173, -36761.265 -...</td>\n",
              "    </tr>\n",
              "    <tr>\n",
              "      <th>1935</th>\n",
              "      <td>S120E090</td>\n",
              "      <td>0.0</td>\n",
              "      <td>0.0</td>\n",
              "      <td>0.0</td>\n",
              "      <td>0.0</td>\n",
              "      <td>0.0</td>\n",
              "      <td>0.0</td>\n",
              "      <td>POLYGON ((-36761.265 -157153.173, -36261.270 -...</td>\n",
              "    </tr>\n",
              "  </tbody>\n",
              "</table>\n",
              "<p>1936 rows × 8 columns</p>\n",
              "</div>"
            ],
            "text/plain": [
              "     MESH_CODE  最高路線価  ...  全平均路線                                           geometry\n",
              "0     N095E040  107.0  ...   88.0  POLYGON ((-41761.008 -136153.297, -41261.017 -...\n",
              "1     N095E045  105.0  ...   82.0  POLYGON ((-41261.017 -136153.290, -40761.023 -...\n",
              "2     N090E035  108.0  ...   84.0  POLYGON ((-42261.011 -136653.294, -41761.023 -...\n",
              "3     N090E040  121.0  ...   93.0  POLYGON ((-41761.023 -136653.292, -41261.031 -...\n",
              "4     N090E045  120.0  ...   83.0  POLYGON ((-41261.031 -136653.286, -40761.035 -...\n",
              "...        ...    ...  ...    ...                                                ...\n",
              "1931  S120E070    0.0  ...    0.0  POLYGON ((-38761.245 -157153.171, -38261.250 -...\n",
              "1932  S120E075    0.0  ...    0.0  POLYGON ((-38261.250 -157153.172, -37761.256 -...\n",
              "1933  S120E080    0.0  ...    0.0  POLYGON ((-37761.256 -157153.172, -37261.261 -...\n",
              "1934  S120E085    0.0  ...    0.0  POLYGON ((-37261.261 -157153.173, -36761.265 -...\n",
              "1935  S120E090    0.0  ...    0.0  POLYGON ((-36761.265 -157153.173, -36261.270 -...\n",
              "\n",
              "[1936 rows x 8 columns]"
            ]
          },
          "metadata": {
            "tags": []
          },
          "execution_count": 11
        }
      ]
    },
    {
      "cell_type": "code",
      "metadata": {
        "id": "AYzWc189DDp0",
        "colab_type": "code",
        "colab": {
          "base_uri": "https://localhost:8080/",
          "height": 272
        },
        "outputId": "c583b5ee-5bdc-43c4-e042-2283abf61014"
      },
      "source": [
        "data.crs"
      ],
      "execution_count": 12,
      "outputs": [
        {
          "output_type": "execute_result",
          "data": {
            "text/plain": [
              "<Projected CRS: EPSG:2448>\n",
              "Name: JGD2000 / Japan Plane Rectangular CS VI\n",
              "Axis Info [cartesian]:\n",
              "- X[north]: Northing (metre)\n",
              "- Y[east]: Easting (metre)\n",
              "Area of Use:\n",
              "- name: Japan - zone VI\n",
              "- bounds: (134.86, 33.4, 136.99, 36.33)\n",
              "Coordinate Operation:\n",
              "- name: Japan Plane Rectangular CS zone VI\n",
              "- method: Transverse Mercator\n",
              "Datum: Japanese Geodetic Datum 2000\n",
              "- Ellipsoid: GRS 1980\n",
              "- Prime Meridian: Greenwich"
            ]
          },
          "metadata": {
            "tags": []
          },
          "execution_count": 12
        }
      ]
    },
    {
      "cell_type": "code",
      "metadata": {
        "id": "Hw9VxrKhDOTK",
        "colab_type": "code",
        "colab": {}
      },
      "source": [
        "data = data.to_crs(epsg=4326)"
      ],
      "execution_count": 13,
      "outputs": []
    },
    {
      "cell_type": "code",
      "metadata": {
        "id": "_D_sj89UDThb",
        "colab_type": "code",
        "colab": {
          "base_uri": "https://localhost:8080/",
          "height": 217
        },
        "outputId": "36acaba2-bcd2-4bfb-f4c2-8a30a3871e39"
      },
      "source": [
        "data.crs"
      ],
      "execution_count": 14,
      "outputs": [
        {
          "output_type": "execute_result",
          "data": {
            "text/plain": [
              "<Geographic 2D CRS: EPSG:4326>\n",
              "Name: WGS 84\n",
              "Axis Info [ellipsoidal]:\n",
              "- Lat[north]: Geodetic latitude (degree)\n",
              "- Lon[east]: Geodetic longitude (degree)\n",
              "Area of Use:\n",
              "- name: World\n",
              "- bounds: (-180.0, -90.0, 180.0, 90.0)\n",
              "Datum: World Geodetic System 1984\n",
              "- Ellipsoid: WGS 84\n",
              "- Prime Meridian: Greenwich"
            ]
          },
          "metadata": {
            "tags": []
          },
          "execution_count": 14
        }
      ]
    },
    {
      "cell_type": "code",
      "metadata": {
        "id": "aBKS4ptHEX8C",
        "colab_type": "code",
        "colab": {
          "base_uri": "https://localhost:8080/",
          "height": 288
        },
        "outputId": "77f967dc-f39f-4892-fbbc-4047e804eac1"
      },
      "source": [
        "data.describe()"
      ],
      "execution_count": 15,
      "outputs": [
        {
          "output_type": "execute_result",
          "data": {
            "text/html": [
              "<div>\n",
              "<style scoped>\n",
              "    .dataframe tbody tr th:only-of-type {\n",
              "        vertical-align: middle;\n",
              "    }\n",
              "\n",
              "    .dataframe tbody tr th {\n",
              "        vertical-align: top;\n",
              "    }\n",
              "\n",
              "    .dataframe thead th {\n",
              "        text-align: right;\n",
              "    }\n",
              "</style>\n",
              "<table border=\"1\" class=\"dataframe\">\n",
              "  <thead>\n",
              "    <tr style=\"text-align: right;\">\n",
              "      <th></th>\n",
              "      <th>最高路線価</th>\n",
              "      <th>最低路線価</th>\n",
              "      <th>平均路線価</th>\n",
              "      <th>平均最高路</th>\n",
              "      <th>平均最低路</th>\n",
              "      <th>全平均路線</th>\n",
              "    </tr>\n",
              "  </thead>\n",
              "  <tbody>\n",
              "    <tr>\n",
              "      <th>count</th>\n",
              "      <td>1936.000000</td>\n",
              "      <td>1936.000000</td>\n",
              "      <td>1936.000000</td>\n",
              "      <td>1936.000000</td>\n",
              "      <td>1936.000000</td>\n",
              "      <td>1936.000000</td>\n",
              "    </tr>\n",
              "    <tr>\n",
              "      <th>mean</th>\n",
              "      <td>172.491736</td>\n",
              "      <td>36.185434</td>\n",
              "      <td>104.461260</td>\n",
              "      <td>101.236054</td>\n",
              "      <td>56.297521</td>\n",
              "      <td>78.887913</td>\n",
              "    </tr>\n",
              "    <tr>\n",
              "      <th>std</th>\n",
              "      <td>668.832698</td>\n",
              "      <td>47.615766</td>\n",
              "      <td>348.787491</td>\n",
              "      <td>274.795493</td>\n",
              "      <td>99.746637</td>\n",
              "      <td>184.686735</td>\n",
              "    </tr>\n",
              "    <tr>\n",
              "      <th>min</th>\n",
              "      <td>0.000000</td>\n",
              "      <td>0.000000</td>\n",
              "      <td>0.000000</td>\n",
              "      <td>0.000000</td>\n",
              "      <td>0.000000</td>\n",
              "      <td>0.000000</td>\n",
              "    </tr>\n",
              "    <tr>\n",
              "      <th>25%</th>\n",
              "      <td>0.000000</td>\n",
              "      <td>0.000000</td>\n",
              "      <td>0.000000</td>\n",
              "      <td>0.000000</td>\n",
              "      <td>0.000000</td>\n",
              "      <td>0.000000</td>\n",
              "    </tr>\n",
              "    <tr>\n",
              "      <th>50%</th>\n",
              "      <td>36.000000</td>\n",
              "      <td>26.500000</td>\n",
              "      <td>34.000000</td>\n",
              "      <td>34.500000</td>\n",
              "      <td>32.000000</td>\n",
              "      <td>33.500000</td>\n",
              "    </tr>\n",
              "    <tr>\n",
              "      <th>75%</th>\n",
              "      <td>163.000000</td>\n",
              "      <td>61.000000</td>\n",
              "      <td>114.000000</td>\n",
              "      <td>136.000000</td>\n",
              "      <td>89.250000</td>\n",
              "      <td>112.000000</td>\n",
              "    </tr>\n",
              "    <tr>\n",
              "      <th>max</th>\n",
              "      <td>12110.000000</td>\n",
              "      <td>620.000000</td>\n",
              "      <td>6365.000000</td>\n",
              "      <td>7879.000000</td>\n",
              "      <td>2612.000000</td>\n",
              "      <td>5246.000000</td>\n",
              "    </tr>\n",
              "  </tbody>\n",
              "</table>\n",
              "</div>"
            ],
            "text/plain": [
              "              最高路線価        最低路線価  ...        平均最低路        全平均路線\n",
              "count   1936.000000  1936.000000  ...  1936.000000  1936.000000\n",
              "mean     172.491736    36.185434  ...    56.297521    78.887913\n",
              "std      668.832698    47.615766  ...    99.746637   184.686735\n",
              "min        0.000000     0.000000  ...     0.000000     0.000000\n",
              "25%        0.000000     0.000000  ...     0.000000     0.000000\n",
              "50%       36.000000    26.500000  ...    32.000000    33.500000\n",
              "75%      163.000000    61.000000  ...    89.250000   112.000000\n",
              "max    12110.000000   620.000000  ...  2612.000000  5246.000000\n",
              "\n",
              "[8 rows x 6 columns]"
            ]
          },
          "metadata": {
            "tags": []
          },
          "execution_count": 15
        }
      ]
    },
    {
      "cell_type": "code",
      "metadata": {
        "id": "zArFSRpjQbcW",
        "colab_type": "code",
        "colab": {
          "base_uri": "https://localhost:8080/",
          "height": 310
        },
        "outputId": "8e1d8c88-f17c-436b-85a9-538417c67e25"
      },
      "source": [
        "data['geometry'].centroid"
      ],
      "execution_count": 16,
      "outputs": [
        {
          "output_type": "stream",
          "text": [
            "/usr/local/lib/python3.6/dist-packages/ipykernel_launcher.py:1: UserWarning: Geometry is in a geographic CRS. Results from 'centroid' are likely incorrect. Use 'GeoSeries.to_crs()' to re-project geometries to a projected CRS before this operation.\n",
            "\n",
            "  \"\"\"Entry point for launching an IPython kernel.\n"
          ],
          "name": "stderr"
        },
        {
          "output_type": "execute_result",
          "data": {
            "text/plain": [
              "0       POINT (135.54650 34.76959)\n",
              "1       POINT (135.55196 34.76961)\n",
              "2       POINT (135.54106 34.76507)\n",
              "3       POINT (135.54652 34.76509)\n",
              "4       POINT (135.55199 34.76511)\n",
              "                   ...            \n",
              "1931    POINT (135.58023 34.58040)\n",
              "1932    POINT (135.58568 34.58042)\n",
              "1933    POINT (135.59113 34.58044)\n",
              "1934    POINT (135.59658 34.58045)\n",
              "1935    POINT (135.60203 34.58047)\n",
              "Length: 1936, dtype: geometry"
            ]
          },
          "metadata": {
            "tags": []
          },
          "execution_count": 16
        }
      ]
    },
    {
      "cell_type": "code",
      "metadata": {
        "id": "4CgwFAO0D2d9",
        "colab_type": "code",
        "colab": {
          "base_uri": "https://localhost:8080/",
          "height": 310
        },
        "outputId": "f7a0de3f-5432-45cb-d0e1-0494b277195c"
      },
      "source": [
        "data['geometry'].centroid.x"
      ],
      "execution_count": 17,
      "outputs": [
        {
          "output_type": "stream",
          "text": [
            "/usr/local/lib/python3.6/dist-packages/ipykernel_launcher.py:1: UserWarning: Geometry is in a geographic CRS. Results from 'centroid' are likely incorrect. Use 'GeoSeries.to_crs()' to re-project geometries to a projected CRS before this operation.\n",
            "\n",
            "  \"\"\"Entry point for launching an IPython kernel.\n"
          ],
          "name": "stderr"
        },
        {
          "output_type": "execute_result",
          "data": {
            "text/plain": [
              "0       135.546499\n",
              "1       135.551961\n",
              "2       135.541061\n",
              "3       135.546523\n",
              "4       135.551985\n",
              "           ...    \n",
              "1931    135.580226\n",
              "1932    135.585676\n",
              "1933    135.591126\n",
              "1934    135.596576\n",
              "1935    135.602025\n",
              "Length: 1936, dtype: float64"
            ]
          },
          "metadata": {
            "tags": []
          },
          "execution_count": 17
        }
      ]
    },
    {
      "cell_type": "code",
      "metadata": {
        "id": "0coTTOdlEQeM",
        "colab_type": "code",
        "colab": {
          "base_uri": "https://localhost:8080/",
          "height": 310
        },
        "outputId": "1f7460af-5303-4ad6-e805-a67d3de1671c"
      },
      "source": [
        "data['geometry'].centroid.y"
      ],
      "execution_count": 18,
      "outputs": [
        {
          "output_type": "stream",
          "text": [
            "/usr/local/lib/python3.6/dist-packages/ipykernel_launcher.py:1: UserWarning: Geometry is in a geographic CRS. Results from 'centroid' are likely incorrect. Use 'GeoSeries.to_crs()' to re-project geometries to a projected CRS before this operation.\n",
            "\n",
            "  \"\"\"Entry point for launching an IPython kernel.\n"
          ],
          "name": "stderr"
        },
        {
          "output_type": "execute_result",
          "data": {
            "text/plain": [
              "0       34.769594\n",
              "1       34.769615\n",
              "2       34.765066\n",
              "3       34.765087\n",
              "4       34.765107\n",
              "          ...    \n",
              "1931    34.580398\n",
              "1932    34.580417\n",
              "1933    34.580435\n",
              "1934    34.580454\n",
              "1935    34.580471\n",
              "Length: 1936, dtype: float64"
            ]
          },
          "metadata": {
            "tags": []
          },
          "execution_count": 18
        }
      ]
    },
    {
      "cell_type": "code",
      "metadata": {
        "id": "Ex-a8oDnJUuk",
        "colab_type": "code",
        "colab": {
          "base_uri": "https://localhost:8080/",
          "height": 146
        },
        "outputId": "00978fa4-564f-416b-fbe0-8dbf6d3d8ba4"
      },
      "source": [
        "data['lng'] = data['geometry'].centroid.x\n",
        "data['log'] = data['geometry'].centroid.y"
      ],
      "execution_count": 19,
      "outputs": [
        {
          "output_type": "stream",
          "text": [
            "/usr/local/lib/python3.6/dist-packages/ipykernel_launcher.py:1: UserWarning: Geometry is in a geographic CRS. Results from 'centroid' are likely incorrect. Use 'GeoSeries.to_crs()' to re-project geometries to a projected CRS before this operation.\n",
            "\n",
            "  \"\"\"Entry point for launching an IPython kernel.\n",
            "/usr/local/lib/python3.6/dist-packages/ipykernel_launcher.py:2: UserWarning: Geometry is in a geographic CRS. Results from 'centroid' are likely incorrect. Use 'GeoSeries.to_crs()' to re-project geometries to a projected CRS before this operation.\n",
            "\n",
            "  \n"
          ],
          "name": "stderr"
        }
      ]
    },
    {
      "cell_type": "code",
      "metadata": {
        "id": "F1U8_yGRP0FQ",
        "colab_type": "code",
        "colab": {
          "base_uri": "https://localhost:8080/",
          "height": 615
        },
        "outputId": "37a1781f-33db-49d7-91d0-73cac08856b0"
      },
      "source": [
        "data"
      ],
      "execution_count": 21,
      "outputs": [
        {
          "output_type": "execute_result",
          "data": {
            "text/html": [
              "<div>\n",
              "<style scoped>\n",
              "    .dataframe tbody tr th:only-of-type {\n",
              "        vertical-align: middle;\n",
              "    }\n",
              "\n",
              "    .dataframe tbody tr th {\n",
              "        vertical-align: top;\n",
              "    }\n",
              "\n",
              "    .dataframe thead th {\n",
              "        text-align: right;\n",
              "    }\n",
              "</style>\n",
              "<table border=\"1\" class=\"dataframe\">\n",
              "  <thead>\n",
              "    <tr style=\"text-align: right;\">\n",
              "      <th></th>\n",
              "      <th>MESH_CODE</th>\n",
              "      <th>最高路線価</th>\n",
              "      <th>最低路線価</th>\n",
              "      <th>平均路線価</th>\n",
              "      <th>平均最高路</th>\n",
              "      <th>平均最低路</th>\n",
              "      <th>全平均路線</th>\n",
              "      <th>geometry</th>\n",
              "      <th>lng</th>\n",
              "      <th>log</th>\n",
              "    </tr>\n",
              "  </thead>\n",
              "  <tbody>\n",
              "    <tr>\n",
              "      <th>0</th>\n",
              "      <td>N095E040</td>\n",
              "      <td>107.0</td>\n",
              "      <td>59.0</td>\n",
              "      <td>83.0</td>\n",
              "      <td>104.0</td>\n",
              "      <td>71.0</td>\n",
              "      <td>88.0</td>\n",
              "      <td>POLYGON ((135.54376 34.77184, 135.54922 34.771...</td>\n",
              "      <td>135.546499</td>\n",
              "      <td>34.769594</td>\n",
              "    </tr>\n",
              "    <tr>\n",
              "      <th>1</th>\n",
              "      <td>N095E045</td>\n",
              "      <td>105.0</td>\n",
              "      <td>59.0</td>\n",
              "      <td>82.0</td>\n",
              "      <td>105.0</td>\n",
              "      <td>59.0</td>\n",
              "      <td>82.0</td>\n",
              "      <td>POLYGON ((135.54922 34.77186, 135.55468 34.771...</td>\n",
              "      <td>135.551961</td>\n",
              "      <td>34.769615</td>\n",
              "    </tr>\n",
              "    <tr>\n",
              "      <th>2</th>\n",
              "      <td>N090E035</td>\n",
              "      <td>108.0</td>\n",
              "      <td>61.0</td>\n",
              "      <td>85.0</td>\n",
              "      <td>103.0</td>\n",
              "      <td>66.0</td>\n",
              "      <td>84.0</td>\n",
              "      <td>POLYGON ((135.53832 34.76731, 135.54378 34.767...</td>\n",
              "      <td>135.541061</td>\n",
              "      <td>34.765066</td>\n",
              "    </tr>\n",
              "    <tr>\n",
              "      <th>3</th>\n",
              "      <td>N090E040</td>\n",
              "      <td>121.0</td>\n",
              "      <td>46.0</td>\n",
              "      <td>84.0</td>\n",
              "      <td>112.0</td>\n",
              "      <td>74.0</td>\n",
              "      <td>93.0</td>\n",
              "      <td>POLYGON ((135.54378 34.76733, 135.54924 34.767...</td>\n",
              "      <td>135.546523</td>\n",
              "      <td>34.765087</td>\n",
              "    </tr>\n",
              "    <tr>\n",
              "      <th>4</th>\n",
              "      <td>N090E045</td>\n",
              "      <td>120.0</td>\n",
              "      <td>46.0</td>\n",
              "      <td>83.0</td>\n",
              "      <td>97.0</td>\n",
              "      <td>68.0</td>\n",
              "      <td>83.0</td>\n",
              "      <td>POLYGON ((135.54924 34.76735, 135.55470 34.767...</td>\n",
              "      <td>135.551985</td>\n",
              "      <td>34.765107</td>\n",
              "    </tr>\n",
              "    <tr>\n",
              "      <th>...</th>\n",
              "      <td>...</td>\n",
              "      <td>...</td>\n",
              "      <td>...</td>\n",
              "      <td>...</td>\n",
              "      <td>...</td>\n",
              "      <td>...</td>\n",
              "      <td>...</td>\n",
              "      <td>...</td>\n",
              "      <td>...</td>\n",
              "      <td>...</td>\n",
              "    </tr>\n",
              "    <tr>\n",
              "      <th>1931</th>\n",
              "      <td>S120E070</td>\n",
              "      <td>0.0</td>\n",
              "      <td>0.0</td>\n",
              "      <td>0.0</td>\n",
              "      <td>0.0</td>\n",
              "      <td>0.0</td>\n",
              "      <td>0.0</td>\n",
              "      <td>POLYGON ((135.57749 34.58264, 135.58294 34.582...</td>\n",
              "      <td>135.580226</td>\n",
              "      <td>34.580398</td>\n",
              "    </tr>\n",
              "    <tr>\n",
              "      <th>1932</th>\n",
              "      <td>S120E075</td>\n",
              "      <td>0.0</td>\n",
              "      <td>0.0</td>\n",
              "      <td>0.0</td>\n",
              "      <td>0.0</td>\n",
              "      <td>0.0</td>\n",
              "      <td>0.0</td>\n",
              "      <td>POLYGON ((135.58294 34.58266, 135.58839 34.582...</td>\n",
              "      <td>135.585676</td>\n",
              "      <td>34.580417</td>\n",
              "    </tr>\n",
              "    <tr>\n",
              "      <th>1933</th>\n",
              "      <td>S120E080</td>\n",
              "      <td>0.0</td>\n",
              "      <td>0.0</td>\n",
              "      <td>0.0</td>\n",
              "      <td>0.0</td>\n",
              "      <td>0.0</td>\n",
              "      <td>0.0</td>\n",
              "      <td>POLYGON ((135.58839 34.58268, 135.59384 34.582...</td>\n",
              "      <td>135.591126</td>\n",
              "      <td>34.580435</td>\n",
              "    </tr>\n",
              "    <tr>\n",
              "      <th>1934</th>\n",
              "      <td>S120E085</td>\n",
              "      <td>0.0</td>\n",
              "      <td>0.0</td>\n",
              "      <td>0.0</td>\n",
              "      <td>0.0</td>\n",
              "      <td>0.0</td>\n",
              "      <td>0.0</td>\n",
              "      <td>POLYGON ((135.59384 34.58270, 135.59929 34.582...</td>\n",
              "      <td>135.596576</td>\n",
              "      <td>34.580454</td>\n",
              "    </tr>\n",
              "    <tr>\n",
              "      <th>1935</th>\n",
              "      <td>S120E090</td>\n",
              "      <td>0.0</td>\n",
              "      <td>0.0</td>\n",
              "      <td>0.0</td>\n",
              "      <td>0.0</td>\n",
              "      <td>0.0</td>\n",
              "      <td>0.0</td>\n",
              "      <td>POLYGON ((135.59929 34.58272, 135.60474 34.582...</td>\n",
              "      <td>135.602025</td>\n",
              "      <td>34.580471</td>\n",
              "    </tr>\n",
              "  </tbody>\n",
              "</table>\n",
              "<p>1936 rows × 10 columns</p>\n",
              "</div>"
            ],
            "text/plain": [
              "     MESH_CODE  最高路線価  ...         lng        log\n",
              "0     N095E040  107.0  ...  135.546499  34.769594\n",
              "1     N095E045  105.0  ...  135.551961  34.769615\n",
              "2     N090E035  108.0  ...  135.541061  34.765066\n",
              "3     N090E040  121.0  ...  135.546523  34.765087\n",
              "4     N090E045  120.0  ...  135.551985  34.765107\n",
              "...        ...    ...  ...         ...        ...\n",
              "1931  S120E070    0.0  ...  135.580226  34.580398\n",
              "1932  S120E075    0.0  ...  135.585676  34.580417\n",
              "1933  S120E080    0.0  ...  135.591126  34.580435\n",
              "1934  S120E085    0.0  ...  135.596576  34.580454\n",
              "1935  S120E090    0.0  ...  135.602025  34.580471\n",
              "\n",
              "[1936 rows x 10 columns]"
            ]
          },
          "metadata": {
            "tags": []
          },
          "execution_count": 21
        }
      ]
    },
    {
      "cell_type": "code",
      "metadata": {
        "id": "rqySgtz4Rj4I",
        "colab_type": "code",
        "colab": {}
      },
      "source": [
        ""
      ],
      "execution_count": null,
      "outputs": []
    }
  ]
}