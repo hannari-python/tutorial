{
  "nbformat": 4,
  "nbformat_minor": 0,
  "metadata": {
    "colab": {
      "name": "Ogawa_Kakei_old",
      "provenance": [],
      "private_outputs": true,
      "authorship_tag": "ABX9TyMSl+5qSqmBIvxy9P16W6q3",
      "include_colab_link": true
    },
    "kernelspec": {
      "name": "python3",
      "display_name": "Python 3"
    }
  },
  "cells": [
    {
      "cell_type": "markdown",
      "metadata": {
        "id": "view-in-github",
        "colab_type": "text"
      },
      "source": [
        "<a href=\"https://colab.research.google.com/github/hannari-python/tutorial/blob/master/unreleased_works/Ogawa_Kakei_old.ipynb\" target=\"_parent\"><img src=\"https://colab.research.google.com/assets/colab-badge.svg\" alt=\"Open In Colab\"/></a>"
      ]
    },
    {
      "cell_type": "code",
      "metadata": {
        "id": "cLCsk0V1QpKW",
        "colab_type": "code",
        "colab": {}
      },
      "source": [
        ""
      ],
      "execution_count": null,
      "outputs": []
    },
    {
      "cell_type": "markdown",
      "metadata": {
        "id": "lTFZdBxeeR32",
        "colab_type": "text"
      },
      "source": [
        "# 下記は小川さんの成果"
      ]
    },
    {
      "cell_type": "markdown",
      "metadata": {
        "colab_type": "text",
        "id": "oa5jcl-0eFhp"
      },
      "source": [
        "## データフレームの列の選択\n",
        "\n",
        "`s` のうち `OL_Expenditure`までの列を選択し、細かい分類の支出情報の列を取り除いてみましょう。\n",
        "そのためにはデータフレームの `loc` メソッドを使います。"
      ]
    },
    {
      "cell_type": "code",
      "metadata": {
        "colab_type": "code",
        "id": "FK2OYRBLeFhv",
        "colab": {}
      },
      "source": [
        "data = s.loc[:, :'OL_Expenditure']\n",
        "data"
      ],
      "execution_count": null,
      "outputs": []
    },
    {
      "cell_type": "markdown",
      "metadata": {
        "colab_type": "text",
        "id": "i_YgcxWveFh2"
      },
      "source": [
        "## [記述統計量(英: descriptive statistics value)](https://ja.wikipedia.org/wiki/%E8%A6%81%E7%B4%84%E7%B5%B1%E8%A8%88%E9%87%8F) の確認\n",
        "\n",
        "記述統計量を確認しデータの範囲や代表的な値がどの程度か確認しましょう。\n",
        "そのためにはデータフレームの `describe` メソッドを使います。\n"
      ]
    },
    {
      "cell_type": "code",
      "metadata": {
        "colab_type": "code",
        "id": "nmbOiTsUeFh3",
        "colab": {}
      },
      "source": [
        "data.describe()"
      ],
      "execution_count": null,
      "outputs": []
    },
    {
      "cell_type": "markdown",
      "metadata": {
        "colab_type": "text",
        "id": "X81pVnNReFh8"
      },
      "source": [
        "## plotly (express) を用いた可視化\n",
        "\n",
        "ここでは家計調査の中項目を可視化してみましょう。    \n",
        "まずはバイオリンプロットで全ての項目を可視化します。    \n",
        "PlotlyExpressとデータフレームを使ってグラフを描画する場合、作成したいグラフの種類の関数に、まずデータフレームを持っている変数名を渡し、そのあと表示したい要素を引数に渡します。    \n",
        "最初の事例では data の全てのコラムをバイオリンで可視化しました。(かなり表示に時間がかかります)\n",
        "\n",
        "\n",
        "\n"
      ]
    },
    {
      "cell_type": "code",
      "metadata": {
        "colab_type": "code",
        "id": "YUoeUyr5eFh9",
        "colab": {}
      },
      "source": [
        "import plotly.express as px"
      ],
      "execution_count": null,
      "outputs": []
    },
    {
      "cell_type": "code",
      "metadata": {
        "colab_type": "code",
        "id": "D28r0wcieFiA",
        "colab": {}
      },
      "source": [
        "px.violin(data, y=data.columns)"
      ],
      "execution_count": null,
      "outputs": []
    },
    {
      "cell_type": "markdown",
      "metadata": {
        "id": "vjz-3LBqYKJP",
        "colab_type": "text"
      },
      "source": [
        "## ヒストグラムの作成\n",
        "続いて Y_Income (収入)のヒストグラムを作成します。     \n",
        "引数nbins には、ヒストグラムのビンの数を指定 、引数histnormにはパーセントを指定すると、y軸が%表記となります。"
      ]
    },
    {
      "cell_type": "code",
      "metadata": {
        "colab_type": "code",
        "id": "PZ3KhCmQeFiV",
        "colab": {}
      },
      "source": [
        "px.histogram(data, x='Y_Income', histnorm='percent', nbins=100)"
      ],
      "execution_count": null,
      "outputs": []
    },
    {
      "cell_type": "markdown",
      "metadata": {
        "id": "OKs5ba2saBfq",
        "colab_type": "text"
      },
      "source": [
        "## ビンを作る\n",
        "自動でビンを作るほか、自作することもできます。    \n",
        "pandasのcut関数を使うと、引数binsに指定した数のビンを作成してくれます。     \n",
        "しかし、この方法は次に見るように、データのテールが長いと使い勝手の悪いビン分けとなります。"
      ]
    },
    {
      "cell_type": "code",
      "metadata": {
        "colab_type": "code",
        "id": "Lcz4uwzjeFiZ",
        "colab": {}
      },
      "source": [
        "data_bins = pd.cut(data['Y_Income'].values, bins=10)\n",
        "data_bins"
      ],
      "execution_count": null,
      "outputs": []
    },
    {
      "cell_type": "markdown",
      "metadata": {
        "colab_type": "text",
        "id": "kHjmyXloeFib"
      },
      "source": [
        "## 自分で作成したビンを割り当てる\n",
        "numpyのdigitize関数を使うと、自分の指定するビンを作成することができます    \n",
        "引数x（第1引数）にはビン分けしたい値を、引数bins（第2引数）にビン分けの定義をわたします      \n",
        "返り値はどのビンに入っているかを数値となります\n"
      ]
    },
    {
      "cell_type": "code",
      "metadata": {
        "colab_type": "code",
        "id": "D-qkakaLeFic",
        "colab": {}
      },
      "source": [
        "import numpy as np \n",
        "bin_image = [0, 2000, 4000, 6000, 8000, 12000, 20000]\n",
        "bin_array = np.digitize(data['Y_Income'], bin_image)"
      ],
      "execution_count": null,
      "outputs": []
    },
    {
      "cell_type": "markdown",
      "metadata": {
        "id": "XZyV37LLeYFn",
        "colab_type": "text"
      },
      "source": [
        "### ビンの割り当て\n",
        "全てのデータがどのビンに入っているか、割り当てられる"
      ]
    },
    {
      "cell_type": "code",
      "metadata": {
        "colab_type": "code",
        "id": "DCItmEiieFie",
        "colab": {}
      },
      "source": [
        "len(bin_array)"
      ],
      "execution_count": null,
      "outputs": []
    },
    {
      "cell_type": "code",
      "metadata": {
        "colab_type": "code",
        "id": "ru_miha9eFig",
        "colab": {}
      },
      "source": [
        "pd.Series(bin_array).unique()"
      ],
      "execution_count": null,
      "outputs": []
    },
    {
      "cell_type": "code",
      "metadata": {
        "colab_type": "code",
        "id": "Sdr1qXyeeFii",
        "colab": {}
      },
      "source": [
        "help(np.digitize)"
      ],
      "execution_count": null,
      "outputs": []
    },
    {
      "cell_type": "markdown",
      "metadata": {
        "id": "J_hVQ2cBeqNq",
        "colab_type": "text"
      },
      "source": [
        "## データの列名と項目の確認\n",
        "データの詳細が書かれたエクセルファイルを読み込み、確認します"
      ]
    },
    {
      "cell_type": "code",
      "metadata": {
        "colab_type": "code",
        "id": "xLO4VMpGeFil",
        "colab": {}
      },
      "source": [
        "cont = pd.read_excel(\"/content/ippan_2009zensho_s/ippan_2009zensho_s.xls\")"
      ],
      "execution_count": null,
      "outputs": []
    },
    {
      "cell_type": "code",
      "metadata": {
        "colab_type": "code",
        "id": "wUpky-40eFin",
        "colab": {}
      },
      "source": [
        "cont[:50]"
      ],
      "execution_count": null,
      "outputs": []
    },
    {
      "cell_type": "markdown",
      "metadata": {
        "colab_type": "text",
        "id": "ulARzj5VeFip"
      },
      "source": [
        "## 各消費分類の消費支出に対する割合を作成する\n",
        "各消費分類が全体に占める割合をみるため、そのデータを作成します    \n",
        "上で確認したようにL_Expenditureが消費額となり、それで全項目を割ると欲しい値が算出できる     \n",
        "具体的にはapplyメソッドとlambda式を用いて行全体をL_Expenditureで割ります"
      ]
    },
    {
      "cell_type": "code",
      "metadata": {
        "colab_type": "code",
        "id": "unI9g4mgeFip",
        "colab": {}
      },
      "source": [
        "data_test = data.loc[: ,'L_Expenditure':'OL_Expenditure']"
      ],
      "execution_count": null,
      "outputs": []
    },
    {
      "cell_type": "code",
      "metadata": {
        "colab_type": "code",
        "id": "WKy47bTNeFir",
        "colab": {}
      },
      "source": [
        "data_test"
      ],
      "execution_count": null,
      "outputs": []
    },
    {
      "cell_type": "code",
      "metadata": {
        "colab_type": "code",
        "id": "tVg4TkGOeFit",
        "colab": {}
      },
      "source": [
        "data_test.apply(lambda x: x/ data_test['L_Expenditure'])"
      ],
      "execution_count": null,
      "outputs": []
    },
    {
      "cell_type": "code",
      "metadata": {
        "colab_type": "code",
        "id": "1LvaJWg2eFiv",
        "colab": {}
      },
      "source": [
        "data_expenditure_ratio = data_test.apply(lambda x: x / data_test['L_Expenditure'])\n"
      ],
      "execution_count": null,
      "outputs": []
    },
    {
      "cell_type": "markdown",
      "metadata": {
        "id": "iXIjV-11gIle",
        "colab_type": "text"
      },
      "source": [
        "## 作成した割合を可視化\n",
        "再びバイオリンプロットで可視化します     \n",
        "かなりテールが長いものとなっていることが分かります\n",
        "\n"
      ]
    },
    {
      "cell_type": "code",
      "metadata": {
        "colab_type": "code",
        "id": "g1pI6tIzeFix",
        "colab": {}
      },
      "source": [
        "px.violin(data_expenditure_ratio, x=data_expenditure_ratio.columns[1:])"
      ],
      "execution_count": null,
      "outputs": []
    },
    {
      "cell_type": "markdown",
      "metadata": {
        "id": "HLBlDXMIhg15",
        "colab_type": "text"
      },
      "source": [
        "## 分析に使うデータを作成します\n",
        "- まず、data の基礎情報の部分と先ほど作成した消費の割合のデータをpandasのconcat関数を用いて連結します\n",
        "- 次に年収のビン分けデータを先ほどのデータに加えます"
      ]
    },
    {
      "cell_type": "code",
      "metadata": {
        "colab_type": "code",
        "id": "JFejhl_beFjB",
        "colab": {}
      },
      "source": [
        "data_front = data.loc[:, :'Y_Income']\n",
        "data_front = data_front.drop('Weight',axis=1)\n",
        "data_preped = pd.concat([data_front, data_expenditure_ratio], axis=1)"
      ],
      "execution_count": null,
      "outputs": []
    },
    {
      "cell_type": "code",
      "metadata": {
        "colab_type": "code",
        "id": "JDY8vkW1eFjD",
        "colab": {}
      },
      "source": [
        "data_preped"
      ],
      "execution_count": null,
      "outputs": []
    },
    {
      "cell_type": "code",
      "metadata": {
        "colab_type": "code",
        "id": "jHgHFcuieFjF",
        "colab": {}
      },
      "source": [
        "bin_image = [0, 2000, 4000, 6000, 8000, 12000, 20000]\n",
        "bin_array = np.digitize(data['Y_Income'], bin_image)\n",
        "data_preped['bins'] = bin_array"
      ],
      "execution_count": null,
      "outputs": []
    },
    {
      "cell_type": "code",
      "metadata": {
        "colab_type": "code",
        "id": "Og7OqWYWeFjH",
        "colab": {}
      },
      "source": [
        "data_preped"
      ],
      "execution_count": null,
      "outputs": []
    },
    {
      "cell_type": "markdown",
      "metadata": {
        "id": "JxJifw2-iq1P",
        "colab_type": "text"
      },
      "source": [
        "# ビンごとに可視化\n",
        "ビンごとにデータを可視化します    \n",
        "この場合、PlotlyExpressではなく、plotly graph_objectsを使って可視化しています     \n",
        "少し複雑な可視化はPlotlyExpressでは表現しきれなくなります    \n",
        "そのような場合、Plotly Graph Objectsを使います\n"
      ]
    },
    {
      "cell_type": "code",
      "metadata": {
        "colab_type": "code",
        "id": "mlYQLDEkeFjJ",
        "colab": {}
      },
      "source": [
        "import plotly.graph_objects as go"
      ],
      "execution_count": null,
      "outputs": []
    },
    {
      "cell_type": "code",
      "metadata": {
        "colab_type": "code",
        "id": "pT-0HmmAeFjL",
        "colab": {}
      },
      "source": [
        "fig = go.Figure()\n",
        "\n",
        "for num in data_preped.bins.unique():\n",
        "  data_preped_num = data_preped[data_preped['bins'] == num]\n",
        "  fig.add_trace(go.Histogram(x=data_preped_num['Food'], name=f'{num}', histnorm='probability', nbinsx=20))\n",
        "\n",
        "fig.show()"
      ],
      "execution_count": null,
      "outputs": []
    },
    {
      "cell_type": "markdown",
      "metadata": {
        "colab_type": "text",
        "id": "PpZCucskeFjP"
      },
      "source": [
        "## Dashを用いてインタラクティブな可視化！\n",
        "\n",
        "- ビンの個数を動かせる\n",
        "- ビンの数値を変更できる\n",
        "- それをヒストグラムで描画できる"
      ]
    },
    {
      "cell_type": "code",
      "metadata": {
        "colab_type": "code",
        "id": "1899uAeLeFjP",
        "colab": {}
      },
      "source": [
        "data_for_dash = data_preped.drop('bins', axis=1)"
      ],
      "execution_count": null,
      "outputs": []
    },
    {
      "cell_type": "code",
      "metadata": {
        "colab_type": "code",
        "id": "1w7ZbLSneFjS",
        "colab": {}
      },
      "source": [
        "from jupyter_dash import JupyterDash \n",
        "import dash_core_components as dcc \n",
        "import dash_html_components as html \n",
        "\n",
        "from dash.dependencies import Input, Output, State, ALL"
      ],
      "execution_count": null,
      "outputs": []
    },
    {
      "cell_type": "code",
      "metadata": {
        "colab_type": "code",
        "id": "HJQLiWoOeFjU",
        "colab": {}
      },
      "source": [
        "external_stylesheets = ['https://codepen.io/chriddyp/pen/bWLwgP.css']\n",
        "\n",
        "app = JupyterDash(__name__, external_stylesheets=external_stylesheets)\n",
        "\n",
        "app.layout = html.Div([\n",
        "                       \n",
        "\n",
        "                       html.Button(id='my_button', children='Add Input'),\n",
        "                      \n",
        "                      html.Div([\n",
        "                       html.Div([\n",
        "                       html.Div(id='input_zone', children=[]),\n",
        "                      ], style={'width': '25%', 'display': 'inline-block', 'verticalAlign': 'top'}),\n",
        "                       \n",
        "\n",
        "\n",
        "                       html.Div([\n",
        "                                 dcc.Dropdown(id='my_dropdown',\n",
        "                                              options=[{'label': col, 'value': col} for col in data_for_dash.columns],\n",
        "                                              value='Food'\n",
        "                                              ),\n",
        "                                 dcc.Graph(id='my_graph'),\n",
        "                                \n",
        "                                html.Div([\n",
        "                                 html.H3('Histogram Bin Num: '),\n",
        "                                 dcc.Input(id='bin_num', value=10, type='number'),\n",
        "                                ]),\n",
        "                       ], style={'width': '70%', 'display': 'inline-block'}),\n",
        "                      ]),\n",
        "                       \n",
        "                       html.Div([\n",
        "                       dcc.RangeSlider(id='my_range_slider',\n",
        "                                       min=0,\n",
        "                                       max=data_for_dash['Y_Income'].max()\n",
        "                                       \n",
        "                                       ),\n",
        "                        html.Button(id='slider_button', children='graph update'),\n",
        "                       ], style={'width': '90%', 'height': 100, 'margin': 'auto'}),\n",
        "\n",
        "])\n",
        "\n",
        "@app.callback(Output('input_zone', 'children'), [Input('my_button', 'n_clicks')], [State('input_zone', 'children')], prevent_initial_call=True)\n",
        "def update_input_zone(n_clicks, existing_children):\n",
        "  my_inputs = html.Div([\n",
        "                        dcc.Input(id={'type': 'my_inputs', 'index': n_clicks}, value=0)\n",
        "  ])\n",
        "  existing_children.append(my_inputs)\n",
        "  return existing_children\n",
        "\n",
        "@app.callback(Output('my_range_slider', 'value'), [Input({'type': 'my_inputs', 'index': ALL}, 'value')])\n",
        "def update_slider(enter_values):\n",
        "  if len(enter_values) > 1:\n",
        "    enter_values = [int(i) for i in enter_values]\n",
        "  return enter_values\n",
        "\n",
        "@app.callback(Output('my_graph', 'figure'), [Input('slider_button', 'n_clicks'), Input('my_dropdown', 'value'), Input('bin_num', 'value')], [State('my_range_slider','value')], prevent_initial_call=True)\n",
        "def update_graph(n_clicks, slider_values, bin_num, selected_values):\n",
        "\n",
        "  if len(selected_values) > 1 and sum(selected_values) > 1:\n",
        "    bin_array = np.digitize(data_for_dash['Y_Income'], selected_values)\n",
        "    data_for_dash['bins'] = bin_array  \n",
        "    fig = go.Figure()\n",
        "    for num in data_for_dash['bins'].unique():\n",
        "      update_df = data_for_dash[data_for_dash['bins'] == num]\n",
        "      fig.add_trace(go.Histogram(x=update_df[slider_values], histnorm='probability', nbinsx=bin_num))\n",
        "  \n",
        "    return fig\n",
        "  return dash.no_update\n",
        "\n",
        "\n",
        "app.run_server(mode='inline')"
      ],
      "execution_count": null,
      "outputs": []
    }
  ]
}