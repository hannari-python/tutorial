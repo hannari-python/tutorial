{
  "nbformat": 4,
  "nbformat_minor": 0,
  "metadata": {
    "kernelspec": {
      "display_name": "Python 3",
      "language": "python",
      "name": "python3"
    },
    "language_info": {
      "codemirror_mode": {
        "name": "ipython",
        "version": 3
      },
      "file_extension": ".py",
      "mimetype": "text/x-python",
      "name": "python",
      "nbconvert_exporter": "python",
      "pygments_lexer": "ipython3",
      "version": "3.8.2"
    },
    "colab": {
      "name": "read_shp.ipynb",
      "provenance": []
    }
  },
  "cells": [
    {
      "cell_type": "code",
      "metadata": {
        "id": "rhYD7E-kg0PG",
        "colab_type": "code",
        "colab": {
          "base_uri": "https://localhost:8080/",
          "height": 361
        },
        "outputId": "3e4b3a38-ba78-48fe-b8fc-07b19fdfe9d9"
      },
      "source": [
        "import zipfile\n",
        "import geopandas as gpd\n",
        "import shapely\n",
        "import pandas as pd"
      ],
      "execution_count": 2,
      "outputs": [
        {
          "output_type": "error",
          "ename": "ModuleNotFoundError",
          "evalue": "ignored",
          "traceback": [
            "\u001b[0;31m---------------------------------------------------------------------------\u001b[0m",
            "\u001b[0;31mModuleNotFoundError\u001b[0m                       Traceback (most recent call last)",
            "\u001b[0;32m<ipython-input-2-f05ae29e98a2>\u001b[0m in \u001b[0;36m<module>\u001b[0;34m()\u001b[0m\n\u001b[1;32m      1\u001b[0m \u001b[0;32mimport\u001b[0m \u001b[0mzipfile\u001b[0m\u001b[0;34m\u001b[0m\u001b[0;34m\u001b[0m\u001b[0m\n\u001b[0;32m----> 2\u001b[0;31m \u001b[0;32mimport\u001b[0m \u001b[0mgeopandas\u001b[0m \u001b[0;32mas\u001b[0m \u001b[0mgpd\u001b[0m\u001b[0;34m\u001b[0m\u001b[0;34m\u001b[0m\u001b[0m\n\u001b[0m\u001b[1;32m      3\u001b[0m \u001b[0;32mimport\u001b[0m \u001b[0mshapely\u001b[0m\u001b[0;34m\u001b[0m\u001b[0;34m\u001b[0m\u001b[0m\n\u001b[1;32m      4\u001b[0m \u001b[0;32mimport\u001b[0m \u001b[0mpandas\u001b[0m \u001b[0;32mas\u001b[0m \u001b[0mpd\u001b[0m\u001b[0;34m\u001b[0m\u001b[0;34m\u001b[0m\u001b[0m\n",
            "\u001b[0;31mModuleNotFoundError\u001b[0m: No module named 'geopandas'",
            "",
            "\u001b[0;31m---------------------------------------------------------------------------\u001b[0;32m\nNOTE: If your import is failing due to a missing package, you can\nmanually install dependencies using either !pip or !apt.\n\nTo view examples of installing some common dependencies, click the\n\"Open Examples\" button below.\n\u001b[0;31m---------------------------------------------------------------------------\u001b[0m\n"
          ]
        }
      ]
    },
    {
      "cell_type": "code",
      "metadata": {
        "id": "ehEo5KOjhFbs",
        "colab_type": "code",
        "colab": {}
      },
      "source": [
        "import matplotlib.pyplot as plt\n",
        "# $ pip install descartes"
      ],
      "execution_count": 1,
      "outputs": []
    },
    {
      "cell_type": "code",
      "metadata": {
        "id": "jyO77sBVg0Pc",
        "colab_type": "code",
        "colab": {}
      },
      "source": [
        "pd.set_option('max_columns', 50)"
      ],
      "execution_count": null,
      "outputs": []
    },
    {
      "cell_type": "markdown",
      "metadata": {
        "id": "Zcgy3pp9g0Pt",
        "colab_type": "text"
      },
      "source": [
        "- まずZIP FILEを解凍します。\n",
        "- そうするとdbf-shxの4つのファイルが現れます\n",
        "- 読み込むのはshpファイルのみですが、ほかのファイルがデータを持っていてつながっているようなので、\n",
        "- 捨ててはいけないことになっています。"
      ]
    },
    {
      "cell_type": "code",
      "metadata": {
        "id": "0rHPHD64g0Pu",
        "colab_type": "code",
        "colab": {}
      },
      "source": [
        "with zipfile.ZipFile('A002005212015DDSWC01.zip') as myzip:\n",
        "    myzip.extractall()"
      ],
      "execution_count": null,
      "outputs": []
    },
    {
      "cell_type": "markdown",
      "metadata": {
        "id": "QnSM07-kg0P-",
        "colab_type": "text"
      },
      "source": [
        "- 次にgeopandasを用いてshpファイルを読み込みます。"
      ]
    },
    {
      "cell_type": "code",
      "metadata": {
        "id": "BCIiQxrhg0QA",
        "colab_type": "code",
        "colab": {}
      },
      "source": [
        "data = gpd.read_file('h27ka01.shp')"
      ],
      "execution_count": null,
      "outputs": []
    },
    {
      "cell_type": "code",
      "metadata": {
        "id": "pUm9npGug0QT",
        "colab_type": "code",
        "colab": {},
        "outputId": "3b647514-a66a-40b8-ec92-4ba93d4398c9"
      },
      "source": [
        "print(data.shape)\n",
        "print(data.info())"
      ],
      "execution_count": null,
      "outputs": [
        {
          "output_type": "stream",
          "text": [
            "(22772, 36)\n",
            "<class 'geopandas.geodataframe.GeoDataFrame'>\n",
            "RangeIndex: 22772 entries, 0 to 22771\n",
            "Data columns (total 36 columns):\n",
            " #   Column      Non-Null Count  Dtype   \n",
            "---  ------      --------------  -----   \n",
            " 0   KEY_CODE    22772 non-null  object  \n",
            " 1   PREF        22772 non-null  object  \n",
            " 2   CITY        22772 non-null  object  \n",
            " 3   S_AREA      22772 non-null  object  \n",
            " 4   PREF_NAME   22772 non-null  object  \n",
            " 5   CITY_NAME   22772 non-null  object  \n",
            " 6   S_NAME      22772 non-null  object  \n",
            " 7   KIGO_E      364 non-null    object  \n",
            " 8   HCODE       22772 non-null  int64   \n",
            " 9   AREA        22772 non-null  float64 \n",
            " 10  PERIMETER   22772 non-null  float64 \n",
            " 11  H27KAxx_    22772 non-null  int64   \n",
            " 12  H27KAxx_ID  22772 non-null  int64   \n",
            " 13  KEN         22772 non-null  object  \n",
            " 14  KEN_NAME    22772 non-null  object  \n",
            " 15  SITYO_NAME  22772 non-null  object  \n",
            " 16  GST_NAME    22772 non-null  object  \n",
            " 17  CSS_NAME    13346 non-null  object  \n",
            " 18  KIHON1      22772 non-null  object  \n",
            " 19  DUMMY1      22772 non-null  object  \n",
            " 20  KIHON2      22772 non-null  object  \n",
            " 21  KEYCODE1    22772 non-null  object  \n",
            " 22  KEYCODE2    22772 non-null  object  \n",
            " 23  AREA_MAX_F  22568 non-null  object  \n",
            " 24  KIGO_D      0 non-null      object  \n",
            " 25  N_KEN       0 non-null      object  \n",
            " 26  N_CITY      0 non-null      object  \n",
            " 27  KIGO_I      76 non-null     object  \n",
            " 28  MOJI        22772 non-null  object  \n",
            " 29  KBSUM       22772 non-null  int64   \n",
            " 30  JINKO       22772 non-null  int64   \n",
            " 31  SETAI       22772 non-null  int64   \n",
            " 32  X_CODE      22772 non-null  float64 \n",
            " 33  Y_CODE      22772 non-null  float64 \n",
            " 34  KCODE1      22772 non-null  object  \n",
            " 35  geometry    22772 non-null  geometry\n",
            "dtypes: float64(4), geometry(1), int64(6), object(25)\n",
            "memory usage: 6.3+ MB\n",
            "None\n"
          ],
          "name": "stdout"
        }
      ]
    },
    {
      "cell_type": "markdown",
      "metadata": {
        "id": "W4GJYwOeg0Qi",
        "colab_type": "text"
      },
      "source": [
        "- X_CODEのところに経度、Y_CODEのところに緯度情報が入っています\n",
        "- geometryのところにPolygonと呼ばれる、経度緯度で場所を囲むように作ったデータが含まれます\n",
        "- 上はshapelyというライブラリを使っています\n",
        "- "
      ]
    },
    {
      "cell_type": "code",
      "metadata": {
        "id": "uH8_nWfHg0Qk",
        "colab_type": "code",
        "colab": {},
        "outputId": "927926a8-ec17-4f22-bccd-d6cfb7bc0f6c"
      },
      "source": [
        "data.head()"
      ],
      "execution_count": null,
      "outputs": [
        {
          "output_type": "execute_result",
          "data": {
            "text/html": [
              "<div>\n",
              "<style scoped>\n",
              "    .dataframe tbody tr th:only-of-type {\n",
              "        vertical-align: middle;\n",
              "    }\n",
              "\n",
              "    .dataframe tbody tr th {\n",
              "        vertical-align: top;\n",
              "    }\n",
              "\n",
              "    .dataframe thead th {\n",
              "        text-align: right;\n",
              "    }\n",
              "</style>\n",
              "<table border=\"1\" class=\"dataframe\">\n",
              "  <thead>\n",
              "    <tr style=\"text-align: right;\">\n",
              "      <th></th>\n",
              "      <th>KEY_CODE</th>\n",
              "      <th>PREF</th>\n",
              "      <th>CITY</th>\n",
              "      <th>S_AREA</th>\n",
              "      <th>PREF_NAME</th>\n",
              "      <th>CITY_NAME</th>\n",
              "      <th>S_NAME</th>\n",
              "      <th>KIGO_E</th>\n",
              "      <th>HCODE</th>\n",
              "      <th>AREA</th>\n",
              "      <th>PERIMETER</th>\n",
              "      <th>H27KAxx_</th>\n",
              "      <th>H27KAxx_ID</th>\n",
              "      <th>KEN</th>\n",
              "      <th>KEN_NAME</th>\n",
              "      <th>SITYO_NAME</th>\n",
              "      <th>GST_NAME</th>\n",
              "      <th>CSS_NAME</th>\n",
              "      <th>KIHON1</th>\n",
              "      <th>DUMMY1</th>\n",
              "      <th>KIHON2</th>\n",
              "      <th>KEYCODE1</th>\n",
              "      <th>KEYCODE2</th>\n",
              "      <th>AREA_MAX_F</th>\n",
              "      <th>KIGO_D</th>\n",
              "      <th>N_KEN</th>\n",
              "      <th>N_CITY</th>\n",
              "      <th>KIGO_I</th>\n",
              "      <th>MOJI</th>\n",
              "      <th>KBSUM</th>\n",
              "      <th>JINKO</th>\n",
              "      <th>SETAI</th>\n",
              "      <th>X_CODE</th>\n",
              "      <th>Y_CODE</th>\n",
              "      <th>KCODE1</th>\n",
              "      <th>geometry</th>\n",
              "    </tr>\n",
              "  </thead>\n",
              "  <tbody>\n",
              "    <tr>\n",
              "      <th>0</th>\n",
              "      <td>011010200</td>\n",
              "      <td>01</td>\n",
              "      <td>101</td>\n",
              "      <td>020000</td>\n",
              "      <td>北海道</td>\n",
              "      <td>中央区</td>\n",
              "      <td>宮ケ丘（番地）</td>\n",
              "      <td>None</td>\n",
              "      <td>8101</td>\n",
              "      <td>576029.667</td>\n",
              "      <td>4152.808</td>\n",
              "      <td>16920</td>\n",
              "      <td>16919</td>\n",
              "      <td>01</td>\n",
              "      <td>北海道</td>\n",
              "      <td>石狩振興局</td>\n",
              "      <td>札幌市</td>\n",
              "      <td>中央区</td>\n",
              "      <td>0200</td>\n",
              "      <td>-</td>\n",
              "      <td>00</td>\n",
              "      <td>101020000</td>\n",
              "      <td>1010200</td>\n",
              "      <td>M</td>\n",
              "      <td>None</td>\n",
              "      <td>None</td>\n",
              "      <td>None</td>\n",
              "      <td>None</td>\n",
              "      <td>宮ケ丘（番地）</td>\n",
              "      <td>1</td>\n",
              "      <td>4</td>\n",
              "      <td>2</td>\n",
              "      <td>141.30680</td>\n",
              "      <td>43.05148</td>\n",
              "      <td>0200-00</td>\n",
              "      <td>POLYGON ((141.31330 43.05741, 141.31345 43.056...</td>\n",
              "    </tr>\n",
              "    <tr>\n",
              "      <th>1</th>\n",
              "      <td>011010300</td>\n",
              "      <td>01</td>\n",
              "      <td>101</td>\n",
              "      <td>030000</td>\n",
              "      <td>北海道</td>\n",
              "      <td>中央区</td>\n",
              "      <td>円山</td>\n",
              "      <td>None</td>\n",
              "      <td>8101</td>\n",
              "      <td>576865.064</td>\n",
              "      <td>2957.028</td>\n",
              "      <td>21552</td>\n",
              "      <td>21551</td>\n",
              "      <td>01</td>\n",
              "      <td>北海道</td>\n",
              "      <td>石狩振興局</td>\n",
              "      <td>札幌市</td>\n",
              "      <td>中央区</td>\n",
              "      <td>0300</td>\n",
              "      <td>-</td>\n",
              "      <td>00</td>\n",
              "      <td>101030000</td>\n",
              "      <td>1010300</td>\n",
              "      <td>M</td>\n",
              "      <td>None</td>\n",
              "      <td>None</td>\n",
              "      <td>None</td>\n",
              "      <td>None</td>\n",
              "      <td>円山</td>\n",
              "      <td>1</td>\n",
              "      <td>0</td>\n",
              "      <td>0</td>\n",
              "      <td>141.31399</td>\n",
              "      <td>43.04868</td>\n",
              "      <td>0300-00</td>\n",
              "      <td>POLYGON ((141.31560 43.05121, 141.31575 43.051...</td>\n",
              "    </tr>\n",
              "    <tr>\n",
              "      <th>2</th>\n",
              "      <td>011010400</td>\n",
              "      <td>01</td>\n",
              "      <td>101</td>\n",
              "      <td>040000</td>\n",
              "      <td>北海道</td>\n",
              "      <td>中央区</td>\n",
              "      <td>円山西町</td>\n",
              "      <td>E1</td>\n",
              "      <td>8101</td>\n",
              "      <td>1435875.537</td>\n",
              "      <td>9122.136</td>\n",
              "      <td>18502</td>\n",
              "      <td>18501</td>\n",
              "      <td>01</td>\n",
              "      <td>北海道</td>\n",
              "      <td>石狩振興局</td>\n",
              "      <td>札幌市</td>\n",
              "      <td>中央区</td>\n",
              "      <td>0400</td>\n",
              "      <td>-</td>\n",
              "      <td>00</td>\n",
              "      <td>101040000</td>\n",
              "      <td>1010400</td>\n",
              "      <td>M</td>\n",
              "      <td>None</td>\n",
              "      <td>None</td>\n",
              "      <td>None</td>\n",
              "      <td>None</td>\n",
              "      <td>円山西町</td>\n",
              "      <td>6</td>\n",
              "      <td>22</td>\n",
              "      <td>7</td>\n",
              "      <td>141.30110</td>\n",
              "      <td>43.03504</td>\n",
              "      <td>0400-00</td>\n",
              "      <td>POLYGON ((141.30727 43.03305, 141.30698 43.032...</td>\n",
              "    </tr>\n",
              "    <tr>\n",
              "      <th>3</th>\n",
              "      <td>011010400</td>\n",
              "      <td>01</td>\n",
              "      <td>101</td>\n",
              "      <td>040000</td>\n",
              "      <td>北海道</td>\n",
              "      <td>中央区</td>\n",
              "      <td>円山西町</td>\n",
              "      <td>E2</td>\n",
              "      <td>8101</td>\n",
              "      <td>97741.577</td>\n",
              "      <td>1538.669</td>\n",
              "      <td>18503</td>\n",
              "      <td>18502</td>\n",
              "      <td>01</td>\n",
              "      <td>北海道</td>\n",
              "      <td>石狩振興局</td>\n",
              "      <td>札幌市</td>\n",
              "      <td>中央区</td>\n",
              "      <td>0400</td>\n",
              "      <td>-</td>\n",
              "      <td>00</td>\n",
              "      <td>101040000</td>\n",
              "      <td>1010400</td>\n",
              "      <td>None</td>\n",
              "      <td>None</td>\n",
              "      <td>None</td>\n",
              "      <td>None</td>\n",
              "      <td>None</td>\n",
              "      <td>円山西町</td>\n",
              "      <td>0</td>\n",
              "      <td>0</td>\n",
              "      <td>0</td>\n",
              "      <td>141.30149</td>\n",
              "      <td>43.04689</td>\n",
              "      <td>0400-00</td>\n",
              "      <td>POLYGON ((141.30164 43.04536, 141.30073 43.044...</td>\n",
              "    </tr>\n",
              "    <tr>\n",
              "      <th>4</th>\n",
              "      <td>011011000</td>\n",
              "      <td>01</td>\n",
              "      <td>101</td>\n",
              "      <td>100000</td>\n",
              "      <td>北海道</td>\n",
              "      <td>中央区</td>\n",
              "      <td>宮の森</td>\n",
              "      <td>E2</td>\n",
              "      <td>8101</td>\n",
              "      <td>95124.469</td>\n",
              "      <td>1625.091</td>\n",
              "      <td>392</td>\n",
              "      <td>391</td>\n",
              "      <td>01</td>\n",
              "      <td>北海道</td>\n",
              "      <td>石狩振興局</td>\n",
              "      <td>札幌市</td>\n",
              "      <td>中央区</td>\n",
              "      <td>1000</td>\n",
              "      <td>-</td>\n",
              "      <td>00</td>\n",
              "      <td>101100000</td>\n",
              "      <td>1011000</td>\n",
              "      <td>None</td>\n",
              "      <td>None</td>\n",
              "      <td>None</td>\n",
              "      <td>None</td>\n",
              "      <td>None</td>\n",
              "      <td>宮の森</td>\n",
              "      <td>0</td>\n",
              "      <td>0</td>\n",
              "      <td>0</td>\n",
              "      <td>141.30487</td>\n",
              "      <td>43.05383</td>\n",
              "      <td>1000-00</td>\n",
              "      <td>POLYGON ((141.30588 43.05591, 141.30594 43.055...</td>\n",
              "    </tr>\n",
              "  </tbody>\n",
              "</table>\n",
              "</div>"
            ],
            "text/plain": [
              "    KEY_CODE PREF CITY  S_AREA PREF_NAME CITY_NAME   S_NAME KIGO_E  HCODE  \\\n",
              "0  011010200   01  101  020000       北海道       中央区  宮ケ丘（番地）   None   8101   \n",
              "1  011010300   01  101  030000       北海道       中央区       円山   None   8101   \n",
              "2  011010400   01  101  040000       北海道       中央区     円山西町     E1   8101   \n",
              "3  011010400   01  101  040000       北海道       中央区     円山西町     E2   8101   \n",
              "4  011011000   01  101  100000       北海道       中央区      宮の森     E2   8101   \n",
              "\n",
              "          AREA  PERIMETER  H27KAxx_  H27KAxx_ID KEN KEN_NAME SITYO_NAME  \\\n",
              "0   576029.667   4152.808     16920       16919  01      北海道      石狩振興局   \n",
              "1   576865.064   2957.028     21552       21551  01      北海道      石狩振興局   \n",
              "2  1435875.537   9122.136     18502       18501  01      北海道      石狩振興局   \n",
              "3    97741.577   1538.669     18503       18502  01      北海道      石狩振興局   \n",
              "4    95124.469   1625.091       392         391  01      北海道      石狩振興局   \n",
              "\n",
              "  GST_NAME CSS_NAME KIHON1 DUMMY1 KIHON2   KEYCODE1 KEYCODE2 AREA_MAX_F  \\\n",
              "0      札幌市      中央区   0200      -     00  101020000  1010200          M   \n",
              "1      札幌市      中央区   0300      -     00  101030000  1010300          M   \n",
              "2      札幌市      中央区   0400      -     00  101040000  1010400          M   \n",
              "3      札幌市      中央区   0400      -     00  101040000  1010400       None   \n",
              "4      札幌市      中央区   1000      -     00  101100000  1011000       None   \n",
              "\n",
              "  KIGO_D N_KEN N_CITY KIGO_I     MOJI  KBSUM  JINKO  SETAI     X_CODE  \\\n",
              "0   None  None   None   None  宮ケ丘（番地）      1      4      2  141.30680   \n",
              "1   None  None   None   None       円山      1      0      0  141.31399   \n",
              "2   None  None   None   None     円山西町      6     22      7  141.30110   \n",
              "3   None  None   None   None     円山西町      0      0      0  141.30149   \n",
              "4   None  None   None   None      宮の森      0      0      0  141.30487   \n",
              "\n",
              "     Y_CODE   KCODE1                                           geometry  \n",
              "0  43.05148  0200-00  POLYGON ((141.31330 43.05741, 141.31345 43.056...  \n",
              "1  43.04868  0300-00  POLYGON ((141.31560 43.05121, 141.31575 43.051...  \n",
              "2  43.03504  0400-00  POLYGON ((141.30727 43.03305, 141.30698 43.032...  \n",
              "3  43.04689  0400-00  POLYGON ((141.30164 43.04536, 141.30073 43.044...  \n",
              "4  43.05383  1000-00  POLYGON ((141.30588 43.05591, 141.30594 43.055...  "
            ]
          },
          "metadata": {
            "tags": []
          },
          "execution_count": 6
        }
      ]
    },
    {
      "cell_type": "code",
      "metadata": {
        "id": "0ZKJPpKsg0Qu",
        "colab_type": "code",
        "colab": {},
        "outputId": "c8061e7e-d85f-461d-c85a-9955da231b2f"
      },
      "source": [
        "# 経度緯度をどういう形式で作っているかというのをcrsというのを使ってみれます\n",
        "data.crs"
      ],
      "execution_count": null,
      "outputs": [
        {
          "output_type": "execute_result",
          "data": {
            "text/plain": [
              "<Geographic 2D CRS: EPSG:4612>\n",
              "Name: JGD2000\n",
              "Axis Info [ellipsoidal]:\n",
              "- Lat[north]: Geodetic latitude (degree)\n",
              "- Lon[east]: Geodetic longitude (degree)\n",
              "Area of Use:\n",
              "- name: Japan\n",
              "- bounds: (122.38, 17.09, 157.65, 46.05)\n",
              "Datum: Japanese Geodetic Datum 2000\n",
              "- Ellipsoid: GRS 1980\n",
              "- Prime Meridian: Greenwich"
            ]
          },
          "metadata": {
            "tags": []
          },
          "execution_count": 7
        }
      ]
    },
    {
      "cell_type": "code",
      "metadata": {
        "id": "ENYiWLkKg0Q5",
        "colab_type": "code",
        "colab": {},
        "outputId": "c3967209-7908-40c1-d265-a4feeec5e49c"
      },
      "source": [
        "data[['X_CODE', 'Y_CODE', 'geometry']]"
      ],
      "execution_count": null,
      "outputs": [
        {
          "output_type": "execute_result",
          "data": {
            "text/html": [
              "<div>\n",
              "<style scoped>\n",
              "    .dataframe tbody tr th:only-of-type {\n",
              "        vertical-align: middle;\n",
              "    }\n",
              "\n",
              "    .dataframe tbody tr th {\n",
              "        vertical-align: top;\n",
              "    }\n",
              "\n",
              "    .dataframe thead th {\n",
              "        text-align: right;\n",
              "    }\n",
              "</style>\n",
              "<table border=\"1\" class=\"dataframe\">\n",
              "  <thead>\n",
              "    <tr style=\"text-align: right;\">\n",
              "      <th></th>\n",
              "      <th>X_CODE</th>\n",
              "      <th>Y_CODE</th>\n",
              "      <th>geometry</th>\n",
              "    </tr>\n",
              "  </thead>\n",
              "  <tbody>\n",
              "    <tr>\n",
              "      <th>0</th>\n",
              "      <td>141.30680</td>\n",
              "      <td>43.05148</td>\n",
              "      <td>POLYGON ((141.31330 43.05741, 141.31345 43.056...</td>\n",
              "    </tr>\n",
              "    <tr>\n",
              "      <th>1</th>\n",
              "      <td>141.31399</td>\n",
              "      <td>43.04868</td>\n",
              "      <td>POLYGON ((141.31560 43.05121, 141.31575 43.051...</td>\n",
              "    </tr>\n",
              "    <tr>\n",
              "      <th>2</th>\n",
              "      <td>141.30110</td>\n",
              "      <td>43.03504</td>\n",
              "      <td>POLYGON ((141.30727 43.03305, 141.30698 43.032...</td>\n",
              "    </tr>\n",
              "    <tr>\n",
              "      <th>3</th>\n",
              "      <td>141.30149</td>\n",
              "      <td>43.04689</td>\n",
              "      <td>POLYGON ((141.30164 43.04536, 141.30073 43.044...</td>\n",
              "    </tr>\n",
              "    <tr>\n",
              "      <th>4</th>\n",
              "      <td>141.30487</td>\n",
              "      <td>43.05383</td>\n",
              "      <td>POLYGON ((141.30588 43.05591, 141.30594 43.055...</td>\n",
              "    </tr>\n",
              "    <tr>\n",
              "      <th>...</th>\n",
              "      <td>...</td>\n",
              "      <td>...</td>\n",
              "      <td>...</td>\n",
              "    </tr>\n",
              "    <tr>\n",
              "      <th>22767</th>\n",
              "      <td>145.30206</td>\n",
              "      <td>44.18456</td>\n",
              "      <td>POLYGON ((145.32857 44.19121, 145.32833 44.191...</td>\n",
              "    </tr>\n",
              "    <tr>\n",
              "      <th>22768</th>\n",
              "      <td>145.28005</td>\n",
              "      <td>44.16451</td>\n",
              "      <td>POLYGON ((145.30703 44.16961, 145.30700 44.169...</td>\n",
              "    </tr>\n",
              "    <tr>\n",
              "      <th>22769</th>\n",
              "      <td>145.24263</td>\n",
              "      <td>44.14446</td>\n",
              "      <td>POLYGON ((145.28692 44.15161, 145.28657 44.150...</td>\n",
              "    </tr>\n",
              "    <tr>\n",
              "      <th>22770</th>\n",
              "      <td>145.20081</td>\n",
              "      <td>44.11011</td>\n",
              "      <td>POLYGON ((145.24228 44.09516, 145.24187 44.094...</td>\n",
              "    </tr>\n",
              "    <tr>\n",
              "      <th>22771</th>\n",
              "      <td>145.18281</td>\n",
              "      <td>44.07451</td>\n",
              "      <td>POLYGON ((145.23002 44.04694, 145.22968 44.045...</td>\n",
              "    </tr>\n",
              "  </tbody>\n",
              "</table>\n",
              "<p>22772 rows × 3 columns</p>\n",
              "</div>"
            ],
            "text/plain": [
              "          X_CODE    Y_CODE                                           geometry\n",
              "0      141.30680  43.05148  POLYGON ((141.31330 43.05741, 141.31345 43.056...\n",
              "1      141.31399  43.04868  POLYGON ((141.31560 43.05121, 141.31575 43.051...\n",
              "2      141.30110  43.03504  POLYGON ((141.30727 43.03305, 141.30698 43.032...\n",
              "3      141.30149  43.04689  POLYGON ((141.30164 43.04536, 141.30073 43.044...\n",
              "4      141.30487  43.05383  POLYGON ((141.30588 43.05591, 141.30594 43.055...\n",
              "...          ...       ...                                                ...\n",
              "22767  145.30206  44.18456  POLYGON ((145.32857 44.19121, 145.32833 44.191...\n",
              "22768  145.28005  44.16451  POLYGON ((145.30703 44.16961, 145.30700 44.169...\n",
              "22769  145.24263  44.14446  POLYGON ((145.28692 44.15161, 145.28657 44.150...\n",
              "22770  145.20081  44.11011  POLYGON ((145.24228 44.09516, 145.24187 44.094...\n",
              "22771  145.18281  44.07451  POLYGON ((145.23002 44.04694, 145.22968 44.045...\n",
              "\n",
              "[22772 rows x 3 columns]"
            ]
          },
          "metadata": {
            "tags": []
          },
          "execution_count": 8
        }
      ]
    },
    {
      "cell_type": "code",
      "metadata": {
        "id": "0W-lARR4g0RC",
        "colab_type": "code",
        "colab": {},
        "outputId": "8d46e984-5d40-4309-ef44-ae259a754324"
      },
      "source": [
        "# POLYGONはこんな感じで描画されます\n",
        "data.geometry[0]"
      ],
      "execution_count": null,
      "outputs": [
        {
          "output_type": "execute_result",
          "data": {
            "image/svg+xml": "<svg xmlns=\"http://www.w3.org/2000/svg\" xmlns:xlink=\"http://www.w3.org/1999/xlink\" width=\"100.0\" height=\"100.0\" viewBox=\"141.3034037304248 43.045100326672085 0.013097901797436862 0.01279205436061659\" preserveAspectRatio=\"xMinYMin meet\"><g transform=\"matrix(1,0,0,-1,0,86.10299270770479)\"><path fill-rule=\"evenodd\" fill=\"#66cc99\" stroke=\"#555555\" stroke-width=\"0.0002619580359487372\" opacity=\"0.6\" d=\"M 141.3133034564272,43.057407273558724 L 141.3134512132565,43.056244607762835 L 141.31345372632038,43.056224443788686 L 141.31353188654796,43.05560745461351 L 141.31414463407347,43.055046248029704 L 141.31436114683223,43.05493549211896 L 141.3146260831175,43.05466759454897 L 141.31472942102437,43.054538260474615 L 141.31475122120293,43.054511080313354 L 141.31490211567964,43.05435730870947 L 141.31499710069681,43.05419063103884 L 141.31500616711648,43.05417467054383 L 141.31504620252198,43.05408975838637 L 141.3151279368103,43.05380425685537 L 141.3152274092192,43.05346847476453 L 141.31524759293995,43.0533898710766 L 141.31527634380092,43.05327757940693 L 141.31529493510897,43.0530639308647 L 141.31528061858188,43.052996298003706 L 141.3151247449159,43.05284072287671 L 141.31510181079742,43.05264600503828 L 141.31507266527856,43.052544493035285 L 141.31493578486538,43.05223730216755 L 141.31494338906975,43.052128143202154 L 141.31507295781793,43.052033061760184 L 141.31559163109756,43.05161996452204 L 141.31601652474825,43.05188787097493 L 141.3156038476643,43.051207162336446 L 141.3153822905415,43.05135423940323 L 141.3151190815654,43.05150962680559 L 141.3147174499941,43.05168638765998 L 141.31426927632324,43.05189652449906 L 141.31389866699664,43.05205103072974 L 141.31349754269647,43.052194033336846 L 141.31320432664756,43.05230415995456 L 141.31264238051799,43.052497042387 L 141.31176863489162,43.052747707932376 L 141.31114507952006,43.05283577997957 L 141.31098498327924,43.05285064225728 L 141.31085380576457,43.05284956574753 L 141.31069494377192,43.05283391426893 L 141.31056581829463,43.052805215073 L 141.31038325393746,43.05273401995726 L 141.31005128826996,43.052567779195215 L 141.30982068903762,43.05242051410538 L 141.3096010213097,43.05225463189674 L 141.30941147854563,43.05210045930018 L 141.30928979842267,43.052017736908134 L 141.309251738417,43.051985565513235 L 141.30923028711106,43.051883200664484 L 141.3091536374145,43.05185978342147 L 141.30910822057214,43.05182579337965 L 141.30906810332826,43.05177130945365 L 141.30902692077453,43.0516737064888 L 141.3089853505512,43.05153242472217 L 141.3089498461292,43.05138324574748 L 141.30894738564024,43.05099859629184 L 141.30889487313416,43.05043778223644 L 141.3086447412192,43.047674673966306 L 141.30846779135902,43.04768257254818 L 141.30842363816632,43.04720263535901 L 141.30840521030467,43.046890292644704 L 141.30842607028552,43.04645435341169 L 141.3080223470778,43.04636776179279 L 141.3076427127679,43.046304997684814 L 141.30683521336874,43.046135604234614 L 141.30626272654646,43.04593635572789 L 141.30624936903922,43.04591943682346 L 141.30624114211184,43.04589939507429 L 141.3062432600254,43.04587381319438 L 141.30625302060645,43.045843933701256 L 141.30629587646126,43.04577557473065 L 141.30642258935092,43.045597773264 L 141.30616923373455,43.04559849754592 L 141.30595884163915,43.04559901299687 L 141.3052337323353,43.04558543414606 L 141.3051569288506,43.0456600525193 L 141.30502835513522,43.04578396575754 L 141.30500451137064,43.045806766622874 L 141.30490802324152,43.04591441761902 L 141.30480753177528,43.04603912509418 L 141.3047083930897,43.04618817727738 L 141.30462346263897,43.04632363288894 L 141.30458465284747,43.046446810614704 L 141.30454689790477,43.04655747778746 L 141.3045221438869,43.04670194007261 L 141.30442339317574,43.0471503156251 L 141.3044027837866,43.047205987298604 L 141.3043814595127,43.04735814316744 L 141.30432561383302,43.04759145595676 L 141.30423168003327,43.048019405617374 L 141.30411034159016,43.04857695627617 L 141.30401684544222,43.04904492635848 L 141.30390894398013,43.04956397674246 L 141.3038888378988,43.049992465966156 L 141.3042377779288,43.05078718413323 L 141.30554307097458,43.05308576675998 L 141.30573572746997,43.05334265120641 L 141.30667105980754,43.05451262279782 L 141.30737339533636,43.05543711808125 L 141.30774016681235,43.055610545936304 L 141.30781101361436,43.05575635852114 L 141.30798504365774,43.0562537508104 L 141.30913813891354,43.05673620012774 L 141.3091768103241,43.056753607704884 L 141.30924672708878,43.05678498687537 L 141.30943256520735,43.05686858865365 L 141.30990445815772,43.0569861182947 L 141.30999284425366,43.056995143479014 L 141.31087277615725,43.05708472378105 L 141.3110362671017,43.05710575762966 L 141.3118478491559,43.05720602219249 L 141.31186890715682,43.05720872713847 L 141.3121420189626,43.05724254360608 L 141.31248903189098,43.05728554486064 L 141.3125334496956,43.05729104268847 L 141.3132735062032,43.057402737966946 L 141.3133034564272,43.057407273558724 z\" /></g></svg>",
            "text/plain": [
              "<shapely.geometry.polygon.Polygon at 0x7f758c3c2100>"
            ]
          },
          "metadata": {
            "tags": []
          },
          "execution_count": 10
        }
      ]
    },
    {
      "cell_type": "code",
      "metadata": {
        "id": "tzjiBB-Sg0RM",
        "colab_type": "code",
        "colab": {}
      },
      "source": [
        ""
      ],
      "execution_count": null,
      "outputs": []
    }
  ]
}