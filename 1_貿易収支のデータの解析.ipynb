{
  "nbformat": 4,
  "nbformat_minor": 0,
  "metadata": {
    "colab": {
      "name": "1. 貿易収支のデータの解析",
      "provenance": [],
      "authorship_tag": "ABX9TyM+t4n5gcsAH+wo+z/YtXAs",
      "include_colab_link": true
    },
    "kernelspec": {
      "name": "python3",
      "display_name": "Python 3"
    }
  },
  "cells": [
    {
      "cell_type": "markdown",
      "metadata": {
        "id": "view-in-github",
        "colab_type": "text"
      },
      "source": [
        "<a href=\"https://colab.research.google.com/github/hannari-python/tutorial/blob/master/1_%E8%B2%BF%E6%98%93%E5%8F%8E%E6%94%AF%E3%81%AE%E3%83%87%E3%83%BC%E3%82%BF%E3%81%AE%E8%A7%A3%E6%9E%90.ipynb\" target=\"_parent\"><img src=\"https://colab.research.google.com/assets/colab-badge.svg\" alt=\"Open In Colab\"/></a>"
      ]
    },
    {
      "cell_type": "markdown",
      "metadata": {
        "id": "bFA_PvfXRIsG",
        "colab_type": "text"
      },
      "source": [
        "ここでは貿易収支のデータを解析します。\n",
        "データは\n",
        "https://www.customs.go.jp/toukei/shinbun/trade-st/timeseries_202005.csv\n",
        "にあります。\n"
      ]
    },
    {
      "cell_type": "markdown",
      "metadata": {
        "id": "K3ew9A5bQvLu",
        "colab_type": "text"
      },
      "source": [
        "pandasは...を行うpython packageです。\n",
        "このpackageを使うには...をします。"
      ]
    },
    {
      "cell_type": "code",
      "metadata": {
        "id": "JXlXyDDdQATo",
        "colab_type": "code",
        "colab": {}
      },
      "source": [
        "import pandas as pd"
      ],
      "execution_count": null,
      "outputs": []
    },
    {
      "cell_type": "code",
      "metadata": {
        "id": "nTDk41MlTHxi",
        "colab_type": "code",
        "colab": {}
      },
      "source": [
        "df = pd.read_csv(\"https://www.customs.go.jp/toukei/shinbun/trade-st/timeseries_202005.csv\")"
      ],
      "execution_count": null,
      "outputs": []
    },
    {
      "cell_type": "markdown",
      "metadata": {
        "id": "nAS7PTRxUqg4",
        "colab_type": "text"
      },
      "source": [
        "Google\n",
        "```\n",
        "UnicodeDecodeError: 'utf-8' codec can't decode byte 0x81 in position 0: invalid start byte\n",
        "```\n"
      ]
    },
    {
      "cell_type": "code",
      "metadata": {
        "id": "5o9FvIuHQqGW",
        "colab_type": "code",
        "colab": {}
      },
      "source": [
        "df = pd.read_csv(\"https://www.customs.go.jp/toukei/shinbun/trade-st/timeseries_202005.csv\", encoding=\"shift-jis\")"
      ],
      "execution_count": null,
      "outputs": []
    },
    {
      "cell_type": "code",
      "metadata": {
        "id": "Lrg26UwrSejl",
        "colab_type": "code",
        "colab": {}
      },
      "source": [
        "df"
      ],
      "execution_count": null,
      "outputs": []
    },
    {
      "cell_type": "markdown",
      "metadata": {
        "id": "kQefTCRMUw-l",
        "colab_type": "text"
      },
      "source": [
        "Google\n",
        "```\n",
        "read_csv skip rows\n",
        "```"
      ]
    },
    {
      "cell_type": "code",
      "metadata": {
        "id": "DXBc8Mt9S-YC",
        "colab_type": "code",
        "colab": {}
      },
      "source": [
        "df = pd.read_csv(\"https://www.customs.go.jp/toukei/shinbun/trade-st/timeseries_202005.csv\", encoding=\"shift-jis\", header=3)"
      ],
      "execution_count": null,
      "outputs": []
    },
    {
      "cell_type": "code",
      "metadata": {
        "id": "n3SkcmRfUDkK",
        "colab_type": "code",
        "colab": {}
      },
      "source": [
        "df"
      ],
      "execution_count": null,
      "outputs": []
    },
    {
      "cell_type": "markdown",
      "metadata": {
        "id": "6GU_NWZvU2Tm",
        "colab_type": "text"
      },
      "source": [
        "Google\n",
        "```\n",
        "rename pandas columns\n",
        "```\n"
      ]
    },
    {
      "cell_type": "code",
      "metadata": {
        "id": "_MEcfS-IVgb2",
        "colab_type": "code",
        "colab": {}
      },
      "source": [
        "df"
      ],
      "execution_count": null,
      "outputs": []
    },
    {
      "cell_type": "code",
      "metadata": {
        "id": "dge338oPVhPF",
        "colab_type": "code",
        "colab": {}
      },
      "source": [
        "df = df.rename(columns={\"Unnamed: 0\": \"Years/Months\", \"Unnamed: 1\": \"Exp-Total\", \"Unnamed: 2\": \"Imp-Total\"})"
      ],
      "execution_count": null,
      "outputs": []
    },
    {
      "cell_type": "code",
      "metadata": {
        "id": "2xTzhW8lVlqf",
        "colab_type": "code",
        "colab": {}
      },
      "source": [
        "df"
      ],
      "execution_count": null,
      "outputs": []
    },
    {
      "cell_type": "code",
      "metadata": {
        "id": "rX5j_1kWVmBL",
        "colab_type": "code",
        "colab": {}
      },
      "source": [
        ""
      ],
      "execution_count": null,
      "outputs": []
    }
  ]
}