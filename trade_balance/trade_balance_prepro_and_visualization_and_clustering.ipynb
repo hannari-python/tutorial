{
  "nbformat": 4,
  "nbformat_minor": 0,
  "metadata": {
    "colab": {
      "name": "trade_balance_prepro_and_visualization_and_clustering",
      "provenance": [],
      "collapsed_sections": [],
      "include_colab_link": true
    },
    "kernelspec": {
      "name": "python3",
      "display_name": "Python 3"
    }
  },
  "cells": [
    {
      "cell_type": "markdown",
      "metadata": {
        "id": "view-in-github",
        "colab_type": "text"
      },
      "source": [
        "<a href=\"https://colab.research.google.com/github/hannari-python/tutorial/blob/master/trade_balance/trade_balance_prepro_and_visualization_and_clustering.ipynb\" target=\"_parent\"><img src=\"https://colab.research.google.com/assets/colab-badge.svg\" alt=\"Open In Colab\"/></a>"
      ]
    },
    {
      "cell_type": "markdown",
      "metadata": {
        "colab_type": "text",
        "id": "oCiqXLDJkCZv"
      },
      "source": [
        "# 貿易収支データの分析\n",
        "\n",
        "## データの出典情報\n",
        "\n",
        "1. https://www.kaggle.com/zanjibar/japan-trade-statistics\n",
        "2. https://www.kaggle.com/zanjibar/japantradestatistics2\n",
        "\n",
        "1.2.共にライセンスは https://creativecommons.org/licenses/by-sa/4.0/ です。\n",
        "\n",
        "## データの簡単な紹介\n",
        "\n",
        "このデータは https://www.kaggle.com/zanjibar さんによる日本の国際貿易に関するものです。\n",
        "\n",
        "## 課題1\n",
        "\n",
        "https://www.kaggle.com/zanjibar/japan-trade-statistics\n",
        "https://www.kaggle.com/zanjibar/japantradestatistics2\n",
        "\n",
        "にどのような情報があるかざっとながめてみましょう。\n",
        "\n",
        "## Japan trade statistics のデータの取得と解凍\n",
        "\n",
        "Kaggleにある[データ可視化の例](https://www.kaggle.com/zanjibar/year-1997-top-20-export-import-graph)を試すため、\n",
        "\n",
        "- https://www.dropbox.com/s/xsmjypizhhastyr/y_1997.db?dl=1\n",
        "- https://www.dropbox.com/s/ej8pj7tflk11cuu/trade_meta_data.db?dl=1\n",
        "- https://www.dropbox.com/s/jp03pp2gr14bmk0/codes.db?dl=1\n",
        "\n",
        "からデータをダウンロードします。\n",
        "(データ取得の利便性のために以降の分析で用いるデータのみを再配布しています。データのライセンスがCC-by-sa 4.0であるため再配布が可能です。)\n",
        "\n",
        "!の後にLinuxコマンドを書くとそのセルの命令はPythonのプログラムではなくLinuxのコマンドとして実行されます。\n",
        "\n",
        "- wget はデータをダウンロードするのに使うことができるLinuxのコマンドです。\n",
        "- mv はファイルをリネームをするのに使うことができるLinuxのコマンドです。\n"
      ]
    },
    {
      "cell_type": "code",
      "metadata": {
        "colab_type": "code",
        "id": "zxieqlwwkCZ1",
        "colab": {
          "base_uri": "https://localhost:8080/",
          "height": 1000
        },
        "outputId": "d344692a-a066-47a3-bf29-393e8a2ddc3b"
      },
      "source": [
        "!wget https://www.dropbox.com/s/xsmjypizhhastyr/y_1997.db?dl=1\n",
        "!wget https://www.dropbox.com/s/ej8pj7tflk11cuu/trade_meta_data.db?dl=1\n",
        "!wget https://www.dropbox.com/s/jp03pp2gr14bmk0/codes.db?dl=1\n",
        "!mv y_1997.db?dl=1 y_1997.db\n",
        "!mv trade_meta_data.db?dl=1 trade_meta_data.db\n",
        "!mv codes.db?dl=1 codes.db"
      ],
      "execution_count": 1,
      "outputs": [
        {
          "output_type": "stream",
          "text": [
            "--2020-08-22 13:25:06--  https://www.dropbox.com/s/xsmjypizhhastyr/y_1997.db?dl=1\n",
            "Resolving www.dropbox.com (www.dropbox.com)... 162.125.3.1, 2620:100:6018:1::a27d:301\n",
            "Connecting to www.dropbox.com (www.dropbox.com)|162.125.3.1|:443... connected.\n",
            "HTTP request sent, awaiting response... 301 Moved Permanently\n",
            "Location: /s/dl/xsmjypizhhastyr/y_1997.db [following]\n",
            "--2020-08-22 13:25:06--  https://www.dropbox.com/s/dl/xsmjypizhhastyr/y_1997.db\n",
            "Reusing existing connection to www.dropbox.com:443.\n",
            "HTTP request sent, awaiting response... 302 Found\n",
            "Location: https://uc9e7660203cd9e92976ba8f0d49.dl.dropboxusercontent.com/cd/0/get/A9_sRoBwAu7TgmGWYzoc9dbyPDDhR_rlFl0Jfcb3HltNVMQZHaFYE1zPytjaaOIOAGmD1qtUjAKjTOCzvCZNtfKTHj6kiVPzMZo2mhZmBVnPUQ/file?dl=1# [following]\n",
            "--2020-08-22 13:25:07--  https://uc9e7660203cd9e92976ba8f0d49.dl.dropboxusercontent.com/cd/0/get/A9_sRoBwAu7TgmGWYzoc9dbyPDDhR_rlFl0Jfcb3HltNVMQZHaFYE1zPytjaaOIOAGmD1qtUjAKjTOCzvCZNtfKTHj6kiVPzMZo2mhZmBVnPUQ/file?dl=1\n",
            "Resolving uc9e7660203cd9e92976ba8f0d49.dl.dropboxusercontent.com (uc9e7660203cd9e92976ba8f0d49.dl.dropboxusercontent.com)... 162.125.3.15, 2620:100:601b:15::a27d:80f\n",
            "Connecting to uc9e7660203cd9e92976ba8f0d49.dl.dropboxusercontent.com (uc9e7660203cd9e92976ba8f0d49.dl.dropboxusercontent.com)|162.125.3.15|:443... connected.\n",
            "HTTP request sent, awaiting response... 200 OK\n",
            "Length: 482275328 (460M) [application/binary]\n",
            "Saving to: ‘y_1997.db?dl=1’\n",
            "\n",
            "y_1997.db?dl=1      100%[===================>] 459.93M  82.2MB/s    in 6.2s    \n",
            "\n",
            "2020-08-22 13:25:13 (74.1 MB/s) - ‘y_1997.db?dl=1’ saved [482275328/482275328]\n",
            "\n",
            "--2020-08-22 13:25:15--  https://www.dropbox.com/s/ej8pj7tflk11cuu/trade_meta_data.db?dl=1\n",
            "Resolving www.dropbox.com (www.dropbox.com)... 162.125.8.1, 2620:100:6018:1::a27d:301\n",
            "Connecting to www.dropbox.com (www.dropbox.com)|162.125.8.1|:443... connected.\n",
            "HTTP request sent, awaiting response... 301 Moved Permanently\n",
            "Location: /s/dl/ej8pj7tflk11cuu/trade_meta_data.db [following]\n",
            "--2020-08-22 13:25:15--  https://www.dropbox.com/s/dl/ej8pj7tflk11cuu/trade_meta_data.db\n",
            "Reusing existing connection to www.dropbox.com:443.\n",
            "HTTP request sent, awaiting response... 302 Found\n",
            "Location: https://uce1e5fa9a86af95b014e63da2d2.dl.dropboxusercontent.com/cd/0/get/A98IZ9CtfLwij93c1OnV0nqTvTcpT4NuCA3HC0bU_hvvsZIt2ipUiO2fyOfz8z1-oT5S9-ehACpxZdSLYfvBhCxAOKmkEHx6D_Ft84AiLySQ_Q/file?dl=1# [following]\n",
            "--2020-08-22 13:25:15--  https://uce1e5fa9a86af95b014e63da2d2.dl.dropboxusercontent.com/cd/0/get/A98IZ9CtfLwij93c1OnV0nqTvTcpT4NuCA3HC0bU_hvvsZIt2ipUiO2fyOfz8z1-oT5S9-ehACpxZdSLYfvBhCxAOKmkEHx6D_Ft84AiLySQ_Q/file?dl=1\n",
            "Resolving uce1e5fa9a86af95b014e63da2d2.dl.dropboxusercontent.com (uce1e5fa9a86af95b014e63da2d2.dl.dropboxusercontent.com)... 162.125.8.15, 2620:100:6018:15::a27d:30f\n",
            "Connecting to uce1e5fa9a86af95b014e63da2d2.dl.dropboxusercontent.com (uce1e5fa9a86af95b014e63da2d2.dl.dropboxusercontent.com)|162.125.8.15|:443... connected.\n",
            "HTTP request sent, awaiting response... 200 OK\n",
            "Length: 2932736 (2.8M) [application/binary]\n",
            "Saving to: ‘trade_meta_data.db?dl=1’\n",
            "\n",
            "trade_meta_data.db? 100%[===================>]   2.80M  --.-KB/s    in 0.1s    \n",
            "\n",
            "2020-08-22 13:25:16 (25.0 MB/s) - ‘trade_meta_data.db?dl=1’ saved [2932736/2932736]\n",
            "\n",
            "--2020-08-22 13:25:17--  https://www.dropbox.com/s/jp03pp2gr14bmk0/codes.db?dl=1\n",
            "Resolving www.dropbox.com (www.dropbox.com)... 162.125.3.1, 2620:100:6018:1::a27d:301\n",
            "Connecting to www.dropbox.com (www.dropbox.com)|162.125.3.1|:443... connected.\n",
            "HTTP request sent, awaiting response... 301 Moved Permanently\n",
            "Location: /s/dl/jp03pp2gr14bmk0/codes.db [following]\n",
            "--2020-08-22 13:25:17--  https://www.dropbox.com/s/dl/jp03pp2gr14bmk0/codes.db\n",
            "Reusing existing connection to www.dropbox.com:443.\n",
            "HTTP request sent, awaiting response... 302 Found\n",
            "Location: https://uc63b4475f80b8c8cac4c5ae7246.dl.dropboxusercontent.com/cd/0/get/A9-GNZR1HoAtTwph3F-cX2DOa2HsIAiKawaFrfaRBE1ENkk5UrP01yo9X628dJQ31OxcGjfcYn1SJpG-Akb0aCw95ZK__lgMzT-qQEDEsK_smA/file?dl=1# [following]\n",
            "--2020-08-22 13:25:17--  https://uc63b4475f80b8c8cac4c5ae7246.dl.dropboxusercontent.com/cd/0/get/A9-GNZR1HoAtTwph3F-cX2DOa2HsIAiKawaFrfaRBE1ENkk5UrP01yo9X628dJQ31OxcGjfcYn1SJpG-Akb0aCw95ZK__lgMzT-qQEDEsK_smA/file?dl=1\n",
            "Resolving uc63b4475f80b8c8cac4c5ae7246.dl.dropboxusercontent.com (uc63b4475f80b8c8cac4c5ae7246.dl.dropboxusercontent.com)... 162.125.3.15, 2620:100:6018:15::a27d:30f\n",
            "Connecting to uc63b4475f80b8c8cac4c5ae7246.dl.dropboxusercontent.com (uc63b4475f80b8c8cac4c5ae7246.dl.dropboxusercontent.com)|162.125.3.15|:443... connected.\n",
            "HTTP request sent, awaiting response... 200 OK\n",
            "Length: 3239936 (3.1M) [application/binary]\n",
            "Saving to: ‘codes.db?dl=1’\n",
            "\n",
            "codes.db?dl=1       100%[===================>]   3.09M  --.-KB/s    in 0.08s   \n",
            "\n",
            "2020-08-22 13:25:18 (38.1 MB/s) - ‘codes.db?dl=1’ saved [3239936/3239936]\n",
            "\n"
          ],
          "name": "stdout"
        }
      ]
    },
    {
      "cell_type": "markdown",
      "metadata": {
        "colab_type": "text",
        "id": "M2bt_iWekCZ8"
      },
      "source": [
        "## データの読み込み\n",
        "\n",
        "ここでは FILLME を行います。\n",
        "\n",
        "FILLME行のFILLMEではFILLMEを行っています。\n"
      ]
    },
    {
      "cell_type": "code",
      "metadata": {
        "colab_type": "code",
        "id": "42XeZJ46syAd",
        "colab": {}
      },
      "source": [
        "import sqlite3\n",
        "import pandas as pd\n",
        "\n",
        "#  1997 - data\n",
        "conn = sqlite3.connect('./y_1997.db')\n",
        "cursor = conn.cursor()\n",
        "# hs code,country,hs,code\n",
        "attach = 'attach \"./trade_meta_data.db\" as code'\n",
        "cursor.execute(attach)\n",
        "# import hs,country code as pandas\n",
        "tmpl = \"{hs}_{lang}_df =  pd.read_sql('select * from code.{hs}_{lang}',conn)\"\n",
        "for hs in ['hs2','hs4','hs6','hs6','hs9']:\n",
        "    for lang in ['jpn','eng']:\n",
        "        exec(tmpl.format(hs=hs,lang=lang))        \n",
        "# country \n",
        "country_eng_df = pd.read_sql('select * from code.country_eng',conn)\n",
        "country_eng_df['Country']=country_eng_df['Country'].apply(str)\n",
        "country_jpn_df = pd.read_sql('select * from code.country_jpn',conn)\n",
        "country_jpn_df['Country']=country_jpn_df['Country'].apply(str)"
      ],
      "execution_count": 2,
      "outputs": []
    },
    {
      "cell_type": "markdown",
      "metadata": {
        "id": "NmWImZDQ6N7w",
        "colab_type": "text"
      },
      "source": [
        "# データの確認"
      ]
    },
    {
      "cell_type": "code",
      "metadata": {
        "id": "lxXjJZ8aI7HM",
        "colab_type": "code",
        "colab": {
          "base_uri": "https://localhost:8080/",
          "height": 56
        },
        "outputId": "ddfa7920-8191-4912-bbc1-ec87244a05a0"
      },
      "source": [
        "import sqlite3 \n",
        "import pandas as pd \n",
        "\n",
        "conn = sqlite3.connect('y_1997.db')\n",
        "cursor = conn.cursor()\n",
        "cursor.execute('select * from sqlite_master where type=\"table\"')\n",
        "for i in cursor.fetchall():\n",
        "  print(i)\n",
        "\n",
        "conn.close()"
      ],
      "execution_count": 3,
      "outputs": [
        {
          "output_type": "stream",
          "text": [
            "('table', 'year_from_1997', 'year_from_1997', 2, 'CREATE TABLE \"year_from_1997\" (\\n\"index\" INTEGER,\\n  \"exp_imp\" INTEGER,\\n  \"Year\" INTEGER,\\n  \"Country\" TEXT,\\n  \"Unit1\" TEXT,\\n  \"Unit2\" TEXT,\\n  \"Q1\" INTEGER,\\n  \"Q2\" INTEGER,\\n  \"Value\" INTEGER,\\n  \"hs2\" TEXT,\\n  \"hs4\" TEXT,\\n  \"hs6\" TEXT,\\n  \"hs9\" TEXT\\n)')\n"
          ],
          "name": "stdout"
        }
      ]
    },
    {
      "cell_type": "code",
      "metadata": {
        "id": "bUjtLA1bWEa_",
        "colab_type": "code",
        "colab": {
          "base_uri": "https://localhost:8080/",
          "height": 243
        },
        "outputId": "f8394e03-f0f0-47ca-c5f2-92420e89d15a"
      },
      "source": [
        "conn = sqlite3.connect('codes.db')\n",
        "cursor = conn.cursor()\n",
        "cursor.execute('select * from sqlite_master where type=\"table\"')\n",
        "for i in cursor.fetchall():\n",
        "  print(i)\n",
        "\n",
        "conn.close()"
      ],
      "execution_count": 4,
      "outputs": [
        {
          "output_type": "stream",
          "text": [
            "('table', 'country_jpn', 'country_jpn', 2, 'CREATE TABLE \"country_jpn\" (\\n\"Country\" TEXT,\\n  \"Country_name\" TEXT,\\n  \"Area\" TEXT\\n)')\n",
            "('table', 'hs2_jpn', 'hs2_jpn', 7, 'CREATE TABLE \"hs2_jpn\" (\\n\"hs2\" TEXT,\\n  \"hs2_name\" TEXT\\n)')\n",
            "('table', 'hs2_eng', 'hs2_eng', 10, 'CREATE TABLE \"hs2_eng\" (\\n\"hs2\" TEXT,\\n  \"hs2_name\" TEXT\\n)')\n",
            "('table', 'hs4_eng', 'hs4_eng', 77, 'CREATE TABLE \"hs4_eng\" (\\n\"hs4\" TEXT,\\n  \"hs4_name\" TEXT\\n)')\n",
            "('table', 'hs6_jpn', 'hs6_jpn', 118, 'CREATE TABLE \"hs6_jpn\" (\\n\"hs6\" TEXT,\\n  \"hs6_name\" TEXT\\n)')\n",
            "('table', 'hs6_eng', 'hs6_eng', 241, 'CREATE TABLE \"hs6_eng\" (\\n\"hs6\" TEXT,\\n  \"hs6_name\" TEXT\\n)')\n",
            "('table', 'hs9_jpn', 'hs9_jpn', 304, 'CREATE TABLE \"hs9_jpn\" (\\n\"hs9\" TEXT,\\n  \"hs9_name\" TEXT\\n)')\n",
            "('table', 'hs9_eng', 'hs9_eng', 512, 'CREATE TABLE \"hs9_eng\" (\\n\"hs9\" TEXT,\\n  \"hs9_name\" TEXT\\n)')\n",
            "('table', 'country_eng', 'country_eng', 685, 'CREATE TABLE \"country_eng\" (\\n\"Country\" TEXT,\\n  \"Country_name\" TEXT,\\n  \"Area\" TEXT\\n)')\n",
            "('table', 'hs4_jpn', 'hs4_jpn', 13, 'CREATE TABLE \"hs4_jpn\" (\\n\"hs4\" TEXT,\\n  \"hs4_name\" TEXT\\n)')\n",
            "('table', 'custom_tmp', 'custom_tmp', 782, 'CREATE TABLE \"custom_tmp\" (\\n\\t`Custom`\\tTEXT,\\n\\t`custom_name`\\tTEXT,\\n\\t`region`\\tTEXT,\\n\\tPRIMARY KEY(`Custom`)\\n)')\n",
            "('table', 'custom', 'custom', 788, 'CREATE TABLE \"custom\" (\\n\\t`Custom`\\ttext,\\n\\t`custom_name`\\ttext,\\n\\t`pref`\\ttext,\\n\\tPRIMARY KEY(`Custom`)\\n)')\n"
          ],
          "name": "stdout"
        }
      ]
    },
    {
      "cell_type": "markdown",
      "metadata": {
        "id": "nUau7O4ul31-",
        "colab_type": "text"
      },
      "source": [
        "次にFILLMEを行います。\n",
        "\n",
        "関数`read_table`はFILLMEを入力とし、FILLME出力します。"
      ]
    },
    {
      "cell_type": "code",
      "metadata": {
        "id": "mzXM5QCIWR50",
        "colab_type": "code",
        "colab": {}
      },
      "source": [
        "def read_table(database_path, table_name):\n",
        "  conn = sqlite3.connect(database_path)\n",
        "  cursor = conn.cursor()\n",
        "  sql = f'select * from {table_name}'\n",
        "  df = pd.read_sql(sql, conn)\n",
        "  conn.close()\n",
        "  return df "
      ],
      "execution_count": 5,
      "outputs": []
    },
    {
      "cell_type": "code",
      "metadata": {
        "id": "6TLE-XDMWSPF",
        "colab_type": "code",
        "colab": {}
      },
      "source": [
        "cst_tmp = read_table('codes.db', 'custom')"
      ],
      "execution_count": 6,
      "outputs": []
    },
    {
      "cell_type": "code",
      "metadata": {
        "id": "SmkijTJ8XCR1",
        "colab_type": "code",
        "colab": {
          "base_uri": "https://localhost:8080/",
          "height": 424
        },
        "outputId": "8518da6c-7de4-4c03-e373-48e8002a6857"
      },
      "source": [
        "cst_tmp"
      ],
      "execution_count": 7,
      "outputs": [
        {
          "output_type": "execute_result",
          "data": {
            "text/html": [
              "<div>\n",
              "<style scoped>\n",
              "    .dataframe tbody tr th:only-of-type {\n",
              "        vertical-align: middle;\n",
              "    }\n",
              "\n",
              "    .dataframe tbody tr th {\n",
              "        vertical-align: top;\n",
              "    }\n",
              "\n",
              "    .dataframe thead th {\n",
              "        text-align: right;\n",
              "    }\n",
              "</style>\n",
              "<table border=\"1\" class=\"dataframe\">\n",
              "  <thead>\n",
              "    <tr style=\"text-align: right;\">\n",
              "      <th></th>\n",
              "      <th>Custom</th>\n",
              "      <th>custom_name</th>\n",
              "      <th>pref</th>\n",
              "    </tr>\n",
              "  </thead>\n",
              "  <tbody>\n",
              "    <tr>\n",
              "      <th>0</th>\n",
              "      <td>100</td>\n",
              "      <td>東京</td>\n",
              "      <td>東京</td>\n",
              "    </tr>\n",
              "    <tr>\n",
              "      <th>1</th>\n",
              "      <td>101</td>\n",
              "      <td>東京税関東京航空貨物出張所</td>\n",
              "      <td>東京</td>\n",
              "    </tr>\n",
              "    <tr>\n",
              "      <th>2</th>\n",
              "      <td>103</td>\n",
              "      <td>東京国際</td>\n",
              "      <td>東京</td>\n",
              "    </tr>\n",
              "    <tr>\n",
              "      <th>3</th>\n",
              "      <td>104</td>\n",
              "      <td>成田国際</td>\n",
              "      <td>東京</td>\n",
              "    </tr>\n",
              "    <tr>\n",
              "      <th>4</th>\n",
              "      <td>120</td>\n",
              "      <td>新潟</td>\n",
              "      <td>新潟</td>\n",
              "    </tr>\n",
              "    <tr>\n",
              "      <th>...</th>\n",
              "      <td>...</td>\n",
              "      <td>...</td>\n",
              "      <td>...</td>\n",
              "    </tr>\n",
              "    <tr>\n",
              "      <th>169</th>\n",
              "      <td>906</td>\n",
              "      <td>石垣</td>\n",
              "      <td>沖縄</td>\n",
              "    </tr>\n",
              "    <tr>\n",
              "      <th>170</th>\n",
              "      <td>907</td>\n",
              "      <td>那覇空港</td>\n",
              "      <td>沖縄</td>\n",
              "    </tr>\n",
              "    <tr>\n",
              "      <th>171</th>\n",
              "      <td>910</td>\n",
              "      <td>不開港</td>\n",
              "      <td>不開港</td>\n",
              "    </tr>\n",
              "    <tr>\n",
              "      <th>172</th>\n",
              "      <td>990</td>\n",
              "      <td>その他</td>\n",
              "      <td>その他</td>\n",
              "    </tr>\n",
              "    <tr>\n",
              "      <th>173</th>\n",
              "      <td>908</td>\n",
              "      <td>石垣税関支署石垣空港出張所\\n</td>\n",
              "      <td>沖縄</td>\n",
              "    </tr>\n",
              "  </tbody>\n",
              "</table>\n",
              "<p>174 rows × 3 columns</p>\n",
              "</div>"
            ],
            "text/plain": [
              "    Custom      custom_name pref\n",
              "0      100               東京   東京\n",
              "1      101    東京税関東京航空貨物出張所   東京\n",
              "2      103             東京国際   東京\n",
              "3      104             成田国際   東京\n",
              "4      120               新潟   新潟\n",
              "..     ...              ...  ...\n",
              "169    906               石垣   沖縄\n",
              "170    907             那覇空港   沖縄\n",
              "171    910              不開港  不開港\n",
              "172    990              その他  その他\n",
              "173    908  石垣税関支署石垣空港出張所\\n   沖縄\n",
              "\n",
              "[174 rows x 3 columns]"
            ]
          },
          "metadata": {
            "tags": []
          },
          "execution_count": 7
        }
      ]
    },
    {
      "cell_type": "code",
      "metadata": {
        "id": "mnh4ogAMXCU_",
        "colab_type": "code",
        "colab": {}
      },
      "source": [
        "data = read_table('y_1997.db', 'year_from_1997')"
      ],
      "execution_count": 8,
      "outputs": []
    },
    {
      "cell_type": "code",
      "metadata": {
        "id": "SoL46HQ7XCXy",
        "colab_type": "code",
        "colab": {
          "base_uri": "https://localhost:8080/",
          "height": 36
        },
        "outputId": "991dced3-e4f8-488f-ed64-ea86cd4d049a"
      },
      "source": [
        "data.shape"
      ],
      "execution_count": 9,
      "outputs": [
        {
          "output_type": "execute_result",
          "data": {
            "text/plain": [
              "(6500323, 13)"
            ]
          },
          "metadata": {
            "tags": []
          },
          "execution_count": 9
        }
      ]
    },
    {
      "cell_type": "markdown",
      "metadata": {
        "id": "dg-bWtmqmH34",
        "colab_type": "text"
      },
      "source": [
        "- 行はFILLMEを\n",
        "- FILLME列はFILLMEを\n",
        "\n",
        "表します。"
      ]
    },
    {
      "cell_type": "code",
      "metadata": {
        "id": "jXkDv6baXCdE",
        "colab_type": "code",
        "colab": {
          "base_uri": "https://localhost:8080/",
          "height": 424
        },
        "outputId": "a8579dca-c36d-4043-8436-817f65a5e633"
      },
      "source": [
        "data"
      ],
      "execution_count": 10,
      "outputs": [
        {
          "output_type": "execute_result",
          "data": {
            "text/html": [
              "<div>\n",
              "<style scoped>\n",
              "    .dataframe tbody tr th:only-of-type {\n",
              "        vertical-align: middle;\n",
              "    }\n",
              "\n",
              "    .dataframe tbody tr th {\n",
              "        vertical-align: top;\n",
              "    }\n",
              "\n",
              "    .dataframe thead th {\n",
              "        text-align: right;\n",
              "    }\n",
              "</style>\n",
              "<table border=\"1\" class=\"dataframe\">\n",
              "  <thead>\n",
              "    <tr style=\"text-align: right;\">\n",
              "      <th></th>\n",
              "      <th>index</th>\n",
              "      <th>exp_imp</th>\n",
              "      <th>Year</th>\n",
              "      <th>Country</th>\n",
              "      <th>Unit1</th>\n",
              "      <th>Unit2</th>\n",
              "      <th>Q1</th>\n",
              "      <th>Q2</th>\n",
              "      <th>Value</th>\n",
              "      <th>hs2</th>\n",
              "      <th>hs4</th>\n",
              "      <th>hs6</th>\n",
              "      <th>hs9</th>\n",
              "    </tr>\n",
              "  </thead>\n",
              "  <tbody>\n",
              "    <tr>\n",
              "      <th>0</th>\n",
              "      <td>0</td>\n",
              "      <td>1</td>\n",
              "      <td>1997</td>\n",
              "      <td>304</td>\n",
              "      <td>None</td>\n",
              "      <td>NO</td>\n",
              "      <td>0</td>\n",
              "      <td>2</td>\n",
              "      <td>26800</td>\n",
              "      <td>01</td>\n",
              "      <td>0101</td>\n",
              "      <td>010111</td>\n",
              "      <td>010111000</td>\n",
              "    </tr>\n",
              "    <tr>\n",
              "      <th>1</th>\n",
              "      <td>1</td>\n",
              "      <td>1</td>\n",
              "      <td>1997</td>\n",
              "      <td>108</td>\n",
              "      <td>None</td>\n",
              "      <td>NO</td>\n",
              "      <td>0</td>\n",
              "      <td>2</td>\n",
              "      <td>180480</td>\n",
              "      <td>01</td>\n",
              "      <td>0101</td>\n",
              "      <td>010119</td>\n",
              "      <td>010119000</td>\n",
              "    </tr>\n",
              "    <tr>\n",
              "      <th>2</th>\n",
              "      <td>2</td>\n",
              "      <td>1</td>\n",
              "      <td>1997</td>\n",
              "      <td>207</td>\n",
              "      <td>None</td>\n",
              "      <td>NO</td>\n",
              "      <td>0</td>\n",
              "      <td>2</td>\n",
              "      <td>20000</td>\n",
              "      <td>01</td>\n",
              "      <td>0101</td>\n",
              "      <td>010119</td>\n",
              "      <td>010119000</td>\n",
              "    </tr>\n",
              "    <tr>\n",
              "      <th>3</th>\n",
              "      <td>3</td>\n",
              "      <td>1</td>\n",
              "      <td>1997</td>\n",
              "      <td>208</td>\n",
              "      <td>None</td>\n",
              "      <td>NO</td>\n",
              "      <td>0</td>\n",
              "      <td>2</td>\n",
              "      <td>2850</td>\n",
              "      <td>01</td>\n",
              "      <td>0101</td>\n",
              "      <td>010119</td>\n",
              "      <td>010119000</td>\n",
              "    </tr>\n",
              "    <tr>\n",
              "      <th>4</th>\n",
              "      <td>4</td>\n",
              "      <td>1</td>\n",
              "      <td>1997</td>\n",
              "      <td>210</td>\n",
              "      <td>None</td>\n",
              "      <td>NO</td>\n",
              "      <td>0</td>\n",
              "      <td>1</td>\n",
              "      <td>50000</td>\n",
              "      <td>01</td>\n",
              "      <td>0101</td>\n",
              "      <td>010119</td>\n",
              "      <td>010119000</td>\n",
              "    </tr>\n",
              "    <tr>\n",
              "      <th>...</th>\n",
              "      <td>...</td>\n",
              "      <td>...</td>\n",
              "      <td>...</td>\n",
              "      <td>...</td>\n",
              "      <td>...</td>\n",
              "      <td>...</td>\n",
              "      <td>...</td>\n",
              "      <td>...</td>\n",
              "      <td>...</td>\n",
              "      <td>...</td>\n",
              "      <td>...</td>\n",
              "      <td>...</td>\n",
              "      <td>...</td>\n",
              "    </tr>\n",
              "    <tr>\n",
              "      <th>6500318</th>\n",
              "      <td>231377</td>\n",
              "      <td>2</td>\n",
              "      <td>2019</td>\n",
              "      <td>245</td>\n",
              "      <td></td>\n",
              "      <td>KG</td>\n",
              "      <td>0</td>\n",
              "      <td>128</td>\n",
              "      <td>41438</td>\n",
              "      <td>97</td>\n",
              "      <td>9706</td>\n",
              "      <td>970600</td>\n",
              "      <td>970600000</td>\n",
              "    </tr>\n",
              "    <tr>\n",
              "      <th>6500319</th>\n",
              "      <td>231378</td>\n",
              "      <td>2</td>\n",
              "      <td>2019</td>\n",
              "      <td>304</td>\n",
              "      <td></td>\n",
              "      <td>KG</td>\n",
              "      <td>0</td>\n",
              "      <td>26</td>\n",
              "      <td>116584</td>\n",
              "      <td>97</td>\n",
              "      <td>9706</td>\n",
              "      <td>970600</td>\n",
              "      <td>970600000</td>\n",
              "    </tr>\n",
              "    <tr>\n",
              "      <th>6500320</th>\n",
              "      <td>231379</td>\n",
              "      <td>2</td>\n",
              "      <td>2019</td>\n",
              "      <td>401</td>\n",
              "      <td></td>\n",
              "      <td>KG</td>\n",
              "      <td>0</td>\n",
              "      <td>0</td>\n",
              "      <td>7161</td>\n",
              "      <td>97</td>\n",
              "      <td>9706</td>\n",
              "      <td>970600</td>\n",
              "      <td>970600000</td>\n",
              "    </tr>\n",
              "    <tr>\n",
              "      <th>6500321</th>\n",
              "      <td>231380</td>\n",
              "      <td>2</td>\n",
              "      <td>2019</td>\n",
              "      <td>506</td>\n",
              "      <td></td>\n",
              "      <td>KG</td>\n",
              "      <td>0</td>\n",
              "      <td>5</td>\n",
              "      <td>8958</td>\n",
              "      <td>97</td>\n",
              "      <td>9706</td>\n",
              "      <td>970600</td>\n",
              "      <td>970600000</td>\n",
              "    </tr>\n",
              "    <tr>\n",
              "      <th>6500322</th>\n",
              "      <td>231381</td>\n",
              "      <td>2</td>\n",
              "      <td>2019</td>\n",
              "      <td>601</td>\n",
              "      <td></td>\n",
              "      <td>KG</td>\n",
              "      <td>0</td>\n",
              "      <td>1</td>\n",
              "      <td>212</td>\n",
              "      <td>97</td>\n",
              "      <td>9706</td>\n",
              "      <td>970600</td>\n",
              "      <td>970600000</td>\n",
              "    </tr>\n",
              "  </tbody>\n",
              "</table>\n",
              "<p>6500323 rows × 13 columns</p>\n",
              "</div>"
            ],
            "text/plain": [
              "          index  exp_imp  Year Country  ... hs2   hs4     hs6        hs9\n",
              "0             0        1  1997     304  ...  01  0101  010111  010111000\n",
              "1             1        1  1997     108  ...  01  0101  010119  010119000\n",
              "2             2        1  1997     207  ...  01  0101  010119  010119000\n",
              "3             3        1  1997     208  ...  01  0101  010119  010119000\n",
              "4             4        1  1997     210  ...  01  0101  010119  010119000\n",
              "...         ...      ...   ...     ...  ...  ..   ...     ...        ...\n",
              "6500318  231377        2  2019     245  ...  97  9706  970600  970600000\n",
              "6500319  231378        2  2019     304  ...  97  9706  970600  970600000\n",
              "6500320  231379        2  2019     401  ...  97  9706  970600  970600000\n",
              "6500321  231380        2  2019     506  ...  97  9706  970600  970600000\n",
              "6500322  231381        2  2019     601  ...  97  9706  970600  970600000\n",
              "\n",
              "[6500323 rows x 13 columns]"
            ]
          },
          "metadata": {
            "tags": []
          },
          "execution_count": 10
        }
      ]
    },
    {
      "cell_type": "markdown",
      "metadata": {
        "id": "8_7FUEEtmfRE",
        "colab_type": "text"
      },
      "source": [
        "`info`メソッドはFILLMEを行います。"
      ]
    },
    {
      "cell_type": "code",
      "metadata": {
        "id": "Lkf0EgZPa1Gs",
        "colab_type": "code",
        "colab": {
          "base_uri": "https://localhost:8080/",
          "height": 393
        },
        "outputId": "670e7ae4-2625-4576-9493-772c5c934852"
      },
      "source": [
        "data.info()"
      ],
      "execution_count": 11,
      "outputs": [
        {
          "output_type": "stream",
          "text": [
            "<class 'pandas.core.frame.DataFrame'>\n",
            "RangeIndex: 6500323 entries, 0 to 6500322\n",
            "Data columns (total 13 columns):\n",
            " #   Column   Dtype \n",
            "---  ------   ----- \n",
            " 0   index    int64 \n",
            " 1   exp_imp  int64 \n",
            " 2   Year     int64 \n",
            " 3   Country  object\n",
            " 4   Unit1    object\n",
            " 5   Unit2    object\n",
            " 6   Q1       int64 \n",
            " 7   Q2       int64 \n",
            " 8   Value    int64 \n",
            " 9   hs2      object\n",
            " 10  hs4      object\n",
            " 11  hs6      object\n",
            " 12  hs9      object\n",
            "dtypes: int64(6), object(7)\n",
            "memory usage: 644.7+ MB\n"
          ],
          "name": "stdout"
        }
      ]
    },
    {
      "cell_type": "markdown",
      "metadata": {
        "id": "XOjkw1ByqR0L",
        "colab_type": "text"
      },
      "source": [
        "下記ではFILLMEを行っています。"
      ]
    },
    {
      "cell_type": "code",
      "metadata": {
        "id": "TWFR1ZG8XCgc",
        "colab_type": "code",
        "colab": {
          "base_uri": "https://localhost:8080/",
          "height": 424
        },
        "outputId": "64ad36c1-83cb-46d6-d31a-0ec40b944d16"
      },
      "source": [
        "country_name = read_table('codes.db', 'country_eng')\n",
        "country_name = country_name[['Country', 'Country_name']]\n",
        "country_name = country_name.set_index('Country')\n",
        "cont_dict = country_name.to_dict()[\"Country_name\"]\n",
        "data['country_name'] = data['Country'].map(cont_dict)\n",
        "data"
      ],
      "execution_count": 12,
      "outputs": [
        {
          "output_type": "execute_result",
          "data": {
            "text/html": [
              "<div>\n",
              "<style scoped>\n",
              "    .dataframe tbody tr th:only-of-type {\n",
              "        vertical-align: middle;\n",
              "    }\n",
              "\n",
              "    .dataframe tbody tr th {\n",
              "        vertical-align: top;\n",
              "    }\n",
              "\n",
              "    .dataframe thead th {\n",
              "        text-align: right;\n",
              "    }\n",
              "</style>\n",
              "<table border=\"1\" class=\"dataframe\">\n",
              "  <thead>\n",
              "    <tr style=\"text-align: right;\">\n",
              "      <th></th>\n",
              "      <th>index</th>\n",
              "      <th>exp_imp</th>\n",
              "      <th>Year</th>\n",
              "      <th>Country</th>\n",
              "      <th>Unit1</th>\n",
              "      <th>Unit2</th>\n",
              "      <th>Q1</th>\n",
              "      <th>Q2</th>\n",
              "      <th>Value</th>\n",
              "      <th>hs2</th>\n",
              "      <th>hs4</th>\n",
              "      <th>hs6</th>\n",
              "      <th>hs9</th>\n",
              "      <th>country_name</th>\n",
              "    </tr>\n",
              "  </thead>\n",
              "  <tbody>\n",
              "    <tr>\n",
              "      <th>0</th>\n",
              "      <td>0</td>\n",
              "      <td>1</td>\n",
              "      <td>1997</td>\n",
              "      <td>304</td>\n",
              "      <td>None</td>\n",
              "      <td>NO</td>\n",
              "      <td>0</td>\n",
              "      <td>2</td>\n",
              "      <td>26800</td>\n",
              "      <td>01</td>\n",
              "      <td>0101</td>\n",
              "      <td>010111</td>\n",
              "      <td>010111000</td>\n",
              "      <td>United_States_of_America</td>\n",
              "    </tr>\n",
              "    <tr>\n",
              "      <th>1</th>\n",
              "      <td>1</td>\n",
              "      <td>1</td>\n",
              "      <td>1997</td>\n",
              "      <td>108</td>\n",
              "      <td>None</td>\n",
              "      <td>NO</td>\n",
              "      <td>0</td>\n",
              "      <td>2</td>\n",
              "      <td>180480</td>\n",
              "      <td>01</td>\n",
              "      <td>0101</td>\n",
              "      <td>010119</td>\n",
              "      <td>010119000</td>\n",
              "      <td>Hong_Kong</td>\n",
              "    </tr>\n",
              "    <tr>\n",
              "      <th>2</th>\n",
              "      <td>2</td>\n",
              "      <td>1</td>\n",
              "      <td>1997</td>\n",
              "      <td>207</td>\n",
              "      <td>None</td>\n",
              "      <td>NO</td>\n",
              "      <td>0</td>\n",
              "      <td>2</td>\n",
              "      <td>20000</td>\n",
              "      <td>01</td>\n",
              "      <td>0101</td>\n",
              "      <td>010119</td>\n",
              "      <td>010119000</td>\n",
              "      <td>Netherlands</td>\n",
              "    </tr>\n",
              "    <tr>\n",
              "      <th>3</th>\n",
              "      <td>3</td>\n",
              "      <td>1</td>\n",
              "      <td>1997</td>\n",
              "      <td>208</td>\n",
              "      <td>None</td>\n",
              "      <td>NO</td>\n",
              "      <td>0</td>\n",
              "      <td>2</td>\n",
              "      <td>2850</td>\n",
              "      <td>01</td>\n",
              "      <td>0101</td>\n",
              "      <td>010119</td>\n",
              "      <td>010119000</td>\n",
              "      <td>Belgium</td>\n",
              "    </tr>\n",
              "    <tr>\n",
              "      <th>4</th>\n",
              "      <td>4</td>\n",
              "      <td>1</td>\n",
              "      <td>1997</td>\n",
              "      <td>210</td>\n",
              "      <td>None</td>\n",
              "      <td>NO</td>\n",
              "      <td>0</td>\n",
              "      <td>1</td>\n",
              "      <td>50000</td>\n",
              "      <td>01</td>\n",
              "      <td>0101</td>\n",
              "      <td>010119</td>\n",
              "      <td>010119000</td>\n",
              "      <td>France</td>\n",
              "    </tr>\n",
              "    <tr>\n",
              "      <th>...</th>\n",
              "      <td>...</td>\n",
              "      <td>...</td>\n",
              "      <td>...</td>\n",
              "      <td>...</td>\n",
              "      <td>...</td>\n",
              "      <td>...</td>\n",
              "      <td>...</td>\n",
              "      <td>...</td>\n",
              "      <td>...</td>\n",
              "      <td>...</td>\n",
              "      <td>...</td>\n",
              "      <td>...</td>\n",
              "      <td>...</td>\n",
              "      <td>...</td>\n",
              "    </tr>\n",
              "    <tr>\n",
              "      <th>6500318</th>\n",
              "      <td>231377</td>\n",
              "      <td>2</td>\n",
              "      <td>2019</td>\n",
              "      <td>245</td>\n",
              "      <td></td>\n",
              "      <td>KG</td>\n",
              "      <td>0</td>\n",
              "      <td>128</td>\n",
              "      <td>41438</td>\n",
              "      <td>97</td>\n",
              "      <td>9706</td>\n",
              "      <td>970600</td>\n",
              "      <td>970600000</td>\n",
              "      <td>Czech_Republic</td>\n",
              "    </tr>\n",
              "    <tr>\n",
              "      <th>6500319</th>\n",
              "      <td>231378</td>\n",
              "      <td>2</td>\n",
              "      <td>2019</td>\n",
              "      <td>304</td>\n",
              "      <td></td>\n",
              "      <td>KG</td>\n",
              "      <td>0</td>\n",
              "      <td>26</td>\n",
              "      <td>116584</td>\n",
              "      <td>97</td>\n",
              "      <td>9706</td>\n",
              "      <td>970600</td>\n",
              "      <td>970600000</td>\n",
              "      <td>United_States_of_America</td>\n",
              "    </tr>\n",
              "    <tr>\n",
              "      <th>6500320</th>\n",
              "      <td>231379</td>\n",
              "      <td>2</td>\n",
              "      <td>2019</td>\n",
              "      <td>401</td>\n",
              "      <td></td>\n",
              "      <td>KG</td>\n",
              "      <td>0</td>\n",
              "      <td>0</td>\n",
              "      <td>7161</td>\n",
              "      <td>97</td>\n",
              "      <td>9706</td>\n",
              "      <td>970600</td>\n",
              "      <td>970600000</td>\n",
              "      <td>Colombia</td>\n",
              "    </tr>\n",
              "    <tr>\n",
              "      <th>6500321</th>\n",
              "      <td>231380</td>\n",
              "      <td>2</td>\n",
              "      <td>2019</td>\n",
              "      <td>506</td>\n",
              "      <td></td>\n",
              "      <td>KG</td>\n",
              "      <td>0</td>\n",
              "      <td>5</td>\n",
              "      <td>8958</td>\n",
              "      <td>97</td>\n",
              "      <td>9706</td>\n",
              "      <td>970600</td>\n",
              "      <td>970600000</td>\n",
              "      <td>Egypt</td>\n",
              "    </tr>\n",
              "    <tr>\n",
              "      <th>6500322</th>\n",
              "      <td>231381</td>\n",
              "      <td>2</td>\n",
              "      <td>2019</td>\n",
              "      <td>601</td>\n",
              "      <td></td>\n",
              "      <td>KG</td>\n",
              "      <td>0</td>\n",
              "      <td>1</td>\n",
              "      <td>212</td>\n",
              "      <td>97</td>\n",
              "      <td>9706</td>\n",
              "      <td>970600</td>\n",
              "      <td>970600000</td>\n",
              "      <td>Australia</td>\n",
              "    </tr>\n",
              "  </tbody>\n",
              "</table>\n",
              "<p>6500323 rows × 14 columns</p>\n",
              "</div>"
            ],
            "text/plain": [
              "          index  exp_imp  Year  ...     hs6        hs9              country_name\n",
              "0             0        1  1997  ...  010111  010111000  United_States_of_America\n",
              "1             1        1  1997  ...  010119  010119000                 Hong_Kong\n",
              "2             2        1  1997  ...  010119  010119000               Netherlands\n",
              "3             3        1  1997  ...  010119  010119000                   Belgium\n",
              "4             4        1  1997  ...  010119  010119000                    France\n",
              "...         ...      ...   ...  ...     ...        ...                       ...\n",
              "6500318  231377        2  2019  ...  970600  970600000            Czech_Republic\n",
              "6500319  231378        2  2019  ...  970600  970600000  United_States_of_America\n",
              "6500320  231379        2  2019  ...  970600  970600000                  Colombia\n",
              "6500321  231380        2  2019  ...  970600  970600000                     Egypt\n",
              "6500322  231381        2  2019  ...  970600  970600000                 Australia\n",
              "\n",
              "[6500323 rows x 14 columns]"
            ]
          },
          "metadata": {
            "tags": []
          },
          "execution_count": 12
        }
      ]
    },
    {
      "cell_type": "markdown",
      "metadata": {
        "id": "-espl94zqYw5",
        "colab_type": "text"
      },
      "source": [
        "下記ではFILLMEを行っています。\n",
        "\n",
        "`groupby`メソッドはFILLMEを行います。"
      ]
    },
    {
      "cell_type": "code",
      "metadata": {
        "id": "SSE1ZkbMaPKT",
        "colab_type": "code",
        "colab": {}
      },
      "source": [
        "trade_hist = data[['exp_imp', 'Year', 'Value', 'country_name']].groupby(['exp_imp', 'Year', 'country_name'], as_index=False).sum()"
      ],
      "execution_count": 13,
      "outputs": []
    },
    {
      "cell_type": "code",
      "metadata": {
        "id": "Co6pMteraPNa",
        "colab_type": "code",
        "colab": {
          "base_uri": "https://localhost:8080/",
          "height": 424
        },
        "outputId": "b74383b3-8de5-421c-c6fe-0da62d40e71e"
      },
      "source": [
        "trade_hist"
      ],
      "execution_count": 14,
      "outputs": [
        {
          "output_type": "execute_result",
          "data": {
            "text/html": [
              "<div>\n",
              "<style scoped>\n",
              "    .dataframe tbody tr th:only-of-type {\n",
              "        vertical-align: middle;\n",
              "    }\n",
              "\n",
              "    .dataframe tbody tr th {\n",
              "        vertical-align: top;\n",
              "    }\n",
              "\n",
              "    .dataframe thead th {\n",
              "        text-align: right;\n",
              "    }\n",
              "</style>\n",
              "<table border=\"1\" class=\"dataframe\">\n",
              "  <thead>\n",
              "    <tr style=\"text-align: right;\">\n",
              "      <th></th>\n",
              "      <th>exp_imp</th>\n",
              "      <th>Year</th>\n",
              "      <th>country_name</th>\n",
              "      <th>Value</th>\n",
              "    </tr>\n",
              "  </thead>\n",
              "  <tbody>\n",
              "    <tr>\n",
              "      <th>0</th>\n",
              "      <td>1</td>\n",
              "      <td>1997</td>\n",
              "      <td>Afghanistan</td>\n",
              "      <td>10636437</td>\n",
              "    </tr>\n",
              "    <tr>\n",
              "      <th>1</th>\n",
              "      <td>1</td>\n",
              "      <td>1997</td>\n",
              "      <td>Albania</td>\n",
              "      <td>55464</td>\n",
              "    </tr>\n",
              "    <tr>\n",
              "      <th>2</th>\n",
              "      <td>1</td>\n",
              "      <td>1997</td>\n",
              "      <td>Algeria</td>\n",
              "      <td>20660644</td>\n",
              "    </tr>\n",
              "    <tr>\n",
              "      <th>3</th>\n",
              "      <td>1</td>\n",
              "      <td>1997</td>\n",
              "      <td>American_Oceania</td>\n",
              "      <td>11133</td>\n",
              "    </tr>\n",
              "    <tr>\n",
              "      <th>4</th>\n",
              "      <td>1</td>\n",
              "      <td>1997</td>\n",
              "      <td>American_Samoa</td>\n",
              "      <td>1460264</td>\n",
              "    </tr>\n",
              "    <tr>\n",
              "      <th>...</th>\n",
              "      <td>...</td>\n",
              "      <td>...</td>\n",
              "      <td>...</td>\n",
              "      <td>...</td>\n",
              "    </tr>\n",
              "    <tr>\n",
              "      <th>10154</th>\n",
              "      <td>2</td>\n",
              "      <td>2019</td>\n",
              "      <td>West_Bank_and_Gaza_Strip</td>\n",
              "      <td>51222</td>\n",
              "    </tr>\n",
              "    <tr>\n",
              "      <th>10155</th>\n",
              "      <td>2</td>\n",
              "      <td>2019</td>\n",
              "      <td>West_Sahara</td>\n",
              "      <td>230271</td>\n",
              "    </tr>\n",
              "    <tr>\n",
              "      <th>10156</th>\n",
              "      <td>2</td>\n",
              "      <td>2019</td>\n",
              "      <td>Yemen</td>\n",
              "      <td>427598</td>\n",
              "    </tr>\n",
              "    <tr>\n",
              "      <th>10157</th>\n",
              "      <td>2</td>\n",
              "      <td>2019</td>\n",
              "      <td>Zambia</td>\n",
              "      <td>15532293</td>\n",
              "    </tr>\n",
              "    <tr>\n",
              "      <th>10158</th>\n",
              "      <td>2</td>\n",
              "      <td>2019</td>\n",
              "      <td>Zimbabwe</td>\n",
              "      <td>2460631</td>\n",
              "    </tr>\n",
              "  </tbody>\n",
              "</table>\n",
              "<p>10159 rows × 4 columns</p>\n",
              "</div>"
            ],
            "text/plain": [
              "       exp_imp  Year              country_name     Value\n",
              "0            1  1997               Afghanistan  10636437\n",
              "1            1  1997                   Albania     55464\n",
              "2            1  1997                   Algeria  20660644\n",
              "3            1  1997          American_Oceania     11133\n",
              "4            1  1997            American_Samoa   1460264\n",
              "...        ...   ...                       ...       ...\n",
              "10154        2  2019  West_Bank_and_Gaza_Strip     51222\n",
              "10155        2  2019               West_Sahara    230271\n",
              "10156        2  2019                     Yemen    427598\n",
              "10157        2  2019                    Zambia  15532293\n",
              "10158        2  2019                  Zimbabwe   2460631\n",
              "\n",
              "[10159 rows x 4 columns]"
            ]
          },
          "metadata": {
            "tags": []
          },
          "execution_count": 14
        }
      ]
    },
    {
      "cell_type": "markdown",
      "metadata": {
        "id": "-X6wrZJlbiWb",
        "colab_type": "text"
      },
      "source": [
        "## Plotlyによる可視化\n",
        "- まずは、1つの国の輸出入のグラフを作成する\n",
        "- 次に複数国の輸出入のグラフを作成する"
      ]
    },
    {
      "cell_type": "markdown",
      "metadata": {
        "id": "__BlOmRIqnfv",
        "colab_type": "text"
      },
      "source": [
        "plotlyはFILLMEを行うPythonパッケージです。\n",
        "\n",
        "Pythonパッケージは`pip`コマンドでインストールすることができます。\n",
        "\n",
        "Google Colabにはplotlyがプリインストールされているのですがバージョンが古いため\n",
        "`!pip install --upgrade plotly` でアップグレードします。"
      ]
    },
    {
      "cell_type": "code",
      "metadata": {
        "id": "0L4qyeH-qx_m",
        "colab_type": "code",
        "colab": {
          "base_uri": "https://localhost:8080/",
          "height": 205
        },
        "outputId": "51b81b90-0d66-4a51-d362-2784c82c05f7"
      },
      "source": [
        "!pip install --upgrade plotly"
      ],
      "execution_count": 15,
      "outputs": [
        {
          "output_type": "stream",
          "text": [
            "Collecting plotly\n",
            "\u001b[?25l  Downloading https://files.pythonhosted.org/packages/bf/5f/47ab0d9d843c5be0f5c5bd891736a4c84fa45c3b0a0ddb6b6df7c098c66f/plotly-4.9.0-py2.py3-none-any.whl (12.9MB)\n",
            "\u001b[K     |████████████████████████████████| 12.9MB 318kB/s \n",
            "\u001b[?25hRequirement already satisfied, skipping upgrade: six in /usr/local/lib/python3.6/dist-packages (from plotly) (1.15.0)\n",
            "Requirement already satisfied, skipping upgrade: retrying>=1.3.3 in /usr/local/lib/python3.6/dist-packages (from plotly) (1.3.3)\n",
            "Installing collected packages: plotly\n",
            "  Found existing installation: plotly 4.4.1\n",
            "    Uninstalling plotly-4.4.1:\n",
            "      Successfully uninstalled plotly-4.4.1\n",
            "Successfully installed plotly-4.9.0\n"
          ],
          "name": "stdout"
        }
      ]
    },
    {
      "cell_type": "code",
      "metadata": {
        "id": "qjR08u5haPQ5",
        "colab_type": "code",
        "colab": {}
      },
      "source": [
        "import plotly.express as px"
      ],
      "execution_count": 16,
      "outputs": []
    },
    {
      "cell_type": "markdown",
      "metadata": {
        "id": "u7B5iBBkr7H9",
        "colab_type": "text"
      },
      "source": [
        "`unique`はFILLMEを行います"
      ]
    },
    {
      "cell_type": "code",
      "metadata": {
        "id": "4EdcF0sYaPTz",
        "colab_type": "code",
        "colab": {
          "base_uri": "https://localhost:8080/",
          "height": 1000
        },
        "outputId": "49985a88-c95d-4c27-d24c-47796ec62253"
      },
      "source": [
        "trade_hist['country_name'].unique()"
      ],
      "execution_count": 17,
      "outputs": [
        {
          "output_type": "execute_result",
          "data": {
            "text/plain": [
              "array(['Afghanistan', 'Albania', 'Algeria', 'American_Oceania',\n",
              "       'American_Samoa', 'Andorra', 'Angola', 'Antigua_and_Barbuda',\n",
              "       'Argentina', 'Armenia', 'Australia', 'Austria', 'Azerbaijan',\n",
              "       'Azores_(Portugal)', 'Bahamas', 'Bahrain', 'Bangladesh',\n",
              "       'Barbados', 'Belarus', 'Belgium', 'Belize', 'Benin',\n",
              "       'Bermuda_(UK)', 'Bhutan', 'Bolivia', 'Bosnia_and_Herzegovina',\n",
              "       'Botswana', 'Brazil', 'British_Anguilla',\n",
              "       'British_Antarctic_Territory', 'British_Virgin_Islands',\n",
              "       'British_indian_Ocean_Territories', 'Brunei', 'Bulgaria',\n",
              "       'Burkina_Faso', 'Burundi', 'Cambodia', 'Cameroon', 'Canada',\n",
              "       'Canary_Islands_(Spain)', 'Cape_Verde', 'Cayman_islands_(UK)',\n",
              "       'Central_Africa', 'Ceuta_and_Melilla_(Spain)', 'Chad', 'Chile',\n",
              "       'China', 'Colombia', 'Comoros', 'Congo', 'Cook', 'Costa_Rica',\n",
              "       'Croatia', 'Cuba', 'Cyprus', 'Czech_Republic', \"Côte_d'Ivoire\",\n",
              "       'Denmark', 'Djibouti', 'Dominica', 'Dominican_Republic', 'Ecuador',\n",
              "       'Egypt', 'El_Salvador', 'Equatorial_Guinea', 'Eritrea', 'Estonia',\n",
              "       'Ethiopia', 'Falkland_Islands_and_Dependencies_(UK)', 'Fiji',\n",
              "       'Finland', 'For_Order', 'Former_Yugoslav_Republic_of_Macedonia',\n",
              "       'France', 'French_Guiana', 'French_Polynesia',\n",
              "       'French_West_Indies', 'Gabon', 'Gambia', 'Georgia', 'Germany',\n",
              "       'Ghana', 'Gibraltar_(UK)', 'Greece', 'Greenland_(Denmark)',\n",
              "       'Grenada', 'Guam_(USA)', 'Guatemala', 'Guinea', 'Guinea-Bissau',\n",
              "       'Guyana', 'Haiti', 'Honduras', 'Hong_Kong', 'Hungary', 'Iceland',\n",
              "       'India', 'Indonesia', 'Iran', 'Iraq', 'Ireland', 'Israel', 'Italy',\n",
              "       'Jamaica', 'Jordan', 'Kazakhstan', 'Kenya', 'Kiribati', 'Korea',\n",
              "       'Kuwait', 'Kyrgyz', 'Lao', 'Latvia', 'Lebanon', 'Lesotho',\n",
              "       'Liberia', 'Libya', 'Lithuania', 'Luxembourg', 'Macao',\n",
              "       'Madagascar', 'Malawi', 'Malaysia', 'Maldives', 'Mali', 'Malta',\n",
              "       'Marshall', 'Mauritania', 'Mauritius', 'Mexico', 'Micronesia',\n",
              "       'Moldova', 'Monaco', 'Mongolia', 'Monstserrat_(UK)', 'Morocco',\n",
              "       'Mozambique', 'Myanmar', 'Namibia', 'Nauru', 'Nepal',\n",
              "       'Netherlands', 'Netherlands_Antilles', 'New_Caledonia_(France)',\n",
              "       'New_Zealand', 'Nicaragua', 'Niger', 'Nigeria', 'Niue',\n",
              "       'North_Korea', 'Northern_Mariana_Islands_(USA)', 'Norway', 'Oman',\n",
              "       'Other_Australian_Territories', 'Pakistan', 'Palau', 'Panama',\n",
              "       'Papua_New_Guinea', 'Paraguay', 'Peru', 'Philippines',\n",
              "       'Pitcairn_(UK)', 'Poland', 'Portugal', 'Puerto_Rico_(USA)',\n",
              "       'Qatar', 'Reunion_(France)', 'Romania', 'Russia', 'Rwanda',\n",
              "       'Samoa', 'Sao_Tome_and_Principe', 'Saudi_Arabia', 'Senegal',\n",
              "       'Serbia', 'Seychelles', 'Sierra_Leone', 'Singapore', 'Slovak',\n",
              "       'Slovenia', 'Solomon_Islands', 'Somalia', 'South_Africa', 'Spain',\n",
              "       'Sri_Lanka', 'St.Christopher_and_Nevis', 'St.Lucia',\n",
              "       'St.Pierre_and_Miquelon_(France)', 'St.Vincent',\n",
              "       'St._Helena_Island_and_Dependencies_(UK)', 'Sudan', 'Suriname',\n",
              "       'Swaziland', 'Sweden', 'Switzerland', 'Syria', 'Taiwan',\n",
              "       'Tajikistan', 'Tanzania', 'Thailand', 'Timor-Leste', 'Togo',\n",
              "       'Tokelau_Islands_(NZ)', 'Tonga', 'Trinidad_and_Tobago', 'Tunisia',\n",
              "       'Turkey', 'Turkmenistan', 'Turks_and_Caicos_Islands_(UK)',\n",
              "       'Tuvalu', 'US_Virgin_Islands', 'Uganda', 'Ukraine',\n",
              "       'United_Arab_Emirates', 'United_Kingdom',\n",
              "       'United_States_of_America', 'Uruguay', 'Uzbekistan', 'Vanuatu',\n",
              "       'Venezuela', 'Viet_Nam', 'West_Sahara', 'Yemen', 'Zambia',\n",
              "       'Zimbabwe', 'West_Bank_and_Gaza_Strip', 'Montenegro', 'Kosovo',\n",
              "       'Unknown', 'South_Sudan', 'Bonded_Manufacturing_Warehouse'],\n",
              "      dtype=object)"
            ]
          },
          "metadata": {
            "tags": []
          },
          "execution_count": 17
        }
      ]
    },
    {
      "cell_type": "code",
      "metadata": {
        "id": "_faLreoraPW0",
        "colab_type": "code",
        "colab": {
          "base_uri": "https://localhost:8080/",
          "height": 542
        },
        "outputId": "626d4f5f-d9e7-4af3-d852-ffdb10d1d17b"
      },
      "source": [
        "afgan = trade_hist[trade_hist['country_name'] == 'Afghanistan']\n",
        "px.line(afgan, x='Year', y=\"Value\", color='exp_imp')"
      ],
      "execution_count": 18,
      "outputs": [
        {
          "output_type": "display_data",
          "data": {
            "text/html": [
              "<html>\n",
              "<head><meta charset=\"utf-8\" /></head>\n",
              "<body>\n",
              "    <div>\n",
              "            <script src=\"https://cdnjs.cloudflare.com/ajax/libs/mathjax/2.7.5/MathJax.js?config=TeX-AMS-MML_SVG\"></script><script type=\"text/javascript\">if (window.MathJax) {MathJax.Hub.Config({SVG: {font: \"STIX-Web\"}});}</script>\n",
              "                <script type=\"text/javascript\">window.PlotlyConfig = {MathJaxConfig: 'local'};</script>\n",
              "        <script src=\"https://cdn.plot.ly/plotly-latest.min.js\"></script>    \n",
              "            <div id=\"a5ed9641-5ed3-48b2-a44c-4cb8cc7be0d6\" class=\"plotly-graph-div\" style=\"height:525px; width:100%;\"></div>\n",
              "            <script type=\"text/javascript\">\n",
              "                \n",
              "                    window.PLOTLYENV=window.PLOTLYENV || {};\n",
              "                    \n",
              "                if (document.getElementById(\"a5ed9641-5ed3-48b2-a44c-4cb8cc7be0d6\")) {\n",
              "                    Plotly.newPlot(\n",
              "                        'a5ed9641-5ed3-48b2-a44c-4cb8cc7be0d6',\n",
              "                        [{\"hovertemplate\": \"exp_imp=1<br>Year=%{x}<br>Value=%{y}<extra></extra>\", \"legendgroup\": \"1\", \"line\": {\"color\": \"#636efa\", \"dash\": \"solid\"}, \"mode\": \"lines\", \"name\": \"1\", \"orientation\": \"v\", \"showlegend\": true, \"type\": \"scatter\", \"x\": [1997, 1998, 1999, 2000, 2001, 2002, 2003, 2004, 2005, 2006, 2007, 2008, 2009, 2010, 2011, 2012, 2013, 2014, 2015, 2016, 2017, 2018, 2019], \"xaxis\": \"x\", \"y\": [10636437, 7916456, 7558590, 5551224, 5431981, 10449092, 12081028, 7135275, 8437416, 7933356, 10537161, 11962190, 10569711, 8482289, 8887793, 7961465, 6107005, 2845729, 3037980, 8716561, 7785180, 6561877, 4235332], \"yaxis\": \"y\"}, {\"hovertemplate\": \"exp_imp=2<br>Year=%{x}<br>Value=%{y}<extra></extra>\", \"legendgroup\": \"2\", \"line\": {\"color\": \"#EF553B\", \"dash\": \"solid\"}, \"mode\": \"lines\", \"name\": \"2\", \"orientation\": \"v\", \"showlegend\": true, \"type\": \"scatter\", \"x\": [1997, 1998, 1999, 2000, 2001, 2002, 2003, 2004, 2005, 2006, 2007, 2008, 2009, 2010, 2011, 2012, 2013, 2014, 2015, 2016, 2017, 2018, 2019], \"xaxis\": \"x\", \"y\": [1031532, 154500, 91203, 52283, 20719, 200550, 234213, 114927, 300138, 70200, 30327, 75140, 42574, 38571, 33752, 27938, 52563, 47159, 68427, 45272, 26535, 98981, 88152], \"yaxis\": \"y\"}],\n",
              "                        {\"legend\": {\"title\": {\"text\": \"exp_imp\"}, \"tracegroupgap\": 0}, \"margin\": {\"t\": 60}, \"template\": {\"data\": {\"bar\": [{\"error_x\": {\"color\": \"#2a3f5f\"}, \"error_y\": {\"color\": \"#2a3f5f\"}, \"marker\": {\"line\": {\"color\": \"#E5ECF6\", \"width\": 0.5}}, \"type\": \"bar\"}], \"barpolar\": [{\"marker\": {\"line\": {\"color\": \"#E5ECF6\", \"width\": 0.5}}, \"type\": \"barpolar\"}], \"carpet\": [{\"aaxis\": {\"endlinecolor\": \"#2a3f5f\", \"gridcolor\": \"white\", \"linecolor\": \"white\", \"minorgridcolor\": \"white\", \"startlinecolor\": \"#2a3f5f\"}, \"baxis\": {\"endlinecolor\": \"#2a3f5f\", \"gridcolor\": \"white\", \"linecolor\": \"white\", \"minorgridcolor\": \"white\", \"startlinecolor\": \"#2a3f5f\"}, \"type\": \"carpet\"}], \"choropleth\": [{\"colorbar\": {\"outlinewidth\": 0, \"ticks\": \"\"}, \"type\": \"choropleth\"}], \"contour\": [{\"colorbar\": {\"outlinewidth\": 0, \"ticks\": \"\"}, \"colorscale\": [[0.0, \"#0d0887\"], [0.1111111111111111, \"#46039f\"], [0.2222222222222222, \"#7201a8\"], [0.3333333333333333, \"#9c179e\"], [0.4444444444444444, \"#bd3786\"], [0.5555555555555556, \"#d8576b\"], [0.6666666666666666, \"#ed7953\"], [0.7777777777777778, \"#fb9f3a\"], [0.8888888888888888, \"#fdca26\"], [1.0, \"#f0f921\"]], \"type\": \"contour\"}], \"contourcarpet\": [{\"colorbar\": {\"outlinewidth\": 0, \"ticks\": \"\"}, \"type\": \"contourcarpet\"}], \"heatmap\": [{\"colorbar\": {\"outlinewidth\": 0, \"ticks\": \"\"}, \"colorscale\": [[0.0, \"#0d0887\"], [0.1111111111111111, \"#46039f\"], [0.2222222222222222, \"#7201a8\"], [0.3333333333333333, \"#9c179e\"], [0.4444444444444444, \"#bd3786\"], [0.5555555555555556, \"#d8576b\"], [0.6666666666666666, \"#ed7953\"], [0.7777777777777778, \"#fb9f3a\"], [0.8888888888888888, \"#fdca26\"], [1.0, \"#f0f921\"]], \"type\": \"heatmap\"}], \"heatmapgl\": [{\"colorbar\": {\"outlinewidth\": 0, \"ticks\": \"\"}, \"colorscale\": [[0.0, \"#0d0887\"], [0.1111111111111111, \"#46039f\"], [0.2222222222222222, \"#7201a8\"], [0.3333333333333333, \"#9c179e\"], [0.4444444444444444, \"#bd3786\"], [0.5555555555555556, \"#d8576b\"], [0.6666666666666666, \"#ed7953\"], [0.7777777777777778, \"#fb9f3a\"], [0.8888888888888888, \"#fdca26\"], [1.0, \"#f0f921\"]], \"type\": \"heatmapgl\"}], \"histogram\": [{\"marker\": {\"colorbar\": {\"outlinewidth\": 0, \"ticks\": \"\"}}, \"type\": \"histogram\"}], \"histogram2d\": [{\"colorbar\": {\"outlinewidth\": 0, \"ticks\": \"\"}, \"colorscale\": [[0.0, \"#0d0887\"], [0.1111111111111111, \"#46039f\"], [0.2222222222222222, \"#7201a8\"], [0.3333333333333333, \"#9c179e\"], [0.4444444444444444, \"#bd3786\"], [0.5555555555555556, \"#d8576b\"], [0.6666666666666666, \"#ed7953\"], [0.7777777777777778, \"#fb9f3a\"], [0.8888888888888888, \"#fdca26\"], [1.0, \"#f0f921\"]], \"type\": \"histogram2d\"}], \"histogram2dcontour\": [{\"colorbar\": {\"outlinewidth\": 0, \"ticks\": \"\"}, \"colorscale\": [[0.0, \"#0d0887\"], [0.1111111111111111, \"#46039f\"], [0.2222222222222222, \"#7201a8\"], [0.3333333333333333, \"#9c179e\"], [0.4444444444444444, \"#bd3786\"], [0.5555555555555556, \"#d8576b\"], [0.6666666666666666, \"#ed7953\"], [0.7777777777777778, \"#fb9f3a\"], [0.8888888888888888, \"#fdca26\"], [1.0, \"#f0f921\"]], \"type\": \"histogram2dcontour\"}], \"mesh3d\": [{\"colorbar\": {\"outlinewidth\": 0, \"ticks\": \"\"}, \"type\": \"mesh3d\"}], \"parcoords\": [{\"line\": {\"colorbar\": {\"outlinewidth\": 0, \"ticks\": \"\"}}, \"type\": \"parcoords\"}], \"pie\": [{\"automargin\": true, \"type\": \"pie\"}], \"scatter\": [{\"marker\": {\"colorbar\": {\"outlinewidth\": 0, \"ticks\": \"\"}}, \"type\": \"scatter\"}], \"scatter3d\": [{\"line\": {\"colorbar\": {\"outlinewidth\": 0, \"ticks\": \"\"}}, \"marker\": {\"colorbar\": {\"outlinewidth\": 0, \"ticks\": \"\"}}, \"type\": \"scatter3d\"}], \"scattercarpet\": [{\"marker\": {\"colorbar\": {\"outlinewidth\": 0, \"ticks\": \"\"}}, \"type\": \"scattercarpet\"}], \"scattergeo\": [{\"marker\": {\"colorbar\": {\"outlinewidth\": 0, \"ticks\": \"\"}}, \"type\": \"scattergeo\"}], \"scattergl\": [{\"marker\": {\"colorbar\": {\"outlinewidth\": 0, \"ticks\": \"\"}}, \"type\": \"scattergl\"}], \"scattermapbox\": [{\"marker\": {\"colorbar\": {\"outlinewidth\": 0, \"ticks\": \"\"}}, \"type\": \"scattermapbox\"}], \"scatterpolar\": [{\"marker\": {\"colorbar\": {\"outlinewidth\": 0, \"ticks\": \"\"}}, \"type\": \"scatterpolar\"}], \"scatterpolargl\": [{\"marker\": {\"colorbar\": {\"outlinewidth\": 0, \"ticks\": \"\"}}, \"type\": \"scatterpolargl\"}], \"scatterternary\": [{\"marker\": {\"colorbar\": {\"outlinewidth\": 0, \"ticks\": \"\"}}, \"type\": \"scatterternary\"}], \"surface\": [{\"colorbar\": {\"outlinewidth\": 0, \"ticks\": \"\"}, \"colorscale\": [[0.0, \"#0d0887\"], [0.1111111111111111, \"#46039f\"], [0.2222222222222222, \"#7201a8\"], [0.3333333333333333, \"#9c179e\"], [0.4444444444444444, \"#bd3786\"], [0.5555555555555556, \"#d8576b\"], [0.6666666666666666, \"#ed7953\"], [0.7777777777777778, \"#fb9f3a\"], [0.8888888888888888, \"#fdca26\"], [1.0, \"#f0f921\"]], \"type\": \"surface\"}], \"table\": [{\"cells\": {\"fill\": {\"color\": \"#EBF0F8\"}, \"line\": {\"color\": \"white\"}}, \"header\": {\"fill\": {\"color\": \"#C8D4E3\"}, \"line\": {\"color\": \"white\"}}, \"type\": \"table\"}]}, \"layout\": {\"annotationdefaults\": {\"arrowcolor\": \"#2a3f5f\", \"arrowhead\": 0, \"arrowwidth\": 1}, \"coloraxis\": {\"colorbar\": {\"outlinewidth\": 0, \"ticks\": \"\"}}, \"colorscale\": {\"diverging\": [[0, \"#8e0152\"], [0.1, \"#c51b7d\"], [0.2, \"#de77ae\"], [0.3, \"#f1b6da\"], [0.4, \"#fde0ef\"], [0.5, \"#f7f7f7\"], [0.6, \"#e6f5d0\"], [0.7, \"#b8e186\"], [0.8, \"#7fbc41\"], [0.9, \"#4d9221\"], [1, \"#276419\"]], \"sequential\": [[0.0, \"#0d0887\"], [0.1111111111111111, \"#46039f\"], [0.2222222222222222, \"#7201a8\"], [0.3333333333333333, \"#9c179e\"], [0.4444444444444444, \"#bd3786\"], [0.5555555555555556, \"#d8576b\"], [0.6666666666666666, \"#ed7953\"], [0.7777777777777778, \"#fb9f3a\"], [0.8888888888888888, \"#fdca26\"], [1.0, \"#f0f921\"]], \"sequentialminus\": [[0.0, \"#0d0887\"], [0.1111111111111111, \"#46039f\"], [0.2222222222222222, \"#7201a8\"], [0.3333333333333333, \"#9c179e\"], [0.4444444444444444, \"#bd3786\"], [0.5555555555555556, \"#d8576b\"], [0.6666666666666666, \"#ed7953\"], [0.7777777777777778, \"#fb9f3a\"], [0.8888888888888888, \"#fdca26\"], [1.0, \"#f0f921\"]]}, \"colorway\": [\"#636efa\", \"#EF553B\", \"#00cc96\", \"#ab63fa\", \"#FFA15A\", \"#19d3f3\", \"#FF6692\", \"#B6E880\", \"#FF97FF\", \"#FECB52\"], \"font\": {\"color\": \"#2a3f5f\"}, \"geo\": {\"bgcolor\": \"white\", \"lakecolor\": \"white\", \"landcolor\": \"#E5ECF6\", \"showlakes\": true, \"showland\": true, \"subunitcolor\": \"white\"}, \"hoverlabel\": {\"align\": \"left\"}, \"hovermode\": \"closest\", \"mapbox\": {\"style\": \"light\"}, \"paper_bgcolor\": \"white\", \"plot_bgcolor\": \"#E5ECF6\", \"polar\": {\"angularaxis\": {\"gridcolor\": \"white\", \"linecolor\": \"white\", \"ticks\": \"\"}, \"bgcolor\": \"#E5ECF6\", \"radialaxis\": {\"gridcolor\": \"white\", \"linecolor\": \"white\", \"ticks\": \"\"}}, \"scene\": {\"xaxis\": {\"backgroundcolor\": \"#E5ECF6\", \"gridcolor\": \"white\", \"gridwidth\": 2, \"linecolor\": \"white\", \"showbackground\": true, \"ticks\": \"\", \"zerolinecolor\": \"white\"}, \"yaxis\": {\"backgroundcolor\": \"#E5ECF6\", \"gridcolor\": \"white\", \"gridwidth\": 2, \"linecolor\": \"white\", \"showbackground\": true, \"ticks\": \"\", \"zerolinecolor\": \"white\"}, \"zaxis\": {\"backgroundcolor\": \"#E5ECF6\", \"gridcolor\": \"white\", \"gridwidth\": 2, \"linecolor\": \"white\", \"showbackground\": true, \"ticks\": \"\", \"zerolinecolor\": \"white\"}}, \"shapedefaults\": {\"line\": {\"color\": \"#2a3f5f\"}}, \"ternary\": {\"aaxis\": {\"gridcolor\": \"white\", \"linecolor\": \"white\", \"ticks\": \"\"}, \"baxis\": {\"gridcolor\": \"white\", \"linecolor\": \"white\", \"ticks\": \"\"}, \"bgcolor\": \"#E5ECF6\", \"caxis\": {\"gridcolor\": \"white\", \"linecolor\": \"white\", \"ticks\": \"\"}}, \"title\": {\"x\": 0.05}, \"xaxis\": {\"automargin\": true, \"gridcolor\": \"white\", \"linecolor\": \"white\", \"ticks\": \"\", \"title\": {\"standoff\": 15}, \"zerolinecolor\": \"white\", \"zerolinewidth\": 2}, \"yaxis\": {\"automargin\": true, \"gridcolor\": \"white\", \"linecolor\": \"white\", \"ticks\": \"\", \"title\": {\"standoff\": 15}, \"zerolinecolor\": \"white\", \"zerolinewidth\": 2}}}, \"xaxis\": {\"anchor\": \"y\", \"domain\": [0.0, 1.0], \"title\": {\"text\": \"Year\"}}, \"yaxis\": {\"anchor\": \"x\", \"domain\": [0.0, 1.0], \"title\": {\"text\": \"Value\"}}},\n",
              "                        {\"responsive\": true}\n",
              "                    ).then(function(){\n",
              "                            \n",
              "var gd = document.getElementById('a5ed9641-5ed3-48b2-a44c-4cb8cc7be0d6');\n",
              "var x = new MutationObserver(function (mutations, observer) {{\n",
              "        var display = window.getComputedStyle(gd).display;\n",
              "        if (!display || display === 'none') {{\n",
              "            console.log([gd, 'removed!']);\n",
              "            Plotly.purge(gd);\n",
              "            observer.disconnect();\n",
              "        }}\n",
              "}});\n",
              "\n",
              "// Listen for the removal of the full notebook cells\n",
              "var notebookContainer = gd.closest('#notebook-container');\n",
              "if (notebookContainer) {{\n",
              "    x.observe(notebookContainer, {childList: true});\n",
              "}}\n",
              "\n",
              "// Listen for the clearing of the current output cell\n",
              "var outputEl = gd.closest('.output');\n",
              "if (outputEl) {{\n",
              "    x.observe(outputEl, {childList: true});\n",
              "}}\n",
              "\n",
              "                        })\n",
              "                };\n",
              "                \n",
              "            </script>\n",
              "        </div>\n",
              "</body>\n",
              "</html>"
            ]
          },
          "metadata": {
            "tags": []
          }
        }
      ]
    },
    {
      "cell_type": "markdown",
      "metadata": {
        "id": "8uST5lm4sDV4",
        "colab_type": "text"
      },
      "source": [
        "- 縦軸はFILLMEを\n",
        "- 系列1はFILLMEを\n",
        "- 系列2はFILLMEを\n",
        "\n",
        "表します。\n"
      ]
    },
    {
      "cell_type": "code",
      "metadata": {
        "id": "kcluvcTRaPZc",
        "colab_type": "code",
        "colab": {
          "base_uri": "https://localhost:8080/",
          "height": 542
        },
        "outputId": "0b4c1eaf-ee12-466c-8a7e-875036ccb35e"
      },
      "source": [
        "usa = trade_hist[trade_hist['country_name'] == 'United_States_of_America']\n",
        "px.line(usa, x='Year', y='Value', color='exp_imp')"
      ],
      "execution_count": 19,
      "outputs": [
        {
          "output_type": "display_data",
          "data": {
            "text/html": [
              "<html>\n",
              "<head><meta charset=\"utf-8\" /></head>\n",
              "<body>\n",
              "    <div>\n",
              "            <script src=\"https://cdnjs.cloudflare.com/ajax/libs/mathjax/2.7.5/MathJax.js?config=TeX-AMS-MML_SVG\"></script><script type=\"text/javascript\">if (window.MathJax) {MathJax.Hub.Config({SVG: {font: \"STIX-Web\"}});}</script>\n",
              "                <script type=\"text/javascript\">window.PlotlyConfig = {MathJaxConfig: 'local'};</script>\n",
              "        <script src=\"https://cdn.plot.ly/plotly-latest.min.js\"></script>    \n",
              "            <div id=\"cdb44644-a540-4bb7-802f-3692f521a7ea\" class=\"plotly-graph-div\" style=\"height:525px; width:100%;\"></div>\n",
              "            <script type=\"text/javascript\">\n",
              "                \n",
              "                    window.PLOTLYENV=window.PLOTLYENV || {};\n",
              "                    \n",
              "                if (document.getElementById(\"cdb44644-a540-4bb7-802f-3692f521a7ea\")) {\n",
              "                    Plotly.newPlot(\n",
              "                        'cdb44644-a540-4bb7-802f-3692f521a7ea',\n",
              "                        [{\"hovertemplate\": \"exp_imp=1<br>Year=%{x}<br>Value=%{y}<extra></extra>\", \"legendgroup\": \"1\", \"line\": {\"color\": \"#636efa\", \"dash\": \"solid\"}, \"mode\": \"lines\", \"name\": \"1\", \"orientation\": \"v\", \"showlegend\": true, \"type\": \"scatter\", \"x\": [1997, 1998, 1999, 2000, 2001, 2002, 2003, 2004, 2005, 2006, 2007, 2008, 2009, 2010, 2011, 2012, 2013, 2014, 2015, 2016, 2017, 2018, 2019], \"xaxis\": \"x\", \"y\": [14168941406, 15470005803, 14605315039, 15355867334, 14711055296, 14873325654, 13412156816, 13730742370, 14805465279, 16933589773, 16896234816, 14214320598, 8733358862, 10373979853, 10017653282, 11188354357, 12928168375, 13649256753, 15224592157, 14142872402, 15113485105, 15470237117, 15246839887], \"yaxis\": \"y\"}, {\"hovertemplate\": \"exp_imp=2<br>Year=%{x}<br>Value=%{y}<extra></extra>\", \"legendgroup\": \"2\", \"line\": {\"color\": \"#EF553B\", \"dash\": \"solid\"}, \"mode\": \"lines\", \"name\": \"2\", \"orientation\": \"v\", \"showlegend\": true, \"type\": \"scatter\", \"x\": [1997, 1998, 1999, 2000, 2001, 2002, 2003, 2004, 2005, 2006, 2007, 2008, 2009, 2010, 2011, 2012, 2013, 2014, 2015, 2016, 2017, 2018, 2019], \"xaxis\": \"x\", \"y\": [9149282451, 8778119003, 7639509645, 7778861082, 7671481006, 7237175644, 6824958413, 6763358820, 7074269509, 7911227113, 8348695214, 8039575771, 5512349685, 5911421399, 5931422189, 6082064277, 6814818915, 7542679072, 8059780909, 7322133759, 8090251224, 9014901931, 8621656380], \"yaxis\": \"y\"}],\n",
              "                        {\"legend\": {\"title\": {\"text\": \"exp_imp\"}, \"tracegroupgap\": 0}, \"margin\": {\"t\": 60}, \"template\": {\"data\": {\"bar\": [{\"error_x\": {\"color\": \"#2a3f5f\"}, \"error_y\": {\"color\": \"#2a3f5f\"}, \"marker\": {\"line\": {\"color\": \"#E5ECF6\", \"width\": 0.5}}, \"type\": \"bar\"}], \"barpolar\": [{\"marker\": {\"line\": {\"color\": \"#E5ECF6\", \"width\": 0.5}}, \"type\": \"barpolar\"}], \"carpet\": [{\"aaxis\": {\"endlinecolor\": \"#2a3f5f\", \"gridcolor\": \"white\", \"linecolor\": \"white\", \"minorgridcolor\": \"white\", \"startlinecolor\": \"#2a3f5f\"}, \"baxis\": {\"endlinecolor\": \"#2a3f5f\", \"gridcolor\": \"white\", \"linecolor\": \"white\", \"minorgridcolor\": \"white\", \"startlinecolor\": \"#2a3f5f\"}, \"type\": \"carpet\"}], \"choropleth\": [{\"colorbar\": {\"outlinewidth\": 0, \"ticks\": \"\"}, \"type\": \"choropleth\"}], \"contour\": [{\"colorbar\": {\"outlinewidth\": 0, \"ticks\": \"\"}, \"colorscale\": [[0.0, \"#0d0887\"], [0.1111111111111111, \"#46039f\"], [0.2222222222222222, \"#7201a8\"], [0.3333333333333333, \"#9c179e\"], [0.4444444444444444, \"#bd3786\"], [0.5555555555555556, \"#d8576b\"], [0.6666666666666666, \"#ed7953\"], [0.7777777777777778, \"#fb9f3a\"], [0.8888888888888888, \"#fdca26\"], [1.0, \"#f0f921\"]], \"type\": \"contour\"}], \"contourcarpet\": [{\"colorbar\": {\"outlinewidth\": 0, \"ticks\": \"\"}, \"type\": \"contourcarpet\"}], \"heatmap\": [{\"colorbar\": {\"outlinewidth\": 0, \"ticks\": \"\"}, \"colorscale\": [[0.0, \"#0d0887\"], [0.1111111111111111, \"#46039f\"], [0.2222222222222222, \"#7201a8\"], [0.3333333333333333, \"#9c179e\"], [0.4444444444444444, \"#bd3786\"], [0.5555555555555556, \"#d8576b\"], [0.6666666666666666, \"#ed7953\"], [0.7777777777777778, \"#fb9f3a\"], [0.8888888888888888, \"#fdca26\"], [1.0, \"#f0f921\"]], \"type\": \"heatmap\"}], \"heatmapgl\": [{\"colorbar\": {\"outlinewidth\": 0, \"ticks\": \"\"}, \"colorscale\": [[0.0, \"#0d0887\"], [0.1111111111111111, \"#46039f\"], [0.2222222222222222, \"#7201a8\"], [0.3333333333333333, \"#9c179e\"], [0.4444444444444444, \"#bd3786\"], [0.5555555555555556, \"#d8576b\"], [0.6666666666666666, \"#ed7953\"], [0.7777777777777778, \"#fb9f3a\"], [0.8888888888888888, \"#fdca26\"], [1.0, \"#f0f921\"]], \"type\": \"heatmapgl\"}], \"histogram\": [{\"marker\": {\"colorbar\": {\"outlinewidth\": 0, \"ticks\": \"\"}}, \"type\": \"histogram\"}], \"histogram2d\": [{\"colorbar\": {\"outlinewidth\": 0, \"ticks\": \"\"}, \"colorscale\": [[0.0, \"#0d0887\"], [0.1111111111111111, \"#46039f\"], [0.2222222222222222, \"#7201a8\"], [0.3333333333333333, \"#9c179e\"], [0.4444444444444444, \"#bd3786\"], [0.5555555555555556, \"#d8576b\"], [0.6666666666666666, \"#ed7953\"], [0.7777777777777778, \"#fb9f3a\"], [0.8888888888888888, \"#fdca26\"], [1.0, \"#f0f921\"]], \"type\": \"histogram2d\"}], \"histogram2dcontour\": [{\"colorbar\": {\"outlinewidth\": 0, \"ticks\": \"\"}, \"colorscale\": [[0.0, \"#0d0887\"], [0.1111111111111111, \"#46039f\"], [0.2222222222222222, \"#7201a8\"], [0.3333333333333333, \"#9c179e\"], [0.4444444444444444, \"#bd3786\"], [0.5555555555555556, \"#d8576b\"], [0.6666666666666666, \"#ed7953\"], [0.7777777777777778, \"#fb9f3a\"], [0.8888888888888888, \"#fdca26\"], [1.0, \"#f0f921\"]], \"type\": \"histogram2dcontour\"}], \"mesh3d\": [{\"colorbar\": {\"outlinewidth\": 0, \"ticks\": \"\"}, \"type\": \"mesh3d\"}], \"parcoords\": [{\"line\": {\"colorbar\": {\"outlinewidth\": 0, \"ticks\": \"\"}}, \"type\": \"parcoords\"}], \"pie\": [{\"automargin\": true, \"type\": \"pie\"}], \"scatter\": [{\"marker\": {\"colorbar\": {\"outlinewidth\": 0, \"ticks\": \"\"}}, \"type\": \"scatter\"}], \"scatter3d\": [{\"line\": {\"colorbar\": {\"outlinewidth\": 0, \"ticks\": \"\"}}, \"marker\": {\"colorbar\": {\"outlinewidth\": 0, \"ticks\": \"\"}}, \"type\": \"scatter3d\"}], \"scattercarpet\": [{\"marker\": {\"colorbar\": {\"outlinewidth\": 0, \"ticks\": \"\"}}, \"type\": \"scattercarpet\"}], \"scattergeo\": [{\"marker\": {\"colorbar\": {\"outlinewidth\": 0, \"ticks\": \"\"}}, \"type\": \"scattergeo\"}], \"scattergl\": [{\"marker\": {\"colorbar\": {\"outlinewidth\": 0, \"ticks\": \"\"}}, \"type\": \"scattergl\"}], \"scattermapbox\": [{\"marker\": {\"colorbar\": {\"outlinewidth\": 0, \"ticks\": \"\"}}, \"type\": \"scattermapbox\"}], \"scatterpolar\": [{\"marker\": {\"colorbar\": {\"outlinewidth\": 0, \"ticks\": \"\"}}, \"type\": \"scatterpolar\"}], \"scatterpolargl\": [{\"marker\": {\"colorbar\": {\"outlinewidth\": 0, \"ticks\": \"\"}}, \"type\": \"scatterpolargl\"}], \"scatterternary\": [{\"marker\": {\"colorbar\": {\"outlinewidth\": 0, \"ticks\": \"\"}}, \"type\": \"scatterternary\"}], \"surface\": [{\"colorbar\": {\"outlinewidth\": 0, \"ticks\": \"\"}, \"colorscale\": [[0.0, \"#0d0887\"], [0.1111111111111111, \"#46039f\"], [0.2222222222222222, \"#7201a8\"], [0.3333333333333333, \"#9c179e\"], [0.4444444444444444, \"#bd3786\"], [0.5555555555555556, \"#d8576b\"], [0.6666666666666666, \"#ed7953\"], [0.7777777777777778, \"#fb9f3a\"], [0.8888888888888888, \"#fdca26\"], [1.0, \"#f0f921\"]], \"type\": \"surface\"}], \"table\": [{\"cells\": {\"fill\": {\"color\": \"#EBF0F8\"}, \"line\": {\"color\": \"white\"}}, \"header\": {\"fill\": {\"color\": \"#C8D4E3\"}, \"line\": {\"color\": \"white\"}}, \"type\": \"table\"}]}, \"layout\": {\"annotationdefaults\": {\"arrowcolor\": \"#2a3f5f\", \"arrowhead\": 0, \"arrowwidth\": 1}, \"coloraxis\": {\"colorbar\": {\"outlinewidth\": 0, \"ticks\": \"\"}}, \"colorscale\": {\"diverging\": [[0, \"#8e0152\"], [0.1, \"#c51b7d\"], [0.2, \"#de77ae\"], [0.3, \"#f1b6da\"], [0.4, \"#fde0ef\"], [0.5, \"#f7f7f7\"], [0.6, \"#e6f5d0\"], [0.7, \"#b8e186\"], [0.8, \"#7fbc41\"], [0.9, \"#4d9221\"], [1, \"#276419\"]], \"sequential\": [[0.0, \"#0d0887\"], [0.1111111111111111, \"#46039f\"], [0.2222222222222222, \"#7201a8\"], [0.3333333333333333, \"#9c179e\"], [0.4444444444444444, \"#bd3786\"], [0.5555555555555556, \"#d8576b\"], [0.6666666666666666, \"#ed7953\"], [0.7777777777777778, \"#fb9f3a\"], [0.8888888888888888, \"#fdca26\"], [1.0, \"#f0f921\"]], \"sequentialminus\": [[0.0, \"#0d0887\"], [0.1111111111111111, \"#46039f\"], [0.2222222222222222, \"#7201a8\"], [0.3333333333333333, \"#9c179e\"], [0.4444444444444444, \"#bd3786\"], [0.5555555555555556, \"#d8576b\"], [0.6666666666666666, \"#ed7953\"], [0.7777777777777778, \"#fb9f3a\"], [0.8888888888888888, \"#fdca26\"], [1.0, \"#f0f921\"]]}, \"colorway\": [\"#636efa\", \"#EF553B\", \"#00cc96\", \"#ab63fa\", \"#FFA15A\", \"#19d3f3\", \"#FF6692\", \"#B6E880\", \"#FF97FF\", \"#FECB52\"], \"font\": {\"color\": \"#2a3f5f\"}, \"geo\": {\"bgcolor\": \"white\", \"lakecolor\": \"white\", \"landcolor\": \"#E5ECF6\", \"showlakes\": true, \"showland\": true, \"subunitcolor\": \"white\"}, \"hoverlabel\": {\"align\": \"left\"}, \"hovermode\": \"closest\", \"mapbox\": {\"style\": \"light\"}, \"paper_bgcolor\": \"white\", \"plot_bgcolor\": \"#E5ECF6\", \"polar\": {\"angularaxis\": {\"gridcolor\": \"white\", \"linecolor\": \"white\", \"ticks\": \"\"}, \"bgcolor\": \"#E5ECF6\", \"radialaxis\": {\"gridcolor\": \"white\", \"linecolor\": \"white\", \"ticks\": \"\"}}, \"scene\": {\"xaxis\": {\"backgroundcolor\": \"#E5ECF6\", \"gridcolor\": \"white\", \"gridwidth\": 2, \"linecolor\": \"white\", \"showbackground\": true, \"ticks\": \"\", \"zerolinecolor\": \"white\"}, \"yaxis\": {\"backgroundcolor\": \"#E5ECF6\", \"gridcolor\": \"white\", \"gridwidth\": 2, \"linecolor\": \"white\", \"showbackground\": true, \"ticks\": \"\", \"zerolinecolor\": \"white\"}, \"zaxis\": {\"backgroundcolor\": \"#E5ECF6\", \"gridcolor\": \"white\", \"gridwidth\": 2, \"linecolor\": \"white\", \"showbackground\": true, \"ticks\": \"\", \"zerolinecolor\": \"white\"}}, \"shapedefaults\": {\"line\": {\"color\": \"#2a3f5f\"}}, \"ternary\": {\"aaxis\": {\"gridcolor\": \"white\", \"linecolor\": \"white\", \"ticks\": \"\"}, \"baxis\": {\"gridcolor\": \"white\", \"linecolor\": \"white\", \"ticks\": \"\"}, \"bgcolor\": \"#E5ECF6\", \"caxis\": {\"gridcolor\": \"white\", \"linecolor\": \"white\", \"ticks\": \"\"}}, \"title\": {\"x\": 0.05}, \"xaxis\": {\"automargin\": true, \"gridcolor\": \"white\", \"linecolor\": \"white\", \"ticks\": \"\", \"title\": {\"standoff\": 15}, \"zerolinecolor\": \"white\", \"zerolinewidth\": 2}, \"yaxis\": {\"automargin\": true, \"gridcolor\": \"white\", \"linecolor\": \"white\", \"ticks\": \"\", \"title\": {\"standoff\": 15}, \"zerolinecolor\": \"white\", \"zerolinewidth\": 2}}}, \"xaxis\": {\"anchor\": \"y\", \"domain\": [0.0, 1.0], \"title\": {\"text\": \"Year\"}}, \"yaxis\": {\"anchor\": \"x\", \"domain\": [0.0, 1.0], \"title\": {\"text\": \"Value\"}}},\n",
              "                        {\"responsive\": true}\n",
              "                    ).then(function(){\n",
              "                            \n",
              "var gd = document.getElementById('cdb44644-a540-4bb7-802f-3692f521a7ea');\n",
              "var x = new MutationObserver(function (mutations, observer) {{\n",
              "        var display = window.getComputedStyle(gd).display;\n",
              "        if (!display || display === 'none') {{\n",
              "            console.log([gd, 'removed!']);\n",
              "            Plotly.purge(gd);\n",
              "            observer.disconnect();\n",
              "        }}\n",
              "}});\n",
              "\n",
              "// Listen for the removal of the full notebook cells\n",
              "var notebookContainer = gd.closest('#notebook-container');\n",
              "if (notebookContainer) {{\n",
              "    x.observe(notebookContainer, {childList: true});\n",
              "}}\n",
              "\n",
              "// Listen for the clearing of the current output cell\n",
              "var outputEl = gd.closest('.output');\n",
              "if (outputEl) {{\n",
              "    x.observe(outputEl, {childList: true});\n",
              "}}\n",
              "\n",
              "                        })\n",
              "                };\n",
              "                \n",
              "            </script>\n",
              "        </div>\n",
              "</body>\n",
              "</html>"
            ]
          },
          "metadata": {
            "tags": []
          }
        }
      ]
    },
    {
      "cell_type": "markdown",
      "metadata": {
        "id": "IxGyDbgscep6",
        "colab_type": "text"
      },
      "source": [
        "## exp_imp\n",
        "- 多分日本からの輸出: 1\n",
        "- 多分日本からの輸出: 2"
      ]
    },
    {
      "cell_type": "markdown",
      "metadata": {
        "id": "R8G9AZ7NsXZo",
        "colab_type": "text"
      },
      "source": [
        "`isin`はFILLMEを行います。"
      ]
    },
    {
      "cell_type": "code",
      "metadata": {
        "id": "uBTP85H0cdFa",
        "colab_type": "code",
        "colab": {}
      },
      "source": [
        "two_country = trade_hist[trade_hist['country_name'].isin(['China', 'Switzerland'])]"
      ],
      "execution_count": 20,
      "outputs": []
    },
    {
      "cell_type": "code",
      "metadata": {
        "id": "eL_sP7x8aPcH",
        "colab_type": "code",
        "colab": {
          "base_uri": "https://localhost:8080/",
          "height": 424
        },
        "outputId": "9b54f8c6-d56b-40d3-c728-adaa0f3ab76b"
      },
      "source": [
        "two_country"
      ],
      "execution_count": 21,
      "outputs": [
        {
          "output_type": "execute_result",
          "data": {
            "text/html": [
              "<div>\n",
              "<style scoped>\n",
              "    .dataframe tbody tr th:only-of-type {\n",
              "        vertical-align: middle;\n",
              "    }\n",
              "\n",
              "    .dataframe tbody tr th {\n",
              "        vertical-align: top;\n",
              "    }\n",
              "\n",
              "    .dataframe thead th {\n",
              "        text-align: right;\n",
              "    }\n",
              "</style>\n",
              "<table border=\"1\" class=\"dataframe\">\n",
              "  <thead>\n",
              "    <tr style=\"text-align: right;\">\n",
              "      <th></th>\n",
              "      <th>exp_imp</th>\n",
              "      <th>Year</th>\n",
              "      <th>country_name</th>\n",
              "      <th>Value</th>\n",
              "    </tr>\n",
              "  </thead>\n",
              "  <tbody>\n",
              "    <tr>\n",
              "      <th>46</th>\n",
              "      <td>1</td>\n",
              "      <td>1997</td>\n",
              "      <td>China</td>\n",
              "      <td>2630720664</td>\n",
              "    </tr>\n",
              "    <tr>\n",
              "      <th>194</th>\n",
              "      <td>1</td>\n",
              "      <td>1997</td>\n",
              "      <td>Switzerland</td>\n",
              "      <td>256259364</td>\n",
              "    </tr>\n",
              "    <tr>\n",
              "      <th>270</th>\n",
              "      <td>1</td>\n",
              "      <td>1998</td>\n",
              "      <td>China</td>\n",
              "      <td>2620905420</td>\n",
              "    </tr>\n",
              "    <tr>\n",
              "      <th>417</th>\n",
              "      <td>1</td>\n",
              "      <td>1998</td>\n",
              "      <td>Switzerland</td>\n",
              "      <td>285325129</td>\n",
              "    </tr>\n",
              "    <tr>\n",
              "      <th>494</th>\n",
              "      <td>1</td>\n",
              "      <td>1999</td>\n",
              "      <td>China</td>\n",
              "      <td>2657428102</td>\n",
              "    </tr>\n",
              "    <tr>\n",
              "      <th>...</th>\n",
              "      <td>...</td>\n",
              "      <td>...</td>\n",
              "      <td>...</td>\n",
              "      <td>...</td>\n",
              "    </tr>\n",
              "    <tr>\n",
              "      <th>9681</th>\n",
              "      <td>2</td>\n",
              "      <td>2017</td>\n",
              "      <td>Switzerland</td>\n",
              "      <td>876989093</td>\n",
              "    </tr>\n",
              "    <tr>\n",
              "      <th>9757</th>\n",
              "      <td>2</td>\n",
              "      <td>2018</td>\n",
              "      <td>China</td>\n",
              "      <td>19193652551</td>\n",
              "    </tr>\n",
              "    <tr>\n",
              "      <th>9904</th>\n",
              "      <td>2</td>\n",
              "      <td>2018</td>\n",
              "      <td>Switzerland</td>\n",
              "      <td>857320750</td>\n",
              "    </tr>\n",
              "    <tr>\n",
              "      <th>9979</th>\n",
              "      <td>2</td>\n",
              "      <td>2019</td>\n",
              "      <td>China</td>\n",
              "      <td>18444553947</td>\n",
              "    </tr>\n",
              "    <tr>\n",
              "      <th>10127</th>\n",
              "      <td>2</td>\n",
              "      <td>2019</td>\n",
              "      <td>Switzerland</td>\n",
              "      <td>891930995</td>\n",
              "    </tr>\n",
              "  </tbody>\n",
              "</table>\n",
              "<p>92 rows × 4 columns</p>\n",
              "</div>"
            ],
            "text/plain": [
              "       exp_imp  Year country_name        Value\n",
              "46           1  1997        China   2630720664\n",
              "194          1  1997  Switzerland    256259364\n",
              "270          1  1998        China   2620905420\n",
              "417          1  1998  Switzerland    285325129\n",
              "494          1  1999        China   2657428102\n",
              "...        ...   ...          ...          ...\n",
              "9681         2  2017  Switzerland    876989093\n",
              "9757         2  2018        China  19193652551\n",
              "9904         2  2018  Switzerland    857320750\n",
              "9979         2  2019        China  18444553947\n",
              "10127        2  2019  Switzerland    891930995\n",
              "\n",
              "[92 rows x 4 columns]"
            ]
          },
          "metadata": {
            "tags": []
          },
          "execution_count": 21
        }
      ]
    },
    {
      "cell_type": "code",
      "metadata": {
        "id": "B6NG71yQaPgP",
        "colab_type": "code",
        "colab": {
          "base_uri": "https://localhost:8080/",
          "height": 542
        },
        "outputId": "6b2c16d4-10f1-43a7-e6f3-4ac0e2947250"
      },
      "source": [
        "px.line(two_country, x='Year', y='Value', color='exp_imp')"
      ],
      "execution_count": 22,
      "outputs": [
        {
          "output_type": "display_data",
          "data": {
            "text/html": [
              "<html>\n",
              "<head><meta charset=\"utf-8\" /></head>\n",
              "<body>\n",
              "    <div>\n",
              "            <script src=\"https://cdnjs.cloudflare.com/ajax/libs/mathjax/2.7.5/MathJax.js?config=TeX-AMS-MML_SVG\"></script><script type=\"text/javascript\">if (window.MathJax) {MathJax.Hub.Config({SVG: {font: \"STIX-Web\"}});}</script>\n",
              "                <script type=\"text/javascript\">window.PlotlyConfig = {MathJaxConfig: 'local'};</script>\n",
              "        <script src=\"https://cdn.plot.ly/plotly-latest.min.js\"></script>    \n",
              "            <div id=\"54e90c2d-155c-4f9c-bd95-22e2a493a2cd\" class=\"plotly-graph-div\" style=\"height:525px; width:100%;\"></div>\n",
              "            <script type=\"text/javascript\">\n",
              "                \n",
              "                    window.PLOTLYENV=window.PLOTLYENV || {};\n",
              "                    \n",
              "                if (document.getElementById(\"54e90c2d-155c-4f9c-bd95-22e2a493a2cd\")) {\n",
              "                    Plotly.newPlot(\n",
              "                        '54e90c2d-155c-4f9c-bd95-22e2a493a2cd',\n",
              "                        [{\"hovertemplate\": \"exp_imp=1<br>Year=%{x}<br>Value=%{y}<extra></extra>\", \"legendgroup\": \"1\", \"line\": {\"color\": \"#636efa\", \"dash\": \"solid\"}, \"mode\": \"lines\", \"name\": \"1\", \"orientation\": \"v\", \"showlegend\": true, \"type\": \"scatter\", \"x\": [1997, 1997, 1998, 1998, 1999, 1999, 2000, 2000, 2001, 2001, 2002, 2002, 2003, 2003, 2004, 2004, 2005, 2005, 2006, 2006, 2007, 2007, 2008, 2008, 2009, 2009, 2010, 2010, 2011, 2011, 2012, 2012, 2013, 2013, 2014, 2014, 2015, 2015, 2016, 2016, 2017, 2017, 2018, 2018, 2019, 2019], \"xaxis\": \"x\", \"y\": [2630720664, 256259364, 2620905420, 285325129, 2657428102, 244983628, 3274447888, 225614383, 3763723102, 238857307, 4979795581, 200805834, 6635481534, 226645083, 7994233171, 236453427, 8836853027, 237741594, 10793696067, 281266903, 12838997782, 354831465, 12949889116, 449934030, 10235595660, 586400384, 13085564799, 681427497, 12902159758, 734944834, 11509143901, 349313286, 12625239116, 323226540, 13381487410, 320777179, 13223350314, 326738946, 12361421736, 339651117, 14889705986, 569915673, 15897740448, 416564150, 14682699314, 446600644], \"yaxis\": \"y\"}, {\"hovertemplate\": \"exp_imp=2<br>Year=%{x}<br>Value=%{y}<extra></extra>\", \"legendgroup\": \"2\", \"line\": {\"color\": \"#EF553B\", \"dash\": \"solid\"}, \"mode\": \"lines\", \"name\": \"2\", \"orientation\": \"v\", \"showlegend\": true, \"type\": \"scatter\", \"x\": [1997, 1997, 1998, 1998, 1999, 1999, 2000, 2000, 2001, 2001, 2002, 2002, 2003, 2003, 2004, 2004, 2005, 2005, 2006, 2006, 2007, 2007, 2008, 2008, 2009, 2009, 2010, 2010, 2011, 2011, 2012, 2012, 2013, 2013, 2014, 2014, 2015, 2015, 2016, 2016, 2017, 2017, 2018, 2018, 2019, 2019], \"xaxis\": \"x\", \"y\": [5061673266, 414763830, 4844134624, 393248907, 4875384565, 382292402, 5941358135, 354262363, 7026676502, 399227893, 7727792563, 412818500, 8731138638, 446932962, 10198963424, 520452952, 11975448971, 557095928, 13784370438, 593735606, 15035468305, 613556894, 14830405945, 664989350, 11435984200, 585638428, 13412960198, 595760990, 14641945454, 624798076, 15038787251, 655980410, 17659992158, 712404206, 19176450101, 763279862, 19428811556, 894828377, 17018987595, 831781020, 18459258807, 876989093, 19193652551, 857320750, 18444553947, 891930995], \"yaxis\": \"y\"}],\n",
              "                        {\"legend\": {\"title\": {\"text\": \"exp_imp\"}, \"tracegroupgap\": 0}, \"margin\": {\"t\": 60}, \"template\": {\"data\": {\"bar\": [{\"error_x\": {\"color\": \"#2a3f5f\"}, \"error_y\": {\"color\": \"#2a3f5f\"}, \"marker\": {\"line\": {\"color\": \"#E5ECF6\", \"width\": 0.5}}, \"type\": \"bar\"}], \"barpolar\": [{\"marker\": {\"line\": {\"color\": \"#E5ECF6\", \"width\": 0.5}}, \"type\": \"barpolar\"}], \"carpet\": [{\"aaxis\": {\"endlinecolor\": \"#2a3f5f\", \"gridcolor\": \"white\", \"linecolor\": \"white\", \"minorgridcolor\": \"white\", \"startlinecolor\": \"#2a3f5f\"}, \"baxis\": {\"endlinecolor\": \"#2a3f5f\", \"gridcolor\": \"white\", \"linecolor\": \"white\", \"minorgridcolor\": \"white\", \"startlinecolor\": \"#2a3f5f\"}, \"type\": \"carpet\"}], \"choropleth\": [{\"colorbar\": {\"outlinewidth\": 0, \"ticks\": \"\"}, \"type\": \"choropleth\"}], \"contour\": [{\"colorbar\": {\"outlinewidth\": 0, \"ticks\": \"\"}, \"colorscale\": [[0.0, \"#0d0887\"], [0.1111111111111111, \"#46039f\"], [0.2222222222222222, \"#7201a8\"], [0.3333333333333333, \"#9c179e\"], [0.4444444444444444, \"#bd3786\"], [0.5555555555555556, \"#d8576b\"], [0.6666666666666666, \"#ed7953\"], [0.7777777777777778, \"#fb9f3a\"], [0.8888888888888888, \"#fdca26\"], [1.0, \"#f0f921\"]], \"type\": \"contour\"}], \"contourcarpet\": [{\"colorbar\": {\"outlinewidth\": 0, \"ticks\": \"\"}, \"type\": \"contourcarpet\"}], \"heatmap\": [{\"colorbar\": {\"outlinewidth\": 0, \"ticks\": \"\"}, \"colorscale\": [[0.0, \"#0d0887\"], [0.1111111111111111, \"#46039f\"], [0.2222222222222222, \"#7201a8\"], [0.3333333333333333, \"#9c179e\"], [0.4444444444444444, \"#bd3786\"], [0.5555555555555556, \"#d8576b\"], [0.6666666666666666, \"#ed7953\"], [0.7777777777777778, \"#fb9f3a\"], [0.8888888888888888, \"#fdca26\"], [1.0, \"#f0f921\"]], \"type\": \"heatmap\"}], \"heatmapgl\": [{\"colorbar\": {\"outlinewidth\": 0, \"ticks\": \"\"}, \"colorscale\": [[0.0, \"#0d0887\"], [0.1111111111111111, \"#46039f\"], [0.2222222222222222, \"#7201a8\"], [0.3333333333333333, \"#9c179e\"], [0.4444444444444444, \"#bd3786\"], [0.5555555555555556, \"#d8576b\"], [0.6666666666666666, \"#ed7953\"], [0.7777777777777778, \"#fb9f3a\"], [0.8888888888888888, \"#fdca26\"], [1.0, \"#f0f921\"]], \"type\": \"heatmapgl\"}], \"histogram\": [{\"marker\": {\"colorbar\": {\"outlinewidth\": 0, \"ticks\": \"\"}}, \"type\": \"histogram\"}], \"histogram2d\": [{\"colorbar\": {\"outlinewidth\": 0, \"ticks\": \"\"}, \"colorscale\": [[0.0, \"#0d0887\"], [0.1111111111111111, \"#46039f\"], [0.2222222222222222, \"#7201a8\"], [0.3333333333333333, \"#9c179e\"], [0.4444444444444444, \"#bd3786\"], [0.5555555555555556, \"#d8576b\"], [0.6666666666666666, \"#ed7953\"], [0.7777777777777778, \"#fb9f3a\"], [0.8888888888888888, \"#fdca26\"], [1.0, \"#f0f921\"]], \"type\": \"histogram2d\"}], \"histogram2dcontour\": [{\"colorbar\": {\"outlinewidth\": 0, \"ticks\": \"\"}, \"colorscale\": [[0.0, \"#0d0887\"], [0.1111111111111111, \"#46039f\"], [0.2222222222222222, \"#7201a8\"], [0.3333333333333333, \"#9c179e\"], [0.4444444444444444, \"#bd3786\"], [0.5555555555555556, \"#d8576b\"], [0.6666666666666666, \"#ed7953\"], [0.7777777777777778, \"#fb9f3a\"], [0.8888888888888888, \"#fdca26\"], [1.0, \"#f0f921\"]], \"type\": \"histogram2dcontour\"}], \"mesh3d\": [{\"colorbar\": {\"outlinewidth\": 0, \"ticks\": \"\"}, \"type\": \"mesh3d\"}], \"parcoords\": [{\"line\": {\"colorbar\": {\"outlinewidth\": 0, \"ticks\": \"\"}}, \"type\": \"parcoords\"}], \"pie\": [{\"automargin\": true, \"type\": \"pie\"}], \"scatter\": [{\"marker\": {\"colorbar\": {\"outlinewidth\": 0, \"ticks\": \"\"}}, \"type\": \"scatter\"}], \"scatter3d\": [{\"line\": {\"colorbar\": {\"outlinewidth\": 0, \"ticks\": \"\"}}, \"marker\": {\"colorbar\": {\"outlinewidth\": 0, \"ticks\": \"\"}}, \"type\": \"scatter3d\"}], \"scattercarpet\": [{\"marker\": {\"colorbar\": {\"outlinewidth\": 0, \"ticks\": \"\"}}, \"type\": \"scattercarpet\"}], \"scattergeo\": [{\"marker\": {\"colorbar\": {\"outlinewidth\": 0, \"ticks\": \"\"}}, \"type\": \"scattergeo\"}], \"scattergl\": [{\"marker\": {\"colorbar\": {\"outlinewidth\": 0, \"ticks\": \"\"}}, \"type\": \"scattergl\"}], \"scattermapbox\": [{\"marker\": {\"colorbar\": {\"outlinewidth\": 0, \"ticks\": \"\"}}, \"type\": \"scattermapbox\"}], \"scatterpolar\": [{\"marker\": {\"colorbar\": {\"outlinewidth\": 0, \"ticks\": \"\"}}, \"type\": \"scatterpolar\"}], \"scatterpolargl\": [{\"marker\": {\"colorbar\": {\"outlinewidth\": 0, \"ticks\": \"\"}}, \"type\": \"scatterpolargl\"}], \"scatterternary\": [{\"marker\": {\"colorbar\": {\"outlinewidth\": 0, \"ticks\": \"\"}}, \"type\": \"scatterternary\"}], \"surface\": [{\"colorbar\": {\"outlinewidth\": 0, \"ticks\": \"\"}, \"colorscale\": [[0.0, \"#0d0887\"], [0.1111111111111111, \"#46039f\"], [0.2222222222222222, \"#7201a8\"], [0.3333333333333333, \"#9c179e\"], [0.4444444444444444, \"#bd3786\"], [0.5555555555555556, \"#d8576b\"], [0.6666666666666666, \"#ed7953\"], [0.7777777777777778, \"#fb9f3a\"], [0.8888888888888888, \"#fdca26\"], [1.0, \"#f0f921\"]], \"type\": \"surface\"}], \"table\": [{\"cells\": {\"fill\": {\"color\": \"#EBF0F8\"}, \"line\": {\"color\": \"white\"}}, \"header\": {\"fill\": {\"color\": \"#C8D4E3\"}, \"line\": {\"color\": \"white\"}}, \"type\": \"table\"}]}, \"layout\": {\"annotationdefaults\": {\"arrowcolor\": \"#2a3f5f\", \"arrowhead\": 0, \"arrowwidth\": 1}, \"coloraxis\": {\"colorbar\": {\"outlinewidth\": 0, \"ticks\": \"\"}}, \"colorscale\": {\"diverging\": [[0, \"#8e0152\"], [0.1, \"#c51b7d\"], [0.2, \"#de77ae\"], [0.3, \"#f1b6da\"], [0.4, \"#fde0ef\"], [0.5, \"#f7f7f7\"], [0.6, \"#e6f5d0\"], [0.7, \"#b8e186\"], [0.8, \"#7fbc41\"], [0.9, \"#4d9221\"], [1, \"#276419\"]], \"sequential\": [[0.0, \"#0d0887\"], [0.1111111111111111, \"#46039f\"], [0.2222222222222222, \"#7201a8\"], [0.3333333333333333, \"#9c179e\"], [0.4444444444444444, \"#bd3786\"], [0.5555555555555556, \"#d8576b\"], [0.6666666666666666, \"#ed7953\"], [0.7777777777777778, \"#fb9f3a\"], [0.8888888888888888, \"#fdca26\"], [1.0, \"#f0f921\"]], \"sequentialminus\": [[0.0, \"#0d0887\"], [0.1111111111111111, \"#46039f\"], [0.2222222222222222, \"#7201a8\"], [0.3333333333333333, \"#9c179e\"], [0.4444444444444444, \"#bd3786\"], [0.5555555555555556, \"#d8576b\"], [0.6666666666666666, \"#ed7953\"], [0.7777777777777778, \"#fb9f3a\"], [0.8888888888888888, \"#fdca26\"], [1.0, \"#f0f921\"]]}, \"colorway\": [\"#636efa\", \"#EF553B\", \"#00cc96\", \"#ab63fa\", \"#FFA15A\", \"#19d3f3\", \"#FF6692\", \"#B6E880\", \"#FF97FF\", \"#FECB52\"], \"font\": {\"color\": \"#2a3f5f\"}, \"geo\": {\"bgcolor\": \"white\", \"lakecolor\": \"white\", \"landcolor\": \"#E5ECF6\", \"showlakes\": true, \"showland\": true, \"subunitcolor\": \"white\"}, \"hoverlabel\": {\"align\": \"left\"}, \"hovermode\": \"closest\", \"mapbox\": {\"style\": \"light\"}, \"paper_bgcolor\": \"white\", \"plot_bgcolor\": \"#E5ECF6\", \"polar\": {\"angularaxis\": {\"gridcolor\": \"white\", \"linecolor\": \"white\", \"ticks\": \"\"}, \"bgcolor\": \"#E5ECF6\", \"radialaxis\": {\"gridcolor\": \"white\", \"linecolor\": \"white\", \"ticks\": \"\"}}, \"scene\": {\"xaxis\": {\"backgroundcolor\": \"#E5ECF6\", \"gridcolor\": \"white\", \"gridwidth\": 2, \"linecolor\": \"white\", \"showbackground\": true, \"ticks\": \"\", \"zerolinecolor\": \"white\"}, \"yaxis\": {\"backgroundcolor\": \"#E5ECF6\", \"gridcolor\": \"white\", \"gridwidth\": 2, \"linecolor\": \"white\", \"showbackground\": true, \"ticks\": \"\", \"zerolinecolor\": \"white\"}, \"zaxis\": {\"backgroundcolor\": \"#E5ECF6\", \"gridcolor\": \"white\", \"gridwidth\": 2, \"linecolor\": \"white\", \"showbackground\": true, \"ticks\": \"\", \"zerolinecolor\": \"white\"}}, \"shapedefaults\": {\"line\": {\"color\": \"#2a3f5f\"}}, \"ternary\": {\"aaxis\": {\"gridcolor\": \"white\", \"linecolor\": \"white\", \"ticks\": \"\"}, \"baxis\": {\"gridcolor\": \"white\", \"linecolor\": \"white\", \"ticks\": \"\"}, \"bgcolor\": \"#E5ECF6\", \"caxis\": {\"gridcolor\": \"white\", \"linecolor\": \"white\", \"ticks\": \"\"}}, \"title\": {\"x\": 0.05}, \"xaxis\": {\"automargin\": true, \"gridcolor\": \"white\", \"linecolor\": \"white\", \"ticks\": \"\", \"title\": {\"standoff\": 15}, \"zerolinecolor\": \"white\", \"zerolinewidth\": 2}, \"yaxis\": {\"automargin\": true, \"gridcolor\": \"white\", \"linecolor\": \"white\", \"ticks\": \"\", \"title\": {\"standoff\": 15}, \"zerolinecolor\": \"white\", \"zerolinewidth\": 2}}}, \"xaxis\": {\"anchor\": \"y\", \"domain\": [0.0, 1.0], \"title\": {\"text\": \"Year\"}}, \"yaxis\": {\"anchor\": \"x\", \"domain\": [0.0, 1.0], \"title\": {\"text\": \"Value\"}}},\n",
              "                        {\"responsive\": true}\n",
              "                    ).then(function(){\n",
              "                            \n",
              "var gd = document.getElementById('54e90c2d-155c-4f9c-bd95-22e2a493a2cd');\n",
              "var x = new MutationObserver(function (mutations, observer) {{\n",
              "        var display = window.getComputedStyle(gd).display;\n",
              "        if (!display || display === 'none') {{\n",
              "            console.log([gd, 'removed!']);\n",
              "            Plotly.purge(gd);\n",
              "            observer.disconnect();\n",
              "        }}\n",
              "}});\n",
              "\n",
              "// Listen for the removal of the full notebook cells\n",
              "var notebookContainer = gd.closest('#notebook-container');\n",
              "if (notebookContainer) {{\n",
              "    x.observe(notebookContainer, {childList: true});\n",
              "}}\n",
              "\n",
              "// Listen for the clearing of the current output cell\n",
              "var outputEl = gd.closest('.output');\n",
              "if (outputEl) {{\n",
              "    x.observe(outputEl, {childList: true});\n",
              "}}\n",
              "\n",
              "                        })\n",
              "                };\n",
              "                \n",
              "            </script>\n",
              "        </div>\n",
              "</body>\n",
              "</html>"
            ]
          },
          "metadata": {
            "tags": []
          }
        }
      ]
    },
    {
      "cell_type": "markdown",
      "metadata": {
        "id": "W8GB3ZwzeinA",
        "colab_type": "text"
      },
      "source": [
        "### Plotly Expressでは無理です\n",
        "\n",
        "plotly expressではFILLMEを行うことができません。\n",
        "\n",
        "### Plotly Graph Objectsを使います\n",
        "\n",
        "Plotly Graph ObjectsではFILLMEを行うことが可能です。"
      ]
    },
    {
      "cell_type": "code",
      "metadata": {
        "id": "-vpI-fbAaPjT",
        "colab_type": "code",
        "colab": {}
      },
      "source": [
        "import plotly.graph_objects as go\n",
        "from plotly.subplots import make_subplots"
      ],
      "execution_count": 23,
      "outputs": []
    },
    {
      "cell_type": "code",
      "metadata": {
        "id": "jHw8cNgdfFIe",
        "colab_type": "code",
        "colab": {
          "base_uri": "https://localhost:8080/",
          "height": 542
        },
        "outputId": "6f974902-226d-496d-f4b8-b570feaa2390"
      },
      "source": [
        "china = trade_hist[trade_hist['country_name'] == 'China']\n",
        "china_exp = china[china['exp_imp'] == 1].reset_index(drop=True)\n",
        "china_imp = china[china['exp_imp'] == 2].reset_index(drop=True)\n",
        "china_balance = china_exp['Value'] - china_imp['Value']\n",
        "china_balance = pd.concat([china_exp['Year'], china_balance], axis=1)\n",
        "\n",
        "fig = make_subplots(rows=2, cols=1)\n",
        "\n",
        "\n",
        "fig.add_trace(go.Scatter(x=china_exp['Year'], y=china_exp[\"Value\"], name='輸出'), row=1, col=1)\n",
        "fig.add_trace(go.Scatter(x=china_imp['Year'], y=china_imp[\"Value\"], name='輸入'), row=1, col=1)\n",
        "fig.add_trace(go.Bar(x=china_balance['Year'], y=china_balance['Value'], name='trade_balance'), row=2, col=1)\n",
        "\n",
        "fig.update_layout(go.Layout(title=f'貿易収支(China)'))\n",
        "\n",
        "fig.show()"
      ],
      "execution_count": 24,
      "outputs": [
        {
          "output_type": "display_data",
          "data": {
            "text/html": [
              "<html>\n",
              "<head><meta charset=\"utf-8\" /></head>\n",
              "<body>\n",
              "    <div>\n",
              "            <script src=\"https://cdnjs.cloudflare.com/ajax/libs/mathjax/2.7.5/MathJax.js?config=TeX-AMS-MML_SVG\"></script><script type=\"text/javascript\">if (window.MathJax) {MathJax.Hub.Config({SVG: {font: \"STIX-Web\"}});}</script>\n",
              "                <script type=\"text/javascript\">window.PlotlyConfig = {MathJaxConfig: 'local'};</script>\n",
              "        <script src=\"https://cdn.plot.ly/plotly-latest.min.js\"></script>    \n",
              "            <div id=\"3feac0cc-e6b9-4aae-8052-d4a4ba92ae2e\" class=\"plotly-graph-div\" style=\"height:525px; width:100%;\"></div>\n",
              "            <script type=\"text/javascript\">\n",
              "                \n",
              "                    window.PLOTLYENV=window.PLOTLYENV || {};\n",
              "                    \n",
              "                if (document.getElementById(\"3feac0cc-e6b9-4aae-8052-d4a4ba92ae2e\")) {\n",
              "                    Plotly.newPlot(\n",
              "                        '3feac0cc-e6b9-4aae-8052-d4a4ba92ae2e',\n",
              "                        [{\"name\": \"\\u8f38\\u51fa\", \"type\": \"scatter\", \"x\": [1997, 1998, 1999, 2000, 2001, 2002, 2003, 2004, 2005, 2006, 2007, 2008, 2009, 2010, 2011, 2012, 2013, 2014, 2015, 2016, 2017, 2018, 2019], \"xaxis\": \"x\", \"y\": [2630720664, 2620905420, 2657428102, 3274447888, 3763723102, 4979795581, 6635481534, 7994233171, 8836853027, 10793696067, 12838997782, 12949889116, 10235595660, 13085564799, 12902159758, 11509143901, 12625239116, 13381487410, 13223350314, 12361421736, 14889705986, 15897740448, 14682699314], \"yaxis\": \"y\"}, {\"name\": \"\\u8f38\\u5165\", \"type\": \"scatter\", \"x\": [1997, 1998, 1999, 2000, 2001, 2002, 2003, 2004, 2005, 2006, 2007, 2008, 2009, 2010, 2011, 2012, 2013, 2014, 2015, 2016, 2017, 2018, 2019], \"xaxis\": \"x\", \"y\": [5061673266, 4844134624, 4875384565, 5941358135, 7026676502, 7727792563, 8731138638, 10198963424, 11975448971, 13784370438, 15035468305, 14830405945, 11435984200, 13412960198, 14641945454, 15038787251, 17659992158, 19176450101, 19428811556, 17018987595, 18459258807, 19193652551, 18444553947], \"yaxis\": \"y\"}, {\"name\": \"trade_balance\", \"type\": \"bar\", \"x\": [1997, 1998, 1999, 2000, 2001, 2002, 2003, 2004, 2005, 2006, 2007, 2008, 2009, 2010, 2011, 2012, 2013, 2014, 2015, 2016, 2017, 2018, 2019], \"xaxis\": \"x2\", \"y\": [-2430952602, -2223229204, -2217956463, -2666910247, -3262953400, -2747996982, -2095657104, -2204730253, -3138595944, -2990674371, -2196470523, -1880516829, -1200388540, -327395399, -1739785696, -3529643350, -5034753042, -5794962691, -6205461242, -4657565859, -3569552821, -3295912103, -3761854633], \"yaxis\": \"y2\"}],\n",
              "                        {\"template\": {\"data\": {\"bar\": [{\"error_x\": {\"color\": \"#2a3f5f\"}, \"error_y\": {\"color\": \"#2a3f5f\"}, \"marker\": {\"line\": {\"color\": \"#E5ECF6\", \"width\": 0.5}}, \"type\": \"bar\"}], \"barpolar\": [{\"marker\": {\"line\": {\"color\": \"#E5ECF6\", \"width\": 0.5}}, \"type\": \"barpolar\"}], \"carpet\": [{\"aaxis\": {\"endlinecolor\": \"#2a3f5f\", \"gridcolor\": \"white\", \"linecolor\": \"white\", \"minorgridcolor\": \"white\", \"startlinecolor\": \"#2a3f5f\"}, \"baxis\": {\"endlinecolor\": \"#2a3f5f\", \"gridcolor\": \"white\", \"linecolor\": \"white\", \"minorgridcolor\": \"white\", \"startlinecolor\": \"#2a3f5f\"}, \"type\": \"carpet\"}], \"choropleth\": [{\"colorbar\": {\"outlinewidth\": 0, \"ticks\": \"\"}, \"type\": \"choropleth\"}], \"contour\": [{\"colorbar\": {\"outlinewidth\": 0, \"ticks\": \"\"}, \"colorscale\": [[0.0, \"#0d0887\"], [0.1111111111111111, \"#46039f\"], [0.2222222222222222, \"#7201a8\"], [0.3333333333333333, \"#9c179e\"], [0.4444444444444444, \"#bd3786\"], [0.5555555555555556, \"#d8576b\"], [0.6666666666666666, \"#ed7953\"], [0.7777777777777778, \"#fb9f3a\"], [0.8888888888888888, \"#fdca26\"], [1.0, \"#f0f921\"]], \"type\": \"contour\"}], \"contourcarpet\": [{\"colorbar\": {\"outlinewidth\": 0, \"ticks\": \"\"}, \"type\": \"contourcarpet\"}], \"heatmap\": [{\"colorbar\": {\"outlinewidth\": 0, \"ticks\": \"\"}, \"colorscale\": [[0.0, \"#0d0887\"], [0.1111111111111111, \"#46039f\"], [0.2222222222222222, \"#7201a8\"], [0.3333333333333333, \"#9c179e\"], [0.4444444444444444, \"#bd3786\"], [0.5555555555555556, \"#d8576b\"], [0.6666666666666666, \"#ed7953\"], [0.7777777777777778, \"#fb9f3a\"], [0.8888888888888888, \"#fdca26\"], [1.0, \"#f0f921\"]], \"type\": \"heatmap\"}], \"heatmapgl\": [{\"colorbar\": {\"outlinewidth\": 0, \"ticks\": \"\"}, \"colorscale\": [[0.0, \"#0d0887\"], [0.1111111111111111, \"#46039f\"], [0.2222222222222222, \"#7201a8\"], [0.3333333333333333, \"#9c179e\"], [0.4444444444444444, \"#bd3786\"], [0.5555555555555556, \"#d8576b\"], [0.6666666666666666, \"#ed7953\"], [0.7777777777777778, \"#fb9f3a\"], [0.8888888888888888, \"#fdca26\"], [1.0, \"#f0f921\"]], \"type\": \"heatmapgl\"}], \"histogram\": [{\"marker\": {\"colorbar\": {\"outlinewidth\": 0, \"ticks\": \"\"}}, \"type\": \"histogram\"}], \"histogram2d\": [{\"colorbar\": {\"outlinewidth\": 0, \"ticks\": \"\"}, \"colorscale\": [[0.0, \"#0d0887\"], [0.1111111111111111, \"#46039f\"], [0.2222222222222222, \"#7201a8\"], [0.3333333333333333, \"#9c179e\"], [0.4444444444444444, \"#bd3786\"], [0.5555555555555556, \"#d8576b\"], [0.6666666666666666, \"#ed7953\"], [0.7777777777777778, \"#fb9f3a\"], [0.8888888888888888, \"#fdca26\"], [1.0, \"#f0f921\"]], \"type\": \"histogram2d\"}], \"histogram2dcontour\": [{\"colorbar\": {\"outlinewidth\": 0, \"ticks\": \"\"}, \"colorscale\": [[0.0, \"#0d0887\"], [0.1111111111111111, \"#46039f\"], [0.2222222222222222, \"#7201a8\"], [0.3333333333333333, \"#9c179e\"], [0.4444444444444444, \"#bd3786\"], [0.5555555555555556, \"#d8576b\"], [0.6666666666666666, \"#ed7953\"], [0.7777777777777778, \"#fb9f3a\"], [0.8888888888888888, \"#fdca26\"], [1.0, \"#f0f921\"]], \"type\": \"histogram2dcontour\"}], \"mesh3d\": [{\"colorbar\": {\"outlinewidth\": 0, \"ticks\": \"\"}, \"type\": \"mesh3d\"}], \"parcoords\": [{\"line\": {\"colorbar\": {\"outlinewidth\": 0, \"ticks\": \"\"}}, \"type\": \"parcoords\"}], \"pie\": [{\"automargin\": true, \"type\": \"pie\"}], \"scatter\": [{\"marker\": {\"colorbar\": {\"outlinewidth\": 0, \"ticks\": \"\"}}, \"type\": \"scatter\"}], \"scatter3d\": [{\"line\": {\"colorbar\": {\"outlinewidth\": 0, \"ticks\": \"\"}}, \"marker\": {\"colorbar\": {\"outlinewidth\": 0, \"ticks\": \"\"}}, \"type\": \"scatter3d\"}], \"scattercarpet\": [{\"marker\": {\"colorbar\": {\"outlinewidth\": 0, \"ticks\": \"\"}}, \"type\": \"scattercarpet\"}], \"scattergeo\": [{\"marker\": {\"colorbar\": {\"outlinewidth\": 0, \"ticks\": \"\"}}, \"type\": \"scattergeo\"}], \"scattergl\": [{\"marker\": {\"colorbar\": {\"outlinewidth\": 0, \"ticks\": \"\"}}, \"type\": \"scattergl\"}], \"scattermapbox\": [{\"marker\": {\"colorbar\": {\"outlinewidth\": 0, \"ticks\": \"\"}}, \"type\": \"scattermapbox\"}], \"scatterpolar\": [{\"marker\": {\"colorbar\": {\"outlinewidth\": 0, \"ticks\": \"\"}}, \"type\": \"scatterpolar\"}], \"scatterpolargl\": [{\"marker\": {\"colorbar\": {\"outlinewidth\": 0, \"ticks\": \"\"}}, \"type\": \"scatterpolargl\"}], \"scatterternary\": [{\"marker\": {\"colorbar\": {\"outlinewidth\": 0, \"ticks\": \"\"}}, \"type\": \"scatterternary\"}], \"surface\": [{\"colorbar\": {\"outlinewidth\": 0, \"ticks\": \"\"}, \"colorscale\": [[0.0, \"#0d0887\"], [0.1111111111111111, \"#46039f\"], [0.2222222222222222, \"#7201a8\"], [0.3333333333333333, \"#9c179e\"], [0.4444444444444444, \"#bd3786\"], [0.5555555555555556, \"#d8576b\"], [0.6666666666666666, \"#ed7953\"], [0.7777777777777778, \"#fb9f3a\"], [0.8888888888888888, \"#fdca26\"], [1.0, \"#f0f921\"]], \"type\": \"surface\"}], \"table\": [{\"cells\": {\"fill\": {\"color\": \"#EBF0F8\"}, \"line\": {\"color\": \"white\"}}, \"header\": {\"fill\": {\"color\": \"#C8D4E3\"}, \"line\": {\"color\": \"white\"}}, \"type\": \"table\"}]}, \"layout\": {\"annotationdefaults\": {\"arrowcolor\": \"#2a3f5f\", \"arrowhead\": 0, \"arrowwidth\": 1}, \"coloraxis\": {\"colorbar\": {\"outlinewidth\": 0, \"ticks\": \"\"}}, \"colorscale\": {\"diverging\": [[0, \"#8e0152\"], [0.1, \"#c51b7d\"], [0.2, \"#de77ae\"], [0.3, \"#f1b6da\"], [0.4, \"#fde0ef\"], [0.5, \"#f7f7f7\"], [0.6, \"#e6f5d0\"], [0.7, \"#b8e186\"], [0.8, \"#7fbc41\"], [0.9, \"#4d9221\"], [1, \"#276419\"]], \"sequential\": [[0.0, \"#0d0887\"], [0.1111111111111111, \"#46039f\"], [0.2222222222222222, \"#7201a8\"], [0.3333333333333333, \"#9c179e\"], [0.4444444444444444, \"#bd3786\"], [0.5555555555555556, \"#d8576b\"], [0.6666666666666666, \"#ed7953\"], [0.7777777777777778, \"#fb9f3a\"], [0.8888888888888888, \"#fdca26\"], [1.0, \"#f0f921\"]], \"sequentialminus\": [[0.0, \"#0d0887\"], [0.1111111111111111, \"#46039f\"], [0.2222222222222222, \"#7201a8\"], [0.3333333333333333, \"#9c179e\"], [0.4444444444444444, \"#bd3786\"], [0.5555555555555556, \"#d8576b\"], [0.6666666666666666, \"#ed7953\"], [0.7777777777777778, \"#fb9f3a\"], [0.8888888888888888, \"#fdca26\"], [1.0, \"#f0f921\"]]}, \"colorway\": [\"#636efa\", \"#EF553B\", \"#00cc96\", \"#ab63fa\", \"#FFA15A\", \"#19d3f3\", \"#FF6692\", \"#B6E880\", \"#FF97FF\", \"#FECB52\"], \"font\": {\"color\": \"#2a3f5f\"}, \"geo\": {\"bgcolor\": \"white\", \"lakecolor\": \"white\", \"landcolor\": \"#E5ECF6\", \"showlakes\": true, \"showland\": true, \"subunitcolor\": \"white\"}, \"hoverlabel\": {\"align\": \"left\"}, \"hovermode\": \"closest\", \"mapbox\": {\"style\": \"light\"}, \"paper_bgcolor\": \"white\", \"plot_bgcolor\": \"#E5ECF6\", \"polar\": {\"angularaxis\": {\"gridcolor\": \"white\", \"linecolor\": \"white\", \"ticks\": \"\"}, \"bgcolor\": \"#E5ECF6\", \"radialaxis\": {\"gridcolor\": \"white\", \"linecolor\": \"white\", \"ticks\": \"\"}}, \"scene\": {\"xaxis\": {\"backgroundcolor\": \"#E5ECF6\", \"gridcolor\": \"white\", \"gridwidth\": 2, \"linecolor\": \"white\", \"showbackground\": true, \"ticks\": \"\", \"zerolinecolor\": \"white\"}, \"yaxis\": {\"backgroundcolor\": \"#E5ECF6\", \"gridcolor\": \"white\", \"gridwidth\": 2, \"linecolor\": \"white\", \"showbackground\": true, \"ticks\": \"\", \"zerolinecolor\": \"white\"}, \"zaxis\": {\"backgroundcolor\": \"#E5ECF6\", \"gridcolor\": \"white\", \"gridwidth\": 2, \"linecolor\": \"white\", \"showbackground\": true, \"ticks\": \"\", \"zerolinecolor\": \"white\"}}, \"shapedefaults\": {\"line\": {\"color\": \"#2a3f5f\"}}, \"ternary\": {\"aaxis\": {\"gridcolor\": \"white\", \"linecolor\": \"white\", \"ticks\": \"\"}, \"baxis\": {\"gridcolor\": \"white\", \"linecolor\": \"white\", \"ticks\": \"\"}, \"bgcolor\": \"#E5ECF6\", \"caxis\": {\"gridcolor\": \"white\", \"linecolor\": \"white\", \"ticks\": \"\"}}, \"title\": {\"x\": 0.05}, \"xaxis\": {\"automargin\": true, \"gridcolor\": \"white\", \"linecolor\": \"white\", \"ticks\": \"\", \"title\": {\"standoff\": 15}, \"zerolinecolor\": \"white\", \"zerolinewidth\": 2}, \"yaxis\": {\"automargin\": true, \"gridcolor\": \"white\", \"linecolor\": \"white\", \"ticks\": \"\", \"title\": {\"standoff\": 15}, \"zerolinecolor\": \"white\", \"zerolinewidth\": 2}}}, \"title\": {\"text\": \"\\u8cbf\\u6613\\u53ce\\u652f(China)\"}, \"xaxis\": {\"anchor\": \"y\", \"domain\": [0.0, 1.0]}, \"xaxis2\": {\"anchor\": \"y2\", \"domain\": [0.0, 1.0]}, \"yaxis\": {\"anchor\": \"x\", \"domain\": [0.575, 1.0]}, \"yaxis2\": {\"anchor\": \"x2\", \"domain\": [0.0, 0.425]}},\n",
              "                        {\"responsive\": true}\n",
              "                    ).then(function(){\n",
              "                            \n",
              "var gd = document.getElementById('3feac0cc-e6b9-4aae-8052-d4a4ba92ae2e');\n",
              "var x = new MutationObserver(function (mutations, observer) {{\n",
              "        var display = window.getComputedStyle(gd).display;\n",
              "        if (!display || display === 'none') {{\n",
              "            console.log([gd, 'removed!']);\n",
              "            Plotly.purge(gd);\n",
              "            observer.disconnect();\n",
              "        }}\n",
              "}});\n",
              "\n",
              "// Listen for the removal of the full notebook cells\n",
              "var notebookContainer = gd.closest('#notebook-container');\n",
              "if (notebookContainer) {{\n",
              "    x.observe(notebookContainer, {childList: true});\n",
              "}}\n",
              "\n",
              "// Listen for the clearing of the current output cell\n",
              "var outputEl = gd.closest('.output');\n",
              "if (outputEl) {{\n",
              "    x.observe(outputEl, {childList: true});\n",
              "}}\n",
              "\n",
              "                        })\n",
              "                };\n",
              "                \n",
              "            </script>\n",
              "        </div>\n",
              "</body>\n",
              "</html>"
            ]
          },
          "metadata": {
            "tags": []
          }
        }
      ]
    },
    {
      "cell_type": "markdown",
      "metadata": {
        "id": "0nQvrYeFsgKx",
        "colab_type": "text"
      },
      "source": [
        "図の下の方の棒グラフの縦軸はFILLMEを表します。"
      ]
    },
    {
      "cell_type": "code",
      "metadata": {
        "id": "bLtu8sIad1Cn",
        "colab_type": "code",
        "colab": {
          "base_uri": "https://localhost:8080/",
          "height": 542
        },
        "outputId": "cc426e13-5f2f-4f94-f578-63d5db1686fa"
      },
      "source": [
        "fig = make_subplots(rows=2, cols=1)\n",
        "\n",
        "for cnt in ['China', 'Switzerland', 'United_States_of_America']:\n",
        "  selected_df = trade_hist[trade_hist['country_name'] == cnt]\n",
        "  selected_exp = selected_df[selected_df['exp_imp'] == 1].reset_index(drop=True)\n",
        "  selected_imp = selected_df[selected_df['exp_imp'] == 2].reset_index(drop=True)\n",
        "  trade_balance = selected_exp['Value'] - selected_imp['Value'] \n",
        "  trade_balance = pd.concat([selected_exp['Year'], trade_balance], axis=1)\n",
        "  fig.add_trace(go.Scatter(x=selected_exp['Year'], y=selected_exp['Value'], name=f'{cnt}: 輸入'), row=1, col=1)\n",
        "  fig.add_trace(go.Scatter(x=selected_imp['Year'], y=selected_imp['Value'], name=f'{cnt}: 輸出'), row=1, col=1)\n",
        "  fig.add_trace(go.Bar(x=trade_balance['Year'], y=trade_balance['Value'], name=f'{cnt}: trade_balance'), row=2, col=1)\n",
        "\n",
        "fig.show()"
      ],
      "execution_count": 25,
      "outputs": [
        {
          "output_type": "display_data",
          "data": {
            "text/html": [
              "<html>\n",
              "<head><meta charset=\"utf-8\" /></head>\n",
              "<body>\n",
              "    <div>\n",
              "            <script src=\"https://cdnjs.cloudflare.com/ajax/libs/mathjax/2.7.5/MathJax.js?config=TeX-AMS-MML_SVG\"></script><script type=\"text/javascript\">if (window.MathJax) {MathJax.Hub.Config({SVG: {font: \"STIX-Web\"}});}</script>\n",
              "                <script type=\"text/javascript\">window.PlotlyConfig = {MathJaxConfig: 'local'};</script>\n",
              "        <script src=\"https://cdn.plot.ly/plotly-latest.min.js\"></script>    \n",
              "            <div id=\"3dabefb1-c3cd-4151-bedb-e9c4080a8828\" class=\"plotly-graph-div\" style=\"height:525px; width:100%;\"></div>\n",
              "            <script type=\"text/javascript\">\n",
              "                \n",
              "                    window.PLOTLYENV=window.PLOTLYENV || {};\n",
              "                    \n",
              "                if (document.getElementById(\"3dabefb1-c3cd-4151-bedb-e9c4080a8828\")) {\n",
              "                    Plotly.newPlot(\n",
              "                        '3dabefb1-c3cd-4151-bedb-e9c4080a8828',\n",
              "                        [{\"name\": \"China: \\u8f38\\u5165\", \"type\": \"scatter\", \"x\": [1997, 1998, 1999, 2000, 2001, 2002, 2003, 2004, 2005, 2006, 2007, 2008, 2009, 2010, 2011, 2012, 2013, 2014, 2015, 2016, 2017, 2018, 2019], \"xaxis\": \"x\", \"y\": [2630720664, 2620905420, 2657428102, 3274447888, 3763723102, 4979795581, 6635481534, 7994233171, 8836853027, 10793696067, 12838997782, 12949889116, 10235595660, 13085564799, 12902159758, 11509143901, 12625239116, 13381487410, 13223350314, 12361421736, 14889705986, 15897740448, 14682699314], \"yaxis\": \"y\"}, {\"name\": \"China: \\u8f38\\u51fa\", \"type\": \"scatter\", \"x\": [1997, 1998, 1999, 2000, 2001, 2002, 2003, 2004, 2005, 2006, 2007, 2008, 2009, 2010, 2011, 2012, 2013, 2014, 2015, 2016, 2017, 2018, 2019], \"xaxis\": \"x\", \"y\": [5061673266, 4844134624, 4875384565, 5941358135, 7026676502, 7727792563, 8731138638, 10198963424, 11975448971, 13784370438, 15035468305, 14830405945, 11435984200, 13412960198, 14641945454, 15038787251, 17659992158, 19176450101, 19428811556, 17018987595, 18459258807, 19193652551, 18444553947], \"yaxis\": \"y\"}, {\"name\": \"China: trade_balance\", \"type\": \"bar\", \"x\": [1997, 1998, 1999, 2000, 2001, 2002, 2003, 2004, 2005, 2006, 2007, 2008, 2009, 2010, 2011, 2012, 2013, 2014, 2015, 2016, 2017, 2018, 2019], \"xaxis\": \"x2\", \"y\": [-2430952602, -2223229204, -2217956463, -2666910247, -3262953400, -2747996982, -2095657104, -2204730253, -3138595944, -2990674371, -2196470523, -1880516829, -1200388540, -327395399, -1739785696, -3529643350, -5034753042, -5794962691, -6205461242, -4657565859, -3569552821, -3295912103, -3761854633], \"yaxis\": \"y2\"}, {\"name\": \"Switzerland: \\u8f38\\u5165\", \"type\": \"scatter\", \"x\": [1997, 1998, 1999, 2000, 2001, 2002, 2003, 2004, 2005, 2006, 2007, 2008, 2009, 2010, 2011, 2012, 2013, 2014, 2015, 2016, 2017, 2018, 2019], \"xaxis\": \"x\", \"y\": [256259364, 285325129, 244983628, 225614383, 238857307, 200805834, 226645083, 236453427, 237741594, 281266903, 354831465, 449934030, 586400384, 681427497, 734944834, 349313286, 323226540, 320777179, 326738946, 339651117, 569915673, 416564150, 446600644], \"yaxis\": \"y\"}, {\"name\": \"Switzerland: \\u8f38\\u51fa\", \"type\": \"scatter\", \"x\": [1997, 1998, 1999, 2000, 2001, 2002, 2003, 2004, 2005, 2006, 2007, 2008, 2009, 2010, 2011, 2012, 2013, 2014, 2015, 2016, 2017, 2018, 2019], \"xaxis\": \"x\", \"y\": [414763830, 393248907, 382292402, 354262363, 399227893, 412818500, 446932962, 520452952, 557095928, 593735606, 613556894, 664989350, 585638428, 595760990, 624798076, 655980410, 712404206, 763279862, 894828377, 831781020, 876989093, 857320750, 891930995], \"yaxis\": \"y\"}, {\"name\": \"Switzerland: trade_balance\", \"type\": \"bar\", \"x\": [1997, 1998, 1999, 2000, 2001, 2002, 2003, 2004, 2005, 2006, 2007, 2008, 2009, 2010, 2011, 2012, 2013, 2014, 2015, 2016, 2017, 2018, 2019], \"xaxis\": \"x2\", \"y\": [-158504466, -107923778, -137308774, -128647980, -160370586, -212012666, -220287879, -283999525, -319354334, -312468703, -258725429, -215055320, 761956, 85666507, 110146758, -306667124, -389177666, -442502683, -568089431, -492129903, -307073420, -440756600, -445330351], \"yaxis\": \"y2\"}, {\"name\": \"United_States_of_America: \\u8f38\\u5165\", \"type\": \"scatter\", \"x\": [1997, 1998, 1999, 2000, 2001, 2002, 2003, 2004, 2005, 2006, 2007, 2008, 2009, 2010, 2011, 2012, 2013, 2014, 2015, 2016, 2017, 2018, 2019], \"xaxis\": \"x\", \"y\": [14168941406, 15470005803, 14605315039, 15355867334, 14711055296, 14873325654, 13412156816, 13730742370, 14805465279, 16933589773, 16896234816, 14214320598, 8733358862, 10373979853, 10017653282, 11188354357, 12928168375, 13649256753, 15224592157, 14142872402, 15113485105, 15470237117, 15246839887], \"yaxis\": \"y\"}, {\"name\": \"United_States_of_America: \\u8f38\\u51fa\", \"type\": \"scatter\", \"x\": [1997, 1998, 1999, 2000, 2001, 2002, 2003, 2004, 2005, 2006, 2007, 2008, 2009, 2010, 2011, 2012, 2013, 2014, 2015, 2016, 2017, 2018, 2019], \"xaxis\": \"x\", \"y\": [9149282451, 8778119003, 7639509645, 7778861082, 7671481006, 7237175644, 6824958413, 6763358820, 7074269509, 7911227113, 8348695214, 8039575771, 5512349685, 5911421399, 5931422189, 6082064277, 6814818915, 7542679072, 8059780909, 7322133759, 8090251224, 9014901931, 8621656380], \"yaxis\": \"y\"}, {\"name\": \"United_States_of_America: trade_balance\", \"type\": \"bar\", \"x\": [1997, 1998, 1999, 2000, 2001, 2002, 2003, 2004, 2005, 2006, 2007, 2008, 2009, 2010, 2011, 2012, 2013, 2014, 2015, 2016, 2017, 2018, 2019], \"xaxis\": \"x2\", \"y\": [5019658955, 6691886800, 6965805394, 7577006252, 7039574290, 7636150010, 6587198403, 6967383550, 7731195770, 9022362660, 8547539602, 6174744827, 3221009177, 4462558454, 4086231093, 5106290080, 6113349460, 6106577681, 7164811248, 6820738643, 7023233881, 6455335186, 6625183507], \"yaxis\": \"y2\"}],\n",
              "                        {\"template\": {\"data\": {\"bar\": [{\"error_x\": {\"color\": \"#2a3f5f\"}, \"error_y\": {\"color\": \"#2a3f5f\"}, \"marker\": {\"line\": {\"color\": \"#E5ECF6\", \"width\": 0.5}}, \"type\": \"bar\"}], \"barpolar\": [{\"marker\": {\"line\": {\"color\": \"#E5ECF6\", \"width\": 0.5}}, \"type\": \"barpolar\"}], \"carpet\": [{\"aaxis\": {\"endlinecolor\": \"#2a3f5f\", \"gridcolor\": \"white\", \"linecolor\": \"white\", \"minorgridcolor\": \"white\", \"startlinecolor\": \"#2a3f5f\"}, \"baxis\": {\"endlinecolor\": \"#2a3f5f\", \"gridcolor\": \"white\", \"linecolor\": \"white\", \"minorgridcolor\": \"white\", \"startlinecolor\": \"#2a3f5f\"}, \"type\": \"carpet\"}], \"choropleth\": [{\"colorbar\": {\"outlinewidth\": 0, \"ticks\": \"\"}, \"type\": \"choropleth\"}], \"contour\": [{\"colorbar\": {\"outlinewidth\": 0, \"ticks\": \"\"}, \"colorscale\": [[0.0, \"#0d0887\"], [0.1111111111111111, \"#46039f\"], [0.2222222222222222, \"#7201a8\"], [0.3333333333333333, \"#9c179e\"], [0.4444444444444444, \"#bd3786\"], [0.5555555555555556, \"#d8576b\"], [0.6666666666666666, \"#ed7953\"], [0.7777777777777778, \"#fb9f3a\"], [0.8888888888888888, \"#fdca26\"], [1.0, \"#f0f921\"]], \"type\": \"contour\"}], \"contourcarpet\": [{\"colorbar\": {\"outlinewidth\": 0, \"ticks\": \"\"}, \"type\": \"contourcarpet\"}], \"heatmap\": [{\"colorbar\": {\"outlinewidth\": 0, \"ticks\": \"\"}, \"colorscale\": [[0.0, \"#0d0887\"], [0.1111111111111111, \"#46039f\"], [0.2222222222222222, \"#7201a8\"], [0.3333333333333333, \"#9c179e\"], [0.4444444444444444, \"#bd3786\"], [0.5555555555555556, \"#d8576b\"], [0.6666666666666666, \"#ed7953\"], [0.7777777777777778, \"#fb9f3a\"], [0.8888888888888888, \"#fdca26\"], [1.0, \"#f0f921\"]], \"type\": \"heatmap\"}], \"heatmapgl\": [{\"colorbar\": {\"outlinewidth\": 0, \"ticks\": \"\"}, \"colorscale\": [[0.0, \"#0d0887\"], [0.1111111111111111, \"#46039f\"], [0.2222222222222222, \"#7201a8\"], [0.3333333333333333, \"#9c179e\"], [0.4444444444444444, \"#bd3786\"], [0.5555555555555556, \"#d8576b\"], [0.6666666666666666, \"#ed7953\"], [0.7777777777777778, \"#fb9f3a\"], [0.8888888888888888, \"#fdca26\"], [1.0, \"#f0f921\"]], \"type\": \"heatmapgl\"}], \"histogram\": [{\"marker\": {\"colorbar\": {\"outlinewidth\": 0, \"ticks\": \"\"}}, \"type\": \"histogram\"}], \"histogram2d\": [{\"colorbar\": {\"outlinewidth\": 0, \"ticks\": \"\"}, \"colorscale\": [[0.0, \"#0d0887\"], [0.1111111111111111, \"#46039f\"], [0.2222222222222222, \"#7201a8\"], [0.3333333333333333, \"#9c179e\"], [0.4444444444444444, \"#bd3786\"], [0.5555555555555556, \"#d8576b\"], [0.6666666666666666, \"#ed7953\"], [0.7777777777777778, \"#fb9f3a\"], [0.8888888888888888, \"#fdca26\"], [1.0, \"#f0f921\"]], \"type\": \"histogram2d\"}], \"histogram2dcontour\": [{\"colorbar\": {\"outlinewidth\": 0, \"ticks\": \"\"}, \"colorscale\": [[0.0, \"#0d0887\"], [0.1111111111111111, \"#46039f\"], [0.2222222222222222, \"#7201a8\"], [0.3333333333333333, \"#9c179e\"], [0.4444444444444444, \"#bd3786\"], [0.5555555555555556, \"#d8576b\"], [0.6666666666666666, \"#ed7953\"], [0.7777777777777778, \"#fb9f3a\"], [0.8888888888888888, \"#fdca26\"], [1.0, \"#f0f921\"]], \"type\": \"histogram2dcontour\"}], \"mesh3d\": [{\"colorbar\": {\"outlinewidth\": 0, \"ticks\": \"\"}, \"type\": \"mesh3d\"}], \"parcoords\": [{\"line\": {\"colorbar\": {\"outlinewidth\": 0, \"ticks\": \"\"}}, \"type\": \"parcoords\"}], \"pie\": [{\"automargin\": true, \"type\": \"pie\"}], \"scatter\": [{\"marker\": {\"colorbar\": {\"outlinewidth\": 0, \"ticks\": \"\"}}, \"type\": \"scatter\"}], \"scatter3d\": [{\"line\": {\"colorbar\": {\"outlinewidth\": 0, \"ticks\": \"\"}}, \"marker\": {\"colorbar\": {\"outlinewidth\": 0, \"ticks\": \"\"}}, \"type\": \"scatter3d\"}], \"scattercarpet\": [{\"marker\": {\"colorbar\": {\"outlinewidth\": 0, \"ticks\": \"\"}}, \"type\": \"scattercarpet\"}], \"scattergeo\": [{\"marker\": {\"colorbar\": {\"outlinewidth\": 0, \"ticks\": \"\"}}, \"type\": \"scattergeo\"}], \"scattergl\": [{\"marker\": {\"colorbar\": {\"outlinewidth\": 0, \"ticks\": \"\"}}, \"type\": \"scattergl\"}], \"scattermapbox\": [{\"marker\": {\"colorbar\": {\"outlinewidth\": 0, \"ticks\": \"\"}}, \"type\": \"scattermapbox\"}], \"scatterpolar\": [{\"marker\": {\"colorbar\": {\"outlinewidth\": 0, \"ticks\": \"\"}}, \"type\": \"scatterpolar\"}], \"scatterpolargl\": [{\"marker\": {\"colorbar\": {\"outlinewidth\": 0, \"ticks\": \"\"}}, \"type\": \"scatterpolargl\"}], \"scatterternary\": [{\"marker\": {\"colorbar\": {\"outlinewidth\": 0, \"ticks\": \"\"}}, \"type\": \"scatterternary\"}], \"surface\": [{\"colorbar\": {\"outlinewidth\": 0, \"ticks\": \"\"}, \"colorscale\": [[0.0, \"#0d0887\"], [0.1111111111111111, \"#46039f\"], [0.2222222222222222, \"#7201a8\"], [0.3333333333333333, \"#9c179e\"], [0.4444444444444444, \"#bd3786\"], [0.5555555555555556, \"#d8576b\"], [0.6666666666666666, \"#ed7953\"], [0.7777777777777778, \"#fb9f3a\"], [0.8888888888888888, \"#fdca26\"], [1.0, \"#f0f921\"]], \"type\": \"surface\"}], \"table\": [{\"cells\": {\"fill\": {\"color\": \"#EBF0F8\"}, \"line\": {\"color\": \"white\"}}, \"header\": {\"fill\": {\"color\": \"#C8D4E3\"}, \"line\": {\"color\": \"white\"}}, \"type\": \"table\"}]}, \"layout\": {\"annotationdefaults\": {\"arrowcolor\": \"#2a3f5f\", \"arrowhead\": 0, \"arrowwidth\": 1}, \"coloraxis\": {\"colorbar\": {\"outlinewidth\": 0, \"ticks\": \"\"}}, \"colorscale\": {\"diverging\": [[0, \"#8e0152\"], [0.1, \"#c51b7d\"], [0.2, \"#de77ae\"], [0.3, \"#f1b6da\"], [0.4, \"#fde0ef\"], [0.5, \"#f7f7f7\"], [0.6, \"#e6f5d0\"], [0.7, \"#b8e186\"], [0.8, \"#7fbc41\"], [0.9, \"#4d9221\"], [1, \"#276419\"]], \"sequential\": [[0.0, \"#0d0887\"], [0.1111111111111111, \"#46039f\"], [0.2222222222222222, \"#7201a8\"], [0.3333333333333333, \"#9c179e\"], [0.4444444444444444, \"#bd3786\"], [0.5555555555555556, \"#d8576b\"], [0.6666666666666666, \"#ed7953\"], [0.7777777777777778, \"#fb9f3a\"], [0.8888888888888888, \"#fdca26\"], [1.0, \"#f0f921\"]], \"sequentialminus\": [[0.0, \"#0d0887\"], [0.1111111111111111, \"#46039f\"], [0.2222222222222222, \"#7201a8\"], [0.3333333333333333, \"#9c179e\"], [0.4444444444444444, \"#bd3786\"], [0.5555555555555556, \"#d8576b\"], [0.6666666666666666, \"#ed7953\"], [0.7777777777777778, \"#fb9f3a\"], [0.8888888888888888, \"#fdca26\"], [1.0, \"#f0f921\"]]}, \"colorway\": [\"#636efa\", \"#EF553B\", \"#00cc96\", \"#ab63fa\", \"#FFA15A\", \"#19d3f3\", \"#FF6692\", \"#B6E880\", \"#FF97FF\", \"#FECB52\"], \"font\": {\"color\": \"#2a3f5f\"}, \"geo\": {\"bgcolor\": \"white\", \"lakecolor\": \"white\", \"landcolor\": \"#E5ECF6\", \"showlakes\": true, \"showland\": true, \"subunitcolor\": \"white\"}, \"hoverlabel\": {\"align\": \"left\"}, \"hovermode\": \"closest\", \"mapbox\": {\"style\": \"light\"}, \"paper_bgcolor\": \"white\", \"plot_bgcolor\": \"#E5ECF6\", \"polar\": {\"angularaxis\": {\"gridcolor\": \"white\", \"linecolor\": \"white\", \"ticks\": \"\"}, \"bgcolor\": \"#E5ECF6\", \"radialaxis\": {\"gridcolor\": \"white\", \"linecolor\": \"white\", \"ticks\": \"\"}}, \"scene\": {\"xaxis\": {\"backgroundcolor\": \"#E5ECF6\", \"gridcolor\": \"white\", \"gridwidth\": 2, \"linecolor\": \"white\", \"showbackground\": true, \"ticks\": \"\", \"zerolinecolor\": \"white\"}, \"yaxis\": {\"backgroundcolor\": \"#E5ECF6\", \"gridcolor\": \"white\", \"gridwidth\": 2, \"linecolor\": \"white\", \"showbackground\": true, \"ticks\": \"\", \"zerolinecolor\": \"white\"}, \"zaxis\": {\"backgroundcolor\": \"#E5ECF6\", \"gridcolor\": \"white\", \"gridwidth\": 2, \"linecolor\": \"white\", \"showbackground\": true, \"ticks\": \"\", \"zerolinecolor\": \"white\"}}, \"shapedefaults\": {\"line\": {\"color\": \"#2a3f5f\"}}, \"ternary\": {\"aaxis\": {\"gridcolor\": \"white\", \"linecolor\": \"white\", \"ticks\": \"\"}, \"baxis\": {\"gridcolor\": \"white\", \"linecolor\": \"white\", \"ticks\": \"\"}, \"bgcolor\": \"#E5ECF6\", \"caxis\": {\"gridcolor\": \"white\", \"linecolor\": \"white\", \"ticks\": \"\"}}, \"title\": {\"x\": 0.05}, \"xaxis\": {\"automargin\": true, \"gridcolor\": \"white\", \"linecolor\": \"white\", \"ticks\": \"\", \"title\": {\"standoff\": 15}, \"zerolinecolor\": \"white\", \"zerolinewidth\": 2}, \"yaxis\": {\"automargin\": true, \"gridcolor\": \"white\", \"linecolor\": \"white\", \"ticks\": \"\", \"title\": {\"standoff\": 15}, \"zerolinecolor\": \"white\", \"zerolinewidth\": 2}}}, \"xaxis\": {\"anchor\": \"y\", \"domain\": [0.0, 1.0]}, \"xaxis2\": {\"anchor\": \"y2\", \"domain\": [0.0, 1.0]}, \"yaxis\": {\"anchor\": \"x\", \"domain\": [0.575, 1.0]}, \"yaxis2\": {\"anchor\": \"x2\", \"domain\": [0.0, 0.425]}},\n",
              "                        {\"responsive\": true}\n",
              "                    ).then(function(){\n",
              "                            \n",
              "var gd = document.getElementById('3dabefb1-c3cd-4151-bedb-e9c4080a8828');\n",
              "var x = new MutationObserver(function (mutations, observer) {{\n",
              "        var display = window.getComputedStyle(gd).display;\n",
              "        if (!display || display === 'none') {{\n",
              "            console.log([gd, 'removed!']);\n",
              "            Plotly.purge(gd);\n",
              "            observer.disconnect();\n",
              "        }}\n",
              "}});\n",
              "\n",
              "// Listen for the removal of the full notebook cells\n",
              "var notebookContainer = gd.closest('#notebook-container');\n",
              "if (notebookContainer) {{\n",
              "    x.observe(notebookContainer, {childList: true});\n",
              "}}\n",
              "\n",
              "// Listen for the clearing of the current output cell\n",
              "var outputEl = gd.closest('.output');\n",
              "if (outputEl) {{\n",
              "    x.observe(outputEl, {childList: true});\n",
              "}}\n",
              "\n",
              "                        })\n",
              "                };\n",
              "                \n",
              "            </script>\n",
              "        </div>\n",
              "</body>\n",
              "</html>"
            ]
          },
          "metadata": {
            "tags": []
          }
        }
      ]
    },
    {
      "cell_type": "markdown",
      "metadata": {
        "id": "SnbMYWxeAmsD",
        "colab_type": "text"
      },
      "source": [
        "### Dashでインタラクティブに作成\n",
        "- 各国の輸出、輸入を2つのグラフに分けて観察するアプリ\n",
        "- 1つの国のデータをどんどん追加していくアプリ"
      ]
    },
    {
      "cell_type": "markdown",
      "metadata": {
        "id": "Bt2P2Odxs1ui",
        "colab_type": "text"
      },
      "source": [
        "dashはFILLMEを行うPythonパッケージです。\n",
        "\n",
        "jupyterdashはFILLMEを行うPythonパッケージです。"
      ]
    },
    {
      "cell_type": "code",
      "metadata": {
        "id": "xrdBbShsuq69",
        "colab_type": "code",
        "colab": {
          "base_uri": "https://localhost:8080/",
          "height": 1000
        },
        "outputId": "d8478378-d5ee-4d37-d295-b8930c74de19"
      },
      "source": [
        "!pip install jupyter-dash"
      ],
      "execution_count": 26,
      "outputs": [
        {
          "output_type": "stream",
          "text": [
            "Collecting jupyter-dash\n",
            "\u001b[?25l  Downloading https://files.pythonhosted.org/packages/b9/b9/5f9499a0154124a262c85e3a99033b9b3a20dc3d2707b587f52b32b60d76/jupyter_dash-0.3.1-py3-none-any.whl (49kB)\n",
            "\r\u001b[K     |██████▊                         | 10kB 16.5MB/s eta 0:00:01\r\u001b[K     |█████████████▍                  | 20kB 2.1MB/s eta 0:00:01\r\u001b[K     |████████████████████            | 30kB 2.8MB/s eta 0:00:01\r\u001b[K     |██████████████████████████▊     | 40kB 3.1MB/s eta 0:00:01\r\u001b[K     |████████████████████████████████| 51kB 1.9MB/s \n",
            "\u001b[?25hRequirement already satisfied: requests in /usr/local/lib/python3.6/dist-packages (from jupyter-dash) (2.23.0)\n",
            "Collecting ansi2html\n",
            "  Downloading https://files.pythonhosted.org/packages/b7/f5/0d658908d70cb902609fbb39b9ce891b99e060fa06e98071d369056e346f/ansi2html-1.5.2.tar.gz\n",
            "Requirement already satisfied: retrying in /usr/local/lib/python3.6/dist-packages (from jupyter-dash) (1.3.3)\n",
            "Requirement already satisfied: ipykernel in /usr/local/lib/python3.6/dist-packages (from jupyter-dash) (4.10.1)\n",
            "Requirement already satisfied: ipython in /usr/local/lib/python3.6/dist-packages (from jupyter-dash) (5.5.0)\n",
            "Requirement already satisfied: flask in /usr/local/lib/python3.6/dist-packages (from jupyter-dash) (1.1.2)\n",
            "Collecting dash\n",
            "\u001b[?25l  Downloading https://files.pythonhosted.org/packages/1d/d1/191ad32bd9e6d10b2fc0f5d31e9e6a85fdb2642088658f75817d67bdeaea/dash-1.14.0.tar.gz (70kB)\n",
            "\u001b[K     |████████████████████████████████| 71kB 4.2MB/s \n",
            "\u001b[?25hRequirement already satisfied: certifi>=2017.4.17 in /usr/local/lib/python3.6/dist-packages (from requests->jupyter-dash) (2020.6.20)\n",
            "Requirement already satisfied: urllib3!=1.25.0,!=1.25.1,<1.26,>=1.21.1 in /usr/local/lib/python3.6/dist-packages (from requests->jupyter-dash) (1.24.3)\n",
            "Requirement already satisfied: idna<3,>=2.5 in /usr/local/lib/python3.6/dist-packages (from requests->jupyter-dash) (2.10)\n",
            "Requirement already satisfied: chardet<4,>=3.0.2 in /usr/local/lib/python3.6/dist-packages (from requests->jupyter-dash) (3.0.4)\n",
            "Requirement already satisfied: six in /usr/local/lib/python3.6/dist-packages (from ansi2html->jupyter-dash) (1.15.0)\n",
            "Requirement already satisfied: jupyter-client in /usr/local/lib/python3.6/dist-packages (from ipykernel->jupyter-dash) (5.3.5)\n",
            "Requirement already satisfied: tornado>=4.0 in /usr/local/lib/python3.6/dist-packages (from ipykernel->jupyter-dash) (5.1.1)\n",
            "Requirement already satisfied: traitlets>=4.1.0 in /usr/local/lib/python3.6/dist-packages (from ipykernel->jupyter-dash) (4.3.3)\n",
            "Requirement already satisfied: decorator in /usr/local/lib/python3.6/dist-packages (from ipython->jupyter-dash) (4.4.2)\n",
            "Requirement already satisfied: simplegeneric>0.8 in /usr/local/lib/python3.6/dist-packages (from ipython->jupyter-dash) (0.8.1)\n",
            "Requirement already satisfied: pickleshare in /usr/local/lib/python3.6/dist-packages (from ipython->jupyter-dash) (0.7.5)\n",
            "Requirement already satisfied: pexpect; sys_platform != \"win32\" in /usr/local/lib/python3.6/dist-packages (from ipython->jupyter-dash) (4.8.0)\n",
            "Requirement already satisfied: setuptools>=18.5 in /usr/local/lib/python3.6/dist-packages (from ipython->jupyter-dash) (49.2.0)\n",
            "Requirement already satisfied: prompt-toolkit<2.0.0,>=1.0.4 in /usr/local/lib/python3.6/dist-packages (from ipython->jupyter-dash) (1.0.18)\n",
            "Requirement already satisfied: pygments in /usr/local/lib/python3.6/dist-packages (from ipython->jupyter-dash) (2.1.3)\n",
            "Requirement already satisfied: Werkzeug>=0.15 in /usr/local/lib/python3.6/dist-packages (from flask->jupyter-dash) (1.0.1)\n",
            "Requirement already satisfied: click>=5.1 in /usr/local/lib/python3.6/dist-packages (from flask->jupyter-dash) (7.1.2)\n",
            "Requirement already satisfied: itsdangerous>=0.24 in /usr/local/lib/python3.6/dist-packages (from flask->jupyter-dash) (1.1.0)\n",
            "Requirement already satisfied: Jinja2>=2.10.1 in /usr/local/lib/python3.6/dist-packages (from flask->jupyter-dash) (2.11.2)\n",
            "Collecting flask-compress\n",
            "  Downloading https://files.pythonhosted.org/packages/a0/96/cd684c1ffe97b513303b5bfd4bbfb4114c5f4a5ea8a737af6fd813273df8/Flask-Compress-1.5.0.tar.gz\n",
            "Requirement already satisfied: plotly in /usr/local/lib/python3.6/dist-packages (from dash->jupyter-dash) (4.9.0)\n",
            "Collecting dash_renderer==1.6.0\n",
            "\u001b[?25l  Downloading https://files.pythonhosted.org/packages/da/a6/ddbcd01c638a2c235bfe13fd75155b344c7b7ab1c6466fe6d46b159897ad/dash_renderer-1.6.0.tar.gz (1.2MB)\n",
            "\u001b[K     |████████████████████████████████| 1.2MB 31.4MB/s \n",
            "\u001b[?25hCollecting dash-core-components==1.10.2\n",
            "\u001b[?25l  Downloading https://files.pythonhosted.org/packages/ee/74/f961bb01aa015b76c60045cf8ad5d9eb2279656f4483b42750ec3b925c9c/dash_core_components-1.10.2.tar.gz (3.4MB)\n",
            "\u001b[K     |████████████████████████████████| 3.4MB 42.9MB/s \n",
            "\u001b[?25hCollecting dash-html-components==1.0.3\n",
            "\u001b[?25l  Downloading https://files.pythonhosted.org/packages/da/20/46714ae501ccf16e5e37ca160c06e27347d19889687454168730e6744cdc/dash_html_components-1.0.3.tar.gz (187kB)\n",
            "\u001b[K     |████████████████████████████████| 194kB 34.7MB/s \n",
            "\u001b[?25hCollecting dash-table==4.9.0\n",
            "\u001b[?25l  Downloading https://files.pythonhosted.org/packages/54/9f/11347b397b840b67481f6ecadefb64de0b57d199752d5e182161a4217f1d/dash_table-4.9.0.tar.gz (1.8MB)\n",
            "\u001b[K     |████████████████████████████████| 1.8MB 29.9MB/s \n",
            "\u001b[?25hRequirement already satisfied: future in /usr/local/lib/python3.6/dist-packages (from dash->jupyter-dash) (0.16.0)\n",
            "Requirement already satisfied: pyzmq>=13 in /usr/local/lib/python3.6/dist-packages (from jupyter-client->ipykernel->jupyter-dash) (19.0.2)\n",
            "Requirement already satisfied: python-dateutil>=2.1 in /usr/local/lib/python3.6/dist-packages (from jupyter-client->ipykernel->jupyter-dash) (2.8.1)\n",
            "Requirement already satisfied: jupyter-core>=4.6.0 in /usr/local/lib/python3.6/dist-packages (from jupyter-client->ipykernel->jupyter-dash) (4.6.3)\n",
            "Requirement already satisfied: ipython-genutils in /usr/local/lib/python3.6/dist-packages (from traitlets>=4.1.0->ipykernel->jupyter-dash) (0.2.0)\n",
            "Requirement already satisfied: ptyprocess>=0.5 in /usr/local/lib/python3.6/dist-packages (from pexpect; sys_platform != \"win32\"->ipython->jupyter-dash) (0.6.0)\n",
            "Requirement already satisfied: wcwidth in /usr/local/lib/python3.6/dist-packages (from prompt-toolkit<2.0.0,>=1.0.4->ipython->jupyter-dash) (0.2.5)\n",
            "Requirement already satisfied: MarkupSafe>=0.23 in /usr/local/lib/python3.6/dist-packages (from Jinja2>=2.10.1->flask->jupyter-dash) (1.1.1)\n",
            "Collecting brotli\n",
            "\u001b[?25l  Downloading https://files.pythonhosted.org/packages/f4/68/60a220454dc5083c6d59b41aa90bb1c96fad62a0abf3a33e0ef64b38638a/Brotli-1.0.7-cp36-cp36m-manylinux1_x86_64.whl (352kB)\n",
            "\u001b[K     |████████████████████████████████| 358kB 42.7MB/s \n",
            "\u001b[?25hBuilding wheels for collected packages: ansi2html, dash, flask-compress, dash-renderer, dash-core-components, dash-html-components, dash-table\n",
            "  Building wheel for ansi2html (setup.py) ... \u001b[?25l\u001b[?25hdone\n",
            "  Created wheel for ansi2html: filename=ansi2html-1.5.2-cp36-none-any.whl size=13863 sha256=6e545be65646ba39d40ca9692ed7112d13ab6ddb5562ab5604a3fd0fac01c182\n",
            "  Stored in directory: /root/.cache/pip/wheels/f9/ea/e0/1ed3c3945ce073f930f3e5aa2b9bbadb03cd2efc8f8695cd61\n",
            "  Building wheel for dash (setup.py) ... \u001b[?25l\u001b[?25hdone\n",
            "  Created wheel for dash: filename=dash-1.14.0-cp36-none-any.whl size=80129 sha256=60297bf324825d55cc061cc4d0adaa7a51e3b2c4d9ea75c41d3b137ca372a892\n",
            "  Stored in directory: /root/.cache/pip/wheels/1d/54/0b/e846f762d47e8abc9234419822d013dfb2ccf957b48e411dc6\n",
            "  Building wheel for flask-compress (setup.py) ... \u001b[?25l\u001b[?25hdone\n",
            "  Created wheel for flask-compress: filename=Flask_Compress-1.5.0-cp36-none-any.whl size=5273 sha256=b79eefac9a4cafe66c0f03bb18a4440b61761f692596f64536154a76bf31512e\n",
            "  Stored in directory: /root/.cache/pip/wheels/f7/e9/e4/5afc286be7c87461375e33152558415dfeb0c8f5af3b50e742\n",
            "  Building wheel for dash-renderer (setup.py) ... \u001b[?25l\u001b[?25hdone\n",
            "  Created wheel for dash-renderer: filename=dash_renderer-1.6.0-cp36-none-any.whl size=1182221 sha256=c5c851b0242a837d03b93d7dfcb03a1de7f2cf483cefd319e597f4820f964f9e\n",
            "  Stored in directory: /root/.cache/pip/wheels/2a/de/21/8774fe1ae2271c4747c55c5bcd3e914302a7a6e55a77d866f2\n",
            "  Building wheel for dash-core-components (setup.py) ... \u001b[?25l\u001b[?25hdone\n",
            "  Created wheel for dash-core-components: filename=dash_core_components-1.10.2-cp36-none-any.whl size=3457324 sha256=9d9a39256896c2bade4795f45c2e3205af4910dd43cf17751ee696a8d8c7cba8\n",
            "  Stored in directory: /root/.cache/pip/wheels/2a/38/71/0c7e350a8280f6c94a2024a4d16ba905dd2a86ed2aa4a093e3\n",
            "  Building wheel for dash-html-components (setup.py) ... \u001b[?25l\u001b[?25hdone\n",
            "  Created wheel for dash-html-components: filename=dash_html_components-1.0.3-cp36-none-any.whl size=427303 sha256=f3bc60fc9653553fa74d2a1965e7320b7e61481f901100e830c66c838f6961f6\n",
            "  Stored in directory: /root/.cache/pip/wheels/22/c0/79/ef4c2b20a23dc8457ae75c3da5f63163db213d86e13e00fe26\n",
            "  Building wheel for dash-table (setup.py) ... \u001b[?25l\u001b[?25hdone\n",
            "  Created wheel for dash-table: filename=dash_table-4.9.0-cp36-none-any.whl size=1780769 sha256=3fdec7d8adb6e904cde9e126c8d20e8bbfb2689e9829be0343cb0689fc64118f\n",
            "  Stored in directory: /root/.cache/pip/wheels/f6/99/e4/a3af0a6f2d07ace02dd25984c08294d2749818c38f44d55338\n",
            "Successfully built ansi2html dash flask-compress dash-renderer dash-core-components dash-html-components dash-table\n",
            "Installing collected packages: ansi2html, brotli, flask-compress, dash-renderer, dash-core-components, dash-html-components, dash-table, dash, jupyter-dash\n",
            "Successfully installed ansi2html-1.5.2 brotli-1.0.7 dash-1.14.0 dash-core-components-1.10.2 dash-html-components-1.0.3 dash-renderer-1.6.0 dash-table-4.9.0 flask-compress-1.5.0 jupyter-dash-0.3.1\n"
          ],
          "name": "stdout"
        }
      ]
    },
    {
      "cell_type": "code",
      "metadata": {
        "id": "pVGM8BECd1F-",
        "colab_type": "code",
        "colab": {}
      },
      "source": [
        "from jupyter_dash import JupyterDash \n",
        "import dash_core_components as dcc \n",
        "import dash_html_components as html \n",
        "\n",
        "from dash.dependencies import Input, Output"
      ],
      "execution_count": 27,
      "outputs": []
    },
    {
      "cell_type": "code",
      "metadata": {
        "id": "m0lga9ebd1JZ",
        "colab_type": "code",
        "colab": {
          "base_uri": "https://localhost:8080/",
          "height": 670
        },
        "outputId": "7646f263-cfbd-43be-e030-9d4f818a4a20"
      },
      "source": [
        "app = JupyterDash(__name__)\n",
        "\n",
        "app.layout = html.Div([\n",
        "                       \n",
        "      html.Div([\n",
        "                dcc.Dropdown(id='country_selector',\n",
        "                             options=[{'label': cnt, 'value': cnt} for cnt in trade_hist['country_name']],\n",
        "                             value=['China'],\n",
        "                             multi=True,\n",
        "                             style={'width': '80%', 'display': 'inline-block'})\n",
        "      ]),\n",
        "      html.Div([\n",
        "                \n",
        "                dcc.Graph(id='exp_graph', style={'width': '48%', 'display': 'inline-block'}),\n",
        "                dcc.Graph(id='imp_graph', style={'width': '48%', 'display': 'inline-block'})\n",
        "\n",
        "      ])\n",
        "\n",
        "\n",
        "])\n",
        "\n",
        "@app.callback([Output('exp_graph', 'figure'), Output('imp_graph', 'figure')],\n",
        "              [Input('country_selector', 'value')]\n",
        "              )\n",
        "def update_graph(selected_countries):\n",
        "  selected_df = trade_hist[trade_hist['country_name'].isin(selected_countries)]\n",
        "  selected_exp = selected_df[selected_df['exp_imp'] == 1]\n",
        "  selected_imp = selected_df[selected_df['exp_imp'] == 2]\n",
        "  fig1 = px.line(selected_exp, x='Year', y='Value', color='country_name', title='輸出')\n",
        "  fig2 = px.line(selected_imp, x='Year', y='Value', color='country_name', title='輸入')\n",
        "  return fig1, fig2\n",
        "\n",
        "\n",
        "app.run_server(mode='inline')"
      ],
      "execution_count": 28,
      "outputs": [
        {
          "output_type": "display_data",
          "data": {
            "application/javascript": [
              "(async (port, path, width, height, cache, element) => {\n",
              "    if (!google.colab.kernel.accessAllowed && !cache) {\n",
              "      return;\n",
              "    }\n",
              "    element.appendChild(document.createTextNode(''));\n",
              "    const url = await google.colab.kernel.proxyPort(port, {cache});\n",
              "    const iframe = document.createElement('iframe');\n",
              "    iframe.src = url + path;\n",
              "    iframe.height = height;\n",
              "    iframe.width = width;\n",
              "    iframe.style.border = 0;\n",
              "    element.appendChild(iframe);\n",
              "  })(8050, \"/\", \"100%\", 650, false, window.element)"
            ],
            "text/plain": [
              "<IPython.core.display.Javascript object>"
            ]
          },
          "metadata": {
            "tags": []
          }
        }
      ]
    },
    {
      "cell_type": "markdown",
      "metadata": {
        "id": "8bUur_Lfu_g_",
        "colab_type": "text"
      },
      "source": [
        "上記ダッシュボードの説明ポイント\n",
        "\n",
        "\n",
        "1.   List item\n",
        "2.   List item\n",
        "\n"
      ]
    },
    {
      "cell_type": "code",
      "metadata": {
        "id": "NZIzbGiuBIVI",
        "colab_type": "code",
        "colab": {}
      },
      "source": [
        "from dash.dependencies import State, MATCH"
      ],
      "execution_count": 29,
      "outputs": []
    },
    {
      "cell_type": "code",
      "metadata": {
        "id": "Lg4mjyGPBIYV",
        "colab_type": "code",
        "colab": {
          "base_uri": "https://localhost:8080/",
          "height": 670
        },
        "outputId": "6def6b30-ba50-4933-9a1e-f4da6f880d19"
      },
      "source": [
        "app = JupyterDash(__name__)\n",
        "\n",
        "app.layout = html.Div(\n",
        "    [\n",
        "        html.Button(\"PUSH ME\", id=\"my_button\", n_clicks=0),\n",
        "        html.Div(id=\"my_div\", children=[]),\n",
        "    ]\n",
        ")\n",
        "\n",
        "\n",
        "@app.callback(\n",
        "    Output(\"my_div\", \"children\"),\n",
        "    [Input(\"my_button\", \"n_clicks\")],\n",
        "    [State(\"my_div\", \"children\")],\n",
        "    prevent_initial_call=True,\n",
        ")\n",
        "def update_layout(n_clicks, exist_children):\n",
        "    add_layout = html.Div(\n",
        "        [\n",
        "            dcc.Dropdown(\n",
        "                id={\"type\": \"my_dropdown\", \"index\": n_clicks},\n",
        "                options=[\n",
        "                    {\"value\": cnt, \"label\": cnt}\n",
        "                    for cnt in trade_hist[\"country_name\"].unique()\n",
        "                ],\n",
        "                value=trade_hist[\"country_name\"].unique()[n_clicks - 1],\n",
        "            ),\n",
        "            dcc.Graph(id={\"type\": \"add_graph\", \"index\": n_clicks}),\n",
        "        ], style={'width': '23%', 'display': 'inline-block', 'margin': '1%'}\n",
        "    )\n",
        "    exist_children.append(add_layout)\n",
        "    return exist_children\n",
        "\n",
        "\n",
        "@app.callback(\n",
        "    Output({\"type\": \"add_graph\", \"index\": MATCH}, \"figure\"),\n",
        "    [Input({\"type\": \"my_dropdown\", \"index\": MATCH}, \"value\")],\n",
        ")\n",
        "def update_graph(selected_country):\n",
        "    selected_df = trade_hist[trade_hist[\"country_name\"] == selected_country]\n",
        "    return px.line(\n",
        "        selected_df,\n",
        "        x=\"Year\",\n",
        "        y=\"Value\",\n",
        "        color=\"exp_imp\",\n",
        "        title=f\"{selected_country}の輸出入額（1:輸出, 2:輸入）\",\n",
        "    )\n",
        "\n",
        "app.run_server(mode='inline')"
      ],
      "execution_count": 30,
      "outputs": [
        {
          "output_type": "display_data",
          "data": {
            "application/javascript": [
              "(async (port, path, width, height, cache, element) => {\n",
              "    if (!google.colab.kernel.accessAllowed && !cache) {\n",
              "      return;\n",
              "    }\n",
              "    element.appendChild(document.createTextNode(''));\n",
              "    const url = await google.colab.kernel.proxyPort(port, {cache});\n",
              "    const iframe = document.createElement('iframe');\n",
              "    iframe.src = url + path;\n",
              "    iframe.height = height;\n",
              "    iframe.width = width;\n",
              "    iframe.style.border = 0;\n",
              "    element.appendChild(iframe);\n",
              "  })(8050, \"/\", \"100%\", 650, false, window.element)"
            ],
            "text/plain": [
              "<IPython.core.display.Javascript object>"
            ]
          },
          "metadata": {
            "tags": []
          }
        }
      ]
    },
    {
      "cell_type": "markdown",
      "metadata": {
        "colab_type": "text",
        "id": "jm1rBfFQvR-l"
      },
      "source": [
        "上記ダッシュボードの説明ポイント\n",
        "\n",
        "\n",
        "1.   List item\n",
        "2.   List item\n",
        "\n"
      ]
    },
    {
      "cell_type": "code",
      "metadata": {
        "id": "zPWRf3KPBIbn",
        "colab_type": "code",
        "colab": {}
      },
      "source": [
        "trade_hist.to_csv('trade_hist.csv')"
      ],
      "execution_count": 31,
      "outputs": []
    },
    {
      "cell_type": "code",
      "metadata": {
        "id": "wlnklXcmBId6",
        "colab_type": "code",
        "colab": {}
      },
      "source": [
        ""
      ],
      "execution_count": 31,
      "outputs": []
    },
    {
      "cell_type": "code",
      "metadata": {
        "id": "yM6YE7JwBIhZ",
        "colab_type": "code",
        "colab": {}
      },
      "source": [
        ""
      ],
      "execution_count": 31,
      "outputs": []
    },
    {
      "cell_type": "markdown",
      "metadata": {
        "id": "Be7WRSu5qC1q",
        "colab_type": "text"
      },
      "source": [
        "参考：https://qiita.com/katsu1110/items/a8d508a1b6f07bd3a243"
      ]
    },
    {
      "cell_type": "markdown",
      "metadata": {
        "id": "uCNvmo-TrN3c",
        "colab_type": "text"
      },
      "source": [
        "## 機械学習の例：クラスタリング\n",
        "\n",
        "ここでは機械学習の例として教師なし学習の一つであるクラスタリングを各国の輸出時系列データに適用します。クラスタリングによって、時系列データをその変化のパターンに基づいて複数のクラスに分類することができます。"
      ]
    },
    {
      "cell_type": "markdown",
      "metadata": {
        "id": "3ScjrgEPhuUu",
        "colab_type": "text"
      },
      "source": [
        "### データの整形\n",
        "\n",
        "機械学習を適用しやすくするため、データをNumpy配列に変換します。その前準備として、クラスタリングの適用対象とする国名を取得します。最後の3要素は国名ではなさそうなので、対象から除外します。"
      ]
    },
    {
      "cell_type": "code",
      "metadata": {
        "id": "-vQU7Km_nQAT",
        "colab_type": "code",
        "colab": {
          "base_uri": "https://localhost:8080/",
          "height": 36
        },
        "outputId": "3028636a-26e2-4fd5-bf11-db21895b3df2"
      },
      "source": [
        "country_names = trade_hist['country_name'].unique()\n",
        "print(country_names[-3:])\n",
        "country_names = country_names[:-3]"
      ],
      "execution_count": 32,
      "outputs": [
        {
          "output_type": "stream",
          "text": [
            "['Unknown' 'South_Sudan' 'Bonded_Manufacturing_Warehouse']\n"
          ],
          "name": "stdout"
        }
      ]
    },
    {
      "cell_type": "markdown",
      "metadata": {
        "id": "yTjsjRg8oKdO",
        "colab_type": "text"
      },
      "source": [
        "これらの国の輸出入の時系列をリストに保存します。"
      ]
    },
    {
      "cell_type": "code",
      "metadata": {
        "id": "VpnuhvDEoyTo",
        "colab_type": "code",
        "colab": {}
      },
      "source": [
        "ys1_all = [] # \"1\" の年\n",
        "ys2_all = [] # \"2\" の年\n",
        "vs1_all = [] # \"1\" の数値\n",
        "vs2_all = [] # \"2\" の数値\n",
        "\n",
        "for c in country_names:\n",
        "  tmp = trade_hist[trade_hist['country_name'] == c]\n",
        "  tmp1 = tmp[tmp[\"exp_imp\"] == 1]\n",
        "  tmp2 = tmp[tmp[\"exp_imp\"] == 2]\n",
        "  ys1_all.append(tmp1[\"Year\"].values)\n",
        "  ys2_all.append(tmp2[\"Year\"].values)\n",
        "  vs1_all.append(tmp1[\"Value\"].values)\n",
        "  vs2_all.append(tmp2[\"Value\"].values)"
      ],
      "execution_count": 33,
      "outputs": []
    },
    {
      "cell_type": "markdown",
      "metadata": {
        "id": "ZilyqzMTpTIf",
        "colab_type": "text"
      },
      "source": [
        "各国の記録されている年数を確認します。"
      ]
    },
    {
      "cell_type": "code",
      "metadata": {
        "id": "unS1h33_pUm_",
        "colab_type": "code",
        "colab": {
          "base_uri": "https://localhost:8080/",
          "height": 469
        },
        "outputId": "22a41d98-3ffb-41ec-bd4d-b6e80b1834bb"
      },
      "source": [
        "import numpy as np\n",
        "for n in np.unique([len(c) for c in ys1_all]):\n",
        "  print(\"len(years) = {}: n = {}\".format(n, len([1 for y in ys1_all if len(y) == n])))\n",
        "  print(\"len(years) = {}: n = {}\".format(n, len([1 for y in ys2_all if len(y) == n])))"
      ],
      "execution_count": 34,
      "outputs": [
        {
          "output_type": "stream",
          "text": [
            "len(years) = 6: n = 1\n",
            "len(years) = 6: n = 0\n",
            "len(years) = 8: n = 1\n",
            "len(years) = 8: n = 1\n",
            "len(years) = 9: n = 1\n",
            "len(years) = 9: n = 1\n",
            "len(years) = 10: n = 1\n",
            "len(years) = 10: n = 1\n",
            "len(years) = 11: n = 3\n",
            "len(years) = 11: n = 1\n",
            "len(years) = 13: n = 2\n",
            "len(years) = 13: n = 1\n",
            "len(years) = 14: n = 1\n",
            "len(years) = 14: n = 2\n",
            "len(years) = 19: n = 2\n",
            "len(years) = 19: n = 3\n",
            "len(years) = 20: n = 1\n",
            "len(years) = 20: n = 2\n",
            "len(years) = 21: n = 1\n",
            "len(years) = 21: n = 10\n",
            "len(years) = 22: n = 1\n",
            "len(years) = 22: n = 8\n",
            "len(years) = 23: n = 213\n",
            "len(years) = 23: n = 187\n"
          ],
          "name": "stdout"
        }
      ]
    },
    {
      "cell_type": "markdown",
      "metadata": {
        "id": "jiYgFUcJqLJt",
        "colab_type": "text"
      },
      "source": [
        "多くの国（187）で、\"1\"と\"2\"の両方で23年分のデータがあります。MLを適用するためには固定長のデータが都合が良いので、データをスクリーニングします。最初に年度の配列を作成します。"
      ]
    },
    {
      "cell_type": "code",
      "metadata": {
        "id": "dmpO-QUBd6Jn",
        "colab_type": "code",
        "colab": {}
      },
      "source": [
        "ys = np.array([1997, 1998, 1999, 2000, 2001, 2002, 2003, 2004, 2005, 2006, 2007, 2008, 2009, 2010, 2011, 2012, 2013, 2014, 2015, 2016, 2017, 2018, 2019])"
      ],
      "execution_count": 35,
      "outputs": []
    },
    {
      "cell_type": "markdown",
      "metadata": {
        "id": "yPxVvFEAWHsp",
        "colab_type": "text"
      },
      "source": [
        "`ys`に含まれる全ての年の記録を含む国を抽出します。"
      ]
    },
    {
      "cell_type": "code",
      "metadata": {
        "id": "AWo-VwZuWNwP",
        "colab_type": "code",
        "colab": {}
      },
      "source": [
        "ys1_all2 = []\n",
        "ys2_all2 = []\n",
        "vs1_all2 = []\n",
        "vs2_all2 = []\n",
        "\n",
        "for ys1_, ys2_, vs1_, vs2_ in zip(ys1_all, ys2_all, vs1_all, vs2_all):\n",
        "  cond1 = set(ys1_) == set(ys)\n",
        "  cond2 = set(ys2_) == set(ys)\n",
        "  if cond1 and cond2:\n",
        "    assert (ys1_ - ys).sum() == 0 and (ys2_ - ys).sum() == 0\n",
        "    vs1_all2.append(vs1_)\n",
        "    vs2_all2.append(vs2_)"
      ],
      "execution_count": 36,
      "outputs": []
    },
    {
      "cell_type": "markdown",
      "metadata": {
        "id": "C3nDl3awWU4y",
        "colab_type": "text"
      },
      "source": [
        "データを行列に変換します。これで187カ国の23年分の貿易輸出入データがnumpy配列に保存されました。"
      ]
    },
    {
      "cell_type": "code",
      "metadata": {
        "id": "OtRllo6yW0A4",
        "colab_type": "code",
        "colab": {
          "base_uri": "https://localhost:8080/",
          "height": 217
        },
        "outputId": "9a0e9eec-8634-482d-bebc-0bc07fc9138f"
      },
      "source": [
        "vs1_all3 = np.vstack(vs1_all2)\n",
        "vs2_all3 = np.vstack(vs2_all2)\n",
        "assert vs1_all3.shape == vs2_all3.shape == (187, 23)"
      ],
      "execution_count": 37,
      "outputs": [
        {
          "output_type": "error",
          "ename": "AssertionError",
          "evalue": "ignored",
          "traceback": [
            "\u001b[0;31m---------------------------------------------------------------------------\u001b[0m",
            "\u001b[0;31mAssertionError\u001b[0m                            Traceback (most recent call last)",
            "\u001b[0;32m<ipython-input-37-adf74e9b2b14>\u001b[0m in \u001b[0;36m<module>\u001b[0;34m()\u001b[0m\n\u001b[1;32m      1\u001b[0m \u001b[0mvs1_all3\u001b[0m \u001b[0;34m=\u001b[0m \u001b[0mnp\u001b[0m\u001b[0;34m.\u001b[0m\u001b[0mvstack\u001b[0m\u001b[0;34m(\u001b[0m\u001b[0mvs1_all2\u001b[0m\u001b[0;34m)\u001b[0m\u001b[0;34m\u001b[0m\u001b[0;34m\u001b[0m\u001b[0m\n\u001b[1;32m      2\u001b[0m \u001b[0mvs2_all3\u001b[0m \u001b[0;34m=\u001b[0m \u001b[0mnp\u001b[0m\u001b[0;34m.\u001b[0m\u001b[0mvstack\u001b[0m\u001b[0;34m(\u001b[0m\u001b[0mvs2_all2\u001b[0m\u001b[0;34m)\u001b[0m\u001b[0;34m\u001b[0m\u001b[0;34m\u001b[0m\u001b[0m\n\u001b[0;32m----> 3\u001b[0;31m \u001b[0;32massert\u001b[0m \u001b[0mvs1_all3\u001b[0m\u001b[0;34m.\u001b[0m\u001b[0mshape\u001b[0m \u001b[0;34m==\u001b[0m \u001b[0mvs2_all3\u001b[0m\u001b[0;34m.\u001b[0m\u001b[0mshape\u001b[0m \u001b[0;34m==\u001b[0m \u001b[0;34m(\u001b[0m\u001b[0;36m187\u001b[0m\u001b[0;34m,\u001b[0m \u001b[0;36m23\u001b[0m\u001b[0;34m)\u001b[0m\u001b[0;34m\u001b[0m\u001b[0;34m\u001b[0m\u001b[0m\n\u001b[0m",
            "\u001b[0;31mAssertionError\u001b[0m: "
          ]
        }
      ]
    },
    {
      "cell_type": "code",
      "metadata": {
        "id": "Dt8sN-ELXwmu",
        "colab_type": "code",
        "colab": {
          "base_uri": "https://localhost:8080/",
          "height": 36
        },
        "outputId": "54e88a6e-e772-4622-bf2f-8a4b8dda5c39"
      },
      "source": [
        "vs1_all3.shape"
      ],
      "execution_count": 38,
      "outputs": [
        {
          "output_type": "execute_result",
          "data": {
            "text/plain": [
              "(186, 23)"
            ]
          },
          "metadata": {
            "tags": []
          },
          "execution_count": 38
        }
      ]
    },
    {
      "cell_type": "markdown",
      "metadata": {
        "id": "7C2kQYZLW6Ak",
        "colab_type": "text"
      },
      "source": [
        "### クラスタリング"
      ]
    },
    {
      "cell_type": "code",
      "metadata": {
        "id": "D7za4tLuW9mK",
        "colab_type": "code",
        "colab": {}
      },
      "source": [
        "from sklearn.cluster import KMeans\n",
        "model = KMeans(n_clusters=5)\n",
        "labels = model.fit_predict(vs1_all3)"
      ],
      "execution_count": 39,
      "outputs": []
    },
    {
      "cell_type": "markdown",
      "metadata": {
        "id": "zcMrQmBUXJLy",
        "colab_type": "text"
      },
      "source": [
        "クラス平均ベクトルをプロットします。"
      ]
    },
    {
      "cell_type": "code",
      "metadata": {
        "id": "KBtBamjrXR17",
        "colab_type": "code",
        "colab": {
          "base_uri": "https://localhost:8080/",
          "height": 295
        },
        "outputId": "180e8e64-0e1c-4a78-feba-e4da80b32c47"
      },
      "source": [
        "import matplotlib.pyplot as plt\n",
        "for i in np.arange(5):\n",
        "  plt.plot(model.cluster_centers_[i, :], label=\"Cluster {}\".format(i))\n",
        "plt.legend()"
      ],
      "execution_count": 40,
      "outputs": [
        {
          "output_type": "execute_result",
          "data": {
            "text/plain": [
              "<matplotlib.legend.Legend at 0x7f5708639f60>"
            ]
          },
          "metadata": {
            "tags": []
          },
          "execution_count": 40
        },
        {
          "output_type": "display_data",
          "data": {
            "image/png": "[encoded data removed]",
            "text/plain": [
              "<Figure size 432x288 with 1 Axes>"
            ]
          },
          "metadata": {
            "tags": [],
            "needs_background": "light"
          }
        }
      ]
    },
    {
      "cell_type": "markdown",
      "metadata": {
        "id": "dNWtTN3PXesW",
        "colab_type": "text"
      },
      "source": [
        "貿易量の多さで分類されているようです。これでも意味はありますが、時間的な傾向の違いで分類したい場合、何らかの方法でデータを正規化するのが良いでしょう。"
      ]
    },
    {
      "cell_type": "code",
      "metadata": {
        "id": "JaEaVOXYXf62",
        "colab_type": "code",
        "colab": {}
      },
      "source": [
        ""
      ],
      "execution_count": null,
      "outputs": []
    }
  ]
}