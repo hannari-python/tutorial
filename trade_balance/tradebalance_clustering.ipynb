{
  "nbformat": 4,
  "nbformat_minor": 0,
  "metadata": {
    "colab": {
      "name": "tradebalance_clustering",
      "provenance": [],
      "collapsed_sections": [],
      "include_colab_link": true
    },
    "kernelspec": {
      "name": "python3",
      "display_name": "Python 3"
    }
  },
  "cells": [
    {
      "cell_type": "markdown",
      "metadata": {
        "id": "view-in-github",
        "colab_type": "text"
      },
      "source": [
        "<a href=\"https://colab.research.google.com/github/hannari-python/tutorial/blob/master/trade_balance/tradebalance_clustering.ipynb\" target=\"_parent\"><img src=\"https://colab.research.google.com/assets/colab-badge.svg\" alt=\"Open In Colab\"/></a>"
      ]
    },
    {
      "cell_type": "markdown",
      "metadata": {
        "colab_type": "text",
        "id": "oCiqXLDJkCZv"
      },
      "source": [
        "# 貿易収支データの分析\n",
        "\n",
        "## データの出典情報\n",
        "\n",
        "1. https://www.kaggle.com/zanjibar/japan-trade-statistics\n",
        "2. https://www.kaggle.com/zanjibar/japantradestatistics2\n",
        "\n",
        "1.2.共にライセンスは https://creativecommons.org/licenses/by-sa/4.0/\n",
        "\n",
        "## データの簡単な紹介\n",
        "\n",
        "- FILLME\n",
        "- FILLME\n",
        "- FILLME\n",
        "\n",
        "## 課題1\n",
        "\n",
        "https://www.kaggle.com/zanjibar/japan-trade-statistics\n",
        "https://www.kaggle.com/zanjibar/japantradestatistics2\n",
        "\n",
        "にどのような情報があるかざっとながめてみましょう。\n",
        "\n",
        "## Japan trade statistics のデータの取得と解凍\n",
        "\n",
        "Kaggleにある[データ可視化の例](https://www.kaggle.com/zanjibar/year-1997-top-20-export-import-graph)を試すため、\n",
        "\n",
        "https://github.com/hannari-python/tutorial/tree/master/data/japan-trade-statistics\n",
        "\n",
        "からデータをダウンロードします。\n",
        "\n",
        "! は FILLME と呼ばれます。\n",
        "!の後にLinuxコマンドを書くとそのセルの命令はPythonプログラムではなくLinuxのコマンドとして実行されます。\n",
        "\n",
        "wget はデータをダウンロードするのに使うことができるLinuxのコマンドです。\n"
      ]
    },
    {
      "cell_type": "code",
      "metadata": {
        "colab_type": "code",
        "id": "zxieqlwwkCZ1",
        "colab": {
          "base_uri": "https://localhost:8080/",
          "height": 881
        },
        "outputId": "ff45f545-456d-4bc0-d63c-c8167b30e336"
      },
      "source": [
        "!wget https://github.com/hannari-python/tutorial/raw/master/data/japan-trade-statistics/y_1997.db\n",
        "!wget https://github.com/hannari-python/tutorial/raw/master/data/japan-trade-statistics/trade_meta_data.db\n",
        "!wget https://github.com/hannari-python/tutorial/raw/master/data/japan-trade-statistics/codes.db"
      ],
      "execution_count": 1,
      "outputs": [
        {
          "output_type": "stream",
          "text": [
            "--2020-08-14 16:28:33--  https://github.com/hannari-python/tutorial/raw/master/data/japan-trade-statistics/y_1997.db\n",
            "Resolving github.com (github.com)... 140.82.112.3\n",
            "Connecting to github.com (github.com)|140.82.112.3|:443... connected.\n",
            "HTTP request sent, awaiting response... 302 Found\n",
            "Location: https://media.githubusercontent.com/media/hannari-python/tutorial/master/data/japan-trade-statistics/y_1997.db [following]\n",
            "--2020-08-14 16:28:33--  https://media.githubusercontent.com/media/hannari-python/tutorial/master/data/japan-trade-statistics/y_1997.db\n",
            "Resolving media.githubusercontent.com (media.githubusercontent.com)... 151.101.0.133, 151.101.64.133, 151.101.128.133, ...\n",
            "Connecting to media.githubusercontent.com (media.githubusercontent.com)|151.101.0.133|:443... connected.\n",
            "HTTP request sent, awaiting response... 200 OK\n",
            "Length: 482275328 (460M) [application/octet-stream]\n",
            "Saving to: ‘y_1997.db’\n",
            "\n",
            "y_1997.db           100%[===================>] 459.93M   150MB/s    in 3.1s    \n",
            "\n",
            "2020-08-14 16:28:48 (150 MB/s) - ‘y_1997.db’ saved [482275328/482275328]\n",
            "\n",
            "--2020-08-14 16:28:49--  https://github.com/hannari-python/tutorial/raw/master/data/japan-trade-statistics/trade_meta_data.db\n",
            "Resolving github.com (github.com)... 140.82.112.4\n",
            "Connecting to github.com (github.com)|140.82.112.4|:443... connected.\n",
            "HTTP request sent, awaiting response... 302 Found\n",
            "Location: https://raw.githubusercontent.com/hannari-python/tutorial/master/data/japan-trade-statistics/trade_meta_data.db [following]\n",
            "--2020-08-14 16:28:49--  https://raw.githubusercontent.com/hannari-python/tutorial/master/data/japan-trade-statistics/trade_meta_data.db\n",
            "Resolving raw.githubusercontent.com (raw.githubusercontent.com)... 151.101.0.133, 151.101.64.133, 151.101.128.133, ...\n",
            "Connecting to raw.githubusercontent.com (raw.githubusercontent.com)|151.101.0.133|:443... connected.\n",
            "HTTP request sent, awaiting response... 200 OK\n",
            "Length: 2932736 (2.8M) [application/octet-stream]\n",
            "Saving to: ‘trade_meta_data.db’\n",
            "\n",
            "trade_meta_data.db  100%[===================>]   2.80M  --.-KB/s    in 0.1s    \n",
            "\n",
            "2020-08-14 16:28:49 (24.7 MB/s) - ‘trade_meta_data.db’ saved [2932736/2932736]\n",
            "\n",
            "--2020-08-14 16:28:50--  https://github.com/hannari-python/tutorial/raw/master/data/japan-trade-statistics/codes.db\n",
            "Resolving github.com (github.com)... 140.82.113.3\n",
            "Connecting to github.com (github.com)|140.82.113.3|:443... connected.\n",
            "HTTP request sent, awaiting response... 302 Found\n",
            "Location: https://raw.githubusercontent.com/hannari-python/tutorial/master/data/japan-trade-statistics/codes.db [following]\n",
            "--2020-08-14 16:28:51--  https://raw.githubusercontent.com/hannari-python/tutorial/master/data/japan-trade-statistics/codes.db\n",
            "Resolving raw.githubusercontent.com (raw.githubusercontent.com)... 151.101.0.133, 151.101.64.133, 151.101.128.133, ...\n",
            "Connecting to raw.githubusercontent.com (raw.githubusercontent.com)|151.101.0.133|:443... connected.\n",
            "HTTP request sent, awaiting response... 200 OK\n",
            "Length: 3239936 (3.1M) [application/octet-stream]\n",
            "Saving to: ‘codes.db’\n",
            "\n",
            "codes.db            100%[===================>]   3.09M  10.8MB/s    in 0.3s    \n",
            "\n",
            "2020-08-14 16:28:51 (10.8 MB/s) - ‘codes.db’ saved [3239936/3239936]\n",
            "\n"
          ],
          "name": "stdout"
        }
      ]
    },
    {
      "cell_type": "markdown",
      "metadata": {
        "id": "ddZSK3uIx4Tu",
        "colab_type": "text"
      },
      "source": [
        "## データロード"
      ]
    },
    {
      "cell_type": "code",
      "metadata": {
        "id": "42XeZJ46syAd",
        "colab_type": "code",
        "colab": {}
      },
      "source": [
        "import sqlite3\n",
        "import pandas as pd\n",
        "\n",
        "#  1997 - data\n",
        "conn = sqlite3.connect('./y_1997.db')\n",
        "cursor = conn.cursor()\n",
        "# hs code,country,hs,code\n",
        "attach = 'attach \"./trade_meta_data.db\" as code'\n",
        "cursor.execute(attach)\n",
        "# import hs,country code as pandas\n",
        "tmpl = \"{hs}_{lang}_df =  pd.read_sql('select * from code.{hs}_{lang}',conn)\"\n",
        "for hs in ['hs2','hs4','hs6','hs6','hs9']:\n",
        "    for lang in ['jpn','eng']:\n",
        "        exec(tmpl.format(hs=hs,lang=lang))        \n",
        "# country \n",
        "country_eng_df = pd.read_sql('select * from code.country_eng',conn)\n",
        "country_eng_df['Country']=country_eng_df['Country'].apply(str)\n",
        "country_jpn_df = pd.read_sql('select * from code.country_jpn',conn)\n",
        "country_jpn_df['Country']=country_jpn_df['Country'].apply(str)"
      ],
      "execution_count": 2,
      "outputs": []
    },
    {
      "cell_type": "code",
      "metadata": {
        "id": "uCEWvmOvwrxp",
        "colab_type": "code",
        "colab": {
          "base_uri": "https://localhost:8080/",
          "height": 711
        },
        "outputId": "cd61ab12-467f-4840-83be-dc3b2ede67d8"
      },
      "source": [
        "%%time\n",
        "\n",
        "import matplotlib.pyplot as plt\n",
        "import seaborn as sns\n",
        "from matplotlib import ticker\n",
        "\n",
        "# show_tables \tyear_from_1997\n",
        "# pd.read_sql(show_tables,conn_1997)\n",
        "sql=\"\"\"\n",
        "select  exp_imp,Year,sum(Value) as Value from year_from_1997\n",
        "group by Year,exp_imp\n",
        "\"\"\"[1:-1]\n",
        "xdf = pd.read_sql(sql,conn)\n",
        "\n",
        "plt.figure(figsize=(20, 10))\n",
        "ax  = sns.lineplot(x='Year',y='Value',hue='exp_imp',linewidth = 7.0,\n",
        "             palette={1: \"b\", 2: \"r\"},\n",
        "             data=xdf)\n",
        "ax.legend_._loc = 2\n",
        "ax.xaxis.set_major_locator(ticker.MultipleLocator(1)) \n",
        "print('export import from 1997')"
      ],
      "execution_count": 3,
      "outputs": [
        {
          "output_type": "stream",
          "text": [
            "/usr/local/lib/python3.6/dist-packages/statsmodels/tools/_testing.py:19: FutureWarning: pandas.util.testing is deprecated. Use the functions in the public API at pandas.testing instead.\n",
            "  import pandas.util.testing as tm\n"
          ],
          "name": "stderr"
        },
        {
          "output_type": "stream",
          "text": [
            "export import from 1997\n",
            "CPU times: user 4.1 s, sys: 357 ms, total: 4.46 s\n",
            "Wall time: 4.49 s\n"
          ],
          "name": "stdout"
        },
        {
          "output_type": "display_data",
          "data": {
            "image/png": "[encoded data removed]",
            "text/plain": [
              "<Figure size 1440x720 with 1 Axes>"
            ]
          },
          "metadata": {
            "tags": [],
            "needs_background": "light"
          }
        }
      ]
    },
    {
      "cell_type": "markdown",
      "metadata": {
        "id": "yOTEzunuahcu",
        "colab_type": "text"
      },
      "source": [
        "`country_graph`はFILLMEを入力とし、FILLMEを出力します。"
      ]
    },
    {
      "cell_type": "code",
      "metadata": {
        "id": "UEl07Qx7zsd9",
        "colab_type": "code",
        "colab": {}
      },
      "source": [
        "def country_graph(Country,title):\n",
        "    sql=\"\"\"\n",
        "    select  exp_imp,Year,sum(Value) as Value from year_from_1997\n",
        "    where Country='{Country}'\n",
        "    group by Year,exp_imp\n",
        "    \"\"\"[1:-1]\n",
        "    xdf = pd.read_sql(sql.format(Country=Country),conn)\n",
        "    plt.figure(figsize=(20, 10))\n",
        "\n",
        "    ax  = sns.lineplot(x='Year',y='Value',hue='exp_imp',linewidth = 7.0,\n",
        "             palette={1: \"b\", 2: \"r\"},\n",
        "             data=xdf)\n",
        "    ax.legend_._loc = 2\n",
        "    ax.xaxis.set_major_locator(ticker.MultipleLocator(1)) \n",
        "    print(title)"
      ],
      "execution_count": 4,
      "outputs": []
    },
    {
      "cell_type": "code",
      "metadata": {
        "id": "Mk1Vd7JAyyDd",
        "colab_type": "code",
        "colab": {
          "base_uri": "https://localhost:8080/",
          "height": 611
        },
        "outputId": "eff75028-e798-4fe0-c577-874b1c25b5d0"
      },
      "source": [
        "# China (105)\n",
        "Country = '105'\n",
        "title = 'China'\n",
        "country_graph(Country,title)"
      ],
      "execution_count": 5,
      "outputs": [
        {
          "output_type": "stream",
          "text": [
            "China\n"
          ],
          "name": "stdout"
        },
        {
          "output_type": "display_data",
          "data": {
            "image/png": "[encoded data removed]",
            "text/plain": [
              "<Figure size 1440x720 with 1 Axes>"
            ]
          },
          "metadata": {
            "tags": [],
            "needs_background": "light"
          }
        }
      ]
    },
    {
      "cell_type": "code",
      "metadata": {
        "id": "pmSQOJ30zmad",
        "colab_type": "code",
        "colab": {
          "base_uri": "https://localhost:8080/",
          "height": 1000
        },
        "outputId": "9f313456-3632-491e-89ef-9301848a0c85"
      },
      "source": [
        "xdf"
      ],
      "execution_count": null,
      "outputs": [
        {
          "output_type": "execute_result",
          "data": {
            "text/html": [
              "<div>\n",
              "<style scoped>\n",
              "    .dataframe tbody tr th:only-of-type {\n",
              "        vertical-align: middle;\n",
              "    }\n",
              "\n",
              "    .dataframe tbody tr th {\n",
              "        vertical-align: top;\n",
              "    }\n",
              "\n",
              "    .dataframe thead th {\n",
              "        text-align: right;\n",
              "    }\n",
              "</style>\n",
              "<table border=\"1\" class=\"dataframe\">\n",
              "  <thead>\n",
              "    <tr style=\"text-align: right;\">\n",
              "      <th></th>\n",
              "      <th>exp_imp</th>\n",
              "      <th>Year</th>\n",
              "      <th>Value</th>\n",
              "    </tr>\n",
              "  </thead>\n",
              "  <tbody>\n",
              "    <tr>\n",
              "      <th>0</th>\n",
              "      <td>1</td>\n",
              "      <td>1997</td>\n",
              "      <td>50937991859</td>\n",
              "    </tr>\n",
              "    <tr>\n",
              "      <th>1</th>\n",
              "      <td>2</td>\n",
              "      <td>1997</td>\n",
              "      <td>40956182573</td>\n",
              "    </tr>\n",
              "    <tr>\n",
              "      <th>2</th>\n",
              "      <td>1</td>\n",
              "      <td>1998</td>\n",
              "      <td>50645003938</td>\n",
              "    </tr>\n",
              "    <tr>\n",
              "      <th>3</th>\n",
              "      <td>2</td>\n",
              "      <td>1998</td>\n",
              "      <td>36653647183</td>\n",
              "    </tr>\n",
              "    <tr>\n",
              "      <th>4</th>\n",
              "      <td>1</td>\n",
              "      <td>1999</td>\n",
              "      <td>47547556241</td>\n",
              "    </tr>\n",
              "    <tr>\n",
              "      <th>5</th>\n",
              "      <td>2</td>\n",
              "      <td>1999</td>\n",
              "      <td>35268008063</td>\n",
              "    </tr>\n",
              "    <tr>\n",
              "      <th>6</th>\n",
              "      <td>1</td>\n",
              "      <td>2000</td>\n",
              "      <td>51654197760</td>\n",
              "    </tr>\n",
              "    <tr>\n",
              "      <th>7</th>\n",
              "      <td>2</td>\n",
              "      <td>2000</td>\n",
              "      <td>40938422968</td>\n",
              "    </tr>\n",
              "    <tr>\n",
              "      <th>8</th>\n",
              "      <td>1</td>\n",
              "      <td>2001</td>\n",
              "      <td>48979244311</td>\n",
              "    </tr>\n",
              "    <tr>\n",
              "      <th>9</th>\n",
              "      <td>2</td>\n",
              "      <td>2001</td>\n",
              "      <td>42415533002</td>\n",
              "    </tr>\n",
              "    <tr>\n",
              "      <th>10</th>\n",
              "      <td>1</td>\n",
              "      <td>2002</td>\n",
              "      <td>52108955735</td>\n",
              "    </tr>\n",
              "    <tr>\n",
              "      <th>11</th>\n",
              "      <td>2</td>\n",
              "      <td>2002</td>\n",
              "      <td>42227505945</td>\n",
              "    </tr>\n",
              "    <tr>\n",
              "      <th>12</th>\n",
              "      <td>1</td>\n",
              "      <td>2003</td>\n",
              "      <td>54548350172</td>\n",
              "    </tr>\n",
              "    <tr>\n",
              "      <th>13</th>\n",
              "      <td>2</td>\n",
              "      <td>2003</td>\n",
              "      <td>44362023352</td>\n",
              "    </tr>\n",
              "    <tr>\n",
              "      <th>14</th>\n",
              "      <td>1</td>\n",
              "      <td>2004</td>\n",
              "      <td>61169979094</td>\n",
              "    </tr>\n",
              "    <tr>\n",
              "      <th>15</th>\n",
              "      <td>2</td>\n",
              "      <td>2004</td>\n",
              "      <td>49216636346</td>\n",
              "    </tr>\n",
              "    <tr>\n",
              "      <th>16</th>\n",
              "      <td>1</td>\n",
              "      <td>2005</td>\n",
              "      <td>65656544157</td>\n",
              "    </tr>\n",
              "    <tr>\n",
              "      <th>17</th>\n",
              "      <td>2</td>\n",
              "      <td>2005</td>\n",
              "      <td>56949392181</td>\n",
              "    </tr>\n",
              "    <tr>\n",
              "      <th>18</th>\n",
              "      <td>1</td>\n",
              "      <td>2006</td>\n",
              "      <td>75246173392</td>\n",
              "    </tr>\n",
              "    <tr>\n",
              "      <th>19</th>\n",
              "      <td>2</td>\n",
              "      <td>2006</td>\n",
              "      <td>67344293072</td>\n",
              "    </tr>\n",
              "    <tr>\n",
              "      <th>20</th>\n",
              "      <td>1</td>\n",
              "      <td>2007</td>\n",
              "      <td>83931437612</td>\n",
              "    </tr>\n",
              "    <tr>\n",
              "      <th>21</th>\n",
              "      <td>2</td>\n",
              "      <td>2007</td>\n",
              "      <td>73135920427</td>\n",
              "    </tr>\n",
              "    <tr>\n",
              "      <th>22</th>\n",
              "      <td>1</td>\n",
              "      <td>2008</td>\n",
              "      <td>81018087607</td>\n",
              "    </tr>\n",
              "    <tr>\n",
              "      <th>23</th>\n",
              "      <td>2</td>\n",
              "      <td>2008</td>\n",
              "      <td>78954749926</td>\n",
              "    </tr>\n",
              "    <tr>\n",
              "      <th>24</th>\n",
              "      <td>1</td>\n",
              "      <td>2009</td>\n",
              "      <td>54170614088</td>\n",
              "    </tr>\n",
              "    <tr>\n",
              "      <th>25</th>\n",
              "      <td>2</td>\n",
              "      <td>2009</td>\n",
              "      <td>51499377779</td>\n",
              "    </tr>\n",
              "    <tr>\n",
              "      <th>26</th>\n",
              "      <td>1</td>\n",
              "      <td>2010</td>\n",
              "      <td>67399626696</td>\n",
              "    </tr>\n",
              "    <tr>\n",
              "      <th>27</th>\n",
              "      <td>2</td>\n",
              "      <td>2010</td>\n",
              "      <td>60764956840</td>\n",
              "    </tr>\n",
              "    <tr>\n",
              "      <th>28</th>\n",
              "      <td>1</td>\n",
              "      <td>2011</td>\n",
              "      <td>65546474948</td>\n",
              "    </tr>\n",
              "    <tr>\n",
              "      <th>29</th>\n",
              "      <td>2</td>\n",
              "      <td>2011</td>\n",
              "      <td>68111187178</td>\n",
              "    </tr>\n",
              "    <tr>\n",
              "      <th>30</th>\n",
              "      <td>1</td>\n",
              "      <td>2012</td>\n",
              "      <td>63747572215</td>\n",
              "    </tr>\n",
              "    <tr>\n",
              "      <th>31</th>\n",
              "      <td>2</td>\n",
              "      <td>2012</td>\n",
              "      <td>70688631840</td>\n",
              "    </tr>\n",
              "    <tr>\n",
              "      <th>32</th>\n",
              "      <td>1</td>\n",
              "      <td>2013</td>\n",
              "      <td>69774192950</td>\n",
              "    </tr>\n",
              "    <tr>\n",
              "      <th>33</th>\n",
              "      <td>2</td>\n",
              "      <td>2013</td>\n",
              "      <td>81242545171</td>\n",
              "    </tr>\n",
              "    <tr>\n",
              "      <th>34</th>\n",
              "      <td>1</td>\n",
              "      <td>2014</td>\n",
              "      <td>73093028311</td>\n",
              "    </tr>\n",
              "    <tr>\n",
              "      <th>35</th>\n",
              "      <td>2</td>\n",
              "      <td>2014</td>\n",
              "      <td>85909112733</td>\n",
              "    </tr>\n",
              "    <tr>\n",
              "      <th>36</th>\n",
              "      <td>1</td>\n",
              "      <td>2015</td>\n",
              "      <td>75613928862</td>\n",
              "    </tr>\n",
              "    <tr>\n",
              "      <th>37</th>\n",
              "      <td>2</td>\n",
              "      <td>2015</td>\n",
              "      <td>78405535793</td>\n",
              "    </tr>\n",
              "    <tr>\n",
              "      <th>38</th>\n",
              "      <td>1</td>\n",
              "      <td>2016</td>\n",
              "      <td>70035770383</td>\n",
              "    </tr>\n",
              "    <tr>\n",
              "      <th>39</th>\n",
              "      <td>2</td>\n",
              "      <td>2016</td>\n",
              "      <td>66041973885</td>\n",
              "    </tr>\n",
              "    <tr>\n",
              "      <th>40</th>\n",
              "      <td>1</td>\n",
              "      <td>2017</td>\n",
              "      <td>78286457048</td>\n",
              "    </tr>\n",
              "    <tr>\n",
              "      <th>41</th>\n",
              "      <td>2</td>\n",
              "      <td>2017</td>\n",
              "      <td>75379231107</td>\n",
              "    </tr>\n",
              "    <tr>\n",
              "      <th>42</th>\n",
              "      <td>1</td>\n",
              "      <td>2018</td>\n",
              "      <td>81478752674</td>\n",
              "    </tr>\n",
              "    <tr>\n",
              "      <th>43</th>\n",
              "      <td>2</td>\n",
              "      <td>2018</td>\n",
              "      <td>82703304395</td>\n",
              "    </tr>\n",
              "    <tr>\n",
              "      <th>44</th>\n",
              "      <td>1</td>\n",
              "      <td>2019</td>\n",
              "      <td>76927516090</td>\n",
              "    </tr>\n",
              "    <tr>\n",
              "      <th>45</th>\n",
              "      <td>2</td>\n",
              "      <td>2019</td>\n",
              "      <td>78575662713</td>\n",
              "    </tr>\n",
              "  </tbody>\n",
              "</table>\n",
              "</div>"
            ],
            "text/plain": [
              "    exp_imp  Year        Value\n",
              "0         1  1997  50937991859\n",
              "1         2  1997  40956182573\n",
              "2         1  1998  50645003938\n",
              "3         2  1998  36653647183\n",
              "4         1  1999  47547556241\n",
              "5         2  1999  35268008063\n",
              "6         1  2000  51654197760\n",
              "7         2  2000  40938422968\n",
              "8         1  2001  48979244311\n",
              "9         2  2001  42415533002\n",
              "10        1  2002  52108955735\n",
              "11        2  2002  42227505945\n",
              "12        1  2003  54548350172\n",
              "13        2  2003  44362023352\n",
              "14        1  2004  61169979094\n",
              "15        2  2004  49216636346\n",
              "16        1  2005  65656544157\n",
              "17        2  2005  56949392181\n",
              "18        1  2006  75246173392\n",
              "19        2  2006  67344293072\n",
              "20        1  2007  83931437612\n",
              "21        2  2007  73135920427\n",
              "22        1  2008  81018087607\n",
              "23        2  2008  78954749926\n",
              "24        1  2009  54170614088\n",
              "25        2  2009  51499377779\n",
              "26        1  2010  67399626696\n",
              "27        2  2010  60764956840\n",
              "28        1  2011  65546474948\n",
              "29        2  2011  68111187178\n",
              "30        1  2012  63747572215\n",
              "31        2  2012  70688631840\n",
              "32        1  2013  69774192950\n",
              "33        2  2013  81242545171\n",
              "34        1  2014  73093028311\n",
              "35        2  2014  85909112733\n",
              "36        1  2015  75613928862\n",
              "37        2  2015  78405535793\n",
              "38        1  2016  70035770383\n",
              "39        2  2016  66041973885\n",
              "40        1  2017  78286457048\n",
              "41        2  2017  75379231107\n",
              "42        1  2018  81478752674\n",
              "43        2  2018  82703304395\n",
              "44        1  2019  76927516090\n",
              "45        2  2019  78575662713"
            ]
          },
          "metadata": {
            "tags": []
          },
          "execution_count": 14
        }
      ]
    },
    {
      "cell_type": "markdown",
      "metadata": {
        "id": "zqQCVhEvz1Fx",
        "colab_type": "text"
      },
      "source": [
        "- `exp_imf`はFILLMEを\n",
        "- `Value`はFILLMEを\n",
        "\n",
        "表します"
      ]
    },
    {
      "cell_type": "code",
      "metadata": {
        "id": "FykRRKgGJwTZ",
        "colab_type": "code",
        "colab": {
          "base_uri": "https://localhost:8080/",
          "height": 415
        },
        "outputId": "462db75b-846c-4f50-e311-4735e6d05ea5"
      },
      "source": [
        "country_eng_df"
      ],
      "execution_count": 6,
      "outputs": [
        {
          "output_type": "execute_result",
          "data": {
            "text/html": [
              "<div>\n",
              "<style scoped>\n",
              "    .dataframe tbody tr th:only-of-type {\n",
              "        vertical-align: middle;\n",
              "    }\n",
              "\n",
              "    .dataframe tbody tr th {\n",
              "        vertical-align: top;\n",
              "    }\n",
              "\n",
              "    .dataframe thead th {\n",
              "        text-align: right;\n",
              "    }\n",
              "</style>\n",
              "<table border=\"1\" class=\"dataframe\">\n",
              "  <thead>\n",
              "    <tr style=\"text-align: right;\">\n",
              "      <th></th>\n",
              "      <th>Country</th>\n",
              "      <th>Country_name</th>\n",
              "      <th>Area</th>\n",
              "    </tr>\n",
              "  </thead>\n",
              "  <tbody>\n",
              "    <tr>\n",
              "      <th>0</th>\n",
              "      <td>103</td>\n",
              "      <td>Korea</td>\n",
              "      <td>Asia</td>\n",
              "    </tr>\n",
              "    <tr>\n",
              "      <th>1</th>\n",
              "      <td>104</td>\n",
              "      <td>North_Korea</td>\n",
              "      <td>Asia</td>\n",
              "    </tr>\n",
              "    <tr>\n",
              "      <th>2</th>\n",
              "      <td>105</td>\n",
              "      <td>China</td>\n",
              "      <td>Asia</td>\n",
              "    </tr>\n",
              "    <tr>\n",
              "      <th>3</th>\n",
              "      <td>106</td>\n",
              "      <td>Taiwan</td>\n",
              "      <td>Asia</td>\n",
              "    </tr>\n",
              "    <tr>\n",
              "      <th>4</th>\n",
              "      <td>107</td>\n",
              "      <td>Mongolia</td>\n",
              "      <td>Asia</td>\n",
              "    </tr>\n",
              "    <tr>\n",
              "      <th>...</th>\n",
              "      <td>...</td>\n",
              "      <td>...</td>\n",
              "      <td>...</td>\n",
              "    </tr>\n",
              "    <tr>\n",
              "      <th>227</th>\n",
              "      <td>627</td>\n",
              "      <td>Northern_Mariana_Islands_(USA)</td>\n",
              "      <td>Oceania</td>\n",
              "    </tr>\n",
              "    <tr>\n",
              "      <th>228</th>\n",
              "      <td>628</td>\n",
              "      <td>Palau</td>\n",
              "      <td>Oceania</td>\n",
              "    </tr>\n",
              "    <tr>\n",
              "      <th>229</th>\n",
              "      <td>701</td>\n",
              "      <td>For_Order</td>\n",
              "      <td>Special_Area</td>\n",
              "    </tr>\n",
              "    <tr>\n",
              "      <th>230</th>\n",
              "      <td>702</td>\n",
              "      <td>Unknown</td>\n",
              "      <td>Special_Area</td>\n",
              "    </tr>\n",
              "    <tr>\n",
              "      <th>231</th>\n",
              "      <td>703</td>\n",
              "      <td>Bonded_Manufacturing_Warehouse</td>\n",
              "      <td>Integrated_Hozei_Ar_Special_Area</td>\n",
              "    </tr>\n",
              "  </tbody>\n",
              "</table>\n",
              "<p>232 rows × 3 columns</p>\n",
              "</div>"
            ],
            "text/plain": [
              "    Country                    Country_name                              Area\n",
              "0       103                           Korea                              Asia\n",
              "1       104                     North_Korea                              Asia\n",
              "2       105                           China                              Asia\n",
              "3       106                          Taiwan                              Asia\n",
              "4       107                        Mongolia                              Asia\n",
              "..      ...                             ...                               ...\n",
              "227     627  Northern_Mariana_Islands_(USA)                           Oceania\n",
              "228     628                           Palau                           Oceania\n",
              "229     701                       For_Order                      Special_Area\n",
              "230     702                         Unknown                      Special_Area\n",
              "231     703  Bonded_Manufacturing_Warehouse  Integrated_Hozei_Ar_Special_Area\n",
              "\n",
              "[232 rows x 3 columns]"
            ]
          },
          "metadata": {
            "tags": []
          },
          "execution_count": 6
        }
      ]
    },
    {
      "cell_type": "markdown",
      "metadata": {
        "id": "vAS9OYPF0ERV",
        "colab_type": "text"
      },
      "source": [
        "`Country`列はFILLMEを表します。"
      ]
    },
    {
      "cell_type": "code",
      "metadata": {
        "id": "IFeAtmPrKJve",
        "colab_type": "code",
        "colab": {
          "base_uri": "https://localhost:8080/",
          "height": 415
        },
        "outputId": "b70439aa-fb36-4735-aa15-c0e7f3b8c04c"
      },
      "source": [
        "country_jpn_df"
      ],
      "execution_count": 7,
      "outputs": [
        {
          "output_type": "execute_result",
          "data": {
            "text/html": [
              "<div>\n",
              "<style scoped>\n",
              "    .dataframe tbody tr th:only-of-type {\n",
              "        vertical-align: middle;\n",
              "    }\n",
              "\n",
              "    .dataframe tbody tr th {\n",
              "        vertical-align: top;\n",
              "    }\n",
              "\n",
              "    .dataframe thead th {\n",
              "        text-align: right;\n",
              "    }\n",
              "</style>\n",
              "<table border=\"1\" class=\"dataframe\">\n",
              "  <thead>\n",
              "    <tr style=\"text-align: right;\">\n",
              "      <th></th>\n",
              "      <th>Country</th>\n",
              "      <th>Country_name</th>\n",
              "      <th>Area</th>\n",
              "    </tr>\n",
              "  </thead>\n",
              "  <tbody>\n",
              "    <tr>\n",
              "      <th>0</th>\n",
              "      <td>103</td>\n",
              "      <td>大韓民国</td>\n",
              "      <td>Asia</td>\n",
              "    </tr>\n",
              "    <tr>\n",
              "      <th>1</th>\n",
              "      <td>104</td>\n",
              "      <td>北朝鮮</td>\n",
              "      <td>Asia</td>\n",
              "    </tr>\n",
              "    <tr>\n",
              "      <th>2</th>\n",
              "      <td>105</td>\n",
              "      <td>中華人民共和国</td>\n",
              "      <td>Asia</td>\n",
              "    </tr>\n",
              "    <tr>\n",
              "      <th>3</th>\n",
              "      <td>106</td>\n",
              "      <td>台湾</td>\n",
              "      <td>Asia</td>\n",
              "    </tr>\n",
              "    <tr>\n",
              "      <th>4</th>\n",
              "      <td>107</td>\n",
              "      <td>モンゴル</td>\n",
              "      <td>Asia</td>\n",
              "    </tr>\n",
              "    <tr>\n",
              "      <th>...</th>\n",
              "      <td>...</td>\n",
              "      <td>...</td>\n",
              "      <td>...</td>\n",
              "    </tr>\n",
              "    <tr>\n",
              "      <th>227</th>\n",
              "      <td>627</td>\n",
              "      <td>北マリアナ諸島(米)</td>\n",
              "      <td>Oceania</td>\n",
              "    </tr>\n",
              "    <tr>\n",
              "      <th>228</th>\n",
              "      <td>628</td>\n",
              "      <td>パラオ</td>\n",
              "      <td>Oceania</td>\n",
              "    </tr>\n",
              "    <tr>\n",
              "      <th>229</th>\n",
              "      <td>701</td>\n",
              "      <td>指図式</td>\n",
              "      <td>Special_Area</td>\n",
              "    </tr>\n",
              "    <tr>\n",
              "      <th>230</th>\n",
              "      <td>702</td>\n",
              "      <td>不明</td>\n",
              "      <td>Special_Area</td>\n",
              "    </tr>\n",
              "    <tr>\n",
              "      <th>231</th>\n",
              "      <td>703</td>\n",
              "      <td>保税工場・総合保税地域</td>\n",
              "      <td>Integrated_Hozei_Ar_Special_Area</td>\n",
              "    </tr>\n",
              "  </tbody>\n",
              "</table>\n",
              "<p>232 rows × 3 columns</p>\n",
              "</div>"
            ],
            "text/plain": [
              "    Country Country_name                              Area\n",
              "0       103         大韓民国                              Asia\n",
              "1       104          北朝鮮                              Asia\n",
              "2       105      中華人民共和国                              Asia\n",
              "3       106           台湾                              Asia\n",
              "4       107         モンゴル                              Asia\n",
              "..      ...          ...                               ...\n",
              "227     627   北マリアナ諸島(米)                           Oceania\n",
              "228     628          パラオ                           Oceania\n",
              "229     701          指図式                      Special_Area\n",
              "230     702           不明                      Special_Area\n",
              "231     703  保税工場・総合保税地域  Integrated_Hozei_Ar_Special_Area\n",
              "\n",
              "[232 rows x 3 columns]"
            ]
          },
          "metadata": {
            "tags": []
          },
          "execution_count": 7
        }
      ]
    },
    {
      "cell_type": "markdown",
      "metadata": {
        "id": "9PayerZ9KTcL",
        "colab_type": "text"
      },
      "source": [
        "## データの変換\n",
        "\n",
        "機械学習を適用しやすいようにデータを変換します。まず、国名の配列を取得します。"
      ]
    },
    {
      "cell_type": "code",
      "metadata": {
        "id": "B-sMrkkYSfsE",
        "colab_type": "code",
        "colab": {}
      },
      "source": [
        "countries = country_eng_df[\"Country_name\"].values\n",
        "country_ids = country_eng_df[\"Country\"].values"
      ],
      "execution_count": 8,
      "outputs": []
    },
    {
      "cell_type": "markdown",
      "metadata": {
        "id": "GvduRvn7U07E",
        "colab_type": "text"
      },
      "source": [
        "最後の三つは国以外の情報のようなので、国名から削除します。"
      ]
    },
    {
      "cell_type": "code",
      "metadata": {
        "id": "VNRtPXfWU2xF",
        "colab_type": "code",
        "colab": {
          "base_uri": "https://localhost:8080/",
          "height": 53
        },
        "outputId": "44ffa448-7280-47c3-f8f9-fc52ef28a4fd"
      },
      "source": [
        "countries[-3:]"
      ],
      "execution_count": 9,
      "outputs": [
        {
          "output_type": "execute_result",
          "data": {
            "text/plain": [
              "array(['For_Order', 'Unknown', 'Bonded_Manufacturing_Warehouse'],\n",
              "      dtype=object)"
            ]
          },
          "metadata": {
            "tags": []
          },
          "execution_count": 9
        }
      ]
    },
    {
      "cell_type": "code",
      "metadata": {
        "id": "9g2KosM6VZOG",
        "colab_type": "code",
        "colab": {
          "base_uri": "https://localhost:8080/",
          "height": 53
        },
        "outputId": "75f5ec85-cffa-4059-c711-55a80cc93033"
      },
      "source": [
        "countries = countries[:-3]\n",
        "country_ids = country_ids[:-3]\n",
        "countries[-3:]"
      ],
      "execution_count": 10,
      "outputs": [
        {
          "output_type": "execute_result",
          "data": {
            "text/plain": [
              "array(['Micronesia', 'Northern_Mariana_Islands_(USA)', 'Palau'],\n",
              "      dtype=object)"
            ]
          },
          "metadata": {
            "tags": []
          },
          "execution_count": 10
        }
      ]
    },
    {
      "cell_type": "markdown",
      "metadata": {
        "id": "htGHRAm8XZvL",
        "colab_type": "text"
      },
      "source": [
        ""
      ]
    },
    {
      "cell_type": "markdown",
      "metadata": {
        "id": "28qv_fhqVpFO",
        "colab_type": "text"
      },
      "source": [
        "SQLでデータを取得し、numpy配列に保存します。"
      ]
    },
    {
      "cell_type": "code",
      "metadata": {
        "id": "eYnxHGmwV1Rs",
        "colab_type": "code",
        "colab": {
          "base_uri": "https://localhost:8080/",
          "height": 1000
        },
        "outputId": "15b22de8-31b6-41a0-ba26-6a28b6d3fdd4"
      },
      "source": [
        "sql=\"\"\"\n",
        "  select  exp_imp,Year,sum(Value) as Value from year_from_1997\n",
        "  where Country='{Country}'\n",
        "  group by Year,exp_imp\n",
        "  \"\"\"[1:-1]\n",
        "\n",
        "ys1_all = [] # \"1\" の年\n",
        "ys2_all = [] # \"2\" の年\n",
        "vs1_all = [] # \"1\" の数値\n",
        "vs2_all = [] # \"2\" の数値\n",
        "\n",
        "for c in country_ids:\n",
        "  xdf = pd.read_sql(sql.format(Country=c),conn)\n",
        "  print(c)\n",
        "  ys1 = xdf[xdf[\"exp_imp\"] == 1][\"Year\"].values\n",
        "  vs1 = xdf[xdf[\"exp_imp\"] == 1][\"Value\"].values\n",
        "  ys2 = xdf[xdf[\"exp_imp\"] == 2][\"Year\"].values\n",
        "  vs2 = xdf[xdf[\"exp_imp\"] == 2][\"Value\"].values\n",
        "  ys1_all.append(ys1)\n",
        "  ys2_all.append(ys2)\n",
        "  vs1_all.append(vs1)\n",
        "  vs2_all.append(vs2)"
      ],
      "execution_count": 11,
      "outputs": [
        {
          "output_type": "stream",
          "text": [
            "103\n",
            "104\n",
            "105\n",
            "106\n",
            "107\n",
            "108\n",
            "110\n",
            "111\n",
            "112\n",
            "113\n",
            "116\n",
            "117\n",
            "118\n",
            "120\n",
            "121\n",
            "122\n",
            "123\n",
            "124\n",
            "125\n",
            "126\n",
            "127\n",
            "128\n",
            "129\n",
            "130\n",
            "131\n",
            "132\n",
            "133\n",
            "134\n",
            "135\n",
            "137\n",
            "138\n",
            "140\n",
            "141\n",
            "143\n",
            "144\n",
            "145\n",
            "146\n",
            "147\n",
            "149\n",
            "150\n",
            "151\n",
            "152\n",
            "153\n",
            "154\n",
            "155\n",
            "156\n",
            "157\n",
            "158\n",
            "201\n",
            "202\n",
            "203\n",
            "204\n",
            "205\n",
            "206\n",
            "207\n",
            "208\n",
            "209\n",
            "210\n",
            "211\n",
            "212\n",
            "213\n",
            "215\n",
            "216\n",
            "217\n",
            "218\n",
            "219\n",
            "220\n",
            "221\n",
            "222\n",
            "223\n",
            "224\n",
            "225\n",
            "227\n",
            "228\n",
            "229\n",
            "230\n",
            "231\n",
            "232\n",
            "233\n",
            "234\n",
            "235\n",
            "236\n",
            "237\n",
            "238\n",
            "239\n",
            "240\n",
            "241\n",
            "242\n",
            "243\n",
            "244\n",
            "245\n",
            "246\n",
            "247\n",
            "248\n",
            "301\n",
            "302\n",
            "303\n",
            "304\n",
            "305\n",
            "306\n",
            "307\n",
            "308\n",
            "309\n",
            "310\n",
            "311\n",
            "312\n",
            "314\n",
            "315\n",
            "316\n",
            "317\n",
            "319\n",
            "320\n",
            "321\n",
            "322\n",
            "323\n",
            "324\n",
            "325\n",
            "326\n",
            "327\n",
            "328\n",
            "329\n",
            "330\n",
            "331\n",
            "332\n",
            "333\n",
            "334\n",
            "335\n",
            "336\n",
            "337\n",
            "401\n",
            "402\n",
            "403\n",
            "404\n",
            "405\n",
            "406\n",
            "407\n",
            "408\n",
            "409\n",
            "410\n",
            "411\n",
            "412\n",
            "413\n",
            "414\n",
            "415\n",
            "501\n",
            "502\n",
            "503\n",
            "504\n",
            "505\n",
            "506\n",
            "507\n",
            "508\n",
            "509\n",
            "510\n",
            "511\n",
            "512\n",
            "513\n",
            "514\n",
            "515\n",
            "516\n",
            "517\n",
            "518\n",
            "519\n",
            "520\n",
            "521\n",
            "522\n",
            "523\n",
            "524\n",
            "525\n",
            "526\n",
            "527\n",
            "528\n",
            "529\n",
            "530\n",
            "531\n",
            "532\n",
            "533\n",
            "534\n",
            "535\n",
            "536\n",
            "537\n",
            "538\n",
            "539\n",
            "540\n",
            "541\n",
            "542\n",
            "543\n",
            "544\n",
            "545\n",
            "546\n",
            "547\n",
            "548\n",
            "549\n",
            "550\n",
            "551\n",
            "552\n",
            "553\n",
            "554\n",
            "555\n",
            "556\n",
            "557\n",
            "558\n",
            "559\n",
            "560\n",
            "601\n",
            "602\n",
            "605\n",
            "606\n",
            "607\n",
            "608\n",
            "609\n",
            "610\n",
            "611\n",
            "612\n",
            "613\n",
            "614\n",
            "615\n",
            "616\n",
            "617\n",
            "618\n",
            "619\n",
            "620\n",
            "621\n",
            "622\n",
            "624\n",
            "625\n",
            "626\n",
            "627\n",
            "628\n"
          ],
          "name": "stdout"
        }
      ]
    },
    {
      "cell_type": "markdown",
      "metadata": {
        "id": "FUFEivkQcVkP",
        "colab_type": "text"
      },
      "source": [
        "データ長の種類を確認します。"
      ]
    },
    {
      "cell_type": "code",
      "metadata": {
        "id": "tJi1kWpCdjH8",
        "colab_type": "code",
        "colab": {
          "base_uri": "https://localhost:8080/",
          "height": 449
        },
        "outputId": "bbd58319-4018-4e43-f699-131e3f1b44e7"
      },
      "source": [
        "import numpy as np\n",
        "for n in np.unique([len(c) for c in ys1_all]):\n",
        "  print(\"len(years) = {}: n = {}\".format(n, len([1 for y in ys1_all if len(y) == n])))\n",
        "  print(\"len(years) = {}: n = {}\".format(n, len([1 for y in ys2_all if len(y) == n])))"
      ],
      "execution_count": 12,
      "outputs": [
        {
          "output_type": "stream",
          "text": [
            "len(years) = 6: n = 1\n",
            "len(years) = 6: n = 0\n",
            "len(years) = 8: n = 1\n",
            "len(years) = 8: n = 1\n",
            "len(years) = 9: n = 2\n",
            "len(years) = 9: n = 1\n",
            "len(years) = 10: n = 1\n",
            "len(years) = 10: n = 1\n",
            "len(years) = 11: n = 2\n",
            "len(years) = 11: n = 1\n",
            "len(years) = 13: n = 2\n",
            "len(years) = 13: n = 1\n",
            "len(years) = 14: n = 1\n",
            "len(years) = 14: n = 2\n",
            "len(years) = 19: n = 2\n",
            "len(years) = 19: n = 3\n",
            "len(years) = 20: n = 1\n",
            "len(years) = 20: n = 2\n",
            "len(years) = 21: n = 1\n",
            "len(years) = 21: n = 10\n",
            "len(years) = 22: n = 1\n",
            "len(years) = 22: n = 8\n",
            "len(years) = 23: n = 214\n",
            "len(years) = 23: n = 188\n"
          ],
          "name": "stdout"
        }
      ]
    },
    {
      "cell_type": "markdown",
      "metadata": {
        "id": "3_jTXY4vgpIV",
        "colab_type": "text"
      },
      "source": [
        "多くの国（188）で、\"1\"と\"2\"の両方で23年分のデータがあります。MLを適用するためには固定長のデータが都合が良いので、データをスクリーニングします。最初に年度の配列を作成します。"
      ]
    },
    {
      "cell_type": "code",
      "metadata": {
        "id": "dmpO-QUBd6Jn",
        "colab_type": "code",
        "colab": {}
      },
      "source": [
        "ys = np.array([1997, 1998, 1999, 2000, 2001, 2002, 2003, 2004, 2005, 2006, 2007, 2008, 2009, 2010, 2011, 2012, 2013, 2014, 2015, 2016, 2017, 2018, 2019])"
      ],
      "execution_count": 13,
      "outputs": []
    },
    {
      "cell_type": "markdown",
      "metadata": {
        "id": "En2HpL6beKkY",
        "colab_type": "text"
      },
      "source": [
        "国を年度でスクリーニングします。"
      ]
    },
    {
      "cell_type": "code",
      "metadata": {
        "id": "koga-4S-eZj2",
        "colab_type": "code",
        "colab": {}
      },
      "source": [
        "ys1_all2 = []\n",
        "ys2_all2 = []\n",
        "vs1_all2 = []\n",
        "vs2_all2 = []\n",
        "\n",
        "for ys1_, ys2_, vs1_, vs2_ in zip(ys1_all, ys2_all, vs1_all, vs2_all):\n",
        "  cond1 = set(ys1_) == set(ys)\n",
        "  cond2 = set(ys2_) == set(ys)\n",
        "  if cond1 and cond2:\n",
        "    assert (ys1_ - ys).sum() == 0 and (ys2_ - ys).sum() == 0\n",
        "    vs1_all2.append(vs1_)\n",
        "    vs2_all2.append(vs2_)"
      ],
      "execution_count": 14,
      "outputs": []
    },
    {
      "cell_type": "markdown",
      "metadata": {
        "id": "kRX2inCsj7f1",
        "colab_type": "text"
      },
      "source": [
        "データを行列に変換します。これで187"
      ]
    },
    {
      "cell_type": "code",
      "metadata": {
        "id": "5QOiej_6fe16",
        "colab_type": "code",
        "colab": {}
      },
      "source": [
        "vs1_all3 = np.vstack(vs1_all2)\n",
        "vs2_all3 = np.vstack(vs2_all2)\n",
        "assert vs1_all3.shape == vs2_all3.shape == (187, 23)"
      ],
      "execution_count": 15,
      "outputs": []
    },
    {
      "cell_type": "markdown",
      "metadata": {
        "id": "fO53cednfgUp",
        "colab_type": "text"
      },
      "source": [
        "クラスタリングを実行します。"
      ]
    },
    {
      "cell_type": "code",
      "metadata": {
        "id": "DdNjEe0wfkOc",
        "colab_type": "code",
        "colab": {}
      },
      "source": [
        "from sklearn.cluster import KMeans\n",
        "model = KMeans(n_clusters=5)\n",
        "labels = model.fit_predict(vs1_all3)"
      ],
      "execution_count": 16,
      "outputs": []
    },
    {
      "cell_type": "markdown",
      "metadata": {
        "id": "ay3UCbgUluLC",
        "colab_type": "text"
      },
      "source": [
        "ほとんどの国が同じクラス（ラベル0）に分類されました。"
      ]
    },
    {
      "cell_type": "code",
      "metadata": {
        "id": "VEotZFjTlHRT",
        "colab_type": "code",
        "colab": {
          "base_uri": "https://localhost:8080/",
          "height": 179
        },
        "outputId": "4f9bb2b3-1ddc-45c5-e6b0-78f00824b081"
      },
      "source": [
        "labels"
      ],
      "execution_count": 17,
      "outputs": [
        {
          "output_type": "execute_result",
          "data": {
            "text/plain": [
              "array([2, 1, 2, 0, 2, 4, 2, 4, 4, 0, 4, 4, 0, 0, 0, 4, 0, 0, 0, 0, 0, 0,\n",
              "       0, 0, 0, 0, 0, 0, 0, 0, 0, 0, 0, 0, 0, 4, 0, 0, 0, 0, 0, 0, 0, 0,\n",
              "       0, 0, 0, 0, 0, 4, 0, 4, 4, 0, 4, 0, 4, 0, 0, 0, 0, 0, 0, 0, 4, 0,\n",
              "       0, 0, 0, 0, 0, 0, 0, 0, 0, 0, 0, 0, 0, 0, 0, 0, 0, 0, 0, 0, 4, 3,\n",
              "       4, 0, 0, 0, 0, 0, 0, 4, 0, 0, 0, 0, 0, 0, 0, 0, 0, 0, 0, 0, 0, 0,\n",
              "       0, 0, 0, 0, 0, 0, 0, 0, 0, 0, 0, 0, 0, 0, 0, 0, 0, 0, 0, 0, 0, 0,\n",
              "       0, 0, 0, 0, 0, 0, 0, 0, 0, 0, 0, 0, 0, 0, 0, 0, 0, 0, 0, 0, 0, 0,\n",
              "       0, 0, 0, 0, 0, 0, 0, 0, 0, 0, 0, 0, 0, 0, 4, 0, 0, 0, 0, 0, 0, 0,\n",
              "       0, 0, 0, 0, 0, 0, 0, 0, 0, 0, 0], dtype=int32)"
            ]
          },
          "metadata": {
            "tags": []
          },
          "execution_count": 17
        }
      ]
    },
    {
      "cell_type": "markdown",
      "metadata": {
        "id": "JdaVuMFRlpXL",
        "colab_type": "text"
      },
      "source": [
        "クラス平均ベクトルをプロットします。"
      ]
    },
    {
      "cell_type": "code",
      "metadata": {
        "id": "2Qs3nUWol7ni",
        "colab_type": "code",
        "colab": {
          "base_uri": "https://localhost:8080/",
          "height": 294
        },
        "outputId": "077c8ec0-7660-4ca3-dd5f-25c410bf60bd"
      },
      "source": [
        "import matplotlib.pyplot as plt\n",
        "for i in np.arange(5):\n",
        "  plt.plot(model.cluster_centers_[i, :], label=\"Cluster {}\".format(i))\n",
        "plt.legend()"
      ],
      "execution_count": 18,
      "outputs": [
        {
          "output_type": "execute_result",
          "data": {
            "text/plain": [
              "<matplotlib.legend.Legend at 0x7f9f124f65c0>"
            ]
          },
          "metadata": {
            "tags": []
          },
          "execution_count": 18
        },
        {
          "output_type": "display_data",
          "data": {
            "image/png": "[encoded data removed]",
            "text/plain": [
              "<Figure size 432x288 with 1 Axes>"
            ]
          },
          "metadata": {
            "tags": [],
            "needs_background": "light"
          }
        }
      ]
    },
    {
      "cell_type": "markdown",
      "metadata": {
        "id": "G5fmekUumJZL",
        "colab_type": "text"
      },
      "source": [
        "貿易量の多さで分類されているようです。これでも意味はありますが、時間的な傾向の違いで分類したい場合、何らかの方法でデータを正規化するのが良いでしょう。"
      ]
    },
    {
      "cell_type": "code",
      "metadata": {
        "id": "mFFhwo-PnDg1",
        "colab_type": "code",
        "colab": {}
      },
      "source": [
        ""
      ],
      "execution_count": null,
      "outputs": []
    },
    {
      "cell_type": "markdown",
      "metadata": {
        "id": "Be7WRSu5qC1q",
        "colab_type": "text"
      },
      "source": [
        "参考：https://qiita.com/katsu1110/items/a8d508a1b6f07bd3a243"
      ]
    },
    {
      "cell_type": "markdown",
      "metadata": {
        "id": "uCNvmo-TrN3c",
        "colab_type": "text"
      },
      "source": [
        "## Kaggle APIのための設定\n",
        "\n",
        "最初のセルでKaggle APIトークンをgoogle colabのサーバにアップロードします。"
      ]
    },
    {
      "cell_type": "code",
      "metadata": {
        "id": "bfPRAYwFqF_d",
        "colab_type": "code",
        "colab": {
          "resources": {
            "http://localhost:8080/nbextensions/google.colab/files.js": {
              "data": "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",
              "ok": true,
              "headers": [
                [
                  "content-type",
                  "application/javascript"
                ]
              ],
              "status": 200,
              "status_text": "OK"
            }
          },
          "base_uri": "https://localhost:8080/",
          "height": 90
        },
        "outputId": "ef9f42f2-f512-4039-a86b-fd48057a042d"
      },
      "source": [
        "from google.colab import files\n",
        "files.upload()"
      ],
      "execution_count": null,
      "outputs": [
        {
          "output_type": "display_data",
          "data": {
            "text/html": [
              "\n",
              "     <input type=\"file\" id=\"files-df7f9b7e-21dc-4b1f-a5d5-2fef4b1e9a63\" name=\"files[]\" multiple disabled\n",
              "        style=\"border:none\" />\n",
              "     <output id=\"result-df7f9b7e-21dc-4b1f-a5d5-2fef4b1e9a63\">\n",
              "      Upload widget is only available when the cell has been executed in the\n",
              "      current browser session. Please rerun this cell to enable.\n",
              "      </output>\n",
              "      <script src=\"/nbextensions/google.colab/files.js\"></script> "
            ],
            "text/plain": [
              "<IPython.core.display.HTML object>"
            ]
          },
          "metadata": {
            "tags": []
          }
        },
        {
          "output_type": "stream",
          "text": [
            "Saving kaggle.json to kaggle.json\n"
          ],
          "name": "stdout"
        },
        {
          "output_type": "execute_result",
          "data": {
            "text/plain": [
              "{'kaggle.json': b'{\"username\":\"takuyoshioka\",\"key\":\"b9bcf561725a96bd55f565c1ce19537d\"}'}"
            ]
          },
          "metadata": {
            "tags": []
          },
          "execution_count": 1
        }
      ]
    },
    {
      "cell_type": "code",
      "metadata": {
        "id": "YomjgM-Jq_GU",
        "colab_type": "code",
        "colab": {}
      },
      "source": [
        "!mkdir -p ~/.kaggle\n",
        "!mv kaggle.json ~/.kaggle\n",
        "!chmod 600 /root/.kaggle/kaggle.json"
      ],
      "execution_count": null,
      "outputs": []
    },
    {
      "cell_type": "code",
      "metadata": {
        "id": "WisEB7D-rK2j",
        "colab_type": "code",
        "colab": {
          "base_uri": "https://localhost:8080/",
          "height": 223
        },
        "outputId": "0f23a255-b0ba-466e-a19d-0f8500634a3c"
      },
      "source": [
        "!pip install kaggle"
      ],
      "execution_count": null,
      "outputs": [
        {
          "output_type": "stream",
          "text": [
            "Requirement already satisfied: kaggle in /usr/local/lib/python3.6/dist-packages (1.5.6)\n",
            "Requirement already satisfied: requests in /usr/local/lib/python3.6/dist-packages (from kaggle) (2.23.0)\n",
            "Requirement already satisfied: six>=1.10 in /usr/local/lib/python3.6/dist-packages (from kaggle) (1.15.0)\n",
            "Requirement already satisfied: certifi in /usr/local/lib/python3.6/dist-packages (from kaggle) (2020.6.20)\n",
            "Requirement already satisfied: tqdm in /usr/local/lib/python3.6/dist-packages (from kaggle) (4.41.1)\n",
            "Requirement already satisfied: python-dateutil in /usr/local/lib/python3.6/dist-packages (from kaggle) (2.8.1)\n",
            "Requirement already satisfied: urllib3<1.25,>=1.21.1 in /usr/local/lib/python3.6/dist-packages (from kaggle) (1.24.3)\n",
            "Requirement already satisfied: python-slugify in /usr/local/lib/python3.6/dist-packages (from kaggle) (4.0.1)\n",
            "Requirement already satisfied: idna<3,>=2.5 in /usr/local/lib/python3.6/dist-packages (from requests->kaggle) (2.10)\n",
            "Requirement already satisfied: chardet<4,>=3.0.2 in /usr/local/lib/python3.6/dist-packages (from requests->kaggle) (3.0.4)\n",
            "Requirement already satisfied: text-unidecode>=1.3 in /usr/local/lib/python3.6/dist-packages (from python-slugify->kaggle) (1.3)\n"
          ],
          "name": "stdout"
        }
      ]
    },
    {
      "cell_type": "code",
      "metadata": {
        "id": "1YvkHgGLr1A5",
        "colab_type": "code",
        "colab": {
          "base_uri": "https://localhost:8080/",
          "height": 73
        },
        "outputId": "924304d0-4b9f-4174-8616-77c1b7904737"
      },
      "source": [
        "!kaggle datasets download -d zanjibar/japan-trade-statistics"
      ],
      "execution_count": null,
      "outputs": [
        {
          "output_type": "stream",
          "text": [
            "Downloading japan-trade-statistics.zip to /content\n",
            " 99% 691M/697M [00:24<00:00, 29.8MB/s]\n",
            "100% 697M/697M [00:24<00:00, 29.7MB/s]\n"
          ],
          "name": "stdout"
        }
      ]
    },
    {
      "cell_type": "markdown",
      "metadata": {
        "id": "QxKEIo7Wtayl",
        "colab_type": "text"
      },
      "source": [
        "## Japan trade statisticsデータのダウンロード\n",
        "\n",
        "Kaggleのサイトにある[データ可視化の例](https://www.kaggle.com/zanjibar/year-1997-top-20-export-import-graph)を試すため、Kaggleのサイトからデータをダウンロードします。"
      ]
    },
    {
      "cell_type": "code",
      "metadata": {
        "id": "5bryDVcIsJwx",
        "colab_type": "code",
        "colab": {
          "base_uri": "https://localhost:8080/",
          "height": 36
        },
        "outputId": "a62fbfcc-8919-4bda-833f-e4c392950dde"
      },
      "source": [
        "!pwd"
      ],
      "execution_count": null,
      "outputs": [
        {
          "output_type": "stream",
          "text": [
            "/content\n"
          ],
          "name": "stdout"
        }
      ]
    },
    {
      "cell_type": "code",
      "metadata": {
        "id": "-ypVhYH5sqgI",
        "colab_type": "code",
        "colab": {
          "base_uri": "https://localhost:8080/",
          "height": 73
        },
        "outputId": "d4217bb5-cb28-412f-af27-e11ef32c78d2"
      },
      "source": [
        "!ls sample_data"
      ],
      "execution_count": null,
      "outputs": [
        {
          "output_type": "stream",
          "text": [
            "anscombe.json\t\t      mnist_test.csv\n",
            "california_housing_test.csv   mnist_train_small.csv\n",
            "california_housing_train.csv  README.md\n"
          ],
          "name": "stdout"
        }
      ]
    },
    {
      "cell_type": "code",
      "metadata": {
        "id": "p7lvIOOcswJ6",
        "colab_type": "code",
        "colab": {
          "base_uri": "https://localhost:8080/",
          "height": 167
        },
        "outputId": "7a06bb01-daa0-477c-f3cf-e7d87566d11f"
      },
      "source": [
        "!unzip japan-trade-statistics.zip"
      ],
      "execution_count": null,
      "outputs": [
        {
          "output_type": "stream",
          "text": [
            "Archive:  japan-trade-statistics.zip\n",
            "  inflating: codes.db                \n",
            "  inflating: custom_2020.db          \n",
            "  inflating: custom_from_2012.db     \n",
            "  inflating: y_1997.db               \n",
            "  inflating: ym_2018.db              \n",
            "  inflating: ym_2019.db              \n",
            "  inflating: ym_2020.db              \n"
          ],
          "name": "stdout"
        }
      ]
    },
    {
      "cell_type": "code",
      "metadata": {
        "id": "3y5X8uhLxisj",
        "colab_type": "code",
        "colab": {
          "base_uri": "https://localhost:8080/",
          "height": 73
        },
        "outputId": "9ae19705-246e-403d-95c1-48f957a9ff2b"
      },
      "source": [
        "!kaggle datasets download -d zanjibar/japantradestatistics2"
      ],
      "execution_count": null,
      "outputs": [
        {
          "output_type": "stream",
          "text": [
            "Downloading japantradestatistics2.zip to /content\n",
            "\r  0% 0.00/834k [00:00<?, ?B/s]\n",
            "\r100% 834k/834k [00:00<00:00, 56.3MB/s]\n"
          ],
          "name": "stdout"
        }
      ]
    },
    {
      "cell_type": "code",
      "metadata": {
        "id": "TFAZKHsbxm3b",
        "colab_type": "code",
        "colab": {
          "base_uri": "https://localhost:8080/",
          "height": 73
        },
        "outputId": "52628c71-5b3e-4289-a17f-03c3aaceed40"
      },
      "source": [
        "!unzip japantradestatistics2.zip"
      ],
      "execution_count": null,
      "outputs": [
        {
          "output_type": "stream",
          "text": [
            "Archive:  japantradestatistics2.zip\n",
            "  inflating: check_data_1979.db      \n",
            "  inflating: trade_meta_data.db      \n"
          ],
          "name": "stdout"
        }
      ]
    }
  ]
}