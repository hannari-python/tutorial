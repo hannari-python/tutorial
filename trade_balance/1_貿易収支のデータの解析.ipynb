{
  "nbformat": 4,
  "nbformat_minor": 0,
  "metadata": {
    "colab": {
      "name": "1. 貿易収支のデータの解析",
      "provenance": [],
      "include_colab_link": true
    },
    "kernelspec": {
      "name": "python3",
      "display_name": "Python 3"
    }
  },
  "cells": [
    {
      "cell_type": "markdown",
      "metadata": {
        "id": "view-in-github",
        "colab_type": "text"
      },
      "source": [
        "<a href=\"https://colab.research.google.com/github/hannari-python/tutorial/blob/master/trade_balance/1_%E8%B2%BF%E6%98%93%E5%8F%8E%E6%94%AF%E3%81%AE%E3%83%87%E3%83%BC%E3%82%BF%E3%81%AE%E8%A7%A3%E6%9E%90.ipynb\" target=\"_parent\"><img src=\"https://colab.research.google.com/assets/colab-badge.svg\" alt=\"Open In Colab\"/></a>"
      ]
    },
    {
      "cell_type": "markdown",
      "metadata": {
        "id": "bFA_PvfXRIsG",
        "colab_type": "text"
      },
      "source": [
        "ここでは貿易収支のデータを解析します。\n",
        "データは\n",
        "https://www.customs.go.jp/toukei/shinbun/trade-st/timeseries_202005.csv\n",
        "にあります。\n"
      ]
    },
    {
      "cell_type": "markdown",
      "metadata": {
        "id": "K3ew9A5bQvLu",
        "colab_type": "text"
      },
      "source": [
        "## データの前処理\n",
        "pandasはデータの読み書きや整形を行うpython packageです。\n",
        "このpackageを使うには下記を実行します。"
      ]
    },
    {
      "cell_type": "code",
      "metadata": {
        "id": "JXlXyDDdQATo",
        "colab_type": "code",
        "colab": {}
      },
      "source": [
        "import pandas as pd"
      ],
      "execution_count": 21,
      "outputs": []
    },
    {
      "cell_type": "code",
      "metadata": {
        "id": "Y8sKWXZboLU6",
        "colab_type": "code",
        "colab": {
          "base_uri": "https://localhost:8080/",
          "height": 89
        },
        "outputId": "73ee2ab4-dcab-49b0-dd58-3f9f59130126"
      },
      "source": [
        "!pip install plotly==4.9.0 # plotlyのバージョンを新しいものにする"
      ],
      "execution_count": 22,
      "outputs": [
        {
          "output_type": "stream",
          "text": [
            "Requirement already satisfied: plotly==4.9.0 in /usr/local/lib/python3.6/dist-packages (4.9.0)\n",
            "Requirement already satisfied: retrying>=1.3.3 in /usr/local/lib/python3.6/dist-packages (from plotly==4.9.0) (1.3.3)\n",
            "Requirement already satisfied: six in /usr/local/lib/python3.6/dist-packages (from plotly==4.9.0) (1.12.0)\n"
          ],
          "name": "stdout"
        }
      ]
    },
    {
      "cell_type": "markdown",
      "metadata": {
        "id": "K9YhjGq7j7tK",
        "colab_type": "text"
      },
      "source": [
        "csvデータをpandasで読むには read_csvという関数を使います。\n",
        "\n",
        "read_csvの使い方は下記のように調べたいものの前に`?`を書き実行することで調べることができます。"
      ]
    },
    {
      "cell_type": "code",
      "metadata": {
        "id": "TMrMJPTzkJRG",
        "colab_type": "code",
        "colab": {}
      },
      "source": [
        "?pd.read_csv"
      ],
      "execution_count": 23,
      "outputs": []
    },
    {
      "cell_type": "markdown",
      "metadata": {
        "id": "NcoIu0IQlNTn",
        "colab_type": "text"
      },
      "source": [
        "単にcsv fileの在り処だけを指定して実行してみましょう。\n",
        "左辺のdfは`DataFrame`の省略です。\n",
        "(pandasの)`DataFrame`はテーブルデータを格納するクラスの名前です。"
      ]
    },
    {
      "cell_type": "code",
      "metadata": {
        "id": "nTDk41MlTHxi",
        "colab_type": "code",
        "colab": {
          "base_uri": "https://localhost:8080/",
          "height": 385
        },
        "outputId": "ae1f6a1b-ddec-491b-af30-b99e9b5fb155"
      },
      "source": [
        "df = pd.read_csv(\"https://www.customs.go.jp/toukei/shinbun/trade-st/timeseries_202005.csv\")"
      ],
      "execution_count": 24,
      "outputs": [
        {
          "output_type": "error",
          "ename": "UnicodeDecodeError",
          "evalue": "ignored",
          "traceback": [
            "\u001b[0;31m---------------------------------------------------------------------------\u001b[0m",
            "\u001b[0;31mUnicodeDecodeError\u001b[0m                        Traceback (most recent call last)",
            "\u001b[0;32m<ipython-input-24-9e6665e9de79>\u001b[0m in \u001b[0;36m<module>\u001b[0;34m()\u001b[0m\n\u001b[0;32m----> 1\u001b[0;31m \u001b[0mdf\u001b[0m \u001b[0;34m=\u001b[0m \u001b[0mpd\u001b[0m\u001b[0;34m.\u001b[0m\u001b[0mread_csv\u001b[0m\u001b[0;34m(\u001b[0m\u001b[0;34m\"https://www.customs.go.jp/toukei/shinbun/trade-st/timeseries_202005.csv\"\u001b[0m\u001b[0;34m)\u001b[0m\u001b[0;34m\u001b[0m\u001b[0;34m\u001b[0m\u001b[0m\n\u001b[0m",
            "\u001b[0;32m/usr/local/lib/python3.6/dist-packages/pandas/io/parsers.py\u001b[0m in \u001b[0;36mparser_f\u001b[0;34m(filepath_or_buffer, sep, delimiter, header, names, index_col, usecols, squeeze, prefix, mangle_dupe_cols, dtype, engine, converters, true_values, false_values, skipinitialspace, skiprows, skipfooter, nrows, na_values, keep_default_na, na_filter, verbose, skip_blank_lines, parse_dates, infer_datetime_format, keep_date_col, date_parser, dayfirst, cache_dates, iterator, chunksize, compression, thousands, decimal, lineterminator, quotechar, quoting, doublequote, escapechar, comment, encoding, dialect, error_bad_lines, warn_bad_lines, delim_whitespace, low_memory, memory_map, float_precision)\u001b[0m\n\u001b[1;32m    674\u001b[0m         )\n\u001b[1;32m    675\u001b[0m \u001b[0;34m\u001b[0m\u001b[0m\n\u001b[0;32m--> 676\u001b[0;31m         \u001b[0;32mreturn\u001b[0m \u001b[0m_read\u001b[0m\u001b[0;34m(\u001b[0m\u001b[0mfilepath_or_buffer\u001b[0m\u001b[0;34m,\u001b[0m \u001b[0mkwds\u001b[0m\u001b[0;34m)\u001b[0m\u001b[0;34m\u001b[0m\u001b[0;34m\u001b[0m\u001b[0m\n\u001b[0m\u001b[1;32m    677\u001b[0m \u001b[0;34m\u001b[0m\u001b[0m\n\u001b[1;32m    678\u001b[0m     \u001b[0mparser_f\u001b[0m\u001b[0;34m.\u001b[0m\u001b[0m__name__\u001b[0m \u001b[0;34m=\u001b[0m \u001b[0mname\u001b[0m\u001b[0;34m\u001b[0m\u001b[0;34m\u001b[0m\u001b[0m\n",
            "\u001b[0;32m/usr/local/lib/python3.6/dist-packages/pandas/io/parsers.py\u001b[0m in \u001b[0;36m_read\u001b[0;34m(filepath_or_buffer, kwds)\u001b[0m\n\u001b[1;32m    446\u001b[0m \u001b[0;34m\u001b[0m\u001b[0m\n\u001b[1;32m    447\u001b[0m     \u001b[0;31m# Create the parser.\u001b[0m\u001b[0;34m\u001b[0m\u001b[0;34m\u001b[0m\u001b[0;34m\u001b[0m\u001b[0m\n\u001b[0;32m--> 448\u001b[0;31m     \u001b[0mparser\u001b[0m \u001b[0;34m=\u001b[0m \u001b[0mTextFileReader\u001b[0m\u001b[0;34m(\u001b[0m\u001b[0mfp_or_buf\u001b[0m\u001b[0;34m,\u001b[0m \u001b[0;34m**\u001b[0m\u001b[0mkwds\u001b[0m\u001b[0;34m)\u001b[0m\u001b[0;34m\u001b[0m\u001b[0;34m\u001b[0m\u001b[0m\n\u001b[0m\u001b[1;32m    449\u001b[0m \u001b[0;34m\u001b[0m\u001b[0m\n\u001b[1;32m    450\u001b[0m     \u001b[0;32mif\u001b[0m \u001b[0mchunksize\u001b[0m \u001b[0;32mor\u001b[0m \u001b[0miterator\u001b[0m\u001b[0;34m:\u001b[0m\u001b[0;34m\u001b[0m\u001b[0;34m\u001b[0m\u001b[0m\n",
            "\u001b[0;32m/usr/local/lib/python3.6/dist-packages/pandas/io/parsers.py\u001b[0m in \u001b[0;36m__init__\u001b[0;34m(self, f, engine, **kwds)\u001b[0m\n\u001b[1;32m    878\u001b[0m             \u001b[0mself\u001b[0m\u001b[0;34m.\u001b[0m\u001b[0moptions\u001b[0m\u001b[0;34m[\u001b[0m\u001b[0;34m\"has_index_names\"\u001b[0m\u001b[0;34m]\u001b[0m \u001b[0;34m=\u001b[0m \u001b[0mkwds\u001b[0m\u001b[0;34m[\u001b[0m\u001b[0;34m\"has_index_names\"\u001b[0m\u001b[0;34m]\u001b[0m\u001b[0;34m\u001b[0m\u001b[0;34m\u001b[0m\u001b[0m\n\u001b[1;32m    879\u001b[0m \u001b[0;34m\u001b[0m\u001b[0m\n\u001b[0;32m--> 880\u001b[0;31m         \u001b[0mself\u001b[0m\u001b[0;34m.\u001b[0m\u001b[0m_make_engine\u001b[0m\u001b[0;34m(\u001b[0m\u001b[0mself\u001b[0m\u001b[0;34m.\u001b[0m\u001b[0mengine\u001b[0m\u001b[0;34m)\u001b[0m\u001b[0;34m\u001b[0m\u001b[0;34m\u001b[0m\u001b[0m\n\u001b[0m\u001b[1;32m    881\u001b[0m \u001b[0;34m\u001b[0m\u001b[0m\n\u001b[1;32m    882\u001b[0m     \u001b[0;32mdef\u001b[0m \u001b[0mclose\u001b[0m\u001b[0;34m(\u001b[0m\u001b[0mself\u001b[0m\u001b[0;34m)\u001b[0m\u001b[0;34m:\u001b[0m\u001b[0;34m\u001b[0m\u001b[0;34m\u001b[0m\u001b[0m\n",
            "\u001b[0;32m/usr/local/lib/python3.6/dist-packages/pandas/io/parsers.py\u001b[0m in \u001b[0;36m_make_engine\u001b[0;34m(self, engine)\u001b[0m\n\u001b[1;32m   1112\u001b[0m     \u001b[0;32mdef\u001b[0m \u001b[0m_make_engine\u001b[0m\u001b[0;34m(\u001b[0m\u001b[0mself\u001b[0m\u001b[0;34m,\u001b[0m \u001b[0mengine\u001b[0m\u001b[0;34m=\u001b[0m\u001b[0;34m\"c\"\u001b[0m\u001b[0;34m)\u001b[0m\u001b[0;34m:\u001b[0m\u001b[0;34m\u001b[0m\u001b[0;34m\u001b[0m\u001b[0m\n\u001b[1;32m   1113\u001b[0m         \u001b[0;32mif\u001b[0m \u001b[0mengine\u001b[0m \u001b[0;34m==\u001b[0m \u001b[0;34m\"c\"\u001b[0m\u001b[0;34m:\u001b[0m\u001b[0;34m\u001b[0m\u001b[0;34m\u001b[0m\u001b[0m\n\u001b[0;32m-> 1114\u001b[0;31m             \u001b[0mself\u001b[0m\u001b[0;34m.\u001b[0m\u001b[0m_engine\u001b[0m \u001b[0;34m=\u001b[0m \u001b[0mCParserWrapper\u001b[0m\u001b[0;34m(\u001b[0m\u001b[0mself\u001b[0m\u001b[0;34m.\u001b[0m\u001b[0mf\u001b[0m\u001b[0;34m,\u001b[0m \u001b[0;34m**\u001b[0m\u001b[0mself\u001b[0m\u001b[0;34m.\u001b[0m\u001b[0moptions\u001b[0m\u001b[0;34m)\u001b[0m\u001b[0;34m\u001b[0m\u001b[0;34m\u001b[0m\u001b[0m\n\u001b[0m\u001b[1;32m   1115\u001b[0m         \u001b[0;32melse\u001b[0m\u001b[0;34m:\u001b[0m\u001b[0;34m\u001b[0m\u001b[0;34m\u001b[0m\u001b[0m\n\u001b[1;32m   1116\u001b[0m             \u001b[0;32mif\u001b[0m \u001b[0mengine\u001b[0m \u001b[0;34m==\u001b[0m \u001b[0;34m\"python\"\u001b[0m\u001b[0;34m:\u001b[0m\u001b[0;34m\u001b[0m\u001b[0;34m\u001b[0m\u001b[0m\n",
            "\u001b[0;32m/usr/local/lib/python3.6/dist-packages/pandas/io/parsers.py\u001b[0m in \u001b[0;36m__init__\u001b[0;34m(self, src, **kwds)\u001b[0m\n\u001b[1;32m   1889\u001b[0m         \u001b[0mkwds\u001b[0m\u001b[0;34m[\u001b[0m\u001b[0;34m\"usecols\"\u001b[0m\u001b[0;34m]\u001b[0m \u001b[0;34m=\u001b[0m \u001b[0mself\u001b[0m\u001b[0;34m.\u001b[0m\u001b[0musecols\u001b[0m\u001b[0;34m\u001b[0m\u001b[0;34m\u001b[0m\u001b[0m\n\u001b[1;32m   1890\u001b[0m \u001b[0;34m\u001b[0m\u001b[0m\n\u001b[0;32m-> 1891\u001b[0;31m         \u001b[0mself\u001b[0m\u001b[0;34m.\u001b[0m\u001b[0m_reader\u001b[0m \u001b[0;34m=\u001b[0m \u001b[0mparsers\u001b[0m\u001b[0;34m.\u001b[0m\u001b[0mTextReader\u001b[0m\u001b[0;34m(\u001b[0m\u001b[0msrc\u001b[0m\u001b[0;34m,\u001b[0m \u001b[0;34m**\u001b[0m\u001b[0mkwds\u001b[0m\u001b[0;34m)\u001b[0m\u001b[0;34m\u001b[0m\u001b[0;34m\u001b[0m\u001b[0m\n\u001b[0m\u001b[1;32m   1892\u001b[0m         \u001b[0mself\u001b[0m\u001b[0;34m.\u001b[0m\u001b[0munnamed_cols\u001b[0m \u001b[0;34m=\u001b[0m \u001b[0mself\u001b[0m\u001b[0;34m.\u001b[0m\u001b[0m_reader\u001b[0m\u001b[0;34m.\u001b[0m\u001b[0munnamed_cols\u001b[0m\u001b[0;34m\u001b[0m\u001b[0;34m\u001b[0m\u001b[0m\n\u001b[1;32m   1893\u001b[0m \u001b[0;34m\u001b[0m\u001b[0m\n",
            "\u001b[0;32mpandas/_libs/parsers.pyx\u001b[0m in \u001b[0;36mpandas._libs.parsers.TextReader.__cinit__\u001b[0;34m()\u001b[0m\n",
            "\u001b[0;32mpandas/_libs/parsers.pyx\u001b[0m in \u001b[0;36mpandas._libs.parsers.TextReader._get_header\u001b[0;34m()\u001b[0m\n",
            "\u001b[0;31mUnicodeDecodeError\u001b[0m: 'utf-8' codec can't decode byte 0x81 in position 0: invalid start byte"
          ]
        }
      ]
    },
    {
      "cell_type": "markdown",
      "metadata": {
        "id": "nAS7PTRxUqg4",
        "colab_type": "text"
      },
      "source": [
        "文字コードに問題があるようです。\n",
        "`?pd.read_csv` を参考に文字コード指定のオプションを追加してみましょう。"
      ]
    },
    {
      "cell_type": "code",
      "metadata": {
        "id": "5o9FvIuHQqGW",
        "colab_type": "code",
        "colab": {}
      },
      "source": [
        "df = pd.read_csv(\"https://www.customs.go.jp/toukei/shinbun/trade-st/timeseries_202005.csv\", encoding=\"shift_jis\")"
      ],
      "execution_count": 25,
      "outputs": []
    },
    {
      "cell_type": "markdown",
      "metadata": {
        "id": "u4yhR0_9mTp5",
        "colab_type": "text"
      },
      "source": [
        "`encoding=\"shift_jis\"`を指定するとエラーが出なくなりました。\n",
        "次に読み込んだデータを格納したオブジェクト`df`の内容を確認しましょう。\n",
        "オブジェクト名`df`を入力し実行します。"
      ]
    },
    {
      "cell_type": "code",
      "metadata": {
        "id": "Lrg26UwrSejl",
        "colab_type": "code",
        "colab": {
          "base_uri": "https://localhost:8080/",
          "height": 424
        },
        "outputId": "4f801b73-c75b-4255-e51a-f1039de5f7d7"
      },
      "source": [
        "df"
      ],
      "execution_count": 26,
      "outputs": [
        {
          "output_type": "execute_result",
          "data": {
            "text/html": [
              "<div>\n",
              "<style scoped>\n",
              "    .dataframe tbody tr th:only-of-type {\n",
              "        vertical-align: middle;\n",
              "    }\n",
              "\n",
              "    .dataframe tbody tr th {\n",
              "        vertical-align: top;\n",
              "    }\n",
              "\n",
              "    .dataframe thead th {\n",
              "        text-align: right;\n",
              "    }\n",
              "</style>\n",
              "<table border=\"1\" class=\"dataframe\">\n",
              "  <thead>\n",
              "    <tr style=\"text-align: right;\">\n",
              "      <th></th>\n",
              "      <th>《季節調整値》　（単位：百万円）</th>\n",
              "      <th>Unnamed: 1</th>\n",
              "      <th>Unnamed: 2</th>\n",
              "    </tr>\n",
              "  </thead>\n",
              "  <tbody>\n",
              "    <tr>\n",
              "      <th>0</th>\n",
              "      <td>Seasonally adjusted data (a million yen)</td>\n",
              "      <td>NaN</td>\n",
              "      <td>NaN</td>\n",
              "    </tr>\n",
              "    <tr>\n",
              "      <th>1</th>\n",
              "      <td>Years/Months</td>\n",
              "      <td>Exp-Total</td>\n",
              "      <td>Imp-Total</td>\n",
              "    </tr>\n",
              "    <tr>\n",
              "      <th>2</th>\n",
              "      <td>NaN</td>\n",
              "      <td>NaN</td>\n",
              "      <td>NaN</td>\n",
              "    </tr>\n",
              "    <tr>\n",
              "      <th>3</th>\n",
              "      <td>2010/06</td>\n",
              "      <td>5635901</td>\n",
              "      <td>5238395</td>\n",
              "    </tr>\n",
              "    <tr>\n",
              "      <th>4</th>\n",
              "      <td>2010/07</td>\n",
              "      <td>5688985</td>\n",
              "      <td>5187889</td>\n",
              "    </tr>\n",
              "    <tr>\n",
              "      <th>...</th>\n",
              "      <td>...</td>\n",
              "      <td>...</td>\n",
              "      <td>...</td>\n",
              "    </tr>\n",
              "    <tr>\n",
              "      <th>118</th>\n",
              "      <td>2020/1</td>\n",
              "      <td>5941396</td>\n",
              "      <td>6179581</td>\n",
              "    </tr>\n",
              "    <tr>\n",
              "      <th>119</th>\n",
              "      <td>2020/2</td>\n",
              "      <td>6078998</td>\n",
              "      <td>5727298</td>\n",
              "    </tr>\n",
              "    <tr>\n",
              "      <th>120</th>\n",
              "      <td>2020/3</td>\n",
              "      <td>5782303</td>\n",
              "      <td>6107656</td>\n",
              "    </tr>\n",
              "    <tr>\n",
              "      <th>121</th>\n",
              "      <td>2020/4</td>\n",
              "      <td>5121827</td>\n",
              "      <td>6164967</td>\n",
              "    </tr>\n",
              "    <tr>\n",
              "      <th>122</th>\n",
              "      <td>2020/5</td>\n",
              "      <td>4823431</td>\n",
              "      <td>5424400</td>\n",
              "    </tr>\n",
              "  </tbody>\n",
              "</table>\n",
              "<p>123 rows × 3 columns</p>\n",
              "</div>"
            ],
            "text/plain": [
              "                             《季節調整値》　（単位：百万円） Unnamed: 1 Unnamed: 2\n",
              "0    Seasonally adjusted data (a million yen)        NaN        NaN\n",
              "1                                Years/Months  Exp-Total  Imp-Total\n",
              "2                                         NaN        NaN        NaN\n",
              "3                                     2010/06    5635901    5238395\n",
              "4                                     2010/07    5688985    5187889\n",
              "..                                        ...        ...        ...\n",
              "118                                    2020/1    5941396    6179581\n",
              "119                                    2020/2    6078998    5727298\n",
              "120                                    2020/3    5782303    6107656\n",
              "121                                    2020/4    5121827    6164967\n",
              "122                                    2020/5    4823431    5424400\n",
              "\n",
              "[123 rows x 3 columns]"
            ]
          },
          "metadata": {
            "tags": []
          },
          "execution_count": 26
        }
      ]
    },
    {
      "cell_type": "markdown",
      "metadata": {
        "id": "kQefTCRMUw-l",
        "colab_type": "text"
      },
      "source": [
        "データを見てみると\n",
        "- 行インデックス1の行が列名\n",
        "- 1列目は年/月\n",
        "- 行インデックス0と2の行は捨ててよい\n",
        "- 行インデックス3の行からがデータ\n",
        "\n",
        "であることがわかります。\n",
        "\n",
        "read_csvにさらにオプションを追加する必要がありそうです。\n",
        "\n",
        "まず最初の2行を読み飛ばして今の行インデックス1からデータを読み込むようにオプションを追加してみましょう。"
      ]
    },
    {
      "cell_type": "code",
      "metadata": {
        "id": "DXBc8Mt9S-YC",
        "colab_type": "code",
        "colab": {}
      },
      "source": [
        "df = pd.read_csv(\"https://www.customs.go.jp/toukei/shinbun/trade-st/timeseries_202005.csv\", encoding=\"shift_jis\", skiprows=2)"
      ],
      "execution_count": 27,
      "outputs": []
    },
    {
      "cell_type": "code",
      "metadata": {
        "id": "n3SkcmRfUDkK",
        "colab_type": "code",
        "colab": {
          "base_uri": "https://localhost:8080/",
          "height": 424
        },
        "outputId": "d7789d92-4176-4900-dc64-946a0d2129bf"
      },
      "source": [
        "df"
      ],
      "execution_count": 28,
      "outputs": [
        {
          "output_type": "execute_result",
          "data": {
            "text/html": [
              "<div>\n",
              "<style scoped>\n",
              "    .dataframe tbody tr th:only-of-type {\n",
              "        vertical-align: middle;\n",
              "    }\n",
              "\n",
              "    .dataframe tbody tr th {\n",
              "        vertical-align: top;\n",
              "    }\n",
              "\n",
              "    .dataframe thead th {\n",
              "        text-align: right;\n",
              "    }\n",
              "</style>\n",
              "<table border=\"1\" class=\"dataframe\">\n",
              "  <thead>\n",
              "    <tr style=\"text-align: right;\">\n",
              "      <th></th>\n",
              "      <th>Years/Months</th>\n",
              "      <th>Exp-Total</th>\n",
              "      <th>Imp-Total</th>\n",
              "    </tr>\n",
              "  </thead>\n",
              "  <tbody>\n",
              "    <tr>\n",
              "      <th>0</th>\n",
              "      <td>NaN</td>\n",
              "      <td>NaN</td>\n",
              "      <td>NaN</td>\n",
              "    </tr>\n",
              "    <tr>\n",
              "      <th>1</th>\n",
              "      <td>2010/06</td>\n",
              "      <td>5635901.0</td>\n",
              "      <td>5238395.0</td>\n",
              "    </tr>\n",
              "    <tr>\n",
              "      <th>2</th>\n",
              "      <td>2010/07</td>\n",
              "      <td>5688985.0</td>\n",
              "      <td>5187889.0</td>\n",
              "    </tr>\n",
              "    <tr>\n",
              "      <th>3</th>\n",
              "      <td>2010/08</td>\n",
              "      <td>5643842.0</td>\n",
              "      <td>5176241.0</td>\n",
              "    </tr>\n",
              "    <tr>\n",
              "      <th>4</th>\n",
              "      <td>2010/09</td>\n",
              "      <td>5581432.0</td>\n",
              "      <td>5108268.0</td>\n",
              "    </tr>\n",
              "    <tr>\n",
              "      <th>...</th>\n",
              "      <td>...</td>\n",
              "      <td>...</td>\n",
              "      <td>...</td>\n",
              "    </tr>\n",
              "    <tr>\n",
              "      <th>116</th>\n",
              "      <td>2020/1</td>\n",
              "      <td>5941396.0</td>\n",
              "      <td>6179581.0</td>\n",
              "    </tr>\n",
              "    <tr>\n",
              "      <th>117</th>\n",
              "      <td>2020/2</td>\n",
              "      <td>6078998.0</td>\n",
              "      <td>5727298.0</td>\n",
              "    </tr>\n",
              "    <tr>\n",
              "      <th>118</th>\n",
              "      <td>2020/3</td>\n",
              "      <td>5782303.0</td>\n",
              "      <td>6107656.0</td>\n",
              "    </tr>\n",
              "    <tr>\n",
              "      <th>119</th>\n",
              "      <td>2020/4</td>\n",
              "      <td>5121827.0</td>\n",
              "      <td>6164967.0</td>\n",
              "    </tr>\n",
              "    <tr>\n",
              "      <th>120</th>\n",
              "      <td>2020/5</td>\n",
              "      <td>4823431.0</td>\n",
              "      <td>5424400.0</td>\n",
              "    </tr>\n",
              "  </tbody>\n",
              "</table>\n",
              "<p>121 rows × 3 columns</p>\n",
              "</div>"
            ],
            "text/plain": [
              "    Years/Months  Exp-Total  Imp-Total\n",
              "0            NaN        NaN        NaN\n",
              "1        2010/06  5635901.0  5238395.0\n",
              "2        2010/07  5688985.0  5187889.0\n",
              "3        2010/08  5643842.0  5176241.0\n",
              "4        2010/09  5581432.0  5108268.0\n",
              "..           ...        ...        ...\n",
              "116       2020/1  5941396.0  6179581.0\n",
              "117       2020/2  6078998.0  5727298.0\n",
              "118       2020/3  5782303.0  6107656.0\n",
              "119       2020/4  5121827.0  6164967.0\n",
              "120       2020/5  4823431.0  5424400.0\n",
              "\n",
              "[121 rows x 3 columns]"
            ]
          },
          "metadata": {
            "tags": []
          },
          "execution_count": 28
        }
      ]
    },
    {
      "cell_type": "markdown",
      "metadata": {
        "id": "6GU_NWZvU2Tm",
        "colab_type": "text"
      },
      "source": [
        "`Years/Months\tExp-Total\tImp-Total`が各列の名前になるように`read_csv`できました。\n",
        "\n",
        "次に1列目を単なる文字列ではなく日付として読み込むオプションを追加してみましょう。\n"
      ]
    },
    {
      "cell_type": "code",
      "metadata": {
        "id": "_MEcfS-IVgb2",
        "colab_type": "code",
        "colab": {}
      },
      "source": [
        "df = pd.read_csv(\"https://www.customs.go.jp/toukei/shinbun/trade-st/timeseries_202005.csv\", encoding=\"shift_jis\", skiprows=2, date_parser=['Years/Months'])"
      ],
      "execution_count": 29,
      "outputs": []
    },
    {
      "cell_type": "code",
      "metadata": {
        "id": "2xTzhW8lVlqf",
        "colab_type": "code",
        "colab": {
          "base_uri": "https://localhost:8080/",
          "height": 424
        },
        "outputId": "61869e1a-e134-4733-a25d-389b508d8eb0"
      },
      "source": [
        "df"
      ],
      "execution_count": 30,
      "outputs": [
        {
          "output_type": "execute_result",
          "data": {
            "text/html": [
              "<div>\n",
              "<style scoped>\n",
              "    .dataframe tbody tr th:only-of-type {\n",
              "        vertical-align: middle;\n",
              "    }\n",
              "\n",
              "    .dataframe tbody tr th {\n",
              "        vertical-align: top;\n",
              "    }\n",
              "\n",
              "    .dataframe thead th {\n",
              "        text-align: right;\n",
              "    }\n",
              "</style>\n",
              "<table border=\"1\" class=\"dataframe\">\n",
              "  <thead>\n",
              "    <tr style=\"text-align: right;\">\n",
              "      <th></th>\n",
              "      <th>Years/Months</th>\n",
              "      <th>Exp-Total</th>\n",
              "      <th>Imp-Total</th>\n",
              "    </tr>\n",
              "  </thead>\n",
              "  <tbody>\n",
              "    <tr>\n",
              "      <th>0</th>\n",
              "      <td>NaN</td>\n",
              "      <td>NaN</td>\n",
              "      <td>NaN</td>\n",
              "    </tr>\n",
              "    <tr>\n",
              "      <th>1</th>\n",
              "      <td>2010/06</td>\n",
              "      <td>5635901.0</td>\n",
              "      <td>5238395.0</td>\n",
              "    </tr>\n",
              "    <tr>\n",
              "      <th>2</th>\n",
              "      <td>2010/07</td>\n",
              "      <td>5688985.0</td>\n",
              "      <td>5187889.0</td>\n",
              "    </tr>\n",
              "    <tr>\n",
              "      <th>3</th>\n",
              "      <td>2010/08</td>\n",
              "      <td>5643842.0</td>\n",
              "      <td>5176241.0</td>\n",
              "    </tr>\n",
              "    <tr>\n",
              "      <th>4</th>\n",
              "      <td>2010/09</td>\n",
              "      <td>5581432.0</td>\n",
              "      <td>5108268.0</td>\n",
              "    </tr>\n",
              "    <tr>\n",
              "      <th>...</th>\n",
              "      <td>...</td>\n",
              "      <td>...</td>\n",
              "      <td>...</td>\n",
              "    </tr>\n",
              "    <tr>\n",
              "      <th>116</th>\n",
              "      <td>2020/1</td>\n",
              "      <td>5941396.0</td>\n",
              "      <td>6179581.0</td>\n",
              "    </tr>\n",
              "    <tr>\n",
              "      <th>117</th>\n",
              "      <td>2020/2</td>\n",
              "      <td>6078998.0</td>\n",
              "      <td>5727298.0</td>\n",
              "    </tr>\n",
              "    <tr>\n",
              "      <th>118</th>\n",
              "      <td>2020/3</td>\n",
              "      <td>5782303.0</td>\n",
              "      <td>6107656.0</td>\n",
              "    </tr>\n",
              "    <tr>\n",
              "      <th>119</th>\n",
              "      <td>2020/4</td>\n",
              "      <td>5121827.0</td>\n",
              "      <td>6164967.0</td>\n",
              "    </tr>\n",
              "    <tr>\n",
              "      <th>120</th>\n",
              "      <td>2020/5</td>\n",
              "      <td>4823431.0</td>\n",
              "      <td>5424400.0</td>\n",
              "    </tr>\n",
              "  </tbody>\n",
              "</table>\n",
              "<p>121 rows × 3 columns</p>\n",
              "</div>"
            ],
            "text/plain": [
              "    Years/Months  Exp-Total  Imp-Total\n",
              "0            NaN        NaN        NaN\n",
              "1        2010/06  5635901.0  5238395.0\n",
              "2        2010/07  5688985.0  5187889.0\n",
              "3        2010/08  5643842.0  5176241.0\n",
              "4        2010/09  5581432.0  5108268.0\n",
              "..           ...        ...        ...\n",
              "116       2020/1  5941396.0  6179581.0\n",
              "117       2020/2  6078998.0  5727298.0\n",
              "118       2020/3  5782303.0  6107656.0\n",
              "119       2020/4  5121827.0  6164967.0\n",
              "120       2020/5  4823431.0  5424400.0\n",
              "\n",
              "[121 rows x 3 columns]"
            ]
          },
          "metadata": {
            "tags": []
          },
          "execution_count": 30
        }
      ]
    },
    {
      "cell_type": "markdown",
      "metadata": {
        "id": "x-iEQj8TrlBB",
        "colab_type": "text"
      },
      "source": [
        "行インデックス0の行は不要そうです。\n",
        "これを捨てるにはデータフレームの`drop`というメソッドを使います。"
      ]
    },
    {
      "cell_type": "code",
      "metadata": {
        "id": "rX5j_1kWVmBL",
        "colab_type": "code",
        "colab": {}
      },
      "source": [
        "?pd.DataFrame.drop"
      ],
      "execution_count": 31,
      "outputs": []
    },
    {
      "cell_type": "code",
      "metadata": {
        "id": "mrK7EcRAsRsF",
        "colab_type": "code",
        "colab": {
          "base_uri": "https://localhost:8080/",
          "height": 424
        },
        "outputId": "8fec73fa-5caf-475d-8c48-17ca804ea034"
      },
      "source": [
        "df.drop(0)"
      ],
      "execution_count": 32,
      "outputs": [
        {
          "output_type": "execute_result",
          "data": {
            "text/html": [
              "<div>\n",
              "<style scoped>\n",
              "    .dataframe tbody tr th:only-of-type {\n",
              "        vertical-align: middle;\n",
              "    }\n",
              "\n",
              "    .dataframe tbody tr th {\n",
              "        vertical-align: top;\n",
              "    }\n",
              "\n",
              "    .dataframe thead th {\n",
              "        text-align: right;\n",
              "    }\n",
              "</style>\n",
              "<table border=\"1\" class=\"dataframe\">\n",
              "  <thead>\n",
              "    <tr style=\"text-align: right;\">\n",
              "      <th></th>\n",
              "      <th>Years/Months</th>\n",
              "      <th>Exp-Total</th>\n",
              "      <th>Imp-Total</th>\n",
              "    </tr>\n",
              "  </thead>\n",
              "  <tbody>\n",
              "    <tr>\n",
              "      <th>1</th>\n",
              "      <td>2010/06</td>\n",
              "      <td>5635901.0</td>\n",
              "      <td>5238395.0</td>\n",
              "    </tr>\n",
              "    <tr>\n",
              "      <th>2</th>\n",
              "      <td>2010/07</td>\n",
              "      <td>5688985.0</td>\n",
              "      <td>5187889.0</td>\n",
              "    </tr>\n",
              "    <tr>\n",
              "      <th>3</th>\n",
              "      <td>2010/08</td>\n",
              "      <td>5643842.0</td>\n",
              "      <td>5176241.0</td>\n",
              "    </tr>\n",
              "    <tr>\n",
              "      <th>4</th>\n",
              "      <td>2010/09</td>\n",
              "      <td>5581432.0</td>\n",
              "      <td>5108268.0</td>\n",
              "    </tr>\n",
              "    <tr>\n",
              "      <th>5</th>\n",
              "      <td>2010/10</td>\n",
              "      <td>5748036.0</td>\n",
              "      <td>5138540.0</td>\n",
              "    </tr>\n",
              "    <tr>\n",
              "      <th>...</th>\n",
              "      <td>...</td>\n",
              "      <td>...</td>\n",
              "      <td>...</td>\n",
              "    </tr>\n",
              "    <tr>\n",
              "      <th>116</th>\n",
              "      <td>2020/1</td>\n",
              "      <td>5941396.0</td>\n",
              "      <td>6179581.0</td>\n",
              "    </tr>\n",
              "    <tr>\n",
              "      <th>117</th>\n",
              "      <td>2020/2</td>\n",
              "      <td>6078998.0</td>\n",
              "      <td>5727298.0</td>\n",
              "    </tr>\n",
              "    <tr>\n",
              "      <th>118</th>\n",
              "      <td>2020/3</td>\n",
              "      <td>5782303.0</td>\n",
              "      <td>6107656.0</td>\n",
              "    </tr>\n",
              "    <tr>\n",
              "      <th>119</th>\n",
              "      <td>2020/4</td>\n",
              "      <td>5121827.0</td>\n",
              "      <td>6164967.0</td>\n",
              "    </tr>\n",
              "    <tr>\n",
              "      <th>120</th>\n",
              "      <td>2020/5</td>\n",
              "      <td>4823431.0</td>\n",
              "      <td>5424400.0</td>\n",
              "    </tr>\n",
              "  </tbody>\n",
              "</table>\n",
              "<p>120 rows × 3 columns</p>\n",
              "</div>"
            ],
            "text/plain": [
              "    Years/Months  Exp-Total  Imp-Total\n",
              "1        2010/06  5635901.0  5238395.0\n",
              "2        2010/07  5688985.0  5187889.0\n",
              "3        2010/08  5643842.0  5176241.0\n",
              "4        2010/09  5581432.0  5108268.0\n",
              "5        2010/10  5748036.0  5138540.0\n",
              "..           ...        ...        ...\n",
              "116       2020/1  5941396.0  6179581.0\n",
              "117       2020/2  6078998.0  5727298.0\n",
              "118       2020/3  5782303.0  6107656.0\n",
              "119       2020/4  5121827.0  6164967.0\n",
              "120       2020/5  4823431.0  5424400.0\n",
              "\n",
              "[120 rows x 3 columns]"
            ]
          },
          "metadata": {
            "tags": []
          },
          "execution_count": 32
        }
      ]
    },
    {
      "cell_type": "markdown",
      "metadata": {
        "id": "XB_jNTe4sfDT",
        "colab_type": "text"
      },
      "source": [
        "行インデックス0の行が消えました。\n",
        "確認のために`df`を実行してみましょう。"
      ]
    },
    {
      "cell_type": "code",
      "metadata": {
        "id": "XBBC9jq2sciz",
        "colab_type": "code",
        "colab": {
          "base_uri": "https://localhost:8080/",
          "height": 424
        },
        "outputId": "d67ba4b9-64c1-42d2-bf79-7efb04903f53"
      },
      "source": [
        "df"
      ],
      "execution_count": 33,
      "outputs": [
        {
          "output_type": "execute_result",
          "data": {
            "text/html": [
              "<div>\n",
              "<style scoped>\n",
              "    .dataframe tbody tr th:only-of-type {\n",
              "        vertical-align: middle;\n",
              "    }\n",
              "\n",
              "    .dataframe tbody tr th {\n",
              "        vertical-align: top;\n",
              "    }\n",
              "\n",
              "    .dataframe thead th {\n",
              "        text-align: right;\n",
              "    }\n",
              "</style>\n",
              "<table border=\"1\" class=\"dataframe\">\n",
              "  <thead>\n",
              "    <tr style=\"text-align: right;\">\n",
              "      <th></th>\n",
              "      <th>Years/Months</th>\n",
              "      <th>Exp-Total</th>\n",
              "      <th>Imp-Total</th>\n",
              "    </tr>\n",
              "  </thead>\n",
              "  <tbody>\n",
              "    <tr>\n",
              "      <th>0</th>\n",
              "      <td>NaN</td>\n",
              "      <td>NaN</td>\n",
              "      <td>NaN</td>\n",
              "    </tr>\n",
              "    <tr>\n",
              "      <th>1</th>\n",
              "      <td>2010/06</td>\n",
              "      <td>5635901.0</td>\n",
              "      <td>5238395.0</td>\n",
              "    </tr>\n",
              "    <tr>\n",
              "      <th>2</th>\n",
              "      <td>2010/07</td>\n",
              "      <td>5688985.0</td>\n",
              "      <td>5187889.0</td>\n",
              "    </tr>\n",
              "    <tr>\n",
              "      <th>3</th>\n",
              "      <td>2010/08</td>\n",
              "      <td>5643842.0</td>\n",
              "      <td>5176241.0</td>\n",
              "    </tr>\n",
              "    <tr>\n",
              "      <th>4</th>\n",
              "      <td>2010/09</td>\n",
              "      <td>5581432.0</td>\n",
              "      <td>5108268.0</td>\n",
              "    </tr>\n",
              "    <tr>\n",
              "      <th>...</th>\n",
              "      <td>...</td>\n",
              "      <td>...</td>\n",
              "      <td>...</td>\n",
              "    </tr>\n",
              "    <tr>\n",
              "      <th>116</th>\n",
              "      <td>2020/1</td>\n",
              "      <td>5941396.0</td>\n",
              "      <td>6179581.0</td>\n",
              "    </tr>\n",
              "    <tr>\n",
              "      <th>117</th>\n",
              "      <td>2020/2</td>\n",
              "      <td>6078998.0</td>\n",
              "      <td>5727298.0</td>\n",
              "    </tr>\n",
              "    <tr>\n",
              "      <th>118</th>\n",
              "      <td>2020/3</td>\n",
              "      <td>5782303.0</td>\n",
              "      <td>6107656.0</td>\n",
              "    </tr>\n",
              "    <tr>\n",
              "      <th>119</th>\n",
              "      <td>2020/4</td>\n",
              "      <td>5121827.0</td>\n",
              "      <td>6164967.0</td>\n",
              "    </tr>\n",
              "    <tr>\n",
              "      <th>120</th>\n",
              "      <td>2020/5</td>\n",
              "      <td>4823431.0</td>\n",
              "      <td>5424400.0</td>\n",
              "    </tr>\n",
              "  </tbody>\n",
              "</table>\n",
              "<p>121 rows × 3 columns</p>\n",
              "</div>"
            ],
            "text/plain": [
              "    Years/Months  Exp-Total  Imp-Total\n",
              "0            NaN        NaN        NaN\n",
              "1        2010/06  5635901.0  5238395.0\n",
              "2        2010/07  5688985.0  5187889.0\n",
              "3        2010/08  5643842.0  5176241.0\n",
              "4        2010/09  5581432.0  5108268.0\n",
              "..           ...        ...        ...\n",
              "116       2020/1  5941396.0  6179581.0\n",
              "117       2020/2  6078998.0  5727298.0\n",
              "118       2020/3  5782303.0  6107656.0\n",
              "119       2020/4  5121827.0  6164967.0\n",
              "120       2020/5  4823431.0  5424400.0\n",
              "\n",
              "[121 rows x 3 columns]"
            ]
          },
          "metadata": {
            "tags": []
          },
          "execution_count": 33
        }
      ]
    },
    {
      "cell_type": "markdown",
      "metadata": {
        "id": "jlpWSifisuZi",
        "colab_type": "text"
      },
      "source": [
        "行インデックス0の行が消えていません。\n",
        "どうやら元のオブジェクト`df`に影響を及ぼさないようです。\n",
        "元の`df`に影響を及ぼすオプションが dropメソッドにあるか調べてみましょう。"
      ]
    },
    {
      "cell_type": "code",
      "metadata": {
        "id": "P9cEMFFEspc2",
        "colab_type": "code",
        "colab": {}
      },
      "source": [
        "?pd.DataFrame.drop"
      ],
      "execution_count": 34,
      "outputs": []
    },
    {
      "cell_type": "code",
      "metadata": {
        "id": "f8d-VIQctF-0",
        "colab_type": "code",
        "colab": {}
      },
      "source": [
        "df.drop(0, inplace=True)"
      ],
      "execution_count": 35,
      "outputs": []
    },
    {
      "cell_type": "code",
      "metadata": {
        "id": "NUV8gMqMwoP_",
        "colab_type": "code",
        "colab": {
          "base_uri": "https://localhost:8080/",
          "height": 424
        },
        "outputId": "4ebd4b98-df2a-4db0-8f53-609f68c16768"
      },
      "source": [
        "df"
      ],
      "execution_count": 36,
      "outputs": [
        {
          "output_type": "execute_result",
          "data": {
            "text/html": [
              "<div>\n",
              "<style scoped>\n",
              "    .dataframe tbody tr th:only-of-type {\n",
              "        vertical-align: middle;\n",
              "    }\n",
              "\n",
              "    .dataframe tbody tr th {\n",
              "        vertical-align: top;\n",
              "    }\n",
              "\n",
              "    .dataframe thead th {\n",
              "        text-align: right;\n",
              "    }\n",
              "</style>\n",
              "<table border=\"1\" class=\"dataframe\">\n",
              "  <thead>\n",
              "    <tr style=\"text-align: right;\">\n",
              "      <th></th>\n",
              "      <th>Years/Months</th>\n",
              "      <th>Exp-Total</th>\n",
              "      <th>Imp-Total</th>\n",
              "    </tr>\n",
              "  </thead>\n",
              "  <tbody>\n",
              "    <tr>\n",
              "      <th>1</th>\n",
              "      <td>2010/06</td>\n",
              "      <td>5635901.0</td>\n",
              "      <td>5238395.0</td>\n",
              "    </tr>\n",
              "    <tr>\n",
              "      <th>2</th>\n",
              "      <td>2010/07</td>\n",
              "      <td>5688985.0</td>\n",
              "      <td>5187889.0</td>\n",
              "    </tr>\n",
              "    <tr>\n",
              "      <th>3</th>\n",
              "      <td>2010/08</td>\n",
              "      <td>5643842.0</td>\n",
              "      <td>5176241.0</td>\n",
              "    </tr>\n",
              "    <tr>\n",
              "      <th>4</th>\n",
              "      <td>2010/09</td>\n",
              "      <td>5581432.0</td>\n",
              "      <td>5108268.0</td>\n",
              "    </tr>\n",
              "    <tr>\n",
              "      <th>5</th>\n",
              "      <td>2010/10</td>\n",
              "      <td>5748036.0</td>\n",
              "      <td>5138540.0</td>\n",
              "    </tr>\n",
              "    <tr>\n",
              "      <th>...</th>\n",
              "      <td>...</td>\n",
              "      <td>...</td>\n",
              "      <td>...</td>\n",
              "    </tr>\n",
              "    <tr>\n",
              "      <th>116</th>\n",
              "      <td>2020/1</td>\n",
              "      <td>5941396.0</td>\n",
              "      <td>6179581.0</td>\n",
              "    </tr>\n",
              "    <tr>\n",
              "      <th>117</th>\n",
              "      <td>2020/2</td>\n",
              "      <td>6078998.0</td>\n",
              "      <td>5727298.0</td>\n",
              "    </tr>\n",
              "    <tr>\n",
              "      <th>118</th>\n",
              "      <td>2020/3</td>\n",
              "      <td>5782303.0</td>\n",
              "      <td>6107656.0</td>\n",
              "    </tr>\n",
              "    <tr>\n",
              "      <th>119</th>\n",
              "      <td>2020/4</td>\n",
              "      <td>5121827.0</td>\n",
              "      <td>6164967.0</td>\n",
              "    </tr>\n",
              "    <tr>\n",
              "      <th>120</th>\n",
              "      <td>2020/5</td>\n",
              "      <td>4823431.0</td>\n",
              "      <td>5424400.0</td>\n",
              "    </tr>\n",
              "  </tbody>\n",
              "</table>\n",
              "<p>120 rows × 3 columns</p>\n",
              "</div>"
            ],
            "text/plain": [
              "    Years/Months  Exp-Total  Imp-Total\n",
              "1        2010/06  5635901.0  5238395.0\n",
              "2        2010/07  5688985.0  5187889.0\n",
              "3        2010/08  5643842.0  5176241.0\n",
              "4        2010/09  5581432.0  5108268.0\n",
              "5        2010/10  5748036.0  5138540.0\n",
              "..           ...        ...        ...\n",
              "116       2020/1  5941396.0  6179581.0\n",
              "117       2020/2  6078998.0  5727298.0\n",
              "118       2020/3  5782303.0  6107656.0\n",
              "119       2020/4  5121827.0  6164967.0\n",
              "120       2020/5  4823431.0  5424400.0\n",
              "\n",
              "[120 rows x 3 columns]"
            ]
          },
          "metadata": {
            "tags": []
          },
          "execution_count": 36
        }
      ]
    },
    {
      "cell_type": "markdown",
      "metadata": {
        "id": "Gdhv7P5ew-Oq",
        "colab_type": "text"
      },
      "source": [
        "このままでは、インデックスが1から始まってしまっておりコードを書いていく上で面倒なことが起こる可能性があります。（例えば、Key Error）\n",
        "\n",
        "したがって、reset_indexメソッドを使ってインデックスをリセットします。"
      ]
    },
    {
      "cell_type": "code",
      "metadata": {
        "id": "LQTmGcHRrGkK",
        "colab_type": "code",
        "colab": {
          "base_uri": "https://localhost:8080/",
          "height": 424
        },
        "outputId": "4baa8cda-046b-4db0-f206-1408a2765ac4"
      },
      "source": [
        "df.reset_index()"
      ],
      "execution_count": 37,
      "outputs": [
        {
          "output_type": "execute_result",
          "data": {
            "text/html": [
              "<div>\n",
              "<style scoped>\n",
              "    .dataframe tbody tr th:only-of-type {\n",
              "        vertical-align: middle;\n",
              "    }\n",
              "\n",
              "    .dataframe tbody tr th {\n",
              "        vertical-align: top;\n",
              "    }\n",
              "\n",
              "    .dataframe thead th {\n",
              "        text-align: right;\n",
              "    }\n",
              "</style>\n",
              "<table border=\"1\" class=\"dataframe\">\n",
              "  <thead>\n",
              "    <tr style=\"text-align: right;\">\n",
              "      <th></th>\n",
              "      <th>index</th>\n",
              "      <th>Years/Months</th>\n",
              "      <th>Exp-Total</th>\n",
              "      <th>Imp-Total</th>\n",
              "    </tr>\n",
              "  </thead>\n",
              "  <tbody>\n",
              "    <tr>\n",
              "      <th>0</th>\n",
              "      <td>1</td>\n",
              "      <td>2010/06</td>\n",
              "      <td>5635901.0</td>\n",
              "      <td>5238395.0</td>\n",
              "    </tr>\n",
              "    <tr>\n",
              "      <th>1</th>\n",
              "      <td>2</td>\n",
              "      <td>2010/07</td>\n",
              "      <td>5688985.0</td>\n",
              "      <td>5187889.0</td>\n",
              "    </tr>\n",
              "    <tr>\n",
              "      <th>2</th>\n",
              "      <td>3</td>\n",
              "      <td>2010/08</td>\n",
              "      <td>5643842.0</td>\n",
              "      <td>5176241.0</td>\n",
              "    </tr>\n",
              "    <tr>\n",
              "      <th>3</th>\n",
              "      <td>4</td>\n",
              "      <td>2010/09</td>\n",
              "      <td>5581432.0</td>\n",
              "      <td>5108268.0</td>\n",
              "    </tr>\n",
              "    <tr>\n",
              "      <th>4</th>\n",
              "      <td>5</td>\n",
              "      <td>2010/10</td>\n",
              "      <td>5748036.0</td>\n",
              "      <td>5138540.0</td>\n",
              "    </tr>\n",
              "    <tr>\n",
              "      <th>...</th>\n",
              "      <td>...</td>\n",
              "      <td>...</td>\n",
              "      <td>...</td>\n",
              "      <td>...</td>\n",
              "    </tr>\n",
              "    <tr>\n",
              "      <th>115</th>\n",
              "      <td>116</td>\n",
              "      <td>2020/1</td>\n",
              "      <td>5941396.0</td>\n",
              "      <td>6179581.0</td>\n",
              "    </tr>\n",
              "    <tr>\n",
              "      <th>116</th>\n",
              "      <td>117</td>\n",
              "      <td>2020/2</td>\n",
              "      <td>6078998.0</td>\n",
              "      <td>5727298.0</td>\n",
              "    </tr>\n",
              "    <tr>\n",
              "      <th>117</th>\n",
              "      <td>118</td>\n",
              "      <td>2020/3</td>\n",
              "      <td>5782303.0</td>\n",
              "      <td>6107656.0</td>\n",
              "    </tr>\n",
              "    <tr>\n",
              "      <th>118</th>\n",
              "      <td>119</td>\n",
              "      <td>2020/4</td>\n",
              "      <td>5121827.0</td>\n",
              "      <td>6164967.0</td>\n",
              "    </tr>\n",
              "    <tr>\n",
              "      <th>119</th>\n",
              "      <td>120</td>\n",
              "      <td>2020/5</td>\n",
              "      <td>4823431.0</td>\n",
              "      <td>5424400.0</td>\n",
              "    </tr>\n",
              "  </tbody>\n",
              "</table>\n",
              "<p>120 rows × 4 columns</p>\n",
              "</div>"
            ],
            "text/plain": [
              "     index Years/Months  Exp-Total  Imp-Total\n",
              "0        1      2010/06  5635901.0  5238395.0\n",
              "1        2      2010/07  5688985.0  5187889.0\n",
              "2        3      2010/08  5643842.0  5176241.0\n",
              "3        4      2010/09  5581432.0  5108268.0\n",
              "4        5      2010/10  5748036.0  5138540.0\n",
              "..     ...          ...        ...        ...\n",
              "115    116       2020/1  5941396.0  6179581.0\n",
              "116    117       2020/2  6078998.0  5727298.0\n",
              "117    118       2020/3  5782303.0  6107656.0\n",
              "118    119       2020/4  5121827.0  6164967.0\n",
              "119    120       2020/5  4823431.0  5424400.0\n",
              "\n",
              "[120 rows x 4 columns]"
            ]
          },
          "metadata": {
            "tags": []
          },
          "execution_count": 37
        }
      ]
    },
    {
      "cell_type": "markdown",
      "metadata": {
        "id": "47QFQRQjr1yl",
        "colab_type": "text"
      },
      "source": [
        "オプションに何も指定しないと元あったindexを列として残してしまいます。df.reset_index(drop=True)とすることで、元あったindexを消去しましょう。また、先と同じようにinplace=Trueとしてオブジェクトを書き換えてしまいましょう。\n"
      ]
    },
    {
      "cell_type": "code",
      "metadata": {
        "id": "243KP94qwowg",
        "colab_type": "code",
        "colab": {}
      },
      "source": [
        "df.reset_index(inplace=True, drop=True)"
      ],
      "execution_count": 17,
      "outputs": []
    },
    {
      "cell_type": "code",
      "metadata": {
        "id": "bJ1jM3O3w8kC",
        "colab_type": "code",
        "colab": {
          "base_uri": "https://localhost:8080/",
          "height": 424
        },
        "outputId": "e4a222ac-403e-4e70-ea6a-d23cc739ddf3"
      },
      "source": [
        "df"
      ],
      "execution_count": 18,
      "outputs": [
        {
          "output_type": "execute_result",
          "data": {
            "text/html": [
              "<div>\n",
              "<style scoped>\n",
              "    .dataframe tbody tr th:only-of-type {\n",
              "        vertical-align: middle;\n",
              "    }\n",
              "\n",
              "    .dataframe tbody tr th {\n",
              "        vertical-align: top;\n",
              "    }\n",
              "\n",
              "    .dataframe thead th {\n",
              "        text-align: right;\n",
              "    }\n",
              "</style>\n",
              "<table border=\"1\" class=\"dataframe\">\n",
              "  <thead>\n",
              "    <tr style=\"text-align: right;\">\n",
              "      <th></th>\n",
              "      <th>Years/Months</th>\n",
              "      <th>Exp-Total</th>\n",
              "      <th>Imp-Total</th>\n",
              "    </tr>\n",
              "  </thead>\n",
              "  <tbody>\n",
              "    <tr>\n",
              "      <th>0</th>\n",
              "      <td>2010/06</td>\n",
              "      <td>5635901.0</td>\n",
              "      <td>5238395.0</td>\n",
              "    </tr>\n",
              "    <tr>\n",
              "      <th>1</th>\n",
              "      <td>2010/07</td>\n",
              "      <td>5688985.0</td>\n",
              "      <td>5187889.0</td>\n",
              "    </tr>\n",
              "    <tr>\n",
              "      <th>2</th>\n",
              "      <td>2010/08</td>\n",
              "      <td>5643842.0</td>\n",
              "      <td>5176241.0</td>\n",
              "    </tr>\n",
              "    <tr>\n",
              "      <th>3</th>\n",
              "      <td>2010/09</td>\n",
              "      <td>5581432.0</td>\n",
              "      <td>5108268.0</td>\n",
              "    </tr>\n",
              "    <tr>\n",
              "      <th>4</th>\n",
              "      <td>2010/10</td>\n",
              "      <td>5748036.0</td>\n",
              "      <td>5138540.0</td>\n",
              "    </tr>\n",
              "    <tr>\n",
              "      <th>...</th>\n",
              "      <td>...</td>\n",
              "      <td>...</td>\n",
              "      <td>...</td>\n",
              "    </tr>\n",
              "    <tr>\n",
              "      <th>115</th>\n",
              "      <td>2020/1</td>\n",
              "      <td>5941396.0</td>\n",
              "      <td>6179581.0</td>\n",
              "    </tr>\n",
              "    <tr>\n",
              "      <th>116</th>\n",
              "      <td>2020/2</td>\n",
              "      <td>6078998.0</td>\n",
              "      <td>5727298.0</td>\n",
              "    </tr>\n",
              "    <tr>\n",
              "      <th>117</th>\n",
              "      <td>2020/3</td>\n",
              "      <td>5782303.0</td>\n",
              "      <td>6107656.0</td>\n",
              "    </tr>\n",
              "    <tr>\n",
              "      <th>118</th>\n",
              "      <td>2020/4</td>\n",
              "      <td>5121827.0</td>\n",
              "      <td>6164967.0</td>\n",
              "    </tr>\n",
              "    <tr>\n",
              "      <th>119</th>\n",
              "      <td>2020/5</td>\n",
              "      <td>4823431.0</td>\n",
              "      <td>5424400.0</td>\n",
              "    </tr>\n",
              "  </tbody>\n",
              "</table>\n",
              "<p>120 rows × 3 columns</p>\n",
              "</div>"
            ],
            "text/plain": [
              "    Years/Months  Exp-Total  Imp-Total\n",
              "0        2010/06  5635901.0  5238395.0\n",
              "1        2010/07  5688985.0  5187889.0\n",
              "2        2010/08  5643842.0  5176241.0\n",
              "3        2010/09  5581432.0  5108268.0\n",
              "4        2010/10  5748036.0  5138540.0\n",
              "..           ...        ...        ...\n",
              "115       2020/1  5941396.0  6179581.0\n",
              "116       2020/2  6078998.0  5727298.0\n",
              "117       2020/3  5782303.0  6107656.0\n",
              "118       2020/4  5121827.0  6164967.0\n",
              "119       2020/5  4823431.0  5424400.0\n",
              "\n",
              "[120 rows x 3 columns]"
            ]
          },
          "metadata": {
            "tags": []
          },
          "execution_count": 18
        }
      ]
    },
    {
      "cell_type": "markdown",
      "metadata": {
        "id": "qy3JwWNaxEbH",
        "colab_type": "text"
      },
      "source": [
        "## データの可視化\n",
        "次にplotlyというPython packageを使い、輸出・輸入額の時系列変化を\n",
        "可視化してみましょう。"
      ]
    },
    {
      "cell_type": "code",
      "metadata": {
        "id": "-MGNEFH4w9IP",
        "colab_type": "code",
        "colab": {}
      },
      "source": [
        "import plotly.express as px"
      ],
      "execution_count": 19,
      "outputs": []
    },
    {
      "cell_type": "code",
      "metadata": {
        "id": "ig2TbaEyxnvR",
        "colab_type": "code",
        "colab": {
          "base_uri": "https://localhost:8080/",
          "height": 542
        },
        "outputId": "0a9ada08-91e5-4ff1-e00a-01707ce953fc"
      },
      "source": [
        "px.line(df,x='Years/Months', y=['Exp-Total','Imp-Total'])"
      ],
      "execution_count": 20,
      "outputs": [
        {
          "output_type": "display_data",
          "data": {
            "text/html": [
              "<html>\n",
              "<head><meta charset=\"utf-8\" /></head>\n",
              "<body>\n",
              "    <div>\n",
              "            <script src=\"https://cdnjs.cloudflare.com/ajax/libs/mathjax/2.7.5/MathJax.js?config=TeX-AMS-MML_SVG\"></script><script type=\"text/javascript\">if (window.MathJax) {MathJax.Hub.Config({SVG: {font: \"STIX-Web\"}});}</script>\n",
              "                <script type=\"text/javascript\">window.PlotlyConfig = {MathJaxConfig: 'local'};</script>\n",
              "        <script src=\"https://cdn.plot.ly/plotly-latest.min.js\"></script>    \n",
              "            <div id=\"55928027-7cf1-47f5-9285-9881fd46b0de\" class=\"plotly-graph-div\" style=\"height:525px; width:100%;\"></div>\n",
              "            <script type=\"text/javascript\">\n",
              "                \n",
              "                    window.PLOTLYENV=window.PLOTLYENV || {};\n",
              "                    \n",
              "                if (document.getElementById(\"55928027-7cf1-47f5-9285-9881fd46b0de\")) {\n",
              "                    Plotly.newPlot(\n",
              "                        '55928027-7cf1-47f5-9285-9881fd46b0de',\n",
              "                        [{\"hovertemplate\": \"variable=Exp-Total<br>Years/Months=%{x}<br>value=%{y}<extra></extra>\", \"legendgroup\": \"Exp-Total\", \"line\": {\"color\": \"#636efa\", \"dash\": \"solid\"}, \"mode\": \"lines\", \"name\": \"Exp-Total\", \"orientation\": \"v\", \"showlegend\": true, \"type\": \"scatter\", \"x\": [\"2010/06\", \"2010/07\", \"2010/08\", \"2010/09\", \"2010/10\", \"2010/11\", \"2010/12\", \"2011/01\", \"2011/02\", \"2011/03\", \"2011/04\", \"2011/05\", \"2011/06\", \"2011/07\", \"2011/08\", \"2011/09\", \"2011/10\", \"2011/11\", \"2011/12\", \"2012/01\", \"2012/02\", \"2012/03\", \"2012/04\", \"2012/05\", \"2012/06\", \"2012/07\", \"2012/08\", \"2012/09\", \"2012/10\", \"2012/11\", \"2012/12\", \"2013/01\", \"2013/02\", \"2013/03\", \"2013/04\", \"2013/05\", \"2013/06\", \"2013/07\", \"2013/08\", \"2013/09\", \"2013/10\", \"2013/11\", \"2013/12\", \"2014/01\", \"2014/02\", \"2014/03\", \"2014/04\", \"2014/05\", \"2014/06\", \"2014/07\", \"2014/08\", \"2014/09\", \"2014/10\", \"2014/11\", \"2014/12\", \"2015/01\", \"2015/02\", \"2015/03\", \"2015/04\", \"2015/05\", \"2015/06\", \"2015/07\", \"2015/08\", \"2015/09\", \"2015/10\", \"2015/11\", \"2015/12\", \"2016/1\", \"2016/2\", \"2016/3\", \"2016/4\", \"2016/5\", \"2016/6\", \"2016/7\", \"2016/8\", \"2016/9\", \"2016/10\", \"2016/11\", \"2016/12\", \"2017/1\", \"2017/2\", \"2017/3\", \"2017/4\", \"2017/5\", \"2017/6\", \"2017/7\", \"2017/8\", \"2017/9\", \"2017/10\", \"2017/11\", \"2017/12\", \"2018/1\", \"2018/2\", \"2018/3\", \"2018/4\", \"2018/5\", \"2018/6\", \"2018/7\", \"2018/8\", \"2018/9\", \"2018/10\", \"2018/11\", \"2018/12\", \"2019/1\", \"2019/2\", \"2019/3\", \"2019/4\", \"2019/5\", \"2019/6\", \"2019/7\", \"2019/8\", \"2019/9\", \"2019/10\", \"2019/11\", \"2019/12\", \"2020/1\", \"2020/2\", \"2020/3\", \"2020/4\", \"2020/5\"], \"xaxis\": \"x\", \"y\": [5635901.0, 5688985.0, 5643842.0, 5581432.0, 5748036.0, 5745139.0, 5803928.0, 5759996.0, 5754154.0, 5147199.0, 4920439.0, 5159872.0, 5511368.0, 5658632.0, 5661317.0, 5690660.0, 5581473.0, 5432189.0, 5328135.0, 5250281.0, 5378673.0, 5409393.0, 5510000.0, 5517455.0, 5379813.0, 5306331.0, 5238461.0, 5276265.0, 5090912.0, 5107991.0, 5187172.0, 5377113.0, 5436850.0, 5634543.0, 5631943.0, 6042123.0, 5964097.0, 5826990.0, 6027910.0, 5923924.0, 5964745.0, 5996017.0, 5969030.0, 5780603.0, 5964036.0, 5823523.0, 5914435.0, 5934868.0, 5892420.0, 6039240.0, 6108715.0, 6239941.0, 6429360.0, 6400710.0, 6511232.0, 6731672.0, 6109817.0, 6375911.0, 6371876.0, 6287494.0, 6358045.0, 6445077.0, 6372600.0, 6267099.0, 6269672.0, 6142989.0, 5892019.0, 6000420.0, 5666326.0, 5765024.0, 5734131.0, 5727994.0, 5842220.0, 5704908.0, 5643768.0, 5791090.0, 5819143.0, 5913366.0, 6104718.0, 6170606.0, 6512874.0, 6375001.0, 6359297.0, 6472285.0, 6416321.0, 6561162.0, 6622570.0, 6642018.0, 6652550.0, 6786603.0, 6807059.0, 6755798.0, 6589102.0, 6494869.0, 6900370.0, 7020050.0, 6910129.0, 6878404.0, 6976583.0, 6767237.0, 6998850.0, 6738409.0, 6580481.0, 6154762.0, 6450863.0, 6470898.0, 6627591.0, 6471203.0, 6702035.0, 6631632.0, 6422056.0, 6453933.0, 6282791.0, 6205471.0, 6163522.0, 5941396.0, 6078998.0, 5782303.0, 5121827.0, 4823431.0], \"yaxis\": \"y\"}, {\"hovertemplate\": \"variable=Imp-Total<br>Years/Months=%{x}<br>value=%{y}<extra></extra>\", \"legendgroup\": \"Imp-Total\", \"line\": {\"color\": \"#EF553B\", \"dash\": \"solid\"}, \"mode\": \"lines\", \"name\": \"Imp-Total\", \"orientation\": \"v\", \"showlegend\": true, \"type\": \"scatter\", \"x\": [\"2010/06\", \"2010/07\", \"2010/08\", \"2010/09\", \"2010/10\", \"2010/11\", \"2010/12\", \"2011/01\", \"2011/02\", \"2011/03\", \"2011/04\", \"2011/05\", \"2011/06\", \"2011/07\", \"2011/08\", \"2011/09\", \"2011/10\", \"2011/11\", \"2011/12\", \"2012/01\", \"2012/02\", \"2012/03\", \"2012/04\", \"2012/05\", \"2012/06\", \"2012/07\", \"2012/08\", \"2012/09\", \"2012/10\", \"2012/11\", \"2012/12\", \"2013/01\", \"2013/02\", \"2013/03\", \"2013/04\", \"2013/05\", \"2013/06\", \"2013/07\", \"2013/08\", \"2013/09\", \"2013/10\", \"2013/11\", \"2013/12\", \"2014/01\", \"2014/02\", \"2014/03\", \"2014/04\", \"2014/05\", \"2014/06\", \"2014/07\", \"2014/08\", \"2014/09\", \"2014/10\", \"2014/11\", \"2014/12\", \"2015/01\", \"2015/02\", \"2015/03\", \"2015/04\", \"2015/05\", \"2015/06\", \"2015/07\", \"2015/08\", \"2015/09\", \"2015/10\", \"2015/11\", \"2015/12\", \"2016/1\", \"2016/2\", \"2016/3\", \"2016/4\", \"2016/5\", \"2016/6\", \"2016/7\", \"2016/8\", \"2016/9\", \"2016/10\", \"2016/11\", \"2016/12\", \"2017/1\", \"2017/2\", \"2017/3\", \"2017/4\", \"2017/5\", \"2017/6\", \"2017/7\", \"2017/8\", \"2017/9\", \"2017/10\", \"2017/11\", \"2017/12\", \"2018/1\", \"2018/2\", \"2018/3\", \"2018/4\", \"2018/5\", \"2018/6\", \"2018/7\", \"2018/8\", \"2018/9\", \"2018/10\", \"2018/11\", \"2018/12\", \"2019/1\", \"2019/2\", \"2019/3\", \"2019/4\", \"2019/5\", \"2019/6\", \"2019/7\", \"2019/8\", \"2019/9\", \"2019/10\", \"2019/11\", \"2019/12\", \"2020/1\", \"2020/2\", \"2020/3\", \"2020/4\", \"2020/5\"], \"xaxis\": \"x\", \"y\": [5238395.0, 5187889.0, 5176241.0, 5108268.0, 5138540.0, 5164765.0, 5136457.0, 5396450.0, 5271215.0, 5299671.0, 5745435.0, 5741959.0, 5705350.0, 5885568.0, 6016251.0, 5667415.0, 5989950.0, 5849585.0, 5786640.0, 5702045.0, 5530573.0, 6020203.0, 6056896.0, 6251324.0, 5826313.0, 5770639.0, 5699104.0, 6379039.0, 5524250.0, 5746199.0, 5978432.0, 6015009.0, 6462094.0, 6555475.0, 6558023.0, 6808663.0, 6781365.0, 6736586.0, 6934177.0, 6937602.0, 7066300.0, 7246025.0, 7148171.0, 7330429.0, 7076327.0, 7701995.0, 6990490.0, 6933026.0, 6943951.0, 7031786.0, 7044662.0, 7203877.0, 7123894.0, 7325122.0, 7033426.0, 6902085.0, 6863289.0, 6408843.0, 6673316.0, 6557254.0, 6639587.0, 6676445.0, 6761028.0, 6519467.0, 6420812.0, 6120099.0, 5827691.0, 5831311.0, 5585336.0, 5443158.0, 5346048.0, 5411580.0, 5465397.0, 5416780.0, 5271150.0, 5355539.0, 5454141.0, 5560006.0, 5807427.0, 6070533.0, 6063922.0, 6220135.0, 6388006.0, 6178009.0, 6272946.0, 6243728.0, 6207197.0, 6313320.0, 6247011.0, 6436352.0, 6859856.0, 6414882.0, 7114167.0, 6469943.0, 6333300.0, 7120767.0, 6735117.0, 6914934.0, 7046222.0, 7028954.0, 7293535.0, 7178157.0, 6913656.0, 6508210.0, 6650073.0, 6740174.0, 6604180.0, 6853304.0, 6615388.0, 6664842.0, 6506137.0, 6512443.0, 6322011.0, 6358722.0, 6364236.0, 6179581.0, 5727298.0, 6107656.0, 6164967.0, 5424400.0], \"yaxis\": \"y\"}],\n",
              "                        {\"legend\": {\"title\": {\"text\": \"variable\"}, \"tracegroupgap\": 0}, \"margin\": {\"t\": 60}, \"template\": {\"data\": {\"bar\": [{\"error_x\": {\"color\": \"#2a3f5f\"}, \"error_y\": {\"color\": \"#2a3f5f\"}, \"marker\": {\"line\": {\"color\": \"#E5ECF6\", \"width\": 0.5}}, \"type\": \"bar\"}], \"barpolar\": [{\"marker\": {\"line\": {\"color\": \"#E5ECF6\", \"width\": 0.5}}, \"type\": \"barpolar\"}], \"carpet\": [{\"aaxis\": {\"endlinecolor\": \"#2a3f5f\", \"gridcolor\": \"white\", \"linecolor\": \"white\", \"minorgridcolor\": \"white\", \"startlinecolor\": \"#2a3f5f\"}, \"baxis\": {\"endlinecolor\": \"#2a3f5f\", \"gridcolor\": \"white\", \"linecolor\": \"white\", \"minorgridcolor\": \"white\", \"startlinecolor\": \"#2a3f5f\"}, \"type\": \"carpet\"}], \"choropleth\": [{\"colorbar\": {\"outlinewidth\": 0, \"ticks\": \"\"}, \"type\": \"choropleth\"}], \"contour\": [{\"colorbar\": {\"outlinewidth\": 0, \"ticks\": \"\"}, \"colorscale\": [[0.0, \"#0d0887\"], [0.1111111111111111, \"#46039f\"], [0.2222222222222222, \"#7201a8\"], [0.3333333333333333, \"#9c179e\"], [0.4444444444444444, \"#bd3786\"], [0.5555555555555556, \"#d8576b\"], [0.6666666666666666, \"#ed7953\"], [0.7777777777777778, \"#fb9f3a\"], [0.8888888888888888, \"#fdca26\"], [1.0, \"#f0f921\"]], \"type\": \"contour\"}], \"contourcarpet\": [{\"colorbar\": {\"outlinewidth\": 0, \"ticks\": \"\"}, \"type\": \"contourcarpet\"}], \"heatmap\": [{\"colorbar\": {\"outlinewidth\": 0, \"ticks\": \"\"}, \"colorscale\": [[0.0, \"#0d0887\"], [0.1111111111111111, \"#46039f\"], [0.2222222222222222, \"#7201a8\"], [0.3333333333333333, \"#9c179e\"], [0.4444444444444444, \"#bd3786\"], [0.5555555555555556, \"#d8576b\"], [0.6666666666666666, \"#ed7953\"], [0.7777777777777778, \"#fb9f3a\"], [0.8888888888888888, \"#fdca26\"], [1.0, \"#f0f921\"]], \"type\": \"heatmap\"}], \"heatmapgl\": [{\"colorbar\": {\"outlinewidth\": 0, \"ticks\": \"\"}, \"colorscale\": [[0.0, \"#0d0887\"], [0.1111111111111111, \"#46039f\"], [0.2222222222222222, \"#7201a8\"], [0.3333333333333333, \"#9c179e\"], [0.4444444444444444, \"#bd3786\"], [0.5555555555555556, \"#d8576b\"], [0.6666666666666666, \"#ed7953\"], [0.7777777777777778, \"#fb9f3a\"], [0.8888888888888888, \"#fdca26\"], [1.0, \"#f0f921\"]], \"type\": \"heatmapgl\"}], \"histogram\": [{\"marker\": {\"colorbar\": {\"outlinewidth\": 0, \"ticks\": \"\"}}, \"type\": \"histogram\"}], \"histogram2d\": [{\"colorbar\": {\"outlinewidth\": 0, \"ticks\": \"\"}, \"colorscale\": [[0.0, \"#0d0887\"], [0.1111111111111111, \"#46039f\"], [0.2222222222222222, \"#7201a8\"], [0.3333333333333333, \"#9c179e\"], [0.4444444444444444, \"#bd3786\"], [0.5555555555555556, \"#d8576b\"], [0.6666666666666666, \"#ed7953\"], [0.7777777777777778, \"#fb9f3a\"], [0.8888888888888888, \"#fdca26\"], [1.0, \"#f0f921\"]], \"type\": \"histogram2d\"}], \"histogram2dcontour\": [{\"colorbar\": {\"outlinewidth\": 0, \"ticks\": \"\"}, \"colorscale\": [[0.0, \"#0d0887\"], [0.1111111111111111, \"#46039f\"], [0.2222222222222222, \"#7201a8\"], [0.3333333333333333, \"#9c179e\"], [0.4444444444444444, \"#bd3786\"], [0.5555555555555556, \"#d8576b\"], [0.6666666666666666, \"#ed7953\"], [0.7777777777777778, \"#fb9f3a\"], [0.8888888888888888, \"#fdca26\"], [1.0, \"#f0f921\"]], \"type\": \"histogram2dcontour\"}], \"mesh3d\": [{\"colorbar\": {\"outlinewidth\": 0, \"ticks\": \"\"}, \"type\": \"mesh3d\"}], \"parcoords\": [{\"line\": {\"colorbar\": {\"outlinewidth\": 0, \"ticks\": \"\"}}, \"type\": \"parcoords\"}], \"pie\": [{\"automargin\": true, \"type\": \"pie\"}], \"scatter\": [{\"marker\": {\"colorbar\": {\"outlinewidth\": 0, \"ticks\": \"\"}}, \"type\": \"scatter\"}], \"scatter3d\": [{\"line\": {\"colorbar\": {\"outlinewidth\": 0, \"ticks\": \"\"}}, \"marker\": {\"colorbar\": {\"outlinewidth\": 0, \"ticks\": \"\"}}, \"type\": \"scatter3d\"}], \"scattercarpet\": [{\"marker\": {\"colorbar\": {\"outlinewidth\": 0, \"ticks\": \"\"}}, \"type\": \"scattercarpet\"}], \"scattergeo\": [{\"marker\": {\"colorbar\": {\"outlinewidth\": 0, \"ticks\": \"\"}}, \"type\": \"scattergeo\"}], \"scattergl\": [{\"marker\": {\"colorbar\": {\"outlinewidth\": 0, \"ticks\": \"\"}}, \"type\": \"scattergl\"}], \"scattermapbox\": [{\"marker\": {\"colorbar\": {\"outlinewidth\": 0, \"ticks\": \"\"}}, \"type\": \"scattermapbox\"}], \"scatterpolar\": [{\"marker\": {\"colorbar\": {\"outlinewidth\": 0, \"ticks\": \"\"}}, \"type\": \"scatterpolar\"}], \"scatterpolargl\": [{\"marker\": {\"colorbar\": {\"outlinewidth\": 0, \"ticks\": \"\"}}, \"type\": \"scatterpolargl\"}], \"scatterternary\": [{\"marker\": {\"colorbar\": {\"outlinewidth\": 0, \"ticks\": \"\"}}, \"type\": \"scatterternary\"}], \"surface\": [{\"colorbar\": {\"outlinewidth\": 0, \"ticks\": \"\"}, \"colorscale\": [[0.0, \"#0d0887\"], [0.1111111111111111, \"#46039f\"], [0.2222222222222222, \"#7201a8\"], [0.3333333333333333, \"#9c179e\"], [0.4444444444444444, \"#bd3786\"], [0.5555555555555556, \"#d8576b\"], [0.6666666666666666, \"#ed7953\"], [0.7777777777777778, \"#fb9f3a\"], [0.8888888888888888, \"#fdca26\"], [1.0, \"#f0f921\"]], \"type\": \"surface\"}], \"table\": [{\"cells\": {\"fill\": {\"color\": \"#EBF0F8\"}, \"line\": {\"color\": \"white\"}}, \"header\": {\"fill\": {\"color\": \"#C8D4E3\"}, \"line\": {\"color\": \"white\"}}, \"type\": \"table\"}]}, \"layout\": {\"annotationdefaults\": {\"arrowcolor\": \"#2a3f5f\", \"arrowhead\": 0, \"arrowwidth\": 1}, \"coloraxis\": {\"colorbar\": {\"outlinewidth\": 0, \"ticks\": \"\"}}, \"colorscale\": {\"diverging\": [[0, \"#8e0152\"], [0.1, \"#c51b7d\"], [0.2, \"#de77ae\"], [0.3, \"#f1b6da\"], [0.4, \"#fde0ef\"], [0.5, \"#f7f7f7\"], [0.6, \"#e6f5d0\"], [0.7, \"#b8e186\"], [0.8, \"#7fbc41\"], [0.9, \"#4d9221\"], [1, \"#276419\"]], \"sequential\": [[0.0, \"#0d0887\"], [0.1111111111111111, \"#46039f\"], [0.2222222222222222, \"#7201a8\"], [0.3333333333333333, \"#9c179e\"], [0.4444444444444444, \"#bd3786\"], [0.5555555555555556, \"#d8576b\"], [0.6666666666666666, \"#ed7953\"], [0.7777777777777778, \"#fb9f3a\"], [0.8888888888888888, \"#fdca26\"], [1.0, \"#f0f921\"]], \"sequentialminus\": [[0.0, \"#0d0887\"], [0.1111111111111111, \"#46039f\"], [0.2222222222222222, \"#7201a8\"], [0.3333333333333333, \"#9c179e\"], [0.4444444444444444, \"#bd3786\"], [0.5555555555555556, \"#d8576b\"], [0.6666666666666666, \"#ed7953\"], [0.7777777777777778, \"#fb9f3a\"], [0.8888888888888888, \"#fdca26\"], [1.0, \"#f0f921\"]]}, \"colorway\": [\"#636efa\", \"#EF553B\", \"#00cc96\", \"#ab63fa\", \"#FFA15A\", \"#19d3f3\", \"#FF6692\", \"#B6E880\", \"#FF97FF\", \"#FECB52\"], \"font\": {\"color\": \"#2a3f5f\"}, \"geo\": {\"bgcolor\": \"white\", \"lakecolor\": \"white\", \"landcolor\": \"#E5ECF6\", \"showlakes\": true, \"showland\": true, \"subunitcolor\": \"white\"}, \"hoverlabel\": {\"align\": \"left\"}, \"hovermode\": \"closest\", \"mapbox\": {\"style\": \"light\"}, \"paper_bgcolor\": \"white\", \"plot_bgcolor\": \"#E5ECF6\", \"polar\": {\"angularaxis\": {\"gridcolor\": \"white\", \"linecolor\": \"white\", \"ticks\": \"\"}, \"bgcolor\": \"#E5ECF6\", \"radialaxis\": {\"gridcolor\": \"white\", \"linecolor\": \"white\", \"ticks\": \"\"}}, \"scene\": {\"xaxis\": {\"backgroundcolor\": \"#E5ECF6\", \"gridcolor\": \"white\", \"gridwidth\": 2, \"linecolor\": \"white\", \"showbackground\": true, \"ticks\": \"\", \"zerolinecolor\": \"white\"}, \"yaxis\": {\"backgroundcolor\": \"#E5ECF6\", \"gridcolor\": \"white\", \"gridwidth\": 2, \"linecolor\": \"white\", \"showbackground\": true, \"ticks\": \"\", \"zerolinecolor\": \"white\"}, \"zaxis\": {\"backgroundcolor\": \"#E5ECF6\", \"gridcolor\": \"white\", \"gridwidth\": 2, \"linecolor\": \"white\", \"showbackground\": true, \"ticks\": \"\", \"zerolinecolor\": \"white\"}}, \"shapedefaults\": {\"line\": {\"color\": \"#2a3f5f\"}}, \"ternary\": {\"aaxis\": {\"gridcolor\": \"white\", \"linecolor\": \"white\", \"ticks\": \"\"}, \"baxis\": {\"gridcolor\": \"white\", \"linecolor\": \"white\", \"ticks\": \"\"}, \"bgcolor\": \"#E5ECF6\", \"caxis\": {\"gridcolor\": \"white\", \"linecolor\": \"white\", \"ticks\": \"\"}}, \"title\": {\"x\": 0.05}, \"xaxis\": {\"automargin\": true, \"gridcolor\": \"white\", \"linecolor\": \"white\", \"ticks\": \"\", \"title\": {\"standoff\": 15}, \"zerolinecolor\": \"white\", \"zerolinewidth\": 2}, \"yaxis\": {\"automargin\": true, \"gridcolor\": \"white\", \"linecolor\": \"white\", \"ticks\": \"\", \"title\": {\"standoff\": 15}, \"zerolinecolor\": \"white\", \"zerolinewidth\": 2}}}, \"xaxis\": {\"anchor\": \"y\", \"domain\": [0.0, 1.0], \"title\": {\"text\": \"Years/Months\"}}, \"yaxis\": {\"anchor\": \"x\", \"domain\": [0.0, 1.0], \"title\": {\"text\": \"value\"}}},\n",
              "                        {\"responsive\": true}\n",
              "                    ).then(function(){\n",
              "                            \n",
              "var gd = document.getElementById('55928027-7cf1-47f5-9285-9881fd46b0de');\n",
              "var x = new MutationObserver(function (mutations, observer) {{\n",
              "        var display = window.getComputedStyle(gd).display;\n",
              "        if (!display || display === 'none') {{\n",
              "            console.log([gd, 'removed!']);\n",
              "            Plotly.purge(gd);\n",
              "            observer.disconnect();\n",
              "        }}\n",
              "}});\n",
              "\n",
              "// Listen for the removal of the full notebook cells\n",
              "var notebookContainer = gd.closest('#notebook-container');\n",
              "if (notebookContainer) {{\n",
              "    x.observe(notebookContainer, {childList: true});\n",
              "}}\n",
              "\n",
              "// Listen for the clearing of the current output cell\n",
              "var outputEl = gd.closest('.output');\n",
              "if (outputEl) {{\n",
              "    x.observe(outputEl, {childList: true});\n",
              "}}\n",
              "\n",
              "                        })\n",
              "                };\n",
              "                \n",
              "            </script>\n",
              "        </div>\n",
              "</body>\n",
              "</html>"
            ]
          },
          "metadata": {
            "tags": []
          }
        }
      ]
    },
    {
      "cell_type": "code",
      "metadata": {
        "id": "AqiBDza-xsV_",
        "colab_type": "code",
        "colab": {}
      },
      "source": [
        ""
      ],
      "execution_count": null,
      "outputs": []
    },
    {
      "cell_type": "markdown",
      "metadata": {
        "id": "D7vpkGNtxufG",
        "colab_type": "text"
      },
      "source": [
        "## データの機械学習\n",
        "次にscikit-learnというPython packageを使い、輸出・輸入額の将来を予測してみましょう。"
      ]
    },
    {
      "cell_type": "code",
      "metadata": {
        "id": "nvI590wdx3Ev",
        "colab_type": "code",
        "colab": {}
      },
      "source": [
        ""
      ],
      "execution_count": null,
      "outputs": []
    }
  ]
}