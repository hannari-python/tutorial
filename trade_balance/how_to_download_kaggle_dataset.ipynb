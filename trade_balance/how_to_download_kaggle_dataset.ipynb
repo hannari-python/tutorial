{
  "nbformat": 4,
  "nbformat_minor": 0,
  "metadata": {
    "colab": {
      "name": "how_to_download_kaggle_dataset",
      "provenance": [],
      "private_outputs": true,
      "authorship_tag": "ABX9TyPLU3LqYTvgIAkSu8itVF6p",
      "include_colab_link": true
    },
    "kernelspec": {
      "name": "python3",
      "display_name": "Python 3"
    }
  },
  "cells": [
    {
      "cell_type": "markdown",
      "metadata": {
        "id": "view-in-github",
        "colab_type": "text"
      },
      "source": [
        "<a href=\"https://colab.research.google.com/github/hannari-python/tutorial/blob/master/trade_balance/how_to_download_kaggle_dataset.ipynb\" target=\"_parent\"><img src=\"https://colab.research.google.com/assets/colab-badge.svg\" alt=\"Open In Colab\"/></a>"
      ]
    },
    {
      "cell_type": "markdown",
      "metadata": {
        "id": "uCNvmo-TrN3c",
        "colab_type": "text"
      },
      "source": [
        "## Kaggle APIのための設定\n",
        "\n",
        "参考：https://qiita.com/katsu1110/items/a8d508a1b6f07bd3a243\n",
        "\n",
        "最初のセルでKaggle APIトークンをgoogle colabのサーバにアップロードします。"
      ]
    },
    {
      "cell_type": "code",
      "metadata": {
        "id": "bfPRAYwFqF_d",
        "colab_type": "code",
        "colab": {}
      },
      "source": [
        "from google.colab import files\n",
        "files.upload()"
      ],
      "execution_count": null,
      "outputs": []
    },
    {
      "cell_type": "code",
      "metadata": {
        "id": "YomjgM-Jq_GU",
        "colab_type": "code",
        "colab": {}
      },
      "source": [
        "!mkdir -p ~/.kaggle\n",
        "!mv kaggle.json ~/.kaggle\n",
        "!chmod 600 /root/.kaggle/kaggle.json"
      ],
      "execution_count": null,
      "outputs": []
    },
    {
      "cell_type": "code",
      "metadata": {
        "id": "WisEB7D-rK2j",
        "colab_type": "code",
        "colab": {}
      },
      "source": [
        "!pip install kaggle"
      ],
      "execution_count": null,
      "outputs": []
    },
    {
      "cell_type": "code",
      "metadata": {
        "id": "1YvkHgGLr1A5",
        "colab_type": "code",
        "colab": {}
      },
      "source": [
        "!kaggle datasets download -d zanjibar/japan-trade-statistics"
      ],
      "execution_count": null,
      "outputs": []
    }
  ]
}