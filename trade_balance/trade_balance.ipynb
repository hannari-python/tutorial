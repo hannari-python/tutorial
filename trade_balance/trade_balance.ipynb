{
  "nbformat": 4,
  "nbformat_minor": 0,
  "metadata": {
    "colab": {
      "name": "trade_balance.ipynb",
      "provenance": [],
      "collapsed_sections": [],
      "toc_visible": true,
      "authorship_tag": "ABX9TyMf/mxvS38FoGxnoOTwJUMJ",
      "include_colab_link": true
    },
    "kernelspec": {
      "name": "python3",
      "display_name": "Python 3"
    }
  },
  "cells": [
    {
      "cell_type": "markdown",
      "metadata": {
        "id": "view-in-github",
        "colab_type": "text"
      },
      "source": [
        "<a href=\"https://colab.research.google.com/github/hannari-python/tutorial/blob/master/trade_balance/trade_balance.ipynb\" target=\"_parent\"><img src=\"https://colab.research.google.com/assets/colab-badge.svg\" alt=\"Open In Colab\"/></a>"
      ]
    },
    {
      "cell_type": "markdown",
      "metadata": {
        "id": "OaaPwOFarj_K",
        "colab_type": "text"
      },
      "source": [
        "# 貿易収支データの読み込み、前処理、可視化\n",
        "\n"
      ]
    },
    {
      "cell_type": "markdown",
      "metadata": {
        "id": "VOSqBQpJuLZW",
        "colab_type": "text"
      },
      "source": [
        "\n",
        "## 読み込み\n",
        "- 貿易収支データはkaggleのzanjibarさんのものを利用（毎月更新されています)\n",
        "   - https://www.kaggle.com/zanjibar/japan-trade-statistics\n",
        "- ライセンスは https://creativecommons.org/licenses/by-sa/4.0/\n",
        "- ライセンスから再配布が可能であるため、今回はkaggleのライブラリをインストールしなくてもデータが利用できるよう、dropboxに利用データを格納しました。\n",
        "   - https://www.dropbox.com/s/xsmjypizhhastyr/y_1997.db?dl=1\n",
        "   - https://www.dropbox.com/s/ej8pj7tflk11cuu/trade_meta_data.db?dl=1\n",
        "   - https://www.dropbox.com/s/jp03pp2gr14bmk0/codes.db?dl=1\n",
        "\n",
        "- 最新データを利用したい場合は、長尾さんのリポジトリを参照ください\n",
        "\n",
        "\n",
        "`!`の後にLinuxコマンドを書くとそのセルの命令はPythonのプログラムではなくLinuxのコマンドとして実行されます。\n",
        "\n",
        "- `wget` はデータをダウンロードするのに使うことができるLinuxのコマンドです。\n",
        "- `mv` はファイルをリネームをするのに使うことができるLinuxのコマンドです。"
      ]
    },
    {
      "cell_type": "code",
      "metadata": {
        "id": "C600pAxRt3DH",
        "colab_type": "code",
        "colab": {
          "base_uri": "https://localhost:8080/",
          "height": 1000
        },
        "outputId": "c68d45e8-0014-4d1c-ef40-ff5c859709db"
      },
      "source": [
        "!wget https://www.dropbox.com/s/xsmjypizhhastyr/y_1997.db?dl=1\n",
        "!wget https://www.dropbox.com/s/ej8pj7tflk11cuu/trade_meta_data.db?dl=1\n",
        "!wget https://www.dropbox.com/s/jp03pp2gr14bmk0/codes.db?dl=1\n",
        "!mv y_1997.db?dl=1 y_1997.db\n",
        "!mv trade_meta_data.db?dl=1 trade_meta_data.db\n",
        "!mv codes.db?dl=1 codes.db"
      ],
      "execution_count": 1,
      "outputs": [
        {
          "output_type": "stream",
          "text": [
            "--2020-08-22 10:00:16--  https://www.dropbox.com/s/xsmjypizhhastyr/y_1997.db?dl=1\n",
            "Resolving www.dropbox.com (www.dropbox.com)... 162.125.1.1, 2620:100:6016:1::a27d:101\n",
            "Connecting to www.dropbox.com (www.dropbox.com)|162.125.1.1|:443... connected.\n",
            "HTTP request sent, awaiting response... 301 Moved Permanently\n",
            "Location: /s/dl/xsmjypizhhastyr/y_1997.db [following]\n",
            "--2020-08-22 10:00:16--  https://www.dropbox.com/s/dl/xsmjypizhhastyr/y_1997.db\n",
            "Reusing existing connection to www.dropbox.com:443.\n",
            "HTTP request sent, awaiting response... 302 Found\n",
            "Location: https://uc09fe8ddb06c08d736e0096c4ca.dl.dropboxusercontent.com/cd/0/get/A96cUyM1wVYGQaxrrnjX8mYG614mtbSnP3sGUwMJ5TaMGdBxQDyRucw_SEXOJsPCjc1O0sSPhGS6gwGRvhHtvQaStT4FRTIwhxvkDo-vVPHgPg/file?dl=1# [following]\n",
            "--2020-08-22 10:00:16--  https://uc09fe8ddb06c08d736e0096c4ca.dl.dropboxusercontent.com/cd/0/get/A96cUyM1wVYGQaxrrnjX8mYG614mtbSnP3sGUwMJ5TaMGdBxQDyRucw_SEXOJsPCjc1O0sSPhGS6gwGRvhHtvQaStT4FRTIwhxvkDo-vVPHgPg/file?dl=1\n",
            "Resolving uc09fe8ddb06c08d736e0096c4ca.dl.dropboxusercontent.com (uc09fe8ddb06c08d736e0096c4ca.dl.dropboxusercontent.com)... 162.125.1.15, 2620:100:6016:15::a27d:10f\n",
            "Connecting to uc09fe8ddb06c08d736e0096c4ca.dl.dropboxusercontent.com (uc09fe8ddb06c08d736e0096c4ca.dl.dropboxusercontent.com)|162.125.1.15|:443... connected.\n",
            "HTTP request sent, awaiting response... 200 OK\n",
            "Length: 482275328 (460M) [application/binary]\n",
            "Saving to: ‘y_1997.db?dl=1’\n",
            "\n",
            "y_1997.db?dl=1      100%[===================>] 459.93M  84.5MB/s    in 5.7s    \n",
            "\n",
            "2020-08-22 10:00:22 (80.5 MB/s) - ‘y_1997.db?dl=1’ saved [482275328/482275328]\n",
            "\n",
            "--2020-08-22 10:00:25--  https://www.dropbox.com/s/ej8pj7tflk11cuu/trade_meta_data.db?dl=1\n",
            "Resolving www.dropbox.com (www.dropbox.com)... 162.125.1.1, 2620:100:6016:1::a27d:101\n",
            "Connecting to www.dropbox.com (www.dropbox.com)|162.125.1.1|:443... connected.\n",
            "HTTP request sent, awaiting response... 301 Moved Permanently\n",
            "Location: /s/dl/ej8pj7tflk11cuu/trade_meta_data.db [following]\n",
            "--2020-08-22 10:00:25--  https://www.dropbox.com/s/dl/ej8pj7tflk11cuu/trade_meta_data.db\n",
            "Reusing existing connection to www.dropbox.com:443.\n",
            "HTTP request sent, awaiting response... 302 Found\n",
            "Location: https://uce381d94aff74f1c2140d483b08.dl.dropboxusercontent.com/cd/0/get/A94JUlT7jKHAoMI75IkYXe-vOofdIKTJCxOS0vP5-yERyvgBGaMoI9BSUemmOE9paJyG4Okk2Givebeo4F1skmProsoIBfwSDfeA9-tma0VLTg/file?dl=1# [following]\n",
            "--2020-08-22 10:00:25--  https://uce381d94aff74f1c2140d483b08.dl.dropboxusercontent.com/cd/0/get/A94JUlT7jKHAoMI75IkYXe-vOofdIKTJCxOS0vP5-yERyvgBGaMoI9BSUemmOE9paJyG4Okk2Givebeo4F1skmProsoIBfwSDfeA9-tma0VLTg/file?dl=1\n",
            "Resolving uce381d94aff74f1c2140d483b08.dl.dropboxusercontent.com (uce381d94aff74f1c2140d483b08.dl.dropboxusercontent.com)... 162.125.1.15, 2620:100:6016:15::a27d:10f\n",
            "Connecting to uce381d94aff74f1c2140d483b08.dl.dropboxusercontent.com (uce381d94aff74f1c2140d483b08.dl.dropboxusercontent.com)|162.125.1.15|:443... connected.\n",
            "HTTP request sent, awaiting response... 200 OK\n",
            "Length: 2932736 (2.8M) [application/binary]\n",
            "Saving to: ‘trade_meta_data.db?dl=1’\n",
            "\n",
            "trade_meta_data.db? 100%[===================>]   2.80M  --.-KB/s    in 0.1s    \n",
            "\n",
            "2020-08-22 10:00:26 (20.1 MB/s) - ‘trade_meta_data.db?dl=1’ saved [2932736/2932736]\n",
            "\n",
            "--2020-08-22 10:00:28--  https://www.dropbox.com/s/jp03pp2gr14bmk0/codes.db?dl=1\n",
            "Resolving www.dropbox.com (www.dropbox.com)... 162.125.1.1, 2620:100:6016:1::a27d:101\n",
            "Connecting to www.dropbox.com (www.dropbox.com)|162.125.1.1|:443... connected.\n",
            "HTTP request sent, awaiting response... 301 Moved Permanently\n",
            "Location: /s/dl/jp03pp2gr14bmk0/codes.db [following]\n",
            "--2020-08-22 10:00:28--  https://www.dropbox.com/s/dl/jp03pp2gr14bmk0/codes.db\n",
            "Reusing existing connection to www.dropbox.com:443.\n",
            "HTTP request sent, awaiting response... 302 Found\n",
            "Location: https://uc92ae2dd3151e9ea6e30fb5dc10.dl.dropboxusercontent.com/cd/0/get/A97n63uGk-oLWAthskmInpOpdp0Fl2oa_U7HPopTg17xrMXq-ENOhKuLOHhR3m2Po1RfgoHsBTOBPEzfQf54GRwnvJ1c7xxIy9wDF72pHtPuZQ/file?dl=1# [following]\n",
            "--2020-08-22 10:00:28--  https://uc92ae2dd3151e9ea6e30fb5dc10.dl.dropboxusercontent.com/cd/0/get/A97n63uGk-oLWAthskmInpOpdp0Fl2oa_U7HPopTg17xrMXq-ENOhKuLOHhR3m2Po1RfgoHsBTOBPEzfQf54GRwnvJ1c7xxIy9wDF72pHtPuZQ/file?dl=1\n",
            "Resolving uc92ae2dd3151e9ea6e30fb5dc10.dl.dropboxusercontent.com (uc92ae2dd3151e9ea6e30fb5dc10.dl.dropboxusercontent.com)... 162.125.1.15, 2620:100:6016:15::a27d:10f\n",
            "Connecting to uc92ae2dd3151e9ea6e30fb5dc10.dl.dropboxusercontent.com (uc92ae2dd3151e9ea6e30fb5dc10.dl.dropboxusercontent.com)|162.125.1.15|:443... connected.\n",
            "HTTP request sent, awaiting response... 200 OK\n",
            "Length: 3239936 (3.1M) [application/binary]\n",
            "Saving to: ‘codes.db?dl=1’\n",
            "\n",
            "codes.db?dl=1       100%[===================>]   3.09M  --.-KB/s    in 0.1s    \n",
            "\n",
            "2020-08-22 10:00:29 (22.1 MB/s) - ‘codes.db?dl=1’ saved [3239936/3239936]\n",
            "\n"
          ],
          "name": "stdout"
        }
      ]
    },
    {
      "cell_type": "markdown",
      "metadata": {
        "id": "gFFgx_6vvbNi",
        "colab_type": "text"
      },
      "source": [
        "## ダウンロードの確認\n",
        "\n",
        "- ダウンロードが終了したら、ファイルを確認してください\n",
        "- 3つのファイルがダウンロードされたことが確認できます\n",
        "\n",
        "## データの読み込み\n",
        "- 次にダウンロードしたデータを読み込みます\n",
        "- データベースの読み込みには、sqlite3とpandasを用います\n",
        "- まずはDBにあるテーブルを調べます"
      ]
    },
    {
      "cell_type": "code",
      "metadata": {
        "id": "ljn92E_svGN5",
        "colab_type": "code",
        "colab": {}
      },
      "source": [
        "import sqlite3 \n",
        "import pandas as pd\n",
        "import numpy as np"
      ],
      "execution_count": 97,
      "outputs": []
    },
    {
      "cell_type": "code",
      "metadata": {
        "id": "aUjOMN_2wDeu",
        "colab_type": "code",
        "colab": {
          "base_uri": "https://localhost:8080/",
          "height": 54
        },
        "outputId": "228d3a18-ea2b-4041-8c95-4fcae35fbc50"
      },
      "source": [
        "# まずは含まれるテーブルを参照する\n",
        "conn = sqlite3.connect('/content/y_1997.db')\n",
        "cursor = conn.cursor()\n",
        "cursor.execute('select * from sqlite_master where type=\"table\"') #sql文\n",
        "print(cursor.fetchall())\n",
        "conn.close()"
      ],
      "execution_count": 4,
      "outputs": [
        {
          "output_type": "stream",
          "text": [
            "[('table', 'year_from_1997', 'year_from_1997', 2, 'CREATE TABLE \"year_from_1997\" (\\n\"index\" INTEGER,\\n  \"exp_imp\" INTEGER,\\n  \"Year\" INTEGER,\\n  \"Country\" TEXT,\\n  \"Unit1\" TEXT,\\n  \"Unit2\" TEXT,\\n  \"Q1\" INTEGER,\\n  \"Q2\" INTEGER,\\n  \"Value\" INTEGER,\\n  \"hs2\" TEXT,\\n  \"hs4\" TEXT,\\n  \"hs6\" TEXT,\\n  \"hs9\" TEXT\\n)')]\n"
          ],
          "name": "stdout"
        }
      ]
    },
    {
      "cell_type": "markdown",
      "metadata": {
        "id": "EKjWx-wUzhNn",
        "colab_type": "text"
      },
      "source": [
        "# 関数にまとめてテーブルの中身を見る\n",
        "- データベースのテーブル名などの表示\n",
        "- pandasでデータを読む"
      ]
    },
    {
      "cell_type": "code",
      "metadata": {
        "id": "uFHm9cU7yaJv",
        "colab_type": "code",
        "colab": {}
      },
      "source": [
        "def show_tables(db_path):\n",
        "  conn = sqlite3.connect(db_path)\n",
        "  cursor = conn.cursor()\n",
        "  cursor.execute('select * from sqlite_master where type=\"table\"') \n",
        "  table_name_list = []\n",
        "  for i in cursor.fetchall():\n",
        "    #print(i)\n",
        "    table_name_list.append(i[1])\n",
        "  conn.close()\n",
        "  return table_name_list"
      ],
      "execution_count": 63,
      "outputs": []
    },
    {
      "cell_type": "code",
      "metadata": {
        "id": "VCSU6w6i0Ypp",
        "colab_type": "code",
        "colab": {
          "base_uri": "https://localhost:8080/",
          "height": 209
        },
        "outputId": "e40a5c15-a8eb-48bb-f747-214d344a9566"
      },
      "source": [
        "trade_meta_table = show_tables('/content/trade_meta_data.db')\n",
        "trade_meta_table"
      ],
      "execution_count": 64,
      "outputs": [
        {
          "output_type": "execute_result",
          "data": {
            "text/plain": [
              "['country_jpn',\n",
              " 'hs2_jpn',\n",
              " 'hs2_eng',\n",
              " 'hs4_eng',\n",
              " 'hs6_jpn',\n",
              " 'hs6_eng',\n",
              " 'hs9_jpn',\n",
              " 'hs9_eng',\n",
              " 'country_eng',\n",
              " 'custom',\n",
              " 'hs4_jpn']"
            ]
          },
          "metadata": {
            "tags": []
          },
          "execution_count": 64
        }
      ]
    },
    {
      "cell_type": "code",
      "metadata": {
        "id": "BE2KvnQY0dnp",
        "colab_type": "code",
        "colab": {}
      },
      "source": [
        "codes_table = show_tables('/content/codes.db')"
      ],
      "execution_count": 65,
      "outputs": []
    },
    {
      "cell_type": "code",
      "metadata": {
        "id": "vFLw-IYqy5eR",
        "colab_type": "code",
        "colab": {
          "base_uri": "https://localhost:8080/",
          "height": 226
        },
        "outputId": "b4bba1e6-c460-4f7e-c52c-2df627dd25e9"
      },
      "source": [
        "codes_table"
      ],
      "execution_count": 66,
      "outputs": [
        {
          "output_type": "execute_result",
          "data": {
            "text/plain": [
              "['country_jpn',\n",
              " 'hs2_jpn',\n",
              " 'hs2_eng',\n",
              " 'hs4_eng',\n",
              " 'hs6_jpn',\n",
              " 'hs6_eng',\n",
              " 'hs9_jpn',\n",
              " 'hs9_eng',\n",
              " 'country_eng',\n",
              " 'hs4_jpn',\n",
              " 'custom_tmp',\n",
              " 'custom']"
            ]
          },
          "metadata": {
            "tags": []
          },
          "execution_count": 66
        }
      ]
    },
    {
      "cell_type": "code",
      "metadata": {
        "id": "VO4sL_Ia0jVu",
        "colab_type": "code",
        "colab": {}
      },
      "source": [
        "conn = sqlite3.connect('/content/codes.db')\n",
        "sql = f'select * from {codes_table[0]}'\n",
        "code_f = pd.read_sql(sql, conn)"
      ],
      "execution_count": 67,
      "outputs": []
    },
    {
      "cell_type": "code",
      "metadata": {
        "id": "7UHJjVHH031h",
        "colab_type": "code",
        "colab": {
          "base_uri": "https://localhost:8080/",
          "height": 404
        },
        "outputId": "7ff90b57-16de-4feb-fd9a-99568e8939cd"
      },
      "source": [
        "code_f"
      ],
      "execution_count": 68,
      "outputs": [
        {
          "output_type": "execute_result",
          "data": {
            "text/html": [
              "<div>\n",
              "<style scoped>\n",
              "    .dataframe tbody tr th:only-of-type {\n",
              "        vertical-align: middle;\n",
              "    }\n",
              "\n",
              "    .dataframe tbody tr th {\n",
              "        vertical-align: top;\n",
              "    }\n",
              "\n",
              "    .dataframe thead th {\n",
              "        text-align: right;\n",
              "    }\n",
              "</style>\n",
              "<table border=\"1\" class=\"dataframe\">\n",
              "  <thead>\n",
              "    <tr style=\"text-align: right;\">\n",
              "      <th></th>\n",
              "      <th>Country</th>\n",
              "      <th>Country_name</th>\n",
              "      <th>Area</th>\n",
              "    </tr>\n",
              "  </thead>\n",
              "  <tbody>\n",
              "    <tr>\n",
              "      <th>0</th>\n",
              "      <td>103</td>\n",
              "      <td>大韓民国</td>\n",
              "      <td>Asia</td>\n",
              "    </tr>\n",
              "    <tr>\n",
              "      <th>1</th>\n",
              "      <td>104</td>\n",
              "      <td>北朝鮮</td>\n",
              "      <td>Asia</td>\n",
              "    </tr>\n",
              "    <tr>\n",
              "      <th>2</th>\n",
              "      <td>105</td>\n",
              "      <td>中華人民共和国</td>\n",
              "      <td>Asia</td>\n",
              "    </tr>\n",
              "    <tr>\n",
              "      <th>3</th>\n",
              "      <td>106</td>\n",
              "      <td>台湾</td>\n",
              "      <td>Asia</td>\n",
              "    </tr>\n",
              "    <tr>\n",
              "      <th>4</th>\n",
              "      <td>107</td>\n",
              "      <td>モンゴル</td>\n",
              "      <td>Asia</td>\n",
              "    </tr>\n",
              "    <tr>\n",
              "      <th>...</th>\n",
              "      <td>...</td>\n",
              "      <td>...</td>\n",
              "      <td>...</td>\n",
              "    </tr>\n",
              "    <tr>\n",
              "      <th>227</th>\n",
              "      <td>627</td>\n",
              "      <td>北マリアナ諸島(米)</td>\n",
              "      <td>Oceania</td>\n",
              "    </tr>\n",
              "    <tr>\n",
              "      <th>228</th>\n",
              "      <td>628</td>\n",
              "      <td>パラオ</td>\n",
              "      <td>Oceania</td>\n",
              "    </tr>\n",
              "    <tr>\n",
              "      <th>229</th>\n",
              "      <td>701</td>\n",
              "      <td>指図式</td>\n",
              "      <td>Special_Area</td>\n",
              "    </tr>\n",
              "    <tr>\n",
              "      <th>230</th>\n",
              "      <td>702</td>\n",
              "      <td>不明</td>\n",
              "      <td>Special_Area</td>\n",
              "    </tr>\n",
              "    <tr>\n",
              "      <th>231</th>\n",
              "      <td>703</td>\n",
              "      <td>保税工場・総合保税地域</td>\n",
              "      <td>Integrated_Hozei_Ar_Special_Area</td>\n",
              "    </tr>\n",
              "  </tbody>\n",
              "</table>\n",
              "<p>232 rows × 3 columns</p>\n",
              "</div>"
            ],
            "text/plain": [
              "    Country Country_name                              Area\n",
              "0       103         大韓民国                              Asia\n",
              "1       104          北朝鮮                              Asia\n",
              "2       105      中華人民共和国                              Asia\n",
              "3       106           台湾                              Asia\n",
              "4       107         モンゴル                              Asia\n",
              "..      ...          ...                               ...\n",
              "227     627   北マリアナ諸島(米)                           Oceania\n",
              "228     628          パラオ                           Oceania\n",
              "229     701          指図式                      Special_Area\n",
              "230     702           不明                      Special_Area\n",
              "231     703  保税工場・総合保税地域  Integrated_Hozei_Ar_Special_Area\n",
              "\n",
              "[232 rows x 3 columns]"
            ]
          },
          "metadata": {
            "tags": []
          },
          "execution_count": 68
        }
      ]
    },
    {
      "cell_type": "code",
      "metadata": {
        "id": "UMtHy5JyqTw4",
        "colab_type": "code",
        "colab": {}
      },
      "source": [
        "def get_table(db_path, table_name):\n",
        "  conn = sqlite3.connect(db_path)\n",
        "  sql = f'select * from {table_name}'\n",
        "  df = pd.read_sql(sql, conn)\n",
        "  return df"
      ],
      "execution_count": 69,
      "outputs": []
    },
    {
      "cell_type": "code",
      "metadata": {
        "id": "0rNjN2DHrKXG",
        "colab_type": "code",
        "colab": {}
      },
      "source": [
        "test_table = get_table('/content/trade_meta_data.db', codes_table[0])"
      ],
      "execution_count": 92,
      "outputs": []
    },
    {
      "cell_type": "code",
      "metadata": {
        "id": "6hknUqOIxEsT",
        "colab_type": "code",
        "colab": {
          "base_uri": "https://localhost:8080/",
          "height": 1000
        },
        "outputId": "ec046bcd-812d-43e7-9c33-f66c3762ad51"
      },
      "source": [
        "test_table[:40]"
      ],
      "execution_count": 94,
      "outputs": [
        {
          "output_type": "execute_result",
          "data": {
            "text/html": [
              "<div>\n",
              "<style scoped>\n",
              "    .dataframe tbody tr th:only-of-type {\n",
              "        vertical-align: middle;\n",
              "    }\n",
              "\n",
              "    .dataframe tbody tr th {\n",
              "        vertical-align: top;\n",
              "    }\n",
              "\n",
              "    .dataframe thead th {\n",
              "        text-align: right;\n",
              "    }\n",
              "</style>\n",
              "<table border=\"1\" class=\"dataframe\">\n",
              "  <thead>\n",
              "    <tr style=\"text-align: right;\">\n",
              "      <th></th>\n",
              "      <th>Country</th>\n",
              "      <th>Country_name</th>\n",
              "      <th>Area</th>\n",
              "    </tr>\n",
              "  </thead>\n",
              "  <tbody>\n",
              "    <tr>\n",
              "      <th>0</th>\n",
              "      <td>103</td>\n",
              "      <td>大韓民国</td>\n",
              "      <td>Asia</td>\n",
              "    </tr>\n",
              "    <tr>\n",
              "      <th>1</th>\n",
              "      <td>104</td>\n",
              "      <td>北朝鮮</td>\n",
              "      <td>Asia</td>\n",
              "    </tr>\n",
              "    <tr>\n",
              "      <th>2</th>\n",
              "      <td>105</td>\n",
              "      <td>中華人民共和国</td>\n",
              "      <td>Asia</td>\n",
              "    </tr>\n",
              "    <tr>\n",
              "      <th>3</th>\n",
              "      <td>106</td>\n",
              "      <td>台湾</td>\n",
              "      <td>Asia</td>\n",
              "    </tr>\n",
              "    <tr>\n",
              "      <th>4</th>\n",
              "      <td>107</td>\n",
              "      <td>モンゴル</td>\n",
              "      <td>Asia</td>\n",
              "    </tr>\n",
              "    <tr>\n",
              "      <th>5</th>\n",
              "      <td>108</td>\n",
              "      <td>香港</td>\n",
              "      <td>Asia</td>\n",
              "    </tr>\n",
              "    <tr>\n",
              "      <th>6</th>\n",
              "      <td>110</td>\n",
              "      <td>ベトナム</td>\n",
              "      <td>Asia</td>\n",
              "    </tr>\n",
              "    <tr>\n",
              "      <th>7</th>\n",
              "      <td>111</td>\n",
              "      <td>タイ</td>\n",
              "      <td>Asia</td>\n",
              "    </tr>\n",
              "    <tr>\n",
              "      <th>8</th>\n",
              "      <td>112</td>\n",
              "      <td>シンガポール</td>\n",
              "      <td>Asia</td>\n",
              "    </tr>\n",
              "    <tr>\n",
              "      <th>9</th>\n",
              "      <td>113</td>\n",
              "      <td>マレーシア</td>\n",
              "      <td>Asia</td>\n",
              "    </tr>\n",
              "    <tr>\n",
              "      <th>10</th>\n",
              "      <td>116</td>\n",
              "      <td>ブルネイ</td>\n",
              "      <td>Asia</td>\n",
              "    </tr>\n",
              "    <tr>\n",
              "      <th>11</th>\n",
              "      <td>117</td>\n",
              "      <td>フィリピン</td>\n",
              "      <td>Asia</td>\n",
              "    </tr>\n",
              "    <tr>\n",
              "      <th>12</th>\n",
              "      <td>118</td>\n",
              "      <td>インドネシア</td>\n",
              "      <td>Asia</td>\n",
              "    </tr>\n",
              "    <tr>\n",
              "      <th>13</th>\n",
              "      <td>120</td>\n",
              "      <td>カンボジア</td>\n",
              "      <td>Asia</td>\n",
              "    </tr>\n",
              "    <tr>\n",
              "      <th>14</th>\n",
              "      <td>121</td>\n",
              "      <td>ラオス</td>\n",
              "      <td>Asia</td>\n",
              "    </tr>\n",
              "    <tr>\n",
              "      <th>15</th>\n",
              "      <td>122</td>\n",
              "      <td>ミャンマー</td>\n",
              "      <td>Asia</td>\n",
              "    </tr>\n",
              "    <tr>\n",
              "      <th>16</th>\n",
              "      <td>123</td>\n",
              "      <td>インド</td>\n",
              "      <td>Asia</td>\n",
              "    </tr>\n",
              "    <tr>\n",
              "      <th>17</th>\n",
              "      <td>124</td>\n",
              "      <td>パキスタン</td>\n",
              "      <td>Asia</td>\n",
              "    </tr>\n",
              "    <tr>\n",
              "      <th>18</th>\n",
              "      <td>125</td>\n",
              "      <td>スリランカ</td>\n",
              "      <td>Asia</td>\n",
              "    </tr>\n",
              "    <tr>\n",
              "      <th>19</th>\n",
              "      <td>126</td>\n",
              "      <td>モルディブ</td>\n",
              "      <td>Asia</td>\n",
              "    </tr>\n",
              "    <tr>\n",
              "      <th>20</th>\n",
              "      <td>127</td>\n",
              "      <td>バングラデシュ</td>\n",
              "      <td>Asia</td>\n",
              "    </tr>\n",
              "    <tr>\n",
              "      <th>21</th>\n",
              "      <td>128</td>\n",
              "      <td>東ティモール</td>\n",
              "      <td>Asia</td>\n",
              "    </tr>\n",
              "    <tr>\n",
              "      <th>22</th>\n",
              "      <td>129</td>\n",
              "      <td>マカオ</td>\n",
              "      <td>Asia</td>\n",
              "    </tr>\n",
              "    <tr>\n",
              "      <th>23</th>\n",
              "      <td>130</td>\n",
              "      <td>アフガニスタン</td>\n",
              "      <td>Asia</td>\n",
              "    </tr>\n",
              "    <tr>\n",
              "      <th>24</th>\n",
              "      <td>131</td>\n",
              "      <td>ネパール</td>\n",
              "      <td>Asia</td>\n",
              "    </tr>\n",
              "    <tr>\n",
              "      <th>25</th>\n",
              "      <td>132</td>\n",
              "      <td>ブータン</td>\n",
              "      <td>Asia</td>\n",
              "    </tr>\n",
              "    <tr>\n",
              "      <th>26</th>\n",
              "      <td>133</td>\n",
              "      <td>イラン</td>\n",
              "      <td>Middle_East</td>\n",
              "    </tr>\n",
              "    <tr>\n",
              "      <th>27</th>\n",
              "      <td>134</td>\n",
              "      <td>イラク</td>\n",
              "      <td>Middle_East</td>\n",
              "    </tr>\n",
              "    <tr>\n",
              "      <th>28</th>\n",
              "      <td>135</td>\n",
              "      <td>バーレーン</td>\n",
              "      <td>Middle_East</td>\n",
              "    </tr>\n",
              "    <tr>\n",
              "      <th>29</th>\n",
              "      <td>137</td>\n",
              "      <td>サウジアラビア</td>\n",
              "      <td>Middle_East</td>\n",
              "    </tr>\n",
              "    <tr>\n",
              "      <th>30</th>\n",
              "      <td>138</td>\n",
              "      <td>クウェート</td>\n",
              "      <td>Middle_East</td>\n",
              "    </tr>\n",
              "    <tr>\n",
              "      <th>31</th>\n",
              "      <td>140</td>\n",
              "      <td>カタール</td>\n",
              "      <td>Middle_East</td>\n",
              "    </tr>\n",
              "    <tr>\n",
              "      <th>32</th>\n",
              "      <td>141</td>\n",
              "      <td>オマーン</td>\n",
              "      <td>Middle_East</td>\n",
              "    </tr>\n",
              "    <tr>\n",
              "      <th>33</th>\n",
              "      <td>143</td>\n",
              "      <td>イスラエル</td>\n",
              "      <td>Middle_East</td>\n",
              "    </tr>\n",
              "    <tr>\n",
              "      <th>34</th>\n",
              "      <td>144</td>\n",
              "      <td>ヨルダン</td>\n",
              "      <td>Middle_East</td>\n",
              "    </tr>\n",
              "    <tr>\n",
              "      <th>35</th>\n",
              "      <td>145</td>\n",
              "      <td>シリア</td>\n",
              "      <td>Middle_East</td>\n",
              "    </tr>\n",
              "    <tr>\n",
              "      <th>36</th>\n",
              "      <td>146</td>\n",
              "      <td>レバノン</td>\n",
              "      <td>Middle_East</td>\n",
              "    </tr>\n",
              "    <tr>\n",
              "      <th>37</th>\n",
              "      <td>147</td>\n",
              "      <td>アラブ首長国連邦</td>\n",
              "      <td>Middle_East</td>\n",
              "    </tr>\n",
              "    <tr>\n",
              "      <th>38</th>\n",
              "      <td>149</td>\n",
              "      <td>イエメン</td>\n",
              "      <td>Middle_East</td>\n",
              "    </tr>\n",
              "    <tr>\n",
              "      <th>39</th>\n",
              "      <td>150</td>\n",
              "      <td>アゼルバイジャン</td>\n",
              "      <td>Central_and_East_Europe_Russia</td>\n",
              "    </tr>\n",
              "  </tbody>\n",
              "</table>\n",
              "</div>"
            ],
            "text/plain": [
              "   Country Country_name                            Area\n",
              "0      103         大韓民国                            Asia\n",
              "1      104          北朝鮮                            Asia\n",
              "2      105      中華人民共和国                            Asia\n",
              "3      106           台湾                            Asia\n",
              "4      107         モンゴル                            Asia\n",
              "5      108           香港                            Asia\n",
              "6      110         ベトナム                            Asia\n",
              "7      111           タイ                            Asia\n",
              "8      112       シンガポール                            Asia\n",
              "9      113        マレーシア                            Asia\n",
              "10     116         ブルネイ                            Asia\n",
              "11     117        フィリピン                            Asia\n",
              "12     118       インドネシア                            Asia\n",
              "13     120        カンボジア                            Asia\n",
              "14     121          ラオス                            Asia\n",
              "15     122        ミャンマー                            Asia\n",
              "16     123          インド                            Asia\n",
              "17     124        パキスタン                            Asia\n",
              "18     125        スリランカ                            Asia\n",
              "19     126        モルディブ                            Asia\n",
              "20     127      バングラデシュ                            Asia\n",
              "21     128       東ティモール                            Asia\n",
              "22     129          マカオ                            Asia\n",
              "23     130      アフガニスタン                            Asia\n",
              "24     131         ネパール                            Asia\n",
              "25     132         ブータン                            Asia\n",
              "26     133          イラン                     Middle_East\n",
              "27     134          イラク                     Middle_East\n",
              "28     135        バーレーン                     Middle_East\n",
              "29     137      サウジアラビア                     Middle_East\n",
              "30     138        クウェート                     Middle_East\n",
              "31     140         カタール                     Middle_East\n",
              "32     141         オマーン                     Middle_East\n",
              "33     143        イスラエル                     Middle_East\n",
              "34     144         ヨルダン                     Middle_East\n",
              "35     145          シリア                     Middle_East\n",
              "36     146         レバノン                     Middle_East\n",
              "37     147     アラブ首長国連邦                     Middle_East\n",
              "38     149         イエメン                     Middle_East\n",
              "39     150     アゼルバイジャン  Central_and_East_Europe_Russia"
            ]
          },
          "metadata": {
            "tags": []
          },
          "execution_count": 94
        }
      ]
    },
    {
      "cell_type": "markdown",
      "metadata": {
        "id": "S6UOg4QE0S4C",
        "colab_type": "text"
      },
      "source": [
        "## 課題1\n",
        "- dbの持つテーブルの中身をread_sql関数を使って読んでみましょう"
      ]
    },
    {
      "cell_type": "markdown",
      "metadata": {
        "id": "dxQXJDns0nPQ",
        "colab_type": "text"
      },
      "source": [
        "# 各国の年間の日本に対する輸出入のデータを取得する\n",
        "- y_1997.dbのyear_from_1997を読み込みましょう\n",
        "- その際、全て読み込むとサイズが大きくなるので、金額を合計して読み込みます"
      ]
    },
    {
      "cell_type": "code",
      "metadata": {
        "id": "lO99EmZixFxo",
        "colab_type": "code",
        "colab": {}
      },
      "source": [
        "conn = sqlite3.connect('/content/y_1997.db')\n",
        "sql = 'select Country, exp_imp, Year, sum(Value) as Value from year_from_1997 group by Country, Year, exp_imp'\n",
        "data = pd.read_sql(sql, conn)\n",
        "conn.close()"
      ],
      "execution_count": 75,
      "outputs": []
    },
    {
      "cell_type": "code",
      "metadata": {
        "id": "OyOHRrbLykVr",
        "colab_type": "code",
        "colab": {
          "base_uri": "https://localhost:8080/",
          "height": 404
        },
        "outputId": "08d4c57b-2b05-4682-f2b4-e64911a31879"
      },
      "source": [
        "data #exp_impは１が輸出、2が輸入"
      ],
      "execution_count": 77,
      "outputs": [
        {
          "output_type": "execute_result",
          "data": {
            "text/html": [
              "<div>\n",
              "<style scoped>\n",
              "    .dataframe tbody tr th:only-of-type {\n",
              "        vertical-align: middle;\n",
              "    }\n",
              "\n",
              "    .dataframe tbody tr th {\n",
              "        vertical-align: top;\n",
              "    }\n",
              "\n",
              "    .dataframe thead th {\n",
              "        text-align: right;\n",
              "    }\n",
              "</style>\n",
              "<table border=\"1\" class=\"dataframe\">\n",
              "  <thead>\n",
              "    <tr style=\"text-align: right;\">\n",
              "      <th></th>\n",
              "      <th>Country</th>\n",
              "      <th>exp_imp</th>\n",
              "      <th>Year</th>\n",
              "      <th>Value</th>\n",
              "    </tr>\n",
              "  </thead>\n",
              "  <tbody>\n",
              "    <tr>\n",
              "      <th>0</th>\n",
              "      <td>103</td>\n",
              "      <td>1</td>\n",
              "      <td>1997</td>\n",
              "      <td>3153238334</td>\n",
              "    </tr>\n",
              "    <tr>\n",
              "      <th>1</th>\n",
              "      <td>103</td>\n",
              "      <td>2</td>\n",
              "      <td>1997</td>\n",
              "      <td>1762757028</td>\n",
              "    </tr>\n",
              "    <tr>\n",
              "      <th>2</th>\n",
              "      <td>103</td>\n",
              "      <td>1</td>\n",
              "      <td>1998</td>\n",
              "      <td>2004542479</td>\n",
              "    </tr>\n",
              "    <tr>\n",
              "      <th>3</th>\n",
              "      <td>103</td>\n",
              "      <td>2</td>\n",
              "      <td>1998</td>\n",
              "      <td>1577249772</td>\n",
              "    </tr>\n",
              "    <tr>\n",
              "      <th>4</th>\n",
              "      <td>103</td>\n",
              "      <td>1</td>\n",
              "      <td>1999</td>\n",
              "      <td>2606234190</td>\n",
              "    </tr>\n",
              "    <tr>\n",
              "      <th>...</th>\n",
              "      <td>...</td>\n",
              "      <td>...</td>\n",
              "      <td>...</td>\n",
              "      <td>...</td>\n",
              "    </tr>\n",
              "    <tr>\n",
              "      <th>10217</th>\n",
              "      <td>702</td>\n",
              "      <td>2</td>\n",
              "      <td>2016</td>\n",
              "      <td>183523</td>\n",
              "    </tr>\n",
              "    <tr>\n",
              "      <th>10218</th>\n",
              "      <td>702</td>\n",
              "      <td>2</td>\n",
              "      <td>2017</td>\n",
              "      <td>330381</td>\n",
              "    </tr>\n",
              "    <tr>\n",
              "      <th>10219</th>\n",
              "      <td>702</td>\n",
              "      <td>2</td>\n",
              "      <td>2018</td>\n",
              "      <td>490757</td>\n",
              "    </tr>\n",
              "    <tr>\n",
              "      <th>10220</th>\n",
              "      <td>702</td>\n",
              "      <td>2</td>\n",
              "      <td>2019</td>\n",
              "      <td>247949</td>\n",
              "    </tr>\n",
              "    <tr>\n",
              "      <th>10221</th>\n",
              "      <td>703</td>\n",
              "      <td>2</td>\n",
              "      <td>2014</td>\n",
              "      <td>14312</td>\n",
              "    </tr>\n",
              "  </tbody>\n",
              "</table>\n",
              "<p>10222 rows × 4 columns</p>\n",
              "</div>"
            ],
            "text/plain": [
              "      Country  exp_imp  Year       Value\n",
              "0         103        1  1997  3153238334\n",
              "1         103        2  1997  1762757028\n",
              "2         103        1  1998  2004542479\n",
              "3         103        2  1998  1577249772\n",
              "4         103        1  1999  2606234190\n",
              "...       ...      ...   ...         ...\n",
              "10217     702        2  2016      183523\n",
              "10218     702        2  2017      330381\n",
              "10219     702        2  2018      490757\n",
              "10220     702        2  2019      247949\n",
              "10221     703        2  2014       14312\n",
              "\n",
              "[10222 rows x 4 columns]"
            ]
          },
          "metadata": {
            "tags": []
          },
          "execution_count": 77
        }
      ]
    },
    {
      "cell_type": "markdown",
      "metadata": {
        "id": "fvD9g1PdDtk8",
        "colab_type": "text"
      },
      "source": [
        "## 課題2\n",
        "- 国別のデータではなく、各年の輸出入の合計のデータを作成してみましょう"
      ]
    },
    {
      "cell_type": "markdown",
      "metadata": {
        "id": "PgDjwk1oBeEh",
        "colab_type": "text"
      },
      "source": [
        "# exp_impが数字では分かり難い！！！\n",
        "- ちなみに1が輸出、2が輸入\n",
        "- 辞書を作ってmapで割り当てましょう"
      ]
    },
    {
      "cell_type": "code",
      "metadata": {
        "id": "sFZfmDb7ByYZ",
        "colab_type": "code",
        "colab": {}
      },
      "source": [
        "exp_imp_dict = {1: '輸出', 2:'輸入'}\n",
        "\n",
        "data['輸出入'] = data['exp_imp'].map(lambda x: exp_imp_dict[x])"
      ],
      "execution_count": 122,
      "outputs": []
    },
    {
      "cell_type": "code",
      "metadata": {
        "id": "078CU73UByeC",
        "colab_type": "code",
        "colab": {
          "base_uri": "https://localhost:8080/",
          "height": 404
        },
        "outputId": "7f96d826-5187-4e34-aad4-8a11a7f2e558"
      },
      "source": [
        "data"
      ],
      "execution_count": 123,
      "outputs": [
        {
          "output_type": "execute_result",
          "data": {
            "text/html": [
              "<div>\n",
              "<style scoped>\n",
              "    .dataframe tbody tr th:only-of-type {\n",
              "        vertical-align: middle;\n",
              "    }\n",
              "\n",
              "    .dataframe tbody tr th {\n",
              "        vertical-align: top;\n",
              "    }\n",
              "\n",
              "    .dataframe thead th {\n",
              "        text-align: right;\n",
              "    }\n",
              "</style>\n",
              "<table border=\"1\" class=\"dataframe\">\n",
              "  <thead>\n",
              "    <tr style=\"text-align: right;\">\n",
              "      <th></th>\n",
              "      <th>Country</th>\n",
              "      <th>exp_imp</th>\n",
              "      <th>Year</th>\n",
              "      <th>Value</th>\n",
              "      <th>country_name</th>\n",
              "      <th>輸出入</th>\n",
              "    </tr>\n",
              "  </thead>\n",
              "  <tbody>\n",
              "    <tr>\n",
              "      <th>0</th>\n",
              "      <td>103</td>\n",
              "      <td>1</td>\n",
              "      <td>1997</td>\n",
              "      <td>3153238334</td>\n",
              "      <td>大韓民国</td>\n",
              "      <td>輸出</td>\n",
              "    </tr>\n",
              "    <tr>\n",
              "      <th>1</th>\n",
              "      <td>103</td>\n",
              "      <td>2</td>\n",
              "      <td>1997</td>\n",
              "      <td>1762757028</td>\n",
              "      <td>大韓民国</td>\n",
              "      <td>輸入</td>\n",
              "    </tr>\n",
              "    <tr>\n",
              "      <th>2</th>\n",
              "      <td>103</td>\n",
              "      <td>1</td>\n",
              "      <td>1998</td>\n",
              "      <td>2004542479</td>\n",
              "      <td>大韓民国</td>\n",
              "      <td>輸出</td>\n",
              "    </tr>\n",
              "    <tr>\n",
              "      <th>3</th>\n",
              "      <td>103</td>\n",
              "      <td>2</td>\n",
              "      <td>1998</td>\n",
              "      <td>1577249772</td>\n",
              "      <td>大韓民国</td>\n",
              "      <td>輸入</td>\n",
              "    </tr>\n",
              "    <tr>\n",
              "      <th>4</th>\n",
              "      <td>103</td>\n",
              "      <td>1</td>\n",
              "      <td>1999</td>\n",
              "      <td>2606234190</td>\n",
              "      <td>大韓民国</td>\n",
              "      <td>輸出</td>\n",
              "    </tr>\n",
              "    <tr>\n",
              "      <th>...</th>\n",
              "      <td>...</td>\n",
              "      <td>...</td>\n",
              "      <td>...</td>\n",
              "      <td>...</td>\n",
              "      <td>...</td>\n",
              "      <td>...</td>\n",
              "    </tr>\n",
              "    <tr>\n",
              "      <th>10217</th>\n",
              "      <td>702</td>\n",
              "      <td>2</td>\n",
              "      <td>2016</td>\n",
              "      <td>183523</td>\n",
              "      <td>不明</td>\n",
              "      <td>輸入</td>\n",
              "    </tr>\n",
              "    <tr>\n",
              "      <th>10218</th>\n",
              "      <td>702</td>\n",
              "      <td>2</td>\n",
              "      <td>2017</td>\n",
              "      <td>330381</td>\n",
              "      <td>不明</td>\n",
              "      <td>輸入</td>\n",
              "    </tr>\n",
              "    <tr>\n",
              "      <th>10219</th>\n",
              "      <td>702</td>\n",
              "      <td>2</td>\n",
              "      <td>2018</td>\n",
              "      <td>490757</td>\n",
              "      <td>不明</td>\n",
              "      <td>輸入</td>\n",
              "    </tr>\n",
              "    <tr>\n",
              "      <th>10220</th>\n",
              "      <td>702</td>\n",
              "      <td>2</td>\n",
              "      <td>2019</td>\n",
              "      <td>247949</td>\n",
              "      <td>不明</td>\n",
              "      <td>輸入</td>\n",
              "    </tr>\n",
              "    <tr>\n",
              "      <th>10221</th>\n",
              "      <td>703</td>\n",
              "      <td>2</td>\n",
              "      <td>2014</td>\n",
              "      <td>14312</td>\n",
              "      <td>保税工場・総合保税地域</td>\n",
              "      <td>輸入</td>\n",
              "    </tr>\n",
              "  </tbody>\n",
              "</table>\n",
              "<p>10222 rows × 6 columns</p>\n",
              "</div>"
            ],
            "text/plain": [
              "      Country  exp_imp  Year       Value country_name 輸出入\n",
              "0         103        1  1997  3153238334         大韓民国  輸出\n",
              "1         103        2  1997  1762757028         大韓民国  輸入\n",
              "2         103        1  1998  2004542479         大韓民国  輸出\n",
              "3         103        2  1998  1577249772         大韓民国  輸入\n",
              "4         103        1  1999  2606234190         大韓民国  輸出\n",
              "...       ...      ...   ...         ...          ...  ..\n",
              "10217     702        2  2016      183523           不明  輸入\n",
              "10218     702        2  2017      330381           不明  輸入\n",
              "10219     702        2  2018      490757           不明  輸入\n",
              "10220     702        2  2019      247949           不明  輸入\n",
              "10221     703        2  2014       14312  保税工場・総合保税地域  輸入\n",
              "\n",
              "[10222 rows x 6 columns]"
            ]
          },
          "metadata": {
            "tags": []
          },
          "execution_count": 123
        }
      ]
    },
    {
      "cell_type": "markdown",
      "metadata": {
        "id": "3QM76x_W6wx3",
        "colab_type": "text"
      },
      "source": [
        "## 国名データを使いたい！！！\n",
        "- 上と同じで良いんでしょ!\n",
        "- そのため、番号と国名を辞書にしてそれを使って国名の列をを作る"
      ]
    },
    {
      "cell_type": "code",
      "metadata": {
        "id": "2yjf3k9k2VT1",
        "colab_type": "code",
        "colab": {}
      },
      "source": [
        "# インデックスに国番号、valueに国名を持つSeriesを作成し、to_dictメソッドを使って辞書を作成する\n",
        "code_f\n",
        "country_code = code_f[[\"Country\", \"Country_name\"]]\n",
        "country_code = country_code.set_index(\"Country\")\n",
        "country_dict = country_code.to_dict()[\"Country_name\"]"
      ],
      "execution_count": 124,
      "outputs": []
    },
    {
      "cell_type": "code",
      "metadata": {
        "id": "Xjdb3c6k4TKV",
        "colab_type": "code",
        "colab": {
          "base_uri": "https://localhost:8080/",
          "height": 351
        },
        "outputId": "00a756ec-615c-4d54-9706-fa0643afc414"
      },
      "source": [
        "# mapメソッドとlambda式と辞書を用いて国名列を作成する・・キーエラー・・・\n",
        "# 148がない・・・\n",
        "data[\"country_name\"] = data[\"Country\"].map(lambda x: country_dict[x])"
      ],
      "execution_count": 125,
      "outputs": [
        {
          "output_type": "error",
          "ename": "KeyError",
          "evalue": "ignored",
          "traceback": [
            "\u001b[0;31m---------------------------------------------------------------------------\u001b[0m",
            "\u001b[0;31mKeyError\u001b[0m                                  Traceback (most recent call last)",
            "\u001b[0;32m<ipython-input-125-785574fb7826>\u001b[0m in \u001b[0;36m<module>\u001b[0;34m()\u001b[0m\n\u001b[1;32m      1\u001b[0m \u001b[0;31m# mapメソッドとlambda式と辞書を用いて国名列を作成する・・キーエラー・・・\u001b[0m\u001b[0;34m\u001b[0m\u001b[0;34m\u001b[0m\u001b[0;34m\u001b[0m\u001b[0m\n\u001b[1;32m      2\u001b[0m \u001b[0;31m# 148がない・・・\u001b[0m\u001b[0;34m\u001b[0m\u001b[0;34m\u001b[0m\u001b[0;34m\u001b[0m\u001b[0m\n\u001b[0;32m----> 3\u001b[0;31m \u001b[0mdata\u001b[0m\u001b[0;34m[\u001b[0m\u001b[0;34m\"country_name\"\u001b[0m\u001b[0;34m]\u001b[0m \u001b[0;34m=\u001b[0m \u001b[0mdata\u001b[0m\u001b[0;34m[\u001b[0m\u001b[0;34m\"Country\"\u001b[0m\u001b[0;34m]\u001b[0m\u001b[0;34m.\u001b[0m\u001b[0mmap\u001b[0m\u001b[0;34m(\u001b[0m\u001b[0;32mlambda\u001b[0m \u001b[0mx\u001b[0m\u001b[0;34m:\u001b[0m \u001b[0mcountry_dict\u001b[0m\u001b[0;34m[\u001b[0m\u001b[0mx\u001b[0m\u001b[0;34m]\u001b[0m\u001b[0;34m)\u001b[0m\u001b[0;34m\u001b[0m\u001b[0;34m\u001b[0m\u001b[0m\n\u001b[0m",
            "\u001b[0;32m/usr/local/lib/python3.6/dist-packages/pandas/core/series.py\u001b[0m in \u001b[0;36mmap\u001b[0;34m(self, arg, na_action)\u001b[0m\n\u001b[1;32m   3628\u001b[0m         \u001b[0mdtype\u001b[0m\u001b[0;34m:\u001b[0m \u001b[0mobject\u001b[0m\u001b[0;34m\u001b[0m\u001b[0;34m\u001b[0m\u001b[0m\n\u001b[1;32m   3629\u001b[0m         \"\"\"\n\u001b[0;32m-> 3630\u001b[0;31m         \u001b[0mnew_values\u001b[0m \u001b[0;34m=\u001b[0m \u001b[0msuper\u001b[0m\u001b[0;34m(\u001b[0m\u001b[0;34m)\u001b[0m\u001b[0;34m.\u001b[0m\u001b[0m_map_values\u001b[0m\u001b[0;34m(\u001b[0m\u001b[0marg\u001b[0m\u001b[0;34m,\u001b[0m \u001b[0mna_action\u001b[0m\u001b[0;34m=\u001b[0m\u001b[0mna_action\u001b[0m\u001b[0;34m)\u001b[0m\u001b[0;34m\u001b[0m\u001b[0;34m\u001b[0m\u001b[0m\n\u001b[0m\u001b[1;32m   3631\u001b[0m         \u001b[0;32mreturn\u001b[0m \u001b[0mself\u001b[0m\u001b[0;34m.\u001b[0m\u001b[0m_constructor\u001b[0m\u001b[0;34m(\u001b[0m\u001b[0mnew_values\u001b[0m\u001b[0;34m,\u001b[0m \u001b[0mindex\u001b[0m\u001b[0;34m=\u001b[0m\u001b[0mself\u001b[0m\u001b[0;34m.\u001b[0m\u001b[0mindex\u001b[0m\u001b[0;34m)\u001b[0m\u001b[0;34m.\u001b[0m\u001b[0m__finalize__\u001b[0m\u001b[0;34m(\u001b[0m\u001b[0mself\u001b[0m\u001b[0;34m)\u001b[0m\u001b[0;34m\u001b[0m\u001b[0;34m\u001b[0m\u001b[0m\n\u001b[1;32m   3632\u001b[0m \u001b[0;34m\u001b[0m\u001b[0m\n",
            "\u001b[0;32m/usr/local/lib/python3.6/dist-packages/pandas/core/base.py\u001b[0m in \u001b[0;36m_map_values\u001b[0;34m(self, mapper, na_action)\u001b[0m\n\u001b[1;32m   1143\u001b[0m \u001b[0;34m\u001b[0m\u001b[0m\n\u001b[1;32m   1144\u001b[0m         \u001b[0;31m# mapper is a function\u001b[0m\u001b[0;34m\u001b[0m\u001b[0;34m\u001b[0m\u001b[0;34m\u001b[0m\u001b[0m\n\u001b[0;32m-> 1145\u001b[0;31m         \u001b[0mnew_values\u001b[0m \u001b[0;34m=\u001b[0m \u001b[0mmap_f\u001b[0m\u001b[0;34m(\u001b[0m\u001b[0mvalues\u001b[0m\u001b[0;34m,\u001b[0m \u001b[0mmapper\u001b[0m\u001b[0;34m)\u001b[0m\u001b[0;34m\u001b[0m\u001b[0;34m\u001b[0m\u001b[0m\n\u001b[0m\u001b[1;32m   1146\u001b[0m \u001b[0;34m\u001b[0m\u001b[0m\n\u001b[1;32m   1147\u001b[0m         \u001b[0;32mreturn\u001b[0m \u001b[0mnew_values\u001b[0m\u001b[0;34m\u001b[0m\u001b[0;34m\u001b[0m\u001b[0m\n",
            "\u001b[0;32mpandas/_libs/lib.pyx\u001b[0m in \u001b[0;36mpandas._libs.lib.map_infer\u001b[0;34m()\u001b[0m\n",
            "\u001b[0;32m<ipython-input-125-785574fb7826>\u001b[0m in \u001b[0;36m<lambda>\u001b[0;34m(x)\u001b[0m\n\u001b[1;32m      1\u001b[0m \u001b[0;31m# mapメソッドとlambda式と辞書を用いて国名列を作成する・・キーエラー・・・\u001b[0m\u001b[0;34m\u001b[0m\u001b[0;34m\u001b[0m\u001b[0;34m\u001b[0m\u001b[0m\n\u001b[1;32m      2\u001b[0m \u001b[0;31m# 148がない・・・\u001b[0m\u001b[0;34m\u001b[0m\u001b[0;34m\u001b[0m\u001b[0;34m\u001b[0m\u001b[0m\n\u001b[0;32m----> 3\u001b[0;31m \u001b[0mdata\u001b[0m\u001b[0;34m[\u001b[0m\u001b[0;34m\"country_name\"\u001b[0m\u001b[0;34m]\u001b[0m \u001b[0;34m=\u001b[0m \u001b[0mdata\u001b[0m\u001b[0;34m[\u001b[0m\u001b[0;34m\"Country\"\u001b[0m\u001b[0;34m]\u001b[0m\u001b[0;34m.\u001b[0m\u001b[0mmap\u001b[0m\u001b[0;34m(\u001b[0m\u001b[0;32mlambda\u001b[0m \u001b[0mx\u001b[0m\u001b[0;34m:\u001b[0m \u001b[0mcountry_dict\u001b[0m\u001b[0;34m[\u001b[0m\u001b[0mx\u001b[0m\u001b[0;34m]\u001b[0m\u001b[0;34m)\u001b[0m\u001b[0;34m\u001b[0m\u001b[0;34m\u001b[0m\u001b[0m\n\u001b[0m",
            "\u001b[0;31mKeyError\u001b[0m: '148'"
          ]
        }
      ]
    },
    {
      "cell_type": "code",
      "metadata": {
        "id": "7HpFucqm5wpo",
        "colab_type": "code",
        "colab": {}
      },
      "source": [
        "# KeyErrorを乗り越える関数を作成する（\n",
        "\n",
        "def select_country(x):\n",
        "  n = 0\n",
        "  try:\n",
        "    return country_dict[x]\n",
        "  except:\n",
        "    n += 1\n",
        "    return f'不明_{n}'"
      ],
      "execution_count": 126,
      "outputs": []
    },
    {
      "cell_type": "code",
      "metadata": {
        "colab_type": "code",
        "id": "ODNSRdHP8MrP",
        "colab": {}
      },
      "source": [
        "# この関数をlambda式に渡す\n",
        "data[\"country_name\"] = data[\"Country\"].map(lambda x: select_country(x))"
      ],
      "execution_count": 127,
      "outputs": []
    },
    {
      "cell_type": "code",
      "metadata": {
        "id": "UgG350V_6E9m",
        "colab_type": "code",
        "colab": {
          "base_uri": "https://localhost:8080/",
          "height": 645
        },
        "outputId": "1f572cb3-3505-46e8-919d-b89e35e4006a"
      },
      "source": [
        "data.country_name.unique()"
      ],
      "execution_count": 128,
      "outputs": [
        {
          "output_type": "execute_result",
          "data": {
            "text/plain": [
              "array(['大韓民国', '北朝鮮', '中華人民共和国', '台湾', 'モンゴル', '香港', 'ベトナム', 'タイ',\n",
              "       'シンガポール', 'マレーシア', 'ブルネイ', 'フィリピン', 'インドネシア', 'カンボジア', 'ラオス',\n",
              "       'ミャンマー', 'インド', 'パキスタン', 'スリランカ', 'モルディブ', 'バングラデシュ', '東ティモール',\n",
              "       'マカオ', 'アフガニスタン', 'ネパール', 'ブータン', 'イラン', 'イラク', 'バーレーン', 'サウジアラビア',\n",
              "       'クウェート', 'カタール', 'オマーン', 'イスラエル', 'ヨルダン', 'シリア', 'レバノン',\n",
              "       'アラブ首長国連邦', '不明_1', 'イエメン', 'アゼルバイジャン', 'アルメニア', 'ウズベキスタン',\n",
              "       'カザフスタン', 'キルギス', 'タジキスタン', 'トルクメニスタン', 'ジョージア', 'ヨルダン川西岸及びガザ',\n",
              "       'アイスランド', 'ノルウェー', 'スウェーデン', 'デンマーク', '英国', 'アイルランド', 'オランダ',\n",
              "       'ベルギー', 'ルクセンブルク', 'フランス', 'モナコ', 'アンドラ', 'ドイツ', 'スイス', 'アゾレス(葡)',\n",
              "       'ポルトガル', 'スペイン', 'ジブラルタル(英)', 'イタリア', 'マルタ', 'フィンランド', 'ポーランド',\n",
              "       'ロシア', 'オーストリア', 'ハンガリー', 'セルビア', 'アルバニア', 'ギリシャ', 'ルーマニア',\n",
              "       'ブルガリア', 'キプロス', 'トルコ', 'エストニア', 'ラトビア', 'リトアニア', 'ウクライナ', 'ベラルーシ',\n",
              "       'モルドバ', 'クロアチア', 'スロベニア', 'ボスニア・ヘルツェゴビナ', 'マケドニア旧ユーゴスラビア共和国',\n",
              "       'チェコ', 'スロバキア', 'モンテネグロ', 'コソボ', 'グリーンランド(デンマーク)', 'カナダ',\n",
              "       'サンピエール及びミクロン(仏)', 'アメリカ合衆国', 'メキシコ', 'グアテマラ', 'ホンジュラス', 'ベリーズ',\n",
              "       'エルサルバドル', 'ニカラグア', 'コスタリカ', 'パナマ', 'バーミュダ(英)', 'バハマ', 'ジャマイカ',\n",
              "       'タークス及びカイコス諸島(英)', 'バルバドス', 'トリニダード・トバゴ', 'キューバ', 'ハイチ', 'ドミニカ共和国',\n",
              "       'プエルトリコ(米)', '米領ヴァージン諸島', '蘭領アンティール', '仏領西インド諸島', 'ケイマン諸島(英)',\n",
              "       'グレナダ', 'セントルシア', 'アンティグア・バーブーダ', '英領ヴァージン諸島', 'ドミニカ', 'モントセラト(英)',\n",
              "       'セントクリストファー・ネーヴィス', 'セントビンセント', '英領アンギラ', 'コロンビア', 'ベネズエラ', 'ガイアナ',\n",
              "       'スリナム', '仏領ギアナ', 'エクアドル', 'ペルー', 'ボリビア', 'チリ', 'ブラジル', 'パラグアイ',\n",
              "       'ウルグアイ', 'アルゼンチン', 'フォークランド諸島及びその附属諸島（英）', '英領南極地域', 'モロッコ',\n",
              "       'セウタ及びメリリア(西)', 'アルジェリア', 'チュニジア', 'リビア', 'エジプト', 'スーダン', '西サハラ',\n",
              "       'モーリタニア', 'セネガル', 'ガンビア', 'ギニア・ビサウ', 'ギニア', 'シエラレオネ', 'リベリア',\n",
              "       'コートジボワール', 'ガーナ', 'トーゴ', 'ベナン', 'マリ', 'ブルキナファソ', 'カーボヴェルデ',\n",
              "       'カナリー諸島(西)', 'ナイジェリア', 'ニジェール', 'ルワンダ', 'カメルーン', 'チャド', '中央アフリカ',\n",
              "       '赤道ギニア', 'ガボン', 'コンゴ共和国', 'コンゴ民主共和国', 'ブルンジ', 'アンゴラ', 'サントメ・プリンシペ',\n",
              "       'セントヘレナ及びその附属諸島(英)', 'エチオピア', 'ジブチ', 'ソマリア', 'ケニア', 'ウガンダ',\n",
              "       'タンザニア', 'セーシェル', 'モザンビーク', 'マダガスカル', 'モーリシャス', 'レユニオン(仏)',\n",
              "       'ジンバブエ', 'ナミビア', '南アフリカ共和国', 'レソト', 'マラウイ', 'ザンビア', 'ボツワナ',\n",
              "       'スワジランド', '英領インド洋地域', 'コモロ', 'エリトリア', '南スーダン', 'オーストラリア',\n",
              "       'パプアニューギニア', 'その他のオーストラリア領', 'ニュージーランド', 'クック', 'トケラウ諸島(ニュージーランド)',\n",
              "       'ニウエ', 'サモア', 'バヌアツ', 'フィジー', 'ソロモン', 'トンガ', 'キリバス', 'ピットケルン(英)',\n",
              "       'ナウル', 'ニューカレドニア(仏)', '仏領ポリネシア', 'グアム(米)', '米領サモア', '米領オセアニア',\n",
              "       'ツバル', 'マーシャル', 'ミクロネシア', '北マリアナ諸島(米)', 'パラオ', '指図式', '不明',\n",
              "       '保税工場・総合保税地域'], dtype=object)"
            ]
          },
          "metadata": {
            "tags": []
          },
          "execution_count": 128
        }
      ]
    },
    {
      "cell_type": "code",
      "metadata": {
        "id": "vjdYA46t8kXE",
        "colab_type": "code",
        "colab": {
          "base_uri": "https://localhost:8080/",
          "height": 404
        },
        "outputId": "61e9a95f-195a-4365-aa3b-e1a2e793328b"
      },
      "source": [
        "data"
      ],
      "execution_count": 129,
      "outputs": [
        {
          "output_type": "execute_result",
          "data": {
            "text/html": [
              "<div>\n",
              "<style scoped>\n",
              "    .dataframe tbody tr th:only-of-type {\n",
              "        vertical-align: middle;\n",
              "    }\n",
              "\n",
              "    .dataframe tbody tr th {\n",
              "        vertical-align: top;\n",
              "    }\n",
              "\n",
              "    .dataframe thead th {\n",
              "        text-align: right;\n",
              "    }\n",
              "</style>\n",
              "<table border=\"1\" class=\"dataframe\">\n",
              "  <thead>\n",
              "    <tr style=\"text-align: right;\">\n",
              "      <th></th>\n",
              "      <th>Country</th>\n",
              "      <th>exp_imp</th>\n",
              "      <th>Year</th>\n",
              "      <th>Value</th>\n",
              "      <th>country_name</th>\n",
              "      <th>輸出入</th>\n",
              "    </tr>\n",
              "  </thead>\n",
              "  <tbody>\n",
              "    <tr>\n",
              "      <th>0</th>\n",
              "      <td>103</td>\n",
              "      <td>1</td>\n",
              "      <td>1997</td>\n",
              "      <td>3153238334</td>\n",
              "      <td>大韓民国</td>\n",
              "      <td>輸出</td>\n",
              "    </tr>\n",
              "    <tr>\n",
              "      <th>1</th>\n",
              "      <td>103</td>\n",
              "      <td>2</td>\n",
              "      <td>1997</td>\n",
              "      <td>1762757028</td>\n",
              "      <td>大韓民国</td>\n",
              "      <td>輸入</td>\n",
              "    </tr>\n",
              "    <tr>\n",
              "      <th>2</th>\n",
              "      <td>103</td>\n",
              "      <td>1</td>\n",
              "      <td>1998</td>\n",
              "      <td>2004542479</td>\n",
              "      <td>大韓民国</td>\n",
              "      <td>輸出</td>\n",
              "    </tr>\n",
              "    <tr>\n",
              "      <th>3</th>\n",
              "      <td>103</td>\n",
              "      <td>2</td>\n",
              "      <td>1998</td>\n",
              "      <td>1577249772</td>\n",
              "      <td>大韓民国</td>\n",
              "      <td>輸入</td>\n",
              "    </tr>\n",
              "    <tr>\n",
              "      <th>4</th>\n",
              "      <td>103</td>\n",
              "      <td>1</td>\n",
              "      <td>1999</td>\n",
              "      <td>2606234190</td>\n",
              "      <td>大韓民国</td>\n",
              "      <td>輸出</td>\n",
              "    </tr>\n",
              "    <tr>\n",
              "      <th>...</th>\n",
              "      <td>...</td>\n",
              "      <td>...</td>\n",
              "      <td>...</td>\n",
              "      <td>...</td>\n",
              "      <td>...</td>\n",
              "      <td>...</td>\n",
              "    </tr>\n",
              "    <tr>\n",
              "      <th>10217</th>\n",
              "      <td>702</td>\n",
              "      <td>2</td>\n",
              "      <td>2016</td>\n",
              "      <td>183523</td>\n",
              "      <td>不明</td>\n",
              "      <td>輸入</td>\n",
              "    </tr>\n",
              "    <tr>\n",
              "      <th>10218</th>\n",
              "      <td>702</td>\n",
              "      <td>2</td>\n",
              "      <td>2017</td>\n",
              "      <td>330381</td>\n",
              "      <td>不明</td>\n",
              "      <td>輸入</td>\n",
              "    </tr>\n",
              "    <tr>\n",
              "      <th>10219</th>\n",
              "      <td>702</td>\n",
              "      <td>2</td>\n",
              "      <td>2018</td>\n",
              "      <td>490757</td>\n",
              "      <td>不明</td>\n",
              "      <td>輸入</td>\n",
              "    </tr>\n",
              "    <tr>\n",
              "      <th>10220</th>\n",
              "      <td>702</td>\n",
              "      <td>2</td>\n",
              "      <td>2019</td>\n",
              "      <td>247949</td>\n",
              "      <td>不明</td>\n",
              "      <td>輸入</td>\n",
              "    </tr>\n",
              "    <tr>\n",
              "      <th>10221</th>\n",
              "      <td>703</td>\n",
              "      <td>2</td>\n",
              "      <td>2014</td>\n",
              "      <td>14312</td>\n",
              "      <td>保税工場・総合保税地域</td>\n",
              "      <td>輸入</td>\n",
              "    </tr>\n",
              "  </tbody>\n",
              "</table>\n",
              "<p>10222 rows × 6 columns</p>\n",
              "</div>"
            ],
            "text/plain": [
              "      Country  exp_imp  Year       Value country_name 輸出入\n",
              "0         103        1  1997  3153238334         大韓民国  輸出\n",
              "1         103        2  1997  1762757028         大韓民国  輸入\n",
              "2         103        1  1998  2004542479         大韓民国  輸出\n",
              "3         103        2  1998  1577249772         大韓民国  輸入\n",
              "4         103        1  1999  2606234190         大韓民国  輸出\n",
              "...       ...      ...   ...         ...          ...  ..\n",
              "10217     702        2  2016      183523           不明  輸入\n",
              "10218     702        2  2017      330381           不明  輸入\n",
              "10219     702        2  2018      490757           不明  輸入\n",
              "10220     702        2  2019      247949           不明  輸入\n",
              "10221     703        2  2014       14312  保税工場・総合保税地域  輸入\n",
              "\n",
              "[10222 rows x 6 columns]"
            ]
          },
          "metadata": {
            "tags": []
          },
          "execution_count": 129
        }
      ]
    },
    {
      "cell_type": "markdown",
      "metadata": {
        "id": "rbAH-d8kDnS4",
        "colab_type": "text"
      },
      "source": [
        ""
      ]
    },
    {
      "cell_type": "markdown",
      "metadata": {
        "id": "TKTrsAAlAs5H",
        "colab_type": "text"
      },
      "source": [
        "# Plotlyを使ってデータを可視化する\n",
        "- Plotlyはグラフを描画するためのPythonパッケージです\n",
        "   - https://plotly.com/python/\n",
        "- Colabにプリインストールされているものの、バージョンが古いため、pip install --upgrade plotlyで更新してから使います[初めに行っています]\n",
        "- まずはPlotlyExpressという、plotlyのラッパ（簡単に使えるモジュール）を使って可視化します\n",
        "- PlotlyExpressの使い方としては関数名をグラフの種類の選択したあと、データフレームを渡し、そのあとの引数に使いたい列名を渡します\n",
        "  - https://plotly.com/python/plotly-express/\n"
      ]
    },
    {
      "cell_type": "code",
      "metadata": {
        "id": "j-ixC2BAAWaX",
        "colab_type": "code",
        "colab": {}
      },
      "source": [
        "import plotly.express as px"
      ],
      "execution_count": 137,
      "outputs": []
    },
    {
      "cell_type": "code",
      "metadata": {
        "id": "K955D_lZA5yi",
        "colab_type": "code",
        "colab": {
          "base_uri": "https://localhost:8080/",
          "height": 542
        },
        "outputId": "932682e9-87e5-415a-8d27-493e77455082"
      },
      "source": [
        "# 1か国の描画\n",
        "data_korea = data[data['country_name'] == '大韓民国']\n",
        "px.line(data_korea, x='Year', y='Value', color='輸出入', title='大韓民国')"
      ],
      "execution_count": 142,
      "outputs": [
        {
          "output_type": "display_data",
          "data": {
            "text/html": [
              "<html>\n",
              "<head><meta charset=\"utf-8\" /></head>\n",
              "<body>\n",
              "    <div>\n",
              "            <script src=\"https://cdnjs.cloudflare.com/ajax/libs/mathjax/2.7.5/MathJax.js?config=TeX-AMS-MML_SVG\"></script><script type=\"text/javascript\">if (window.MathJax) {MathJax.Hub.Config({SVG: {font: \"STIX-Web\"}});}</script>\n",
              "                <script type=\"text/javascript\">window.PlotlyConfig = {MathJaxConfig: 'local'};</script>\n",
              "        <script src=\"https://cdn.plot.ly/plotly-latest.min.js\"></script>    \n",
              "            <div id=\"661aee0f-16f1-4e68-a51d-0b28e89bb199\" class=\"plotly-graph-div\" style=\"height:525px; width:100%;\"></div>\n",
              "            <script type=\"text/javascript\">\n",
              "                \n",
              "                    window.PLOTLYENV=window.PLOTLYENV || {};\n",
              "                    \n",
              "                if (document.getElementById(\"661aee0f-16f1-4e68-a51d-0b28e89bb199\")) {\n",
              "                    Plotly.newPlot(\n",
              "                        '661aee0f-16f1-4e68-a51d-0b28e89bb199',\n",
              "                        [{\"hoverlabel\": {\"namelength\": 0}, \"hovertemplate\": \"\\u8f38\\u51fa\\u5165=\\u8f38\\u51fa<br>Year=%{x}<br>Value=%{y}\", \"legendgroup\": \"\\u8f38\\u51fa\\u5165=\\u8f38\\u51fa\", \"line\": {\"color\": \"#636efa\", \"dash\": \"solid\"}, \"mode\": \"lines\", \"name\": \"\\u8f38\\u51fa\\u5165=\\u8f38\\u51fa\", \"showlegend\": true, \"type\": \"scatter\", \"x\": [1997, 1998, 1999, 2000, 2001, 2002, 2003, 2004, 2005, 2006, 2007, 2008, 2009, 2010, 2011, 2012, 2013, 2014, 2015, 2016, 2017, 2018, 2019], \"xaxis\": \"x\", \"y\": [3153238334, 2004542479, 2606234190, 3308751342, 3071870837, 3572438503, 4022469201, 4785101348, 5145987430, 5848894531, 6384033197, 6168285159, 4409728690, 5460192548, 5269143087, 4911269560, 5511828490, 5455929552, 5326569268, 5020407925, 5975215940, 5792562476, 5044210452], \"yaxis\": \"y\"}, {\"hoverlabel\": {\"namelength\": 0}, \"hovertemplate\": \"\\u8f38\\u51fa\\u5165=\\u8f38\\u5165<br>Year=%{x}<br>Value=%{y}\", \"legendgroup\": \"\\u8f38\\u51fa\\u5165=\\u8f38\\u5165\", \"line\": {\"color\": \"#EF553B\", \"dash\": \"solid\"}, \"mode\": \"lines\", \"name\": \"\\u8f38\\u51fa\\u5165=\\u8f38\\u5165\", \"showlegend\": true, \"type\": \"scatter\", \"x\": [1997, 1998, 1999, 2000, 2001, 2002, 2003, 2004, 2005, 2006, 2007, 2008, 2009, 2010, 2011, 2012, 2013, 2014, 2015, 2016, 2017, 2018, 2019], \"xaxis\": \"x\", \"y\": [1762757028, 1577249772, 1824285840, 2204702798, 2088355890, 1936786939, 2071181525, 2383405066, 2695287998, 3178253144, 3209558491, 3052017308, 2051039162, 2503979070, 3170051483, 3233703622, 3493116110, 3531341947, 3243864001, 2722051874, 3152745083, 3550463916, 3229209443], \"yaxis\": \"y\"}],\n",
              "                        {\"legend\": {\"tracegroupgap\": 0}, \"template\": {\"data\": {\"bar\": [{\"error_x\": {\"color\": \"#2a3f5f\"}, \"error_y\": {\"color\": \"#2a3f5f\"}, \"marker\": {\"line\": {\"color\": \"#E5ECF6\", \"width\": 0.5}}, \"type\": \"bar\"}], \"barpolar\": [{\"marker\": {\"line\": {\"color\": \"#E5ECF6\", \"width\": 0.5}}, \"type\": \"barpolar\"}], \"carpet\": [{\"aaxis\": {\"endlinecolor\": \"#2a3f5f\", \"gridcolor\": \"white\", \"linecolor\": \"white\", \"minorgridcolor\": \"white\", \"startlinecolor\": \"#2a3f5f\"}, \"baxis\": {\"endlinecolor\": \"#2a3f5f\", \"gridcolor\": \"white\", \"linecolor\": \"white\", \"minorgridcolor\": \"white\", \"startlinecolor\": \"#2a3f5f\"}, \"type\": \"carpet\"}], \"choropleth\": [{\"colorbar\": {\"outlinewidth\": 0, \"ticks\": \"\"}, \"type\": \"choropleth\"}], \"contour\": [{\"colorbar\": {\"outlinewidth\": 0, \"ticks\": \"\"}, \"colorscale\": [[0.0, \"#0d0887\"], [0.1111111111111111, \"#46039f\"], [0.2222222222222222, \"#7201a8\"], [0.3333333333333333, \"#9c179e\"], [0.4444444444444444, \"#bd3786\"], [0.5555555555555556, \"#d8576b\"], [0.6666666666666666, \"#ed7953\"], [0.7777777777777778, \"#fb9f3a\"], [0.8888888888888888, \"#fdca26\"], [1.0, \"#f0f921\"]], \"type\": \"contour\"}], \"contourcarpet\": [{\"colorbar\": {\"outlinewidth\": 0, \"ticks\": \"\"}, \"type\": \"contourcarpet\"}], \"heatmap\": [{\"colorbar\": {\"outlinewidth\": 0, \"ticks\": \"\"}, \"colorscale\": [[0.0, \"#0d0887\"], [0.1111111111111111, \"#46039f\"], [0.2222222222222222, \"#7201a8\"], [0.3333333333333333, \"#9c179e\"], [0.4444444444444444, \"#bd3786\"], [0.5555555555555556, \"#d8576b\"], [0.6666666666666666, \"#ed7953\"], [0.7777777777777778, \"#fb9f3a\"], [0.8888888888888888, \"#fdca26\"], [1.0, \"#f0f921\"]], \"type\": \"heatmap\"}], \"heatmapgl\": [{\"colorbar\": {\"outlinewidth\": 0, \"ticks\": \"\"}, \"colorscale\": [[0.0, \"#0d0887\"], [0.1111111111111111, \"#46039f\"], [0.2222222222222222, \"#7201a8\"], [0.3333333333333333, \"#9c179e\"], [0.4444444444444444, \"#bd3786\"], [0.5555555555555556, \"#d8576b\"], [0.6666666666666666, \"#ed7953\"], [0.7777777777777778, \"#fb9f3a\"], [0.8888888888888888, \"#fdca26\"], [1.0, \"#f0f921\"]], \"type\": \"heatmapgl\"}], \"histogram\": [{\"marker\": {\"colorbar\": {\"outlinewidth\": 0, \"ticks\": \"\"}}, \"type\": \"histogram\"}], \"histogram2d\": [{\"colorbar\": {\"outlinewidth\": 0, \"ticks\": \"\"}, \"colorscale\": [[0.0, \"#0d0887\"], [0.1111111111111111, \"#46039f\"], [0.2222222222222222, \"#7201a8\"], [0.3333333333333333, \"#9c179e\"], [0.4444444444444444, \"#bd3786\"], [0.5555555555555556, \"#d8576b\"], [0.6666666666666666, \"#ed7953\"], [0.7777777777777778, \"#fb9f3a\"], [0.8888888888888888, \"#fdca26\"], [1.0, \"#f0f921\"]], \"type\": \"histogram2d\"}], \"histogram2dcontour\": [{\"colorbar\": {\"outlinewidth\": 0, \"ticks\": \"\"}, \"colorscale\": [[0.0, \"#0d0887\"], [0.1111111111111111, \"#46039f\"], [0.2222222222222222, \"#7201a8\"], [0.3333333333333333, \"#9c179e\"], [0.4444444444444444, \"#bd3786\"], [0.5555555555555556, \"#d8576b\"], [0.6666666666666666, \"#ed7953\"], [0.7777777777777778, \"#fb9f3a\"], [0.8888888888888888, \"#fdca26\"], [1.0, \"#f0f921\"]], \"type\": \"histogram2dcontour\"}], \"mesh3d\": [{\"colorbar\": {\"outlinewidth\": 0, \"ticks\": \"\"}, \"type\": \"mesh3d\"}], \"parcoords\": [{\"line\": {\"colorbar\": {\"outlinewidth\": 0, \"ticks\": \"\"}}, \"type\": \"parcoords\"}], \"pie\": [{\"automargin\": true, \"type\": \"pie\"}], \"scatter\": [{\"marker\": {\"colorbar\": {\"outlinewidth\": 0, \"ticks\": \"\"}}, \"type\": \"scatter\"}], \"scatter3d\": [{\"line\": {\"colorbar\": {\"outlinewidth\": 0, \"ticks\": \"\"}}, \"marker\": {\"colorbar\": {\"outlinewidth\": 0, \"ticks\": \"\"}}, \"type\": \"scatter3d\"}], \"scattercarpet\": [{\"marker\": {\"colorbar\": {\"outlinewidth\": 0, \"ticks\": \"\"}}, \"type\": \"scattercarpet\"}], \"scattergeo\": [{\"marker\": {\"colorbar\": {\"outlinewidth\": 0, \"ticks\": \"\"}}, \"type\": \"scattergeo\"}], \"scattergl\": [{\"marker\": {\"colorbar\": {\"outlinewidth\": 0, \"ticks\": \"\"}}, \"type\": \"scattergl\"}], \"scattermapbox\": [{\"marker\": {\"colorbar\": {\"outlinewidth\": 0, \"ticks\": \"\"}}, \"type\": \"scattermapbox\"}], \"scatterpolar\": [{\"marker\": {\"colorbar\": {\"outlinewidth\": 0, \"ticks\": \"\"}}, \"type\": \"scatterpolar\"}], \"scatterpolargl\": [{\"marker\": {\"colorbar\": {\"outlinewidth\": 0, \"ticks\": \"\"}}, \"type\": \"scatterpolargl\"}], \"scatterternary\": [{\"marker\": {\"colorbar\": {\"outlinewidth\": 0, \"ticks\": \"\"}}, \"type\": \"scatterternary\"}], \"surface\": [{\"colorbar\": {\"outlinewidth\": 0, \"ticks\": \"\"}, \"colorscale\": [[0.0, \"#0d0887\"], [0.1111111111111111, \"#46039f\"], [0.2222222222222222, \"#7201a8\"], [0.3333333333333333, \"#9c179e\"], [0.4444444444444444, \"#bd3786\"], [0.5555555555555556, \"#d8576b\"], [0.6666666666666666, \"#ed7953\"], [0.7777777777777778, \"#fb9f3a\"], [0.8888888888888888, \"#fdca26\"], [1.0, \"#f0f921\"]], \"type\": \"surface\"}], \"table\": [{\"cells\": {\"fill\": {\"color\": \"#EBF0F8\"}, \"line\": {\"color\": \"white\"}}, \"header\": {\"fill\": {\"color\": \"#C8D4E3\"}, \"line\": {\"color\": \"white\"}}, \"type\": \"table\"}]}, \"layout\": {\"annotationdefaults\": {\"arrowcolor\": \"#2a3f5f\", \"arrowhead\": 0, \"arrowwidth\": 1}, \"coloraxis\": {\"colorbar\": {\"outlinewidth\": 0, \"ticks\": \"\"}}, \"colorscale\": {\"diverging\": [[0, \"#8e0152\"], [0.1, \"#c51b7d\"], [0.2, \"#de77ae\"], [0.3, \"#f1b6da\"], [0.4, \"#fde0ef\"], [0.5, \"#f7f7f7\"], [0.6, \"#e6f5d0\"], [0.7, \"#b8e186\"], [0.8, \"#7fbc41\"], [0.9, \"#4d9221\"], [1, \"#276419\"]], \"sequential\": [[0.0, \"#0d0887\"], [0.1111111111111111, \"#46039f\"], [0.2222222222222222, \"#7201a8\"], [0.3333333333333333, \"#9c179e\"], [0.4444444444444444, \"#bd3786\"], [0.5555555555555556, \"#d8576b\"], [0.6666666666666666, \"#ed7953\"], [0.7777777777777778, \"#fb9f3a\"], [0.8888888888888888, \"#fdca26\"], [1.0, \"#f0f921\"]], \"sequentialminus\": [[0.0, \"#0d0887\"], [0.1111111111111111, \"#46039f\"], [0.2222222222222222, \"#7201a8\"], [0.3333333333333333, \"#9c179e\"], [0.4444444444444444, \"#bd3786\"], [0.5555555555555556, \"#d8576b\"], [0.6666666666666666, \"#ed7953\"], [0.7777777777777778, \"#fb9f3a\"], [0.8888888888888888, \"#fdca26\"], [1.0, \"#f0f921\"]]}, \"colorway\": [\"#636efa\", \"#EF553B\", \"#00cc96\", \"#ab63fa\", \"#FFA15A\", \"#19d3f3\", \"#FF6692\", \"#B6E880\", \"#FF97FF\", \"#FECB52\"], \"font\": {\"color\": \"#2a3f5f\"}, \"geo\": {\"bgcolor\": \"white\", \"lakecolor\": \"white\", \"landcolor\": \"#E5ECF6\", \"showlakes\": true, \"showland\": true, \"subunitcolor\": \"white\"}, \"hoverlabel\": {\"align\": \"left\"}, \"hovermode\": \"closest\", \"mapbox\": {\"style\": \"light\"}, \"paper_bgcolor\": \"white\", \"plot_bgcolor\": \"#E5ECF6\", \"polar\": {\"angularaxis\": {\"gridcolor\": \"white\", \"linecolor\": \"white\", \"ticks\": \"\"}, \"bgcolor\": \"#E5ECF6\", \"radialaxis\": {\"gridcolor\": \"white\", \"linecolor\": \"white\", \"ticks\": \"\"}}, \"scene\": {\"xaxis\": {\"backgroundcolor\": \"#E5ECF6\", \"gridcolor\": \"white\", \"gridwidth\": 2, \"linecolor\": \"white\", \"showbackground\": true, \"ticks\": \"\", \"zerolinecolor\": \"white\"}, \"yaxis\": {\"backgroundcolor\": \"#E5ECF6\", \"gridcolor\": \"white\", \"gridwidth\": 2, \"linecolor\": \"white\", \"showbackground\": true, \"ticks\": \"\", \"zerolinecolor\": \"white\"}, \"zaxis\": {\"backgroundcolor\": \"#E5ECF6\", \"gridcolor\": \"white\", \"gridwidth\": 2, \"linecolor\": \"white\", \"showbackground\": true, \"ticks\": \"\", \"zerolinecolor\": \"white\"}}, \"shapedefaults\": {\"line\": {\"color\": \"#2a3f5f\"}}, \"ternary\": {\"aaxis\": {\"gridcolor\": \"white\", \"linecolor\": \"white\", \"ticks\": \"\"}, \"baxis\": {\"gridcolor\": \"white\", \"linecolor\": \"white\", \"ticks\": \"\"}, \"bgcolor\": \"#E5ECF6\", \"caxis\": {\"gridcolor\": \"white\", \"linecolor\": \"white\", \"ticks\": \"\"}}, \"title\": {\"x\": 0.05}, \"xaxis\": {\"automargin\": true, \"gridcolor\": \"white\", \"linecolor\": \"white\", \"ticks\": \"\", \"title\": {\"standoff\": 15}, \"zerolinecolor\": \"white\", \"zerolinewidth\": 2}, \"yaxis\": {\"automargin\": true, \"gridcolor\": \"white\", \"linecolor\": \"white\", \"ticks\": \"\", \"title\": {\"standoff\": 15}, \"zerolinecolor\": \"white\", \"zerolinewidth\": 2}}}, \"title\": {\"text\": \"\\u5927\\u97d3\\u6c11\\u56fd\"}, \"xaxis\": {\"anchor\": \"y\", \"domain\": [0.0, 1.0], \"title\": {\"text\": \"Year\"}}, \"yaxis\": {\"anchor\": \"x\", \"domain\": [0.0, 1.0], \"title\": {\"text\": \"Value\"}}},\n",
              "                        {\"responsive\": true}\n",
              "                    ).then(function(){\n",
              "                            \n",
              "var gd = document.getElementById('661aee0f-16f1-4e68-a51d-0b28e89bb199');\n",
              "var x = new MutationObserver(function (mutations, observer) {{\n",
              "        var display = window.getComputedStyle(gd).display;\n",
              "        if (!display || display === 'none') {{\n",
              "            console.log([gd, 'removed!']);\n",
              "            Plotly.purge(gd);\n",
              "            observer.disconnect();\n",
              "        }}\n",
              "}});\n",
              "\n",
              "// Listen for the removal of the full notebook cells\n",
              "var notebookContainer = gd.closest('#notebook-container');\n",
              "if (notebookContainer) {{\n",
              "    x.observe(notebookContainer, {childList: true});\n",
              "}}\n",
              "\n",
              "// Listen for the clearing of the current output cell\n",
              "var outputEl = gd.closest('.output');\n",
              "if (outputEl) {{\n",
              "    x.observe(outputEl, {childList: true});\n",
              "}}\n",
              "\n",
              "                        })\n",
              "                };\n",
              "                \n",
              "            </script>\n",
              "        </div>\n",
              "</body>\n",
              "</html>"
            ]
          },
          "metadata": {
            "tags": []
          }
        }
      ]
    },
    {
      "cell_type": "markdown",
      "metadata": {
        "id": "LoFg4ADxNoW6",
        "colab_type": "text"
      },
      "source": [
        "## 課題3\n",
        "- PlotlyExpressのサイトを見ながら、何か他のグラフを作成してみてください\n",
        "    - https://plotly.com/python/plotly-express/"
      ]
    },
    {
      "cell_type": "markdown",
      "metadata": {
        "id": "8pxGU2FZN9ZW",
        "colab_type": "text"
      },
      "source": [
        "# Plotly Graph Objectsを使う\n",
        "- PlotlyExpressで十分なことも多いが、やりたいことができない場合もある\n",
        "- このデータの形の場合、複数国のデータを可視化する（輸出入）は難しい\n"
      ]
    },
    {
      "cell_type": "code",
      "metadata": {
        "id": "qBmBYLrRBWr8",
        "colab_type": "code",
        "colab": {
          "base_uri": "https://localhost:8080/",
          "height": 542
        },
        "outputId": "44d1024b-4655-479e-9e27-39cdb2ea4d65"
      },
      "source": [
        "# 複数国の描画(うまく描画できない・・・)\n",
        "two_countries = ['大韓民国', '中華人民共和国']\n",
        "data_two = data[data['country_name'].isin(two_countries)]\n",
        "px.line(data_two, x='Year', y='Value', color='輸出入', title='大韓民国と中華人民共和国')"
      ],
      "execution_count": 147,
      "outputs": [
        {
          "output_type": "display_data",
          "data": {
            "text/html": [
              "<html>\n",
              "<head><meta charset=\"utf-8\" /></head>\n",
              "<body>\n",
              "    <div>\n",
              "            <script src=\"https://cdnjs.cloudflare.com/ajax/libs/mathjax/2.7.5/MathJax.js?config=TeX-AMS-MML_SVG\"></script><script type=\"text/javascript\">if (window.MathJax) {MathJax.Hub.Config({SVG: {font: \"STIX-Web\"}});}</script>\n",
              "                <script type=\"text/javascript\">window.PlotlyConfig = {MathJaxConfig: 'local'};</script>\n",
              "        <script src=\"https://cdn.plot.ly/plotly-latest.min.js\"></script>    \n",
              "            <div id=\"07cde099-ddb6-4d29-b26c-83a3006ddbab\" class=\"plotly-graph-div\" style=\"height:525px; width:100%;\"></div>\n",
              "            <script type=\"text/javascript\">\n",
              "                \n",
              "                    window.PLOTLYENV=window.PLOTLYENV || {};\n",
              "                    \n",
              "                if (document.getElementById(\"07cde099-ddb6-4d29-b26c-83a3006ddbab\")) {\n",
              "                    Plotly.newPlot(\n",
              "                        '07cde099-ddb6-4d29-b26c-83a3006ddbab',\n",
              "                        [{\"hoverlabel\": {\"namelength\": 0}, \"hovertemplate\": \"\\u8f38\\u51fa\\u5165=\\u8f38\\u51fa<br>Year=%{x}<br>Value=%{y}\", \"legendgroup\": \"\\u8f38\\u51fa\\u5165=\\u8f38\\u51fa\", \"line\": {\"color\": \"#636efa\", \"dash\": \"solid\"}, \"mode\": \"lines\", \"name\": \"\\u8f38\\u51fa\\u5165=\\u8f38\\u51fa\", \"showlegend\": true, \"type\": \"scatter\", \"x\": [1997, 1998, 1999, 2000, 2001, 2002, 2003, 2004, 2005, 2006, 2007, 2008, 2009, 2010, 2011, 2012, 2013, 2014, 2015, 2016, 2017, 2018, 2019, 1997, 1998, 1999, 2000, 2001, 2002, 2003, 2004, 2005, 2006, 2007, 2008, 2009, 2010, 2011, 2012, 2013, 2014, 2015, 2016, 2017, 2018, 2019], \"xaxis\": \"x\", \"y\": [3153238334, 2004542479, 2606234190, 3308751342, 3071870837, 3572438503, 4022469201, 4785101348, 5145987430, 5848894531, 6384033197, 6168285159, 4409728690, 5460192548, 5269143087, 4911269560, 5511828490, 5455929552, 5326569268, 5020407925, 5975215940, 5792562476, 5044210452, 2630720664, 2620905420, 2657428102, 3274447888, 3763723102, 4979795581, 6635481534, 7994233171, 8836853027, 10793696067, 12838997782, 12949889116, 10235595660, 13085564799, 12902159758, 11509143901, 12625239116, 13381487410, 13223350314, 12361421736, 14889705986, 15897740448, 14682699314], \"yaxis\": \"y\"}, {\"hoverlabel\": {\"namelength\": 0}, \"hovertemplate\": \"\\u8f38\\u51fa\\u5165=\\u8f38\\u5165<br>Year=%{x}<br>Value=%{y}\", \"legendgroup\": \"\\u8f38\\u51fa\\u5165=\\u8f38\\u5165\", \"line\": {\"color\": \"#EF553B\", \"dash\": \"solid\"}, \"mode\": \"lines\", \"name\": \"\\u8f38\\u51fa\\u5165=\\u8f38\\u5165\", \"showlegend\": true, \"type\": \"scatter\", \"x\": [1997, 1998, 1999, 2000, 2001, 2002, 2003, 2004, 2005, 2006, 2007, 2008, 2009, 2010, 2011, 2012, 2013, 2014, 2015, 2016, 2017, 2018, 2019, 1997, 1998, 1999, 2000, 2001, 2002, 2003, 2004, 2005, 2006, 2007, 2008, 2009, 2010, 2011, 2012, 2013, 2014, 2015, 2016, 2017, 2018, 2019], \"xaxis\": \"x\", \"y\": [1762757028, 1577249772, 1824285840, 2204702798, 2088355890, 1936786939, 2071181525, 2383405066, 2695287998, 3178253144, 3209558491, 3052017308, 2051039162, 2503979070, 3170051483, 3233703622, 3493116110, 3531341947, 3243864001, 2722051874, 3152745083, 3550463916, 3229209443, 5061673266, 4844134624, 4875384565, 5941358135, 7026676502, 7727792563, 8731138638, 10198963424, 11975448971, 13784370438, 15035468305, 14830405945, 11435984200, 13412960198, 14641945454, 15038787251, 17659992158, 19176450101, 19428811556, 17018987595, 18459258807, 19193652551, 18444553947], \"yaxis\": \"y\"}],\n",
              "                        {\"legend\": {\"tracegroupgap\": 0}, \"template\": {\"data\": {\"bar\": [{\"error_x\": {\"color\": \"#2a3f5f\"}, \"error_y\": {\"color\": \"#2a3f5f\"}, \"marker\": {\"line\": {\"color\": \"#E5ECF6\", \"width\": 0.5}}, \"type\": \"bar\"}], \"barpolar\": [{\"marker\": {\"line\": {\"color\": \"#E5ECF6\", \"width\": 0.5}}, \"type\": \"barpolar\"}], \"carpet\": [{\"aaxis\": {\"endlinecolor\": \"#2a3f5f\", \"gridcolor\": \"white\", \"linecolor\": \"white\", \"minorgridcolor\": \"white\", \"startlinecolor\": \"#2a3f5f\"}, \"baxis\": {\"endlinecolor\": \"#2a3f5f\", \"gridcolor\": \"white\", \"linecolor\": \"white\", \"minorgridcolor\": \"white\", \"startlinecolor\": \"#2a3f5f\"}, \"type\": \"carpet\"}], \"choropleth\": [{\"colorbar\": {\"outlinewidth\": 0, \"ticks\": \"\"}, \"type\": \"choropleth\"}], \"contour\": [{\"colorbar\": {\"outlinewidth\": 0, \"ticks\": \"\"}, \"colorscale\": [[0.0, \"#0d0887\"], [0.1111111111111111, \"#46039f\"], [0.2222222222222222, \"#7201a8\"], [0.3333333333333333, \"#9c179e\"], [0.4444444444444444, \"#bd3786\"], [0.5555555555555556, \"#d8576b\"], [0.6666666666666666, \"#ed7953\"], [0.7777777777777778, \"#fb9f3a\"], [0.8888888888888888, \"#fdca26\"], [1.0, \"#f0f921\"]], \"type\": \"contour\"}], \"contourcarpet\": [{\"colorbar\": {\"outlinewidth\": 0, \"ticks\": \"\"}, \"type\": \"contourcarpet\"}], \"heatmap\": [{\"colorbar\": {\"outlinewidth\": 0, \"ticks\": \"\"}, \"colorscale\": [[0.0, \"#0d0887\"], [0.1111111111111111, \"#46039f\"], [0.2222222222222222, \"#7201a8\"], [0.3333333333333333, \"#9c179e\"], [0.4444444444444444, \"#bd3786\"], [0.5555555555555556, \"#d8576b\"], [0.6666666666666666, \"#ed7953\"], [0.7777777777777778, \"#fb9f3a\"], [0.8888888888888888, \"#fdca26\"], [1.0, \"#f0f921\"]], \"type\": \"heatmap\"}], \"heatmapgl\": [{\"colorbar\": {\"outlinewidth\": 0, \"ticks\": \"\"}, \"colorscale\": [[0.0, \"#0d0887\"], [0.1111111111111111, \"#46039f\"], [0.2222222222222222, \"#7201a8\"], [0.3333333333333333, \"#9c179e\"], [0.4444444444444444, \"#bd3786\"], [0.5555555555555556, \"#d8576b\"], [0.6666666666666666, \"#ed7953\"], [0.7777777777777778, \"#fb9f3a\"], [0.8888888888888888, \"#fdca26\"], [1.0, \"#f0f921\"]], \"type\": \"heatmapgl\"}], \"histogram\": [{\"marker\": {\"colorbar\": {\"outlinewidth\": 0, \"ticks\": \"\"}}, \"type\": \"histogram\"}], \"histogram2d\": [{\"colorbar\": {\"outlinewidth\": 0, \"ticks\": \"\"}, \"colorscale\": [[0.0, \"#0d0887\"], [0.1111111111111111, \"#46039f\"], [0.2222222222222222, \"#7201a8\"], [0.3333333333333333, \"#9c179e\"], [0.4444444444444444, \"#bd3786\"], [0.5555555555555556, \"#d8576b\"], [0.6666666666666666, \"#ed7953\"], [0.7777777777777778, \"#fb9f3a\"], [0.8888888888888888, \"#fdca26\"], [1.0, \"#f0f921\"]], \"type\": \"histogram2d\"}], \"histogram2dcontour\": [{\"colorbar\": {\"outlinewidth\": 0, \"ticks\": \"\"}, \"colorscale\": [[0.0, \"#0d0887\"], [0.1111111111111111, \"#46039f\"], [0.2222222222222222, \"#7201a8\"], [0.3333333333333333, \"#9c179e\"], [0.4444444444444444, \"#bd3786\"], [0.5555555555555556, \"#d8576b\"], [0.6666666666666666, \"#ed7953\"], [0.7777777777777778, \"#fb9f3a\"], [0.8888888888888888, \"#fdca26\"], [1.0, \"#f0f921\"]], \"type\": \"histogram2dcontour\"}], \"mesh3d\": [{\"colorbar\": {\"outlinewidth\": 0, \"ticks\": \"\"}, \"type\": \"mesh3d\"}], \"parcoords\": [{\"line\": {\"colorbar\": {\"outlinewidth\": 0, \"ticks\": \"\"}}, \"type\": \"parcoords\"}], \"pie\": [{\"automargin\": true, \"type\": \"pie\"}], \"scatter\": [{\"marker\": {\"colorbar\": {\"outlinewidth\": 0, \"ticks\": \"\"}}, \"type\": \"scatter\"}], \"scatter3d\": [{\"line\": {\"colorbar\": {\"outlinewidth\": 0, \"ticks\": \"\"}}, \"marker\": {\"colorbar\": {\"outlinewidth\": 0, \"ticks\": \"\"}}, \"type\": \"scatter3d\"}], \"scattercarpet\": [{\"marker\": {\"colorbar\": {\"outlinewidth\": 0, \"ticks\": \"\"}}, \"type\": \"scattercarpet\"}], \"scattergeo\": [{\"marker\": {\"colorbar\": {\"outlinewidth\": 0, \"ticks\": \"\"}}, \"type\": \"scattergeo\"}], \"scattergl\": [{\"marker\": {\"colorbar\": {\"outlinewidth\": 0, \"ticks\": \"\"}}, \"type\": \"scattergl\"}], \"scattermapbox\": [{\"marker\": {\"colorbar\": {\"outlinewidth\": 0, \"ticks\": \"\"}}, \"type\": \"scattermapbox\"}], \"scatterpolar\": [{\"marker\": {\"colorbar\": {\"outlinewidth\": 0, \"ticks\": \"\"}}, \"type\": \"scatterpolar\"}], \"scatterpolargl\": [{\"marker\": {\"colorbar\": {\"outlinewidth\": 0, \"ticks\": \"\"}}, \"type\": \"scatterpolargl\"}], \"scatterternary\": [{\"marker\": {\"colorbar\": {\"outlinewidth\": 0, \"ticks\": \"\"}}, \"type\": \"scatterternary\"}], \"surface\": [{\"colorbar\": {\"outlinewidth\": 0, \"ticks\": \"\"}, \"colorscale\": [[0.0, \"#0d0887\"], [0.1111111111111111, \"#46039f\"], [0.2222222222222222, \"#7201a8\"], [0.3333333333333333, \"#9c179e\"], [0.4444444444444444, \"#bd3786\"], [0.5555555555555556, \"#d8576b\"], [0.6666666666666666, \"#ed7953\"], [0.7777777777777778, \"#fb9f3a\"], [0.8888888888888888, \"#fdca26\"], [1.0, \"#f0f921\"]], \"type\": \"surface\"}], \"table\": [{\"cells\": {\"fill\": {\"color\": \"#EBF0F8\"}, \"line\": {\"color\": \"white\"}}, \"header\": {\"fill\": {\"color\": \"#C8D4E3\"}, \"line\": {\"color\": \"white\"}}, \"type\": \"table\"}]}, \"layout\": {\"annotationdefaults\": {\"arrowcolor\": \"#2a3f5f\", \"arrowhead\": 0, \"arrowwidth\": 1}, \"coloraxis\": {\"colorbar\": {\"outlinewidth\": 0, \"ticks\": \"\"}}, \"colorscale\": {\"diverging\": [[0, \"#8e0152\"], [0.1, \"#c51b7d\"], [0.2, \"#de77ae\"], [0.3, \"#f1b6da\"], [0.4, \"#fde0ef\"], [0.5, \"#f7f7f7\"], [0.6, \"#e6f5d0\"], [0.7, \"#b8e186\"], [0.8, \"#7fbc41\"], [0.9, \"#4d9221\"], [1, \"#276419\"]], \"sequential\": [[0.0, \"#0d0887\"], [0.1111111111111111, \"#46039f\"], [0.2222222222222222, \"#7201a8\"], [0.3333333333333333, \"#9c179e\"], [0.4444444444444444, \"#bd3786\"], [0.5555555555555556, \"#d8576b\"], [0.6666666666666666, \"#ed7953\"], [0.7777777777777778, \"#fb9f3a\"], [0.8888888888888888, \"#fdca26\"], [1.0, \"#f0f921\"]], \"sequentialminus\": [[0.0, \"#0d0887\"], [0.1111111111111111, \"#46039f\"], [0.2222222222222222, \"#7201a8\"], [0.3333333333333333, \"#9c179e\"], [0.4444444444444444, \"#bd3786\"], [0.5555555555555556, \"#d8576b\"], [0.6666666666666666, \"#ed7953\"], [0.7777777777777778, \"#fb9f3a\"], [0.8888888888888888, \"#fdca26\"], [1.0, \"#f0f921\"]]}, \"colorway\": [\"#636efa\", \"#EF553B\", \"#00cc96\", \"#ab63fa\", \"#FFA15A\", \"#19d3f3\", \"#FF6692\", \"#B6E880\", \"#FF97FF\", \"#FECB52\"], \"font\": {\"color\": \"#2a3f5f\"}, \"geo\": {\"bgcolor\": \"white\", \"lakecolor\": \"white\", \"landcolor\": \"#E5ECF6\", \"showlakes\": true, \"showland\": true, \"subunitcolor\": \"white\"}, \"hoverlabel\": {\"align\": \"left\"}, \"hovermode\": \"closest\", \"mapbox\": {\"style\": \"light\"}, \"paper_bgcolor\": \"white\", \"plot_bgcolor\": \"#E5ECF6\", \"polar\": {\"angularaxis\": {\"gridcolor\": \"white\", \"linecolor\": \"white\", \"ticks\": \"\"}, \"bgcolor\": \"#E5ECF6\", \"radialaxis\": {\"gridcolor\": \"white\", \"linecolor\": \"white\", \"ticks\": \"\"}}, \"scene\": {\"xaxis\": {\"backgroundcolor\": \"#E5ECF6\", \"gridcolor\": \"white\", \"gridwidth\": 2, \"linecolor\": \"white\", \"showbackground\": true, \"ticks\": \"\", \"zerolinecolor\": \"white\"}, \"yaxis\": {\"backgroundcolor\": \"#E5ECF6\", \"gridcolor\": \"white\", \"gridwidth\": 2, \"linecolor\": \"white\", \"showbackground\": true, \"ticks\": \"\", \"zerolinecolor\": \"white\"}, \"zaxis\": {\"backgroundcolor\": \"#E5ECF6\", \"gridcolor\": \"white\", \"gridwidth\": 2, \"linecolor\": \"white\", \"showbackground\": true, \"ticks\": \"\", \"zerolinecolor\": \"white\"}}, \"shapedefaults\": {\"line\": {\"color\": \"#2a3f5f\"}}, \"ternary\": {\"aaxis\": {\"gridcolor\": \"white\", \"linecolor\": \"white\", \"ticks\": \"\"}, \"baxis\": {\"gridcolor\": \"white\", \"linecolor\": \"white\", \"ticks\": \"\"}, \"bgcolor\": \"#E5ECF6\", \"caxis\": {\"gridcolor\": \"white\", \"linecolor\": \"white\", \"ticks\": \"\"}}, \"title\": {\"x\": 0.05}, \"xaxis\": {\"automargin\": true, \"gridcolor\": \"white\", \"linecolor\": \"white\", \"ticks\": \"\", \"title\": {\"standoff\": 15}, \"zerolinecolor\": \"white\", \"zerolinewidth\": 2}, \"yaxis\": {\"automargin\": true, \"gridcolor\": \"white\", \"linecolor\": \"white\", \"ticks\": \"\", \"title\": {\"standoff\": 15}, \"zerolinecolor\": \"white\", \"zerolinewidth\": 2}}}, \"title\": {\"text\": \"\\u5927\\u97d3\\u6c11\\u56fd\\u3068\\u4e2d\\u83ef\\u4eba\\u6c11\\u5171\\u548c\\u56fd\"}, \"xaxis\": {\"anchor\": \"y\", \"domain\": [0.0, 1.0], \"title\": {\"text\": \"Year\"}}, \"yaxis\": {\"anchor\": \"x\", \"domain\": [0.0, 1.0], \"title\": {\"text\": \"Value\"}}},\n",
              "                        {\"responsive\": true}\n",
              "                    ).then(function(){\n",
              "                            \n",
              "var gd = document.getElementById('07cde099-ddb6-4d29-b26c-83a3006ddbab');\n",
              "var x = new MutationObserver(function (mutations, observer) {{\n",
              "        var display = window.getComputedStyle(gd).display;\n",
              "        if (!display || display === 'none') {{\n",
              "            console.log([gd, 'removed!']);\n",
              "            Plotly.purge(gd);\n",
              "            observer.disconnect();\n",
              "        }}\n",
              "}});\n",
              "\n",
              "// Listen for the removal of the full notebook cells\n",
              "var notebookContainer = gd.closest('#notebook-container');\n",
              "if (notebookContainer) {{\n",
              "    x.observe(notebookContainer, {childList: true});\n",
              "}}\n",
              "\n",
              "// Listen for the clearing of the current output cell\n",
              "var outputEl = gd.closest('.output');\n",
              "if (outputEl) {{\n",
              "    x.observe(outputEl, {childList: true});\n",
              "}}\n",
              "\n",
              "                        })\n",
              "                };\n",
              "                \n",
              "            </script>\n",
              "        </div>\n",
              "</body>\n",
              "</html>"
            ]
          },
          "metadata": {
            "tags": []
          }
        }
      ]
    },
    {
      "cell_type": "markdown",
      "metadata": {
        "id": "QemtipvLKz70",
        "colab_type": "text"
      },
      "source": [
        "- ラッパはできることに限界があるので、plotly graph objectsを使ってみます。\n"
      ]
    },
    {
      "cell_type": "code",
      "metadata": {
        "id": "N-6XwTHfC0Df",
        "colab_type": "code",
        "colab": {}
      },
      "source": [
        "import plotly.graph_objects as go  \n",
        "from plotly.subplots import make_subplots "
      ],
      "execution_count": 152,
      "outputs": []
    },
    {
      "cell_type": "code",
      "metadata": {
        "id": "bnVwuuf-LL9d",
        "colab_type": "code",
        "colab": {
          "base_uri": "https://localhost:8080/",
          "height": 542
        },
        "outputId": "bd16dea2-b763-4252-a071-d4db333e372c"
      },
      "source": [
        "two_countries = ['大韓民国', '中華人民共和国']\n",
        "data_two = data[data['country_name'].isin(two_countries)]\n",
        "fig = go.Figure()\n",
        "\n",
        "for cnt in two_countries:\n",
        "  data_one = data_two[data_two['country_name'] == cnt]\n",
        "  data_one_exp = data_one[data_one['exp_imp'] == 1]\n",
        "  data_one_imp = data_one[data_one['exp_imp'] == 2]\n",
        "\n",
        "  fig.add_trace(go.Scatter(x=data_one_exp['Year'], y=data_one_exp['Value'], name=f'{cnt} 輸出'))\n",
        "  fig.add_trace(go.Scatter(x=data_one_imp['Year'], y=data_one_imp['Value'], name=f'{cnt} 輸入'))\n",
        "\n",
        "fig.show()"
      ],
      "execution_count": 153,
      "outputs": [
        {
          "output_type": "display_data",
          "data": {
            "text/html": [
              "<html>\n",
              "<head><meta charset=\"utf-8\" /></head>\n",
              "<body>\n",
              "    <div>\n",
              "            <script src=\"https://cdnjs.cloudflare.com/ajax/libs/mathjax/2.7.5/MathJax.js?config=TeX-AMS-MML_SVG\"></script><script type=\"text/javascript\">if (window.MathJax) {MathJax.Hub.Config({SVG: {font: \"STIX-Web\"}});}</script>\n",
              "                <script type=\"text/javascript\">window.PlotlyConfig = {MathJaxConfig: 'local'};</script>\n",
              "        <script src=\"https://cdn.plot.ly/plotly-latest.min.js\"></script>    \n",
              "            <div id=\"f237dc85-4fc2-4197-aec5-95e4a6ace54a\" class=\"plotly-graph-div\" style=\"height:525px; width:100%;\"></div>\n",
              "            <script type=\"text/javascript\">\n",
              "                \n",
              "                    window.PLOTLYENV=window.PLOTLYENV || {};\n",
              "                    \n",
              "                if (document.getElementById(\"f237dc85-4fc2-4197-aec5-95e4a6ace54a\")) {\n",
              "                    Plotly.newPlot(\n",
              "                        'f237dc85-4fc2-4197-aec5-95e4a6ace54a',\n",
              "                        [{\"name\": \"\\u5927\\u97d3\\u6c11\\u56fd \\u8f38\\u51fa\", \"type\": \"scatter\", \"x\": [1997, 1998, 1999, 2000, 2001, 2002, 2003, 2004, 2005, 2006, 2007, 2008, 2009, 2010, 2011, 2012, 2013, 2014, 2015, 2016, 2017, 2018, 2019], \"y\": [3153238334, 2004542479, 2606234190, 3308751342, 3071870837, 3572438503, 4022469201, 4785101348, 5145987430, 5848894531, 6384033197, 6168285159, 4409728690, 5460192548, 5269143087, 4911269560, 5511828490, 5455929552, 5326569268, 5020407925, 5975215940, 5792562476, 5044210452]}, {\"name\": \"\\u5927\\u97d3\\u6c11\\u56fd \\u8f38\\u5165\", \"type\": \"scatter\", \"x\": [1997, 1998, 1999, 2000, 2001, 2002, 2003, 2004, 2005, 2006, 2007, 2008, 2009, 2010, 2011, 2012, 2013, 2014, 2015, 2016, 2017, 2018, 2019], \"y\": [1762757028, 1577249772, 1824285840, 2204702798, 2088355890, 1936786939, 2071181525, 2383405066, 2695287998, 3178253144, 3209558491, 3052017308, 2051039162, 2503979070, 3170051483, 3233703622, 3493116110, 3531341947, 3243864001, 2722051874, 3152745083, 3550463916, 3229209443]}, {\"name\": \"\\u4e2d\\u83ef\\u4eba\\u6c11\\u5171\\u548c\\u56fd \\u8f38\\u51fa\", \"type\": \"scatter\", \"x\": [1997, 1998, 1999, 2000, 2001, 2002, 2003, 2004, 2005, 2006, 2007, 2008, 2009, 2010, 2011, 2012, 2013, 2014, 2015, 2016, 2017, 2018, 2019], \"y\": [2630720664, 2620905420, 2657428102, 3274447888, 3763723102, 4979795581, 6635481534, 7994233171, 8836853027, 10793696067, 12838997782, 12949889116, 10235595660, 13085564799, 12902159758, 11509143901, 12625239116, 13381487410, 13223350314, 12361421736, 14889705986, 15897740448, 14682699314]}, {\"name\": \"\\u4e2d\\u83ef\\u4eba\\u6c11\\u5171\\u548c\\u56fd \\u8f38\\u5165\", \"type\": \"scatter\", \"x\": [1997, 1998, 1999, 2000, 2001, 2002, 2003, 2004, 2005, 2006, 2007, 2008, 2009, 2010, 2011, 2012, 2013, 2014, 2015, 2016, 2017, 2018, 2019], \"y\": [5061673266, 4844134624, 4875384565, 5941358135, 7026676502, 7727792563, 8731138638, 10198963424, 11975448971, 13784370438, 15035468305, 14830405945, 11435984200, 13412960198, 14641945454, 15038787251, 17659992158, 19176450101, 19428811556, 17018987595, 18459258807, 19193652551, 18444553947]}],\n",
              "                        {\"template\": {\"data\": {\"bar\": [{\"error_x\": {\"color\": \"#2a3f5f\"}, \"error_y\": {\"color\": \"#2a3f5f\"}, \"marker\": {\"line\": {\"color\": \"#E5ECF6\", \"width\": 0.5}}, \"type\": \"bar\"}], \"barpolar\": [{\"marker\": {\"line\": {\"color\": \"#E5ECF6\", \"width\": 0.5}}, \"type\": \"barpolar\"}], \"carpet\": [{\"aaxis\": {\"endlinecolor\": \"#2a3f5f\", \"gridcolor\": \"white\", \"linecolor\": \"white\", \"minorgridcolor\": \"white\", \"startlinecolor\": \"#2a3f5f\"}, \"baxis\": {\"endlinecolor\": \"#2a3f5f\", \"gridcolor\": \"white\", \"linecolor\": \"white\", \"minorgridcolor\": \"white\", \"startlinecolor\": \"#2a3f5f\"}, \"type\": \"carpet\"}], \"choropleth\": [{\"colorbar\": {\"outlinewidth\": 0, \"ticks\": \"\"}, \"type\": \"choropleth\"}], \"contour\": [{\"colorbar\": {\"outlinewidth\": 0, \"ticks\": \"\"}, \"colorscale\": [[0.0, \"#0d0887\"], [0.1111111111111111, \"#46039f\"], [0.2222222222222222, \"#7201a8\"], [0.3333333333333333, \"#9c179e\"], [0.4444444444444444, \"#bd3786\"], [0.5555555555555556, \"#d8576b\"], [0.6666666666666666, \"#ed7953\"], [0.7777777777777778, \"#fb9f3a\"], [0.8888888888888888, \"#fdca26\"], [1.0, \"#f0f921\"]], \"type\": \"contour\"}], \"contourcarpet\": [{\"colorbar\": {\"outlinewidth\": 0, \"ticks\": \"\"}, \"type\": \"contourcarpet\"}], \"heatmap\": [{\"colorbar\": {\"outlinewidth\": 0, \"ticks\": \"\"}, \"colorscale\": [[0.0, \"#0d0887\"], [0.1111111111111111, \"#46039f\"], [0.2222222222222222, \"#7201a8\"], [0.3333333333333333, \"#9c179e\"], [0.4444444444444444, \"#bd3786\"], [0.5555555555555556, \"#d8576b\"], [0.6666666666666666, \"#ed7953\"], [0.7777777777777778, \"#fb9f3a\"], [0.8888888888888888, \"#fdca26\"], [1.0, \"#f0f921\"]], \"type\": \"heatmap\"}], \"heatmapgl\": [{\"colorbar\": {\"outlinewidth\": 0, \"ticks\": \"\"}, \"colorscale\": [[0.0, \"#0d0887\"], [0.1111111111111111, \"#46039f\"], [0.2222222222222222, \"#7201a8\"], [0.3333333333333333, \"#9c179e\"], [0.4444444444444444, \"#bd3786\"], [0.5555555555555556, \"#d8576b\"], [0.6666666666666666, \"#ed7953\"], [0.7777777777777778, \"#fb9f3a\"], [0.8888888888888888, \"#fdca26\"], [1.0, \"#f0f921\"]], \"type\": \"heatmapgl\"}], \"histogram\": [{\"marker\": {\"colorbar\": {\"outlinewidth\": 0, \"ticks\": \"\"}}, \"type\": \"histogram\"}], \"histogram2d\": [{\"colorbar\": {\"outlinewidth\": 0, \"ticks\": \"\"}, \"colorscale\": [[0.0, \"#0d0887\"], [0.1111111111111111, \"#46039f\"], [0.2222222222222222, \"#7201a8\"], [0.3333333333333333, \"#9c179e\"], [0.4444444444444444, \"#bd3786\"], [0.5555555555555556, \"#d8576b\"], [0.6666666666666666, \"#ed7953\"], [0.7777777777777778, \"#fb9f3a\"], [0.8888888888888888, \"#fdca26\"], [1.0, \"#f0f921\"]], \"type\": \"histogram2d\"}], \"histogram2dcontour\": [{\"colorbar\": {\"outlinewidth\": 0, \"ticks\": \"\"}, \"colorscale\": [[0.0, \"#0d0887\"], [0.1111111111111111, \"#46039f\"], [0.2222222222222222, \"#7201a8\"], [0.3333333333333333, \"#9c179e\"], [0.4444444444444444, \"#bd3786\"], [0.5555555555555556, \"#d8576b\"], [0.6666666666666666, \"#ed7953\"], [0.7777777777777778, \"#fb9f3a\"], [0.8888888888888888, \"#fdca26\"], [1.0, \"#f0f921\"]], \"type\": \"histogram2dcontour\"}], \"mesh3d\": [{\"colorbar\": {\"outlinewidth\": 0, \"ticks\": \"\"}, \"type\": \"mesh3d\"}], \"parcoords\": [{\"line\": {\"colorbar\": {\"outlinewidth\": 0, \"ticks\": \"\"}}, \"type\": \"parcoords\"}], \"pie\": [{\"automargin\": true, \"type\": \"pie\"}], \"scatter\": [{\"marker\": {\"colorbar\": {\"outlinewidth\": 0, \"ticks\": \"\"}}, \"type\": \"scatter\"}], \"scatter3d\": [{\"line\": {\"colorbar\": {\"outlinewidth\": 0, \"ticks\": \"\"}}, \"marker\": {\"colorbar\": {\"outlinewidth\": 0, \"ticks\": \"\"}}, \"type\": \"scatter3d\"}], \"scattercarpet\": [{\"marker\": {\"colorbar\": {\"outlinewidth\": 0, \"ticks\": \"\"}}, \"type\": \"scattercarpet\"}], \"scattergeo\": [{\"marker\": {\"colorbar\": {\"outlinewidth\": 0, \"ticks\": \"\"}}, \"type\": \"scattergeo\"}], \"scattergl\": [{\"marker\": {\"colorbar\": {\"outlinewidth\": 0, \"ticks\": \"\"}}, \"type\": \"scattergl\"}], \"scattermapbox\": [{\"marker\": {\"colorbar\": {\"outlinewidth\": 0, \"ticks\": \"\"}}, \"type\": \"scattermapbox\"}], \"scatterpolar\": [{\"marker\": {\"colorbar\": {\"outlinewidth\": 0, \"ticks\": \"\"}}, \"type\": \"scatterpolar\"}], \"scatterpolargl\": [{\"marker\": {\"colorbar\": {\"outlinewidth\": 0, \"ticks\": \"\"}}, \"type\": \"scatterpolargl\"}], \"scatterternary\": [{\"marker\": {\"colorbar\": {\"outlinewidth\": 0, \"ticks\": \"\"}}, \"type\": \"scatterternary\"}], \"surface\": [{\"colorbar\": {\"outlinewidth\": 0, \"ticks\": \"\"}, \"colorscale\": [[0.0, \"#0d0887\"], [0.1111111111111111, \"#46039f\"], [0.2222222222222222, \"#7201a8\"], [0.3333333333333333, \"#9c179e\"], [0.4444444444444444, \"#bd3786\"], [0.5555555555555556, \"#d8576b\"], [0.6666666666666666, \"#ed7953\"], [0.7777777777777778, \"#fb9f3a\"], [0.8888888888888888, \"#fdca26\"], [1.0, \"#f0f921\"]], \"type\": \"surface\"}], \"table\": [{\"cells\": {\"fill\": {\"color\": \"#EBF0F8\"}, \"line\": {\"color\": \"white\"}}, \"header\": {\"fill\": {\"color\": \"#C8D4E3\"}, \"line\": {\"color\": \"white\"}}, \"type\": \"table\"}]}, \"layout\": {\"annotationdefaults\": {\"arrowcolor\": \"#2a3f5f\", \"arrowhead\": 0, \"arrowwidth\": 1}, \"coloraxis\": {\"colorbar\": {\"outlinewidth\": 0, \"ticks\": \"\"}}, \"colorscale\": {\"diverging\": [[0, \"#8e0152\"], [0.1, \"#c51b7d\"], [0.2, \"#de77ae\"], [0.3, \"#f1b6da\"], [0.4, \"#fde0ef\"], [0.5, \"#f7f7f7\"], [0.6, \"#e6f5d0\"], [0.7, \"#b8e186\"], [0.8, \"#7fbc41\"], [0.9, \"#4d9221\"], [1, \"#276419\"]], \"sequential\": [[0.0, \"#0d0887\"], [0.1111111111111111, \"#46039f\"], [0.2222222222222222, \"#7201a8\"], [0.3333333333333333, \"#9c179e\"], [0.4444444444444444, \"#bd3786\"], [0.5555555555555556, \"#d8576b\"], [0.6666666666666666, \"#ed7953\"], [0.7777777777777778, \"#fb9f3a\"], [0.8888888888888888, \"#fdca26\"], [1.0, \"#f0f921\"]], \"sequentialminus\": [[0.0, \"#0d0887\"], [0.1111111111111111, \"#46039f\"], [0.2222222222222222, \"#7201a8\"], [0.3333333333333333, \"#9c179e\"], [0.4444444444444444, \"#bd3786\"], [0.5555555555555556, \"#d8576b\"], [0.6666666666666666, \"#ed7953\"], [0.7777777777777778, \"#fb9f3a\"], [0.8888888888888888, \"#fdca26\"], [1.0, \"#f0f921\"]]}, \"colorway\": [\"#636efa\", \"#EF553B\", \"#00cc96\", \"#ab63fa\", \"#FFA15A\", \"#19d3f3\", \"#FF6692\", \"#B6E880\", \"#FF97FF\", \"#FECB52\"], \"font\": {\"color\": \"#2a3f5f\"}, \"geo\": {\"bgcolor\": \"white\", \"lakecolor\": \"white\", \"landcolor\": \"#E5ECF6\", \"showlakes\": true, \"showland\": true, \"subunitcolor\": \"white\"}, \"hoverlabel\": {\"align\": \"left\"}, \"hovermode\": \"closest\", \"mapbox\": {\"style\": \"light\"}, \"paper_bgcolor\": \"white\", \"plot_bgcolor\": \"#E5ECF6\", \"polar\": {\"angularaxis\": {\"gridcolor\": \"white\", \"linecolor\": \"white\", \"ticks\": \"\"}, \"bgcolor\": \"#E5ECF6\", \"radialaxis\": {\"gridcolor\": \"white\", \"linecolor\": \"white\", \"ticks\": \"\"}}, \"scene\": {\"xaxis\": {\"backgroundcolor\": \"#E5ECF6\", \"gridcolor\": \"white\", \"gridwidth\": 2, \"linecolor\": \"white\", \"showbackground\": true, \"ticks\": \"\", \"zerolinecolor\": \"white\"}, \"yaxis\": {\"backgroundcolor\": \"#E5ECF6\", \"gridcolor\": \"white\", \"gridwidth\": 2, \"linecolor\": \"white\", \"showbackground\": true, \"ticks\": \"\", \"zerolinecolor\": \"white\"}, \"zaxis\": {\"backgroundcolor\": \"#E5ECF6\", \"gridcolor\": \"white\", \"gridwidth\": 2, \"linecolor\": \"white\", \"showbackground\": true, \"ticks\": \"\", \"zerolinecolor\": \"white\"}}, \"shapedefaults\": {\"line\": {\"color\": \"#2a3f5f\"}}, \"ternary\": {\"aaxis\": {\"gridcolor\": \"white\", \"linecolor\": \"white\", \"ticks\": \"\"}, \"baxis\": {\"gridcolor\": \"white\", \"linecolor\": \"white\", \"ticks\": \"\"}, \"bgcolor\": \"#E5ECF6\", \"caxis\": {\"gridcolor\": \"white\", \"linecolor\": \"white\", \"ticks\": \"\"}}, \"title\": {\"x\": 0.05}, \"xaxis\": {\"automargin\": true, \"gridcolor\": \"white\", \"linecolor\": \"white\", \"ticks\": \"\", \"title\": {\"standoff\": 15}, \"zerolinecolor\": \"white\", \"zerolinewidth\": 2}, \"yaxis\": {\"automargin\": true, \"gridcolor\": \"white\", \"linecolor\": \"white\", \"ticks\": \"\", \"title\": {\"standoff\": 15}, \"zerolinecolor\": \"white\", \"zerolinewidth\": 2}}}},\n",
              "                        {\"responsive\": true}\n",
              "                    ).then(function(){\n",
              "                            \n",
              "var gd = document.getElementById('f237dc85-4fc2-4197-aec5-95e4a6ace54a');\n",
              "var x = new MutationObserver(function (mutations, observer) {{\n",
              "        var display = window.getComputedStyle(gd).display;\n",
              "        if (!display || display === 'none') {{\n",
              "            console.log([gd, 'removed!']);\n",
              "            Plotly.purge(gd);\n",
              "            observer.disconnect();\n",
              "        }}\n",
              "}});\n",
              "\n",
              "// Listen for the removal of the full notebook cells\n",
              "var notebookContainer = gd.closest('#notebook-container');\n",
              "if (notebookContainer) {{\n",
              "    x.observe(notebookContainer, {childList: true});\n",
              "}}\n",
              "\n",
              "// Listen for the clearing of the current output cell\n",
              "var outputEl = gd.closest('.output');\n",
              "if (outputEl) {{\n",
              "    x.observe(outputEl, {childList: true});\n",
              "}}\n",
              "\n",
              "                        })\n",
              "                };\n",
              "                \n",
              "            </script>\n",
              "        </div>\n",
              "</body>\n",
              "</html>"
            ]
          },
          "metadata": {
            "tags": []
          }
        }
      ]
    },
    {
      "cell_type": "code",
      "metadata": {
        "id": "vcSu6dMSMVJc",
        "colab_type": "code",
        "colab": {
          "base_uri": "https://localhost:8080/",
          "height": 542
        },
        "outputId": "f2818a28-65f9-4ce0-b89c-f745f47f8e19"
      },
      "source": [
        "# 貿易収支も描画\n",
        "\n",
        "two_countries = ['大韓民国', '中華人民共和国']\n",
        "data_two = data[data['country_name'].isin(two_countries)]\n",
        "\n",
        "fig = make_subplots(rows=2, cols=1)\n",
        "\n",
        "for cnt in two_countries:\n",
        "  data_one = data_two[data_two['country_name'] == cnt]\n",
        "  data_one_exp = data_one[data_one['exp_imp'] == 1].reset_index(drop=True)\n",
        "  data_one_imp = data_one[data_one['exp_imp'] == 2].reset_index(drop=True)\n",
        "  data_one_balance = data_one_exp['Value'] - data_one_imp['Value'] \n",
        "  data_one_balance = pd.concat([data_one_exp['Year'], data_one_balance], axis=1)\n",
        "\n",
        "  fig.add_trace(go.Scatter(x=data_one_exp['Year'], y=data_one_exp['Value'], name=f'{cnt} 輸出'), row=1, col=1)\n",
        "  fig.add_trace(go.Scatter(x=data_one_imp['Year'], y=data_one_imp['Value'], name=f'{cnt} 輸入'), row=1, col=1)\n",
        "  fig.add_trace(go.Bar(x=data_one_balance['Year'], y=data_one_balance['Value'], name=f'{cnt} 収支'), row=2, col=1)\n",
        "\n",
        "fig.show()"
      ],
      "execution_count": 161,
      "outputs": [
        {
          "output_type": "display_data",
          "data": {
            "text/html": [
              "<html>\n",
              "<head><meta charset=\"utf-8\" /></head>\n",
              "<body>\n",
              "    <div>\n",
              "            <script src=\"https://cdnjs.cloudflare.com/ajax/libs/mathjax/2.7.5/MathJax.js?config=TeX-AMS-MML_SVG\"></script><script type=\"text/javascript\">if (window.MathJax) {MathJax.Hub.Config({SVG: {font: \"STIX-Web\"}});}</script>\n",
              "                <script type=\"text/javascript\">window.PlotlyConfig = {MathJaxConfig: 'local'};</script>\n",
              "        <script src=\"https://cdn.plot.ly/plotly-latest.min.js\"></script>    \n",
              "            <div id=\"c4837370-878f-41df-82f9-a2a0a29ff753\" class=\"plotly-graph-div\" style=\"height:525px; width:100%;\"></div>\n",
              "            <script type=\"text/javascript\">\n",
              "                \n",
              "                    window.PLOTLYENV=window.PLOTLYENV || {};\n",
              "                    \n",
              "                if (document.getElementById(\"c4837370-878f-41df-82f9-a2a0a29ff753\")) {\n",
              "                    Plotly.newPlot(\n",
              "                        'c4837370-878f-41df-82f9-a2a0a29ff753',\n",
              "                        [{\"name\": \"\\u5927\\u97d3\\u6c11\\u56fd \\u8f38\\u51fa\", \"type\": \"scatter\", \"x\": [1997, 1998, 1999, 2000, 2001, 2002, 2003, 2004, 2005, 2006, 2007, 2008, 2009, 2010, 2011, 2012, 2013, 2014, 2015, 2016, 2017, 2018, 2019], \"xaxis\": \"x\", \"y\": [3153238334, 2004542479, 2606234190, 3308751342, 3071870837, 3572438503, 4022469201, 4785101348, 5145987430, 5848894531, 6384033197, 6168285159, 4409728690, 5460192548, 5269143087, 4911269560, 5511828490, 5455929552, 5326569268, 5020407925, 5975215940, 5792562476, 5044210452], \"yaxis\": \"y\"}, {\"name\": \"\\u5927\\u97d3\\u6c11\\u56fd \\u8f38\\u5165\", \"type\": \"scatter\", \"x\": [1997, 1998, 1999, 2000, 2001, 2002, 2003, 2004, 2005, 2006, 2007, 2008, 2009, 2010, 2011, 2012, 2013, 2014, 2015, 2016, 2017, 2018, 2019], \"xaxis\": \"x\", \"y\": [1762757028, 1577249772, 1824285840, 2204702798, 2088355890, 1936786939, 2071181525, 2383405066, 2695287998, 3178253144, 3209558491, 3052017308, 2051039162, 2503979070, 3170051483, 3233703622, 3493116110, 3531341947, 3243864001, 2722051874, 3152745083, 3550463916, 3229209443], \"yaxis\": \"y\"}, {\"name\": \"\\u5927\\u97d3\\u6c11\\u56fd \\u53ce\\u652f\", \"type\": \"bar\", \"x\": [1997, 1998, 1999, 2000, 2001, 2002, 2003, 2004, 2005, 2006, 2007, 2008, 2009, 2010, 2011, 2012, 2013, 2014, 2015, 2016, 2017, 2018, 2019], \"xaxis\": \"x2\", \"y\": [1390481306, 427292707, 781948350, 1104048544, 983514947, 1635651564, 1951287676, 2401696282, 2450699432, 2670641387, 3174474706, 3116267851, 2358689528, 2956213478, 2099091604, 1677565938, 2018712380, 1924587605, 2082705267, 2298356051, 2822470857, 2242098560, 1815001009], \"yaxis\": \"y2\"}, {\"name\": \"\\u4e2d\\u83ef\\u4eba\\u6c11\\u5171\\u548c\\u56fd \\u8f38\\u51fa\", \"type\": \"scatter\", \"x\": [1997, 1998, 1999, 2000, 2001, 2002, 2003, 2004, 2005, 2006, 2007, 2008, 2009, 2010, 2011, 2012, 2013, 2014, 2015, 2016, 2017, 2018, 2019], \"xaxis\": \"x\", \"y\": [2630720664, 2620905420, 2657428102, 3274447888, 3763723102, 4979795581, 6635481534, 7994233171, 8836853027, 10793696067, 12838997782, 12949889116, 10235595660, 13085564799, 12902159758, 11509143901, 12625239116, 13381487410, 13223350314, 12361421736, 14889705986, 15897740448, 14682699314], \"yaxis\": \"y\"}, {\"name\": \"\\u4e2d\\u83ef\\u4eba\\u6c11\\u5171\\u548c\\u56fd \\u8f38\\u5165\", \"type\": \"scatter\", \"x\": [1997, 1998, 1999, 2000, 2001, 2002, 2003, 2004, 2005, 2006, 2007, 2008, 2009, 2010, 2011, 2012, 2013, 2014, 2015, 2016, 2017, 2018, 2019], \"xaxis\": \"x\", \"y\": [5061673266, 4844134624, 4875384565, 5941358135, 7026676502, 7727792563, 8731138638, 10198963424, 11975448971, 13784370438, 15035468305, 14830405945, 11435984200, 13412960198, 14641945454, 15038787251, 17659992158, 19176450101, 19428811556, 17018987595, 18459258807, 19193652551, 18444553947], \"yaxis\": \"y\"}, {\"name\": \"\\u4e2d\\u83ef\\u4eba\\u6c11\\u5171\\u548c\\u56fd \\u53ce\\u652f\", \"type\": \"bar\", \"x\": [1997, 1998, 1999, 2000, 2001, 2002, 2003, 2004, 2005, 2006, 2007, 2008, 2009, 2010, 2011, 2012, 2013, 2014, 2015, 2016, 2017, 2018, 2019], \"xaxis\": \"x2\", \"y\": [-2430952602, -2223229204, -2217956463, -2666910247, -3262953400, -2747996982, -2095657104, -2204730253, -3138595944, -2990674371, -2196470523, -1880516829, -1200388540, -327395399, -1739785696, -3529643350, -5034753042, -5794962691, -6205461242, -4657565859, -3569552821, -3295912103, -3761854633], \"yaxis\": \"y2\"}],\n",
              "                        {\"template\": {\"data\": {\"bar\": [{\"error_x\": {\"color\": \"#2a3f5f\"}, \"error_y\": {\"color\": \"#2a3f5f\"}, \"marker\": {\"line\": {\"color\": \"#E5ECF6\", \"width\": 0.5}}, \"type\": \"bar\"}], \"barpolar\": [{\"marker\": {\"line\": {\"color\": \"#E5ECF6\", \"width\": 0.5}}, \"type\": \"barpolar\"}], \"carpet\": [{\"aaxis\": {\"endlinecolor\": \"#2a3f5f\", \"gridcolor\": \"white\", \"linecolor\": \"white\", \"minorgridcolor\": \"white\", \"startlinecolor\": \"#2a3f5f\"}, \"baxis\": {\"endlinecolor\": \"#2a3f5f\", \"gridcolor\": \"white\", \"linecolor\": \"white\", \"minorgridcolor\": \"white\", \"startlinecolor\": \"#2a3f5f\"}, \"type\": \"carpet\"}], \"choropleth\": [{\"colorbar\": {\"outlinewidth\": 0, \"ticks\": \"\"}, \"type\": \"choropleth\"}], \"contour\": [{\"colorbar\": {\"outlinewidth\": 0, \"ticks\": \"\"}, \"colorscale\": [[0.0, \"#0d0887\"], [0.1111111111111111, \"#46039f\"], [0.2222222222222222, \"#7201a8\"], [0.3333333333333333, \"#9c179e\"], [0.4444444444444444, \"#bd3786\"], [0.5555555555555556, \"#d8576b\"], [0.6666666666666666, \"#ed7953\"], [0.7777777777777778, \"#fb9f3a\"], [0.8888888888888888, \"#fdca26\"], [1.0, \"#f0f921\"]], \"type\": \"contour\"}], \"contourcarpet\": [{\"colorbar\": {\"outlinewidth\": 0, \"ticks\": \"\"}, \"type\": \"contourcarpet\"}], \"heatmap\": [{\"colorbar\": {\"outlinewidth\": 0, \"ticks\": \"\"}, \"colorscale\": [[0.0, \"#0d0887\"], [0.1111111111111111, \"#46039f\"], [0.2222222222222222, \"#7201a8\"], [0.3333333333333333, \"#9c179e\"], [0.4444444444444444, \"#bd3786\"], [0.5555555555555556, \"#d8576b\"], [0.6666666666666666, \"#ed7953\"], [0.7777777777777778, \"#fb9f3a\"], [0.8888888888888888, \"#fdca26\"], [1.0, \"#f0f921\"]], \"type\": \"heatmap\"}], \"heatmapgl\": [{\"colorbar\": {\"outlinewidth\": 0, \"ticks\": \"\"}, \"colorscale\": [[0.0, \"#0d0887\"], [0.1111111111111111, \"#46039f\"], [0.2222222222222222, \"#7201a8\"], [0.3333333333333333, \"#9c179e\"], [0.4444444444444444, \"#bd3786\"], [0.5555555555555556, \"#d8576b\"], [0.6666666666666666, \"#ed7953\"], [0.7777777777777778, \"#fb9f3a\"], [0.8888888888888888, \"#fdca26\"], [1.0, \"#f0f921\"]], \"type\": \"heatmapgl\"}], \"histogram\": [{\"marker\": {\"colorbar\": {\"outlinewidth\": 0, \"ticks\": \"\"}}, \"type\": \"histogram\"}], \"histogram2d\": [{\"colorbar\": {\"outlinewidth\": 0, \"ticks\": \"\"}, \"colorscale\": [[0.0, \"#0d0887\"], [0.1111111111111111, \"#46039f\"], [0.2222222222222222, \"#7201a8\"], [0.3333333333333333, \"#9c179e\"], [0.4444444444444444, \"#bd3786\"], [0.5555555555555556, \"#d8576b\"], [0.6666666666666666, \"#ed7953\"], [0.7777777777777778, \"#fb9f3a\"], [0.8888888888888888, \"#fdca26\"], [1.0, \"#f0f921\"]], \"type\": \"histogram2d\"}], \"histogram2dcontour\": [{\"colorbar\": {\"outlinewidth\": 0, \"ticks\": \"\"}, \"colorscale\": [[0.0, \"#0d0887\"], [0.1111111111111111, \"#46039f\"], [0.2222222222222222, \"#7201a8\"], [0.3333333333333333, \"#9c179e\"], [0.4444444444444444, \"#bd3786\"], [0.5555555555555556, \"#d8576b\"], [0.6666666666666666, \"#ed7953\"], [0.7777777777777778, \"#fb9f3a\"], [0.8888888888888888, \"#fdca26\"], [1.0, \"#f0f921\"]], \"type\": \"histogram2dcontour\"}], \"mesh3d\": [{\"colorbar\": {\"outlinewidth\": 0, \"ticks\": \"\"}, \"type\": \"mesh3d\"}], \"parcoords\": [{\"line\": {\"colorbar\": {\"outlinewidth\": 0, \"ticks\": \"\"}}, \"type\": \"parcoords\"}], \"pie\": [{\"automargin\": true, \"type\": \"pie\"}], \"scatter\": [{\"marker\": {\"colorbar\": {\"outlinewidth\": 0, \"ticks\": \"\"}}, \"type\": \"scatter\"}], \"scatter3d\": [{\"line\": {\"colorbar\": {\"outlinewidth\": 0, \"ticks\": \"\"}}, \"marker\": {\"colorbar\": {\"outlinewidth\": 0, \"ticks\": \"\"}}, \"type\": \"scatter3d\"}], \"scattercarpet\": [{\"marker\": {\"colorbar\": {\"outlinewidth\": 0, \"ticks\": \"\"}}, \"type\": \"scattercarpet\"}], \"scattergeo\": [{\"marker\": {\"colorbar\": {\"outlinewidth\": 0, \"ticks\": \"\"}}, \"type\": \"scattergeo\"}], \"scattergl\": [{\"marker\": {\"colorbar\": {\"outlinewidth\": 0, \"ticks\": \"\"}}, \"type\": \"scattergl\"}], \"scattermapbox\": [{\"marker\": {\"colorbar\": {\"outlinewidth\": 0, \"ticks\": \"\"}}, \"type\": \"scattermapbox\"}], \"scatterpolar\": [{\"marker\": {\"colorbar\": {\"outlinewidth\": 0, \"ticks\": \"\"}}, \"type\": \"scatterpolar\"}], \"scatterpolargl\": [{\"marker\": {\"colorbar\": {\"outlinewidth\": 0, \"ticks\": \"\"}}, \"type\": \"scatterpolargl\"}], \"scatterternary\": [{\"marker\": {\"colorbar\": {\"outlinewidth\": 0, \"ticks\": \"\"}}, \"type\": \"scatterternary\"}], \"surface\": [{\"colorbar\": {\"outlinewidth\": 0, \"ticks\": \"\"}, \"colorscale\": [[0.0, \"#0d0887\"], [0.1111111111111111, \"#46039f\"], [0.2222222222222222, \"#7201a8\"], [0.3333333333333333, \"#9c179e\"], [0.4444444444444444, \"#bd3786\"], [0.5555555555555556, \"#d8576b\"], [0.6666666666666666, \"#ed7953\"], [0.7777777777777778, \"#fb9f3a\"], [0.8888888888888888, \"#fdca26\"], [1.0, \"#f0f921\"]], \"type\": \"surface\"}], \"table\": [{\"cells\": {\"fill\": {\"color\": \"#EBF0F8\"}, \"line\": {\"color\": \"white\"}}, \"header\": {\"fill\": {\"color\": \"#C8D4E3\"}, \"line\": {\"color\": \"white\"}}, \"type\": \"table\"}]}, \"layout\": {\"annotationdefaults\": {\"arrowcolor\": \"#2a3f5f\", \"arrowhead\": 0, \"arrowwidth\": 1}, \"coloraxis\": {\"colorbar\": {\"outlinewidth\": 0, \"ticks\": \"\"}}, \"colorscale\": {\"diverging\": [[0, \"#8e0152\"], [0.1, \"#c51b7d\"], [0.2, \"#de77ae\"], [0.3, \"#f1b6da\"], [0.4, \"#fde0ef\"], [0.5, \"#f7f7f7\"], [0.6, \"#e6f5d0\"], [0.7, \"#b8e186\"], [0.8, \"#7fbc41\"], [0.9, \"#4d9221\"], [1, \"#276419\"]], \"sequential\": [[0.0, \"#0d0887\"], [0.1111111111111111, \"#46039f\"], [0.2222222222222222, \"#7201a8\"], [0.3333333333333333, \"#9c179e\"], [0.4444444444444444, \"#bd3786\"], [0.5555555555555556, \"#d8576b\"], [0.6666666666666666, \"#ed7953\"], [0.7777777777777778, \"#fb9f3a\"], [0.8888888888888888, \"#fdca26\"], [1.0, \"#f0f921\"]], \"sequentialminus\": [[0.0, \"#0d0887\"], [0.1111111111111111, \"#46039f\"], [0.2222222222222222, \"#7201a8\"], [0.3333333333333333, \"#9c179e\"], [0.4444444444444444, \"#bd3786\"], [0.5555555555555556, \"#d8576b\"], [0.6666666666666666, \"#ed7953\"], [0.7777777777777778, \"#fb9f3a\"], [0.8888888888888888, \"#fdca26\"], [1.0, \"#f0f921\"]]}, \"colorway\": [\"#636efa\", \"#EF553B\", \"#00cc96\", \"#ab63fa\", \"#FFA15A\", \"#19d3f3\", \"#FF6692\", \"#B6E880\", \"#FF97FF\", \"#FECB52\"], \"font\": {\"color\": \"#2a3f5f\"}, \"geo\": {\"bgcolor\": \"white\", \"lakecolor\": \"white\", \"landcolor\": \"#E5ECF6\", \"showlakes\": true, \"showland\": true, \"subunitcolor\": \"white\"}, \"hoverlabel\": {\"align\": \"left\"}, \"hovermode\": \"closest\", \"mapbox\": {\"style\": \"light\"}, \"paper_bgcolor\": \"white\", \"plot_bgcolor\": \"#E5ECF6\", \"polar\": {\"angularaxis\": {\"gridcolor\": \"white\", \"linecolor\": \"white\", \"ticks\": \"\"}, \"bgcolor\": \"#E5ECF6\", \"radialaxis\": {\"gridcolor\": \"white\", \"linecolor\": \"white\", \"ticks\": \"\"}}, \"scene\": {\"xaxis\": {\"backgroundcolor\": \"#E5ECF6\", \"gridcolor\": \"white\", \"gridwidth\": 2, \"linecolor\": \"white\", \"showbackground\": true, \"ticks\": \"\", \"zerolinecolor\": \"white\"}, \"yaxis\": {\"backgroundcolor\": \"#E5ECF6\", \"gridcolor\": \"white\", \"gridwidth\": 2, \"linecolor\": \"white\", \"showbackground\": true, \"ticks\": \"\", \"zerolinecolor\": \"white\"}, \"zaxis\": {\"backgroundcolor\": \"#E5ECF6\", \"gridcolor\": \"white\", \"gridwidth\": 2, \"linecolor\": \"white\", \"showbackground\": true, \"ticks\": \"\", \"zerolinecolor\": \"white\"}}, \"shapedefaults\": {\"line\": {\"color\": \"#2a3f5f\"}}, \"ternary\": {\"aaxis\": {\"gridcolor\": \"white\", \"linecolor\": \"white\", \"ticks\": \"\"}, \"baxis\": {\"gridcolor\": \"white\", \"linecolor\": \"white\", \"ticks\": \"\"}, \"bgcolor\": \"#E5ECF6\", \"caxis\": {\"gridcolor\": \"white\", \"linecolor\": \"white\", \"ticks\": \"\"}}, \"title\": {\"x\": 0.05}, \"xaxis\": {\"automargin\": true, \"gridcolor\": \"white\", \"linecolor\": \"white\", \"ticks\": \"\", \"title\": {\"standoff\": 15}, \"zerolinecolor\": \"white\", \"zerolinewidth\": 2}, \"yaxis\": {\"automargin\": true, \"gridcolor\": \"white\", \"linecolor\": \"white\", \"ticks\": \"\", \"title\": {\"standoff\": 15}, \"zerolinecolor\": \"white\", \"zerolinewidth\": 2}}}, \"xaxis\": {\"anchor\": \"y\", \"domain\": [0.0, 1.0]}, \"xaxis2\": {\"anchor\": \"y2\", \"domain\": [0.0, 1.0]}, \"yaxis\": {\"anchor\": \"x\", \"domain\": [0.575, 1.0]}, \"yaxis2\": {\"anchor\": \"x2\", \"domain\": [0.0, 0.425]}},\n",
              "                        {\"responsive\": true}\n",
              "                    ).then(function(){\n",
              "                            \n",
              "var gd = document.getElementById('c4837370-878f-41df-82f9-a2a0a29ff753');\n",
              "var x = new MutationObserver(function (mutations, observer) {{\n",
              "        var display = window.getComputedStyle(gd).display;\n",
              "        if (!display || display === 'none') {{\n",
              "            console.log([gd, 'removed!']);\n",
              "            Plotly.purge(gd);\n",
              "            observer.disconnect();\n",
              "        }}\n",
              "}});\n",
              "\n",
              "// Listen for the removal of the full notebook cells\n",
              "var notebookContainer = gd.closest('#notebook-container');\n",
              "if (notebookContainer) {{\n",
              "    x.observe(notebookContainer, {childList: true});\n",
              "}}\n",
              "\n",
              "// Listen for the clearing of the current output cell\n",
              "var outputEl = gd.closest('.output');\n",
              "if (outputEl) {{\n",
              "    x.observe(outputEl, {childList: true});\n",
              "}}\n",
              "\n",
              "                        })\n",
              "                };\n",
              "                \n",
              "            </script>\n",
              "        </div>\n",
              "</body>\n",
              "</html>"
            ]
          },
          "metadata": {
            "tags": []
          }
        }
      ]
    },
    {
      "cell_type": "code",
      "metadata": {
        "id": "fB8rI_kaMWXN",
        "colab_type": "code",
        "colab": {}
      },
      "source": [
        "# あとはDashのアプリケーションの作成"
      ],
      "execution_count": 162,
      "outputs": []
    },
    {
      "cell_type": "code",
      "metadata": {
        "id": "CVj64ejjSDlS",
        "colab_type": "code",
        "colab": {}
      },
      "source": [
        ""
      ],
      "execution_count": null,
      "outputs": []
    }
  ]
}