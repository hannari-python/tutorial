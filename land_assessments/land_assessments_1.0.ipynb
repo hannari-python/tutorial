{
 "cells": [
  {
   "cell_type": "markdown",
   "metadata": {},
   "source": [
    "# 地理データの解析"
   ]
  },
  {
   "cell_type": "markdown",
   "metadata": {},
   "source": [
    "## 1. 大阪の平均路線価の可視化"
   ]
  },
  {
   "cell_type": "markdown",
   "metadata": {},
   "source": [
    "利用するデータについて。"
   ]
  },
  {
   "cell_type": "markdown",
   "metadata": {},
   "source": [
    "大阪の中心部の平均路線価に関するデータを用います。[ここ](https://data.city.osaka.lg.jp/data/dataset/data-00000065)からダウンロードできる`tikatyousa_2018_100m_souzokurosenka.csv`というファイルで、「地価調査\\_平成30年\\_100ｍ\\_相続税路線価\\_データベースファイル（CSV）」という項目をクリックしてダウンロードページへ行き、ダウンロードをしてください。"
   ]
  },
  {
   "cell_type": "markdown",
   "metadata": {},
   "source": [
    "データセットの概要は、地価データを用いて、大阪市内の最高路線価、最低路線価等について調査したものです。路線価というのは相続税の計算の際に使われる土地の価格のことです。この解析では「平均路線価」を使いますが、ここで言う「平均」というのは、ある区画内にある建物の路線価を平均したということです。"
   ]
  },
  {
   "cell_type": "markdown",
   "metadata": {},
   "source": [
    "今回利用する環境(binder)について。"
   ]
  },
  {
   "cell_type": "markdown",
   "metadata": {},
   "source": [
    "binderとは、「GitHub の repository から(使い捨ての)Jupyter Notebook の環境を構築しその(計算)環境を誰もが利用できる形で提供してくれるウェブアプリケーション」([西田さんのQiitaの記事](https://qiita.com/kozo2/items/fef4ee9c175f941a8a59)より引用)のことです。\n",
    "詳しくは、本チュートリアルの講師の一人である[西田さんが書かれた記事](https://qiita.com/kozo2/items/fef4ee9c175f941a8a59)を参考にしてください。"
   ]
  },
  {
   "cell_type": "markdown",
   "metadata": {},
   "source": [
    "では、解析を始めましょう。"
   ]
  },
  {
   "cell_type": "markdown",
   "metadata": {},
   "source": [
    "まず、今回利用するモジュールをimportします。"
   ]
  },
  {
   "cell_type": "code",
   "execution_count": 1,
   "metadata": {},
   "outputs": [],
   "source": [
    "import geopandas as gpd\n",
    "import pandas as pd\n",
    "import numpy as np\n",
    "import pydeck as pdk"
   ]
  },
  {
   "cell_type": "markdown",
   "metadata": {},
   "source": [
    "また、mapboxを使うためのAPIキーが必要なので、ここで各々のキーの値を入力してください。"
   ]
  },
  {
   "cell_type": "code",
   "execution_count": 2,
   "metadata": {},
   "outputs": [
    {
     "name": "stdout",
     "output_type": "stream",
     "text": [
      "mapboxのapikeyを入力してください\n"
     ]
    },
    {
     "name": "stdin",
     "output_type": "stream",
     "text": [
      " ·····················································································\n"
     ]
    }
   ],
   "source": [
    "import getpass\n",
    "\n",
    "print('mapboxのapikeyを入力してください')\n",
    "MAPBOX_KEY = getpass.getpass()"
   ]
  },
  {
   "cell_type": "markdown",
   "metadata": {},
   "source": [
    "では、まず最初に、geopandasでshapeファイルを読み込みます。"
   ]
  },
  {
   "cell_type": "code",
   "execution_count": 3,
   "metadata": {},
   "outputs": [],
   "source": [
    "data = gpd.read_file('../data/osakadata/tikatyousa_2018_100m_souzokurosenka.shp', encoding='shift-jis')"
   ]
  },
  {
   "cell_type": "markdown",
   "metadata": {},
   "source": [
    "データの先頭は以下のようになっています。"
   ]
  },
  {
   "cell_type": "code",
   "execution_count": 4,
   "metadata": {},
   "outputs": [
    {
     "data": {
      "text/html": [
       "<div>\n",
       "<style scoped>\n",
       "    .dataframe tbody tr th:only-of-type {\n",
       "        vertical-align: middle;\n",
       "    }\n",
       "\n",
       "    .dataframe tbody tr th {\n",
       "        vertical-align: top;\n",
       "    }\n",
       "\n",
       "    .dataframe thead th {\n",
       "        text-align: right;\n",
       "    }\n",
       "</style>\n",
       "<table border=\"1\" class=\"dataframe\">\n",
       "  <thead>\n",
       "    <tr style=\"text-align: right;\">\n",
       "      <th></th>\n",
       "      <th>MESH_CODE</th>\n",
       "      <th>最高路線価</th>\n",
       "      <th>最低路線価</th>\n",
       "      <th>平均路線価</th>\n",
       "      <th>geometry</th>\n",
       "    </tr>\n",
       "  </thead>\n",
       "  <tbody>\n",
       "    <tr>\n",
       "      <th>0</th>\n",
       "      <td>S115E07025</td>\n",
       "      <td>0</td>\n",
       "      <td>0</td>\n",
       "      <td>0</td>\n",
       "      <td>POLYGON ((-38261.250 -157053.172, -38261.250 -...</td>\n",
       "    </tr>\n",
       "    <tr>\n",
       "      <th>1</th>\n",
       "      <td>S115E07024</td>\n",
       "      <td>0</td>\n",
       "      <td>0</td>\n",
       "      <td>0</td>\n",
       "      <td>POLYGON ((-38361.249 -157053.172, -38361.249 -...</td>\n",
       "    </tr>\n",
       "    <tr>\n",
       "      <th>2</th>\n",
       "      <td>S115E07023</td>\n",
       "      <td>0</td>\n",
       "      <td>0</td>\n",
       "      <td>0</td>\n",
       "      <td>POLYGON ((-38461.248 -157053.171, -38461.248 -...</td>\n",
       "    </tr>\n",
       "    <tr>\n",
       "      <th>3</th>\n",
       "      <td>S115E07022</td>\n",
       "      <td>0</td>\n",
       "      <td>0</td>\n",
       "      <td>0</td>\n",
       "      <td>POLYGON ((-38561.247 -157053.171, -38561.247 -...</td>\n",
       "    </tr>\n",
       "    <tr>\n",
       "      <th>4</th>\n",
       "      <td>S115E07021</td>\n",
       "      <td>0</td>\n",
       "      <td>0</td>\n",
       "      <td>0</td>\n",
       "      <td>POLYGON ((-38661.245 -157053.171, -38661.246 -...</td>\n",
       "    </tr>\n",
       "  </tbody>\n",
       "</table>\n",
       "</div>"
      ],
      "text/plain": [
       "    MESH_CODE  最高路線価  最低路線価  平均路線価  \\\n",
       "0  S115E07025      0      0      0   \n",
       "1  S115E07024      0      0      0   \n",
       "2  S115E07023      0      0      0   \n",
       "3  S115E07022      0      0      0   \n",
       "4  S115E07021      0      0      0   \n",
       "\n",
       "                                            geometry  \n",
       "0  POLYGON ((-38261.250 -157053.172, -38261.250 -...  \n",
       "1  POLYGON ((-38361.249 -157053.172, -38361.249 -...  \n",
       "2  POLYGON ((-38461.248 -157053.171, -38461.248 -...  \n",
       "3  POLYGON ((-38561.247 -157053.171, -38561.247 -...  \n",
       "4  POLYGON ((-38661.245 -157053.171, -38661.246 -...  "
      ]
     },
     "execution_count": 4,
     "metadata": {},
     "output_type": "execute_result"
    }
   ],
   "source": [
    "data.head()"
   ]
  },
  {
   "cell_type": "markdown",
   "metadata": {},
   "source": [
    "crs属性を見ることで、読み込んだShapeの座標系等を確認することができます。"
   ]
  },
  {
   "cell_type": "code",
   "execution_count": 5,
   "metadata": {},
   "outputs": [
    {
     "data": {
      "text/plain": [
       "<Projected CRS: EPSG:2448>\n",
       "Name: JGD2000 / Japan Plane Rectangular CS VI\n",
       "Axis Info [cartesian]:\n",
       "- X[north]: Northing (metre)\n",
       "- Y[east]: Easting (metre)\n",
       "Area of Use:\n",
       "- name: Japan - zone VI\n",
       "- bounds: (134.86, 33.4, 136.99, 36.33)\n",
       "Coordinate Operation:\n",
       "- name: Japan Plane Rectangular CS zone VI\n",
       "- method: Transverse Mercator\n",
       "Datum: Japanese Geodetic Datum 2000\n",
       "- Ellipsoid: GRS 1980\n",
       "- Prime Meridian: Greenwich"
      ]
     },
     "execution_count": 5,
     "metadata": {},
     "output_type": "execute_result"
    }
   ],
   "source": [
    "data.crs"
   ]
  },
  {
   "cell_type": "markdown",
   "metadata": {},
   "source": [
    "上記の結果から、EPSGが2448であることがわかります。EPSGはEuropean Petroleum Survey Groupという団体によって作成された、測地系、座標系、地図投影法等をコード体系にしたものです。EPSGが2448ということは、今、平面直角座標系なので、GPSで得られる位置・緯度経度に変換するために、EPSGを4326に設定します。"
   ]
  },
  {
   "cell_type": "code",
   "execution_count": 6,
   "metadata": {},
   "outputs": [],
   "source": [
    "data = data.to_crs(epsg=4326)"
   ]
  },
  {
   "cell_type": "code",
   "execution_count": 7,
   "metadata": {},
   "outputs": [
    {
     "data": {
      "text/plain": [
       "<Geographic 2D CRS: EPSG:4326>\n",
       "Name: WGS 84\n",
       "Axis Info [ellipsoidal]:\n",
       "- Lat[north]: Geodetic latitude (degree)\n",
       "- Lon[east]: Geodetic longitude (degree)\n",
       "Area of Use:\n",
       "- name: World\n",
       "- bounds: (-180.0, -90.0, 180.0, 90.0)\n",
       "Datum: World Geodetic System 1984\n",
       "- Ellipsoid: WGS 84\n",
       "- Prime Meridian: Greenwich"
      ]
     },
     "execution_count": 7,
     "metadata": {},
     "output_type": "execute_result"
    }
   ],
   "source": [
    "data.crs"
   ]
  },
  {
   "cell_type": "markdown",
   "metadata": {},
   "source": [
    "読み込んだデータの大まかな形(記述統計量)を見るために、describe()を使ってdataの統計量を確認してみましょう。"
   ]
  },
  {
   "cell_type": "code",
   "execution_count": 8,
   "metadata": {},
   "outputs": [
    {
     "data": {
      "text/html": [
       "<div>\n",
       "<style scoped>\n",
       "    .dataframe tbody tr th:only-of-type {\n",
       "        vertical-align: middle;\n",
       "    }\n",
       "\n",
       "    .dataframe tbody tr th {\n",
       "        vertical-align: top;\n",
       "    }\n",
       "\n",
       "    .dataframe thead th {\n",
       "        text-align: right;\n",
       "    }\n",
       "</style>\n",
       "<table border=\"1\" class=\"dataframe\">\n",
       "  <thead>\n",
       "    <tr style=\"text-align: right;\">\n",
       "      <th></th>\n",
       "      <th>最高路線価</th>\n",
       "      <th>最低路線価</th>\n",
       "      <th>平均路線価</th>\n",
       "    </tr>\n",
       "  </thead>\n",
       "  <tbody>\n",
       "    <tr>\n",
       "      <th>count</th>\n",
       "      <td>32700.000000</td>\n",
       "      <td>32700.000000</td>\n",
       "      <td>32700.000000</td>\n",
       "    </tr>\n",
       "    <tr>\n",
       "      <th>mean</th>\n",
       "      <td>128.590214</td>\n",
       "      <td>73.553792</td>\n",
       "      <td>101.202630</td>\n",
       "    </tr>\n",
       "    <tr>\n",
       "      <th>std</th>\n",
       "      <td>378.689611</td>\n",
       "      <td>162.750181</td>\n",
       "      <td>256.749798</td>\n",
       "    </tr>\n",
       "    <tr>\n",
       "      <th>min</th>\n",
       "      <td>0.000000</td>\n",
       "      <td>0.000000</td>\n",
       "      <td>0.000000</td>\n",
       "    </tr>\n",
       "    <tr>\n",
       "      <th>25%</th>\n",
       "      <td>0.000000</td>\n",
       "      <td>0.000000</td>\n",
       "      <td>0.000000</td>\n",
       "    </tr>\n",
       "    <tr>\n",
       "      <th>50%</th>\n",
       "      <td>81.000000</td>\n",
       "      <td>56.000000</td>\n",
       "      <td>71.000000</td>\n",
       "    </tr>\n",
       "    <tr>\n",
       "      <th>75%</th>\n",
       "      <td>152.000000</td>\n",
       "      <td>103.000000</td>\n",
       "      <td>129.000000</td>\n",
       "    </tr>\n",
       "    <tr>\n",
       "      <th>max</th>\n",
       "      <td>12110.000000</td>\n",
       "      <td>11561.000000</td>\n",
       "      <td>11561.000000</td>\n",
       "    </tr>\n",
       "  </tbody>\n",
       "</table>\n",
       "</div>"
      ],
      "text/plain": [
       "              最高路線価         最低路線価         平均路線価\n",
       "count  32700.000000  32700.000000  32700.000000\n",
       "mean     128.590214     73.553792    101.202630\n",
       "std      378.689611    162.750181    256.749798\n",
       "min        0.000000      0.000000      0.000000\n",
       "25%        0.000000      0.000000      0.000000\n",
       "50%       81.000000     56.000000     71.000000\n",
       "75%      152.000000    103.000000    129.000000\n",
       "max    12110.000000  11561.000000  11561.000000"
      ]
     },
     "execution_count": 8,
     "metadata": {},
     "output_type": "execute_result"
    }
   ],
   "source": [
    "data.describe()"
   ]
  },
  {
   "cell_type": "markdown",
   "metadata": {},
   "source": [
    "この結果から、データの中のそれぞれの価格が0のことが多いことがわかります。"
   ]
  },
  {
   "cell_type": "markdown",
   "metadata": {},
   "source": [
    ".centroidを使うことで、Polygonの中心の緯度・経度を得ることができます。"
   ]
  },
  {
   "cell_type": "code",
   "execution_count": 9,
   "metadata": {},
   "outputs": [
    {
     "name": "stderr",
     "output_type": "stream",
     "text": [
      "/home/ksn/.local/lib/python3.7/site-packages/ipykernel_launcher.py:1: UserWarning: Geometry is in a geographic CRS. Results from 'centroid' are likely incorrect. Use 'GeoSeries.to_crs()' to re-project geometries to a projected CRS before this operation.\n",
      "\n",
      "  \"\"\"Entry point for launching an IPython kernel.\n"
     ]
    },
    {
     "data": {
      "text/plain": [
       "0        POINT (135.58239 34.58311)\n",
       "1        POINT (135.58130 34.58311)\n",
       "2        POINT (135.58021 34.58310)\n",
       "3        POINT (135.57912 34.58310)\n",
       "4        POINT (135.57803 34.58310)\n",
       "5        POINT (135.57694 34.58309)\n",
       "6        POINT (135.57585 34.58309)\n",
       "7        POINT (135.57476 34.58308)\n",
       "8        POINT (135.57367 34.58308)\n",
       "9        POINT (135.57258 34.58308)\n",
       "10       POINT (135.57149 34.58307)\n",
       "11       POINT (135.57040 34.58307)\n",
       "12       POINT (135.56931 34.58307)\n",
       "13       POINT (135.56822 34.58306)\n",
       "14       POINT (135.56713 34.58306)\n",
       "15       POINT (135.56604 34.58305)\n",
       "16       POINT (135.56495 34.58305)\n",
       "17       POINT (135.56386 34.58305)\n",
       "18       POINT (135.56277 34.58304)\n",
       "19       POINT (135.56168 34.58304)\n",
       "20       POINT (135.56059 34.58303)\n",
       "21       POINT (135.55950 34.58303)\n",
       "22       POINT (135.55841 34.58303)\n",
       "23       POINT (135.55732 34.58302)\n",
       "24       POINT (135.55623 34.58302)\n",
       "25       POINT (135.55514 34.58301)\n",
       "26       POINT (135.55405 34.58301)\n",
       "27       POINT (135.55296 34.58301)\n",
       "28       POINT (135.55187 34.58300)\n",
       "29       POINT (135.55078 34.58300)\n",
       "                    ...            \n",
       "32670    POINT (135.52573 34.77132)\n",
       "32671    POINT (135.52464 34.77131)\n",
       "32672    POINT (135.53775 34.77136)\n",
       "32673    POINT (135.52355 34.77131)\n",
       "32674    POINT (135.52245 34.77131)\n",
       "32675    POINT (135.53884 34.77137)\n",
       "32676    POINT (135.52136 34.77130)\n",
       "32677    POINT (135.53993 34.77137)\n",
       "32678    POINT (135.52027 34.77130)\n",
       "32679    POINT (135.54103 34.77138)\n",
       "32680    POINT (135.51918 34.77129)\n",
       "32681    POINT (135.54212 34.77138)\n",
       "32682    POINT (135.51809 34.77129)\n",
       "32683    POINT (135.54321 34.77138)\n",
       "32684    POINT (135.51699 34.77128)\n",
       "32685    POINT (135.54430 34.77139)\n",
       "32686    POINT (135.54540 34.77139)\n",
       "32687    POINT (135.54649 34.77140)\n",
       "32688    POINT (135.54758 34.77140)\n",
       "32689    POINT (135.54867 34.77141)\n",
       "32690    POINT (135.54977 34.77141)\n",
       "32691    POINT (135.55086 34.77141)\n",
       "32692    POINT (135.55195 34.77142)\n",
       "32693    POINT (135.55304 34.77142)\n",
       "32694    POINT (135.55414 34.77143)\n",
       "32695    POINT (135.55523 34.77143)\n",
       "32696    POINT (135.55632 34.77143)\n",
       "32697    POINT (135.55741 34.77144)\n",
       "32698    POINT (135.55851 34.77144)\n",
       "32699    POINT (135.55960 34.77145)\n",
       "Length: 32700, dtype: geometry"
      ]
     },
     "execution_count": 9,
     "metadata": {},
     "output_type": "execute_result"
    }
   ],
   "source": [
    "data['geometry'].centroid"
   ]
  },
  {
   "cell_type": "markdown",
   "metadata": {},
   "source": [
    ".centroid.xで経度が得られ、.centroid.yで緯度が得られます。"
   ]
  },
  {
   "cell_type": "code",
   "execution_count": 10,
   "metadata": {},
   "outputs": [
    {
     "name": "stderr",
     "output_type": "stream",
     "text": [
      "/home/ksn/.local/lib/python3.7/site-packages/ipykernel_launcher.py:1: UserWarning: Geometry is in a geographic CRS. Results from 'centroid' are likely incorrect. Use 'GeoSeries.to_crs()' to re-project geometries to a projected CRS before this operation.\n",
      "\n",
      "  \"\"\"Entry point for launching an IPython kernel.\n"
     ]
    },
    {
     "data": {
      "text/plain": [
       "0        135.582393\n",
       "1        135.581303\n",
       "2        135.580213\n",
       "3        135.579123\n",
       "4        135.578033\n",
       "5        135.576943\n",
       "6        135.575853\n",
       "7        135.574763\n",
       "8        135.573673\n",
       "9        135.572583\n",
       "10       135.571493\n",
       "11       135.570403\n",
       "12       135.569313\n",
       "13       135.568223\n",
       "14       135.567133\n",
       "15       135.566043\n",
       "16       135.564953\n",
       "17       135.563863\n",
       "18       135.562773\n",
       "19       135.561683\n",
       "20       135.560593\n",
       "21       135.559503\n",
       "22       135.558413\n",
       "23       135.557323\n",
       "24       135.556233\n",
       "25       135.555143\n",
       "26       135.554053\n",
       "27       135.552963\n",
       "28       135.551873\n",
       "29       135.550783\n",
       "            ...    \n",
       "32670    135.525732\n",
       "32671    135.524640\n",
       "32672    135.537749\n",
       "32673    135.523547\n",
       "32674    135.522455\n",
       "32675    135.538842\n",
       "32676    135.521362\n",
       "32677    135.539934\n",
       "32678    135.520270\n",
       "32679    135.541027\n",
       "32680    135.519177\n",
       "32681    135.542119\n",
       "32682    135.518085\n",
       "32683    135.543211\n",
       "32684    135.516993\n",
       "32685    135.544304\n",
       "32686    135.545396\n",
       "32687    135.546489\n",
       "32688    135.547581\n",
       "32689    135.548674\n",
       "32690    135.549766\n",
       "32691    135.550859\n",
       "32692    135.551951\n",
       "32693    135.553044\n",
       "32694    135.554136\n",
       "32695    135.555229\n",
       "32696    135.556321\n",
       "32697    135.557413\n",
       "32698    135.558506\n",
       "32699    135.559598\n",
       "Length: 32700, dtype: float64"
      ]
     },
     "execution_count": 10,
     "metadata": {},
     "output_type": "execute_result"
    }
   ],
   "source": [
    "data['geometry'].centroid.x"
   ]
  },
  {
   "cell_type": "code",
   "execution_count": 11,
   "metadata": {},
   "outputs": [
    {
     "name": "stderr",
     "output_type": "stream",
     "text": [
      "/home/ksn/.local/lib/python3.7/site-packages/ipykernel_launcher.py:1: UserWarning: Geometry is in a geographic CRS. Results from 'centroid' are likely incorrect. Use 'GeoSeries.to_crs()' to re-project geometries to a projected CRS before this operation.\n",
      "\n",
      "  \"\"\"Entry point for launching an IPython kernel.\n"
     ]
    },
    {
     "data": {
      "text/plain": [
       "0        34.583111\n",
       "1        34.583107\n",
       "2        34.583103\n",
       "3        34.583099\n",
       "4        34.583096\n",
       "5        34.583092\n",
       "6        34.583088\n",
       "7        34.583084\n",
       "8        34.583080\n",
       "9        34.583077\n",
       "10       34.583073\n",
       "11       34.583069\n",
       "12       34.583065\n",
       "13       34.583061\n",
       "14       34.583057\n",
       "15       34.583054\n",
       "16       34.583050\n",
       "17       34.583046\n",
       "18       34.583042\n",
       "19       34.583038\n",
       "20       34.583034\n",
       "21       34.583030\n",
       "22       34.583026\n",
       "23       34.583022\n",
       "24       34.583018\n",
       "25       34.583014\n",
       "26       34.583010\n",
       "27       34.583006\n",
       "28       34.583002\n",
       "29       34.582998\n",
       "           ...    \n",
       "32670    34.771318\n",
       "32671    34.771314\n",
       "32672    34.771364\n",
       "32673    34.771310\n",
       "32674    34.771305\n",
       "32675    34.771368\n",
       "32676    34.771301\n",
       "32677    34.771373\n",
       "32678    34.771297\n",
       "32679    34.771377\n",
       "32680    34.771292\n",
       "32681    34.771381\n",
       "32682    34.771288\n",
       "32683    34.771385\n",
       "32684    34.771284\n",
       "32685    34.771389\n",
       "32686    34.771393\n",
       "32687    34.771397\n",
       "32688    34.771401\n",
       "32689    34.771405\n",
       "32690    34.771409\n",
       "32691    34.771413\n",
       "32692    34.771418\n",
       "32693    34.771422\n",
       "32694    34.771426\n",
       "32695    34.771430\n",
       "32696    34.771434\n",
       "32697    34.771438\n",
       "32698    34.771442\n",
       "32699    34.771446\n",
       "Length: 32700, dtype: float64"
      ]
     },
     "execution_count": 11,
     "metadata": {},
     "output_type": "execute_result"
    }
   ],
   "source": [
    "data['geometry'].centroid.y"
   ]
  },
  {
   "cell_type": "markdown",
   "metadata": {},
   "source": [
    "経度および緯度のデータををdataの'lng'カラムよよび'lat'カラムに入れましょう。"
   ]
  },
  {
   "cell_type": "code",
   "execution_count": 12,
   "metadata": {},
   "outputs": [
    {
     "name": "stderr",
     "output_type": "stream",
     "text": [
      "/home/ksn/.local/lib/python3.7/site-packages/ipykernel_launcher.py:1: UserWarning: Geometry is in a geographic CRS. Results from 'centroid' are likely incorrect. Use 'GeoSeries.to_crs()' to re-project geometries to a projected CRS before this operation.\n",
      "\n",
      "  \"\"\"Entry point for launching an IPython kernel.\n",
      "/home/ksn/.local/lib/python3.7/site-packages/ipykernel_launcher.py:2: UserWarning: Geometry is in a geographic CRS. Results from 'centroid' are likely incorrect. Use 'GeoSeries.to_crs()' to re-project geometries to a projected CRS before this operation.\n",
      "\n",
      "  \n"
     ]
    }
   ],
   "source": [
    "data['lng'] = data['geometry'].centroid.x\n",
    "data['lat'] = data['geometry'].centroid.y"
   ]
  },
  {
   "cell_type": "markdown",
   "metadata": {},
   "source": [
    "先にdata.describe()のところで、平均路線価の値に0が多いであろうことが確認されました。実際にどれくらいの数あるのか調べてみます。"
   ]
  },
  {
   "cell_type": "code",
   "execution_count": 13,
   "metadata": {},
   "outputs": [
    {
     "data": {
      "text/plain": [
       "0       13962\n",
       "105       188\n",
       "97        185\n",
       "110       184\n",
       "121       179\n",
       "107       179\n",
       "102       177\n",
       "112       174\n",
       "125       174\n",
       "117       172\n",
       "114       171\n",
       "104       169\n",
       "115       169\n",
       "106       167\n",
       "103       164\n",
       "120       163\n",
       "108       162\n",
       "113       161\n",
       "116       158\n",
       "100       158\n",
       "123       157\n",
       "122       156\n",
       "99        155\n",
       "96        155\n",
       "131       154\n",
       "95        153\n",
       "92        153\n",
       "93        152\n",
       "91        151\n",
       "128       149\n",
       "        ...  \n",
       "2473        1\n",
       "2182        1\n",
       "1031        1\n",
       "399         1\n",
       "439         1\n",
       "471         1\n",
       "487         1\n",
       "1598        1\n",
       "8803        1\n",
       "631         1\n",
       "663         1\n",
       "679         1\n",
       "727         1\n",
       "791         1\n",
       "3062        1\n",
       "1111        1\n",
       "2313        1\n",
       "3174        1\n",
       "1143        1\n",
       "3302        1\n",
       "1351        1\n",
       "1527        1\n",
       "1575        1\n",
       "3718        1\n",
       "3830        1\n",
       "1847        1\n",
       "4070        1\n",
       "1903        1\n",
       "2137        1\n",
       "1967        1\n",
       "Name: 平均路線価, Length: 960, dtype: int64"
      ]
     },
     "execution_count": 13,
     "metadata": {},
     "output_type": "execute_result"
    }
   ],
   "source": [
    "data['平均路線価'].value_counts()"
   ]
  },
  {
   "cell_type": "markdown",
   "metadata": {},
   "source": [
    "平均路線価が0のところのデータは表示する必要がないので、dataから取り除きます。"
   ]
  },
  {
   "cell_type": "code",
   "execution_count": 14,
   "metadata": {},
   "outputs": [],
   "source": [
    "data = data[data['平均路線価'] != 0]"
   ]
  },
  {
   "cell_type": "code",
   "execution_count": 15,
   "metadata": {},
   "outputs": [
    {
     "data": {
      "text/html": [
       "<div>\n",
       "<style scoped>\n",
       "    .dataframe tbody tr th:only-of-type {\n",
       "        vertical-align: middle;\n",
       "    }\n",
       "\n",
       "    .dataframe tbody tr th {\n",
       "        vertical-align: top;\n",
       "    }\n",
       "\n",
       "    .dataframe thead th {\n",
       "        text-align: right;\n",
       "    }\n",
       "</style>\n",
       "<table border=\"1\" class=\"dataframe\">\n",
       "  <thead>\n",
       "    <tr style=\"text-align: right;\">\n",
       "      <th></th>\n",
       "      <th>MESH_CODE</th>\n",
       "      <th>最高路線価</th>\n",
       "      <th>最低路線価</th>\n",
       "      <th>平均路線価</th>\n",
       "      <th>geometry</th>\n",
       "      <th>lng</th>\n",
       "      <th>lat</th>\n",
       "    </tr>\n",
       "  </thead>\n",
       "  <tbody>\n",
       "    <tr>\n",
       "      <th>302</th>\n",
       "      <td>S110W00522</td>\n",
       "      <td>66</td>\n",
       "      <td>63</td>\n",
       "      <td>65</td>\n",
       "      <td>POLYGON ((135.50334 34.58777, 135.50334 34.586...</td>\n",
       "      <td>135.502796</td>\n",
       "      <td>34.587320</td>\n",
       "    </tr>\n",
       "    <tr>\n",
       "      <th>303</th>\n",
       "      <td>S110W00521</td>\n",
       "      <td>66</td>\n",
       "      <td>60</td>\n",
       "      <td>63</td>\n",
       "      <td>POLYGON ((135.50225 34.58777, 135.50225 34.586...</td>\n",
       "      <td>135.501706</td>\n",
       "      <td>34.587316</td>\n",
       "    </tr>\n",
       "    <tr>\n",
       "      <th>304</th>\n",
       "      <td>S110W01025</td>\n",
       "      <td>60</td>\n",
       "      <td>60</td>\n",
       "      <td>60</td>\n",
       "      <td>POLYGON ((135.50116 34.58776, 135.50116 34.586...</td>\n",
       "      <td>135.500616</td>\n",
       "      <td>34.587312</td>\n",
       "    </tr>\n",
       "    <tr>\n",
       "      <th>305</th>\n",
       "      <td>S110E00516</td>\n",
       "      <td>22</td>\n",
       "      <td>22</td>\n",
       "      <td>22</td>\n",
       "      <td>POLYGON ((135.50769 34.58869, 135.50770 34.587...</td>\n",
       "      <td>135.507151</td>\n",
       "      <td>34.588240</td>\n",
       "    </tr>\n",
       "    <tr>\n",
       "      <th>306</th>\n",
       "      <td>S110W00520</td>\n",
       "      <td>29</td>\n",
       "      <td>22</td>\n",
       "      <td>26</td>\n",
       "      <td>POLYGON ((135.50660 34.58869, 135.50661 34.587...</td>\n",
       "      <td>135.506061</td>\n",
       "      <td>34.588235</td>\n",
       "    </tr>\n",
       "  </tbody>\n",
       "</table>\n",
       "</div>"
      ],
      "text/plain": [
       "      MESH_CODE  最高路線価  最低路線価  平均路線価  \\\n",
       "302  S110W00522     66     63     65   \n",
       "303  S110W00521     66     60     63   \n",
       "304  S110W01025     60     60     60   \n",
       "305  S110E00516     22     22     22   \n",
       "306  S110W00520     29     22     26   \n",
       "\n",
       "                                              geometry         lng        lat  \n",
       "302  POLYGON ((135.50334 34.58777, 135.50334 34.586...  135.502796  34.587320  \n",
       "303  POLYGON ((135.50225 34.58777, 135.50225 34.586...  135.501706  34.587316  \n",
       "304  POLYGON ((135.50116 34.58776, 135.50116 34.586...  135.500616  34.587312  \n",
       "305  POLYGON ((135.50769 34.58869, 135.50770 34.587...  135.507151  34.588240  \n",
       "306  POLYGON ((135.50660 34.58869, 135.50661 34.587...  135.506061  34.588235  "
      ]
     },
     "execution_count": 15,
     "metadata": {},
     "output_type": "execute_result"
    }
   ],
   "source": [
    "data.head()"
   ]
  },
  {
   "cell_type": "code",
   "execution_count": 16,
   "metadata": {},
   "outputs": [
    {
     "data": {
      "text/plain": [
       "105     188\n",
       "97      185\n",
       "110     184\n",
       "107     179\n",
       "121     179\n",
       "102     177\n",
       "112     174\n",
       "125     174\n",
       "117     172\n",
       "114     171\n",
       "115     169\n",
       "104     169\n",
       "106     167\n",
       "103     164\n",
       "120     163\n",
       "108     162\n",
       "113     161\n",
       "116     158\n",
       "100     158\n",
       "123     157\n",
       "122     156\n",
       "96      155\n",
       "99      155\n",
       "131     154\n",
       "95      153\n",
       "92      153\n",
       "93      152\n",
       "91      151\n",
       "118     149\n",
       "128     149\n",
       "       ... \n",
       "4070      1\n",
       "791       1\n",
       "3062      1\n",
       "1031      1\n",
       "1111      1\n",
       "3174      1\n",
       "1143      1\n",
       "3302      1\n",
       "1351      1\n",
       "1527      1\n",
       "1575      1\n",
       "3718      1\n",
       "3830      1\n",
       "1847      1\n",
       "1903      1\n",
       "1064      1\n",
       "2313      1\n",
       "2473      1\n",
       "552       1\n",
       "584       1\n",
       "632       1\n",
       "648       1\n",
       "712       1\n",
       "728       1\n",
       "744       1\n",
       "760       1\n",
       "872       1\n",
       "904       1\n",
       "936       1\n",
       "2137      1\n",
       "Name: 平均路線価, Length: 959, dtype: int64"
      ]
     },
     "execution_count": 16,
     "metadata": {},
     "output_type": "execute_result"
    }
   ],
   "source": [
    "data['平均路線価'].value_counts()"
   ]
  },
  {
   "cell_type": "markdown",
   "metadata": {},
   "source": [
    "前処理が終わったので、pydeckを使って平均路線価の可視化を行います。"
   ]
  },
  {
   "cell_type": "code",
   "execution_count": 17,
   "metadata": {},
   "outputs": [
    {
     "data": {
      "text/html": [
       "\n",
       "        <iframe\n",
       "            width=\"700\"\n",
       "            height=\"500\"\n",
       "            src=\"./osakadeta.html\"\n",
       "            frameborder=\"0\"\n",
       "            allowfullscreen\n",
       "        ></iframe>\n",
       "        "
      ],
      "text/plain": [
       "<IPython.lib.display.IFrame at 0x7f01cc5f05c0>"
      ]
     },
     "metadata": {},
     "output_type": "display_data"
    },
    {
     "data": {
      "text/plain": [
       "'/home/ksn/Desktop/研究/研究資料一般/研究資料2020年度/PyConJP2020/tutorial/data3/osakadeta.html'"
      ]
     },
     "execution_count": 17,
     "metadata": {},
     "output_type": "execute_result"
    }
   ],
   "source": [
    "midpoint = (np.average(data['lat']), np.average(data['lng']))\n",
    "\n",
    "r = pdk.Deck(\n",
    "        map_style=\"mapbox://styles/mapbox/dark-v9\",\n",
    "        mapbox_key=MAPBOX_KEY,\n",
    "        initial_view_state = {\n",
    "            \"latitude\": midpoint[0],\n",
    "            \"longitude\": midpoint[1],\n",
    "            \"zoom\": 9,\n",
    "            \"pitch\": 30,\n",
    "          },\n",
    "        layers = [\n",
    "            pdk.Layer(\n",
    "            'GridCellLayer',\n",
    "            data = data[['平均路線価','lng','lat']],\n",
    "            get_position = ['lng', 'lat'], #['longitude(経度)', 'latitude(緯度)']\n",
    "            extruded = True,\n",
    "            pickable = True,\n",
    "            wireframe=True,\n",
    "            get_elevation = '平均路線価',\n",
    "            get_fill_color='[255, 255, 0]',\n",
    "            get_line_color=[0,0,0],\n",
    "            opacity = 0.1,\n",
    "            auto_highlight=True,\n",
    "            cell_size =  50,\n",
    "            ),\n",
    "        ],\n",
    "    )\n",
    "\n",
    "r.to_html(\"osakadeta.html\")"
   ]
  },
  {
   "cell_type": "markdown",
   "metadata": {},
   "source": [
    "## 2. 平均路線価と自転車盗難数の可視化"
   ]
  },
  {
   "cell_type": "markdown",
   "metadata": {},
   "source": [
    "市町村コードと緯度・経度の対応表を得るために、国土数値情報市区町村役場データを使います。"
   ]
  },
  {
   "cell_type": "code",
   "execution_count": 18,
   "metadata": {},
   "outputs": [],
   "source": [
    "code_osaka = gpd.read_file('../data/osakadata/P34-14_27_GML/P34-14_27.shp', encoding='shift-jis')"
   ]
  },
  {
   "cell_type": "code",
   "execution_count": 19,
   "metadata": {},
   "outputs": [
    {
     "data": {
      "text/html": [
       "<div>\n",
       "<style scoped>\n",
       "    .dataframe tbody tr th:only-of-type {\n",
       "        vertical-align: middle;\n",
       "    }\n",
       "\n",
       "    .dataframe tbody tr th {\n",
       "        vertical-align: top;\n",
       "    }\n",
       "\n",
       "    .dataframe thead th {\n",
       "        text-align: right;\n",
       "    }\n",
       "</style>\n",
       "<table border=\"1\" class=\"dataframe\">\n",
       "  <thead>\n",
       "    <tr style=\"text-align: right;\">\n",
       "      <th></th>\n",
       "      <th>P34_001</th>\n",
       "      <th>P34_002</th>\n",
       "      <th>P34_003</th>\n",
       "      <th>P34_004</th>\n",
       "      <th>geometry</th>\n",
       "    </tr>\n",
       "  </thead>\n",
       "  <tbody>\n",
       "    <tr>\n",
       "      <th>0</th>\n",
       "      <td>27100</td>\n",
       "      <td>1</td>\n",
       "      <td>大阪市役所</td>\n",
       "      <td>大阪市北区中之島1-3-20</td>\n",
       "      <td>POINT (135.50205 34.69389)</td>\n",
       "    </tr>\n",
       "    <tr>\n",
       "      <th>1</th>\n",
       "      <td>27102</td>\n",
       "      <td>1</td>\n",
       "      <td>大阪市都島区役所</td>\n",
       "      <td>大阪市都島区中野町2-16-20</td>\n",
       "      <td>POINT (135.52809 34.70128)</td>\n",
       "    </tr>\n",
       "    <tr>\n",
       "      <th>2</th>\n",
       "      <td>27103</td>\n",
       "      <td>1</td>\n",
       "      <td>大阪市福島区役所</td>\n",
       "      <td>大阪市福島区大開1-8-1</td>\n",
       "      <td>POINT (135.47223 34.69236)</td>\n",
       "    </tr>\n",
       "    <tr>\n",
       "      <th>3</th>\n",
       "      <td>27104</td>\n",
       "      <td>1</td>\n",
       "      <td>大阪市此花区役所</td>\n",
       "      <td>大阪市此花区春日出北1-8-4</td>\n",
       "      <td>POINT (135.45222 34.68304)</td>\n",
       "    </tr>\n",
       "    <tr>\n",
       "      <th>4</th>\n",
       "      <td>27106</td>\n",
       "      <td>1</td>\n",
       "      <td>大阪市西区役所</td>\n",
       "      <td>大阪市西区新町4-5-14</td>\n",
       "      <td>POINT (135.48611 34.67638)</td>\n",
       "    </tr>\n",
       "  </tbody>\n",
       "</table>\n",
       "</div>"
      ],
      "text/plain": [
       "  P34_001 P34_002   P34_003           P34_004                    geometry\n",
       "0   27100       1     大阪市役所    大阪市北区中之島1-3-20  POINT (135.50205 34.69389)\n",
       "1   27102       1  大阪市都島区役所  大阪市都島区中野町2-16-20  POINT (135.52809 34.70128)\n",
       "2   27103       1  大阪市福島区役所     大阪市福島区大開1-8-1  POINT (135.47223 34.69236)\n",
       "3   27104       1  大阪市此花区役所   大阪市此花区春日出北1-8-4  POINT (135.45222 34.68304)\n",
       "4   27106       1   大阪市西区役所     大阪市西区新町4-5-14  POINT (135.48611 34.67638)"
      ]
     },
     "execution_count": 19,
     "metadata": {},
     "output_type": "execute_result"
    }
   ],
   "source": [
    "code_osaka.head()"
   ]
  },
  {
   "cell_type": "code",
   "execution_count": 20,
   "metadata": {},
   "outputs": [],
   "source": [
    "code_osaka['緯度'] = code_osaka['geometry'].y\n",
    "code_osaka['経度'] = code_osaka['geometry'].x"
   ]
  },
  {
   "cell_type": "code",
   "execution_count": 21,
   "metadata": {},
   "outputs": [
    {
     "data": {
      "text/html": [
       "<div>\n",
       "<style scoped>\n",
       "    .dataframe tbody tr th:only-of-type {\n",
       "        vertical-align: middle;\n",
       "    }\n",
       "\n",
       "    .dataframe tbody tr th {\n",
       "        vertical-align: top;\n",
       "    }\n",
       "\n",
       "    .dataframe thead th {\n",
       "        text-align: right;\n",
       "    }\n",
       "</style>\n",
       "<table border=\"1\" class=\"dataframe\">\n",
       "  <thead>\n",
       "    <tr style=\"text-align: right;\">\n",
       "      <th></th>\n",
       "      <th>P34_001</th>\n",
       "      <th>P34_002</th>\n",
       "      <th>P34_003</th>\n",
       "      <th>P34_004</th>\n",
       "      <th>geometry</th>\n",
       "      <th>緯度</th>\n",
       "      <th>経度</th>\n",
       "    </tr>\n",
       "  </thead>\n",
       "  <tbody>\n",
       "    <tr>\n",
       "      <th>0</th>\n",
       "      <td>27100</td>\n",
       "      <td>1</td>\n",
       "      <td>大阪市役所</td>\n",
       "      <td>大阪市北区中之島1-3-20</td>\n",
       "      <td>POINT (135.50205 34.69389)</td>\n",
       "      <td>34.693891</td>\n",
       "      <td>135.502046</td>\n",
       "    </tr>\n",
       "    <tr>\n",
       "      <th>1</th>\n",
       "      <td>27102</td>\n",
       "      <td>1</td>\n",
       "      <td>大阪市都島区役所</td>\n",
       "      <td>大阪市都島区中野町2-16-20</td>\n",
       "      <td>POINT (135.52809 34.70128)</td>\n",
       "      <td>34.701279</td>\n",
       "      <td>135.528090</td>\n",
       "    </tr>\n",
       "    <tr>\n",
       "      <th>2</th>\n",
       "      <td>27103</td>\n",
       "      <td>1</td>\n",
       "      <td>大阪市福島区役所</td>\n",
       "      <td>大阪市福島区大開1-8-1</td>\n",
       "      <td>POINT (135.47223 34.69236)</td>\n",
       "      <td>34.692357</td>\n",
       "      <td>135.472232</td>\n",
       "    </tr>\n",
       "    <tr>\n",
       "      <th>3</th>\n",
       "      <td>27104</td>\n",
       "      <td>1</td>\n",
       "      <td>大阪市此花区役所</td>\n",
       "      <td>大阪市此花区春日出北1-8-4</td>\n",
       "      <td>POINT (135.45222 34.68304)</td>\n",
       "      <td>34.683038</td>\n",
       "      <td>135.452225</td>\n",
       "    </tr>\n",
       "    <tr>\n",
       "      <th>4</th>\n",
       "      <td>27106</td>\n",
       "      <td>1</td>\n",
       "      <td>大阪市西区役所</td>\n",
       "      <td>大阪市西区新町4-5-14</td>\n",
       "      <td>POINT (135.48611 34.67638)</td>\n",
       "      <td>34.676384</td>\n",
       "      <td>135.486111</td>\n",
       "    </tr>\n",
       "  </tbody>\n",
       "</table>\n",
       "</div>"
      ],
      "text/plain": [
       "  P34_001 P34_002   P34_003           P34_004                    geometry  \\\n",
       "0   27100       1     大阪市役所    大阪市北区中之島1-3-20  POINT (135.50205 34.69389)   \n",
       "1   27102       1  大阪市都島区役所  大阪市都島区中野町2-16-20  POINT (135.52809 34.70128)   \n",
       "2   27103       1  大阪市福島区役所     大阪市福島区大開1-8-1  POINT (135.47223 34.69236)   \n",
       "3   27104       1  大阪市此花区役所   大阪市此花区春日出北1-8-4  POINT (135.45222 34.68304)   \n",
       "4   27106       1   大阪市西区役所     大阪市西区新町4-5-14  POINT (135.48611 34.67638)   \n",
       "\n",
       "          緯度          経度  \n",
       "0  34.693891  135.502046  \n",
       "1  34.701279  135.528090  \n",
       "2  34.692357  135.472232  \n",
       "3  34.683038  135.452225  \n",
       "4  34.676384  135.486111  "
      ]
     },
     "execution_count": 21,
     "metadata": {},
     "output_type": "execute_result"
    }
   ],
   "source": [
    "code_osaka.head()"
   ]
  },
  {
   "cell_type": "code",
   "execution_count": 22,
   "metadata": {},
   "outputs": [],
   "source": [
    "code_osaka = code_osaka.rename({'P34_001':'コード'}, axis=1)"
   ]
  },
  {
   "cell_type": "code",
   "execution_count": 23,
   "metadata": {},
   "outputs": [
    {
     "data": {
      "text/html": [
       "<div>\n",
       "<style scoped>\n",
       "    .dataframe tbody tr th:only-of-type {\n",
       "        vertical-align: middle;\n",
       "    }\n",
       "\n",
       "    .dataframe tbody tr th {\n",
       "        vertical-align: top;\n",
       "    }\n",
       "\n",
       "    .dataframe thead th {\n",
       "        text-align: right;\n",
       "    }\n",
       "</style>\n",
       "<table border=\"1\" class=\"dataframe\">\n",
       "  <thead>\n",
       "    <tr style=\"text-align: right;\">\n",
       "      <th></th>\n",
       "      <th>コード</th>\n",
       "      <th>P34_002</th>\n",
       "      <th>P34_003</th>\n",
       "      <th>P34_004</th>\n",
       "      <th>geometry</th>\n",
       "      <th>緯度</th>\n",
       "      <th>経度</th>\n",
       "    </tr>\n",
       "  </thead>\n",
       "  <tbody>\n",
       "    <tr>\n",
       "      <th>0</th>\n",
       "      <td>27100</td>\n",
       "      <td>1</td>\n",
       "      <td>大阪市役所</td>\n",
       "      <td>大阪市北区中之島1-3-20</td>\n",
       "      <td>POINT (135.50205 34.69389)</td>\n",
       "      <td>34.693891</td>\n",
       "      <td>135.502046</td>\n",
       "    </tr>\n",
       "    <tr>\n",
       "      <th>1</th>\n",
       "      <td>27102</td>\n",
       "      <td>1</td>\n",
       "      <td>大阪市都島区役所</td>\n",
       "      <td>大阪市都島区中野町2-16-20</td>\n",
       "      <td>POINT (135.52809 34.70128)</td>\n",
       "      <td>34.701279</td>\n",
       "      <td>135.528090</td>\n",
       "    </tr>\n",
       "    <tr>\n",
       "      <th>2</th>\n",
       "      <td>27103</td>\n",
       "      <td>1</td>\n",
       "      <td>大阪市福島区役所</td>\n",
       "      <td>大阪市福島区大開1-8-1</td>\n",
       "      <td>POINT (135.47223 34.69236)</td>\n",
       "      <td>34.692357</td>\n",
       "      <td>135.472232</td>\n",
       "    </tr>\n",
       "    <tr>\n",
       "      <th>3</th>\n",
       "      <td>27104</td>\n",
       "      <td>1</td>\n",
       "      <td>大阪市此花区役所</td>\n",
       "      <td>大阪市此花区春日出北1-8-4</td>\n",
       "      <td>POINT (135.45222 34.68304)</td>\n",
       "      <td>34.683038</td>\n",
       "      <td>135.452225</td>\n",
       "    </tr>\n",
       "    <tr>\n",
       "      <th>4</th>\n",
       "      <td>27106</td>\n",
       "      <td>1</td>\n",
       "      <td>大阪市西区役所</td>\n",
       "      <td>大阪市西区新町4-5-14</td>\n",
       "      <td>POINT (135.48611 34.67638)</td>\n",
       "      <td>34.676384</td>\n",
       "      <td>135.486111</td>\n",
       "    </tr>\n",
       "  </tbody>\n",
       "</table>\n",
       "</div>"
      ],
      "text/plain": [
       "     コード P34_002   P34_003           P34_004                    geometry  \\\n",
       "0  27100       1     大阪市役所    大阪市北区中之島1-3-20  POINT (135.50205 34.69389)   \n",
       "1  27102       1  大阪市都島区役所  大阪市都島区中野町2-16-20  POINT (135.52809 34.70128)   \n",
       "2  27103       1  大阪市福島区役所     大阪市福島区大開1-8-1  POINT (135.47223 34.69236)   \n",
       "3  27104       1  大阪市此花区役所   大阪市此花区春日出北1-8-4  POINT (135.45222 34.68304)   \n",
       "4  27106       1   大阪市西区役所     大阪市西区新町4-5-14  POINT (135.48611 34.67638)   \n",
       "\n",
       "          緯度          経度  \n",
       "0  34.693891  135.502046  \n",
       "1  34.701279  135.528090  \n",
       "2  34.692357  135.472232  \n",
       "3  34.683038  135.452225  \n",
       "4  34.676384  135.486111  "
      ]
     },
     "execution_count": 23,
     "metadata": {},
     "output_type": "execute_result"
    }
   ],
   "source": [
    "code_osaka.head()"
   ]
  },
  {
   "cell_type": "markdown",
   "metadata": {},
   "source": [
    "次に、大阪の自転車盗難数に関するデータを読み込みんでデータフレームを作成します。このデータフレームは、先につくった市町村コードと緯度・経度の関係を表したデータフレーム(code_osaka)とマージすることになります。"
   ]
  },
  {
   "cell_type": "markdown",
   "metadata": {},
   "source": [
    "大阪の自転車盗難数に関するデータは、大阪府警察犯罪オープンデータサイト (https://www.police.pref.osaka.lg.jp/seikatsu/9290.html) が出典です。"
   ]
  },
  {
   "cell_type": "markdown",
   "metadata": {},
   "source": [
    "では、データを読み込んで解析を進めていきましょう。"
   ]
  },
  {
   "cell_type": "code",
   "execution_count": 24,
   "metadata": {},
   "outputs": [],
   "source": [
    "hanzai_data = pd.read_csv('../data/osakadata/osaka_2018zitensyatou.csv', encoding='shift_jis')"
   ]
  },
  {
   "cell_type": "code",
   "execution_count": 25,
   "metadata": {},
   "outputs": [
    {
     "data": {
      "text/html": [
       "<div>\n",
       "<style scoped>\n",
       "    .dataframe tbody tr th:only-of-type {\n",
       "        vertical-align: middle;\n",
       "    }\n",
       "\n",
       "    .dataframe tbody tr th {\n",
       "        vertical-align: top;\n",
       "    }\n",
       "\n",
       "    .dataframe thead th {\n",
       "        text-align: right;\n",
       "    }\n",
       "</style>\n",
       "<table border=\"1\" class=\"dataframe\">\n",
       "  <thead>\n",
       "    <tr style=\"text-align: right;\">\n",
       "      <th></th>\n",
       "      <th>罪名</th>\n",
       "      <th>手口</th>\n",
       "      <th>管轄警察署（発生地）</th>\n",
       "      <th>管轄交番・駐在所（発生地）</th>\n",
       "      <th>市区町村コード（発生地）</th>\n",
       "      <th>都道府県（発生地）</th>\n",
       "      <th>市区町村（発生地）</th>\n",
       "      <th>町丁目（発生地）</th>\n",
       "      <th>発生年月日（始期）</th>\n",
       "      <th>発生時（始期）</th>\n",
       "      <th>発生場所の属性</th>\n",
       "      <th>被害者の年齢</th>\n",
       "      <th>被害者の職業</th>\n",
       "      <th>施錠関係</th>\n",
       "    </tr>\n",
       "  </thead>\n",
       "  <tbody>\n",
       "    <tr>\n",
       "      <th>0</th>\n",
       "      <td>窃盗</td>\n",
       "      <td>自転車盗</td>\n",
       "      <td>西</td>\n",
       "      <td>NaN</td>\n",
       "      <td>271284.0</td>\n",
       "      <td>大阪府</td>\n",
       "      <td>大阪市中央区</td>\n",
       "      <td>千日前２丁目</td>\n",
       "      <td>2017-03-08</td>\n",
       "      <td>18</td>\n",
       "      <td>駐車（輪）場</td>\n",
       "      <td>法人・団体、被害者なし</td>\n",
       "      <td>法人・団体、被害者なし</td>\n",
       "      <td>施錠した</td>\n",
       "    </tr>\n",
       "    <tr>\n",
       "      <th>1</th>\n",
       "      <td>窃盗</td>\n",
       "      <td>自転車盗</td>\n",
       "      <td>西</td>\n",
       "      <td>松島交番</td>\n",
       "      <td>271063.0</td>\n",
       "      <td>大阪府</td>\n",
       "      <td>大阪市西区</td>\n",
       "      <td>立売堀３丁目</td>\n",
       "      <td>2018-05-12</td>\n",
       "      <td>15</td>\n",
       "      <td>４階建て以上共同住宅</td>\n",
       "      <td>50歳代</td>\n",
       "      <td>その他</td>\n",
       "      <td>施錠した</td>\n",
       "    </tr>\n",
       "    <tr>\n",
       "      <th>2</th>\n",
       "      <td>窃盗</td>\n",
       "      <td>自転車盗</td>\n",
       "      <td>西</td>\n",
       "      <td>松島交番</td>\n",
       "      <td>271063.0</td>\n",
       "      <td>大阪府</td>\n",
       "      <td>大阪市西区</td>\n",
       "      <td>江之子島１丁目</td>\n",
       "      <td>2018-03-18</td>\n",
       "      <td>21</td>\n",
       "      <td>４階建て以上共同住宅</td>\n",
       "      <td>70歳以上</td>\n",
       "      <td>その他</td>\n",
       "      <td>施錠した</td>\n",
       "    </tr>\n",
       "    <tr>\n",
       "      <th>3</th>\n",
       "      <td>窃盗</td>\n",
       "      <td>自転車盗</td>\n",
       "      <td>西</td>\n",
       "      <td>松島交番</td>\n",
       "      <td>271063.0</td>\n",
       "      <td>大阪府</td>\n",
       "      <td>大阪市西区</td>\n",
       "      <td>川口１丁目</td>\n",
       "      <td>2018-11-27</td>\n",
       "      <td>15</td>\n",
       "      <td>駐車（輪）場</td>\n",
       "      <td>60-64歳</td>\n",
       "      <td>その他</td>\n",
       "      <td>施錠した</td>\n",
       "    </tr>\n",
       "    <tr>\n",
       "      <th>4</th>\n",
       "      <td>窃盗</td>\n",
       "      <td>自転車盗</td>\n",
       "      <td>西</td>\n",
       "      <td>松島交番</td>\n",
       "      <td>271063.0</td>\n",
       "      <td>大阪府</td>\n",
       "      <td>大阪市西区</td>\n",
       "      <td>川口２丁目</td>\n",
       "      <td>2018-11-28</td>\n",
       "      <td>14</td>\n",
       "      <td>道路上</td>\n",
       "      <td>65-69歳</td>\n",
       "      <td>その他</td>\n",
       "      <td>施錠した</td>\n",
       "    </tr>\n",
       "  </tbody>\n",
       "</table>\n",
       "</div>"
      ],
      "text/plain": [
       "   罪名    手口 管轄警察署（発生地） 管轄交番・駐在所（発生地）  市区町村コード（発生地） 都道府県（発生地） 市区町村（発生地）  \\\n",
       "0  窃盗  自転車盗          西           NaN      271284.0       大阪府    大阪市中央区   \n",
       "1  窃盗  自転車盗          西          松島交番      271063.0       大阪府     大阪市西区   \n",
       "2  窃盗  自転車盗          西          松島交番      271063.0       大阪府     大阪市西区   \n",
       "3  窃盗  自転車盗          西          松島交番      271063.0       大阪府     大阪市西区   \n",
       "4  窃盗  自転車盗          西          松島交番      271063.0       大阪府     大阪市西区   \n",
       "\n",
       "  町丁目（発生地）   発生年月日（始期） 発生時（始期）     発生場所の属性       被害者の年齢       被害者の職業  施錠関係  \n",
       "0   千日前２丁目  2017-03-08      18      駐車（輪）場  法人・団体、被害者なし  法人・団体、被害者なし  施錠した  \n",
       "1   立売堀３丁目  2018-05-12      15  ４階建て以上共同住宅         50歳代          その他  施錠した  \n",
       "2  江之子島１丁目  2018-03-18      21  ４階建て以上共同住宅        70歳以上          その他  施錠した  \n",
       "3    川口１丁目  2018-11-27      15      駐車（輪）場       60-64歳          その他  施錠した  \n",
       "4    川口２丁目  2018-11-28      14         道路上       65-69歳          その他  施錠した  "
      ]
     },
     "execution_count": 25,
     "metadata": {},
     "output_type": "execute_result"
    }
   ],
   "source": [
    "hanzai_data.head()"
   ]
  },
  {
   "cell_type": "markdown",
   "metadata": {},
   "source": [
    "このデータから、各々の地域で発生した自転車盗難の回数を計算していきます。"
   ]
  },
  {
   "cell_type": "markdown",
   "metadata": {},
   "source": [
    "市区町村コード（発生地）ごとにグループ化し、それぞれのコードを持ったデータの頻度（= 地区コード別の自転車盗難発生回数）をsizeメソッドを使って計算します。"
   ]
  },
  {
   "cell_type": "code",
   "execution_count": 26,
   "metadata": {},
   "outputs": [],
   "source": [
    "grouped = hanzai_data.groupby('市区町村コード（発生地）')"
   ]
  },
  {
   "cell_type": "code",
   "execution_count": 27,
   "metadata": {},
   "outputs": [],
   "source": [
    "grouped_size = grouped.size()"
   ]
  },
  {
   "cell_type": "code",
   "execution_count": 28,
   "metadata": {},
   "outputs": [
    {
     "data": {
      "text/plain": [
       "市区町村コード（発生地）\n",
       "271021.0    578\n",
       "271039.0    324\n",
       "271047.0    213\n",
       "271063.0    500\n",
       "271071.0    314\n",
       "dtype: int64"
      ]
     },
     "execution_count": 28,
     "metadata": {},
     "output_type": "execute_result"
    }
   ],
   "source": [
    "grouped_size.head()"
   ]
  },
  {
   "cell_type": "markdown",
   "metadata": {},
   "source": [
    "SeriesをDataFrameにします。"
   ]
  },
  {
   "cell_type": "code",
   "execution_count": 29,
   "metadata": {},
   "outputs": [],
   "source": [
    "grouped_size_df = pd.DataFrame(grouped_size)"
   ]
  },
  {
   "cell_type": "code",
   "execution_count": 30,
   "metadata": {},
   "outputs": [
    {
     "data": {
      "text/html": [
       "<div>\n",
       "<style scoped>\n",
       "    .dataframe tbody tr th:only-of-type {\n",
       "        vertical-align: middle;\n",
       "    }\n",
       "\n",
       "    .dataframe tbody tr th {\n",
       "        vertical-align: top;\n",
       "    }\n",
       "\n",
       "    .dataframe thead th {\n",
       "        text-align: right;\n",
       "    }\n",
       "</style>\n",
       "<table border=\"1\" class=\"dataframe\">\n",
       "  <thead>\n",
       "    <tr style=\"text-align: right;\">\n",
       "      <th></th>\n",
       "      <th>0</th>\n",
       "    </tr>\n",
       "    <tr>\n",
       "      <th>市区町村コード（発生地）</th>\n",
       "      <th></th>\n",
       "    </tr>\n",
       "  </thead>\n",
       "  <tbody>\n",
       "    <tr>\n",
       "      <th>271021.0</th>\n",
       "      <td>578</td>\n",
       "    </tr>\n",
       "    <tr>\n",
       "      <th>271039.0</th>\n",
       "      <td>324</td>\n",
       "    </tr>\n",
       "    <tr>\n",
       "      <th>271047.0</th>\n",
       "      <td>213</td>\n",
       "    </tr>\n",
       "    <tr>\n",
       "      <th>271063.0</th>\n",
       "      <td>500</td>\n",
       "    </tr>\n",
       "    <tr>\n",
       "      <th>271071.0</th>\n",
       "      <td>314</td>\n",
       "    </tr>\n",
       "  </tbody>\n",
       "</table>\n",
       "</div>"
      ],
      "text/plain": [
       "                0\n",
       "市区町村コード（発生地）     \n",
       "271021.0      578\n",
       "271039.0      324\n",
       "271047.0      213\n",
       "271063.0      500\n",
       "271071.0      314"
      ]
     },
     "execution_count": 30,
     "metadata": {},
     "output_type": "execute_result"
    }
   ],
   "source": [
    "grouped_size_df.head()"
   ]
  },
  {
   "cell_type": "markdown",
   "metadata": {},
   "source": [
    "インデックスが市区町村コード（発生地）になってしまっているので、インデックスをリセットします。"
   ]
  },
  {
   "cell_type": "code",
   "execution_count": 31,
   "metadata": {},
   "outputs": [],
   "source": [
    "grouped_size_df.reset_index(inplace=True)"
   ]
  },
  {
   "cell_type": "code",
   "execution_count": 32,
   "metadata": {},
   "outputs": [
    {
     "data": {
      "text/html": [
       "<div>\n",
       "<style scoped>\n",
       "    .dataframe tbody tr th:only-of-type {\n",
       "        vertical-align: middle;\n",
       "    }\n",
       "\n",
       "    .dataframe tbody tr th {\n",
       "        vertical-align: top;\n",
       "    }\n",
       "\n",
       "    .dataframe thead th {\n",
       "        text-align: right;\n",
       "    }\n",
       "</style>\n",
       "<table border=\"1\" class=\"dataframe\">\n",
       "  <thead>\n",
       "    <tr style=\"text-align: right;\">\n",
       "      <th></th>\n",
       "      <th>市区町村コード（発生地）</th>\n",
       "      <th>0</th>\n",
       "    </tr>\n",
       "  </thead>\n",
       "  <tbody>\n",
       "    <tr>\n",
       "      <th>0</th>\n",
       "      <td>271021.0</td>\n",
       "      <td>578</td>\n",
       "    </tr>\n",
       "    <tr>\n",
       "      <th>1</th>\n",
       "      <td>271039.0</td>\n",
       "      <td>324</td>\n",
       "    </tr>\n",
       "    <tr>\n",
       "      <th>2</th>\n",
       "      <td>271047.0</td>\n",
       "      <td>213</td>\n",
       "    </tr>\n",
       "    <tr>\n",
       "      <th>3</th>\n",
       "      <td>271063.0</td>\n",
       "      <td>500</td>\n",
       "    </tr>\n",
       "    <tr>\n",
       "      <th>4</th>\n",
       "      <td>271071.0</td>\n",
       "      <td>314</td>\n",
       "    </tr>\n",
       "  </tbody>\n",
       "</table>\n",
       "</div>"
      ],
      "text/plain": [
       "   市区町村コード（発生地）    0\n",
       "0      271021.0  578\n",
       "1      271039.0  324\n",
       "2      271047.0  213\n",
       "3      271063.0  500\n",
       "4      271071.0  314"
      ]
     },
     "execution_count": 32,
     "metadata": {},
     "output_type": "execute_result"
    }
   ],
   "source": [
    "grouped_size_df.head()"
   ]
  },
  {
   "cell_type": "markdown",
   "metadata": {},
   "source": [
    "自転車盗難件数に当たるカラムのカラム名が0となっていて分かりにくいので名前を「自転車盗難件数」に変えます。"
   ]
  },
  {
   "cell_type": "code",
   "execution_count": 33,
   "metadata": {},
   "outputs": [],
   "source": [
    "grouped_size_df = grouped_size_df.rename({0:'自転車盗難件数'}, axis=1)"
   ]
  },
  {
   "cell_type": "code",
   "execution_count": 34,
   "metadata": {},
   "outputs": [
    {
     "data": {
      "text/html": [
       "<div>\n",
       "<style scoped>\n",
       "    .dataframe tbody tr th:only-of-type {\n",
       "        vertical-align: middle;\n",
       "    }\n",
       "\n",
       "    .dataframe tbody tr th {\n",
       "        vertical-align: top;\n",
       "    }\n",
       "\n",
       "    .dataframe thead th {\n",
       "        text-align: right;\n",
       "    }\n",
       "</style>\n",
       "<table border=\"1\" class=\"dataframe\">\n",
       "  <thead>\n",
       "    <tr style=\"text-align: right;\">\n",
       "      <th></th>\n",
       "      <th>市区町村コード（発生地）</th>\n",
       "      <th>自転車盗難件数</th>\n",
       "    </tr>\n",
       "  </thead>\n",
       "  <tbody>\n",
       "    <tr>\n",
       "      <th>0</th>\n",
       "      <td>271021.0</td>\n",
       "      <td>578</td>\n",
       "    </tr>\n",
       "    <tr>\n",
       "      <th>1</th>\n",
       "      <td>271039.0</td>\n",
       "      <td>324</td>\n",
       "    </tr>\n",
       "    <tr>\n",
       "      <th>2</th>\n",
       "      <td>271047.0</td>\n",
       "      <td>213</td>\n",
       "    </tr>\n",
       "    <tr>\n",
       "      <th>3</th>\n",
       "      <td>271063.0</td>\n",
       "      <td>500</td>\n",
       "    </tr>\n",
       "    <tr>\n",
       "      <th>4</th>\n",
       "      <td>271071.0</td>\n",
       "      <td>314</td>\n",
       "    </tr>\n",
       "  </tbody>\n",
       "</table>\n",
       "</div>"
      ],
      "text/plain": [
       "   市区町村コード（発生地）  自転車盗難件数\n",
       "0      271021.0      578\n",
       "1      271039.0      324\n",
       "2      271047.0      213\n",
       "3      271063.0      500\n",
       "4      271071.0      314"
      ]
     },
     "execution_count": 34,
     "metadata": {},
     "output_type": "execute_result"
    }
   ],
   "source": [
    "grouped_size_df.head()"
   ]
  },
  {
   "cell_type": "markdown",
   "metadata": {},
   "source": [
    "市区町村コード（発生地）カラムの値がfloatになっているので、文字列に変換します。"
   ]
  },
  {
   "cell_type": "code",
   "execution_count": 35,
   "metadata": {},
   "outputs": [],
   "source": [
    "grouped_size_df['市区町村コード（発生地）'] = grouped_size_df['市区町村コード（発生地）'].astype(str)"
   ]
  },
  {
   "cell_type": "markdown",
   "metadata": {},
   "source": [
    "市区町村コードは5桁なので(6桁目はチェックディジット)、5桁に直します。"
   ]
  },
  {
   "cell_type": "code",
   "execution_count": 36,
   "metadata": {},
   "outputs": [],
   "source": [
    "grouped_size_df['市区町村コード（発生地）'] = grouped_size_df['市区町村コード（発生地）'].apply(lambda x: x[0:len(x)-3])"
   ]
  },
  {
   "cell_type": "code",
   "execution_count": 37,
   "metadata": {},
   "outputs": [
    {
     "data": {
      "text/html": [
       "<div>\n",
       "<style scoped>\n",
       "    .dataframe tbody tr th:only-of-type {\n",
       "        vertical-align: middle;\n",
       "    }\n",
       "\n",
       "    .dataframe tbody tr th {\n",
       "        vertical-align: top;\n",
       "    }\n",
       "\n",
       "    .dataframe thead th {\n",
       "        text-align: right;\n",
       "    }\n",
       "</style>\n",
       "<table border=\"1\" class=\"dataframe\">\n",
       "  <thead>\n",
       "    <tr style=\"text-align: right;\">\n",
       "      <th></th>\n",
       "      <th>市区町村コード（発生地）</th>\n",
       "      <th>自転車盗難件数</th>\n",
       "    </tr>\n",
       "  </thead>\n",
       "  <tbody>\n",
       "    <tr>\n",
       "      <th>0</th>\n",
       "      <td>27102</td>\n",
       "      <td>578</td>\n",
       "    </tr>\n",
       "    <tr>\n",
       "      <th>1</th>\n",
       "      <td>27103</td>\n",
       "      <td>324</td>\n",
       "    </tr>\n",
       "    <tr>\n",
       "      <th>2</th>\n",
       "      <td>27104</td>\n",
       "      <td>213</td>\n",
       "    </tr>\n",
       "    <tr>\n",
       "      <th>3</th>\n",
       "      <td>27106</td>\n",
       "      <td>500</td>\n",
       "    </tr>\n",
       "    <tr>\n",
       "      <th>4</th>\n",
       "      <td>27107</td>\n",
       "      <td>314</td>\n",
       "    </tr>\n",
       "  </tbody>\n",
       "</table>\n",
       "</div>"
      ],
      "text/plain": [
       "  市区町村コード（発生地）  自転車盗難件数\n",
       "0        27102      578\n",
       "1        27103      324\n",
       "2        27104      213\n",
       "3        27106      500\n",
       "4        27107      314"
      ]
     },
     "execution_count": 37,
     "metadata": {},
     "output_type": "execute_result"
    }
   ],
   "source": [
    "grouped_size_df.head()"
   ]
  },
  {
   "cell_type": "markdown",
   "metadata": {},
   "source": [
    "データ前処理の最後として、code_osakaというデータフレームとgrouped_size_dfというデータフレームをマージします。"
   ]
  },
  {
   "cell_type": "code",
   "execution_count": 38,
   "metadata": {},
   "outputs": [],
   "source": [
    "osaka_df = code_osaka.merge(grouped_size_df, left_on='コード', right_on='市区町村コード（発生地）')"
   ]
  },
  {
   "cell_type": "markdown",
   "metadata": {},
   "source": [
    "これで、特定の市区町村の緯度経度情報と自転車盗難件数の情報が統合されました。"
   ]
  },
  {
   "cell_type": "code",
   "execution_count": 39,
   "metadata": {},
   "outputs": [
    {
     "data": {
      "text/html": [
       "<div>\n",
       "<style scoped>\n",
       "    .dataframe tbody tr th:only-of-type {\n",
       "        vertical-align: middle;\n",
       "    }\n",
       "\n",
       "    .dataframe tbody tr th {\n",
       "        vertical-align: top;\n",
       "    }\n",
       "\n",
       "    .dataframe thead th {\n",
       "        text-align: right;\n",
       "    }\n",
       "</style>\n",
       "<table border=\"1\" class=\"dataframe\">\n",
       "  <thead>\n",
       "    <tr style=\"text-align: right;\">\n",
       "      <th></th>\n",
       "      <th>コード</th>\n",
       "      <th>P34_002</th>\n",
       "      <th>P34_003</th>\n",
       "      <th>P34_004</th>\n",
       "      <th>geometry</th>\n",
       "      <th>緯度</th>\n",
       "      <th>経度</th>\n",
       "      <th>市区町村コード（発生地）</th>\n",
       "      <th>自転車盗難件数</th>\n",
       "    </tr>\n",
       "  </thead>\n",
       "  <tbody>\n",
       "    <tr>\n",
       "      <th>0</th>\n",
       "      <td>27102</td>\n",
       "      <td>1</td>\n",
       "      <td>大阪市都島区役所</td>\n",
       "      <td>大阪市都島区中野町2-16-20</td>\n",
       "      <td>POINT (135.52809 34.70128)</td>\n",
       "      <td>34.701279</td>\n",
       "      <td>135.528090</td>\n",
       "      <td>27102</td>\n",
       "      <td>578</td>\n",
       "    </tr>\n",
       "    <tr>\n",
       "      <th>1</th>\n",
       "      <td>27103</td>\n",
       "      <td>1</td>\n",
       "      <td>大阪市福島区役所</td>\n",
       "      <td>大阪市福島区大開1-8-1</td>\n",
       "      <td>POINT (135.47223 34.69236)</td>\n",
       "      <td>34.692357</td>\n",
       "      <td>135.472232</td>\n",
       "      <td>27103</td>\n",
       "      <td>324</td>\n",
       "    </tr>\n",
       "    <tr>\n",
       "      <th>2</th>\n",
       "      <td>27104</td>\n",
       "      <td>1</td>\n",
       "      <td>大阪市此花区役所</td>\n",
       "      <td>大阪市此花区春日出北1-8-4</td>\n",
       "      <td>POINT (135.45222 34.68304)</td>\n",
       "      <td>34.683038</td>\n",
       "      <td>135.452225</td>\n",
       "      <td>27104</td>\n",
       "      <td>213</td>\n",
       "    </tr>\n",
       "    <tr>\n",
       "      <th>3</th>\n",
       "      <td>27106</td>\n",
       "      <td>1</td>\n",
       "      <td>大阪市西区役所</td>\n",
       "      <td>大阪市西区新町4-5-14</td>\n",
       "      <td>POINT (135.48611 34.67638)</td>\n",
       "      <td>34.676384</td>\n",
       "      <td>135.486111</td>\n",
       "      <td>27106</td>\n",
       "      <td>500</td>\n",
       "    </tr>\n",
       "    <tr>\n",
       "      <th>4</th>\n",
       "      <td>27107</td>\n",
       "      <td>1</td>\n",
       "      <td>大阪市港区役所</td>\n",
       "      <td>大阪市港区市岡1-15-25</td>\n",
       "      <td>POINT (135.46061 34.66392)</td>\n",
       "      <td>34.663918</td>\n",
       "      <td>135.460611</td>\n",
       "      <td>27107</td>\n",
       "      <td>314</td>\n",
       "    </tr>\n",
       "  </tbody>\n",
       "</table>\n",
       "</div>"
      ],
      "text/plain": [
       "     コード P34_002   P34_003           P34_004                    geometry  \\\n",
       "0  27102       1  大阪市都島区役所  大阪市都島区中野町2-16-20  POINT (135.52809 34.70128)   \n",
       "1  27103       1  大阪市福島区役所     大阪市福島区大開1-8-1  POINT (135.47223 34.69236)   \n",
       "2  27104       1  大阪市此花区役所   大阪市此花区春日出北1-8-4  POINT (135.45222 34.68304)   \n",
       "3  27106       1   大阪市西区役所     大阪市西区新町4-5-14  POINT (135.48611 34.67638)   \n",
       "4  27107       1   大阪市港区役所    大阪市港区市岡1-15-25  POINT (135.46061 34.66392)   \n",
       "\n",
       "          緯度          経度 市区町村コード（発生地）  自転車盗難件数  \n",
       "0  34.701279  135.528090        27102      578  \n",
       "1  34.692357  135.472232        27103      324  \n",
       "2  34.683038  135.452225        27104      213  \n",
       "3  34.676384  135.486111        27106      500  \n",
       "4  34.663918  135.460611        27107      314  "
      ]
     },
     "execution_count": 39,
     "metadata": {},
     "output_type": "execute_result"
    }
   ],
   "source": [
    "osaka_df.head()"
   ]
  },
  {
   "cell_type": "code",
   "execution_count": 40,
   "metadata": {},
   "outputs": [
    {
     "data": {
      "text/plain": [
       "1882"
      ]
     },
     "execution_count": 40,
     "metadata": {},
     "output_type": "execute_result"
    }
   ],
   "source": [
    "max(osaka_df['自転車盗難件数'])"
   ]
  },
  {
   "cell_type": "code",
   "execution_count": 41,
   "metadata": {},
   "outputs": [
    {
     "data": {
      "text/plain": [
       "1"
      ]
     },
     "execution_count": 41,
     "metadata": {},
     "output_type": "execute_result"
    }
   ],
   "source": [
    "min(osaka_df['自転車盗難件数'])"
   ]
  },
  {
   "cell_type": "markdown",
   "metadata": {},
   "source": [
    "前処理が終わったので、可視化を行います。\n",
    "今回は2種類のレイヤーを重ねたものを可視化してみます。"
   ]
  },
  {
   "cell_type": "code",
   "execution_count": 42,
   "metadata": {},
   "outputs": [
    {
     "data": {
      "text/html": [
       "\n",
       "        <iframe\n",
       "            width=\"700\"\n",
       "            height=\"500\"\n",
       "            src=\"./osaka_rosenka_jitensha.html\"\n",
       "            frameborder=\"0\"\n",
       "            allowfullscreen\n",
       "        ></iframe>\n",
       "        "
      ],
      "text/plain": [
       "<IPython.lib.display.IFrame at 0x7f01ccb87a58>"
      ]
     },
     "metadata": {},
     "output_type": "display_data"
    },
    {
     "data": {
      "text/plain": [
       "'/home/ksn/Desktop/研究/研究資料一般/研究資料2020年度/PyConJP2020/tutorial/data3/osaka_rosenka_jitensha.html'"
      ]
     },
     "execution_count": 42,
     "metadata": {},
     "output_type": "execute_result"
    }
   ],
   "source": [
    "midpoint = (np.average(osaka_df['緯度']), np.average(osaka_df['経度']))\n",
    "\n",
    "INITIAL_VIEW_STATE = {\n",
    "            \"latitude\": midpoint[0],\n",
    "            \"longitude\": midpoint[1],\n",
    "            \"zoom\": 9,\n",
    "            \"pitch\": 30,\n",
    "          }\n",
    "\n",
    "layer1 = pdk.Layer(\n",
    "            #\"HexagonLayer\",\n",
    "            #'GridCellLayer',\n",
    "            #\"ColumnLayer\",\n",
    "            #\"HeatmapLayer\",\n",
    "            \"ScreenGridLayer\",\n",
    "            data = osaka_df[['自転車盗難件数','経度','緯度']],\n",
    "            get_position = ['経度', '緯度'], #['longitude(経度)', 'latitude(緯度)']\n",
    "            pickable = True,\n",
    "            wireframe=True,\n",
    "            get_weight='自転車盗難件数',\n",
    "            opacity = 1.0,\n",
    "            auto_highlight=True,\n",
    "            cell_size =  200\n",
    "            )\n",
    "\n",
    "layer2 = pdk.Layer(\n",
    "            #\"HexagonLayer\",\n",
    "            'GridCellLayer',\n",
    "            data = data[['平均路線価','lng','lat']],\n",
    "            get_position = ['lng', 'lat'], #['longitude(経度)', 'latitude(緯度)']\n",
    "            pickable = True,\n",
    "            wireframe=True,\n",
    "            get_elevation = '平均路線価',\n",
    "            get_fill_color='[255,255,255]',\n",
    "            get_line_color=[0, 0, 0],\n",
    "            opacity = 0.1,\n",
    "            auto_highlight=True,\n",
    "            cell_size =  50,\n",
    "            )\n",
    "\n",
    "\n",
    "r = pdk.Deck(\n",
    "        map_style=\"mapbox://styles/mapbox/dark-v9\",\n",
    "        mapbox_key=MAPBOX_KEY,\n",
    "        initial_view_state = INITIAL_VIEW_STATE,\n",
    "        layers = [layer1,layer2],\n",
    "    )\n",
    "\n",
    "r.to_html(\"osaka_rosenka_jitensha.html\")"
   ]
  },
  {
   "cell_type": "markdown",
   "metadata": {},
   "source": [
    "問題点: 自転車盗難データの可視化は「大体」で行われており、正確なものではありません。「大体」の傾向を知りたいときにはこのような可視化を用いることも考えられますが、国土交通省国土数値情報を使うことでより正確な可視化を目指すことが出来ます。次のパートでは、より正確な可視化の実現のためのコードを紹介します。"
   ]
  },
  {
   "cell_type": "markdown",
   "metadata": {},
   "source": [
    "## 3. 平均路線価の可視化と自転車盗難数データのより正確な可視化"
   ]
  },
  {
   "cell_type": "markdown",
   "metadata": {},
   "source": [
    "ここでは、国土交通省国土数値情報を使うことでより正確な可視化を目指します。「正確な可視化」という言葉が意味しているのは、自転車盗難が起きている区域を大体で可視化するのではなく、きちんと市区町村の形状のレベルで可視化を行うということです。この可視化の後に表示されるグラフでは、ある特定の路線価の区域でどの程度自転車盗難が発生しているのかということが正確に分かります。"
   ]
  },
  {
   "cell_type": "markdown",
   "metadata": {},
   "source": [
    "先に作成したosaka_dfというデータフレームに市区町村の形状が入ったカラムを付け加えるというのが目標です。"
   ]
  },
  {
   "cell_type": "markdown",
   "metadata": {},
   "source": [
    "では、はじめに、データの読み込みを行います。"
   ]
  },
  {
   "cell_type": "code",
   "execution_count": 43,
   "metadata": {},
   "outputs": [],
   "source": [
    "osaka_geo = gpd.read_file('../data/osakadata/N03-180101_27_GML/N03-18_27_180101.shp', encoding='shift-jis')"
   ]
  },
  {
   "cell_type": "code",
   "execution_count": 66,
   "metadata": {},
   "outputs": [
    {
     "data": {
      "text/html": [
       "<div>\n",
       "<style scoped>\n",
       "    .dataframe tbody tr th:only-of-type {\n",
       "        vertical-align: middle;\n",
       "    }\n",
       "\n",
       "    .dataframe tbody tr th {\n",
       "        vertical-align: top;\n",
       "    }\n",
       "\n",
       "    .dataframe thead th {\n",
       "        text-align: right;\n",
       "    }\n",
       "</style>\n",
       "<table border=\"1\" class=\"dataframe\">\n",
       "  <thead>\n",
       "    <tr style=\"text-align: right;\">\n",
       "      <th></th>\n",
       "      <th>N03_001</th>\n",
       "      <th>N03_002</th>\n",
       "      <th>N03_003</th>\n",
       "      <th>N03_004</th>\n",
       "      <th>N03_007</th>\n",
       "      <th>geometry</th>\n",
       "    </tr>\n",
       "  </thead>\n",
       "  <tbody>\n",
       "    <tr>\n",
       "      <th>0</th>\n",
       "      <td>大阪府</td>\n",
       "      <td>None</td>\n",
       "      <td>大阪市</td>\n",
       "      <td>都島区</td>\n",
       "      <td>27102</td>\n",
       "      <td>POLYGON ((135.51481 34.72057, 135.51489 34.720...</td>\n",
       "    </tr>\n",
       "    <tr>\n",
       "      <th>1</th>\n",
       "      <td>大阪府</td>\n",
       "      <td>None</td>\n",
       "      <td>大阪市</td>\n",
       "      <td>福島区</td>\n",
       "      <td>27103</td>\n",
       "      <td>POLYGON ((135.46247 34.68740, 135.46253 34.687...</td>\n",
       "    </tr>\n",
       "    <tr>\n",
       "      <th>2</th>\n",
       "      <td>大阪府</td>\n",
       "      <td>None</td>\n",
       "      <td>大阪市</td>\n",
       "      <td>此花区</td>\n",
       "      <td>27104</td>\n",
       "      <td>POLYGON ((135.34936 34.62007, 135.34568 34.617...</td>\n",
       "    </tr>\n",
       "    <tr>\n",
       "      <th>3</th>\n",
       "      <td>大阪府</td>\n",
       "      <td>None</td>\n",
       "      <td>大阪市</td>\n",
       "      <td>此花区</td>\n",
       "      <td>27104</td>\n",
       "      <td>POLYGON ((135.39884 34.65724, 135.39877 34.657...</td>\n",
       "    </tr>\n",
       "    <tr>\n",
       "      <th>4</th>\n",
       "      <td>大阪府</td>\n",
       "      <td>None</td>\n",
       "      <td>大阪市</td>\n",
       "      <td>此花区</td>\n",
       "      <td>27104</td>\n",
       "      <td>POLYGON ((135.39893 34.65737, 135.39892 34.657...</td>\n",
       "    </tr>\n",
       "  </tbody>\n",
       "</table>\n",
       "</div>"
      ],
      "text/plain": [
       "  N03_001 N03_002 N03_003 N03_004 N03_007  \\\n",
       "0     大阪府    None     大阪市     都島区   27102   \n",
       "1     大阪府    None     大阪市     福島区   27103   \n",
       "2     大阪府    None     大阪市     此花区   27104   \n",
       "3     大阪府    None     大阪市     此花区   27104   \n",
       "4     大阪府    None     大阪市     此花区   27104   \n",
       "\n",
       "                                            geometry  \n",
       "0  POLYGON ((135.51481 34.72057, 135.51489 34.720...  \n",
       "1  POLYGON ((135.46247 34.68740, 135.46253 34.687...  \n",
       "2  POLYGON ((135.34936 34.62007, 135.34568 34.617...  \n",
       "3  POLYGON ((135.39884 34.65724, 135.39877 34.657...  \n",
       "4  POLYGON ((135.39893 34.65737, 135.39892 34.657...  "
      ]
     },
     "execution_count": 66,
     "metadata": {},
     "output_type": "execute_result"
    }
   ],
   "source": [
    "osaka_geo.head()"
   ]
  },
  {
   "cell_type": "markdown",
   "metadata": {},
   "source": [
    "もう一度、先につくったosaka_dfというデータフレームがどんなものだったか思い出しましょう。このデータフレームに各々の市区町村の形状が入ったカラムがつけ加わればよいわけです。"
   ]
  },
  {
   "cell_type": "code",
   "execution_count": 47,
   "metadata": {},
   "outputs": [
    {
     "data": {
      "text/html": [
       "<div>\n",
       "<style scoped>\n",
       "    .dataframe tbody tr th:only-of-type {\n",
       "        vertical-align: middle;\n",
       "    }\n",
       "\n",
       "    .dataframe tbody tr th {\n",
       "        vertical-align: top;\n",
       "    }\n",
       "\n",
       "    .dataframe thead th {\n",
       "        text-align: right;\n",
       "    }\n",
       "</style>\n",
       "<table border=\"1\" class=\"dataframe\">\n",
       "  <thead>\n",
       "    <tr style=\"text-align: right;\">\n",
       "      <th></th>\n",
       "      <th>コード</th>\n",
       "      <th>P34_002</th>\n",
       "      <th>P34_003</th>\n",
       "      <th>P34_004</th>\n",
       "      <th>geometry</th>\n",
       "      <th>緯度</th>\n",
       "      <th>経度</th>\n",
       "      <th>市区町村コード（発生地）</th>\n",
       "      <th>自転車盗難件数</th>\n",
       "    </tr>\n",
       "  </thead>\n",
       "  <tbody>\n",
       "    <tr>\n",
       "      <th>0</th>\n",
       "      <td>27102</td>\n",
       "      <td>1</td>\n",
       "      <td>大阪市都島区役所</td>\n",
       "      <td>大阪市都島区中野町2-16-20</td>\n",
       "      <td>POINT (135.52809 34.70128)</td>\n",
       "      <td>34.701279</td>\n",
       "      <td>135.528090</td>\n",
       "      <td>27102</td>\n",
       "      <td>578</td>\n",
       "    </tr>\n",
       "    <tr>\n",
       "      <th>1</th>\n",
       "      <td>27103</td>\n",
       "      <td>1</td>\n",
       "      <td>大阪市福島区役所</td>\n",
       "      <td>大阪市福島区大開1-8-1</td>\n",
       "      <td>POINT (135.47223 34.69236)</td>\n",
       "      <td>34.692357</td>\n",
       "      <td>135.472232</td>\n",
       "      <td>27103</td>\n",
       "      <td>324</td>\n",
       "    </tr>\n",
       "    <tr>\n",
       "      <th>2</th>\n",
       "      <td>27104</td>\n",
       "      <td>1</td>\n",
       "      <td>大阪市此花区役所</td>\n",
       "      <td>大阪市此花区春日出北1-8-4</td>\n",
       "      <td>POINT (135.45222 34.68304)</td>\n",
       "      <td>34.683038</td>\n",
       "      <td>135.452225</td>\n",
       "      <td>27104</td>\n",
       "      <td>213</td>\n",
       "    </tr>\n",
       "    <tr>\n",
       "      <th>3</th>\n",
       "      <td>27106</td>\n",
       "      <td>1</td>\n",
       "      <td>大阪市西区役所</td>\n",
       "      <td>大阪市西区新町4-5-14</td>\n",
       "      <td>POINT (135.48611 34.67638)</td>\n",
       "      <td>34.676384</td>\n",
       "      <td>135.486111</td>\n",
       "      <td>27106</td>\n",
       "      <td>500</td>\n",
       "    </tr>\n",
       "    <tr>\n",
       "      <th>4</th>\n",
       "      <td>27107</td>\n",
       "      <td>1</td>\n",
       "      <td>大阪市港区役所</td>\n",
       "      <td>大阪市港区市岡1-15-25</td>\n",
       "      <td>POINT (135.46061 34.66392)</td>\n",
       "      <td>34.663918</td>\n",
       "      <td>135.460611</td>\n",
       "      <td>27107</td>\n",
       "      <td>314</td>\n",
       "    </tr>\n",
       "  </tbody>\n",
       "</table>\n",
       "</div>"
      ],
      "text/plain": [
       "     コード P34_002   P34_003           P34_004                    geometry  \\\n",
       "0  27102       1  大阪市都島区役所  大阪市都島区中野町2-16-20  POINT (135.52809 34.70128)   \n",
       "1  27103       1  大阪市福島区役所     大阪市福島区大開1-8-1  POINT (135.47223 34.69236)   \n",
       "2  27104       1  大阪市此花区役所   大阪市此花区春日出北1-8-4  POINT (135.45222 34.68304)   \n",
       "3  27106       1   大阪市西区役所     大阪市西区新町4-5-14  POINT (135.48611 34.67638)   \n",
       "4  27107       1   大阪市港区役所    大阪市港区市岡1-15-25  POINT (135.46061 34.66392)   \n",
       "\n",
       "          緯度          経度 市区町村コード（発生地）  自転車盗難件数  \n",
       "0  34.701279  135.528090        27102      578  \n",
       "1  34.692357  135.472232        27103      324  \n",
       "2  34.683038  135.452225        27104      213  \n",
       "3  34.676384  135.486111        27106      500  \n",
       "4  34.663918  135.460611        27107      314  "
      ]
     },
     "execution_count": 47,
     "metadata": {},
     "output_type": "execute_result"
    }
   ],
   "source": [
    "osaka_df.head()"
   ]
  },
  {
   "cell_type": "markdown",
   "metadata": {},
   "source": [
    "市区町村コードは、osaka_dfでは「市区町村コード（発生地）」カラムが、osaka_geoでは「N03_007」で表されています。よって、これらをキーにしてマージすればよいことが分かります。"
   ]
  },
  {
   "cell_type": "markdown",
   "metadata": {},
   "source": [
    "では、osaka_dfとosaka_geoをマージします。"
   ]
  },
  {
   "cell_type": "code",
   "execution_count": 48,
   "metadata": {},
   "outputs": [],
   "source": [
    "osaka_seikaku_df = osaka_df.merge(osaka_geo, left_on='コード', right_on='N03_007')"
   ]
  },
  {
   "cell_type": "markdown",
   "metadata": {},
   "source": [
    "これで特定の市区町村での「自転車盗難件数」とその市区町村の形状が分かるデータフレームが作成できました。"
   ]
  },
  {
   "cell_type": "code",
   "execution_count": 49,
   "metadata": {},
   "outputs": [
    {
     "data": {
      "text/html": [
       "<div>\n",
       "<style scoped>\n",
       "    .dataframe tbody tr th:only-of-type {\n",
       "        vertical-align: middle;\n",
       "    }\n",
       "\n",
       "    .dataframe tbody tr th {\n",
       "        vertical-align: top;\n",
       "    }\n",
       "\n",
       "    .dataframe thead th {\n",
       "        text-align: right;\n",
       "    }\n",
       "</style>\n",
       "<table border=\"1\" class=\"dataframe\">\n",
       "  <thead>\n",
       "    <tr style=\"text-align: right;\">\n",
       "      <th></th>\n",
       "      <th>コード</th>\n",
       "      <th>P34_002</th>\n",
       "      <th>P34_003</th>\n",
       "      <th>P34_004</th>\n",
       "      <th>geometry_x</th>\n",
       "      <th>緯度</th>\n",
       "      <th>経度</th>\n",
       "      <th>市区町村コード（発生地）</th>\n",
       "      <th>自転車盗難件数</th>\n",
       "      <th>N03_001</th>\n",
       "      <th>N03_002</th>\n",
       "      <th>N03_003</th>\n",
       "      <th>N03_004</th>\n",
       "      <th>N03_007</th>\n",
       "      <th>geometry_y</th>\n",
       "    </tr>\n",
       "  </thead>\n",
       "  <tbody>\n",
       "    <tr>\n",
       "      <th>0</th>\n",
       "      <td>27102</td>\n",
       "      <td>1</td>\n",
       "      <td>大阪市都島区役所</td>\n",
       "      <td>大阪市都島区中野町2-16-20</td>\n",
       "      <td>POINT (135.52809 34.70128)</td>\n",
       "      <td>34.701279</td>\n",
       "      <td>135.528090</td>\n",
       "      <td>27102</td>\n",
       "      <td>578</td>\n",
       "      <td>大阪府</td>\n",
       "      <td>None</td>\n",
       "      <td>大阪市</td>\n",
       "      <td>都島区</td>\n",
       "      <td>27102</td>\n",
       "      <td>POLYGON ((135.51481 34.72057, 135.51489 34.720...</td>\n",
       "    </tr>\n",
       "    <tr>\n",
       "      <th>1</th>\n",
       "      <td>27103</td>\n",
       "      <td>1</td>\n",
       "      <td>大阪市福島区役所</td>\n",
       "      <td>大阪市福島区大開1-8-1</td>\n",
       "      <td>POINT (135.47223 34.69236)</td>\n",
       "      <td>34.692357</td>\n",
       "      <td>135.472232</td>\n",
       "      <td>27103</td>\n",
       "      <td>324</td>\n",
       "      <td>大阪府</td>\n",
       "      <td>None</td>\n",
       "      <td>大阪市</td>\n",
       "      <td>福島区</td>\n",
       "      <td>27103</td>\n",
       "      <td>POLYGON ((135.46247 34.68740, 135.46253 34.687...</td>\n",
       "    </tr>\n",
       "    <tr>\n",
       "      <th>2</th>\n",
       "      <td>27104</td>\n",
       "      <td>1</td>\n",
       "      <td>大阪市此花区役所</td>\n",
       "      <td>大阪市此花区春日出北1-8-4</td>\n",
       "      <td>POINT (135.45222 34.68304)</td>\n",
       "      <td>34.683038</td>\n",
       "      <td>135.452225</td>\n",
       "      <td>27104</td>\n",
       "      <td>213</td>\n",
       "      <td>大阪府</td>\n",
       "      <td>None</td>\n",
       "      <td>大阪市</td>\n",
       "      <td>此花区</td>\n",
       "      <td>27104</td>\n",
       "      <td>POLYGON ((135.34936 34.62007, 135.34568 34.617...</td>\n",
       "    </tr>\n",
       "    <tr>\n",
       "      <th>3</th>\n",
       "      <td>27104</td>\n",
       "      <td>1</td>\n",
       "      <td>大阪市此花区役所</td>\n",
       "      <td>大阪市此花区春日出北1-8-4</td>\n",
       "      <td>POINT (135.45222 34.68304)</td>\n",
       "      <td>34.683038</td>\n",
       "      <td>135.452225</td>\n",
       "      <td>27104</td>\n",
       "      <td>213</td>\n",
       "      <td>大阪府</td>\n",
       "      <td>None</td>\n",
       "      <td>大阪市</td>\n",
       "      <td>此花区</td>\n",
       "      <td>27104</td>\n",
       "      <td>POLYGON ((135.39884 34.65724, 135.39877 34.657...</td>\n",
       "    </tr>\n",
       "    <tr>\n",
       "      <th>4</th>\n",
       "      <td>27104</td>\n",
       "      <td>1</td>\n",
       "      <td>大阪市此花区役所</td>\n",
       "      <td>大阪市此花区春日出北1-8-4</td>\n",
       "      <td>POINT (135.45222 34.68304)</td>\n",
       "      <td>34.683038</td>\n",
       "      <td>135.452225</td>\n",
       "      <td>27104</td>\n",
       "      <td>213</td>\n",
       "      <td>大阪府</td>\n",
       "      <td>None</td>\n",
       "      <td>大阪市</td>\n",
       "      <td>此花区</td>\n",
       "      <td>27104</td>\n",
       "      <td>POLYGON ((135.39893 34.65737, 135.39892 34.657...</td>\n",
       "    </tr>\n",
       "  </tbody>\n",
       "</table>\n",
       "</div>"
      ],
      "text/plain": [
       "     コード P34_002   P34_003           P34_004                  geometry_x  \\\n",
       "0  27102       1  大阪市都島区役所  大阪市都島区中野町2-16-20  POINT (135.52809 34.70128)   \n",
       "1  27103       1  大阪市福島区役所     大阪市福島区大開1-8-1  POINT (135.47223 34.69236)   \n",
       "2  27104       1  大阪市此花区役所   大阪市此花区春日出北1-8-4  POINT (135.45222 34.68304)   \n",
       "3  27104       1  大阪市此花区役所   大阪市此花区春日出北1-8-4  POINT (135.45222 34.68304)   \n",
       "4  27104       1  大阪市此花区役所   大阪市此花区春日出北1-8-4  POINT (135.45222 34.68304)   \n",
       "\n",
       "          緯度          経度 市区町村コード（発生地）  自転車盗難件数 N03_001 N03_002 N03_003  \\\n",
       "0  34.701279  135.528090        27102      578     大阪府    None     大阪市   \n",
       "1  34.692357  135.472232        27103      324     大阪府    None     大阪市   \n",
       "2  34.683038  135.452225        27104      213     大阪府    None     大阪市   \n",
       "3  34.683038  135.452225        27104      213     大阪府    None     大阪市   \n",
       "4  34.683038  135.452225        27104      213     大阪府    None     大阪市   \n",
       "\n",
       "  N03_004 N03_007                                         geometry_y  \n",
       "0     都島区   27102  POLYGON ((135.51481 34.72057, 135.51489 34.720...  \n",
       "1     福島区   27103  POLYGON ((135.46247 34.68740, 135.46253 34.687...  \n",
       "2     此花区   27104  POLYGON ((135.34936 34.62007, 135.34568 34.617...  \n",
       "3     此花区   27104  POLYGON ((135.39884 34.65724, 135.39877 34.657...  \n",
       "4     此花区   27104  POLYGON ((135.39893 34.65737, 135.39892 34.657...  "
      ]
     },
     "execution_count": 49,
     "metadata": {},
     "output_type": "execute_result"
    }
   ],
   "source": [
    "osaka_seikaku_df.head()"
   ]
  },
  {
   "cell_type": "markdown",
   "metadata": {},
   "source": [
    "geometry_yというカラム名をgeometryというカラム名に変更します。"
   ]
  },
  {
   "cell_type": "code",
   "execution_count": 50,
   "metadata": {},
   "outputs": [],
   "source": [
    "osaka_seikaku_df = osaka_seikaku_df.rename({'geometry_y':'geometry'}, axis=1)"
   ]
  },
  {
   "cell_type": "markdown",
   "metadata": {},
   "source": [
    "ここで注意なのですが、pydeckに市区町村界のデータ(今、geometryと名付けたカラムのデータ)を渡すとき、Polygonではなくリストにしてから渡す必要があります。そのため、geometryカラムのPolygonをリストに変換します。"
   ]
  },
  {
   "cell_type": "markdown",
   "metadata": {},
   "source": [
    "ちなみに、Polygonは.areaでPolygonの面積(ここでは、特定の区の面積)を計算したりすることができます。"
   ]
  },
  {
   "cell_type": "code",
   "execution_count": 51,
   "metadata": {},
   "outputs": [
    {
     "data": {
      "text/plain": [
       "0.0005979953980768535"
      ]
     },
     "execution_count": 51,
     "metadata": {},
     "output_type": "execute_result"
    }
   ],
   "source": [
    "osaka_seikaku_df['geometry'][0].area"
   ]
  },
  {
   "cell_type": "markdown",
   "metadata": {},
   "source": [
    "また、.exterior.coordsとすることで外周の緯度と経度のリストを得ることができます。"
   ]
  },
  {
   "cell_type": "code",
   "execution_count": 52,
   "metadata": {},
   "outputs": [
    {
     "data": {
      "text/plain": [
       "[(135.51489444941933, 34.720739441072396),\n",
       " (135.5153100000565, 34.7215530541302),\n",
       " (135.515490557843, 34.72190666665938),\n",
       " (135.5155083401379, 34.7219416673741),\n",
       " (135.51561778223493, 34.7221558292282),\n",
       " (135.5156797284368, 34.72230944062824),\n",
       " (135.51584333310336, 34.722714721007605),\n",
       " (135.51601083003584, 34.72312916188139),\n",
       " (135.5160727762377, 34.723282775080065)]"
      ]
     },
     "execution_count": 52,
     "metadata": {},
     "output_type": "execute_result"
    }
   ],
   "source": [
    "list(osaka_seikaku_df['geometry'][0].exterior.coords)[1:10]"
   ]
  },
  {
   "cell_type": "markdown",
   "metadata": {},
   "source": [
    "しかし、MultiPolygonオブジェクトはexterior属性を持ちません。"
   ]
  },
  {
   "cell_type": "code",
   "execution_count": 53,
   "metadata": {},
   "outputs": [],
   "source": [
    "#osaka_seikaku_df['geometry'] = osaka_seikaku_df['geometry'].apply(lambda x: list(x.exterior.coords))"
   ]
  },
  {
   "cell_type": "markdown",
   "metadata": {},
   "source": [
    "そのため、条件分岐を行い、geometryカラムのデータがMultiPolygonのときはその中に含まれるPolygonごとに.exterior.coordsを使ってリストを得る必要があります。"
   ]
  },
  {
   "cell_type": "code",
   "execution_count": 54,
   "metadata": {},
   "outputs": [],
   "source": [
    "def polygon_to_list(data):\n",
    "    import shapely\n",
    "    if type(data) == shapely.geometry.multipolygon.MultiPolygon:\n",
    "        multi_num = len(data)\n",
    "        geo_data = list()\n",
    "        for i in range(multi_num):\n",
    "            geo_list = list(data[i].exterior.coords)\n",
    "            geo_data += geo_list\n",
    "        return geo_data\n",
    "    else:\n",
    "        geo_data = list(data.exterior.coords)\n",
    "        return geo_data"
   ]
  },
  {
   "cell_type": "markdown",
   "metadata": {},
   "source": [
    "上でつくった関数を適用します。"
   ]
  },
  {
   "cell_type": "code",
   "execution_count": 55,
   "metadata": {},
   "outputs": [],
   "source": [
    "osaka_seikaku_df['geometry'] = osaka_seikaku_df['geometry'].apply(polygon_to_list)"
   ]
  },
  {
   "cell_type": "markdown",
   "metadata": {},
   "source": [
    "これで、geometryカラムのデータがリストになりました。確認してみましょう。"
   ]
  },
  {
   "cell_type": "code",
   "execution_count": 56,
   "metadata": {},
   "outputs": [
    {
     "data": {
      "text/html": [
       "<div>\n",
       "<style scoped>\n",
       "    .dataframe tbody tr th:only-of-type {\n",
       "        vertical-align: middle;\n",
       "    }\n",
       "\n",
       "    .dataframe tbody tr th {\n",
       "        vertical-align: top;\n",
       "    }\n",
       "\n",
       "    .dataframe thead th {\n",
       "        text-align: right;\n",
       "    }\n",
       "</style>\n",
       "<table border=\"1\" class=\"dataframe\">\n",
       "  <thead>\n",
       "    <tr style=\"text-align: right;\">\n",
       "      <th></th>\n",
       "      <th>コード</th>\n",
       "      <th>P34_002</th>\n",
       "      <th>P34_003</th>\n",
       "      <th>P34_004</th>\n",
       "      <th>geometry_x</th>\n",
       "      <th>緯度</th>\n",
       "      <th>経度</th>\n",
       "      <th>市区町村コード（発生地）</th>\n",
       "      <th>自転車盗難件数</th>\n",
       "      <th>N03_001</th>\n",
       "      <th>N03_002</th>\n",
       "      <th>N03_003</th>\n",
       "      <th>N03_004</th>\n",
       "      <th>N03_007</th>\n",
       "      <th>geometry</th>\n",
       "    </tr>\n",
       "  </thead>\n",
       "  <tbody>\n",
       "    <tr>\n",
       "      <th>0</th>\n",
       "      <td>27102</td>\n",
       "      <td>1</td>\n",
       "      <td>大阪市都島区役所</td>\n",
       "      <td>大阪市都島区中野町2-16-20</td>\n",
       "      <td>POINT (135.52809 34.70128)</td>\n",
       "      <td>34.701279</td>\n",
       "      <td>135.528090</td>\n",
       "      <td>27102</td>\n",
       "      <td>578</td>\n",
       "      <td>大阪府</td>\n",
       "      <td>None</td>\n",
       "      <td>大阪市</td>\n",
       "      <td>都島区</td>\n",
       "      <td>27102</td>\n",
       "      <td>[(135.5148072241741, 34.72056889184091), (135....</td>\n",
       "    </tr>\n",
       "    <tr>\n",
       "      <th>1</th>\n",
       "      <td>27103</td>\n",
       "      <td>1</td>\n",
       "      <td>大阪市福島区役所</td>\n",
       "      <td>大阪市福島区大開1-8-1</td>\n",
       "      <td>POINT (135.47223 34.69236)</td>\n",
       "      <td>34.692357</td>\n",
       "      <td>135.472232</td>\n",
       "      <td>27103</td>\n",
       "      <td>324</td>\n",
       "      <td>大阪府</td>\n",
       "      <td>None</td>\n",
       "      <td>大阪市</td>\n",
       "      <td>福島区</td>\n",
       "      <td>27103</td>\n",
       "      <td>[(135.4624702720854, 34.6873977749874), (135.4...</td>\n",
       "    </tr>\n",
       "    <tr>\n",
       "      <th>2</th>\n",
       "      <td>27104</td>\n",
       "      <td>1</td>\n",
       "      <td>大阪市此花区役所</td>\n",
       "      <td>大阪市此花区春日出北1-8-4</td>\n",
       "      <td>POINT (135.45222 34.68304)</td>\n",
       "      <td>34.683038</td>\n",
       "      <td>135.452225</td>\n",
       "      <td>27104</td>\n",
       "      <td>213</td>\n",
       "      <td>大阪府</td>\n",
       "      <td>None</td>\n",
       "      <td>大阪市</td>\n",
       "      <td>此花区</td>\n",
       "      <td>27104</td>\n",
       "      <td>[(135.3493570039227, 34.62006963970214), (135....</td>\n",
       "    </tr>\n",
       "    <tr>\n",
       "      <th>3</th>\n",
       "      <td>27104</td>\n",
       "      <td>1</td>\n",
       "      <td>大阪市此花区役所</td>\n",
       "      <td>大阪市此花区春日出北1-8-4</td>\n",
       "      <td>POINT (135.45222 34.68304)</td>\n",
       "      <td>34.683038</td>\n",
       "      <td>135.452225</td>\n",
       "      <td>27104</td>\n",
       "      <td>213</td>\n",
       "      <td>大阪府</td>\n",
       "      <td>None</td>\n",
       "      <td>大阪市</td>\n",
       "      <td>此花区</td>\n",
       "      <td>27104</td>\n",
       "      <td>[(135.39883763904584, 34.657239828555305), (13...</td>\n",
       "    </tr>\n",
       "    <tr>\n",
       "      <th>4</th>\n",
       "      <td>27104</td>\n",
       "      <td>1</td>\n",
       "      <td>大阪市此花区役所</td>\n",
       "      <td>大阪市此花区春日出北1-8-4</td>\n",
       "      <td>POINT (135.45222 34.68304)</td>\n",
       "      <td>34.683038</td>\n",
       "      <td>135.452225</td>\n",
       "      <td>27104</td>\n",
       "      <td>213</td>\n",
       "      <td>大阪府</td>\n",
       "      <td>None</td>\n",
       "      <td>大阪市</td>\n",
       "      <td>此花区</td>\n",
       "      <td>27104</td>\n",
       "      <td>[(135.39892658919075, 34.65737358562251), (135...</td>\n",
       "    </tr>\n",
       "  </tbody>\n",
       "</table>\n",
       "</div>"
      ],
      "text/plain": [
       "     コード P34_002   P34_003           P34_004                  geometry_x  \\\n",
       "0  27102       1  大阪市都島区役所  大阪市都島区中野町2-16-20  POINT (135.52809 34.70128)   \n",
       "1  27103       1  大阪市福島区役所     大阪市福島区大開1-8-1  POINT (135.47223 34.69236)   \n",
       "2  27104       1  大阪市此花区役所   大阪市此花区春日出北1-8-4  POINT (135.45222 34.68304)   \n",
       "3  27104       1  大阪市此花区役所   大阪市此花区春日出北1-8-4  POINT (135.45222 34.68304)   \n",
       "4  27104       1  大阪市此花区役所   大阪市此花区春日出北1-8-4  POINT (135.45222 34.68304)   \n",
       "\n",
       "          緯度          経度 市区町村コード（発生地）  自転車盗難件数 N03_001 N03_002 N03_003  \\\n",
       "0  34.701279  135.528090        27102      578     大阪府    None     大阪市   \n",
       "1  34.692357  135.472232        27103      324     大阪府    None     大阪市   \n",
       "2  34.683038  135.452225        27104      213     大阪府    None     大阪市   \n",
       "3  34.683038  135.452225        27104      213     大阪府    None     大阪市   \n",
       "4  34.683038  135.452225        27104      213     大阪府    None     大阪市   \n",
       "\n",
       "  N03_004 N03_007                                           geometry  \n",
       "0     都島区   27102  [(135.5148072241741, 34.72056889184091), (135....  \n",
       "1     福島区   27103  [(135.4624702720854, 34.6873977749874), (135.4...  \n",
       "2     此花区   27104  [(135.3493570039227, 34.62006963970214), (135....  \n",
       "3     此花区   27104  [(135.39883763904584, 34.657239828555305), (13...  \n",
       "4     此花区   27104  [(135.39892658919075, 34.65737358562251), (135...  "
      ]
     },
     "execution_count": 56,
     "metadata": {},
     "output_type": "execute_result"
    }
   ],
   "source": [
    "osaka_seikaku_df.head()"
   ]
  },
  {
   "cell_type": "markdown",
   "metadata": {},
   "source": [
    "最後に、作成したosaka_seikaku_dfデータフレームを元に、より正確な自転車盗難データと路線価データの可視化を行います。"
   ]
  },
  {
   "cell_type": "code",
   "execution_count": 65,
   "metadata": {},
   "outputs": [
    {
     "data": {
      "text/html": [
       "\n",
       "        <iframe\n",
       "            width=\"700\"\n",
       "            height=\"500\"\n",
       "            src=\"./osaka_seikaku.html\"\n",
       "            frameborder=\"0\"\n",
       "            allowfullscreen\n",
       "        ></iframe>\n",
       "        "
      ],
      "text/plain": [
       "<IPython.lib.display.IFrame at 0x7f01cd218d30>"
      ]
     },
     "metadata": {},
     "output_type": "display_data"
    },
    {
     "data": {
      "text/plain": [
       "'/home/ksn/Desktop/研究/研究資料一般/研究資料2020年度/PyConJP2020/tutorial/data3/osaka_seikaku.html'"
      ]
     },
     "execution_count": 65,
     "metadata": {},
     "output_type": "execute_result"
    }
   ],
   "source": [
    "midpoint = (np.average(osaka_seikaku_df['緯度']), np.average(osaka_seikaku_df['経度']))\n",
    "\n",
    "INITIAL_VIEW_STATE = {\n",
    "            \"latitude\": midpoint[0],\n",
    "            \"longitude\": midpoint[1],\n",
    "            \"zoom\": 9,\n",
    "            \"pitch\": 30,\n",
    "          }\n",
    "\n",
    "layer1 = pdk.Layer(\n",
    "            #\"GeoJsonLayer\",\n",
    "            \"PolygonLayer\",\n",
    "            data = osaka_seikaku_df[['自転車盗難件数','経度','緯度','geometry']],\n",
    "            get_polygon='geometry',\n",
    "            get_fill_color='[255, ( 1 - (自転車盗難件数 / 1882) ) * 255, 0, 100]',\n",
    "            pickable=True,\n",
    "            opacity = 0.1,\n",
    "            )\n",
    "\n",
    "layer2 = pdk.Layer(\n",
    "            #\"HexagonLayer\",\n",
    "            'GridCellLayer',\n",
    "            data = data[['平均路線価','lng','lat']],\n",
    "            get_position = ['lng', 'lat'], #['longitude(経度)', 'latitude(緯度)']\n",
    "            radius = 100,\n",
    "            extruded = True,\n",
    "            pickable = True,\n",
    "            wireframe=True,\n",
    "            get_elevation = '平均路線価',\n",
    "            get_fill_color='[255,255,255]',\n",
    "            get_line_color=[0, 0, 0],\n",
    "            opacity = 0.8,\n",
    "            auto_highlight=True,\n",
    "            cell_size =  50,\n",
    "            )\n",
    "\n",
    "\n",
    "r = pdk.Deck(\n",
    "        map_style=\"mapbox://styles/mapbox/dark-v9\",\n",
    "        mapbox_key=MAPBOX_KEY,\n",
    "        initial_view_state = INITIAL_VIEW_STATE,\n",
    "        layers = [layer1,layer2],\n",
    "    )\n",
    "r.to_html(\"osaka_seikaku.html\")"
   ]
  },
  {
   "cell_type": "markdown",
   "metadata": {},
   "source": [
    "## 4. Streamlitでアプリケーション化"
   ]
  },
  {
   "cell_type": "markdown",
   "metadata": {},
   "source": [
    "私のマシン上およびGAE上で動いているものを見ていただきます。"
   ]
  },
  {
   "cell_type": "markdown",
   "metadata": {},
   "source": [
    "## 5. 課題（ハンズオン）"
   ]
  },
  {
   "cell_type": "markdown",
   "metadata": {},
   "source": [
    "自分が調べてみたいデータを探し、そのデータに対して今日やったことをひと通りやってみてください。データを探すコツは、緯度と経度があるデータを探すことがまず一つです。あとは、市町村コードというコードがついていると、国土数値情報行政区域データと組み合わせることで階級区分図を作成することができます。"
   ]
  }
 ],
 "metadata": {
  "kernelspec": {
   "display_name": "Python 3",
   "language": "python",
   "name": "python3"
  },
  "language_info": {
   "codemirror_mode": {
    "name": "ipython",
    "version": 3
   },
   "file_extension": ".py",
   "mimetype": "text/x-python",
   "name": "python",
   "nbconvert_exporter": "python",
   "pygments_lexer": "ipython3",
   "version": "3.7.3"
  }
 },
 "nbformat": 4,
 "nbformat_minor": 2
}
