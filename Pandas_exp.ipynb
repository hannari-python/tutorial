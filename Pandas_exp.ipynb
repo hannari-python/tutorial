{
  "nbformat": 4,
  "nbformat_minor": 0,
  "metadata": {
    "colab": {
      "name": "Pandas_exp.ipynb",
      "provenance": [],
      "collapsed_sections": [],
      "toc_visible": true,
      "authorship_tag": "ABX9TyM/cH7ncQFiWtvcR4qQooCd",
      "include_colab_link": true
    },
    "kernelspec": {
      "name": "python3",
      "display_name": "Python 3"
    }
  },
  "cells": [
    {
      "cell_type": "markdown",
      "metadata": {
        "id": "view-in-github",
        "colab_type": "text"
      },
      "source": [
        "<a href=\"https://colab.research.google.com/github/hannari-python/tutorial/blob/master/Pandas_exp.ipynb\" target=\"_parent\"><img src=\"https://colab.research.google.com/assets/colab-badge.svg\" alt=\"Open In Colab\"/></a>"
      ]
    },
    {
      "cell_type": "markdown",
      "metadata": {
        "id": "fgkZ-V0FzrAw",
        "colab_type": "text"
      },
      "source": [
        "## Pandas \n",
        "\n",
        "- Pandasは表データの読み込み・書き込み・加工を行うパッケージです。\n",
        "- このノートでは次の順番でPandasの基本的な使い方を解説します。\n",
        "  - データ構造    \n",
        "    - Series\n",
        "    - DataFrame\n",
        "  - データ操作\n",
        "    - loc属性\n",
        "    - iloc属性\n",
        "    - 名称\n",
        "  - データの更新追加    \n",
        "    - 更新\n",
        "    - 追加"
      ]
    },
    {
      "cell_type": "code",
      "metadata": {
        "id": "ZokvYWkQ1L76",
        "colab_type": "code",
        "colab": {}
      },
      "source": [
        "import pandas as pd"
      ],
      "execution_count": 1,
      "outputs": []
    },
    {
      "cell_type": "markdown",
      "metadata": {
        "id": "6IaLXzxU1d0t",
        "colab_type": "text"
      },
      "source": [
        "# データ構造\n",
        "## Series\n",
        "- Seriesは行ラベル付きの1次元のデータです。行ラベルはデータの左横に表示されます。行ラベルはindex属性、値はvalues属性となります。"
      ]
    },
    {
      "cell_type": "code",
      "metadata": {
        "id": "7JjPuGq21TTq",
        "colab_type": "code",
        "colab": {}
      },
      "source": [
        "label = ['a', 'b', 'c', 'd', 'e']\n",
        "data = [1, 2, 3, 4, 5]\n",
        "s = pd.Series(data, index=label)"
      ],
      "execution_count": 2,
      "outputs": []
    },
    {
      "cell_type": "code",
      "metadata": {
        "id": "t_-6NSRW1WbR",
        "colab_type": "code",
        "colab": {
          "base_uri": "https://localhost:8080/",
          "height": 126
        },
        "outputId": "74a6df74-8441-4450-d5eb-91cc0b030235"
      },
      "source": [
        "s"
      ],
      "execution_count": 3,
      "outputs": [
        {
          "output_type": "execute_result",
          "data": {
            "text/plain": [
              "a    1\n",
              "b    2\n",
              "c    3\n",
              "d    4\n",
              "e    5\n",
              "dtype: int64"
            ]
          },
          "metadata": {
            "tags": []
          },
          "execution_count": 3
        }
      ]
    },
    {
      "cell_type": "code",
      "metadata": {
        "id": "XKF--apY1XF5",
        "colab_type": "code",
        "colab": {
          "base_uri": "https://localhost:8080/",
          "height": 35
        },
        "outputId": "c0bfc768-d50c-4c8e-d72e-345c879aef97"
      },
      "source": [
        "s.index"
      ],
      "execution_count": 4,
      "outputs": [
        {
          "output_type": "execute_result",
          "data": {
            "text/plain": [
              "Index(['a', 'b', 'c', 'd', 'e'], dtype='object')"
            ]
          },
          "metadata": {
            "tags": []
          },
          "execution_count": 4
        }
      ]
    },
    {
      "cell_type": "code",
      "metadata": {
        "id": "WkWfayEU1koq",
        "colab_type": "code",
        "colab": {
          "base_uri": "https://localhost:8080/",
          "height": 35
        },
        "outputId": "9c7ad1db-f9db-492a-81f7-036c71152e00"
      },
      "source": [
        "s.values"
      ],
      "execution_count": 5,
      "outputs": [
        {
          "output_type": "execute_result",
          "data": {
            "text/plain": [
              "array([1, 2, 3, 4, 5])"
            ]
          },
          "metadata": {
            "tags": []
          },
          "execution_count": 5
        }
      ]
    },
    {
      "cell_type": "markdown",
      "metadata": {
        "id": "k2AOlXhn1qri",
        "colab_type": "text"
      },
      "source": [
        "## DataFrame\n",
        "- DataFrameはラベル付きの2次元のデータです。表示するとデータフレームの左横に行ラベル、上側に列ラベルが付きます。左横の行ラベルはindex属性、上側の列ラベルはcolumns属性、値はvalues属性となります。"
      ]
    },
    {
      "cell_type": "code",
      "metadata": {
        "id": "mPOmznFb1lxD",
        "colab_type": "code",
        "colab": {}
      },
      "source": [
        "data = {\n",
        "'col1': [1,2,3,4,5],\n",
        "'col2': [2,3,4,5,6],\n",
        "'col3': [3,4,5,6,7]\n",
        "}\n",
        "index_name = ['zero', 'one', 'two', 'three', 'four']\n",
        "df = pd.DataFrame(data, index=index_name)"
      ],
      "execution_count": 6,
      "outputs": []
    },
    {
      "cell_type": "code",
      "metadata": {
        "id": "dL0DOQOM1urg",
        "colab_type": "code",
        "colab": {
          "base_uri": "https://localhost:8080/",
          "height": 198
        },
        "outputId": "5a1e0d2d-36ef-4c46-8224-1dba43a1c759"
      },
      "source": [
        "df"
      ],
      "execution_count": 7,
      "outputs": [
        {
          "output_type": "execute_result",
          "data": {
            "text/html": [
              "<div>\n",
              "<style scoped>\n",
              "    .dataframe tbody tr th:only-of-type {\n",
              "        vertical-align: middle;\n",
              "    }\n",
              "\n",
              "    .dataframe tbody tr th {\n",
              "        vertical-align: top;\n",
              "    }\n",
              "\n",
              "    .dataframe thead th {\n",
              "        text-align: right;\n",
              "    }\n",
              "</style>\n",
              "<table border=\"1\" class=\"dataframe\">\n",
              "  <thead>\n",
              "    <tr style=\"text-align: right;\">\n",
              "      <th></th>\n",
              "      <th>col1</th>\n",
              "      <th>col2</th>\n",
              "      <th>col3</th>\n",
              "    </tr>\n",
              "  </thead>\n",
              "  <tbody>\n",
              "    <tr>\n",
              "      <th>zero</th>\n",
              "      <td>1</td>\n",
              "      <td>2</td>\n",
              "      <td>3</td>\n",
              "    </tr>\n",
              "    <tr>\n",
              "      <th>one</th>\n",
              "      <td>2</td>\n",
              "      <td>3</td>\n",
              "      <td>4</td>\n",
              "    </tr>\n",
              "    <tr>\n",
              "      <th>two</th>\n",
              "      <td>3</td>\n",
              "      <td>4</td>\n",
              "      <td>5</td>\n",
              "    </tr>\n",
              "    <tr>\n",
              "      <th>three</th>\n",
              "      <td>4</td>\n",
              "      <td>5</td>\n",
              "      <td>6</td>\n",
              "    </tr>\n",
              "    <tr>\n",
              "      <th>four</th>\n",
              "      <td>5</td>\n",
              "      <td>6</td>\n",
              "      <td>7</td>\n",
              "    </tr>\n",
              "  </tbody>\n",
              "</table>\n",
              "</div>"
            ],
            "text/plain": [
              "       col1  col2  col3\n",
              "zero      1     2     3\n",
              "one       2     3     4\n",
              "two       3     4     5\n",
              "three     4     5     6\n",
              "four      5     6     7"
            ]
          },
          "metadata": {
            "tags": []
          },
          "execution_count": 7
        }
      ]
    },
    {
      "cell_type": "code",
      "metadata": {
        "id": "r6Xtolcj1vUJ",
        "colab_type": "code",
        "colab": {
          "base_uri": "https://localhost:8080/",
          "height": 35
        },
        "outputId": "605fe24a-92fd-4f7b-89c4-27eaa4060b58"
      },
      "source": [
        "df.index"
      ],
      "execution_count": 8,
      "outputs": [
        {
          "output_type": "execute_result",
          "data": {
            "text/plain": [
              "Index(['zero', 'one', 'two', 'three', 'four'], dtype='object')"
            ]
          },
          "metadata": {
            "tags": []
          },
          "execution_count": 8
        }
      ]
    },
    {
      "cell_type": "code",
      "metadata": {
        "id": "U01yJ2YT1wzJ",
        "colab_type": "code",
        "colab": {
          "base_uri": "https://localhost:8080/",
          "height": 35
        },
        "outputId": "ad634996-4ba2-48e5-a8ef-35e0b59f10a2"
      },
      "source": [
        "df.columns"
      ],
      "execution_count": 9,
      "outputs": [
        {
          "output_type": "execute_result",
          "data": {
            "text/plain": [
              "Index(['col1', 'col2', 'col3'], dtype='object')"
            ]
          },
          "metadata": {
            "tags": []
          },
          "execution_count": 9
        }
      ]
    },
    {
      "cell_type": "code",
      "metadata": {
        "id": "y_XsYRP_1xwI",
        "colab_type": "code",
        "colab": {
          "base_uri": "https://localhost:8080/",
          "height": 108
        },
        "outputId": "6f683416-5700-42b2-b53c-1d9c71d2aec6"
      },
      "source": [
        "df.values"
      ],
      "execution_count": 10,
      "outputs": [
        {
          "output_type": "execute_result",
          "data": {
            "text/plain": [
              "array([[1, 2, 3],\n",
              "       [2, 3, 4],\n",
              "       [3, 4, 5],\n",
              "       [4, 5, 6],\n",
              "       [5, 6, 7]])"
            ]
          },
          "metadata": {
            "tags": []
          },
          "execution_count": 10
        }
      ]
    },
    {
      "cell_type": "markdown",
      "metadata": {
        "id": "6cPs9ECX2RJC",
        "colab_type": "text"
      },
      "source": [
        "# データ操作\n",
        "## loc属性\n",
        "- loc属性を用いると、ラベル名でデータを選択できます。"
      ]
    },
    {
      "cell_type": "code",
      "metadata": {
        "id": "yXCV-7Zf1ypO",
        "colab_type": "code",
        "colab": {
          "base_uri": "https://localhost:8080/",
          "height": 35
        },
        "outputId": "a3fd47d1-6967-46ba-f73a-6db05e5be1dd"
      },
      "source": [
        "# 1つのセルの選択\n",
        "df.loc['one', 'col1']"
      ],
      "execution_count": 11,
      "outputs": [
        {
          "output_type": "execute_result",
          "data": {
            "text/plain": [
              "2"
            ]
          },
          "metadata": {
            "tags": []
          },
          "execution_count": 11
        }
      ]
    },
    {
      "cell_type": "code",
      "metadata": {
        "id": "sbVmgOoq2PA9",
        "colab_type": "code",
        "colab": {
          "base_uri": "https://localhost:8080/",
          "height": 138
        },
        "outputId": "1f5639db-8153-47fa-f739-e2b9a7bf635e"
      },
      "source": [
        "# 連続したセルの選択\n",
        "df.loc['one': 'three', :]"
      ],
      "execution_count": 12,
      "outputs": [
        {
          "output_type": "execute_result",
          "data": {
            "text/html": [
              "<div>\n",
              "<style scoped>\n",
              "    .dataframe tbody tr th:only-of-type {\n",
              "        vertical-align: middle;\n",
              "    }\n",
              "\n",
              "    .dataframe tbody tr th {\n",
              "        vertical-align: top;\n",
              "    }\n",
              "\n",
              "    .dataframe thead th {\n",
              "        text-align: right;\n",
              "    }\n",
              "</style>\n",
              "<table border=\"1\" class=\"dataframe\">\n",
              "  <thead>\n",
              "    <tr style=\"text-align: right;\">\n",
              "      <th></th>\n",
              "      <th>col1</th>\n",
              "      <th>col2</th>\n",
              "      <th>col3</th>\n",
              "    </tr>\n",
              "  </thead>\n",
              "  <tbody>\n",
              "    <tr>\n",
              "      <th>one</th>\n",
              "      <td>2</td>\n",
              "      <td>3</td>\n",
              "      <td>4</td>\n",
              "    </tr>\n",
              "    <tr>\n",
              "      <th>two</th>\n",
              "      <td>3</td>\n",
              "      <td>4</td>\n",
              "      <td>5</td>\n",
              "    </tr>\n",
              "    <tr>\n",
              "      <th>three</th>\n",
              "      <td>4</td>\n",
              "      <td>5</td>\n",
              "      <td>6</td>\n",
              "    </tr>\n",
              "  </tbody>\n",
              "</table>\n",
              "</div>"
            ],
            "text/plain": [
              "       col1  col2  col3\n",
              "one       2     3     4\n",
              "two       3     4     5\n",
              "three     4     5     6"
            ]
          },
          "metadata": {
            "tags": []
          },
          "execution_count": 12
        }
      ]
    },
    {
      "cell_type": "code",
      "metadata": {
        "id": "O1BQxpZk2uXk",
        "colab_type": "code",
        "colab": {
          "base_uri": "https://localhost:8080/",
          "height": 108
        },
        "outputId": "938988fc-796b-4986-9353-3b244e0a7da0"
      },
      "source": [
        "# 離れたセルの選択\n",
        "df.loc[['one', 'four'], ['col1', 'col3']] "
      ],
      "execution_count": 13,
      "outputs": [
        {
          "output_type": "execute_result",
          "data": {
            "text/html": [
              "<div>\n",
              "<style scoped>\n",
              "    .dataframe tbody tr th:only-of-type {\n",
              "        vertical-align: middle;\n",
              "    }\n",
              "\n",
              "    .dataframe tbody tr th {\n",
              "        vertical-align: top;\n",
              "    }\n",
              "\n",
              "    .dataframe thead th {\n",
              "        text-align: right;\n",
              "    }\n",
              "</style>\n",
              "<table border=\"1\" class=\"dataframe\">\n",
              "  <thead>\n",
              "    <tr style=\"text-align: right;\">\n",
              "      <th></th>\n",
              "      <th>col1</th>\n",
              "      <th>col3</th>\n",
              "    </tr>\n",
              "  </thead>\n",
              "  <tbody>\n",
              "    <tr>\n",
              "      <th>one</th>\n",
              "      <td>2</td>\n",
              "      <td>4</td>\n",
              "    </tr>\n",
              "    <tr>\n",
              "      <th>four</th>\n",
              "      <td>5</td>\n",
              "      <td>7</td>\n",
              "    </tr>\n",
              "  </tbody>\n",
              "</table>\n",
              "</div>"
            ],
            "text/plain": [
              "      col1  col3\n",
              "one      2     4\n",
              "four     5     7"
            ]
          },
          "metadata": {
            "tags": []
          },
          "execution_count": 13
        }
      ]
    },
    {
      "cell_type": "code",
      "metadata": {
        "id": "ZWmOy_w84K4q",
        "colab_type": "code",
        "colab": {
          "base_uri": "https://localhost:8080/",
          "height": 90
        },
        "outputId": "cd8d1028-0d0d-40dd-c85e-43e7fdef1af7"
      },
      "source": [
        "# 行名のみの指定で行すべてのデータを取得できます\n",
        "df.loc['one']"
      ],
      "execution_count": 14,
      "outputs": [
        {
          "output_type": "execute_result",
          "data": {
            "text/plain": [
              "col1    2\n",
              "col2    3\n",
              "col3    4\n",
              "Name: one, dtype: int64"
            ]
          },
          "metadata": {
            "tags": []
          },
          "execution_count": 14
        }
      ]
    },
    {
      "cell_type": "code",
      "metadata": {
        "id": "5BY3zQhR4Y8j",
        "colab_type": "code",
        "colab": {
          "base_uri": "https://localhost:8080/",
          "height": 108
        },
        "outputId": "a51e563d-b22d-44cf-b98c-63e76b1ded91"
      },
      "source": [
        "# 複数行を指定する場合、リストに格納します\n",
        "df.loc[['one', 'three']]"
      ],
      "execution_count": 15,
      "outputs": [
        {
          "output_type": "execute_result",
          "data": {
            "text/html": [
              "<div>\n",
              "<style scoped>\n",
              "    .dataframe tbody tr th:only-of-type {\n",
              "        vertical-align: middle;\n",
              "    }\n",
              "\n",
              "    .dataframe tbody tr th {\n",
              "        vertical-align: top;\n",
              "    }\n",
              "\n",
              "    .dataframe thead th {\n",
              "        text-align: right;\n",
              "    }\n",
              "</style>\n",
              "<table border=\"1\" class=\"dataframe\">\n",
              "  <thead>\n",
              "    <tr style=\"text-align: right;\">\n",
              "      <th></th>\n",
              "      <th>col1</th>\n",
              "      <th>col2</th>\n",
              "      <th>col3</th>\n",
              "    </tr>\n",
              "  </thead>\n",
              "  <tbody>\n",
              "    <tr>\n",
              "      <th>one</th>\n",
              "      <td>2</td>\n",
              "      <td>3</td>\n",
              "      <td>4</td>\n",
              "    </tr>\n",
              "    <tr>\n",
              "      <th>three</th>\n",
              "      <td>4</td>\n",
              "      <td>5</td>\n",
              "      <td>6</td>\n",
              "    </tr>\n",
              "  </tbody>\n",
              "</table>\n",
              "</div>"
            ],
            "text/plain": [
              "       col1  col2  col3\n",
              "one       2     3     4\n",
              "three     4     5     6"
            ]
          },
          "metadata": {
            "tags": []
          },
          "execution_count": 15
        }
      ]
    },
    {
      "cell_type": "code",
      "metadata": {
        "id": "NoIfH2U323ub",
        "colab_type": "code",
        "colab": {
          "base_uri": "https://localhost:8080/",
          "height": 35
        },
        "outputId": "1a501959-a41b-4ca4-d4be-0eb4cdc34d49"
      },
      "source": [
        "# Seriesの場合\n",
        "s.loc['b']"
      ],
      "execution_count": 16,
      "outputs": [
        {
          "output_type": "execute_result",
          "data": {
            "text/plain": [
              "2"
            ]
          },
          "metadata": {
            "tags": []
          },
          "execution_count": 16
        }
      ]
    },
    {
      "cell_type": "markdown",
      "metadata": {
        "id": "T7gNSN7l3eXL",
        "colab_type": "text"
      },
      "source": [
        "## iloc属性\n",
        "- iloc属性を用いると、インデックスとコラムの位置番号を使ってデータを選択できます。0から行列番号を数えること、また終了を指定する場合、終了したい番号より1つ大きい数値で指定することに注意してください。"
      ]
    },
    {
      "cell_type": "code",
      "metadata": {
        "id": "ubjek-TN3agz",
        "colab_type": "code",
        "colab": {
          "base_uri": "https://localhost:8080/",
          "height": 35
        },
        "outputId": "2ec4aecf-f81b-42ff-8c48-e80d17ef136a"
      },
      "source": [
        "# 1つのセルの選択\n",
        "df.iloc[1, 1] "
      ],
      "execution_count": 17,
      "outputs": [
        {
          "output_type": "execute_result",
          "data": {
            "text/plain": [
              "3"
            ]
          },
          "metadata": {
            "tags": []
          },
          "execution_count": 17
        }
      ]
    },
    {
      "cell_type": "code",
      "metadata": {
        "id": "ODKj-Rjb3oHf",
        "colab_type": "code",
        "colab": {
          "base_uri": "https://localhost:8080/",
          "height": 138
        },
        "outputId": "6031454d-6c57-4bdd-981b-9fa6e6c7450f"
      },
      "source": [
        "# 連続したセルの選択\n",
        "df.iloc[1:4, :] "
      ],
      "execution_count": 18,
      "outputs": [
        {
          "output_type": "execute_result",
          "data": {
            "text/html": [
              "<div>\n",
              "<style scoped>\n",
              "    .dataframe tbody tr th:only-of-type {\n",
              "        vertical-align: middle;\n",
              "    }\n",
              "\n",
              "    .dataframe tbody tr th {\n",
              "        vertical-align: top;\n",
              "    }\n",
              "\n",
              "    .dataframe thead th {\n",
              "        text-align: right;\n",
              "    }\n",
              "</style>\n",
              "<table border=\"1\" class=\"dataframe\">\n",
              "  <thead>\n",
              "    <tr style=\"text-align: right;\">\n",
              "      <th></th>\n",
              "      <th>col1</th>\n",
              "      <th>col2</th>\n",
              "      <th>col3</th>\n",
              "    </tr>\n",
              "  </thead>\n",
              "  <tbody>\n",
              "    <tr>\n",
              "      <th>one</th>\n",
              "      <td>2</td>\n",
              "      <td>3</td>\n",
              "      <td>4</td>\n",
              "    </tr>\n",
              "    <tr>\n",
              "      <th>two</th>\n",
              "      <td>3</td>\n",
              "      <td>4</td>\n",
              "      <td>5</td>\n",
              "    </tr>\n",
              "    <tr>\n",
              "      <th>three</th>\n",
              "      <td>4</td>\n",
              "      <td>5</td>\n",
              "      <td>6</td>\n",
              "    </tr>\n",
              "  </tbody>\n",
              "</table>\n",
              "</div>"
            ],
            "text/plain": [
              "       col1  col2  col3\n",
              "one       2     3     4\n",
              "two       3     4     5\n",
              "three     4     5     6"
            ]
          },
          "metadata": {
            "tags": []
          },
          "execution_count": 18
        }
      ]
    },
    {
      "cell_type": "code",
      "metadata": {
        "id": "nryQ17Oz3ucw",
        "colab_type": "code",
        "colab": {
          "base_uri": "https://localhost:8080/",
          "height": 108
        },
        "outputId": "65e0e33c-5a21-471a-8ef9-f9bc53b07241"
      },
      "source": [
        "# 離れたセルの選択\n",
        "df.iloc[[1, 4], [0, 2]]"
      ],
      "execution_count": 19,
      "outputs": [
        {
          "output_type": "execute_result",
          "data": {
            "text/html": [
              "<div>\n",
              "<style scoped>\n",
              "    .dataframe tbody tr th:only-of-type {\n",
              "        vertical-align: middle;\n",
              "    }\n",
              "\n",
              "    .dataframe tbody tr th {\n",
              "        vertical-align: top;\n",
              "    }\n",
              "\n",
              "    .dataframe thead th {\n",
              "        text-align: right;\n",
              "    }\n",
              "</style>\n",
              "<table border=\"1\" class=\"dataframe\">\n",
              "  <thead>\n",
              "    <tr style=\"text-align: right;\">\n",
              "      <th></th>\n",
              "      <th>col1</th>\n",
              "      <th>col3</th>\n",
              "    </tr>\n",
              "  </thead>\n",
              "  <tbody>\n",
              "    <tr>\n",
              "      <th>one</th>\n",
              "      <td>2</td>\n",
              "      <td>4</td>\n",
              "    </tr>\n",
              "    <tr>\n",
              "      <th>four</th>\n",
              "      <td>5</td>\n",
              "      <td>7</td>\n",
              "    </tr>\n",
              "  </tbody>\n",
              "</table>\n",
              "</div>"
            ],
            "text/plain": [
              "      col1  col3\n",
              "one      2     4\n",
              "four     5     7"
            ]
          },
          "metadata": {
            "tags": []
          },
          "execution_count": 19
        }
      ]
    },
    {
      "cell_type": "code",
      "metadata": {
        "id": "XTOjxLrP3zBt",
        "colab_type": "code",
        "colab": {
          "base_uri": "https://localhost:8080/",
          "height": 35
        },
        "outputId": "e0e0e84c-794b-4c48-a98e-c9a0f245478c"
      },
      "source": [
        "# Seriesの場合\n",
        "s.iloc[1]"
      ],
      "execution_count": 20,
      "outputs": [
        {
          "output_type": "execute_result",
          "data": {
            "text/plain": [
              "2"
            ]
          },
          "metadata": {
            "tags": []
          },
          "execution_count": 20
        }
      ]
    },
    {
      "cell_type": "markdown",
      "metadata": {
        "id": "I6LulpU439Lh",
        "colab_type": "text"
      },
      "source": [
        "## 列名によるデータ選択\n",
        "- 列名を指定することにより、列全体を取得できます。\n"
      ]
    },
    {
      "cell_type": "code",
      "metadata": {
        "id": "E4h2rfYg33fm",
        "colab_type": "code",
        "colab": {
          "base_uri": "https://localhost:8080/",
          "height": 126
        },
        "outputId": "2814bb15-31c3-43a1-a6ea-34f7d70334d2"
      },
      "source": [
        "df['col2']"
      ],
      "execution_count": 21,
      "outputs": [
        {
          "output_type": "execute_result",
          "data": {
            "text/plain": [
              "zero     2\n",
              "one      3\n",
              "two      4\n",
              "three    5\n",
              "four     6\n",
              "Name: col2, dtype: int64"
            ]
          },
          "metadata": {
            "tags": []
          },
          "execution_count": 21
        }
      ]
    },
    {
      "cell_type": "code",
      "metadata": {
        "id": "hNJfrwOZ4v-I",
        "colab_type": "code",
        "colab": {
          "base_uri": "https://localhost:8080/",
          "height": 198
        },
        "outputId": "27b51586-a1ed-4a35-b549-72a20ff5dda2"
      },
      "source": [
        "df[['col1', 'col3']]"
      ],
      "execution_count": 22,
      "outputs": [
        {
          "output_type": "execute_result",
          "data": {
            "text/html": [
              "<div>\n",
              "<style scoped>\n",
              "    .dataframe tbody tr th:only-of-type {\n",
              "        vertical-align: middle;\n",
              "    }\n",
              "\n",
              "    .dataframe tbody tr th {\n",
              "        vertical-align: top;\n",
              "    }\n",
              "\n",
              "    .dataframe thead th {\n",
              "        text-align: right;\n",
              "    }\n",
              "</style>\n",
              "<table border=\"1\" class=\"dataframe\">\n",
              "  <thead>\n",
              "    <tr style=\"text-align: right;\">\n",
              "      <th></th>\n",
              "      <th>col1</th>\n",
              "      <th>col3</th>\n",
              "    </tr>\n",
              "  </thead>\n",
              "  <tbody>\n",
              "    <tr>\n",
              "      <th>zero</th>\n",
              "      <td>1</td>\n",
              "      <td>3</td>\n",
              "    </tr>\n",
              "    <tr>\n",
              "      <th>one</th>\n",
              "      <td>2</td>\n",
              "      <td>4</td>\n",
              "    </tr>\n",
              "    <tr>\n",
              "      <th>two</th>\n",
              "      <td>3</td>\n",
              "      <td>5</td>\n",
              "    </tr>\n",
              "    <tr>\n",
              "      <th>three</th>\n",
              "      <td>4</td>\n",
              "      <td>6</td>\n",
              "    </tr>\n",
              "    <tr>\n",
              "      <th>four</th>\n",
              "      <td>5</td>\n",
              "      <td>7</td>\n",
              "    </tr>\n",
              "  </tbody>\n",
              "</table>\n",
              "</div>"
            ],
            "text/plain": [
              "       col1  col3\n",
              "zero      1     3\n",
              "one       2     4\n",
              "two       3     5\n",
              "three     4     6\n",
              "four      5     7"
            ]
          },
          "metadata": {
            "tags": []
          },
          "execution_count": 22
        }
      ]
    },
    {
      "cell_type": "code",
      "metadata": {
        "id": "LL6N-Lj14yZc",
        "colab_type": "code",
        "colab": {
          "base_uri": "https://localhost:8080/",
          "height": 35
        },
        "outputId": "7f0a8753-f73f-4de5-eae6-396822c1aa65"
      },
      "source": [
        "s['b']"
      ],
      "execution_count": 23,
      "outputs": [
        {
          "output_type": "execute_result",
          "data": {
            "text/plain": [
              "2"
            ]
          },
          "metadata": {
            "tags": []
          },
          "execution_count": 23
        }
      ]
    },
    {
      "cell_type": "markdown",
      "metadata": {
        "id": "GXeRzEBu5V-v",
        "colab_type": "text"
      },
      "source": [
        "# データの更新・追加\n",
        "## データの更新\n",
        "- 範囲の選択と共に、テーブルのデータ更新・追加ができます。"
      ]
    },
    {
      "cell_type": "code",
      "metadata": {
        "id": "5gpTLYBg40Ve",
        "colab_type": "code",
        "colab": {}
      },
      "source": [
        "# １マスのデータの更新\n",
        "df.iloc[1, 1] = 111"
      ],
      "execution_count": 24,
      "outputs": []
    },
    {
      "cell_type": "code",
      "metadata": {
        "id": "WNcsaDtv5Trv",
        "colab_type": "code",
        "colab": {
          "base_uri": "https://localhost:8080/",
          "height": 198
        },
        "outputId": "f4288075-e630-4825-88ff-c2c944cdce37"
      },
      "source": [
        "df"
      ],
      "execution_count": 25,
      "outputs": [
        {
          "output_type": "execute_result",
          "data": {
            "text/html": [
              "<div>\n",
              "<style scoped>\n",
              "    .dataframe tbody tr th:only-of-type {\n",
              "        vertical-align: middle;\n",
              "    }\n",
              "\n",
              "    .dataframe tbody tr th {\n",
              "        vertical-align: top;\n",
              "    }\n",
              "\n",
              "    .dataframe thead th {\n",
              "        text-align: right;\n",
              "    }\n",
              "</style>\n",
              "<table border=\"1\" class=\"dataframe\">\n",
              "  <thead>\n",
              "    <tr style=\"text-align: right;\">\n",
              "      <th></th>\n",
              "      <th>col1</th>\n",
              "      <th>col2</th>\n",
              "      <th>col3</th>\n",
              "    </tr>\n",
              "  </thead>\n",
              "  <tbody>\n",
              "    <tr>\n",
              "      <th>zero</th>\n",
              "      <td>1</td>\n",
              "      <td>2</td>\n",
              "      <td>3</td>\n",
              "    </tr>\n",
              "    <tr>\n",
              "      <th>one</th>\n",
              "      <td>2</td>\n",
              "      <td>111</td>\n",
              "      <td>4</td>\n",
              "    </tr>\n",
              "    <tr>\n",
              "      <th>two</th>\n",
              "      <td>3</td>\n",
              "      <td>4</td>\n",
              "      <td>5</td>\n",
              "    </tr>\n",
              "    <tr>\n",
              "      <th>three</th>\n",
              "      <td>4</td>\n",
              "      <td>5</td>\n",
              "      <td>6</td>\n",
              "    </tr>\n",
              "    <tr>\n",
              "      <th>four</th>\n",
              "      <td>5</td>\n",
              "      <td>6</td>\n",
              "      <td>7</td>\n",
              "    </tr>\n",
              "  </tbody>\n",
              "</table>\n",
              "</div>"
            ],
            "text/plain": [
              "       col1  col2  col3\n",
              "zero      1     2     3\n",
              "one       2   111     4\n",
              "two       3     4     5\n",
              "three     4     5     6\n",
              "four      5     6     7"
            ]
          },
          "metadata": {
            "tags": []
          },
          "execution_count": 25
        }
      ]
    },
    {
      "cell_type": "code",
      "metadata": {
        "id": "QLUyXoL85gib",
        "colab_type": "code",
        "colab": {}
      },
      "source": [
        "# 複数範囲のデータの更新\n",
        "df.iloc[1:4, 0] = [13, 14, 15]"
      ],
      "execution_count": 26,
      "outputs": []
    },
    {
      "cell_type": "code",
      "metadata": {
        "id": "jTZIWW3u5l-e",
        "colab_type": "code",
        "colab": {
          "base_uri": "https://localhost:8080/",
          "height": 198
        },
        "outputId": "cb532772-51f1-4150-c93b-ac941d66a453"
      },
      "source": [
        "df"
      ],
      "execution_count": 27,
      "outputs": [
        {
          "output_type": "execute_result",
          "data": {
            "text/html": [
              "<div>\n",
              "<style scoped>\n",
              "    .dataframe tbody tr th:only-of-type {\n",
              "        vertical-align: middle;\n",
              "    }\n",
              "\n",
              "    .dataframe tbody tr th {\n",
              "        vertical-align: top;\n",
              "    }\n",
              "\n",
              "    .dataframe thead th {\n",
              "        text-align: right;\n",
              "    }\n",
              "</style>\n",
              "<table border=\"1\" class=\"dataframe\">\n",
              "  <thead>\n",
              "    <tr style=\"text-align: right;\">\n",
              "      <th></th>\n",
              "      <th>col1</th>\n",
              "      <th>col2</th>\n",
              "      <th>col3</th>\n",
              "    </tr>\n",
              "  </thead>\n",
              "  <tbody>\n",
              "    <tr>\n",
              "      <th>zero</th>\n",
              "      <td>1</td>\n",
              "      <td>2</td>\n",
              "      <td>3</td>\n",
              "    </tr>\n",
              "    <tr>\n",
              "      <th>one</th>\n",
              "      <td>13</td>\n",
              "      <td>111</td>\n",
              "      <td>4</td>\n",
              "    </tr>\n",
              "    <tr>\n",
              "      <th>two</th>\n",
              "      <td>14</td>\n",
              "      <td>4</td>\n",
              "      <td>5</td>\n",
              "    </tr>\n",
              "    <tr>\n",
              "      <th>three</th>\n",
              "      <td>15</td>\n",
              "      <td>5</td>\n",
              "      <td>6</td>\n",
              "    </tr>\n",
              "    <tr>\n",
              "      <th>four</th>\n",
              "      <td>5</td>\n",
              "      <td>6</td>\n",
              "      <td>7</td>\n",
              "    </tr>\n",
              "  </tbody>\n",
              "</table>\n",
              "</div>"
            ],
            "text/plain": [
              "       col1  col2  col3\n",
              "zero      1     2     3\n",
              "one      13   111     4\n",
              "two      14     4     5\n",
              "three    15     5     6\n",
              "four      5     6     7"
            ]
          },
          "metadata": {
            "tags": []
          },
          "execution_count": 27
        }
      ]
    },
    {
      "cell_type": "code",
      "metadata": {
        "id": "TFoj6UbX5mjF",
        "colab_type": "code",
        "colab": {}
      },
      "source": [
        "# 複数範囲に同じデータを格納する\n",
        "df.iloc[:, 2] = 0"
      ],
      "execution_count": 28,
      "outputs": []
    },
    {
      "cell_type": "code",
      "metadata": {
        "id": "KnzCTXGf5siJ",
        "colab_type": "code",
        "colab": {
          "base_uri": "https://localhost:8080/",
          "height": 198
        },
        "outputId": "81c8acd3-8145-4314-a332-437bef2f2431"
      },
      "source": [
        "df"
      ],
      "execution_count": 29,
      "outputs": [
        {
          "output_type": "execute_result",
          "data": {
            "text/html": [
              "<div>\n",
              "<style scoped>\n",
              "    .dataframe tbody tr th:only-of-type {\n",
              "        vertical-align: middle;\n",
              "    }\n",
              "\n",
              "    .dataframe tbody tr th {\n",
              "        vertical-align: top;\n",
              "    }\n",
              "\n",
              "    .dataframe thead th {\n",
              "        text-align: right;\n",
              "    }\n",
              "</style>\n",
              "<table border=\"1\" class=\"dataframe\">\n",
              "  <thead>\n",
              "    <tr style=\"text-align: right;\">\n",
              "      <th></th>\n",
              "      <th>col1</th>\n",
              "      <th>col2</th>\n",
              "      <th>col3</th>\n",
              "    </tr>\n",
              "  </thead>\n",
              "  <tbody>\n",
              "    <tr>\n",
              "      <th>zero</th>\n",
              "      <td>1</td>\n",
              "      <td>2</td>\n",
              "      <td>0</td>\n",
              "    </tr>\n",
              "    <tr>\n",
              "      <th>one</th>\n",
              "      <td>13</td>\n",
              "      <td>111</td>\n",
              "      <td>0</td>\n",
              "    </tr>\n",
              "    <tr>\n",
              "      <th>two</th>\n",
              "      <td>14</td>\n",
              "      <td>4</td>\n",
              "      <td>0</td>\n",
              "    </tr>\n",
              "    <tr>\n",
              "      <th>three</th>\n",
              "      <td>15</td>\n",
              "      <td>5</td>\n",
              "      <td>0</td>\n",
              "    </tr>\n",
              "    <tr>\n",
              "      <th>four</th>\n",
              "      <td>5</td>\n",
              "      <td>6</td>\n",
              "      <td>0</td>\n",
              "    </tr>\n",
              "  </tbody>\n",
              "</table>\n",
              "</div>"
            ],
            "text/plain": [
              "       col1  col2  col3\n",
              "zero      1     2     0\n",
              "one      13   111     0\n",
              "two      14     4     0\n",
              "three    15     5     0\n",
              "four      5     6     0"
            ]
          },
          "metadata": {
            "tags": []
          },
          "execution_count": 29
        }
      ]
    },
    {
      "cell_type": "markdown",
      "metadata": {
        "id": "p2n_fgX753hq",
        "colab_type": "text"
      },
      "source": [
        "# 行列の追加\n",
        "## 行の追加\n",
        "- 行の追加は、loc属性を用いて対応する値をデータフレームに渡します。"
      ]
    },
    {
      "cell_type": "code",
      "metadata": {
        "id": "CbRzaKZD5szO",
        "colab_type": "code",
        "colab": {}
      },
      "source": [
        "df.loc[5] = 42\n"
      ],
      "execution_count": 30,
      "outputs": []
    },
    {
      "cell_type": "code",
      "metadata": {
        "id": "V7aNBHoR6FCw",
        "colab_type": "code",
        "colab": {
          "base_uri": "https://localhost:8080/",
          "height": 228
        },
        "outputId": "a3ef5b90-9d41-409f-d7b3-4a92b4bbe92d"
      },
      "source": [
        "df"
      ],
      "execution_count": 31,
      "outputs": [
        {
          "output_type": "execute_result",
          "data": {
            "text/html": [
              "<div>\n",
              "<style scoped>\n",
              "    .dataframe tbody tr th:only-of-type {\n",
              "        vertical-align: middle;\n",
              "    }\n",
              "\n",
              "    .dataframe tbody tr th {\n",
              "        vertical-align: top;\n",
              "    }\n",
              "\n",
              "    .dataframe thead th {\n",
              "        text-align: right;\n",
              "    }\n",
              "</style>\n",
              "<table border=\"1\" class=\"dataframe\">\n",
              "  <thead>\n",
              "    <tr style=\"text-align: right;\">\n",
              "      <th></th>\n",
              "      <th>col1</th>\n",
              "      <th>col2</th>\n",
              "      <th>col3</th>\n",
              "    </tr>\n",
              "  </thead>\n",
              "  <tbody>\n",
              "    <tr>\n",
              "      <th>zero</th>\n",
              "      <td>1</td>\n",
              "      <td>2</td>\n",
              "      <td>0</td>\n",
              "    </tr>\n",
              "    <tr>\n",
              "      <th>one</th>\n",
              "      <td>13</td>\n",
              "      <td>111</td>\n",
              "      <td>0</td>\n",
              "    </tr>\n",
              "    <tr>\n",
              "      <th>two</th>\n",
              "      <td>14</td>\n",
              "      <td>4</td>\n",
              "      <td>0</td>\n",
              "    </tr>\n",
              "    <tr>\n",
              "      <th>three</th>\n",
              "      <td>15</td>\n",
              "      <td>5</td>\n",
              "      <td>0</td>\n",
              "    </tr>\n",
              "    <tr>\n",
              "      <th>four</th>\n",
              "      <td>5</td>\n",
              "      <td>6</td>\n",
              "      <td>0</td>\n",
              "    </tr>\n",
              "    <tr>\n",
              "      <th>5</th>\n",
              "      <td>42</td>\n",
              "      <td>42</td>\n",
              "      <td>42</td>\n",
              "    </tr>\n",
              "  </tbody>\n",
              "</table>\n",
              "</div>"
            ],
            "text/plain": [
              "       col1  col2  col3\n",
              "zero      1     2     0\n",
              "one      13   111     0\n",
              "two      14     4     0\n",
              "three    15     5     0\n",
              "four      5     6     0\n",
              "5        42    42    42"
            ]
          },
          "metadata": {
            "tags": []
          },
          "execution_count": 31
        }
      ]
    },
    {
      "cell_type": "markdown",
      "metadata": {
        "id": "QLxCxlzh6Hyx",
        "colab_type": "text"
      },
      "source": [
        "## 列の追加\n",
        "- 列の追加は、列名と対応する値をデータフレームに渡します。"
      ]
    },
    {
      "cell_type": "code",
      "metadata": {
        "id": "ogtD1hsM6FXS",
        "colab_type": "code",
        "colab": {}
      },
      "source": [
        "df[4] = 4"
      ],
      "execution_count": 32,
      "outputs": []
    },
    {
      "cell_type": "code",
      "metadata": {
        "id": "DTb49KPq6kbo",
        "colab_type": "code",
        "colab": {
          "base_uri": "https://localhost:8080/",
          "height": 228
        },
        "outputId": "dccb3b74-4672-425b-d47f-68b3dddb0d95"
      },
      "source": [
        "df"
      ],
      "execution_count": 33,
      "outputs": [
        {
          "output_type": "execute_result",
          "data": {
            "text/html": [
              "<div>\n",
              "<style scoped>\n",
              "    .dataframe tbody tr th:only-of-type {\n",
              "        vertical-align: middle;\n",
              "    }\n",
              "\n",
              "    .dataframe tbody tr th {\n",
              "        vertical-align: top;\n",
              "    }\n",
              "\n",
              "    .dataframe thead th {\n",
              "        text-align: right;\n",
              "    }\n",
              "</style>\n",
              "<table border=\"1\" class=\"dataframe\">\n",
              "  <thead>\n",
              "    <tr style=\"text-align: right;\">\n",
              "      <th></th>\n",
              "      <th>col1</th>\n",
              "      <th>col2</th>\n",
              "      <th>col3</th>\n",
              "      <th>4</th>\n",
              "    </tr>\n",
              "  </thead>\n",
              "  <tbody>\n",
              "    <tr>\n",
              "      <th>zero</th>\n",
              "      <td>1</td>\n",
              "      <td>2</td>\n",
              "      <td>0</td>\n",
              "      <td>4</td>\n",
              "    </tr>\n",
              "    <tr>\n",
              "      <th>one</th>\n",
              "      <td>13</td>\n",
              "      <td>111</td>\n",
              "      <td>0</td>\n",
              "      <td>4</td>\n",
              "    </tr>\n",
              "    <tr>\n",
              "      <th>two</th>\n",
              "      <td>14</td>\n",
              "      <td>4</td>\n",
              "      <td>0</td>\n",
              "      <td>4</td>\n",
              "    </tr>\n",
              "    <tr>\n",
              "      <th>three</th>\n",
              "      <td>15</td>\n",
              "      <td>5</td>\n",
              "      <td>0</td>\n",
              "      <td>4</td>\n",
              "    </tr>\n",
              "    <tr>\n",
              "      <th>four</th>\n",
              "      <td>5</td>\n",
              "      <td>6</td>\n",
              "      <td>0</td>\n",
              "      <td>4</td>\n",
              "    </tr>\n",
              "    <tr>\n",
              "      <th>5</th>\n",
              "      <td>42</td>\n",
              "      <td>42</td>\n",
              "      <td>42</td>\n",
              "      <td>4</td>\n",
              "    </tr>\n",
              "  </tbody>\n",
              "</table>\n",
              "</div>"
            ],
            "text/plain": [
              "       col1  col2  col3  4\n",
              "zero      1     2     0  4\n",
              "one      13   111     0  4\n",
              "two      14     4     0  4\n",
              "three    15     5     0  4\n",
              "four      5     6     0  4\n",
              "5        42    42    42  4"
            ]
          },
          "metadata": {
            "tags": []
          },
          "execution_count": 33
        }
      ]
    },
    {
      "cell_type": "markdown",
      "metadata": {
        "id": "xXocU9bV6yiR",
        "colab_type": "text"
      },
      "source": [
        "# データを読み込む\n",
        "## csvファイルを読み込む\n",
        "  - read_csv関数を用います"
      ]
    },
    {
      "cell_type": "code",
      "metadata": {
        "id": "p0_34KWI6k3l",
        "colab_type": "code",
        "colab": {}
      },
      "source": [
        "# データは福岡市の新型コロナウィルス感染　https://ckan.open-governmentdata.org/dataset/401307_covid19_patients\n",
        "df_fukuoka_covid = pd.read_csv('https://ckan.open-governmentdata.org/dataset/6c9fc569-b523-4c56-828d-2ab3047df5a3/resource/c97a0ef7-8be9-4902-bf49-3fe5daf6d34c/download/401307_city_fukuoka_covid19_patients.csv')"
      ],
      "execution_count": 34,
      "outputs": []
    },
    {
      "cell_type": "code",
      "metadata": {
        "id": "rXVcqAbX6-Fp",
        "colab_type": "code",
        "colab": {
          "base_uri": "https://localhost:8080/",
          "height": 615
        },
        "outputId": "74b543ba-c191-4737-b386-74b3ab8960fd"
      },
      "source": [
        "df_fukuoka_covid"
      ],
      "execution_count": 35,
      "outputs": [
        {
          "output_type": "execute_result",
          "data": {
            "text/html": [
              "<div>\n",
              "<style scoped>\n",
              "    .dataframe tbody tr th:only-of-type {\n",
              "        vertical-align: middle;\n",
              "    }\n",
              "\n",
              "    .dataframe tbody tr th {\n",
              "        vertical-align: top;\n",
              "    }\n",
              "\n",
              "    .dataframe thead th {\n",
              "        text-align: right;\n",
              "    }\n",
              "</style>\n",
              "<table border=\"1\" class=\"dataframe\">\n",
              "  <thead>\n",
              "    <tr style=\"text-align: right;\">\n",
              "      <th></th>\n",
              "      <th>No</th>\n",
              "      <th>全国地方公共団体コード</th>\n",
              "      <th>都道府県名</th>\n",
              "      <th>市区町村名</th>\n",
              "      <th>公表_年月日</th>\n",
              "      <th>曜日</th>\n",
              "      <th>発症_年月日</th>\n",
              "      <th>居住地</th>\n",
              "      <th>年代</th>\n",
              "      <th>性別</th>\n",
              "      <th>患者_属性</th>\n",
              "      <th>患者_状態</th>\n",
              "      <th>患者_症状</th>\n",
              "      <th>患者_渡航歴の有無フラグ</th>\n",
              "      <th>備考</th>\n",
              "      <th>退院済フラグ</th>\n",
              "    </tr>\n",
              "  </thead>\n",
              "  <tbody>\n",
              "    <tr>\n",
              "      <th>0</th>\n",
              "      <td>1</td>\n",
              "      <td>401307</td>\n",
              "      <td>福岡県</td>\n",
              "      <td>福岡市</td>\n",
              "      <td>2020/2/20</td>\n",
              "      <td>木</td>\n",
              "      <td>NaN</td>\n",
              "      <td>福岡市中央区</td>\n",
              "      <td>60代</td>\n",
              "      <td>男性</td>\n",
              "      <td>NaN</td>\n",
              "      <td>NaN</td>\n",
              "      <td>NaN</td>\n",
              "      <td>NaN</td>\n",
              "      <td>NaN</td>\n",
              "      <td>NaN</td>\n",
              "    </tr>\n",
              "    <tr>\n",
              "      <th>1</th>\n",
              "      <td>2</td>\n",
              "      <td>401307</td>\n",
              "      <td>福岡県</td>\n",
              "      <td>福岡市</td>\n",
              "      <td>2020/2/20</td>\n",
              "      <td>木</td>\n",
              "      <td>NaN</td>\n",
              "      <td>福岡市中央区</td>\n",
              "      <td>60代</td>\n",
              "      <td>女性</td>\n",
              "      <td>NaN</td>\n",
              "      <td>NaN</td>\n",
              "      <td>NaN</td>\n",
              "      <td>NaN</td>\n",
              "      <td>NaN</td>\n",
              "      <td>NaN</td>\n",
              "    </tr>\n",
              "    <tr>\n",
              "      <th>2</th>\n",
              "      <td>3</td>\n",
              "      <td>401307</td>\n",
              "      <td>福岡県</td>\n",
              "      <td>福岡市</td>\n",
              "      <td>2020/3/17</td>\n",
              "      <td>火</td>\n",
              "      <td>NaN</td>\n",
              "      <td>福岡市南区</td>\n",
              "      <td>30代</td>\n",
              "      <td>女性</td>\n",
              "      <td>NaN</td>\n",
              "      <td>NaN</td>\n",
              "      <td>NaN</td>\n",
              "      <td>1.0</td>\n",
              "      <td>NaN</td>\n",
              "      <td>NaN</td>\n",
              "    </tr>\n",
              "    <tr>\n",
              "      <th>3</th>\n",
              "      <td>4</td>\n",
              "      <td>401307</td>\n",
              "      <td>福岡県</td>\n",
              "      <td>福岡市</td>\n",
              "      <td>2020/3/24</td>\n",
              "      <td>火</td>\n",
              "      <td>NaN</td>\n",
              "      <td>福岡市早良区</td>\n",
              "      <td>40代</td>\n",
              "      <td>男性</td>\n",
              "      <td>NaN</td>\n",
              "      <td>NaN</td>\n",
              "      <td>NaN</td>\n",
              "      <td>NaN</td>\n",
              "      <td>NaN</td>\n",
              "      <td>NaN</td>\n",
              "    </tr>\n",
              "    <tr>\n",
              "      <th>4</th>\n",
              "      <td>5</td>\n",
              "      <td>401307</td>\n",
              "      <td>福岡県</td>\n",
              "      <td>福岡市</td>\n",
              "      <td>2020/3/26</td>\n",
              "      <td>木</td>\n",
              "      <td>NaN</td>\n",
              "      <td>福岡市東区</td>\n",
              "      <td>50代</td>\n",
              "      <td>男性</td>\n",
              "      <td>NaN</td>\n",
              "      <td>NaN</td>\n",
              "      <td>NaN</td>\n",
              "      <td>NaN</td>\n",
              "      <td>NaN</td>\n",
              "      <td>NaN</td>\n",
              "    </tr>\n",
              "    <tr>\n",
              "      <th>...</th>\n",
              "      <td>...</td>\n",
              "      <td>...</td>\n",
              "      <td>...</td>\n",
              "      <td>...</td>\n",
              "      <td>...</td>\n",
              "      <td>...</td>\n",
              "      <td>...</td>\n",
              "      <td>...</td>\n",
              "      <td>...</td>\n",
              "      <td>...</td>\n",
              "      <td>...</td>\n",
              "      <td>...</td>\n",
              "      <td>...</td>\n",
              "      <td>...</td>\n",
              "      <td>...</td>\n",
              "      <td>...</td>\n",
              "    </tr>\n",
              "    <tr>\n",
              "      <th>1975</th>\n",
              "      <td>1981</td>\n",
              "      <td>401307</td>\n",
              "      <td>福岡県</td>\n",
              "      <td>福岡市</td>\n",
              "      <td>2020/8/14</td>\n",
              "      <td>金</td>\n",
              "      <td>NaN</td>\n",
              "      <td>福岡市中央区</td>\n",
              "      <td>50代</td>\n",
              "      <td>女性</td>\n",
              "      <td>NaN</td>\n",
              "      <td>NaN</td>\n",
              "      <td>NaN</td>\n",
              "      <td>NaN</td>\n",
              "      <td>NaN</td>\n",
              "      <td>NaN</td>\n",
              "    </tr>\n",
              "    <tr>\n",
              "      <th>1976</th>\n",
              "      <td>1982</td>\n",
              "      <td>401307</td>\n",
              "      <td>福岡県</td>\n",
              "      <td>福岡市</td>\n",
              "      <td>2020/8/14</td>\n",
              "      <td>金</td>\n",
              "      <td>NaN</td>\n",
              "      <td>調査中</td>\n",
              "      <td>50代</td>\n",
              "      <td>男性</td>\n",
              "      <td>NaN</td>\n",
              "      <td>NaN</td>\n",
              "      <td>NaN</td>\n",
              "      <td>NaN</td>\n",
              "      <td>NaN</td>\n",
              "      <td>NaN</td>\n",
              "    </tr>\n",
              "    <tr>\n",
              "      <th>1977</th>\n",
              "      <td>1983</td>\n",
              "      <td>401307</td>\n",
              "      <td>福岡県</td>\n",
              "      <td>福岡市</td>\n",
              "      <td>2020/8/14</td>\n",
              "      <td>金</td>\n",
              "      <td>NaN</td>\n",
              "      <td>調査中</td>\n",
              "      <td>30代</td>\n",
              "      <td>男性</td>\n",
              "      <td>NaN</td>\n",
              "      <td>NaN</td>\n",
              "      <td>NaN</td>\n",
              "      <td>NaN</td>\n",
              "      <td>NaN</td>\n",
              "      <td>NaN</td>\n",
              "    </tr>\n",
              "    <tr>\n",
              "      <th>1978</th>\n",
              "      <td>1984</td>\n",
              "      <td>401307</td>\n",
              "      <td>福岡県</td>\n",
              "      <td>福岡市</td>\n",
              "      <td>2020/8/14</td>\n",
              "      <td>金</td>\n",
              "      <td>NaN</td>\n",
              "      <td>福岡市中央区</td>\n",
              "      <td>20代</td>\n",
              "      <td>女性</td>\n",
              "      <td>NaN</td>\n",
              "      <td>NaN</td>\n",
              "      <td>NaN</td>\n",
              "      <td>NaN</td>\n",
              "      <td>NaN</td>\n",
              "      <td>NaN</td>\n",
              "    </tr>\n",
              "    <tr>\n",
              "      <th>1979</th>\n",
              "      <td>1985</td>\n",
              "      <td>401307</td>\n",
              "      <td>福岡県</td>\n",
              "      <td>福岡市</td>\n",
              "      <td>2020/8/14</td>\n",
              "      <td>金</td>\n",
              "      <td>NaN</td>\n",
              "      <td>福岡市中央区</td>\n",
              "      <td>40代</td>\n",
              "      <td>女性</td>\n",
              "      <td>NaN</td>\n",
              "      <td>NaN</td>\n",
              "      <td>NaN</td>\n",
              "      <td>NaN</td>\n",
              "      <td>NaN</td>\n",
              "      <td>NaN</td>\n",
              "    </tr>\n",
              "  </tbody>\n",
              "</table>\n",
              "<p>1980 rows × 16 columns</p>\n",
              "</div>"
            ],
            "text/plain": [
              "        No  全国地方公共団体コード 都道府県名 市区町村名  ... 患者_症状 患者_渡航歴の有無フラグ  備考 退院済フラグ\n",
              "0        1       401307   福岡県   福岡市  ...   NaN          NaN NaN    NaN\n",
              "1        2       401307   福岡県   福岡市  ...   NaN          NaN NaN    NaN\n",
              "2        3       401307   福岡県   福岡市  ...   NaN          1.0 NaN    NaN\n",
              "3        4       401307   福岡県   福岡市  ...   NaN          NaN NaN    NaN\n",
              "4        5       401307   福岡県   福岡市  ...   NaN          NaN NaN    NaN\n",
              "...    ...          ...   ...   ...  ...   ...          ...  ..    ...\n",
              "1975  1981       401307   福岡県   福岡市  ...   NaN          NaN NaN    NaN\n",
              "1976  1982       401307   福岡県   福岡市  ...   NaN          NaN NaN    NaN\n",
              "1977  1983       401307   福岡県   福岡市  ...   NaN          NaN NaN    NaN\n",
              "1978  1984       401307   福岡県   福岡市  ...   NaN          NaN NaN    NaN\n",
              "1979  1985       401307   福岡県   福岡市  ...   NaN          NaN NaN    NaN\n",
              "\n",
              "[1980 rows x 16 columns]"
            ]
          },
          "metadata": {
            "tags": []
          },
          "execution_count": 35
        }
      ]
    },
    {
      "cell_type": "markdown",
      "metadata": {
        "id": "ad9NvoRS9Faa",
        "colab_type": "text"
      },
      "source": [
        "## Excelファイルを読み込む\n",
        "- read_excel関数を用いる"
      ]
    },
    {
      "cell_type": "code",
      "metadata": {
        "id": "J-ijozok9Lbv",
        "colab_type": "code",
        "colab": {}
      },
      "source": [
        "# 福岡市給食献立　https://ckan.open-governmentdata.org/dataset/401307_syousaikonndate\n",
        "df_fukuoka_kyushoku = pd.read_excel('https://ckan.open-governmentdata.org/dataset/8354be81-da59-42eb-b291-7cfdad3db9b6/resource/eb18252f-c00a-4219-b30f-b3986b0125f5/download/201912.xls')"
      ],
      "execution_count": 36,
      "outputs": []
    },
    {
      "cell_type": "code",
      "metadata": {
        "id": "6GGnJkVR9byI",
        "colab_type": "code",
        "colab": {
          "base_uri": "https://localhost:8080/",
          "height": 684
        },
        "outputId": "83600b60-f45f-47d4-a85e-32cc688543da"
      },
      "source": [
        "df_fukuoka_kyushoku"
      ],
      "execution_count": 37,
      "outputs": [
        {
          "output_type": "execute_result",
          "data": {
            "text/html": [
              "<div>\n",
              "<style scoped>\n",
              "    .dataframe tbody tr th:only-of-type {\n",
              "        vertical-align: middle;\n",
              "    }\n",
              "\n",
              "    .dataframe tbody tr th {\n",
              "        vertical-align: top;\n",
              "    }\n",
              "\n",
              "    .dataframe thead th {\n",
              "        text-align: right;\n",
              "    }\n",
              "</style>\n",
              "<table border=\"1\" class=\"dataframe\">\n",
              "  <thead>\n",
              "    <tr style=\"text-align: right;\">\n",
              "      <th></th>\n",
              "      <th>Unnamed: 0</th>\n",
              "      <th>Unnamed: 1</th>\n",
              "      <th>Unnamed: 2</th>\n",
              "      <th>Unnamed: 3</th>\n",
              "      <th>Unnamed: 4</th>\n",
              "      <th>2019-12-01 00:00:00</th>\n",
              "      <th>福岡市学校給食詳細献立表(小学校：イ)　１／２ﾍﾟｰｼﾞ</th>\n",
              "      <th>Unnamed: 7</th>\n",
              "      <th>Unnamed: 8</th>\n",
              "    </tr>\n",
              "  </thead>\n",
              "  <tbody>\n",
              "    <tr>\n",
              "      <th>0</th>\n",
              "      <td>NaN</td>\n",
              "      <td>NaN</td>\n",
              "      <td>NaN</td>\n",
              "      <td>NaN</td>\n",
              "      <td>NaN</td>\n",
              "      <td>NaN</td>\n",
              "      <td>NaN</td>\n",
              "      <td>NaN</td>\n",
              "      <td>福岡市教育委員会</td>\n",
              "    </tr>\n",
              "    <tr>\n",
              "      <th>1</th>\n",
              "      <td>NaN</td>\n",
              "      <td>NaN</td>\n",
              "      <td>NaN</td>\n",
              "      <td>NaN</td>\n",
              "      <td>NaN</td>\n",
              "      <td>NaN</td>\n",
              "      <td>NaN</td>\n",
              "      <td>NaN</td>\n",
              "      <td>NaN</td>\n",
              "    </tr>\n",
              "    <tr>\n",
              "      <th>2</th>\n",
              "      <td>記号</td>\n",
              "      <td>日</td>\n",
              "      <td>曜</td>\n",
              "      <td>献立名</td>\n",
              "      <td>NaN</td>\n",
              "      <td>NaN</td>\n",
              "      <td>NaN</td>\n",
              "      <td>お　も　な　材　料</td>\n",
              "      <td>調　味　料</td>\n",
              "    </tr>\n",
              "    <tr>\n",
              "      <th>3</th>\n",
              "      <td>NaN</td>\n",
              "      <td>NaN</td>\n",
              "      <td>NaN</td>\n",
              "      <td>パン\\n又は\\nごはん</td>\n",
              "      <td>牛乳</td>\n",
              "      <td>おかず</td>\n",
              "      <td>NaN</td>\n",
              "      <td>NaN</td>\n",
              "      <td>NaN</td>\n",
              "    </tr>\n",
              "    <tr>\n",
              "      <th>4</th>\n",
              "      <td>NaN</td>\n",
              "      <td>NaN</td>\n",
              "      <td>NaN</td>\n",
              "      <td>NaN</td>\n",
              "      <td>NaN</td>\n",
              "      <td>除去食対象献立</td>\n",
              "      <td>食品</td>\n",
              "      <td>NaN</td>\n",
              "      <td>NaN</td>\n",
              "    </tr>\n",
              "    <tr>\n",
              "      <th>...</th>\n",
              "      <td>...</td>\n",
              "      <td>...</td>\n",
              "      <td>...</td>\n",
              "      <td>...</td>\n",
              "      <td>...</td>\n",
              "      <td>...</td>\n",
              "      <td>...</td>\n",
              "      <td>...</td>\n",
              "      <td>...</td>\n",
              "    </tr>\n",
              "    <tr>\n",
              "      <th>61</th>\n",
              "      <td>NaN</td>\n",
              "      <td>NaN</td>\n",
              "      <td>NaN</td>\n",
              "      <td>＊麦ご飯・パンにつきましては，「2019年４月～2020年３月分食材料名『主食』」一覧表を</td>\n",
              "      <td>NaN</td>\n",
              "      <td>NaN</td>\n",
              "      <td>NaN</td>\n",
              "      <td>NaN</td>\n",
              "      <td>NaN</td>\n",
              "    </tr>\n",
              "    <tr>\n",
              "      <th>62</th>\n",
              "      <td>NaN</td>\n",
              "      <td>NaN</td>\n",
              "      <td>NaN</td>\n",
              "      <td>参照してください。下線のパンは鶏卵を使用しています。</td>\n",
              "      <td>NaN</td>\n",
              "      <td>NaN</td>\n",
              "      <td>NaN</td>\n",
              "      <td>NaN</td>\n",
              "      <td>NaN</td>\n",
              "    </tr>\n",
              "    <tr>\n",
              "      <th>63</th>\n",
              "      <td>NaN</td>\n",
              "      <td>NaN</td>\n",
              "      <td>NaN</td>\n",
              "      <td>◎マークの物資につきましては，「2019年４月～2020年３月分食材料名」一覧表を参照してく...</td>\n",
              "      <td>NaN</td>\n",
              "      <td>NaN</td>\n",
              "      <td>NaN</td>\n",
              "      <td>NaN</td>\n",
              "      <td>NaN</td>\n",
              "    </tr>\n",
              "    <tr>\n",
              "      <th>64</th>\n",
              "      <td>NaN</td>\n",
              "      <td>NaN</td>\n",
              "      <td>NaN</td>\n",
              "      <td>※マークの物資につきましては，「2019年８月～１２月分食材料名」一覧表を参照してください。</td>\n",
              "      <td>NaN</td>\n",
              "      <td>NaN</td>\n",
              "      <td>NaN</td>\n",
              "      <td>NaN</td>\n",
              "      <td>NaN</td>\n",
              "    </tr>\n",
              "    <tr>\n",
              "      <th>65</th>\n",
              "      <td>NaN</td>\n",
              "      <td>NaN</td>\n",
              "      <td>NaN</td>\n",
              "      <td>★マークの物資につきましては，「2019年１２月分食材料名」一覧表を参照してください。</td>\n",
              "      <td>NaN</td>\n",
              "      <td>NaN</td>\n",
              "      <td>NaN</td>\n",
              "      <td>NaN</td>\n",
              "      <td>NaN</td>\n",
              "    </tr>\n",
              "  </tbody>\n",
              "</table>\n",
              "<p>66 rows × 9 columns</p>\n",
              "</div>"
            ],
            "text/plain": [
              "   Unnamed: 0 Unnamed: 1  ... Unnamed: 7 Unnamed: 8\n",
              "0         NaN        NaN  ...        NaN   福岡市教育委員会\n",
              "1         NaN        NaN  ...        NaN        NaN\n",
              "2          記号          日  ...  お　も　な　材　料      調　味　料\n",
              "3         NaN        NaN  ...        NaN        NaN\n",
              "4         NaN        NaN  ...        NaN        NaN\n",
              "..        ...        ...  ...        ...        ...\n",
              "61        NaN        NaN  ...        NaN        NaN\n",
              "62        NaN        NaN  ...        NaN        NaN\n",
              "63        NaN        NaN  ...        NaN        NaN\n",
              "64        NaN        NaN  ...        NaN        NaN\n",
              "65        NaN        NaN  ...        NaN        NaN\n",
              "\n",
              "[66 rows x 9 columns]"
            ]
          },
          "metadata": {
            "tags": []
          },
          "execution_count": 37
        }
      ]
    },
    {
      "cell_type": "markdown",
      "metadata": {
        "id": "mCf0gGCZ-J8w",
        "colab_type": "text"
      },
      "source": [
        "## HTMLのテーブルを読み込む\n",
        "- read_html関数を使う"
      ]
    },
    {
      "cell_type": "code",
      "metadata": {
        "id": "PNk0FuyH9c-d",
        "colab_type": "code",
        "colab": {}
      },
      "source": [
        "# yahoo_financeより \n",
        "year_high = pd.read_html(\"https://info.finance.yahoo.co.jp/ranking/?kd=29&tm=d&mk=1\", parse_dates=[5])[0]"
      ],
      "execution_count": 38,
      "outputs": []
    },
    {
      "cell_type": "code",
      "metadata": {
        "id": "ja8MvCda-ddv",
        "colab_type": "code",
        "colab": {
          "base_uri": "https://localhost:8080/",
          "height": 1000
        },
        "outputId": "6aa40afb-0fd2-462d-ff15-bc1487df8590"
      },
      "source": [
        "year_high"
      ],
      "execution_count": 39,
      "outputs": [
        {
          "output_type": "execute_result",
          "data": {
            "text/html": [
              "<div>\n",
              "<style scoped>\n",
              "    .dataframe tbody tr th:only-of-type {\n",
              "        vertical-align: middle;\n",
              "    }\n",
              "\n",
              "    .dataframe tbody tr th {\n",
              "        vertical-align: top;\n",
              "    }\n",
              "\n",
              "    .dataframe thead th {\n",
              "        text-align: right;\n",
              "    }\n",
              "</style>\n",
              "<table border=\"1\" class=\"dataframe\">\n",
              "  <thead>\n",
              "    <tr style=\"text-align: right;\">\n",
              "      <th></th>\n",
              "      <th>コード</th>\n",
              "      <th>市場</th>\n",
              "      <th>名称</th>\n",
              "      <th>取引値</th>\n",
              "      <th>取引値.1</th>\n",
              "      <th>前営業日までの年初来高値</th>\n",
              "      <th>前営業日までの年初来高値.1</th>\n",
              "      <th>高値</th>\n",
              "      <th>掲示板</th>\n",
              "    </tr>\n",
              "  </thead>\n",
              "  <tbody>\n",
              "    <tr>\n",
              "      <th>0</th>\n",
              "      <td>1407</td>\n",
              "      <td>東証JQS</td>\n",
              "      <td>(株)ウエストホールディングス</td>\n",
              "      <td>11:30</td>\n",
              "      <td>2608</td>\n",
              "      <td>2020/08/14</td>\n",
              "      <td>2611</td>\n",
              "      <td>2659</td>\n",
              "      <td>掲示板</td>\n",
              "    </tr>\n",
              "    <tr>\n",
              "      <th>1</th>\n",
              "      <td>1870</td>\n",
              "      <td>東証1部</td>\n",
              "      <td>矢作建設工業(株)</td>\n",
              "      <td>11:30</td>\n",
              "      <td>867</td>\n",
              "      <td>2020/02/07</td>\n",
              "      <td>876</td>\n",
              "      <td>879</td>\n",
              "      <td>掲示板</td>\n",
              "    </tr>\n",
              "    <tr>\n",
              "      <th>2</th>\n",
              "      <td>2004</td>\n",
              "      <td>東証1部</td>\n",
              "      <td>昭和産業(株)</td>\n",
              "      <td>11:26</td>\n",
              "      <td>3490</td>\n",
              "      <td>2020/07/29</td>\n",
              "      <td>3510</td>\n",
              "      <td>3515</td>\n",
              "      <td>掲示板</td>\n",
              "    </tr>\n",
              "    <tr>\n",
              "      <th>3</th>\n",
              "      <td>2148</td>\n",
              "      <td>東証1部</td>\n",
              "      <td>アイティメディア(株)</td>\n",
              "      <td>11:30</td>\n",
              "      <td>2593</td>\n",
              "      <td>2020/08/04</td>\n",
              "      <td>2557</td>\n",
              "      <td>2664</td>\n",
              "      <td>掲示板</td>\n",
              "    </tr>\n",
              "    <tr>\n",
              "      <th>4</th>\n",
              "      <td>2150</td>\n",
              "      <td>マザーズ</td>\n",
              "      <td>(株)ケアネット</td>\n",
              "      <td>11:30</td>\n",
              "      <td>2490</td>\n",
              "      <td>2020/08/14</td>\n",
              "      <td>2327</td>\n",
              "      <td>2558</td>\n",
              "      <td>掲示板</td>\n",
              "    </tr>\n",
              "    <tr>\n",
              "      <th>5</th>\n",
              "      <td>2178</td>\n",
              "      <td>マザーズ</td>\n",
              "      <td>(株)トライステージ</td>\n",
              "      <td>11:28</td>\n",
              "      <td>419</td>\n",
              "      <td>2020/08/14</td>\n",
              "      <td>427</td>\n",
              "      <td>430</td>\n",
              "      <td>掲示板</td>\n",
              "    </tr>\n",
              "    <tr>\n",
              "      <th>6</th>\n",
              "      <td>2209</td>\n",
              "      <td>東証1部</td>\n",
              "      <td>井村屋グループ(株)</td>\n",
              "      <td>11:07</td>\n",
              "      <td>2437</td>\n",
              "      <td>2020/08/12</td>\n",
              "      <td>2439</td>\n",
              "      <td>2445</td>\n",
              "      <td>掲示板</td>\n",
              "    </tr>\n",
              "    <tr>\n",
              "      <th>7</th>\n",
              "      <td>2264</td>\n",
              "      <td>東証1部</td>\n",
              "      <td>森永乳業(株)</td>\n",
              "      <td>11:30</td>\n",
              "      <td>5050</td>\n",
              "      <td>2020/08/13</td>\n",
              "      <td>5080</td>\n",
              "      <td>5120</td>\n",
              "      <td>掲示板</td>\n",
              "    </tr>\n",
              "    <tr>\n",
              "      <th>8</th>\n",
              "      <td>2352</td>\n",
              "      <td>東証1部</td>\n",
              "      <td>(株)エイジア</td>\n",
              "      <td>11:30</td>\n",
              "      <td>1839</td>\n",
              "      <td>2020/08/06</td>\n",
              "      <td>1847</td>\n",
              "      <td>1850</td>\n",
              "      <td>掲示板</td>\n",
              "    </tr>\n",
              "    <tr>\n",
              "      <th>9</th>\n",
              "      <td>2374</td>\n",
              "      <td>東証1部</td>\n",
              "      <td>セントケア・ホールディング(株)</td>\n",
              "      <td>11:30</td>\n",
              "      <td>496</td>\n",
              "      <td>2020/08/11</td>\n",
              "      <td>495</td>\n",
              "      <td>498</td>\n",
              "      <td>掲示板</td>\n",
              "    </tr>\n",
              "    <tr>\n",
              "      <th>10</th>\n",
              "      <td>2385</td>\n",
              "      <td>マザーズ</td>\n",
              "      <td>(株)総医研ホールディングス</td>\n",
              "      <td>11:30</td>\n",
              "      <td>602</td>\n",
              "      <td>2020/01/06</td>\n",
              "      <td>620</td>\n",
              "      <td>621</td>\n",
              "      <td>掲示板</td>\n",
              "    </tr>\n",
              "    <tr>\n",
              "      <th>11</th>\n",
              "      <td>2388</td>\n",
              "      <td>東証JQG</td>\n",
              "      <td>(株)ウェッジホールディングス</td>\n",
              "      <td>11:30</td>\n",
              "      <td>141</td>\n",
              "      <td>2020/02/14</td>\n",
              "      <td>161</td>\n",
              "      <td>164</td>\n",
              "      <td>掲示板</td>\n",
              "    </tr>\n",
              "    <tr>\n",
              "      <th>12</th>\n",
              "      <td>2669</td>\n",
              "      <td>東証JQS</td>\n",
              "      <td>カネ美食品(株)</td>\n",
              "      <td>11:22</td>\n",
              "      <td>3250</td>\n",
              "      <td>2020/08/14</td>\n",
              "      <td>3245</td>\n",
              "      <td>3250</td>\n",
              "      <td>掲示板</td>\n",
              "    </tr>\n",
              "    <tr>\n",
              "      <th>13</th>\n",
              "      <td>2805</td>\n",
              "      <td>東証2部</td>\n",
              "      <td>ヱスビー食品(株)</td>\n",
              "      <td>11:28</td>\n",
              "      <td>4830</td>\n",
              "      <td>2020/08/04</td>\n",
              "      <td>4795</td>\n",
              "      <td>4850</td>\n",
              "      <td>掲示板</td>\n",
              "    </tr>\n",
              "    <tr>\n",
              "      <th>14</th>\n",
              "      <td>2883</td>\n",
              "      <td>東証1部</td>\n",
              "      <td>(株)大冷</td>\n",
              "      <td>11:30</td>\n",
              "      <td>2139</td>\n",
              "      <td>2020/08/14</td>\n",
              "      <td>2119</td>\n",
              "      <td>2147</td>\n",
              "      <td>掲示板</td>\n",
              "    </tr>\n",
              "    <tr>\n",
              "      <th>15</th>\n",
              "      <td>3182</td>\n",
              "      <td>東証1部</td>\n",
              "      <td>オイシックス・ラ・大地(株)</td>\n",
              "      <td>09:49</td>\n",
              "      <td>3065</td>\n",
              "      <td>2020/08/14</td>\n",
              "      <td>2649</td>\n",
              "      <td>3065</td>\n",
              "      <td>掲示板</td>\n",
              "    </tr>\n",
              "    <tr>\n",
              "      <th>16</th>\n",
              "      <td>3195</td>\n",
              "      <td>マザーズ</td>\n",
              "      <td>(株)ジェネレーションパス</td>\n",
              "      <td>11:30</td>\n",
              "      <td>1106</td>\n",
              "      <td>2020/08/11</td>\n",
              "      <td>1226</td>\n",
              "      <td>1238</td>\n",
              "      <td>掲示板</td>\n",
              "    </tr>\n",
              "    <tr>\n",
              "      <th>17</th>\n",
              "      <td>3199</td>\n",
              "      <td>東証1部</td>\n",
              "      <td>綿半ホールディングス(株)</td>\n",
              "      <td>11:25</td>\n",
              "      <td>2380</td>\n",
              "      <td>2020/08/14</td>\n",
              "      <td>2346</td>\n",
              "      <td>2382</td>\n",
              "      <td>掲示板</td>\n",
              "    </tr>\n",
              "    <tr>\n",
              "      <th>18</th>\n",
              "      <td>3328</td>\n",
              "      <td>東証1部</td>\n",
              "      <td>ＢＥＥＮＯＳ(株)</td>\n",
              "      <td>11:30</td>\n",
              "      <td>1399</td>\n",
              "      <td>2020/01/07</td>\n",
              "      <td>1394</td>\n",
              "      <td>1419</td>\n",
              "      <td>掲示板</td>\n",
              "    </tr>\n",
              "    <tr>\n",
              "      <th>19</th>\n",
              "      <td>3333</td>\n",
              "      <td>東証1部</td>\n",
              "      <td>(株)あさひ</td>\n",
              "      <td>11:30</td>\n",
              "      <td>1820</td>\n",
              "      <td>2020/08/14</td>\n",
              "      <td>1829</td>\n",
              "      <td>1841</td>\n",
              "      <td>掲示板</td>\n",
              "    </tr>\n",
              "    <tr>\n",
              "      <th>20</th>\n",
              "      <td>3371</td>\n",
              "      <td>東証1部</td>\n",
              "      <td>(株)ソフトクリエイトホールディングス</td>\n",
              "      <td>11:25</td>\n",
              "      <td>2618</td>\n",
              "      <td>2020/08/12</td>\n",
              "      <td>2620</td>\n",
              "      <td>2640</td>\n",
              "      <td>掲示板</td>\n",
              "    </tr>\n",
              "    <tr>\n",
              "      <th>21</th>\n",
              "      <td>3663</td>\n",
              "      <td>東証2部</td>\n",
              "      <td>アートスパークホールディングス(株)</td>\n",
              "      <td>11:30</td>\n",
              "      <td>1450</td>\n",
              "      <td>2020/08/14</td>\n",
              "      <td>1395</td>\n",
              "      <td>1492</td>\n",
              "      <td>掲示板</td>\n",
              "    </tr>\n",
              "    <tr>\n",
              "      <th>22</th>\n",
              "      <td>3665</td>\n",
              "      <td>東証1部</td>\n",
              "      <td>(株)エニグモ</td>\n",
              "      <td>11:30</td>\n",
              "      <td>1474</td>\n",
              "      <td>2020/08/14</td>\n",
              "      <td>1463</td>\n",
              "      <td>1513</td>\n",
              "      <td>掲示板</td>\n",
              "    </tr>\n",
              "    <tr>\n",
              "      <th>23</th>\n",
              "      <td>3674</td>\n",
              "      <td>マザーズ</td>\n",
              "      <td>(株)オークファン</td>\n",
              "      <td>11:30</td>\n",
              "      <td>1183</td>\n",
              "      <td>2020/08/11</td>\n",
              "      <td>1122</td>\n",
              "      <td>1209</td>\n",
              "      <td>掲示板</td>\n",
              "    </tr>\n",
              "    <tr>\n",
              "      <th>24</th>\n",
              "      <td>3689</td>\n",
              "      <td>マザーズ</td>\n",
              "      <td>(株)イグニス</td>\n",
              "      <td>11:30</td>\n",
              "      <td>2548</td>\n",
              "      <td>2020/08/14</td>\n",
              "      <td>2561</td>\n",
              "      <td>2637</td>\n",
              "      <td>掲示板</td>\n",
              "    </tr>\n",
              "    <tr>\n",
              "      <th>25</th>\n",
              "      <td>3727</td>\n",
              "      <td>マザーズ</td>\n",
              "      <td>(株)アプリックス</td>\n",
              "      <td>11:30</td>\n",
              "      <td>372</td>\n",
              "      <td>2020/08/14</td>\n",
              "      <td>357</td>\n",
              "      <td>376</td>\n",
              "      <td>掲示板</td>\n",
              "    </tr>\n",
              "    <tr>\n",
              "      <th>26</th>\n",
              "      <td>3774</td>\n",
              "      <td>東証1部</td>\n",
              "      <td>(株)インターネットイニシアティブ</td>\n",
              "      <td>11:30</td>\n",
              "      <td>4295</td>\n",
              "      <td>2020/08/14</td>\n",
              "      <td>4235</td>\n",
              "      <td>4320</td>\n",
              "      <td>掲示板</td>\n",
              "    </tr>\n",
              "    <tr>\n",
              "      <th>27</th>\n",
              "      <td>3837</td>\n",
              "      <td>東証1部</td>\n",
              "      <td>アドソル日進(株)</td>\n",
              "      <td>11:30</td>\n",
              "      <td>2730</td>\n",
              "      <td>2020/08/14</td>\n",
              "      <td>2735</td>\n",
              "      <td>2785</td>\n",
              "      <td>掲示板</td>\n",
              "    </tr>\n",
              "    <tr>\n",
              "      <th>28</th>\n",
              "      <td>3902</td>\n",
              "      <td>東証1部</td>\n",
              "      <td>メディカル・データ・ビジョン(株)</td>\n",
              "      <td>11:30</td>\n",
              "      <td>1549</td>\n",
              "      <td>2020/08/14</td>\n",
              "      <td>1595</td>\n",
              "      <td>1610</td>\n",
              "      <td>掲示板</td>\n",
              "    </tr>\n",
              "    <tr>\n",
              "      <th>29</th>\n",
              "      <td>3904</td>\n",
              "      <td>マザーズ</td>\n",
              "      <td>(株)カヤック</td>\n",
              "      <td>11:30</td>\n",
              "      <td>986</td>\n",
              "      <td>2020/08/14</td>\n",
              "      <td>1030</td>\n",
              "      <td>1065</td>\n",
              "      <td>掲示板</td>\n",
              "    </tr>\n",
              "    <tr>\n",
              "      <th>30</th>\n",
              "      <td>3928</td>\n",
              "      <td>東証1部</td>\n",
              "      <td>(株)マイネット</td>\n",
              "      <td>11:30</td>\n",
              "      <td>1652</td>\n",
              "      <td>2020/08/14</td>\n",
              "      <td>1679</td>\n",
              "      <td>1724</td>\n",
              "      <td>掲示板</td>\n",
              "    </tr>\n",
              "    <tr>\n",
              "      <th>31</th>\n",
              "      <td>3962</td>\n",
              "      <td>東証1部</td>\n",
              "      <td>(株)チェンジ</td>\n",
              "      <td>11:30</td>\n",
              "      <td>11370</td>\n",
              "      <td>2020/08/14</td>\n",
              "      <td>11760</td>\n",
              "      <td>11790</td>\n",
              "      <td>掲示板</td>\n",
              "    </tr>\n",
              "    <tr>\n",
              "      <th>32</th>\n",
              "      <td>4055</td>\n",
              "      <td>マザーズ</td>\n",
              "      <td>ティアンドエス(株)</td>\n",
              "      <td>11:30</td>\n",
              "      <td>13020</td>\n",
              "      <td>2020/08/14</td>\n",
              "      <td>13120</td>\n",
              "      <td>13600</td>\n",
              "      <td>掲示板</td>\n",
              "    </tr>\n",
              "    <tr>\n",
              "      <th>33</th>\n",
              "      <td>4393</td>\n",
              "      <td>マザーズ</td>\n",
              "      <td>(株)バンク・オブ・イノベーション</td>\n",
              "      <td>11:30</td>\n",
              "      <td>3110</td>\n",
              "      <td>2020/08/14</td>\n",
              "      <td>3100</td>\n",
              "      <td>3160</td>\n",
              "      <td>掲示板</td>\n",
              "    </tr>\n",
              "    <tr>\n",
              "      <th>34</th>\n",
              "      <td>4435</td>\n",
              "      <td>マザーズ</td>\n",
              "      <td>(株)カオナビ</td>\n",
              "      <td>11:29</td>\n",
              "      <td>4990</td>\n",
              "      <td>2020/06/18</td>\n",
              "      <td>4970</td>\n",
              "      <td>5160</td>\n",
              "      <td>掲示板</td>\n",
              "    </tr>\n",
              "    <tr>\n",
              "      <th>35</th>\n",
              "      <td>4477</td>\n",
              "      <td>マザーズ</td>\n",
              "      <td>ＢＡＳＥ(株)</td>\n",
              "      <td>11:30</td>\n",
              "      <td>8640</td>\n",
              "      <td>2020/08/04</td>\n",
              "      <td>7620</td>\n",
              "      <td>8670</td>\n",
              "      <td>掲示板</td>\n",
              "    </tr>\n",
              "    <tr>\n",
              "      <th>36</th>\n",
              "      <td>4488</td>\n",
              "      <td>マザーズ</td>\n",
              "      <td>ＡＩ　ｉｎｓｉｄｅ(株)</td>\n",
              "      <td>11:30</td>\n",
              "      <td>40950</td>\n",
              "      <td>2020/08/14</td>\n",
              "      <td>41450</td>\n",
              "      <td>41950</td>\n",
              "      <td>掲示板</td>\n",
              "    </tr>\n",
              "    <tr>\n",
              "      <th>37</th>\n",
              "      <td>4552</td>\n",
              "      <td>東証1部</td>\n",
              "      <td>ＪＣＲファーマ(株)</td>\n",
              "      <td>11:30</td>\n",
              "      <td>12560</td>\n",
              "      <td>2020/06/03</td>\n",
              "      <td>12850</td>\n",
              "      <td>13050</td>\n",
              "      <td>掲示板</td>\n",
              "    </tr>\n",
              "    <tr>\n",
              "      <th>38</th>\n",
              "      <td>4838</td>\n",
              "      <td>東証JQS</td>\n",
              "      <td>(株)スペースシャワーネットワーク</td>\n",
              "      <td>11:30</td>\n",
              "      <td>553</td>\n",
              "      <td>2020/01/20</td>\n",
              "      <td>586</td>\n",
              "      <td>587</td>\n",
              "      <td>掲示板</td>\n",
              "    </tr>\n",
              "    <tr>\n",
              "      <th>39</th>\n",
              "      <td>5974</td>\n",
              "      <td>東証2部</td>\n",
              "      <td>中国工業(株)</td>\n",
              "      <td>11:20</td>\n",
              "      <td>524</td>\n",
              "      <td>2020/07/01</td>\n",
              "      <td>523</td>\n",
              "      <td>525</td>\n",
              "      <td>掲示板</td>\n",
              "    </tr>\n",
              "    <tr>\n",
              "      <th>40</th>\n",
              "      <td>6037</td>\n",
              "      <td>東証1部</td>\n",
              "      <td>(株)ファーストロジック</td>\n",
              "      <td>11:30</td>\n",
              "      <td>737</td>\n",
              "      <td>2020/08/14</td>\n",
              "      <td>730</td>\n",
              "      <td>743</td>\n",
              "      <td>掲示板</td>\n",
              "    </tr>\n",
              "    <tr>\n",
              "      <th>41</th>\n",
              "      <td>6082</td>\n",
              "      <td>東証1部</td>\n",
              "      <td>(株)ライドオンエクスプレスホールディングス</td>\n",
              "      <td>11:30</td>\n",
              "      <td>2929</td>\n",
              "      <td>2020/08/14</td>\n",
              "      <td>2660</td>\n",
              "      <td>3015</td>\n",
              "      <td>掲示板</td>\n",
              "    </tr>\n",
              "    <tr>\n",
              "      <th>42</th>\n",
              "      <td>6095</td>\n",
              "      <td>マザーズ</td>\n",
              "      <td>メドピア(株)</td>\n",
              "      <td>11:30</td>\n",
              "      <td>4155</td>\n",
              "      <td>2020/08/14</td>\n",
              "      <td>4460</td>\n",
              "      <td>4670</td>\n",
              "      <td>掲示板</td>\n",
              "    </tr>\n",
              "    <tr>\n",
              "      <th>43</th>\n",
              "      <td>6099</td>\n",
              "      <td>東証1部</td>\n",
              "      <td>(株)エラン</td>\n",
              "      <td>11:30</td>\n",
              "      <td>2300</td>\n",
              "      <td>2020/08/14</td>\n",
              "      <td>2204</td>\n",
              "      <td>2308</td>\n",
              "      <td>掲示板</td>\n",
              "    </tr>\n",
              "    <tr>\n",
              "      <th>44</th>\n",
              "      <td>6131</td>\n",
              "      <td>東証2部</td>\n",
              "      <td>浜井産業(株)</td>\n",
              "      <td>11:30</td>\n",
              "      <td>1001</td>\n",
              "      <td>2020/08/14</td>\n",
              "      <td>949</td>\n",
              "      <td>1048</td>\n",
              "      <td>掲示板</td>\n",
              "    </tr>\n",
              "    <tr>\n",
              "      <th>45</th>\n",
              "      <td>6195</td>\n",
              "      <td>マザーズ</td>\n",
              "      <td>(株)ホープ</td>\n",
              "      <td>11:30</td>\n",
              "      <td>5380</td>\n",
              "      <td>2020/08/13</td>\n",
              "      <td>5350</td>\n",
              "      <td>5650</td>\n",
              "      <td>掲示板</td>\n",
              "    </tr>\n",
              "    <tr>\n",
              "      <th>46</th>\n",
              "      <td>6240</td>\n",
              "      <td>東証1部</td>\n",
              "      <td>ヤマシンフィルタ(株)</td>\n",
              "      <td>11:30</td>\n",
              "      <td>1153</td>\n",
              "      <td>2020/08/14</td>\n",
              "      <td>1155</td>\n",
              "      <td>1180</td>\n",
              "      <td>掲示板</td>\n",
              "    </tr>\n",
              "    <tr>\n",
              "      <th>47</th>\n",
              "      <td>6305</td>\n",
              "      <td>東証1部</td>\n",
              "      <td>日立建機(株)</td>\n",
              "      <td>11:30</td>\n",
              "      <td>3500</td>\n",
              "      <td>2020/08/14</td>\n",
              "      <td>3490</td>\n",
              "      <td>3520</td>\n",
              "      <td>掲示板</td>\n",
              "    </tr>\n",
              "    <tr>\n",
              "      <th>48</th>\n",
              "      <td>6445</td>\n",
              "      <td>東証1部</td>\n",
              "      <td>蛇の目ミシン工業(株)</td>\n",
              "      <td>11:30</td>\n",
              "      <td>608</td>\n",
              "      <td>2020/08/11</td>\n",
              "      <td>643</td>\n",
              "      <td>649</td>\n",
              "      <td>掲示板</td>\n",
              "    </tr>\n",
              "    <tr>\n",
              "      <th>49</th>\n",
              "      <td>6549</td>\n",
              "      <td>東証JQS</td>\n",
              "      <td>ディーエムソリューションズ(株)</td>\n",
              "      <td>11:30</td>\n",
              "      <td>1318</td>\n",
              "      <td>2020/08/14</td>\n",
              "      <td>1355</td>\n",
              "      <td>1367</td>\n",
              "      <td>掲示板</td>\n",
              "    </tr>\n",
              "    <tr>\n",
              "      <th>50</th>\n",
              "      <td>コード</td>\n",
              "      <td>市場</td>\n",
              "      <td>名称</td>\n",
              "      <td>取引値</td>\n",
              "      <td>取引値</td>\n",
              "      <td>前営業日までの年初来高値</td>\n",
              "      <td>前営業日までの年初来高値</td>\n",
              "      <td>高値</td>\n",
              "      <td>掲示板</td>\n",
              "    </tr>\n",
              "  </tbody>\n",
              "</table>\n",
              "</div>"
            ],
            "text/plain": [
              "     コード     市場                      名称  ... 前営業日までの年初来高値.1     高値  掲示板\n",
              "0   1407  東証JQS         (株)ウエストホールディングス  ...           2611   2659  掲示板\n",
              "1   1870   東証1部               矢作建設工業(株)  ...            876    879  掲示板\n",
              "2   2004   東証1部                 昭和産業(株)  ...           3510   3515  掲示板\n",
              "3   2148   東証1部             アイティメディア(株)  ...           2557   2664  掲示板\n",
              "4   2150   マザーズ                (株)ケアネット  ...           2327   2558  掲示板\n",
              "5   2178   マザーズ              (株)トライステージ  ...            427    430  掲示板\n",
              "6   2209   東証1部              井村屋グループ(株)  ...           2439   2445  掲示板\n",
              "7   2264   東証1部                 森永乳業(株)  ...           5080   5120  掲示板\n",
              "8   2352   東証1部                 (株)エイジア  ...           1847   1850  掲示板\n",
              "9   2374   東証1部        セントケア・ホールディング(株)  ...            495    498  掲示板\n",
              "10  2385   マザーズ          (株)総医研ホールディングス  ...            620    621  掲示板\n",
              "11  2388  東証JQG         (株)ウェッジホールディングス  ...            161    164  掲示板\n",
              "12  2669  東証JQS                カネ美食品(株)  ...           3245   3250  掲示板\n",
              "13  2805   東証2部               ヱスビー食品(株)  ...           4795   4850  掲示板\n",
              "14  2883   東証1部                   (株)大冷  ...           2119   2147  掲示板\n",
              "15  3182   東証1部          オイシックス・ラ・大地(株)  ...           2649   3065  掲示板\n",
              "16  3195   マザーズ           (株)ジェネレーションパス  ...           1226   1238  掲示板\n",
              "17  3199   東証1部           綿半ホールディングス(株)  ...           2346   2382  掲示板\n",
              "18  3328   東証1部               ＢＥＥＮＯＳ(株)  ...           1394   1419  掲示板\n",
              "19  3333   東証1部                  (株)あさひ  ...           1829   1841  掲示板\n",
              "20  3371   東証1部     (株)ソフトクリエイトホールディングス  ...           2620   2640  掲示板\n",
              "21  3663   東証2部      アートスパークホールディングス(株)  ...           1395   1492  掲示板\n",
              "22  3665   東証1部                 (株)エニグモ  ...           1463   1513  掲示板\n",
              "23  3674   マザーズ               (株)オークファン  ...           1122   1209  掲示板\n",
              "24  3689   マザーズ                 (株)イグニス  ...           2561   2637  掲示板\n",
              "25  3727   マザーズ               (株)アプリックス  ...            357    376  掲示板\n",
              "26  3774   東証1部       (株)インターネットイニシアティブ  ...           4235   4320  掲示板\n",
              "27  3837   東証1部               アドソル日進(株)  ...           2735   2785  掲示板\n",
              "28  3902   東証1部       メディカル・データ・ビジョン(株)  ...           1595   1610  掲示板\n",
              "29  3904   マザーズ                 (株)カヤック  ...           1030   1065  掲示板\n",
              "30  3928   東証1部                (株)マイネット  ...           1679   1724  掲示板\n",
              "31  3962   東証1部                 (株)チェンジ  ...          11760  11790  掲示板\n",
              "32  4055   マザーズ              ティアンドエス(株)  ...          13120  13600  掲示板\n",
              "33  4393   マザーズ       (株)バンク・オブ・イノベーション  ...           3100   3160  掲示板\n",
              "34  4435   マザーズ                 (株)カオナビ  ...           4970   5160  掲示板\n",
              "35  4477   マザーズ                 ＢＡＳＥ(株)  ...           7620   8670  掲示板\n",
              "36  4488   マザーズ            ＡＩ　ｉｎｓｉｄｅ(株)  ...          41450  41950  掲示板\n",
              "37  4552   東証1部              ＪＣＲファーマ(株)  ...          12850  13050  掲示板\n",
              "38  4838  東証JQS       (株)スペースシャワーネットワーク  ...            586    587  掲示板\n",
              "39  5974   東証2部                 中国工業(株)  ...            523    525  掲示板\n",
              "40  6037   東証1部            (株)ファーストロジック  ...            730    743  掲示板\n",
              "41  6082   東証1部  (株)ライドオンエクスプレスホールディングス  ...           2660   3015  掲示板\n",
              "42  6095   マザーズ                 メドピア(株)  ...           4460   4670  掲示板\n",
              "43  6099   東証1部                  (株)エラン  ...           2204   2308  掲示板\n",
              "44  6131   東証2部                 浜井産業(株)  ...            949   1048  掲示板\n",
              "45  6195   マザーズ                  (株)ホープ  ...           5350   5650  掲示板\n",
              "46  6240   東証1部             ヤマシンフィルタ(株)  ...           1155   1180  掲示板\n",
              "47  6305   東証1部                 日立建機(株)  ...           3490   3520  掲示板\n",
              "48  6445   東証1部             蛇の目ミシン工業(株)  ...            643    649  掲示板\n",
              "49  6549  東証JQS        ディーエムソリューションズ(株)  ...           1355   1367  掲示板\n",
              "50   コード     市場                      名称  ...   前営業日までの年初来高値     高値  掲示板\n",
              "\n",
              "[51 rows x 9 columns]"
            ]
          },
          "metadata": {
            "tags": []
          },
          "execution_count": 39
        }
      ]
    },
    {
      "cell_type": "markdown",
      "metadata": {
        "id": "5UKr85_iS_E1",
        "colab_type": "text"
      },
      "source": [
        "## SQLを読み込む"
      ]
    },
    {
      "cell_type": "code",
      "metadata": {
        "id": "74p0QV2XS-G3",
        "colab_type": "code",
        "colab": {}
      },
      "source": [
        "import sqlite3"
      ],
      "execution_count": 40,
      "outputs": []
    },
    {
      "cell_type": "code",
      "metadata": {
        "id": "KBEe9bEfTEhZ",
        "colab_type": "code",
        "colab": {
          "base_uri": "https://localhost:8080/",
          "height": 308
        },
        "outputId": "70367fa1-76ef-4ee9-9df1-ad252d34ce23"
      },
      "source": [
        "!wget https://github.com/hannari-python/tutorial/raw/master/data/japan-trade-statistics/codes.db"
      ],
      "execution_count": 42,
      "outputs": [
        {
          "output_type": "stream",
          "text": [
            "--2020-08-17 02:46:27--  https://github.com/hannari-python/tutorial/raw/master/data/japan-trade-statistics/codes.db\n",
            "Resolving github.com (github.com)... 140.82.112.4\n",
            "Connecting to github.com (github.com)|140.82.112.4|:443... connected.\n",
            "HTTP request sent, awaiting response... 302 Found\n",
            "Location: https://raw.githubusercontent.com/hannari-python/tutorial/master/data/japan-trade-statistics/codes.db [following]\n",
            "--2020-08-17 02:46:28--  https://raw.githubusercontent.com/hannari-python/tutorial/master/data/japan-trade-statistics/codes.db\n",
            "Resolving raw.githubusercontent.com (raw.githubusercontent.com)... 151.101.0.133, 151.101.64.133, 151.101.128.133, ...\n",
            "Connecting to raw.githubusercontent.com (raw.githubusercontent.com)|151.101.0.133|:443... connected.\n",
            "HTTP request sent, awaiting response... 200 OK\n",
            "Length: 3239936 (3.1M) [application/octet-stream]\n",
            "Saving to: ‘codes.db.1’\n",
            "\n",
            "codes.db.1          100%[===================>]   3.09M  11.3MB/s    in 0.3s    \n",
            "\n",
            "2020-08-17 02:46:28 (11.3 MB/s) - ‘codes.db.1’ saved [3239936/3239936]\n",
            "\n"
          ],
          "name": "stdout"
        }
      ]
    },
    {
      "cell_type": "code",
      "metadata": {
        "id": "FYZLpVmcTEns",
        "colab_type": "code",
        "colab": {
          "base_uri": "https://localhost:8080/",
          "height": 255
        },
        "outputId": "0eea3723-1458-4b3e-b8a3-318dcb667aad"
      },
      "source": [
        "#sqlite3を使ってDBに接続\n",
        "conn = sqlite3.connect('/content/codes.db')\n",
        "cursor = conn.cursor()\n",
        "\n",
        "\n",
        "# DB内のすべてのtableを調べる\n",
        "sql = 'select * from sqlite_master where type=\"table\"'\n",
        "cursor.execute(sql)\n",
        "\n",
        "for i in cursor.fetchall():\n",
        "  print(i)\n",
        "conn.close()"
      ],
      "execution_count": 52,
      "outputs": [
        {
          "output_type": "stream",
          "text": [
            "('table', 'country_jpn', 'country_jpn', 2, 'CREATE TABLE \"country_jpn\" (\\n\"Country\" TEXT,\\n  \"Country_name\" TEXT,\\n  \"Area\" TEXT\\n)')\n",
            "('table', 'hs2_jpn', 'hs2_jpn', 7, 'CREATE TABLE \"hs2_jpn\" (\\n\"hs2\" TEXT,\\n  \"hs2_name\" TEXT\\n)')\n",
            "('table', 'hs2_eng', 'hs2_eng', 10, 'CREATE TABLE \"hs2_eng\" (\\n\"hs2\" TEXT,\\n  \"hs2_name\" TEXT\\n)')\n",
            "('table', 'hs4_eng', 'hs4_eng', 77, 'CREATE TABLE \"hs4_eng\" (\\n\"hs4\" TEXT,\\n  \"hs4_name\" TEXT\\n)')\n",
            "('table', 'hs6_jpn', 'hs6_jpn', 118, 'CREATE TABLE \"hs6_jpn\" (\\n\"hs6\" TEXT,\\n  \"hs6_name\" TEXT\\n)')\n",
            "('table', 'hs6_eng', 'hs6_eng', 241, 'CREATE TABLE \"hs6_eng\" (\\n\"hs6\" TEXT,\\n  \"hs6_name\" TEXT\\n)')\n",
            "('table', 'hs9_jpn', 'hs9_jpn', 304, 'CREATE TABLE \"hs9_jpn\" (\\n\"hs9\" TEXT,\\n  \"hs9_name\" TEXT\\n)')\n",
            "('table', 'hs9_eng', 'hs9_eng', 512, 'CREATE TABLE \"hs9_eng\" (\\n\"hs9\" TEXT,\\n  \"hs9_name\" TEXT\\n)')\n",
            "('table', 'country_eng', 'country_eng', 685, 'CREATE TABLE \"country_eng\" (\\n\"Country\" TEXT,\\n  \"Country_name\" TEXT,\\n  \"Area\" TEXT\\n)')\n",
            "('table', 'hs4_jpn', 'hs4_jpn', 13, 'CREATE TABLE \"hs4_jpn\" (\\n\"hs4\" TEXT,\\n  \"hs4_name\" TEXT\\n)')\n",
            "('table', 'custom_tmp', 'custom_tmp', 782, 'CREATE TABLE \"custom_tmp\" (\\n\\t`Custom`\\tTEXT,\\n\\t`custom_name`\\tTEXT,\\n\\t`region`\\tTEXT,\\n\\tPRIMARY KEY(`Custom`)\\n)')\n",
            "('table', 'custom', 'custom', 788, 'CREATE TABLE \"custom\" (\\n\\t`Custom`\\ttext,\\n\\t`custom_name`\\ttext,\\n\\t`pref`\\ttext,\\n\\tPRIMARY KEY(`Custom`)\\n)')\n"
          ],
          "name": "stdout"
        }
      ]
    },
    {
      "cell_type": "code",
      "metadata": {
        "id": "MRyypWl5TEyE",
        "colab_type": "code",
        "colab": {}
      },
      "source": [
        "# 次に見たいテーブル名を指定して、データを読み込みます\n",
        "conn = sqlite3.connect('/content/codes.db')\n",
        "sql = 'select * from hs4_jpn'\n",
        "df = pd.read_sql(sql, conn)\n",
        "\n",
        "conn.close()\n"
      ],
      "execution_count": 55,
      "outputs": []
    },
    {
      "cell_type": "code",
      "metadata": {
        "id": "kOMLskDkV6xO",
        "colab_type": "code",
        "colab": {
          "base_uri": "https://localhost:8080/",
          "height": 198
        },
        "outputId": "94a4b32c-3d66-4eb2-d737-2ec56cbbbccc"
      },
      "source": [
        "df.head()"
      ],
      "execution_count": 56,
      "outputs": [
        {
          "output_type": "execute_result",
          "data": {
            "text/html": [
              "<div>\n",
              "<style scoped>\n",
              "    .dataframe tbody tr th:only-of-type {\n",
              "        vertical-align: middle;\n",
              "    }\n",
              "\n",
              "    .dataframe tbody tr th {\n",
              "        vertical-align: top;\n",
              "    }\n",
              "\n",
              "    .dataframe thead th {\n",
              "        text-align: right;\n",
              "    }\n",
              "</style>\n",
              "<table border=\"1\" class=\"dataframe\">\n",
              "  <thead>\n",
              "    <tr style=\"text-align: right;\">\n",
              "      <th></th>\n",
              "      <th>hs4</th>\n",
              "      <th>hs4_name</th>\n",
              "    </tr>\n",
              "  </thead>\n",
              "  <tbody>\n",
              "    <tr>\n",
              "      <th>0</th>\n",
              "      <td>0000</td>\n",
              "      <td>再輸出入品</td>\n",
              "    </tr>\n",
              "    <tr>\n",
              "      <th>1</th>\n",
              "      <td>0101</td>\n",
              "      <td>馬、ろ馬、ら馬及びヒニー（生きているものに限る。）</td>\n",
              "    </tr>\n",
              "    <tr>\n",
              "      <th>2</th>\n",
              "      <td>0102</td>\n",
              "      <td>牛（生きているものに限る。）</td>\n",
              "    </tr>\n",
              "    <tr>\n",
              "      <th>3</th>\n",
              "      <td>0103</td>\n",
              "      <td>豚（生きているものに限る。）</td>\n",
              "    </tr>\n",
              "    <tr>\n",
              "      <th>4</th>\n",
              "      <td>0104</td>\n",
              "      <td>羊及びやぎ（生きているものに限る。）</td>\n",
              "    </tr>\n",
              "  </tbody>\n",
              "</table>\n",
              "</div>"
            ],
            "text/plain": [
              "    hs4                   hs4_name\n",
              "0  0000                      再輸出入品\n",
              "1  0101  馬、ろ馬、ら馬及びヒニー（生きているものに限る。）\n",
              "2  0102             牛（生きているものに限る。）\n",
              "3  0103             豚（生きているものに限る。）\n",
              "4  0104         羊及びやぎ（生きているものに限る。）"
            ]
          },
          "metadata": {
            "tags": []
          },
          "execution_count": 56
        }
      ]
    },
    {
      "cell_type": "markdown",
      "metadata": {
        "id": "aj5GmwOE_-eU",
        "colab_type": "text"
      },
      "source": [
        "# データを観察する"
      ]
    },
    {
      "cell_type": "markdown",
      "metadata": {
        "id": "NafgCjKXAWKT",
        "colab_type": "text"
      },
      "source": [
        "## 概要を観察する\n",
        "- 先頭行を観察するheadメソッド\n",
        "- 最終行を観察するtailメソッド\n",
        "- データの大まかな統計値を観察するdescribeメソッド\n",
        "- データのインデックスやコラムのデータ型や数値でないデータの情報を得られるinfoメソッド\n",
        "- データの行列数を確認するshape属性"
      ]
    },
    {
      "cell_type": "code",
      "metadata": {
        "id": "FZCVakeb-pcK",
        "colab_type": "code",
        "colab": {
          "base_uri": "https://localhost:8080/",
          "height": 319
        },
        "outputId": "baa33ba8-d3bc-4509-d52c-763f7b36fc6d"
      },
      "source": [
        "df_fukuoka_covid.head()"
      ],
      "execution_count": null,
      "outputs": [
        {
          "output_type": "execute_result",
          "data": {
            "text/html": [
              "<div>\n",
              "<style scoped>\n",
              "    .dataframe tbody tr th:only-of-type {\n",
              "        vertical-align: middle;\n",
              "    }\n",
              "\n",
              "    .dataframe tbody tr th {\n",
              "        vertical-align: top;\n",
              "    }\n",
              "\n",
              "    .dataframe thead th {\n",
              "        text-align: right;\n",
              "    }\n",
              "</style>\n",
              "<table border=\"1\" class=\"dataframe\">\n",
              "  <thead>\n",
              "    <tr style=\"text-align: right;\">\n",
              "      <th></th>\n",
              "      <th>No</th>\n",
              "      <th>全国地方公共団体コード</th>\n",
              "      <th>都道府県名</th>\n",
              "      <th>市区町村名</th>\n",
              "      <th>公表_年月日</th>\n",
              "      <th>曜日</th>\n",
              "      <th>発症_年月日</th>\n",
              "      <th>居住地</th>\n",
              "      <th>年代</th>\n",
              "      <th>性別</th>\n",
              "      <th>患者_属性</th>\n",
              "      <th>患者_状態</th>\n",
              "      <th>患者_症状</th>\n",
              "      <th>患者_渡航歴の有無フラグ</th>\n",
              "      <th>備考</th>\n",
              "      <th>退院済フラグ</th>\n",
              "    </tr>\n",
              "  </thead>\n",
              "  <tbody>\n",
              "    <tr>\n",
              "      <th>0</th>\n",
              "      <td>1</td>\n",
              "      <td>401307</td>\n",
              "      <td>福岡県</td>\n",
              "      <td>福岡市</td>\n",
              "      <td>2020/2/20</td>\n",
              "      <td>木</td>\n",
              "      <td>NaN</td>\n",
              "      <td>福岡市中央区</td>\n",
              "      <td>60代</td>\n",
              "      <td>男性</td>\n",
              "      <td>NaN</td>\n",
              "      <td>NaN</td>\n",
              "      <td>NaN</td>\n",
              "      <td>NaN</td>\n",
              "      <td>NaN</td>\n",
              "      <td>NaN</td>\n",
              "    </tr>\n",
              "    <tr>\n",
              "      <th>1</th>\n",
              "      <td>2</td>\n",
              "      <td>401307</td>\n",
              "      <td>福岡県</td>\n",
              "      <td>福岡市</td>\n",
              "      <td>2020/2/20</td>\n",
              "      <td>木</td>\n",
              "      <td>NaN</td>\n",
              "      <td>福岡市中央区</td>\n",
              "      <td>60代</td>\n",
              "      <td>女性</td>\n",
              "      <td>NaN</td>\n",
              "      <td>NaN</td>\n",
              "      <td>NaN</td>\n",
              "      <td>NaN</td>\n",
              "      <td>NaN</td>\n",
              "      <td>NaN</td>\n",
              "    </tr>\n",
              "    <tr>\n",
              "      <th>2</th>\n",
              "      <td>3</td>\n",
              "      <td>401307</td>\n",
              "      <td>福岡県</td>\n",
              "      <td>福岡市</td>\n",
              "      <td>2020/3/17</td>\n",
              "      <td>火</td>\n",
              "      <td>NaN</td>\n",
              "      <td>福岡市南区</td>\n",
              "      <td>30代</td>\n",
              "      <td>女性</td>\n",
              "      <td>NaN</td>\n",
              "      <td>NaN</td>\n",
              "      <td>NaN</td>\n",
              "      <td>1.0</td>\n",
              "      <td>NaN</td>\n",
              "      <td>NaN</td>\n",
              "    </tr>\n",
              "    <tr>\n",
              "      <th>3</th>\n",
              "      <td>4</td>\n",
              "      <td>401307</td>\n",
              "      <td>福岡県</td>\n",
              "      <td>福岡市</td>\n",
              "      <td>2020/3/24</td>\n",
              "      <td>火</td>\n",
              "      <td>NaN</td>\n",
              "      <td>福岡市早良区</td>\n",
              "      <td>40代</td>\n",
              "      <td>男性</td>\n",
              "      <td>NaN</td>\n",
              "      <td>NaN</td>\n",
              "      <td>NaN</td>\n",
              "      <td>NaN</td>\n",
              "      <td>NaN</td>\n",
              "      <td>NaN</td>\n",
              "    </tr>\n",
              "    <tr>\n",
              "      <th>4</th>\n",
              "      <td>5</td>\n",
              "      <td>401307</td>\n",
              "      <td>福岡県</td>\n",
              "      <td>福岡市</td>\n",
              "      <td>2020/3/26</td>\n",
              "      <td>木</td>\n",
              "      <td>NaN</td>\n",
              "      <td>福岡市東区</td>\n",
              "      <td>50代</td>\n",
              "      <td>男性</td>\n",
              "      <td>NaN</td>\n",
              "      <td>NaN</td>\n",
              "      <td>NaN</td>\n",
              "      <td>NaN</td>\n",
              "      <td>NaN</td>\n",
              "      <td>NaN</td>\n",
              "    </tr>\n",
              "  </tbody>\n",
              "</table>\n",
              "</div>"
            ],
            "text/plain": [
              "   No  全国地方公共団体コード 都道府県名 市区町村名  ... 患者_症状 患者_渡航歴の有無フラグ  備考 退院済フラグ\n",
              "0   1       401307   福岡県   福岡市  ...   NaN          NaN NaN    NaN\n",
              "1   2       401307   福岡県   福岡市  ...   NaN          NaN NaN    NaN\n",
              "2   3       401307   福岡県   福岡市  ...   NaN          1.0 NaN    NaN\n",
              "3   4       401307   福岡県   福岡市  ...   NaN          NaN NaN    NaN\n",
              "4   5       401307   福岡県   福岡市  ...   NaN          NaN NaN    NaN\n",
              "\n",
              "[5 rows x 16 columns]"
            ]
          },
          "metadata": {
            "tags": []
          },
          "execution_count": 96
        }
      ]
    },
    {
      "cell_type": "code",
      "metadata": {
        "id": "QuRrpvk2ATYZ",
        "colab_type": "code",
        "colab": {
          "base_uri": "https://localhost:8080/",
          "height": 319
        },
        "outputId": "a268a344-c45b-421f-f73a-f524e27e710b"
      },
      "source": [
        "df_fukuoka_covid.tail()"
      ],
      "execution_count": null,
      "outputs": [
        {
          "output_type": "execute_result",
          "data": {
            "text/html": [
              "<div>\n",
              "<style scoped>\n",
              "    .dataframe tbody tr th:only-of-type {\n",
              "        vertical-align: middle;\n",
              "    }\n",
              "\n",
              "    .dataframe tbody tr th {\n",
              "        vertical-align: top;\n",
              "    }\n",
              "\n",
              "    .dataframe thead th {\n",
              "        text-align: right;\n",
              "    }\n",
              "</style>\n",
              "<table border=\"1\" class=\"dataframe\">\n",
              "  <thead>\n",
              "    <tr style=\"text-align: right;\">\n",
              "      <th></th>\n",
              "      <th>No</th>\n",
              "      <th>全国地方公共団体コード</th>\n",
              "      <th>都道府県名</th>\n",
              "      <th>市区町村名</th>\n",
              "      <th>公表_年月日</th>\n",
              "      <th>曜日</th>\n",
              "      <th>発症_年月日</th>\n",
              "      <th>居住地</th>\n",
              "      <th>年代</th>\n",
              "      <th>性別</th>\n",
              "      <th>患者_属性</th>\n",
              "      <th>患者_状態</th>\n",
              "      <th>患者_症状</th>\n",
              "      <th>患者_渡航歴の有無フラグ</th>\n",
              "      <th>備考</th>\n",
              "      <th>退院済フラグ</th>\n",
              "    </tr>\n",
              "  </thead>\n",
              "  <tbody>\n",
              "    <tr>\n",
              "      <th>1975</th>\n",
              "      <td>1981</td>\n",
              "      <td>401307</td>\n",
              "      <td>福岡県</td>\n",
              "      <td>福岡市</td>\n",
              "      <td>2020/8/14</td>\n",
              "      <td>金</td>\n",
              "      <td>NaN</td>\n",
              "      <td>福岡市中央区</td>\n",
              "      <td>50代</td>\n",
              "      <td>女性</td>\n",
              "      <td>NaN</td>\n",
              "      <td>NaN</td>\n",
              "      <td>NaN</td>\n",
              "      <td>NaN</td>\n",
              "      <td>NaN</td>\n",
              "      <td>NaN</td>\n",
              "    </tr>\n",
              "    <tr>\n",
              "      <th>1976</th>\n",
              "      <td>1982</td>\n",
              "      <td>401307</td>\n",
              "      <td>福岡県</td>\n",
              "      <td>福岡市</td>\n",
              "      <td>2020/8/14</td>\n",
              "      <td>金</td>\n",
              "      <td>NaN</td>\n",
              "      <td>調査中</td>\n",
              "      <td>50代</td>\n",
              "      <td>男性</td>\n",
              "      <td>NaN</td>\n",
              "      <td>NaN</td>\n",
              "      <td>NaN</td>\n",
              "      <td>NaN</td>\n",
              "      <td>NaN</td>\n",
              "      <td>NaN</td>\n",
              "    </tr>\n",
              "    <tr>\n",
              "      <th>1977</th>\n",
              "      <td>1983</td>\n",
              "      <td>401307</td>\n",
              "      <td>福岡県</td>\n",
              "      <td>福岡市</td>\n",
              "      <td>2020/8/14</td>\n",
              "      <td>金</td>\n",
              "      <td>NaN</td>\n",
              "      <td>調査中</td>\n",
              "      <td>30代</td>\n",
              "      <td>男性</td>\n",
              "      <td>NaN</td>\n",
              "      <td>NaN</td>\n",
              "      <td>NaN</td>\n",
              "      <td>NaN</td>\n",
              "      <td>NaN</td>\n",
              "      <td>NaN</td>\n",
              "    </tr>\n",
              "    <tr>\n",
              "      <th>1978</th>\n",
              "      <td>1984</td>\n",
              "      <td>401307</td>\n",
              "      <td>福岡県</td>\n",
              "      <td>福岡市</td>\n",
              "      <td>2020/8/14</td>\n",
              "      <td>金</td>\n",
              "      <td>NaN</td>\n",
              "      <td>福岡市中央区</td>\n",
              "      <td>20代</td>\n",
              "      <td>女性</td>\n",
              "      <td>NaN</td>\n",
              "      <td>NaN</td>\n",
              "      <td>NaN</td>\n",
              "      <td>NaN</td>\n",
              "      <td>NaN</td>\n",
              "      <td>NaN</td>\n",
              "    </tr>\n",
              "    <tr>\n",
              "      <th>1979</th>\n",
              "      <td>1985</td>\n",
              "      <td>401307</td>\n",
              "      <td>福岡県</td>\n",
              "      <td>福岡市</td>\n",
              "      <td>2020/8/14</td>\n",
              "      <td>金</td>\n",
              "      <td>NaN</td>\n",
              "      <td>福岡市中央区</td>\n",
              "      <td>40代</td>\n",
              "      <td>女性</td>\n",
              "      <td>NaN</td>\n",
              "      <td>NaN</td>\n",
              "      <td>NaN</td>\n",
              "      <td>NaN</td>\n",
              "      <td>NaN</td>\n",
              "      <td>NaN</td>\n",
              "    </tr>\n",
              "  </tbody>\n",
              "</table>\n",
              "</div>"
            ],
            "text/plain": [
              "        No  全国地方公共団体コード 都道府県名 市区町村名  ... 患者_症状 患者_渡航歴の有無フラグ  備考 退院済フラグ\n",
              "1975  1981       401307   福岡県   福岡市  ...   NaN          NaN NaN    NaN\n",
              "1976  1982       401307   福岡県   福岡市  ...   NaN          NaN NaN    NaN\n",
              "1977  1983       401307   福岡県   福岡市  ...   NaN          NaN NaN    NaN\n",
              "1978  1984       401307   福岡県   福岡市  ...   NaN          NaN NaN    NaN\n",
              "1979  1985       401307   福岡県   福岡市  ...   NaN          NaN NaN    NaN\n",
              "\n",
              "[5 rows x 16 columns]"
            ]
          },
          "metadata": {
            "tags": []
          },
          "execution_count": 97
        }
      ]
    },
    {
      "cell_type": "code",
      "metadata": {
        "id": "s29enTSkAeyC",
        "colab_type": "code",
        "colab": {
          "base_uri": "https://localhost:8080/",
          "height": 792
        },
        "outputId": "e929fac2-cf99-41af-d014-5c5230c8daa8"
      },
      "source": [
        "# 行数を変える場合引数nに値を渡す（初期値は5）\n",
        "df_fukuoka_covid.head(15)"
      ],
      "execution_count": null,
      "outputs": [
        {
          "output_type": "execute_result",
          "data": {
            "text/html": [
              "<div>\n",
              "<style scoped>\n",
              "    .dataframe tbody tr th:only-of-type {\n",
              "        vertical-align: middle;\n",
              "    }\n",
              "\n",
              "    .dataframe tbody tr th {\n",
              "        vertical-align: top;\n",
              "    }\n",
              "\n",
              "    .dataframe thead th {\n",
              "        text-align: right;\n",
              "    }\n",
              "</style>\n",
              "<table border=\"1\" class=\"dataframe\">\n",
              "  <thead>\n",
              "    <tr style=\"text-align: right;\">\n",
              "      <th></th>\n",
              "      <th>No</th>\n",
              "      <th>全国地方公共団体コード</th>\n",
              "      <th>都道府県名</th>\n",
              "      <th>市区町村名</th>\n",
              "      <th>公表_年月日</th>\n",
              "      <th>曜日</th>\n",
              "      <th>発症_年月日</th>\n",
              "      <th>居住地</th>\n",
              "      <th>年代</th>\n",
              "      <th>性別</th>\n",
              "      <th>患者_属性</th>\n",
              "      <th>患者_状態</th>\n",
              "      <th>患者_症状</th>\n",
              "      <th>患者_渡航歴の有無フラグ</th>\n",
              "      <th>備考</th>\n",
              "      <th>退院済フラグ</th>\n",
              "    </tr>\n",
              "  </thead>\n",
              "  <tbody>\n",
              "    <tr>\n",
              "      <th>0</th>\n",
              "      <td>1</td>\n",
              "      <td>401307</td>\n",
              "      <td>福岡県</td>\n",
              "      <td>福岡市</td>\n",
              "      <td>2020/2/20</td>\n",
              "      <td>木</td>\n",
              "      <td>NaN</td>\n",
              "      <td>福岡市中央区</td>\n",
              "      <td>60代</td>\n",
              "      <td>男性</td>\n",
              "      <td>NaN</td>\n",
              "      <td>NaN</td>\n",
              "      <td>NaN</td>\n",
              "      <td>NaN</td>\n",
              "      <td>NaN</td>\n",
              "      <td>NaN</td>\n",
              "    </tr>\n",
              "    <tr>\n",
              "      <th>1</th>\n",
              "      <td>2</td>\n",
              "      <td>401307</td>\n",
              "      <td>福岡県</td>\n",
              "      <td>福岡市</td>\n",
              "      <td>2020/2/20</td>\n",
              "      <td>木</td>\n",
              "      <td>NaN</td>\n",
              "      <td>福岡市中央区</td>\n",
              "      <td>60代</td>\n",
              "      <td>女性</td>\n",
              "      <td>NaN</td>\n",
              "      <td>NaN</td>\n",
              "      <td>NaN</td>\n",
              "      <td>NaN</td>\n",
              "      <td>NaN</td>\n",
              "      <td>NaN</td>\n",
              "    </tr>\n",
              "    <tr>\n",
              "      <th>2</th>\n",
              "      <td>3</td>\n",
              "      <td>401307</td>\n",
              "      <td>福岡県</td>\n",
              "      <td>福岡市</td>\n",
              "      <td>2020/3/17</td>\n",
              "      <td>火</td>\n",
              "      <td>NaN</td>\n",
              "      <td>福岡市南区</td>\n",
              "      <td>30代</td>\n",
              "      <td>女性</td>\n",
              "      <td>NaN</td>\n",
              "      <td>NaN</td>\n",
              "      <td>NaN</td>\n",
              "      <td>1.0</td>\n",
              "      <td>NaN</td>\n",
              "      <td>NaN</td>\n",
              "    </tr>\n",
              "    <tr>\n",
              "      <th>3</th>\n",
              "      <td>4</td>\n",
              "      <td>401307</td>\n",
              "      <td>福岡県</td>\n",
              "      <td>福岡市</td>\n",
              "      <td>2020/3/24</td>\n",
              "      <td>火</td>\n",
              "      <td>NaN</td>\n",
              "      <td>福岡市早良区</td>\n",
              "      <td>40代</td>\n",
              "      <td>男性</td>\n",
              "      <td>NaN</td>\n",
              "      <td>NaN</td>\n",
              "      <td>NaN</td>\n",
              "      <td>NaN</td>\n",
              "      <td>NaN</td>\n",
              "      <td>NaN</td>\n",
              "    </tr>\n",
              "    <tr>\n",
              "      <th>4</th>\n",
              "      <td>5</td>\n",
              "      <td>401307</td>\n",
              "      <td>福岡県</td>\n",
              "      <td>福岡市</td>\n",
              "      <td>2020/3/26</td>\n",
              "      <td>木</td>\n",
              "      <td>NaN</td>\n",
              "      <td>福岡市東区</td>\n",
              "      <td>50代</td>\n",
              "      <td>男性</td>\n",
              "      <td>NaN</td>\n",
              "      <td>NaN</td>\n",
              "      <td>NaN</td>\n",
              "      <td>NaN</td>\n",
              "      <td>NaN</td>\n",
              "      <td>NaN</td>\n",
              "    </tr>\n",
              "    <tr>\n",
              "      <th>5</th>\n",
              "      <td>6</td>\n",
              "      <td>401307</td>\n",
              "      <td>福岡県</td>\n",
              "      <td>福岡市</td>\n",
              "      <td>2020/3/26</td>\n",
              "      <td>木</td>\n",
              "      <td>NaN</td>\n",
              "      <td>福岡市城南区</td>\n",
              "      <td>20代</td>\n",
              "      <td>男性</td>\n",
              "      <td>NaN</td>\n",
              "      <td>NaN</td>\n",
              "      <td>NaN</td>\n",
              "      <td>NaN</td>\n",
              "      <td>NaN</td>\n",
              "      <td>NaN</td>\n",
              "    </tr>\n",
              "    <tr>\n",
              "      <th>6</th>\n",
              "      <td>7</td>\n",
              "      <td>401307</td>\n",
              "      <td>福岡県</td>\n",
              "      <td>福岡市</td>\n",
              "      <td>2020/3/27</td>\n",
              "      <td>金</td>\n",
              "      <td>NaN</td>\n",
              "      <td>福岡市博多区</td>\n",
              "      <td>20代</td>\n",
              "      <td>男性</td>\n",
              "      <td>NaN</td>\n",
              "      <td>NaN</td>\n",
              "      <td>NaN</td>\n",
              "      <td>1.0</td>\n",
              "      <td>NaN</td>\n",
              "      <td>NaN</td>\n",
              "    </tr>\n",
              "    <tr>\n",
              "      <th>7</th>\n",
              "      <td>8</td>\n",
              "      <td>401307</td>\n",
              "      <td>福岡県</td>\n",
              "      <td>福岡市</td>\n",
              "      <td>2020/3/27</td>\n",
              "      <td>金</td>\n",
              "      <td>NaN</td>\n",
              "      <td>福岡市南区</td>\n",
              "      <td>40代</td>\n",
              "      <td>男性</td>\n",
              "      <td>NaN</td>\n",
              "      <td>NaN</td>\n",
              "      <td>NaN</td>\n",
              "      <td>NaN</td>\n",
              "      <td>NaN</td>\n",
              "      <td>NaN</td>\n",
              "    </tr>\n",
              "    <tr>\n",
              "      <th>8</th>\n",
              "      <td>9</td>\n",
              "      <td>401307</td>\n",
              "      <td>福岡県</td>\n",
              "      <td>福岡市</td>\n",
              "      <td>2020/3/27</td>\n",
              "      <td>金</td>\n",
              "      <td>NaN</td>\n",
              "      <td>福岡市城南区</td>\n",
              "      <td>20代</td>\n",
              "      <td>男性</td>\n",
              "      <td>NaN</td>\n",
              "      <td>NaN</td>\n",
              "      <td>NaN</td>\n",
              "      <td>NaN</td>\n",
              "      <td>NaN</td>\n",
              "      <td>NaN</td>\n",
              "    </tr>\n",
              "    <tr>\n",
              "      <th>9</th>\n",
              "      <td>10</td>\n",
              "      <td>401307</td>\n",
              "      <td>福岡県</td>\n",
              "      <td>福岡市</td>\n",
              "      <td>2020/3/28</td>\n",
              "      <td>土</td>\n",
              "      <td>NaN</td>\n",
              "      <td>福岡市博多区</td>\n",
              "      <td>30代</td>\n",
              "      <td>男性</td>\n",
              "      <td>NaN</td>\n",
              "      <td>NaN</td>\n",
              "      <td>NaN</td>\n",
              "      <td>NaN</td>\n",
              "      <td>NaN</td>\n",
              "      <td>NaN</td>\n",
              "    </tr>\n",
              "    <tr>\n",
              "      <th>10</th>\n",
              "      <td>11</td>\n",
              "      <td>401307</td>\n",
              "      <td>福岡県</td>\n",
              "      <td>福岡市</td>\n",
              "      <td>2020/3/28</td>\n",
              "      <td>土</td>\n",
              "      <td>NaN</td>\n",
              "      <td>福岡市中央区</td>\n",
              "      <td>30代</td>\n",
              "      <td>男性</td>\n",
              "      <td>NaN</td>\n",
              "      <td>NaN</td>\n",
              "      <td>NaN</td>\n",
              "      <td>NaN</td>\n",
              "      <td>NaN</td>\n",
              "      <td>NaN</td>\n",
              "    </tr>\n",
              "    <tr>\n",
              "      <th>11</th>\n",
              "      <td>12</td>\n",
              "      <td>401307</td>\n",
              "      <td>福岡県</td>\n",
              "      <td>福岡市</td>\n",
              "      <td>2020/3/28</td>\n",
              "      <td>土</td>\n",
              "      <td>NaN</td>\n",
              "      <td>福岡市南区</td>\n",
              "      <td>60代</td>\n",
              "      <td>男性</td>\n",
              "      <td>NaN</td>\n",
              "      <td>NaN</td>\n",
              "      <td>NaN</td>\n",
              "      <td>NaN</td>\n",
              "      <td>NaN</td>\n",
              "      <td>NaN</td>\n",
              "    </tr>\n",
              "    <tr>\n",
              "      <th>12</th>\n",
              "      <td>13</td>\n",
              "      <td>401307</td>\n",
              "      <td>福岡県</td>\n",
              "      <td>福岡市</td>\n",
              "      <td>2020/3/28</td>\n",
              "      <td>土</td>\n",
              "      <td>NaN</td>\n",
              "      <td>福岡市西区</td>\n",
              "      <td>70代</td>\n",
              "      <td>男性</td>\n",
              "      <td>NaN</td>\n",
              "      <td>NaN</td>\n",
              "      <td>NaN</td>\n",
              "      <td>NaN</td>\n",
              "      <td>NaN</td>\n",
              "      <td>NaN</td>\n",
              "    </tr>\n",
              "    <tr>\n",
              "      <th>13</th>\n",
              "      <td>14</td>\n",
              "      <td>401307</td>\n",
              "      <td>福岡県</td>\n",
              "      <td>福岡市</td>\n",
              "      <td>2020/3/29</td>\n",
              "      <td>日</td>\n",
              "      <td>NaN</td>\n",
              "      <td>福岡市中央区</td>\n",
              "      <td>50代</td>\n",
              "      <td>女性</td>\n",
              "      <td>NaN</td>\n",
              "      <td>NaN</td>\n",
              "      <td>NaN</td>\n",
              "      <td>NaN</td>\n",
              "      <td>NaN</td>\n",
              "      <td>NaN</td>\n",
              "    </tr>\n",
              "    <tr>\n",
              "      <th>14</th>\n",
              "      <td>15</td>\n",
              "      <td>401307</td>\n",
              "      <td>福岡県</td>\n",
              "      <td>福岡市</td>\n",
              "      <td>2020/3/29</td>\n",
              "      <td>日</td>\n",
              "      <td>NaN</td>\n",
              "      <td>福岡市博多区</td>\n",
              "      <td>60代</td>\n",
              "      <td>男性</td>\n",
              "      <td>NaN</td>\n",
              "      <td>NaN</td>\n",
              "      <td>NaN</td>\n",
              "      <td>1.0</td>\n",
              "      <td>NaN</td>\n",
              "      <td>NaN</td>\n",
              "    </tr>\n",
              "  </tbody>\n",
              "</table>\n",
              "</div>"
            ],
            "text/plain": [
              "    No  全国地方公共団体コード 都道府県名 市区町村名  ... 患者_症状 患者_渡航歴の有無フラグ  備考 退院済フラグ\n",
              "0    1       401307   福岡県   福岡市  ...   NaN          NaN NaN    NaN\n",
              "1    2       401307   福岡県   福岡市  ...   NaN          NaN NaN    NaN\n",
              "2    3       401307   福岡県   福岡市  ...   NaN          1.0 NaN    NaN\n",
              "3    4       401307   福岡県   福岡市  ...   NaN          NaN NaN    NaN\n",
              "4    5       401307   福岡県   福岡市  ...   NaN          NaN NaN    NaN\n",
              "5    6       401307   福岡県   福岡市  ...   NaN          NaN NaN    NaN\n",
              "6    7       401307   福岡県   福岡市  ...   NaN          1.0 NaN    NaN\n",
              "7    8       401307   福岡県   福岡市  ...   NaN          NaN NaN    NaN\n",
              "8    9       401307   福岡県   福岡市  ...   NaN          NaN NaN    NaN\n",
              "9   10       401307   福岡県   福岡市  ...   NaN          NaN NaN    NaN\n",
              "10  11       401307   福岡県   福岡市  ...   NaN          NaN NaN    NaN\n",
              "11  12       401307   福岡県   福岡市  ...   NaN          NaN NaN    NaN\n",
              "12  13       401307   福岡県   福岡市  ...   NaN          NaN NaN    NaN\n",
              "13  14       401307   福岡県   福岡市  ...   NaN          NaN NaN    NaN\n",
              "14  15       401307   福岡県   福岡市  ...   NaN          1.0 NaN    NaN\n",
              "\n",
              "[15 rows x 16 columns]"
            ]
          },
          "metadata": {
            "tags": []
          },
          "execution_count": 98
        }
      ]
    },
    {
      "cell_type": "code",
      "metadata": {
        "id": "B3U4mX63ArGd",
        "colab_type": "code",
        "colab": {
          "base_uri": "https://localhost:8080/",
          "height": 305
        },
        "outputId": "f40c0499-e111-4a0a-999d-bfc5e95475e0"
      },
      "source": [
        "df_fukuoka_covid.describe()"
      ],
      "execution_count": null,
      "outputs": [
        {
          "output_type": "execute_result",
          "data": {
            "text/html": [
              "<div>\n",
              "<style scoped>\n",
              "    .dataframe tbody tr th:only-of-type {\n",
              "        vertical-align: middle;\n",
              "    }\n",
              "\n",
              "    .dataframe tbody tr th {\n",
              "        vertical-align: top;\n",
              "    }\n",
              "\n",
              "    .dataframe thead th {\n",
              "        text-align: right;\n",
              "    }\n",
              "</style>\n",
              "<table border=\"1\" class=\"dataframe\">\n",
              "  <thead>\n",
              "    <tr style=\"text-align: right;\">\n",
              "      <th></th>\n",
              "      <th>No</th>\n",
              "      <th>全国地方公共団体コード</th>\n",
              "      <th>発症_年月日</th>\n",
              "      <th>患者_属性</th>\n",
              "      <th>患者_状態</th>\n",
              "      <th>患者_症状</th>\n",
              "      <th>患者_渡航歴の有無フラグ</th>\n",
              "      <th>備考</th>\n",
              "      <th>退院済フラグ</th>\n",
              "    </tr>\n",
              "  </thead>\n",
              "  <tbody>\n",
              "    <tr>\n",
              "      <th>count</th>\n",
              "      <td>1980.000000</td>\n",
              "      <td>1980.0</td>\n",
              "      <td>0.0</td>\n",
              "      <td>0.0</td>\n",
              "      <td>0.0</td>\n",
              "      <td>0.0</td>\n",
              "      <td>3.0</td>\n",
              "      <td>0.0</td>\n",
              "      <td>0.0</td>\n",
              "    </tr>\n",
              "    <tr>\n",
              "      <th>mean</th>\n",
              "      <td>992.657071</td>\n",
              "      <td>401307.0</td>\n",
              "      <td>NaN</td>\n",
              "      <td>NaN</td>\n",
              "      <td>NaN</td>\n",
              "      <td>NaN</td>\n",
              "      <td>1.0</td>\n",
              "      <td>NaN</td>\n",
              "      <td>NaN</td>\n",
              "    </tr>\n",
              "    <tr>\n",
              "      <th>std</th>\n",
              "      <td>573.723866</td>\n",
              "      <td>0.0</td>\n",
              "      <td>NaN</td>\n",
              "      <td>NaN</td>\n",
              "      <td>NaN</td>\n",
              "      <td>NaN</td>\n",
              "      <td>0.0</td>\n",
              "      <td>NaN</td>\n",
              "      <td>NaN</td>\n",
              "    </tr>\n",
              "    <tr>\n",
              "      <th>min</th>\n",
              "      <td>1.000000</td>\n",
              "      <td>401307.0</td>\n",
              "      <td>NaN</td>\n",
              "      <td>NaN</td>\n",
              "      <td>NaN</td>\n",
              "      <td>NaN</td>\n",
              "      <td>1.0</td>\n",
              "      <td>NaN</td>\n",
              "      <td>NaN</td>\n",
              "    </tr>\n",
              "    <tr>\n",
              "      <th>25%</th>\n",
              "      <td>495.750000</td>\n",
              "      <td>401307.0</td>\n",
              "      <td>NaN</td>\n",
              "      <td>NaN</td>\n",
              "      <td>NaN</td>\n",
              "      <td>NaN</td>\n",
              "      <td>1.0</td>\n",
              "      <td>NaN</td>\n",
              "      <td>NaN</td>\n",
              "    </tr>\n",
              "    <tr>\n",
              "      <th>50%</th>\n",
              "      <td>991.500000</td>\n",
              "      <td>401307.0</td>\n",
              "      <td>NaN</td>\n",
              "      <td>NaN</td>\n",
              "      <td>NaN</td>\n",
              "      <td>NaN</td>\n",
              "      <td>1.0</td>\n",
              "      <td>NaN</td>\n",
              "      <td>NaN</td>\n",
              "    </tr>\n",
              "    <tr>\n",
              "      <th>75%</th>\n",
              "      <td>1490.250000</td>\n",
              "      <td>401307.0</td>\n",
              "      <td>NaN</td>\n",
              "      <td>NaN</td>\n",
              "      <td>NaN</td>\n",
              "      <td>NaN</td>\n",
              "      <td>1.0</td>\n",
              "      <td>NaN</td>\n",
              "      <td>NaN</td>\n",
              "    </tr>\n",
              "    <tr>\n",
              "      <th>max</th>\n",
              "      <td>1985.000000</td>\n",
              "      <td>401307.0</td>\n",
              "      <td>NaN</td>\n",
              "      <td>NaN</td>\n",
              "      <td>NaN</td>\n",
              "      <td>NaN</td>\n",
              "      <td>1.0</td>\n",
              "      <td>NaN</td>\n",
              "      <td>NaN</td>\n",
              "    </tr>\n",
              "  </tbody>\n",
              "</table>\n",
              "</div>"
            ],
            "text/plain": [
              "                No  全国地方公共団体コード  発症_年月日  ...  患者_渡航歴の有無フラグ   備考  退院済フラグ\n",
              "count  1980.000000       1980.0     0.0  ...           3.0  0.0     0.0\n",
              "mean    992.657071     401307.0     NaN  ...           1.0  NaN     NaN\n",
              "std     573.723866          0.0     NaN  ...           0.0  NaN     NaN\n",
              "min       1.000000     401307.0     NaN  ...           1.0  NaN     NaN\n",
              "25%     495.750000     401307.0     NaN  ...           1.0  NaN     NaN\n",
              "50%     991.500000     401307.0     NaN  ...           1.0  NaN     NaN\n",
              "75%    1490.250000     401307.0     NaN  ...           1.0  NaN     NaN\n",
              "max    1985.000000     401307.0     NaN  ...           1.0  NaN     NaN\n",
              "\n",
              "[8 rows x 9 columns]"
            ]
          },
          "metadata": {
            "tags": []
          },
          "execution_count": 103
        }
      ]
    },
    {
      "cell_type": "code",
      "metadata": {
        "id": "JRnXf8nZAvFc",
        "colab_type": "code",
        "colab": {
          "base_uri": "https://localhost:8080/",
          "height": 435
        },
        "outputId": "649a27b8-dd22-4cd0-f406-6f95d16b56be"
      },
      "source": [
        "df_fukuoka_covid.info()"
      ],
      "execution_count": null,
      "outputs": [
        {
          "output_type": "stream",
          "text": [
            "<class 'pandas.core.frame.DataFrame'>\n",
            "RangeIndex: 1980 entries, 0 to 1979\n",
            "Data columns (total 16 columns):\n",
            " #   Column        Non-Null Count  Dtype  \n",
            "---  ------        --------------  -----  \n",
            " 0   No            1980 non-null   int64  \n",
            " 1   全国地方公共団体コード   1980 non-null   int64  \n",
            " 2   都道府県名         1980 non-null   object \n",
            " 3   市区町村名         1980 non-null   object \n",
            " 4   公表_年月日        1980 non-null   object \n",
            " 5   曜日            1980 non-null   object \n",
            " 6   発症_年月日        0 non-null      float64\n",
            " 7   居住地           1980 non-null   object \n",
            " 8   年代            1980 non-null   object \n",
            " 9   性別            1980 non-null   object \n",
            " 10  患者_属性         0 non-null      float64\n",
            " 11  患者_状態         0 non-null      float64\n",
            " 12  患者_症状         0 non-null      float64\n",
            " 13  患者_渡航歴の有無フラグ  3 non-null      float64\n",
            " 14  備考            0 non-null      float64\n",
            " 15  退院済フラグ        0 non-null      float64\n",
            "dtypes: float64(7), int64(2), object(7)\n",
            "memory usage: 247.6+ KB\n"
          ],
          "name": "stdout"
        }
      ]
    },
    {
      "cell_type": "code",
      "metadata": {
        "id": "zJMeUk_bCFUW",
        "colab_type": "code",
        "colab": {
          "base_uri": "https://localhost:8080/",
          "height": 35
        },
        "outputId": "17d63059-dce0-416a-c3ec-8f6f3346553a"
      },
      "source": [
        "df_fukuoka_covid.shape"
      ],
      "execution_count": null,
      "outputs": [
        {
          "output_type": "execute_result",
          "data": {
            "text/plain": [
              "(1980, 16)"
            ]
          },
          "metadata": {
            "tags": []
          },
          "execution_count": 105
        }
      ]
    },
    {
      "cell_type": "markdown",
      "metadata": {
        "id": "oH5CHaMqCwmQ",
        "colab_type": "text"
      },
      "source": [
        "# 便利なメソッドなど\n",
        "  - NaNを含む行列を削除するdropnaメソッド\n",
        "  - 不要な行列を削除するdropメソッド\n",
        "  - グループをまとめるgroupbyメソッド\n",
        "  - indexを数値にするreset_indexメソッド\n",
        "  - 文字列を置き換えるreplaceメソッド\n",
        "  - map, applyメソッド"
      ]
    },
    {
      "cell_type": "code",
      "metadata": {
        "id": "pIz12WxvD3MS",
        "colab_type": "code",
        "colab": {
          "base_uri": "https://localhost:8080/",
          "height": 319
        },
        "outputId": "06801b7a-0ff3-4922-e0aa-b438483aa320"
      },
      "source": [
        "df_fukuoka_covid.head()"
      ],
      "execution_count": null,
      "outputs": [
        {
          "output_type": "execute_result",
          "data": {
            "text/html": [
              "<div>\n",
              "<style scoped>\n",
              "    .dataframe tbody tr th:only-of-type {\n",
              "        vertical-align: middle;\n",
              "    }\n",
              "\n",
              "    .dataframe tbody tr th {\n",
              "        vertical-align: top;\n",
              "    }\n",
              "\n",
              "    .dataframe thead th {\n",
              "        text-align: right;\n",
              "    }\n",
              "</style>\n",
              "<table border=\"1\" class=\"dataframe\">\n",
              "  <thead>\n",
              "    <tr style=\"text-align: right;\">\n",
              "      <th></th>\n",
              "      <th>No</th>\n",
              "      <th>全国地方公共団体コード</th>\n",
              "      <th>都道府県名</th>\n",
              "      <th>市区町村名</th>\n",
              "      <th>公表_年月日</th>\n",
              "      <th>曜日</th>\n",
              "      <th>発症_年月日</th>\n",
              "      <th>居住地</th>\n",
              "      <th>年代</th>\n",
              "      <th>性別</th>\n",
              "      <th>患者_属性</th>\n",
              "      <th>患者_状態</th>\n",
              "      <th>患者_症状</th>\n",
              "      <th>患者_渡航歴の有無フラグ</th>\n",
              "      <th>備考</th>\n",
              "      <th>退院済フラグ</th>\n",
              "    </tr>\n",
              "  </thead>\n",
              "  <tbody>\n",
              "    <tr>\n",
              "      <th>0</th>\n",
              "      <td>1</td>\n",
              "      <td>401307</td>\n",
              "      <td>福岡県</td>\n",
              "      <td>福岡市</td>\n",
              "      <td>2020/2/20</td>\n",
              "      <td>木</td>\n",
              "      <td>NaN</td>\n",
              "      <td>福岡市中央区</td>\n",
              "      <td>60代</td>\n",
              "      <td>男性</td>\n",
              "      <td>NaN</td>\n",
              "      <td>NaN</td>\n",
              "      <td>NaN</td>\n",
              "      <td>NaN</td>\n",
              "      <td>NaN</td>\n",
              "      <td>NaN</td>\n",
              "    </tr>\n",
              "    <tr>\n",
              "      <th>1</th>\n",
              "      <td>2</td>\n",
              "      <td>401307</td>\n",
              "      <td>福岡県</td>\n",
              "      <td>福岡市</td>\n",
              "      <td>2020/2/20</td>\n",
              "      <td>木</td>\n",
              "      <td>NaN</td>\n",
              "      <td>福岡市中央区</td>\n",
              "      <td>60代</td>\n",
              "      <td>女性</td>\n",
              "      <td>NaN</td>\n",
              "      <td>NaN</td>\n",
              "      <td>NaN</td>\n",
              "      <td>NaN</td>\n",
              "      <td>NaN</td>\n",
              "      <td>NaN</td>\n",
              "    </tr>\n",
              "    <tr>\n",
              "      <th>2</th>\n",
              "      <td>3</td>\n",
              "      <td>401307</td>\n",
              "      <td>福岡県</td>\n",
              "      <td>福岡市</td>\n",
              "      <td>2020/3/17</td>\n",
              "      <td>火</td>\n",
              "      <td>NaN</td>\n",
              "      <td>福岡市南区</td>\n",
              "      <td>30代</td>\n",
              "      <td>女性</td>\n",
              "      <td>NaN</td>\n",
              "      <td>NaN</td>\n",
              "      <td>NaN</td>\n",
              "      <td>1.0</td>\n",
              "      <td>NaN</td>\n",
              "      <td>NaN</td>\n",
              "    </tr>\n",
              "    <tr>\n",
              "      <th>3</th>\n",
              "      <td>4</td>\n",
              "      <td>401307</td>\n",
              "      <td>福岡県</td>\n",
              "      <td>福岡市</td>\n",
              "      <td>2020/3/24</td>\n",
              "      <td>火</td>\n",
              "      <td>NaN</td>\n",
              "      <td>福岡市早良区</td>\n",
              "      <td>40代</td>\n",
              "      <td>男性</td>\n",
              "      <td>NaN</td>\n",
              "      <td>NaN</td>\n",
              "      <td>NaN</td>\n",
              "      <td>NaN</td>\n",
              "      <td>NaN</td>\n",
              "      <td>NaN</td>\n",
              "    </tr>\n",
              "    <tr>\n",
              "      <th>4</th>\n",
              "      <td>5</td>\n",
              "      <td>401307</td>\n",
              "      <td>福岡県</td>\n",
              "      <td>福岡市</td>\n",
              "      <td>2020/3/26</td>\n",
              "      <td>木</td>\n",
              "      <td>NaN</td>\n",
              "      <td>福岡市東区</td>\n",
              "      <td>50代</td>\n",
              "      <td>男性</td>\n",
              "      <td>NaN</td>\n",
              "      <td>NaN</td>\n",
              "      <td>NaN</td>\n",
              "      <td>NaN</td>\n",
              "      <td>NaN</td>\n",
              "      <td>NaN</td>\n",
              "    </tr>\n",
              "  </tbody>\n",
              "</table>\n",
              "</div>"
            ],
            "text/plain": [
              "   No  全国地方公共団体コード 都道府県名 市区町村名  ... 患者_症状 患者_渡航歴の有無フラグ  備考 退院済フラグ\n",
              "0   1       401307   福岡県   福岡市  ...   NaN          NaN NaN    NaN\n",
              "1   2       401307   福岡県   福岡市  ...   NaN          NaN NaN    NaN\n",
              "2   3       401307   福岡県   福岡市  ...   NaN          1.0 NaN    NaN\n",
              "3   4       401307   福岡県   福岡市  ...   NaN          NaN NaN    NaN\n",
              "4   5       401307   福岡県   福岡市  ...   NaN          NaN NaN    NaN\n",
              "\n",
              "[5 rows x 16 columns]"
            ]
          },
          "metadata": {
            "tags": []
          },
          "execution_count": 118
        }
      ]
    },
    {
      "cell_type": "code",
      "metadata": {
        "id": "iTarmNPjCJvv",
        "colab_type": "code",
        "colab": {
          "base_uri": "https://localhost:8080/",
          "height": 198
        },
        "outputId": "2924d3cb-1e96-46e0-a47e-a08b66010749"
      },
      "source": [
        "# NaNを含む列を削除する\n",
        "df_fukuoka_covid_dropna = df_fukuoka_covid.dropna(1)\n",
        "df_fukuoka_covid_dropna.head()"
      ],
      "execution_count": null,
      "outputs": [
        {
          "output_type": "execute_result",
          "data": {
            "text/html": [
              "<div>\n",
              "<style scoped>\n",
              "    .dataframe tbody tr th:only-of-type {\n",
              "        vertical-align: middle;\n",
              "    }\n",
              "\n",
              "    .dataframe tbody tr th {\n",
              "        vertical-align: top;\n",
              "    }\n",
              "\n",
              "    .dataframe thead th {\n",
              "        text-align: right;\n",
              "    }\n",
              "</style>\n",
              "<table border=\"1\" class=\"dataframe\">\n",
              "  <thead>\n",
              "    <tr style=\"text-align: right;\">\n",
              "      <th></th>\n",
              "      <th>No</th>\n",
              "      <th>全国地方公共団体コード</th>\n",
              "      <th>都道府県名</th>\n",
              "      <th>市区町村名</th>\n",
              "      <th>公表_年月日</th>\n",
              "      <th>曜日</th>\n",
              "      <th>居住地</th>\n",
              "      <th>年代</th>\n",
              "      <th>性別</th>\n",
              "    </tr>\n",
              "  </thead>\n",
              "  <tbody>\n",
              "    <tr>\n",
              "      <th>0</th>\n",
              "      <td>1</td>\n",
              "      <td>401307</td>\n",
              "      <td>福岡県</td>\n",
              "      <td>福岡市</td>\n",
              "      <td>2020/2/20</td>\n",
              "      <td>木</td>\n",
              "      <td>福岡市中央区</td>\n",
              "      <td>60代</td>\n",
              "      <td>男性</td>\n",
              "    </tr>\n",
              "    <tr>\n",
              "      <th>1</th>\n",
              "      <td>2</td>\n",
              "      <td>401307</td>\n",
              "      <td>福岡県</td>\n",
              "      <td>福岡市</td>\n",
              "      <td>2020/2/20</td>\n",
              "      <td>木</td>\n",
              "      <td>福岡市中央区</td>\n",
              "      <td>60代</td>\n",
              "      <td>女性</td>\n",
              "    </tr>\n",
              "    <tr>\n",
              "      <th>2</th>\n",
              "      <td>3</td>\n",
              "      <td>401307</td>\n",
              "      <td>福岡県</td>\n",
              "      <td>福岡市</td>\n",
              "      <td>2020/3/17</td>\n",
              "      <td>火</td>\n",
              "      <td>福岡市南区</td>\n",
              "      <td>30代</td>\n",
              "      <td>女性</td>\n",
              "    </tr>\n",
              "    <tr>\n",
              "      <th>3</th>\n",
              "      <td>4</td>\n",
              "      <td>401307</td>\n",
              "      <td>福岡県</td>\n",
              "      <td>福岡市</td>\n",
              "      <td>2020/3/24</td>\n",
              "      <td>火</td>\n",
              "      <td>福岡市早良区</td>\n",
              "      <td>40代</td>\n",
              "      <td>男性</td>\n",
              "    </tr>\n",
              "    <tr>\n",
              "      <th>4</th>\n",
              "      <td>5</td>\n",
              "      <td>401307</td>\n",
              "      <td>福岡県</td>\n",
              "      <td>福岡市</td>\n",
              "      <td>2020/3/26</td>\n",
              "      <td>木</td>\n",
              "      <td>福岡市東区</td>\n",
              "      <td>50代</td>\n",
              "      <td>男性</td>\n",
              "    </tr>\n",
              "  </tbody>\n",
              "</table>\n",
              "</div>"
            ],
            "text/plain": [
              "   No  全国地方公共団体コード 都道府県名 市区町村名     公表_年月日 曜日     居住地   年代  性別\n",
              "0   1       401307   福岡県   福岡市  2020/2/20  木  福岡市中央区  60代  男性\n",
              "1   2       401307   福岡県   福岡市  2020/2/20  木  福岡市中央区  60代  女性\n",
              "2   3       401307   福岡県   福岡市  2020/3/17  火   福岡市南区  30代  女性\n",
              "3   4       401307   福岡県   福岡市  2020/3/24  火  福岡市早良区  40代  男性\n",
              "4   5       401307   福岡県   福岡市  2020/3/26  木   福岡市東区  50代  男性"
            ]
          },
          "metadata": {
            "tags": []
          },
          "execution_count": 123
        }
      ]
    },
    {
      "cell_type": "code",
      "metadata": {
        "id": "oB7x-JKCCU10",
        "colab_type": "code",
        "colab": {
          "base_uri": "https://localhost:8080/",
          "height": 198
        },
        "outputId": "dab57ae8-392d-46ce-f6f3-e7e493ef05ec"
      },
      "source": [
        "df_fukuoka_covid_dropna_num = df_fukuoka_covid_dropna.drop({\"No\"}, axis=1)\n",
        "df_fukuoka_covid_dropna_num.head()"
      ],
      "execution_count": null,
      "outputs": [
        {
          "output_type": "execute_result",
          "data": {
            "text/html": [
              "<div>\n",
              "<style scoped>\n",
              "    .dataframe tbody tr th:only-of-type {\n",
              "        vertical-align: middle;\n",
              "    }\n",
              "\n",
              "    .dataframe tbody tr th {\n",
              "        vertical-align: top;\n",
              "    }\n",
              "\n",
              "    .dataframe thead th {\n",
              "        text-align: right;\n",
              "    }\n",
              "</style>\n",
              "<table border=\"1\" class=\"dataframe\">\n",
              "  <thead>\n",
              "    <tr style=\"text-align: right;\">\n",
              "      <th></th>\n",
              "      <th>全国地方公共団体コード</th>\n",
              "      <th>都道府県名</th>\n",
              "      <th>市区町村名</th>\n",
              "      <th>公表_年月日</th>\n",
              "      <th>曜日</th>\n",
              "      <th>居住地</th>\n",
              "      <th>年代</th>\n",
              "      <th>性別</th>\n",
              "    </tr>\n",
              "  </thead>\n",
              "  <tbody>\n",
              "    <tr>\n",
              "      <th>0</th>\n",
              "      <td>401307</td>\n",
              "      <td>福岡県</td>\n",
              "      <td>福岡市</td>\n",
              "      <td>2020/2/20</td>\n",
              "      <td>木</td>\n",
              "      <td>福岡市中央区</td>\n",
              "      <td>60代</td>\n",
              "      <td>男性</td>\n",
              "    </tr>\n",
              "    <tr>\n",
              "      <th>1</th>\n",
              "      <td>401307</td>\n",
              "      <td>福岡県</td>\n",
              "      <td>福岡市</td>\n",
              "      <td>2020/2/20</td>\n",
              "      <td>木</td>\n",
              "      <td>福岡市中央区</td>\n",
              "      <td>60代</td>\n",
              "      <td>女性</td>\n",
              "    </tr>\n",
              "    <tr>\n",
              "      <th>2</th>\n",
              "      <td>401307</td>\n",
              "      <td>福岡県</td>\n",
              "      <td>福岡市</td>\n",
              "      <td>2020/3/17</td>\n",
              "      <td>火</td>\n",
              "      <td>福岡市南区</td>\n",
              "      <td>30代</td>\n",
              "      <td>女性</td>\n",
              "    </tr>\n",
              "    <tr>\n",
              "      <th>3</th>\n",
              "      <td>401307</td>\n",
              "      <td>福岡県</td>\n",
              "      <td>福岡市</td>\n",
              "      <td>2020/3/24</td>\n",
              "      <td>火</td>\n",
              "      <td>福岡市早良区</td>\n",
              "      <td>40代</td>\n",
              "      <td>男性</td>\n",
              "    </tr>\n",
              "    <tr>\n",
              "      <th>4</th>\n",
              "      <td>401307</td>\n",
              "      <td>福岡県</td>\n",
              "      <td>福岡市</td>\n",
              "      <td>2020/3/26</td>\n",
              "      <td>木</td>\n",
              "      <td>福岡市東区</td>\n",
              "      <td>50代</td>\n",
              "      <td>男性</td>\n",
              "    </tr>\n",
              "  </tbody>\n",
              "</table>\n",
              "</div>"
            ],
            "text/plain": [
              "   全国地方公共団体コード 都道府県名 市区町村名     公表_年月日 曜日     居住地   年代  性別\n",
              "0       401307   福岡県   福岡市  2020/2/20  木  福岡市中央区  60代  男性\n",
              "1       401307   福岡県   福岡市  2020/2/20  木  福岡市中央区  60代  女性\n",
              "2       401307   福岡県   福岡市  2020/3/17  火   福岡市南区  30代  女性\n",
              "3       401307   福岡県   福岡市  2020/3/24  火  福岡市早良区  40代  男性\n",
              "4       401307   福岡県   福岡市  2020/3/26  木   福岡市東区  50代  男性"
            ]
          },
          "metadata": {
            "tags": []
          },
          "execution_count": 128
        }
      ]
    },
    {
      "cell_type": "code",
      "metadata": {
        "id": "k5kAV6ZbEeRi",
        "colab_type": "code",
        "colab": {}
      },
      "source": [
        "fukuoka_dow = df_fukuoka_covid_dropna_num.groupby('曜日')"
      ],
      "execution_count": null,
      "outputs": []
    },
    {
      "cell_type": "code",
      "metadata": {
        "id": "2OllAAAIE5kY",
        "colab_type": "code",
        "colab": {
          "base_uri": "https://localhost:8080/",
          "height": 288
        },
        "outputId": "bd6768cc-2291-4867-9f1c-d3696f87f949"
      },
      "source": [
        "fukuoka_dow.count()"
      ],
      "execution_count": null,
      "outputs": [
        {
          "output_type": "execute_result",
          "data": {
            "text/html": [
              "<div>\n",
              "<style scoped>\n",
              "    .dataframe tbody tr th:only-of-type {\n",
              "        vertical-align: middle;\n",
              "    }\n",
              "\n",
              "    .dataframe tbody tr th {\n",
              "        vertical-align: top;\n",
              "    }\n",
              "\n",
              "    .dataframe thead th {\n",
              "        text-align: right;\n",
              "    }\n",
              "</style>\n",
              "<table border=\"1\" class=\"dataframe\">\n",
              "  <thead>\n",
              "    <tr style=\"text-align: right;\">\n",
              "      <th></th>\n",
              "      <th>全国地方公共団体コード</th>\n",
              "      <th>都道府県名</th>\n",
              "      <th>市区町村名</th>\n",
              "      <th>公表_年月日</th>\n",
              "      <th>居住地</th>\n",
              "      <th>年代</th>\n",
              "      <th>性別</th>\n",
              "    </tr>\n",
              "    <tr>\n",
              "      <th>曜日</th>\n",
              "      <th></th>\n",
              "      <th></th>\n",
              "      <th></th>\n",
              "      <th></th>\n",
              "      <th></th>\n",
              "      <th></th>\n",
              "      <th></th>\n",
              "    </tr>\n",
              "  </thead>\n",
              "  <tbody>\n",
              "    <tr>\n",
              "      <th>土</th>\n",
              "      <td>289</td>\n",
              "      <td>289</td>\n",
              "      <td>289</td>\n",
              "      <td>289</td>\n",
              "      <td>289</td>\n",
              "      <td>289</td>\n",
              "      <td>289</td>\n",
              "    </tr>\n",
              "    <tr>\n",
              "      <th>日</th>\n",
              "      <td>293</td>\n",
              "      <td>293</td>\n",
              "      <td>293</td>\n",
              "      <td>293</td>\n",
              "      <td>293</td>\n",
              "      <td>293</td>\n",
              "      <td>293</td>\n",
              "    </tr>\n",
              "    <tr>\n",
              "      <th>月</th>\n",
              "      <td>158</td>\n",
              "      <td>158</td>\n",
              "      <td>158</td>\n",
              "      <td>158</td>\n",
              "      <td>158</td>\n",
              "      <td>158</td>\n",
              "      <td>158</td>\n",
              "    </tr>\n",
              "    <tr>\n",
              "      <th>木</th>\n",
              "      <td>356</td>\n",
              "      <td>356</td>\n",
              "      <td>356</td>\n",
              "      <td>356</td>\n",
              "      <td>356</td>\n",
              "      <td>356</td>\n",
              "      <td>356</td>\n",
              "    </tr>\n",
              "    <tr>\n",
              "      <th>水</th>\n",
              "      <td>297</td>\n",
              "      <td>297</td>\n",
              "      <td>297</td>\n",
              "      <td>297</td>\n",
              "      <td>297</td>\n",
              "      <td>297</td>\n",
              "      <td>297</td>\n",
              "    </tr>\n",
              "    <tr>\n",
              "      <th>火</th>\n",
              "      <td>201</td>\n",
              "      <td>201</td>\n",
              "      <td>201</td>\n",
              "      <td>201</td>\n",
              "      <td>201</td>\n",
              "      <td>201</td>\n",
              "      <td>201</td>\n",
              "    </tr>\n",
              "    <tr>\n",
              "      <th>金</th>\n",
              "      <td>386</td>\n",
              "      <td>386</td>\n",
              "      <td>386</td>\n",
              "      <td>386</td>\n",
              "      <td>386</td>\n",
              "      <td>386</td>\n",
              "      <td>386</td>\n",
              "    </tr>\n",
              "  </tbody>\n",
              "</table>\n",
              "</div>"
            ],
            "text/plain": [
              "    全国地方公共団体コード  都道府県名  市区町村名  公表_年月日  居住地   年代   性別\n",
              "曜日                                                  \n",
              "土           289    289    289     289  289  289  289\n",
              "日           293    293    293     293  293  293  293\n",
              "月           158    158    158     158  158  158  158\n",
              "木           356    356    356     356  356  356  356\n",
              "水           297    297    297     297  297  297  297\n",
              "火           201    201    201     201  201  201  201\n",
              "金           386    386    386     386  386  386  386"
            ]
          },
          "metadata": {
            "tags": []
          },
          "execution_count": 137
        }
      ]
    },
    {
      "cell_type": "code",
      "metadata": {
        "id": "KUO_LXKzE65j",
        "colab_type": "code",
        "colab": {
          "base_uri": "https://localhost:8080/",
          "height": 258
        },
        "outputId": "fb498e64-047e-477b-ae77-14fc1373d9f0"
      },
      "source": [
        "dow_fukuoka = fukuoka_dow.count()\n",
        "dow_fukuoka = dow_fukuoka.reset_index()\n",
        "dow_fukuoka"
      ],
      "execution_count": null,
      "outputs": [
        {
          "output_type": "execute_result",
          "data": {
            "text/html": [
              "<div>\n",
              "<style scoped>\n",
              "    .dataframe tbody tr th:only-of-type {\n",
              "        vertical-align: middle;\n",
              "    }\n",
              "\n",
              "    .dataframe tbody tr th {\n",
              "        vertical-align: top;\n",
              "    }\n",
              "\n",
              "    .dataframe thead th {\n",
              "        text-align: right;\n",
              "    }\n",
              "</style>\n",
              "<table border=\"1\" class=\"dataframe\">\n",
              "  <thead>\n",
              "    <tr style=\"text-align: right;\">\n",
              "      <th></th>\n",
              "      <th>曜日</th>\n",
              "      <th>全国地方公共団体コード</th>\n",
              "      <th>都道府県名</th>\n",
              "      <th>市区町村名</th>\n",
              "      <th>公表_年月日</th>\n",
              "      <th>居住地</th>\n",
              "      <th>年代</th>\n",
              "      <th>性別</th>\n",
              "    </tr>\n",
              "  </thead>\n",
              "  <tbody>\n",
              "    <tr>\n",
              "      <th>0</th>\n",
              "      <td>土</td>\n",
              "      <td>289</td>\n",
              "      <td>289</td>\n",
              "      <td>289</td>\n",
              "      <td>289</td>\n",
              "      <td>289</td>\n",
              "      <td>289</td>\n",
              "      <td>289</td>\n",
              "    </tr>\n",
              "    <tr>\n",
              "      <th>1</th>\n",
              "      <td>日</td>\n",
              "      <td>293</td>\n",
              "      <td>293</td>\n",
              "      <td>293</td>\n",
              "      <td>293</td>\n",
              "      <td>293</td>\n",
              "      <td>293</td>\n",
              "      <td>293</td>\n",
              "    </tr>\n",
              "    <tr>\n",
              "      <th>2</th>\n",
              "      <td>月</td>\n",
              "      <td>158</td>\n",
              "      <td>158</td>\n",
              "      <td>158</td>\n",
              "      <td>158</td>\n",
              "      <td>158</td>\n",
              "      <td>158</td>\n",
              "      <td>158</td>\n",
              "    </tr>\n",
              "    <tr>\n",
              "      <th>3</th>\n",
              "      <td>木</td>\n",
              "      <td>356</td>\n",
              "      <td>356</td>\n",
              "      <td>356</td>\n",
              "      <td>356</td>\n",
              "      <td>356</td>\n",
              "      <td>356</td>\n",
              "      <td>356</td>\n",
              "    </tr>\n",
              "    <tr>\n",
              "      <th>4</th>\n",
              "      <td>水</td>\n",
              "      <td>297</td>\n",
              "      <td>297</td>\n",
              "      <td>297</td>\n",
              "      <td>297</td>\n",
              "      <td>297</td>\n",
              "      <td>297</td>\n",
              "      <td>297</td>\n",
              "    </tr>\n",
              "    <tr>\n",
              "      <th>5</th>\n",
              "      <td>火</td>\n",
              "      <td>201</td>\n",
              "      <td>201</td>\n",
              "      <td>201</td>\n",
              "      <td>201</td>\n",
              "      <td>201</td>\n",
              "      <td>201</td>\n",
              "      <td>201</td>\n",
              "    </tr>\n",
              "    <tr>\n",
              "      <th>6</th>\n",
              "      <td>金</td>\n",
              "      <td>386</td>\n",
              "      <td>386</td>\n",
              "      <td>386</td>\n",
              "      <td>386</td>\n",
              "      <td>386</td>\n",
              "      <td>386</td>\n",
              "      <td>386</td>\n",
              "    </tr>\n",
              "  </tbody>\n",
              "</table>\n",
              "</div>"
            ],
            "text/plain": [
              "  曜日  全国地方公共団体コード  都道府県名  市区町村名  公表_年月日  居住地   年代   性別\n",
              "0  土          289    289    289     289  289  289  289\n",
              "1  日          293    293    293     293  293  293  293\n",
              "2  月          158    158    158     158  158  158  158\n",
              "3  木          356    356    356     356  356  356  356\n",
              "4  水          297    297    297     297  297  297  297\n",
              "5  火          201    201    201     201  201  201  201\n",
              "6  金          386    386    386     386  386  386  386"
            ]
          },
          "metadata": {
            "tags": []
          },
          "execution_count": 138
        }
      ]
    },
    {
      "cell_type": "code",
      "metadata": {
        "id": "KvM8vc1qF5Uo",
        "colab_type": "code",
        "colab": {
          "base_uri": "https://localhost:8080/",
          "height": 407
        },
        "outputId": "b563dde2-69f9-4ed6-c1ce-c8070a07430a"
      },
      "source": [
        "# 感染の全体的な平均年齢を出すために年代を数値にする\n",
        "covid_fukuoka = df_fukuoka_covid_dropna_num.copy()\n",
        "covid_fukuoka"
      ],
      "execution_count": null,
      "outputs": [
        {
          "output_type": "execute_result",
          "data": {
            "text/html": [
              "<div>\n",
              "<style scoped>\n",
              "    .dataframe tbody tr th:only-of-type {\n",
              "        vertical-align: middle;\n",
              "    }\n",
              "\n",
              "    .dataframe tbody tr th {\n",
              "        vertical-align: top;\n",
              "    }\n",
              "\n",
              "    .dataframe thead th {\n",
              "        text-align: right;\n",
              "    }\n",
              "</style>\n",
              "<table border=\"1\" class=\"dataframe\">\n",
              "  <thead>\n",
              "    <tr style=\"text-align: right;\">\n",
              "      <th></th>\n",
              "      <th>全国地方公共団体コード</th>\n",
              "      <th>都道府県名</th>\n",
              "      <th>市区町村名</th>\n",
              "      <th>公表_年月日</th>\n",
              "      <th>曜日</th>\n",
              "      <th>居住地</th>\n",
              "      <th>年代</th>\n",
              "      <th>性別</th>\n",
              "    </tr>\n",
              "  </thead>\n",
              "  <tbody>\n",
              "    <tr>\n",
              "      <th>0</th>\n",
              "      <td>401307</td>\n",
              "      <td>福岡県</td>\n",
              "      <td>福岡市</td>\n",
              "      <td>2020/2/20</td>\n",
              "      <td>木</td>\n",
              "      <td>福岡市中央区</td>\n",
              "      <td>60代</td>\n",
              "      <td>男性</td>\n",
              "    </tr>\n",
              "    <tr>\n",
              "      <th>1</th>\n",
              "      <td>401307</td>\n",
              "      <td>福岡県</td>\n",
              "      <td>福岡市</td>\n",
              "      <td>2020/2/20</td>\n",
              "      <td>木</td>\n",
              "      <td>福岡市中央区</td>\n",
              "      <td>60代</td>\n",
              "      <td>女性</td>\n",
              "    </tr>\n",
              "    <tr>\n",
              "      <th>2</th>\n",
              "      <td>401307</td>\n",
              "      <td>福岡県</td>\n",
              "      <td>福岡市</td>\n",
              "      <td>2020/3/17</td>\n",
              "      <td>火</td>\n",
              "      <td>福岡市南区</td>\n",
              "      <td>30代</td>\n",
              "      <td>女性</td>\n",
              "    </tr>\n",
              "    <tr>\n",
              "      <th>3</th>\n",
              "      <td>401307</td>\n",
              "      <td>福岡県</td>\n",
              "      <td>福岡市</td>\n",
              "      <td>2020/3/24</td>\n",
              "      <td>火</td>\n",
              "      <td>福岡市早良区</td>\n",
              "      <td>40代</td>\n",
              "      <td>男性</td>\n",
              "    </tr>\n",
              "    <tr>\n",
              "      <th>4</th>\n",
              "      <td>401307</td>\n",
              "      <td>福岡県</td>\n",
              "      <td>福岡市</td>\n",
              "      <td>2020/3/26</td>\n",
              "      <td>木</td>\n",
              "      <td>福岡市東区</td>\n",
              "      <td>50代</td>\n",
              "      <td>男性</td>\n",
              "    </tr>\n",
              "    <tr>\n",
              "      <th>...</th>\n",
              "      <td>...</td>\n",
              "      <td>...</td>\n",
              "      <td>...</td>\n",
              "      <td>...</td>\n",
              "      <td>...</td>\n",
              "      <td>...</td>\n",
              "      <td>...</td>\n",
              "      <td>...</td>\n",
              "    </tr>\n",
              "    <tr>\n",
              "      <th>1975</th>\n",
              "      <td>401307</td>\n",
              "      <td>福岡県</td>\n",
              "      <td>福岡市</td>\n",
              "      <td>2020/8/14</td>\n",
              "      <td>金</td>\n",
              "      <td>福岡市中央区</td>\n",
              "      <td>50代</td>\n",
              "      <td>女性</td>\n",
              "    </tr>\n",
              "    <tr>\n",
              "      <th>1976</th>\n",
              "      <td>401307</td>\n",
              "      <td>福岡県</td>\n",
              "      <td>福岡市</td>\n",
              "      <td>2020/8/14</td>\n",
              "      <td>金</td>\n",
              "      <td>調査中</td>\n",
              "      <td>50代</td>\n",
              "      <td>男性</td>\n",
              "    </tr>\n",
              "    <tr>\n",
              "      <th>1977</th>\n",
              "      <td>401307</td>\n",
              "      <td>福岡県</td>\n",
              "      <td>福岡市</td>\n",
              "      <td>2020/8/14</td>\n",
              "      <td>金</td>\n",
              "      <td>調査中</td>\n",
              "      <td>30代</td>\n",
              "      <td>男性</td>\n",
              "    </tr>\n",
              "    <tr>\n",
              "      <th>1978</th>\n",
              "      <td>401307</td>\n",
              "      <td>福岡県</td>\n",
              "      <td>福岡市</td>\n",
              "      <td>2020/8/14</td>\n",
              "      <td>金</td>\n",
              "      <td>福岡市中央区</td>\n",
              "      <td>20代</td>\n",
              "      <td>女性</td>\n",
              "    </tr>\n",
              "    <tr>\n",
              "      <th>1979</th>\n",
              "      <td>401307</td>\n",
              "      <td>福岡県</td>\n",
              "      <td>福岡市</td>\n",
              "      <td>2020/8/14</td>\n",
              "      <td>金</td>\n",
              "      <td>福岡市中央区</td>\n",
              "      <td>40代</td>\n",
              "      <td>女性</td>\n",
              "    </tr>\n",
              "  </tbody>\n",
              "</table>\n",
              "<p>1980 rows × 8 columns</p>\n",
              "</div>"
            ],
            "text/plain": [
              "      全国地方公共団体コード 都道府県名 市区町村名     公表_年月日 曜日     居住地   年代  性別\n",
              "0          401307   福岡県   福岡市  2020/2/20  木  福岡市中央区  60代  男性\n",
              "1          401307   福岡県   福岡市  2020/2/20  木  福岡市中央区  60代  女性\n",
              "2          401307   福岡県   福岡市  2020/3/17  火   福岡市南区  30代  女性\n",
              "3          401307   福岡県   福岡市  2020/3/24  火  福岡市早良区  40代  男性\n",
              "4          401307   福岡県   福岡市  2020/3/26  木   福岡市東区  50代  男性\n",
              "...           ...   ...   ...        ... ..     ...  ...  ..\n",
              "1975       401307   福岡県   福岡市  2020/8/14  金  福岡市中央区  50代  女性\n",
              "1976       401307   福岡県   福岡市  2020/8/14  金     調査中  50代  男性\n",
              "1977       401307   福岡県   福岡市  2020/8/14  金     調査中  30代  男性\n",
              "1978       401307   福岡県   福岡市  2020/8/14  金  福岡市中央区  20代  女性\n",
              "1979       401307   福岡県   福岡市  2020/8/14  金  福岡市中央区  40代  女性\n",
              "\n",
              "[1980 rows x 8 columns]"
            ]
          },
          "metadata": {
            "tags": []
          },
          "execution_count": 167
        }
      ]
    },
    {
      "cell_type": "code",
      "metadata": {
        "id": "Ow6j7LCCGsLQ",
        "colab_type": "code",
        "colab": {
          "base_uri": "https://localhost:8080/",
          "height": 54
        },
        "outputId": "e045bf80-cd8d-47a3-c0ff-bfba07a0d05b"
      },
      "source": [
        "covid_fukuoka['年代'].unique()"
      ],
      "execution_count": null,
      "outputs": [
        {
          "output_type": "execute_result",
          "data": {
            "text/plain": [
              "array(['60代', '30代', '40代', '50代', '20代', '70代', '1歳未満', '90歳以上', '80代',\n",
              "       '10歳未満', '10代', '調査中'], dtype=object)"
            ]
          },
          "metadata": {
            "tags": []
          },
          "execution_count": 168
        }
      ]
    },
    {
      "cell_type": "code",
      "metadata": {
        "id": "dG-vs3OPHESX",
        "colab_type": "code",
        "colab": {}
      },
      "source": [
        "# 1歳未満は0,90歳以上は90,10歳未満は1、調査中は50に置き換える\n",
        "age_replace = {'1歳未満': '0', '90歳以上': '90', '10歳未満':'1', '調査中': '50'}\n",
        "for b, a in age_replace.items(): \n",
        "\n",
        "  covid_fukuoka['年代'] = covid_fukuoka['年代'].replace(b, a)"
      ],
      "execution_count": null,
      "outputs": []
    },
    {
      "cell_type": "code",
      "metadata": {
        "id": "xLOnrAcXIp1g",
        "colab_type": "code",
        "colab": {
          "base_uri": "https://localhost:8080/",
          "height": 54
        },
        "outputId": "82c62776-4532-4528-9433-291980ed1397"
      },
      "source": [
        "covid_fukuoka['年代'].unique()"
      ],
      "execution_count": null,
      "outputs": [
        {
          "output_type": "execute_result",
          "data": {
            "text/plain": [
              "array(['60代', '30代', '40代', '50代', '20代', '70代', '0', '90', '80代', '1',\n",
              "       '10代', '50'], dtype=object)"
            ]
          },
          "metadata": {
            "tags": []
          },
          "execution_count": 170
        }
      ]
    },
    {
      "cell_type": "code",
      "metadata": {
        "id": "SPwYqorwGXVl",
        "colab_type": "code",
        "colab": {}
      },
      "source": [
        "# 例えば年代を数値にしたい場合、Seriesの値を用いて関数で処理するmapメソッドを使う\n",
        "covid_fukuoka['年代'] = covid_fukuoka['年代'].map(lambda x: int(x.replace('代', '')))"
      ],
      "execution_count": null,
      "outputs": []
    },
    {
      "cell_type": "code",
      "metadata": {
        "id": "kk1MkmFqGpA5",
        "colab_type": "code",
        "colab": {
          "base_uri": "https://localhost:8080/",
          "height": 35
        },
        "outputId": "4b354e96-e150-47ee-dcc1-c0ab86d251d9"
      },
      "source": [
        "covid_fukuoka['年代'].unique()"
      ],
      "execution_count": null,
      "outputs": [
        {
          "output_type": "execute_result",
          "data": {
            "text/plain": [
              "array([60, 30, 40, 50, 20, 70,  0, 90, 80,  1, 10])"
            ]
          },
          "metadata": {
            "tags": []
          },
          "execution_count": 172
        }
      ]
    },
    {
      "cell_type": "code",
      "metadata": {
        "id": "udUXsImOJDC7",
        "colab_type": "code",
        "colab": {
          "base_uri": "https://localhost:8080/",
          "height": 35
        },
        "outputId": "4b633b53-fd89-455d-c65f-520acfae8acb"
      },
      "source": [
        "covid_fukuoka['年代'].mean()"
      ],
      "execution_count": null,
      "outputs": [
        {
          "output_type": "execute_result",
          "data": {
            "text/plain": [
              "34.63636363636363"
            ]
          },
          "metadata": {
            "tags": []
          },
          "execution_count": 173
        }
      ]
    },
    {
      "cell_type": "code",
      "metadata": {
        "id": "X6nJ6T6wJoAx",
        "colab_type": "code",
        "colab": {}
      },
      "source": [
        "# 行全体のデータを使ってデータを作る際にはapplyメソッドを用いる\n",
        "# 例えば日付、場所、年代、性別をすべて文字列で持つ列を作成する場合"
      ],
      "execution_count": null,
      "outputs": []
    },
    {
      "cell_type": "markdown",
      "metadata": {
        "id": "Tv48UvcRMJ5b",
        "colab_type": "text"
      },
      "source": [
        "# applyの事例を考える"
      ]
    },
    {
      "cell_type": "code",
      "metadata": {
        "id": "ZCZFh0uKJ_N_",
        "colab_type": "code",
        "colab": {
          "base_uri": "https://localhost:8080/",
          "height": 138
        },
        "outputId": "63ff5283-5660-46ec-ee9c-2729b440af76"
      },
      "source": [
        ""
      ],
      "execution_count": null,
      "outputs": [
        {
          "output_type": "error",
          "ename": "SyntaxError",
          "evalue": "ignored",
          "traceback": [
            "\u001b[0;36m  File \u001b[0;32m\"<ipython-input-189-31043a8a5c1f>\"\u001b[0;36m, line \u001b[0;32m1\u001b[0m\n\u001b[0;31m    covid_fukuoka.apply(lambda x: f'{x['公表_年月日']}に{x['居住地']}', axis=1)\u001b[0m\n\u001b[0m                                             ^\u001b[0m\n\u001b[0;31mSyntaxError\u001b[0m\u001b[0;31m:\u001b[0m invalid syntax\n"
          ]
        }
      ]
    },
    {
      "cell_type": "code",
      "metadata": {
        "id": "FMzQ04ApKg3U",
        "colab_type": "code",
        "colab": {
          "base_uri": "https://localhost:8080/",
          "height": 235
        },
        "outputId": "9ab54fe2-d565-4ff3-c6e5-22a2ed3d3030"
      },
      "source": [
        "。ぉｃcovid_fukuoka['公表_年月日']"
      ],
      "execution_count": null,
      "outputs": [
        {
          "output_type": "execute_result",
          "data": {
            "text/plain": [
              "0       2020/2/20\n",
              "1       2020/2/20\n",
              "2       2020/3/17\n",
              "3       2020/3/24\n",
              "4       2020/3/26\n",
              "          ...    \n",
              "1975    2020/8/14\n",
              "1976    2020/8/14\n",
              "1977    2020/8/14\n",
              "1978    2020/8/14\n",
              "1979    2020/8/14\n",
              "Name: 公表_年月日, Length: 1980, dtype: object"
            ]
          },
          "metadata": {
            "tags": []
          },
          "execution_count": 176
        }
      ]
    },
    {
      "cell_type": "code",
      "metadata": {
        "id": "bHzVdAigKpti",
        "colab_type": "code",
        "colab": {}
      },
      "source": [
        ""
      ],
      "execution_count": null,
      "outputs": []
    }
  ]
}